{
 "cells": [
  {
   "cell_type": "code",
   "execution_count": 36,
   "metadata": {
    "collapsed": true
   },
   "outputs": [],
   "source": [
    "import pandas as pd\n",
    "import numpy as np"
   ]
  },
  {
   "cell_type": "code",
   "execution_count": 37,
   "metadata": {
    "collapsed": false
   },
   "outputs": [],
   "source": [
    "data = pd.read_csv('../Final_Data/stdToU.csv')"
   ]
  },
  {
   "cell_type": "code",
   "execution_count": 38,
   "metadata": {
    "collapsed": false
   },
   "outputs": [
    {
     "data": {
      "text/html": [
       "<div>\n",
       "<table border=\"1\" class=\"dataframe\">\n",
       "  <thead>\n",
       "    <tr style=\"text-align: right;\">\n",
       "      <th></th>\n",
       "      <th>DateTime</th>\n",
       "      <th>concat</th>\n",
       "      <th>energy</th>\n",
       "    </tr>\n",
       "  </thead>\n",
       "  <tbody>\n",
       "    <tr>\n",
       "      <th>0</th>\n",
       "      <td>2012-01-01 01:00:00</td>\n",
       "      <td>AdversityStd</td>\n",
       "      <td>0.613391</td>\n",
       "    </tr>\n",
       "    <tr>\n",
       "      <th>1</th>\n",
       "      <td>2012-01-01 01:00:00</td>\n",
       "      <td>AdversityToU</td>\n",
       "      <td>0.638933</td>\n",
       "    </tr>\n",
       "    <tr>\n",
       "      <th>2</th>\n",
       "      <td>2012-01-01 01:00:00</td>\n",
       "      <td>AffluentStd</td>\n",
       "      <td>0.664042</td>\n",
       "    </tr>\n",
       "    <tr>\n",
       "      <th>3</th>\n",
       "      <td>2012-01-01 01:00:00</td>\n",
       "      <td>AffluentToU</td>\n",
       "      <td>0.450208</td>\n",
       "    </tr>\n",
       "    <tr>\n",
       "      <th>4</th>\n",
       "      <td>2012-01-01 01:00:00</td>\n",
       "      <td>ComfortableStd</td>\n",
       "      <td>0.355763</td>\n",
       "    </tr>\n",
       "  </tbody>\n",
       "</table>\n",
       "</div>"
      ],
      "text/plain": [
       "              DateTime          concat    energy\n",
       "0  2012-01-01 01:00:00    AdversityStd  0.613391\n",
       "1  2012-01-01 01:00:00    AdversityToU  0.638933\n",
       "2  2012-01-01 01:00:00     AffluentStd  0.664042\n",
       "3  2012-01-01 01:00:00     AffluentToU  0.450208\n",
       "4  2012-01-01 01:00:00  ComfortableStd  0.355763"
      ]
     },
     "execution_count": 38,
     "metadata": {},
     "output_type": "execute_result"
    }
   ],
   "source": [
    "data.head()"
   ]
  },
  {
   "cell_type": "code",
   "execution_count": 4,
   "metadata": {
    "collapsed": true
   },
   "outputs": [],
   "source": [
    "list_of_interest = ['Adversity', 'Affluent', 'Comfortable']"
   ]
  },
  {
   "cell_type": "code",
   "execution_count": 5,
   "metadata": {
    "collapsed": false
   },
   "outputs": [
    {
     "data": {
      "text/plain": [
       "631093"
      ]
     },
     "execution_count": 5,
     "metadata": {},
     "output_type": "execute_result"
    }
   ],
   "source": [
    "len(data)"
   ]
  },
  {
   "cell_type": "code",
   "execution_count": 6,
   "metadata": {
    "collapsed": false
   },
   "outputs": [],
   "source": [
    "# selecting only Acorns of interest - dropping incomplete data\n",
    "data = data[data['Acorn_grouped'].isin(list_of_interest)]"
   ]
  },
  {
   "cell_type": "code",
   "execution_count": 7,
   "metadata": {
    "collapsed": false
   },
   "outputs": [
    {
     "data": {
      "text/plain": [
       "584070"
      ]
     },
     "execution_count": 7,
     "metadata": {},
     "output_type": "execute_result"
    }
   ],
   "source": [
    "len(data)"
   ]
  },
  {
   "cell_type": "code",
   "execution_count": 8,
   "metadata": {
    "collapsed": false
   },
   "outputs": [
    {
     "data": {
      "text/html": [
       "<div>\n",
       "<table border=\"1\" class=\"dataframe\">\n",
       "  <thead>\n",
       "    <tr style=\"text-align: right;\">\n",
       "      <th></th>\n",
       "      <th>DateTime</th>\n",
       "      <th>Acorn</th>\n",
       "      <th>Acorn_grouped</th>\n",
       "      <th>stdorToU</th>\n",
       "      <th>KWH/hh (per half hour)</th>\n",
       "      <th>LCLid</th>\n",
       "    </tr>\n",
       "  </thead>\n",
       "  <tbody>\n",
       "    <tr>\n",
       "      <th>0</th>\n",
       "      <td>2012-01-01 00:00:00</td>\n",
       "      <td>ACORN-A</td>\n",
       "      <td>Affluent</td>\n",
       "      <td>Std</td>\n",
       "      <td>0.495875</td>\n",
       "      <td>8</td>\n",
       "    </tr>\n",
       "    <tr>\n",
       "      <th>1</th>\n",
       "      <td>2012-01-01 00:00:00</td>\n",
       "      <td>ACORN-A</td>\n",
       "      <td>Affluent</td>\n",
       "      <td>ToU</td>\n",
       "      <td>0.279000</td>\n",
       "      <td>1</td>\n",
       "    </tr>\n",
       "    <tr>\n",
       "      <th>2</th>\n",
       "      <td>2012-01-01 00:00:00</td>\n",
       "      <td>ACORN-B</td>\n",
       "      <td>Affluent</td>\n",
       "      <td>Std</td>\n",
       "      <td>0.156000</td>\n",
       "      <td>1</td>\n",
       "    </tr>\n",
       "    <tr>\n",
       "      <th>3</th>\n",
       "      <td>2012-01-01 00:00:00</td>\n",
       "      <td>ACORN-C</td>\n",
       "      <td>Affluent</td>\n",
       "      <td>Std</td>\n",
       "      <td>0.264400</td>\n",
       "      <td>5</td>\n",
       "    </tr>\n",
       "    <tr>\n",
       "      <th>4</th>\n",
       "      <td>2012-01-01 00:00:00</td>\n",
       "      <td>ACORN-C</td>\n",
       "      <td>Affluent</td>\n",
       "      <td>ToU</td>\n",
       "      <td>0.349000</td>\n",
       "      <td>2</td>\n",
       "    </tr>\n",
       "  </tbody>\n",
       "</table>\n",
       "</div>"
      ],
      "text/plain": [
       "              DateTime    Acorn Acorn_grouped stdorToU  \\\n",
       "0  2012-01-01 00:00:00  ACORN-A      Affluent      Std   \n",
       "1  2012-01-01 00:00:00  ACORN-A      Affluent      ToU   \n",
       "2  2012-01-01 00:00:00  ACORN-B      Affluent      Std   \n",
       "3  2012-01-01 00:00:00  ACORN-C      Affluent      Std   \n",
       "4  2012-01-01 00:00:00  ACORN-C      Affluent      ToU   \n",
       "\n",
       "   KWH/hh (per half hour)   LCLid  \n",
       "0                 0.495875      8  \n",
       "1                 0.279000      1  \n",
       "2                 0.156000      1  \n",
       "3                 0.264400      5  \n",
       "4                 0.349000      2  "
      ]
     },
     "execution_count": 8,
     "metadata": {},
     "output_type": "execute_result"
    }
   ],
   "source": [
    "data.head()"
   ]
  },
  {
   "cell_type": "code",
   "execution_count": 9,
   "metadata": {
    "collapsed": false
   },
   "outputs": [],
   "source": [
    "data.drop(['stdorToU'], axis=1, inplace=True)\n",
    "data.drop(['Acorn'], axis=1, inplace=True)"
   ]
  },
  {
   "cell_type": "code",
   "execution_count": 10,
   "metadata": {
    "collapsed": false
   },
   "outputs": [
    {
     "data": {
      "text/html": [
       "<div>\n",
       "<table border=\"1\" class=\"dataframe\">\n",
       "  <thead>\n",
       "    <tr style=\"text-align: right;\">\n",
       "      <th></th>\n",
       "      <th>DateTime</th>\n",
       "      <th>Acorn_grouped</th>\n",
       "      <th>KWH/hh (per half hour)</th>\n",
       "      <th>LCLid</th>\n",
       "    </tr>\n",
       "  </thead>\n",
       "  <tbody>\n",
       "    <tr>\n",
       "      <th>0</th>\n",
       "      <td>2012-01-01 00:00:00</td>\n",
       "      <td>Affluent</td>\n",
       "      <td>0.495875</td>\n",
       "      <td>8</td>\n",
       "    </tr>\n",
       "    <tr>\n",
       "      <th>1</th>\n",
       "      <td>2012-01-01 00:00:00</td>\n",
       "      <td>Affluent</td>\n",
       "      <td>0.279000</td>\n",
       "      <td>1</td>\n",
       "    </tr>\n",
       "    <tr>\n",
       "      <th>2</th>\n",
       "      <td>2012-01-01 00:00:00</td>\n",
       "      <td>Affluent</td>\n",
       "      <td>0.156000</td>\n",
       "      <td>1</td>\n",
       "    </tr>\n",
       "    <tr>\n",
       "      <th>3</th>\n",
       "      <td>2012-01-01 00:00:00</td>\n",
       "      <td>Affluent</td>\n",
       "      <td>0.264400</td>\n",
       "      <td>5</td>\n",
       "    </tr>\n",
       "    <tr>\n",
       "      <th>4</th>\n",
       "      <td>2012-01-01 00:00:00</td>\n",
       "      <td>Affluent</td>\n",
       "      <td>0.349000</td>\n",
       "      <td>2</td>\n",
       "    </tr>\n",
       "  </tbody>\n",
       "</table>\n",
       "</div>"
      ],
      "text/plain": [
       "              DateTime Acorn_grouped  KWH/hh (per half hour)   LCLid\n",
       "0  2012-01-01 00:00:00      Affluent                 0.495875      8\n",
       "1  2012-01-01 00:00:00      Affluent                 0.279000      1\n",
       "2  2012-01-01 00:00:00      Affluent                 0.156000      1\n",
       "3  2012-01-01 00:00:00      Affluent                 0.264400      5\n",
       "4  2012-01-01 00:00:00      Affluent                 0.349000      2"
      ]
     },
     "execution_count": 10,
     "metadata": {},
     "output_type": "execute_result"
    }
   ],
   "source": [
    "data.head()"
   ]
  },
  {
   "cell_type": "code",
   "execution_count": 11,
   "metadata": {
    "collapsed": false
   },
   "outputs": [],
   "source": [
    "data['energy_sum'] = data['KWH/hh (per half hour) ']*data.LCLid"
   ]
  },
  {
   "cell_type": "code",
   "execution_count": 12,
   "metadata": {
    "collapsed": false
   },
   "outputs": [
    {
     "data": {
      "text/html": [
       "<div>\n",
       "<table border=\"1\" class=\"dataframe\">\n",
       "  <thead>\n",
       "    <tr style=\"text-align: right;\">\n",
       "      <th></th>\n",
       "      <th>DateTime</th>\n",
       "      <th>Acorn_grouped</th>\n",
       "      <th>KWH/hh (per half hour)</th>\n",
       "      <th>LCLid</th>\n",
       "      <th>energy_sum</th>\n",
       "    </tr>\n",
       "  </thead>\n",
       "  <tbody>\n",
       "    <tr>\n",
       "      <th>0</th>\n",
       "      <td>2012-01-01 00:00:00</td>\n",
       "      <td>Affluent</td>\n",
       "      <td>0.495875</td>\n",
       "      <td>8</td>\n",
       "      <td>3.967</td>\n",
       "    </tr>\n",
       "    <tr>\n",
       "      <th>1</th>\n",
       "      <td>2012-01-01 00:00:00</td>\n",
       "      <td>Affluent</td>\n",
       "      <td>0.279000</td>\n",
       "      <td>1</td>\n",
       "      <td>0.279</td>\n",
       "    </tr>\n",
       "    <tr>\n",
       "      <th>2</th>\n",
       "      <td>2012-01-01 00:00:00</td>\n",
       "      <td>Affluent</td>\n",
       "      <td>0.156000</td>\n",
       "      <td>1</td>\n",
       "      <td>0.156</td>\n",
       "    </tr>\n",
       "    <tr>\n",
       "      <th>3</th>\n",
       "      <td>2012-01-01 00:00:00</td>\n",
       "      <td>Affluent</td>\n",
       "      <td>0.264400</td>\n",
       "      <td>5</td>\n",
       "      <td>1.322</td>\n",
       "    </tr>\n",
       "    <tr>\n",
       "      <th>4</th>\n",
       "      <td>2012-01-01 00:00:00</td>\n",
       "      <td>Affluent</td>\n",
       "      <td>0.349000</td>\n",
       "      <td>2</td>\n",
       "      <td>0.698</td>\n",
       "    </tr>\n",
       "    <tr>\n",
       "      <th>5</th>\n",
       "      <td>2012-01-01 00:00:00</td>\n",
       "      <td>Affluent</td>\n",
       "      <td>0.303333</td>\n",
       "      <td>12</td>\n",
       "      <td>3.640</td>\n",
       "    </tr>\n",
       "  </tbody>\n",
       "</table>\n",
       "</div>"
      ],
      "text/plain": [
       "              DateTime Acorn_grouped  KWH/hh (per half hour)   LCLid  \\\n",
       "0  2012-01-01 00:00:00      Affluent                 0.495875      8   \n",
       "1  2012-01-01 00:00:00      Affluent                 0.279000      1   \n",
       "2  2012-01-01 00:00:00      Affluent                 0.156000      1   \n",
       "3  2012-01-01 00:00:00      Affluent                 0.264400      5   \n",
       "4  2012-01-01 00:00:00      Affluent                 0.349000      2   \n",
       "5  2012-01-01 00:00:00      Affluent                 0.303333     12   \n",
       "\n",
       "   energy_sum  \n",
       "0       3.967  \n",
       "1       0.279  \n",
       "2       0.156  \n",
       "3       1.322  \n",
       "4       0.698  \n",
       "5       3.640  "
      ]
     },
     "execution_count": 12,
     "metadata": {},
     "output_type": "execute_result"
    }
   ],
   "source": [
    "data.head(6)"
   ]
  },
  {
   "cell_type": "code",
   "execution_count": 13,
   "metadata": {
    "collapsed": false,
    "scrolled": true
   },
   "outputs": [],
   "source": [
    "data = data.groupby(['DateTime', 'Acorn_grouped']).sum()"
   ]
  },
  {
   "cell_type": "code",
   "execution_count": 14,
   "metadata": {
    "collapsed": false
   },
   "outputs": [
    {
     "data": {
      "text/html": [
       "<div>\n",
       "<table border=\"1\" class=\"dataframe\">\n",
       "  <thead>\n",
       "    <tr style=\"text-align: right;\">\n",
       "      <th></th>\n",
       "      <th></th>\n",
       "      <th>KWH/hh (per half hour)</th>\n",
       "      <th>LCLid</th>\n",
       "      <th>energy_sum</th>\n",
       "    </tr>\n",
       "    <tr>\n",
       "      <th>DateTime</th>\n",
       "      <th>Acorn_grouped</th>\n",
       "      <th></th>\n",
       "      <th></th>\n",
       "      <th></th>\n",
       "    </tr>\n",
       "  </thead>\n",
       "  <tbody>\n",
       "    <tr>\n",
       "      <th rowspan=\"3\" valign=\"top\">2012-01-01 00:00:00</th>\n",
       "      <th>Adversity</th>\n",
       "      <td>2.694950</td>\n",
       "      <td>125</td>\n",
       "      <td>27.649</td>\n",
       "    </tr>\n",
       "    <tr>\n",
       "      <th>Affluent</th>\n",
       "      <td>2.533452</td>\n",
       "      <td>167</td>\n",
       "      <td>44.768</td>\n",
       "    </tr>\n",
       "    <tr>\n",
       "      <th>Comfortable</th>\n",
       "      <td>1.362500</td>\n",
       "      <td>114</td>\n",
       "      <td>21.673</td>\n",
       "    </tr>\n",
       "    <tr>\n",
       "      <th rowspan=\"3\" valign=\"top\">2012-01-01 00:30:00</th>\n",
       "      <th>Adversity</th>\n",
       "      <td>2.974071</td>\n",
       "      <td>125</td>\n",
       "      <td>38.899</td>\n",
       "    </tr>\n",
       "    <tr>\n",
       "      <th>Affluent</th>\n",
       "      <td>2.447163</td>\n",
       "      <td>167</td>\n",
       "      <td>54.007</td>\n",
       "    </tr>\n",
       "    <tr>\n",
       "      <th>Comfortable</th>\n",
       "      <td>1.277858</td>\n",
       "      <td>114</td>\n",
       "      <td>21.404</td>\n",
       "    </tr>\n",
       "    <tr>\n",
       "      <th rowspan=\"3\" valign=\"top\">2012-01-01 01:00:00</th>\n",
       "      <th>Adversity</th>\n",
       "      <td>2.780854</td>\n",
       "      <td>125</td>\n",
       "      <td>38.158</td>\n",
       "    </tr>\n",
       "    <tr>\n",
       "      <th>Affluent</th>\n",
       "      <td>2.583056</td>\n",
       "      <td>167</td>\n",
       "      <td>51.756</td>\n",
       "    </tr>\n",
       "    <tr>\n",
       "      <th>Comfortable</th>\n",
       "      <td>1.131872</td>\n",
       "      <td>114</td>\n",
       "      <td>19.117</td>\n",
       "    </tr>\n",
       "    <tr>\n",
       "      <th rowspan=\"3\" valign=\"top\">2012-01-01 01:30:00</th>\n",
       "      <th>Adversity</th>\n",
       "      <td>2.217324</td>\n",
       "      <td>125</td>\n",
       "      <td>30.728</td>\n",
       "    </tr>\n",
       "    <tr>\n",
       "      <th>Affluent</th>\n",
       "      <td>2.198471</td>\n",
       "      <td>167</td>\n",
       "      <td>48.548</td>\n",
       "    </tr>\n",
       "    <tr>\n",
       "      <th>Comfortable</th>\n",
       "      <td>1.046396</td>\n",
       "      <td>114</td>\n",
       "      <td>17.564</td>\n",
       "    </tr>\n",
       "  </tbody>\n",
       "</table>\n",
       "</div>"
      ],
      "text/plain": [
       "                                   KWH/hh (per half hour)   LCLid  energy_sum\n",
       "DateTime            Acorn_grouped                                            \n",
       "2012-01-01 00:00:00 Adversity                     2.694950    125      27.649\n",
       "                    Affluent                      2.533452    167      44.768\n",
       "                    Comfortable                   1.362500    114      21.673\n",
       "2012-01-01 00:30:00 Adversity                     2.974071    125      38.899\n",
       "                    Affluent                      2.447163    167      54.007\n",
       "                    Comfortable                   1.277858    114      21.404\n",
       "2012-01-01 01:00:00 Adversity                     2.780854    125      38.158\n",
       "                    Affluent                      2.583056    167      51.756\n",
       "                    Comfortable                   1.131872    114      19.117\n",
       "2012-01-01 01:30:00 Adversity                     2.217324    125      30.728\n",
       "                    Affluent                      2.198471    167      48.548\n",
       "                    Comfortable                   1.046396    114      17.564"
      ]
     },
     "execution_count": 14,
     "metadata": {},
     "output_type": "execute_result"
    }
   ],
   "source": [
    "data.head(12)"
   ]
  },
  {
   "cell_type": "code",
   "execution_count": 15,
   "metadata": {
    "collapsed": true
   },
   "outputs": [],
   "source": [
    "data['KWH/hh (per half hour) '] = data.energy_sum / data.LCLid"
   ]
  },
  {
   "cell_type": "code",
   "execution_count": 16,
   "metadata": {
    "collapsed": false
   },
   "outputs": [
    {
     "data": {
      "text/html": [
       "<div>\n",
       "<table border=\"1\" class=\"dataframe\">\n",
       "  <thead>\n",
       "    <tr style=\"text-align: right;\">\n",
       "      <th></th>\n",
       "      <th></th>\n",
       "      <th>KWH/hh (per half hour)</th>\n",
       "      <th>LCLid</th>\n",
       "      <th>energy_sum</th>\n",
       "    </tr>\n",
       "    <tr>\n",
       "      <th>DateTime</th>\n",
       "      <th>Acorn_grouped</th>\n",
       "      <th></th>\n",
       "      <th></th>\n",
       "      <th></th>\n",
       "    </tr>\n",
       "  </thead>\n",
       "  <tbody>\n",
       "    <tr>\n",
       "      <th rowspan=\"3\" valign=\"top\">2012-01-01 00:00:00</th>\n",
       "      <th>Adversity</th>\n",
       "      <td>0.221192</td>\n",
       "      <td>125</td>\n",
       "      <td>27.649</td>\n",
       "    </tr>\n",
       "    <tr>\n",
       "      <th>Affluent</th>\n",
       "      <td>0.268072</td>\n",
       "      <td>167</td>\n",
       "      <td>44.768</td>\n",
       "    </tr>\n",
       "    <tr>\n",
       "      <th>Comfortable</th>\n",
       "      <td>0.190114</td>\n",
       "      <td>114</td>\n",
       "      <td>21.673</td>\n",
       "    </tr>\n",
       "    <tr>\n",
       "      <th rowspan=\"3\" valign=\"top\">2012-01-01 00:30:00</th>\n",
       "      <th>Adversity</th>\n",
       "      <td>0.311192</td>\n",
       "      <td>125</td>\n",
       "      <td>38.899</td>\n",
       "    </tr>\n",
       "    <tr>\n",
       "      <th>Affluent</th>\n",
       "      <td>0.323395</td>\n",
       "      <td>167</td>\n",
       "      <td>54.007</td>\n",
       "    </tr>\n",
       "    <tr>\n",
       "      <th>Comfortable</th>\n",
       "      <td>0.187754</td>\n",
       "      <td>114</td>\n",
       "      <td>21.404</td>\n",
       "    </tr>\n",
       "    <tr>\n",
       "      <th rowspan=\"3\" valign=\"top\">2012-01-01 01:00:00</th>\n",
       "      <th>Adversity</th>\n",
       "      <td>0.305264</td>\n",
       "      <td>125</td>\n",
       "      <td>38.158</td>\n",
       "    </tr>\n",
       "    <tr>\n",
       "      <th>Affluent</th>\n",
       "      <td>0.309916</td>\n",
       "      <td>167</td>\n",
       "      <td>51.756</td>\n",
       "    </tr>\n",
       "    <tr>\n",
       "      <th>Comfortable</th>\n",
       "      <td>0.167693</td>\n",
       "      <td>114</td>\n",
       "      <td>19.117</td>\n",
       "    </tr>\n",
       "    <tr>\n",
       "      <th rowspan=\"3\" valign=\"top\">2012-01-01 01:30:00</th>\n",
       "      <th>Adversity</th>\n",
       "      <td>0.245824</td>\n",
       "      <td>125</td>\n",
       "      <td>30.728</td>\n",
       "    </tr>\n",
       "    <tr>\n",
       "      <th>Affluent</th>\n",
       "      <td>0.290707</td>\n",
       "      <td>167</td>\n",
       "      <td>48.548</td>\n",
       "    </tr>\n",
       "    <tr>\n",
       "      <th>Comfortable</th>\n",
       "      <td>0.154070</td>\n",
       "      <td>114</td>\n",
       "      <td>17.564</td>\n",
       "    </tr>\n",
       "  </tbody>\n",
       "</table>\n",
       "</div>"
      ],
      "text/plain": [
       "                                   KWH/hh (per half hour)   LCLid  energy_sum\n",
       "DateTime            Acorn_grouped                                            \n",
       "2012-01-01 00:00:00 Adversity                     0.221192    125      27.649\n",
       "                    Affluent                      0.268072    167      44.768\n",
       "                    Comfortable                   0.190114    114      21.673\n",
       "2012-01-01 00:30:00 Adversity                     0.311192    125      38.899\n",
       "                    Affluent                      0.323395    167      54.007\n",
       "                    Comfortable                   0.187754    114      21.404\n",
       "2012-01-01 01:00:00 Adversity                     0.305264    125      38.158\n",
       "                    Affluent                      0.309916    167      51.756\n",
       "                    Comfortable                   0.167693    114      19.117\n",
       "2012-01-01 01:30:00 Adversity                     0.245824    125      30.728\n",
       "                    Affluent                      0.290707    167      48.548\n",
       "                    Comfortable                   0.154070    114      17.564"
      ]
     },
     "execution_count": 16,
     "metadata": {},
     "output_type": "execute_result"
    }
   ],
   "source": [
    "data.head(12)"
   ]
  },
  {
   "cell_type": "code",
   "execution_count": null,
   "metadata": {
    "collapsed": true
   },
   "outputs": [],
   "source": []
  },
  {
   "cell_type": "code",
   "execution_count": 222,
   "metadata": {
    "collapsed": false
   },
   "outputs": [
    {
     "data": {
      "text/html": [
       "<div>\n",
       "<table border=\"1\" class=\"dataframe\">\n",
       "  <thead>\n",
       "    <tr style=\"text-align: right;\">\n",
       "      <th></th>\n",
       "      <th></th>\n",
       "      <th>KWH/hh (per half hour)</th>\n",
       "    </tr>\n",
       "    <tr>\n",
       "      <th>DateTime</th>\n",
       "      <th>Acorn_grouped</th>\n",
       "      <th></th>\n",
       "    </tr>\n",
       "  </thead>\n",
       "  <tbody>\n",
       "    <tr>\n",
       "      <th rowspan=\"3\" valign=\"top\">2013-01-01 00:00:00</th>\n",
       "      <th>Adversity</th>\n",
       "      <td>0.214885</td>\n",
       "    </tr>\n",
       "    <tr>\n",
       "      <th>Affluent</th>\n",
       "      <td>0.284734</td>\n",
       "    </tr>\n",
       "    <tr>\n",
       "      <th>Comfortable</th>\n",
       "      <td>0.244850</td>\n",
       "    </tr>\n",
       "    <tr>\n",
       "      <th rowspan=\"2\" valign=\"top\">2013-01-01 00:30:00</th>\n",
       "      <th>Adversity</th>\n",
       "      <td>0.203020</td>\n",
       "    </tr>\n",
       "    <tr>\n",
       "      <th>Affluent</th>\n",
       "      <td>0.260838</td>\n",
       "    </tr>\n",
       "  </tbody>\n",
       "</table>\n",
       "</div>"
      ],
      "text/plain": [
       "                                   KWH/hh (per half hour) \n",
       "DateTime            Acorn_grouped                         \n",
       "2013-01-01 00:00:00 Adversity                     0.214885\n",
       "                    Affluent                      0.284734\n",
       "                    Comfortable                   0.244850\n",
       "2013-01-01 00:30:00 Adversity                     0.203020\n",
       "                    Affluent                      0.260838"
      ]
     },
     "execution_count": 222,
     "metadata": {},
     "output_type": "execute_result"
    }
   ],
   "source": [
    "\"\"\"# Define a lambda function to compute the weighted mean:\n",
    "wm = lambda x: np.average(x, weights=data.loc[x.index, \"LCLid\"])\n",
    "\n",
    "# Define a dictionary with the functions to apply for a given column:\n",
    "f = {'KWH/hh (per half hour) ': wm}\n",
    "\n",
    "# Groupby and aggregate with your dictionary:\n",
    "data = data.groupby([\"DateTime\", \"Acorn_grouped\"]).agg(f)\n",
    "\n",
    "data.head()\n",
    "\n",
    "#grouped_nrg_1314.groupby('Acorn_grouped').aggregate?\"\"\""
   ]
  },
  {
   "cell_type": "code",
   "execution_count": 17,
   "metadata": {
    "collapsed": false
   },
   "outputs": [
    {
     "data": {
      "text/plain": [
       "52560"
      ]
     },
     "execution_count": 17,
     "metadata": {},
     "output_type": "execute_result"
    }
   ],
   "source": [
    "len(data)"
   ]
  },
  {
   "cell_type": "code",
   "execution_count": null,
   "metadata": {
    "collapsed": true
   },
   "outputs": [],
   "source": []
  },
  {
   "cell_type": "code",
   "execution_count": null,
   "metadata": {
    "collapsed": true
   },
   "outputs": [],
   "source": []
  },
  {
   "cell_type": "code",
   "execution_count": null,
   "metadata": {
    "collapsed": true
   },
   "outputs": [],
   "source": []
  },
  {
   "cell_type": "code",
   "execution_count": 17,
   "metadata": {
    "collapsed": false
   },
   "outputs": [
    {
     "name": "stderr",
     "output_type": "stream",
     "text": [
      "/opt/rh/anaconda/root/envs/PUI2016_Python2/lib/python2.7/site-packages/ipykernel/__main__.py:4: SettingWithCopyWarning: \n",
      "A value is trying to be set on a copy of a slice from a DataFrame\n",
      "\n",
      "See the caveats in the documentation: http://pandas.pydata.org/pandas-docs/stable/indexing.html#indexing-view-versus-copy\n"
     ]
    }
   ],
   "source": [
    "for n,i in enumerate(data.index):\n",
    "    if i[0][-5:-3] == '30':\n",
    "        if len(data) - n > 3:\n",
    "            data.energy_sum[n+3] = data.energy_sum[n+3] + data.energy_sum[n]"
   ]
  },
  {
   "cell_type": "code",
   "execution_count": 20,
   "metadata": {
    "collapsed": false
   },
   "outputs": [
    {
     "data": {
      "text/html": [
       "<div>\n",
       "<table border=\"1\" class=\"dataframe\">\n",
       "  <thead>\n",
       "    <tr style=\"text-align: right;\">\n",
       "      <th></th>\n",
       "      <th></th>\n",
       "      <th>KWH/hh (per half hour)</th>\n",
       "      <th>LCLid</th>\n",
       "      <th>energy_sum</th>\n",
       "    </tr>\n",
       "    <tr>\n",
       "      <th>DateTime</th>\n",
       "      <th>Acorn_grouped</th>\n",
       "      <th></th>\n",
       "      <th></th>\n",
       "      <th></th>\n",
       "    </tr>\n",
       "  </thead>\n",
       "  <tbody>\n",
       "    <tr>\n",
       "      <th rowspan=\"3\" valign=\"top\">2012-01-01 00:00:00</th>\n",
       "      <th>Adversity</th>\n",
       "      <td>0.221192</td>\n",
       "      <td>125</td>\n",
       "      <td>27.649</td>\n",
       "    </tr>\n",
       "    <tr>\n",
       "      <th>Affluent</th>\n",
       "      <td>0.268072</td>\n",
       "      <td>167</td>\n",
       "      <td>44.768</td>\n",
       "    </tr>\n",
       "    <tr>\n",
       "      <th>Comfortable</th>\n",
       "      <td>0.190114</td>\n",
       "      <td>114</td>\n",
       "      <td>21.673</td>\n",
       "    </tr>\n",
       "    <tr>\n",
       "      <th rowspan=\"3\" valign=\"top\">2012-01-01 01:00:00</th>\n",
       "      <th>Adversity</th>\n",
       "      <td>0.305264</td>\n",
       "      <td>125</td>\n",
       "      <td>77.057</td>\n",
       "    </tr>\n",
       "    <tr>\n",
       "      <th>Affluent</th>\n",
       "      <td>0.309916</td>\n",
       "      <td>167</td>\n",
       "      <td>105.763</td>\n",
       "    </tr>\n",
       "    <tr>\n",
       "      <th>Comfortable</th>\n",
       "      <td>0.167693</td>\n",
       "      <td>114</td>\n",
       "      <td>40.521</td>\n",
       "    </tr>\n",
       "    <tr>\n",
       "      <th rowspan=\"3\" valign=\"top\">2012-01-01 02:00:00</th>\n",
       "      <th>Adversity</th>\n",
       "      <td>0.238152</td>\n",
       "      <td>125</td>\n",
       "      <td>60.497</td>\n",
       "    </tr>\n",
       "    <tr>\n",
       "      <th>Affluent</th>\n",
       "      <td>0.279329</td>\n",
       "      <td>167</td>\n",
       "      <td>95.196</td>\n",
       "    </tr>\n",
       "    <tr>\n",
       "      <th>Comfortable</th>\n",
       "      <td>0.142535</td>\n",
       "      <td>114</td>\n",
       "      <td>33.813</td>\n",
       "    </tr>\n",
       "    <tr>\n",
       "      <th rowspan=\"3\" valign=\"top\">2012-01-01 03:00:00</th>\n",
       "      <th>Adversity</th>\n",
       "      <td>0.190544</td>\n",
       "      <td>125</td>\n",
       "      <td>46.952</td>\n",
       "    </tr>\n",
       "    <tr>\n",
       "      <th>Affluent</th>\n",
       "      <td>0.234156</td>\n",
       "      <td>167</td>\n",
       "      <td>81.666</td>\n",
       "    </tr>\n",
       "    <tr>\n",
       "      <th>Comfortable</th>\n",
       "      <td>0.127930</td>\n",
       "      <td>114</td>\n",
       "      <td>26.930</td>\n",
       "    </tr>\n",
       "    <tr>\n",
       "      <th rowspan=\"3\" valign=\"top\">2012-01-01 04:00:00</th>\n",
       "      <th>Adversity</th>\n",
       "      <td>0.151424</td>\n",
       "      <td>125</td>\n",
       "      <td>40.617</td>\n",
       "    </tr>\n",
       "    <tr>\n",
       "      <th>Affluent</th>\n",
       "      <td>0.169838</td>\n",
       "      <td>167</td>\n",
       "      <td>62.927</td>\n",
       "    </tr>\n",
       "    <tr>\n",
       "      <th>Comfortable</th>\n",
       "      <td>0.095947</td>\n",
       "      <td>114</td>\n",
       "      <td>23.490</td>\n",
       "    </tr>\n",
       "    <tr>\n",
       "      <th rowspan=\"3\" valign=\"top\">2012-01-01 05:00:00</th>\n",
       "      <th>Adversity</th>\n",
       "      <td>0.137624</td>\n",
       "      <td>125</td>\n",
       "      <td>36.783</td>\n",
       "    </tr>\n",
       "    <tr>\n",
       "      <th>Affluent</th>\n",
       "      <td>0.166144</td>\n",
       "      <td>167</td>\n",
       "      <td>54.702</td>\n",
       "    </tr>\n",
       "    <tr>\n",
       "      <th>Comfortable</th>\n",
       "      <td>0.090105</td>\n",
       "      <td>114</td>\n",
       "      <td>20.522</td>\n",
       "    </tr>\n",
       "    <tr>\n",
       "      <th rowspan=\"3\" valign=\"top\">2012-01-01 06:00:00</th>\n",
       "      <th>Adversity</th>\n",
       "      <td>0.140904</td>\n",
       "      <td>125</td>\n",
       "      <td>35.577</td>\n",
       "    </tr>\n",
       "    <tr>\n",
       "      <th>Affluent</th>\n",
       "      <td>0.159617</td>\n",
       "      <td>167</td>\n",
       "      <td>54.234</td>\n",
       "    </tr>\n",
       "    <tr>\n",
       "      <th>Comfortable</th>\n",
       "      <td>0.114307</td>\n",
       "      <td>114</td>\n",
       "      <td>24.985</td>\n",
       "    </tr>\n",
       "    <tr>\n",
       "      <th rowspan=\"3\" valign=\"top\">2012-01-01 07:00:00</th>\n",
       "      <th>Adversity</th>\n",
       "      <td>0.153856</td>\n",
       "      <td>125</td>\n",
       "      <td>36.302</td>\n",
       "    </tr>\n",
       "    <tr>\n",
       "      <th>Affluent</th>\n",
       "      <td>0.199078</td>\n",
       "      <td>167</td>\n",
       "      <td>63.913</td>\n",
       "    </tr>\n",
       "    <tr>\n",
       "      <th>Comfortable</th>\n",
       "      <td>0.129070</td>\n",
       "      <td>114</td>\n",
       "      <td>28.757</td>\n",
       "    </tr>\n",
       "    <tr>\n",
       "      <th rowspan=\"3\" valign=\"top\">2012-01-01 08:00:00</th>\n",
       "      <th>Adversity</th>\n",
       "      <td>0.156680</td>\n",
       "      <td>125</td>\n",
       "      <td>38.785</td>\n",
       "    </tr>\n",
       "    <tr>\n",
       "      <th>Affluent</th>\n",
       "      <td>0.147754</td>\n",
       "      <td>167</td>\n",
       "      <td>52.053</td>\n",
       "    </tr>\n",
       "    <tr>\n",
       "      <th>Comfortable</th>\n",
       "      <td>0.151623</td>\n",
       "      <td>114</td>\n",
       "      <td>33.312</td>\n",
       "    </tr>\n",
       "    <tr>\n",
       "      <th rowspan=\"3\" valign=\"top\">2012-01-01 09:00:00</th>\n",
       "      <th>Adversity</th>\n",
       "      <td>0.185128</td>\n",
       "      <td>125</td>\n",
       "      <td>46.543</td>\n",
       "    </tr>\n",
       "    <tr>\n",
       "      <th>Affluent</th>\n",
       "      <td>0.170311</td>\n",
       "      <td>167</td>\n",
       "      <td>56.224</td>\n",
       "    </tr>\n",
       "    <tr>\n",
       "      <th>Comfortable</th>\n",
       "      <td>0.204377</td>\n",
       "      <td>114</td>\n",
       "      <td>42.492</td>\n",
       "    </tr>\n",
       "    <tr>\n",
       "      <th rowspan=\"2\" valign=\"top\">2012-01-01 10:00:00</th>\n",
       "      <th>Adversity</th>\n",
       "      <td>0.219864</td>\n",
       "      <td>125</td>\n",
       "      <td>53.376</td>\n",
       "    </tr>\n",
       "    <tr>\n",
       "      <th>Affluent</th>\n",
       "      <td>0.199677</td>\n",
       "      <td>167</td>\n",
       "      <td>63.955</td>\n",
       "    </tr>\n",
       "  </tbody>\n",
       "</table>\n",
       "</div>"
      ],
      "text/plain": [
       "                                   KWH/hh (per half hour)   LCLid  energy_sum\n",
       "DateTime            Acorn_grouped                                            \n",
       "2012-01-01 00:00:00 Adversity                     0.221192    125      27.649\n",
       "                    Affluent                      0.268072    167      44.768\n",
       "                    Comfortable                   0.190114    114      21.673\n",
       "2012-01-01 01:00:00 Adversity                     0.305264    125      77.057\n",
       "                    Affluent                      0.309916    167     105.763\n",
       "                    Comfortable                   0.167693    114      40.521\n",
       "2012-01-01 02:00:00 Adversity                     0.238152    125      60.497\n",
       "                    Affluent                      0.279329    167      95.196\n",
       "                    Comfortable                   0.142535    114      33.813\n",
       "2012-01-01 03:00:00 Adversity                     0.190544    125      46.952\n",
       "                    Affluent                      0.234156    167      81.666\n",
       "                    Comfortable                   0.127930    114      26.930\n",
       "2012-01-01 04:00:00 Adversity                     0.151424    125      40.617\n",
       "                    Affluent                      0.169838    167      62.927\n",
       "                    Comfortable                   0.095947    114      23.490\n",
       "2012-01-01 05:00:00 Adversity                     0.137624    125      36.783\n",
       "                    Affluent                      0.166144    167      54.702\n",
       "                    Comfortable                   0.090105    114      20.522\n",
       "2012-01-01 06:00:00 Adversity                     0.140904    125      35.577\n",
       "                    Affluent                      0.159617    167      54.234\n",
       "                    Comfortable                   0.114307    114      24.985\n",
       "2012-01-01 07:00:00 Adversity                     0.153856    125      36.302\n",
       "                    Affluent                      0.199078    167      63.913\n",
       "                    Comfortable                   0.129070    114      28.757\n",
       "2012-01-01 08:00:00 Adversity                     0.156680    125      38.785\n",
       "                    Affluent                      0.147754    167      52.053\n",
       "                    Comfortable                   0.151623    114      33.312\n",
       "2012-01-01 09:00:00 Adversity                     0.185128    125      46.543\n",
       "                    Affluent                      0.170311    167      56.224\n",
       "                    Comfortable                   0.204377    114      42.492\n",
       "2012-01-01 10:00:00 Adversity                     0.219864    125      53.376\n",
       "                    Affluent                      0.199677    167      63.955"
      ]
     },
     "execution_count": 20,
     "metadata": {},
     "output_type": "execute_result"
    }
   ],
   "source": [
    "data.head(32)"
   ]
  },
  {
   "cell_type": "code",
   "execution_count": 21,
   "metadata": {
    "collapsed": false
   },
   "outputs": [],
   "source": [
    "for i in data.index:\n",
    "    if i[0][-5:-3] == '30':\n",
    "        data.drop(i, inplace=True)"
   ]
  },
  {
   "cell_type": "code",
   "execution_count": 22,
   "metadata": {
    "collapsed": false
   },
   "outputs": [],
   "source": [
    "data_hourly = data"
   ]
  },
  {
   "cell_type": "code",
   "execution_count": 23,
   "metadata": {
    "collapsed": false
   },
   "outputs": [
    {
     "data": {
      "text/html": [
       "<div>\n",
       "<table border=\"1\" class=\"dataframe\">\n",
       "  <thead>\n",
       "    <tr style=\"text-align: right;\">\n",
       "      <th></th>\n",
       "      <th></th>\n",
       "      <th>KWH/hh (per half hour)</th>\n",
       "      <th>LCLid</th>\n",
       "      <th>energy_sum</th>\n",
       "    </tr>\n",
       "    <tr>\n",
       "      <th>DateTime</th>\n",
       "      <th>Acorn_grouped</th>\n",
       "      <th></th>\n",
       "      <th></th>\n",
       "      <th></th>\n",
       "    </tr>\n",
       "  </thead>\n",
       "  <tbody>\n",
       "    <tr>\n",
       "      <th rowspan=\"3\" valign=\"top\">2012-01-01 00:00:00</th>\n",
       "      <th>Adversity</th>\n",
       "      <td>0.221192</td>\n",
       "      <td>125</td>\n",
       "      <td>27.649</td>\n",
       "    </tr>\n",
       "    <tr>\n",
       "      <th>Affluent</th>\n",
       "      <td>0.268072</td>\n",
       "      <td>167</td>\n",
       "      <td>44.768</td>\n",
       "    </tr>\n",
       "    <tr>\n",
       "      <th>Comfortable</th>\n",
       "      <td>0.190114</td>\n",
       "      <td>114</td>\n",
       "      <td>21.673</td>\n",
       "    </tr>\n",
       "    <tr>\n",
       "      <th rowspan=\"3\" valign=\"top\">2012-01-01 01:00:00</th>\n",
       "      <th>Adversity</th>\n",
       "      <td>0.305264</td>\n",
       "      <td>125</td>\n",
       "      <td>77.057</td>\n",
       "    </tr>\n",
       "    <tr>\n",
       "      <th>Affluent</th>\n",
       "      <td>0.309916</td>\n",
       "      <td>167</td>\n",
       "      <td>105.763</td>\n",
       "    </tr>\n",
       "    <tr>\n",
       "      <th>Comfortable</th>\n",
       "      <td>0.167693</td>\n",
       "      <td>114</td>\n",
       "      <td>40.521</td>\n",
       "    </tr>\n",
       "    <tr>\n",
       "      <th rowspan=\"3\" valign=\"top\">2012-01-01 02:00:00</th>\n",
       "      <th>Adversity</th>\n",
       "      <td>0.238152</td>\n",
       "      <td>125</td>\n",
       "      <td>60.497</td>\n",
       "    </tr>\n",
       "    <tr>\n",
       "      <th>Affluent</th>\n",
       "      <td>0.279329</td>\n",
       "      <td>167</td>\n",
       "      <td>95.196</td>\n",
       "    </tr>\n",
       "    <tr>\n",
       "      <th>Comfortable</th>\n",
       "      <td>0.142535</td>\n",
       "      <td>114</td>\n",
       "      <td>33.813</td>\n",
       "    </tr>\n",
       "    <tr>\n",
       "      <th rowspan=\"3\" valign=\"top\">2012-01-01 03:00:00</th>\n",
       "      <th>Adversity</th>\n",
       "      <td>0.190544</td>\n",
       "      <td>125</td>\n",
       "      <td>46.952</td>\n",
       "    </tr>\n",
       "    <tr>\n",
       "      <th>Affluent</th>\n",
       "      <td>0.234156</td>\n",
       "      <td>167</td>\n",
       "      <td>81.666</td>\n",
       "    </tr>\n",
       "    <tr>\n",
       "      <th>Comfortable</th>\n",
       "      <td>0.127930</td>\n",
       "      <td>114</td>\n",
       "      <td>26.930</td>\n",
       "    </tr>\n",
       "  </tbody>\n",
       "</table>\n",
       "</div>"
      ],
      "text/plain": [
       "                                   KWH/hh (per half hour)   LCLid  energy_sum\n",
       "DateTime            Acorn_grouped                                            \n",
       "2012-01-01 00:00:00 Adversity                     0.221192    125      27.649\n",
       "                    Affluent                      0.268072    167      44.768\n",
       "                    Comfortable                   0.190114    114      21.673\n",
       "2012-01-01 01:00:00 Adversity                     0.305264    125      77.057\n",
       "                    Affluent                      0.309916    167     105.763\n",
       "                    Comfortable                   0.167693    114      40.521\n",
       "2012-01-01 02:00:00 Adversity                     0.238152    125      60.497\n",
       "                    Affluent                      0.279329    167      95.196\n",
       "                    Comfortable                   0.142535    114      33.813\n",
       "2012-01-01 03:00:00 Adversity                     0.190544    125      46.952\n",
       "                    Affluent                      0.234156    167      81.666\n",
       "                    Comfortable                   0.127930    114      26.930"
      ]
     },
     "execution_count": 23,
     "metadata": {},
     "output_type": "execute_result"
    }
   ],
   "source": [
    "data_hourly.head(12)"
   ]
  },
  {
   "cell_type": "code",
   "execution_count": null,
   "metadata": {
    "collapsed": true
   },
   "outputs": [],
   "source": []
  },
  {
   "cell_type": "code",
   "execution_count": 156,
   "metadata": {
    "collapsed": false
   },
   "outputs": [],
   "source": [
    "# adding :30 data to :00 data\n",
    "# this loop takes a while\n",
    "def calc_hourly(df):\n",
    "    for n,i in enumerate(df.index):\n",
    "        if i[0][-5:-3] == '30':\n",
    "            if len(df) - n > 6:  \n",
    "                df.energy_sum[n+6] = df.energy_sum[n+6] + df.energy_sum[n]\n",
    "    return df\n",
    "            \n",
    "# dropping :30 data\n",
    "# this loop (predictably) also takes a while\n",
    "def drop_half_hour(df):\n",
    "    for i in df.index:\n",
    "        if i[0][-5:-3] == '30':\n",
    "            df.drop(i, inplace=True)\n",
    "    return df"
   ]
  },
  {
   "cell_type": "code",
   "execution_count": 24,
   "metadata": {
    "collapsed": false
   },
   "outputs": [
    {
     "data": {
      "text/html": [
       "<div>\n",
       "<table border=\"1\" class=\"dataframe\">\n",
       "  <thead>\n",
       "    <tr style=\"text-align: right;\">\n",
       "      <th></th>\n",
       "      <th></th>\n",
       "      <th>KWH/hh (per half hour)</th>\n",
       "      <th>LCLid</th>\n",
       "      <th>energy_sum</th>\n",
       "    </tr>\n",
       "    <tr>\n",
       "      <th>DateTime</th>\n",
       "      <th>Acorn_grouped</th>\n",
       "      <th></th>\n",
       "      <th></th>\n",
       "      <th></th>\n",
       "    </tr>\n",
       "  </thead>\n",
       "  <tbody>\n",
       "    <tr>\n",
       "      <th rowspan=\"3\" valign=\"top\">2012-12-31 20:00:00</th>\n",
       "      <th>Adversity</th>\n",
       "      <td>0.284850</td>\n",
       "      <td>1801</td>\n",
       "      <td>1071.446000</td>\n",
       "    </tr>\n",
       "    <tr>\n",
       "      <th>Affluent</th>\n",
       "      <td>0.408284</td>\n",
       "      <td>2168</td>\n",
       "      <td>1819.424000</td>\n",
       "    </tr>\n",
       "    <tr>\n",
       "      <th>Comfortable</th>\n",
       "      <td>0.357752</td>\n",
       "      <td>1490</td>\n",
       "      <td>1097.033000</td>\n",
       "    </tr>\n",
       "    <tr>\n",
       "      <th rowspan=\"3\" valign=\"top\">2012-12-31 21:00:00</th>\n",
       "      <th>Adversity</th>\n",
       "      <td>0.262629</td>\n",
       "      <td>1801</td>\n",
       "      <td>960.564999</td>\n",
       "    </tr>\n",
       "    <tr>\n",
       "      <th>Affluent</th>\n",
       "      <td>0.358900</td>\n",
       "      <td>2168</td>\n",
       "      <td>1603.428999</td>\n",
       "    </tr>\n",
       "    <tr>\n",
       "      <th>Comfortable</th>\n",
       "      <td>0.317270</td>\n",
       "      <td>1491</td>\n",
       "      <td>970.458000</td>\n",
       "    </tr>\n",
       "    <tr>\n",
       "      <th rowspan=\"3\" valign=\"top\">2012-12-31 22:00:00</th>\n",
       "      <th>Adversity</th>\n",
       "      <td>0.232816</td>\n",
       "      <td>1801</td>\n",
       "      <td>861.578000</td>\n",
       "    </tr>\n",
       "    <tr>\n",
       "      <th>Affluent</th>\n",
       "      <td>0.325913</td>\n",
       "      <td>2168</td>\n",
       "      <td>1460.877999</td>\n",
       "    </tr>\n",
       "    <tr>\n",
       "      <th>Comfortable</th>\n",
       "      <td>0.290286</td>\n",
       "      <td>1491</td>\n",
       "      <td>895.850000</td>\n",
       "    </tr>\n",
       "    <tr>\n",
       "      <th rowspan=\"3\" valign=\"top\">2012-12-31 23:00:00</th>\n",
       "      <th>Adversity</th>\n",
       "      <td>0.204700</td>\n",
       "      <td>1801</td>\n",
       "      <td>773.051999</td>\n",
       "    </tr>\n",
       "    <tr>\n",
       "      <th>Affluent</th>\n",
       "      <td>0.287860</td>\n",
       "      <td>2168</td>\n",
       "      <td>1283.919001</td>\n",
       "    </tr>\n",
       "    <tr>\n",
       "      <th>Comfortable</th>\n",
       "      <td>0.257363</td>\n",
       "      <td>1491</td>\n",
       "      <td>782.710000</td>\n",
       "    </tr>\n",
       "  </tbody>\n",
       "</table>\n",
       "</div>"
      ],
      "text/plain": [
       "                                   KWH/hh (per half hour)   LCLid   energy_sum\n",
       "DateTime            Acorn_grouped                                             \n",
       "2012-12-31 20:00:00 Adversity                     0.284850   1801  1071.446000\n",
       "                    Affluent                      0.408284   2168  1819.424000\n",
       "                    Comfortable                   0.357752   1490  1097.033000\n",
       "2012-12-31 21:00:00 Adversity                     0.262629   1801   960.564999\n",
       "                    Affluent                      0.358900   2168  1603.428999\n",
       "                    Comfortable                   0.317270   1491   970.458000\n",
       "2012-12-31 22:00:00 Adversity                     0.232816   1801   861.578000\n",
       "                    Affluent                      0.325913   2168  1460.877999\n",
       "                    Comfortable                   0.290286   1491   895.850000\n",
       "2012-12-31 23:00:00 Adversity                     0.204700   1801   773.051999\n",
       "                    Affluent                      0.287860   2168  1283.919001\n",
       "                    Comfortable                   0.257363   1491   782.710000"
      ]
     },
     "execution_count": 24,
     "metadata": {},
     "output_type": "execute_result"
    }
   ],
   "source": [
    "data.tail(12)"
   ]
  },
  {
   "cell_type": "code",
   "execution_count": 157,
   "metadata": {
    "collapsed": false,
    "scrolled": false
   },
   "outputs": [
    {
     "name": "stderr",
     "output_type": "stream",
     "text": [
      "C:\\Users\\Hrafnkell\\Anaconda2\\lib\\site-packages\\ipykernel\\__main__.py:7: SettingWithCopyWarning: \n",
      "A value is trying to be set on a copy of a slice from a DataFrame\n",
      "\n",
      "See the caveats in the documentation: http://pandas.pydata.org/pandas-docs/stable/indexing.html#indexing-view-versus-copy\n"
     ]
    }
   ],
   "source": [
    "# adding :30 data to :00 data\n",
    "# this takes a while\n",
    "data_hourly = calc_hourly(data)"
   ]
  },
  {
   "cell_type": "code",
   "execution_count": 159,
   "metadata": {
    "collapsed": false
   },
   "outputs": [
    {
     "data": {
      "text/html": [
       "<div>\n",
       "<table border=\"1\" class=\"dataframe\">\n",
       "  <thead>\n",
       "    <tr style=\"text-align: right;\">\n",
       "      <th></th>\n",
       "      <th></th>\n",
       "      <th>KWH/hh (per half hour)</th>\n",
       "      <th>LCLid</th>\n",
       "      <th>energy_sum</th>\n",
       "    </tr>\n",
       "    <tr>\n",
       "      <th>DateTime</th>\n",
       "      <th>Acorn_grouped</th>\n",
       "      <th></th>\n",
       "      <th></th>\n",
       "      <th></th>\n",
       "    </tr>\n",
       "  </thead>\n",
       "  <tbody>\n",
       "    <tr>\n",
       "      <th rowspan=\"3\" valign=\"top\">2013-01-01 00:00:00</th>\n",
       "      <th>Adversity</th>\n",
       "      <td>0.214885</td>\n",
       "      <td>1801</td>\n",
       "      <td>387.007000</td>\n",
       "    </tr>\n",
       "    <tr>\n",
       "      <th>Affluent</th>\n",
       "      <td>0.284734</td>\n",
       "      <td>2168</td>\n",
       "      <td>617.303000</td>\n",
       "    </tr>\n",
       "    <tr>\n",
       "      <th>Comfortable</th>\n",
       "      <td>0.244850</td>\n",
       "      <td>1491</td>\n",
       "      <td>365.072000</td>\n",
       "    </tr>\n",
       "    <tr>\n",
       "      <th rowspan=\"3\" valign=\"top\">2013-01-01 00:30:00</th>\n",
       "      <th>Adversity</th>\n",
       "      <td>0.203020</td>\n",
       "      <td>1802</td>\n",
       "      <td>365.842000</td>\n",
       "    </tr>\n",
       "    <tr>\n",
       "      <th>Affluent</th>\n",
       "      <td>0.260838</td>\n",
       "      <td>2168</td>\n",
       "      <td>565.497001</td>\n",
       "    </tr>\n",
       "    <tr>\n",
       "      <th>Comfortable</th>\n",
       "      <td>0.222459</td>\n",
       "      <td>1491</td>\n",
       "      <td>331.687000</td>\n",
       "    </tr>\n",
       "    <tr>\n",
       "      <th rowspan=\"3\" valign=\"top\">2013-01-01 01:00:00</th>\n",
       "      <th>Adversity</th>\n",
       "      <td>0.184186</td>\n",
       "      <td>1802</td>\n",
       "      <td>331.904000</td>\n",
       "    </tr>\n",
       "    <tr>\n",
       "      <th>Affluent</th>\n",
       "      <td>0.239097</td>\n",
       "      <td>2168</td>\n",
       "      <td>518.363000</td>\n",
       "    </tr>\n",
       "    <tr>\n",
       "      <th>Comfortable</th>\n",
       "      <td>0.204080</td>\n",
       "      <td>1491</td>\n",
       "      <td>304.284000</td>\n",
       "    </tr>\n",
       "    <tr>\n",
       "      <th rowspan=\"3\" valign=\"top\">2013-01-01 01:30:00</th>\n",
       "      <th>Adversity</th>\n",
       "      <td>0.166085</td>\n",
       "      <td>1802</td>\n",
       "      <td>665.128000</td>\n",
       "    </tr>\n",
       "    <tr>\n",
       "      <th>Affluent</th>\n",
       "      <td>0.222950</td>\n",
       "      <td>2168</td>\n",
       "      <td>1048.852000</td>\n",
       "    </tr>\n",
       "    <tr>\n",
       "      <th>Comfortable</th>\n",
       "      <td>0.185404</td>\n",
       "      <td>1491</td>\n",
       "      <td>608.125000</td>\n",
       "    </tr>\n",
       "  </tbody>\n",
       "</table>\n",
       "</div>"
      ],
      "text/plain": [
       "                                   KWH/hh (per half hour)   LCLid   energy_sum\n",
       "DateTime            Acorn_grouped                                             \n",
       "2013-01-01 00:00:00 Adversity                     0.214885   1801   387.007000\n",
       "                    Affluent                      0.284734   2168   617.303000\n",
       "                    Comfortable                   0.244850   1491   365.072000\n",
       "2013-01-01 00:30:00 Adversity                     0.203020   1802   365.842000\n",
       "                    Affluent                      0.260838   2168   565.497001\n",
       "                    Comfortable                   0.222459   1491   331.687000\n",
       "2013-01-01 01:00:00 Adversity                     0.184186   1802   331.904000\n",
       "                    Affluent                      0.239097   2168   518.363000\n",
       "                    Comfortable                   0.204080   1491   304.284000\n",
       "2013-01-01 01:30:00 Adversity                     0.166085   1802   665.128000\n",
       "                    Affluent                      0.222950   2168  1048.852000\n",
       "                    Comfortable                   0.185404   1491   608.125000"
      ]
     },
     "execution_count": 159,
     "metadata": {},
     "output_type": "execute_result"
    }
   ],
   "source": [
    "data.head(12)"
   ]
  },
  {
   "cell_type": "code",
   "execution_count": 319,
   "metadata": {
    "collapsed": false
   },
   "outputs": [
    {
     "data": {
      "text/html": [
       "<div>\n",
       "<table border=\"1\" class=\"dataframe\">\n",
       "  <thead>\n",
       "    <tr style=\"text-align: right;\">\n",
       "      <th></th>\n",
       "      <th></th>\n",
       "      <th>KWH/hh (per half hour)</th>\n",
       "      <th>LCLid</th>\n",
       "      <th>energy_sum</th>\n",
       "    </tr>\n",
       "    <tr>\n",
       "      <th>DateTime</th>\n",
       "      <th>Acorn_grouped</th>\n",
       "      <th></th>\n",
       "      <th></th>\n",
       "      <th></th>\n",
       "    </tr>\n",
       "  </thead>\n",
       "  <tbody>\n",
       "    <tr>\n",
       "      <th rowspan=\"3\" valign=\"top\">2013-06-01 00:00:00</th>\n",
       "      <th>Adversity</th>\n",
       "      <td>0.133975</td>\n",
       "      <td>1744</td>\n",
       "      <td>233.653</td>\n",
       "    </tr>\n",
       "    <tr>\n",
       "      <th>Affluent</th>\n",
       "      <td>0.163082</td>\n",
       "      <td>2094</td>\n",
       "      <td>341.494</td>\n",
       "    </tr>\n",
       "    <tr>\n",
       "      <th>Comfortable</th>\n",
       "      <td>0.149617</td>\n",
       "      <td>1464</td>\n",
       "      <td>219.039</td>\n",
       "    </tr>\n",
       "    <tr>\n",
       "      <th rowspan=\"3\" valign=\"top\">2013-06-01 01:00:00</th>\n",
       "      <th>Adversity</th>\n",
       "      <td>0.109176</td>\n",
       "      <td>1741</td>\n",
       "      <td>401.896</td>\n",
       "    </tr>\n",
       "    <tr>\n",
       "      <th>Affluent</th>\n",
       "      <td>0.133252</td>\n",
       "      <td>2097</td>\n",
       "      <td>584.434</td>\n",
       "    </tr>\n",
       "    <tr>\n",
       "      <th>Comfortable</th>\n",
       "      <td>0.114858</td>\n",
       "      <td>1465</td>\n",
       "      <td>358.580</td>\n",
       "    </tr>\n",
       "    <tr>\n",
       "      <th rowspan=\"3\" valign=\"top\">2013-06-01 02:00:00</th>\n",
       "      <th>Adversity</th>\n",
       "      <td>0.090982</td>\n",
       "      <td>1741</td>\n",
       "      <td>330.503</td>\n",
       "    </tr>\n",
       "    <tr>\n",
       "      <th>Affluent</th>\n",
       "      <td>0.119745</td>\n",
       "      <td>2098</td>\n",
       "      <td>514.933</td>\n",
       "    </tr>\n",
       "    <tr>\n",
       "      <th>Comfortable</th>\n",
       "      <td>0.098397</td>\n",
       "      <td>1465</td>\n",
       "      <td>301.115</td>\n",
       "    </tr>\n",
       "    <tr>\n",
       "      <th rowspan=\"3\" valign=\"top\">2013-06-01 03:00:00</th>\n",
       "      <th>Adversity</th>\n",
       "      <td>0.086038</td>\n",
       "      <td>1741</td>\n",
       "      <td>303.709</td>\n",
       "    </tr>\n",
       "    <tr>\n",
       "      <th>Affluent</th>\n",
       "      <td>0.112292</td>\n",
       "      <td>2098</td>\n",
       "      <td>476.474</td>\n",
       "    </tr>\n",
       "    <tr>\n",
       "      <th>Comfortable</th>\n",
       "      <td>0.095969</td>\n",
       "      <td>1465</td>\n",
       "      <td>283.409</td>\n",
       "    </tr>\n",
       "  </tbody>\n",
       "</table>\n",
       "</div>"
      ],
      "text/plain": [
       "                                   KWH/hh (per half hour)   LCLid  energy_sum\n",
       "DateTime            Acorn_grouped                                            \n",
       "2013-06-01 00:00:00 Adversity                     0.133975   1744     233.653\n",
       "                    Affluent                      0.163082   2094     341.494\n",
       "                    Comfortable                   0.149617   1464     219.039\n",
       "2013-06-01 01:00:00 Adversity                     0.109176   1741     401.896\n",
       "                    Affluent                      0.133252   2097     584.434\n",
       "                    Comfortable                   0.114858   1465     358.580\n",
       "2013-06-01 02:00:00 Adversity                     0.090982   1741     330.503\n",
       "                    Affluent                      0.119745   2098     514.933\n",
       "                    Comfortable                   0.098397   1465     301.115\n",
       "2013-06-01 03:00:00 Adversity                     0.086038   1741     303.709\n",
       "                    Affluent                      0.112292   2098     476.474\n",
       "                    Comfortable                   0.095969   1465     283.409"
      ]
     },
     "execution_count": 319,
     "metadata": {},
     "output_type": "execute_result"
    }
   ],
   "source": [
    "data_hourly.head(12)"
   ]
  },
  {
   "cell_type": "code",
   "execution_count": 54,
   "metadata": {
    "collapsed": true
   },
   "outputs": [],
   "source": [
    "# dropping :30 data\n",
    "# this (predictably) also takes a while\n",
    "data_hourly = drop_half_hour(data_hourly)"
   ]
  },
  {
   "cell_type": "code",
   "execution_count": 25,
   "metadata": {
    "collapsed": true
   },
   "outputs": [],
   "source": [
    "data_hourly['KWH/h (per hour)'] = data.energy_sum / data.LCLid\n",
    "data_hourly.drop(['KWH/hh (per half hour) ', 'energy_sum'], axis=1, inplace=True)\n",
    "data_hourly.rename(columns={\"KWH/h (per hour)\": \"nrg_cons\", \"LCLid\": \"N\"}, inplace=True)"
   ]
  },
  {
   "cell_type": "code",
   "execution_count": 26,
   "metadata": {
    "collapsed": true
   },
   "outputs": [],
   "source": [
    "# make sure to give the output file the right name\n",
    "output = '../Final_Data/energy_hourly_2012.csv'\n",
    "\n",
    "data_hourly.to_csv(output)"
   ]
  },
  {
   "cell_type": "code",
   "execution_count": 28,
   "metadata": {
    "collapsed": true
   },
   "outputs": [],
   "source": [
    "data_hourly = pd.read_csv('../Final_Data/energy_hourly_2012.csv')"
   ]
  },
  {
   "cell_type": "code",
   "execution_count": 31,
   "metadata": {
    "collapsed": false
   },
   "outputs": [
    {
     "data": {
      "text/html": [
       "<div>\n",
       "<table border=\"1\" class=\"dataframe\">\n",
       "  <thead>\n",
       "    <tr style=\"text-align: right;\">\n",
       "      <th></th>\n",
       "      <th>DateTime</th>\n",
       "      <th>Acorn_grouped</th>\n",
       "      <th>N</th>\n",
       "      <th>nrg_cons</th>\n",
       "    </tr>\n",
       "  </thead>\n",
       "  <tbody>\n",
       "    <tr>\n",
       "      <th>0</th>\n",
       "      <td>2012-01-01 00:00:00</td>\n",
       "      <td>Adversity</td>\n",
       "      <td>125</td>\n",
       "      <td>0.221192</td>\n",
       "    </tr>\n",
       "    <tr>\n",
       "      <th>1</th>\n",
       "      <td>2012-01-01 00:00:00</td>\n",
       "      <td>Affluent</td>\n",
       "      <td>167</td>\n",
       "      <td>0.268072</td>\n",
       "    </tr>\n",
       "    <tr>\n",
       "      <th>2</th>\n",
       "      <td>2012-01-01 00:00:00</td>\n",
       "      <td>Comfortable</td>\n",
       "      <td>114</td>\n",
       "      <td>0.190114</td>\n",
       "    </tr>\n",
       "    <tr>\n",
       "      <th>3</th>\n",
       "      <td>2012-01-01 01:00:00</td>\n",
       "      <td>Adversity</td>\n",
       "      <td>125</td>\n",
       "      <td>0.616456</td>\n",
       "    </tr>\n",
       "    <tr>\n",
       "      <th>4</th>\n",
       "      <td>2012-01-01 01:00:00</td>\n",
       "      <td>Affluent</td>\n",
       "      <td>167</td>\n",
       "      <td>0.633311</td>\n",
       "    </tr>\n",
       "    <tr>\n",
       "      <th>5</th>\n",
       "      <td>2012-01-01 01:00:00</td>\n",
       "      <td>Comfortable</td>\n",
       "      <td>114</td>\n",
       "      <td>0.355447</td>\n",
       "    </tr>\n",
       "    <tr>\n",
       "      <th>6</th>\n",
       "      <td>2012-01-01 02:00:00</td>\n",
       "      <td>Adversity</td>\n",
       "      <td>125</td>\n",
       "      <td>0.483976</td>\n",
       "    </tr>\n",
       "    <tr>\n",
       "      <th>7</th>\n",
       "      <td>2012-01-01 02:00:00</td>\n",
       "      <td>Affluent</td>\n",
       "      <td>167</td>\n",
       "      <td>0.570036</td>\n",
       "    </tr>\n",
       "    <tr>\n",
       "      <th>8</th>\n",
       "      <td>2012-01-01 02:00:00</td>\n",
       "      <td>Comfortable</td>\n",
       "      <td>114</td>\n",
       "      <td>0.296605</td>\n",
       "    </tr>\n",
       "    <tr>\n",
       "      <th>9</th>\n",
       "      <td>2012-01-01 03:00:00</td>\n",
       "      <td>Adversity</td>\n",
       "      <td>125</td>\n",
       "      <td>0.375616</td>\n",
       "    </tr>\n",
       "    <tr>\n",
       "      <th>10</th>\n",
       "      <td>2012-01-01 03:00:00</td>\n",
       "      <td>Affluent</td>\n",
       "      <td>167</td>\n",
       "      <td>0.489018</td>\n",
       "    </tr>\n",
       "    <tr>\n",
       "      <th>11</th>\n",
       "      <td>2012-01-01 03:00:00</td>\n",
       "      <td>Comfortable</td>\n",
       "      <td>114</td>\n",
       "      <td>0.236228</td>\n",
       "    </tr>\n",
       "  </tbody>\n",
       "</table>\n",
       "</div>"
      ],
      "text/plain": [
       "               DateTime Acorn_grouped    N  nrg_cons\n",
       "0   2012-01-01 00:00:00     Adversity  125  0.221192\n",
       "1   2012-01-01 00:00:00      Affluent  167  0.268072\n",
       "2   2012-01-01 00:00:00   Comfortable  114  0.190114\n",
       "3   2012-01-01 01:00:00     Adversity  125  0.616456\n",
       "4   2012-01-01 01:00:00      Affluent  167  0.633311\n",
       "5   2012-01-01 01:00:00   Comfortable  114  0.355447\n",
       "6   2012-01-01 02:00:00     Adversity  125  0.483976\n",
       "7   2012-01-01 02:00:00      Affluent  167  0.570036\n",
       "8   2012-01-01 02:00:00   Comfortable  114  0.296605\n",
       "9   2012-01-01 03:00:00     Adversity  125  0.375616\n",
       "10  2012-01-01 03:00:00      Affluent  167  0.489018\n",
       "11  2012-01-01 03:00:00   Comfortable  114  0.236228"
      ]
     },
     "execution_count": 31,
     "metadata": {},
     "output_type": "execute_result"
    }
   ],
   "source": [
    "data_hourly.head(12)"
   ]
  },
  {
   "cell_type": "code",
   "execution_count": 30,
   "metadata": {
    "collapsed": false
   },
   "outputs": [
    {
     "data": {
      "text/html": [
       "<div>\n",
       "<table border=\"1\" class=\"dataframe\">\n",
       "  <thead>\n",
       "    <tr style=\"text-align: right;\">\n",
       "      <th></th>\n",
       "      <th></th>\n",
       "      <th>nrg_cons</th>\n",
       "    </tr>\n",
       "    <tr>\n",
       "      <th>DateTime</th>\n",
       "      <th>Acorn_grouped</th>\n",
       "      <th></th>\n",
       "    </tr>\n",
       "  </thead>\n",
       "  <tbody>\n",
       "    <tr>\n",
       "      <th rowspan=\"3\" valign=\"top\">2012-01-01 00:00:00</th>\n",
       "      <th>Adversity</th>\n",
       "      <td>0.221192</td>\n",
       "    </tr>\n",
       "    <tr>\n",
       "      <th>Affluent</th>\n",
       "      <td>0.268072</td>\n",
       "    </tr>\n",
       "    <tr>\n",
       "      <th>Comfortable</th>\n",
       "      <td>0.190114</td>\n",
       "    </tr>\n",
       "    <tr>\n",
       "      <th rowspan=\"3\" valign=\"top\">2012-01-01 01:00:00</th>\n",
       "      <th>Adversity</th>\n",
       "      <td>0.616456</td>\n",
       "    </tr>\n",
       "    <tr>\n",
       "      <th>Affluent</th>\n",
       "      <td>0.633311</td>\n",
       "    </tr>\n",
       "    <tr>\n",
       "      <th>Comfortable</th>\n",
       "      <td>0.355447</td>\n",
       "    </tr>\n",
       "  </tbody>\n",
       "</table>\n",
       "</div>"
      ],
      "text/plain": [
       "                                   nrg_cons\n",
       "DateTime            Acorn_grouped          \n",
       "2012-01-01 00:00:00 Adversity      0.221192\n",
       "                    Affluent       0.268072\n",
       "                    Comfortable    0.190114\n",
       "2012-01-01 01:00:00 Adversity      0.616456\n",
       "                    Affluent       0.633311\n",
       "                    Comfortable    0.355447"
      ]
     },
     "execution_count": 30,
     "metadata": {},
     "output_type": "execute_result"
    }
   ],
   "source": [
    "# Define a lambda function to compute the weighted mean:\n",
    "wm = lambda x: np.average(x, weights=data_hourly.loc[x.index, \"N\"])\n",
    "\n",
    "# Define a dictionary with the functions to apply for a given column:\n",
    "f = {'nrg_cons': wm}\n",
    "\n",
    "# Groupby and aggregate with your dictionary:\n",
    "df_grouped = data_hourly.groupby([\"DateTime\", \"Acorn_grouped\"]).agg(f)\n",
    "\n",
    "df_grouped.head(6)"
   ]
  },
  {
   "cell_type": "code",
   "execution_count": 46,
   "metadata": {
    "collapsed": false
   },
   "outputs": [
    {
     "data": {
      "text/html": [
       "<div>\n",
       "<table border=\"1\" class=\"dataframe\">\n",
       "  <thead>\n",
       "    <tr style=\"text-align: right;\">\n",
       "      <th></th>\n",
       "      <th>DateTime</th>\n",
       "      <th>concat</th>\n",
       "      <th>energy</th>\n",
       "    </tr>\n",
       "  </thead>\n",
       "  <tbody>\n",
       "    <tr>\n",
       "      <th>0</th>\n",
       "      <td>2012-01-01 01:00:00</td>\n",
       "      <td>AdversityStd</td>\n",
       "      <td>0.613391</td>\n",
       "    </tr>\n",
       "    <tr>\n",
       "      <th>1</th>\n",
       "      <td>2012-01-01 01:00:00</td>\n",
       "      <td>AdversityToU</td>\n",
       "      <td>0.638933</td>\n",
       "    </tr>\n",
       "    <tr>\n",
       "      <th>2</th>\n",
       "      <td>2012-01-01 01:00:00</td>\n",
       "      <td>AffluentStd</td>\n",
       "      <td>0.664042</td>\n",
       "    </tr>\n",
       "    <tr>\n",
       "      <th>3</th>\n",
       "      <td>2012-01-01 01:00:00</td>\n",
       "      <td>AffluentToU</td>\n",
       "      <td>0.450208</td>\n",
       "    </tr>\n",
       "    <tr>\n",
       "      <th>4</th>\n",
       "      <td>2012-01-01 01:00:00</td>\n",
       "      <td>ComfortableStd</td>\n",
       "      <td>0.355763</td>\n",
       "    </tr>\n",
       "  </tbody>\n",
       "</table>\n",
       "</div>"
      ],
      "text/plain": [
       "              DateTime          concat    energy\n",
       "0  2012-01-01 01:00:00    AdversityStd  0.613391\n",
       "1  2012-01-01 01:00:00    AdversityToU  0.638933\n",
       "2  2012-01-01 01:00:00     AffluentStd  0.664042\n",
       "3  2012-01-01 01:00:00     AffluentToU  0.450208\n",
       "4  2012-01-01 01:00:00  ComfortableStd  0.355763"
      ]
     },
     "execution_count": 46,
     "metadata": {},
     "output_type": "execute_result"
    }
   ],
   "source": [
    "data.head()"
   ]
  },
  {
   "cell_type": "code",
   "execution_count": 40,
   "metadata": {
    "collapsed": false
   },
   "outputs": [
    {
     "data": {
      "text/plain": [
       "Index([u'DateTime', u'concat', u'energy'], dtype='object')"
      ]
     },
     "execution_count": 40,
     "metadata": {},
     "output_type": "execute_result"
    }
   ],
   "source": [
    "data.columns"
   ]
  },
  {
   "cell_type": "code",
   "execution_count": 56,
   "metadata": {
    "collapsed": false
   },
   "outputs": [
    {
     "data": {
      "text/html": [
       "<div>\n",
       "<table border=\"1\" class=\"dataframe\">\n",
       "  <thead>\n",
       "    <tr style=\"text-align: right;\">\n",
       "      <th></th>\n",
       "      <th>DateTime</th>\n",
       "      <th>concat</th>\n",
       "      <th>energy</th>\n",
       "    </tr>\n",
       "  </thead>\n",
       "  <tbody>\n",
       "    <tr>\n",
       "      <th>0</th>\n",
       "      <td>2012-01-01 01:00:00</td>\n",
       "      <td>AdversityStd</td>\n",
       "      <td>0.613391</td>\n",
       "    </tr>\n",
       "    <tr>\n",
       "      <th>1</th>\n",
       "      <td>2012-01-01 01:00:00</td>\n",
       "      <td>AdversityToU</td>\n",
       "      <td>0.638933</td>\n",
       "    </tr>\n",
       "    <tr>\n",
       "      <th>2</th>\n",
       "      <td>2012-01-01 01:00:00</td>\n",
       "      <td>AffluentStd</td>\n",
       "      <td>0.664042</td>\n",
       "    </tr>\n",
       "    <tr>\n",
       "      <th>3</th>\n",
       "      <td>2012-01-01 01:00:00</td>\n",
       "      <td>AffluentToU</td>\n",
       "      <td>0.450208</td>\n",
       "    </tr>\n",
       "    <tr>\n",
       "      <th>4</th>\n",
       "      <td>2012-01-01 01:00:00</td>\n",
       "      <td>ComfortableStd</td>\n",
       "      <td>0.355763</td>\n",
       "    </tr>\n",
       "    <tr>\n",
       "      <th>5</th>\n",
       "      <td>2012-01-01 01:00:00</td>\n",
       "      <td>ComfortableToU</td>\n",
       "      <td>0.353647</td>\n",
       "    </tr>\n",
       "  </tbody>\n",
       "</table>\n",
       "</div>"
      ],
      "text/plain": [
       "              DateTime          concat    energy\n",
       "0  2012-01-01 01:00:00    AdversityStd  0.613391\n",
       "1  2012-01-01 01:00:00    AdversityToU  0.638933\n",
       "2  2012-01-01 01:00:00     AffluentStd  0.664042\n",
       "3  2012-01-01 01:00:00     AffluentToU  0.450208\n",
       "4  2012-01-01 01:00:00  ComfortableStd  0.355763\n",
       "5  2012-01-01 01:00:00  ComfortableToU  0.353647"
      ]
     },
     "execution_count": 56,
     "metadata": {},
     "output_type": "execute_result"
    }
   ],
   "source": [
    "data.head(6)"
   ]
  },
  {
   "cell_type": "code",
   "execution_count": 50,
   "metadata": {
    "collapsed": false
   },
   "outputs": [
    {
     "ename": "AttributeError",
     "evalue": "'Series' object has no attribute 'columns'",
     "output_type": "error",
     "traceback": [
      "\u001b[0;31m\u001b[0m",
      "\u001b[0;31mAttributeError\u001b[0mTraceback (most recent call last)",
      "\u001b[0;32m<ipython-input-50-5bd35d809475>\u001b[0m in \u001b[0;36m<module>\u001b[0;34m()\u001b[0m\n\u001b[0;32m----> 1\u001b[0;31m \u001b[0mdata\u001b[0m\u001b[0;34m.\u001b[0m\u001b[0munstack\u001b[0m\u001b[0;34m(\u001b[0m\u001b[0;36m1\u001b[0m\u001b[0;34m)\u001b[0m\u001b[0;34m.\u001b[0m\u001b[0mcolumns\u001b[0m\u001b[0;34m[\u001b[0m\u001b[0;36m1\u001b[0m\u001b[0;34m]\u001b[0m\u001b[0;34m\u001b[0m\u001b[0m\n\u001b[0m",
      "\u001b[0;32m/opt/rh/anaconda/root/envs/PUI2016_Python2/lib/python2.7/site-packages/pandas/core/generic.pyc\u001b[0m in \u001b[0;36m__getattr__\u001b[0;34m(self, name)\u001b[0m\n\u001b[1;32m   2666\u001b[0m         if (name in self._internal_names_set or name in self._metadata or\n\u001b[1;32m   2667\u001b[0m                 name in self._accessors):\n\u001b[0;32m-> 2668\u001b[0;31m             \u001b[0;32mreturn\u001b[0m \u001b[0mobject\u001b[0m\u001b[0;34m.\u001b[0m\u001b[0m__getattribute__\u001b[0m\u001b[0;34m(\u001b[0m\u001b[0mself\u001b[0m\u001b[0;34m,\u001b[0m \u001b[0mname\u001b[0m\u001b[0;34m)\u001b[0m\u001b[0;34m\u001b[0m\u001b[0m\n\u001b[0m\u001b[1;32m   2669\u001b[0m         \u001b[0;32melse\u001b[0m\u001b[0;34m:\u001b[0m\u001b[0;34m\u001b[0m\u001b[0m\n\u001b[1;32m   2670\u001b[0m             \u001b[0;32mif\u001b[0m \u001b[0mname\u001b[0m \u001b[0;32min\u001b[0m \u001b[0mself\u001b[0m\u001b[0;34m.\u001b[0m\u001b[0m_info_axis\u001b[0m\u001b[0;34m:\u001b[0m\u001b[0;34m\u001b[0m\u001b[0m\n",
      "\u001b[0;31mAttributeError\u001b[0m: 'Series' object has no attribute 'columns'"
     ]
    }
   ],
   "source": [
    "data.unstack(1).columns[1]"
   ]
  },
  {
   "cell_type": "code",
   "execution_count": 51,
   "metadata": {
    "collapsed": true
   },
   "outputs": [],
   "source": [
    "data.unstack?"
   ]
  },
  {
   "cell_type": "code",
   "execution_count": 57,
   "metadata": {
    "collapsed": false
   },
   "outputs": [
    {
     "data": {
      "text/plain": [
       "DateTime  0    2012-01-01 01:00:00\n",
       "          1    2012-01-01 01:00:00\n",
       "          2    2012-01-01 01:00:00\n",
       "          3    2012-01-01 01:00:00\n",
       "          4    2012-01-01 01:00:00\n",
       "          5    2012-01-01 01:00:00\n",
       "          6    2012-01-01 02:00:00\n",
       "dtype: object"
      ]
     },
     "execution_count": 57,
     "metadata": {},
     "output_type": "execute_result"
    }
   ],
   "source": [
    "nrg_regress = data.unstack(1)\n",
    "nrg_regress.head(7)"
   ]
  },
  {
   "cell_type": "code",
   "execution_count": 45,
   "metadata": {
    "collapsed": false
   },
   "outputs": [
    {
     "data": {
      "text/plain": [
       "count          315774\n",
       "unique         122595\n",
       "top       AffluentStd\n",
       "freq            17543\n",
       "dtype: object"
      ]
     },
     "execution_count": 45,
     "metadata": {},
     "output_type": "execute_result"
    }
   ],
   "source": [
    "nrg_regress.describe()"
   ]
  },
  {
   "cell_type": "code",
   "execution_count": null,
   "metadata": {
    "collapsed": true
   },
   "outputs": [],
   "source": []
  },
  {
   "cell_type": "code",
   "execution_count": 35,
   "metadata": {
    "collapsed": false
   },
   "outputs": [],
   "source": [
    "# make sure to give the outputfile the right name\n",
    "output = '../Final_Data/energy_final_2012.csv'\n",
    "\n",
    "nrg_regress.to_csv(output)"
   ]
  },
  {
   "cell_type": "code",
   "execution_count": null,
   "metadata": {
    "collapsed": true
   },
   "outputs": [],
   "source": []
  }
 ],
 "metadata": {
  "anaconda-cloud": {},
  "kernelspec": {
   "display_name": "PUI2016_Python2",
   "language": "python",
   "name": "pui2016_python2"
  },
  "language_info": {
   "codemirror_mode": {
    "name": "ipython",
    "version": 2
   },
   "file_extension": ".py",
   "mimetype": "text/x-python",
   "name": "python",
   "nbconvert_exporter": "python",
   "pygments_lexer": "ipython2",
   "version": "2.7.12"
  }
 },
 "nbformat": 4,
 "nbformat_minor": 0
}
