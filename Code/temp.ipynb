{
 "cells": [
  {
   "cell_type": "code",
   "execution_count": 1,
   "metadata": {
    "collapsed": true
   },
   "outputs": [],
   "source": [
    "import pandas as pd\n",
    "import numpy as np"
   ]
  },
  {
   "cell_type": "code",
   "execution_count": 2,
   "metadata": {
    "collapsed": true
   },
   "outputs": [],
   "source": [
    "data = pd.read_csv('../Final_Data/final1213_reshaped.csv')"
   ]
  },
  {
   "cell_type": "code",
   "execution_count": 6,
   "metadata": {
    "collapsed": false
   },
   "outputs": [
    {
     "data": {
      "text/html": [
       "<div>\n",
       "<table border=\"1\" class=\"dataframe\">\n",
       "  <thead>\n",
       "    <tr style=\"text-align: right;\">\n",
       "      <th></th>\n",
       "      <th>Unnamed: 0</th>\n",
       "      <th>Datetime</th>\n",
       "      <th>Dew_Point_F</th>\n",
       "      <th>Humidity</th>\n",
       "      <th>Temperature_F</th>\n",
       "      <th>Wind_Speed_MPH</th>\n",
       "      <th>Consumption</th>\n",
       "      <th>Income</th>\n",
       "      <th>Overall</th>\n",
       "      <th>Diff</th>\n",
       "      <th>Diff_perc</th>\n",
       "      <th>Month</th>\n",
       "      <th>DayofWeek</th>\n",
       "      <th>Hour</th>\n",
       "      <th>WeekofYear</th>\n",
       "      <th>Year</th>\n",
       "    </tr>\n",
       "  </thead>\n",
       "  <tbody>\n",
       "    <tr>\n",
       "      <th>0</th>\n",
       "      <td>0</td>\n",
       "      <td>2012-01-01 00:00:00</td>\n",
       "      <td>50.0</td>\n",
       "      <td>88</td>\n",
       "      <td>53.6</td>\n",
       "      <td>13.8</td>\n",
       "      <td>0.190114</td>\n",
       "      <td>Medium</td>\n",
       "      <td>0.231749</td>\n",
       "      <td>-0.041635</td>\n",
       "      <td>-0.179655</td>\n",
       "      <td>1</td>\n",
       "      <td>6</td>\n",
       "      <td>0</td>\n",
       "      <td>52</td>\n",
       "      <td>2012</td>\n",
       "    </tr>\n",
       "    <tr>\n",
       "      <th>1</th>\n",
       "      <td>1</td>\n",
       "      <td>2012-01-01 00:00:00</td>\n",
       "      <td>50.0</td>\n",
       "      <td>88</td>\n",
       "      <td>53.6</td>\n",
       "      <td>13.8</td>\n",
       "      <td>0.221192</td>\n",
       "      <td>Low</td>\n",
       "      <td>0.231749</td>\n",
       "      <td>-0.010557</td>\n",
       "      <td>-0.045553</td>\n",
       "      <td>1</td>\n",
       "      <td>6</td>\n",
       "      <td>0</td>\n",
       "      <td>52</td>\n",
       "      <td>2012</td>\n",
       "    </tr>\n",
       "    <tr>\n",
       "      <th>2</th>\n",
       "      <td>2</td>\n",
       "      <td>2012-01-01 00:00:00</td>\n",
       "      <td>50.0</td>\n",
       "      <td>88</td>\n",
       "      <td>53.6</td>\n",
       "      <td>13.8</td>\n",
       "      <td>0.268072</td>\n",
       "      <td>High</td>\n",
       "      <td>0.231749</td>\n",
       "      <td>0.036323</td>\n",
       "      <td>0.156735</td>\n",
       "      <td>1</td>\n",
       "      <td>6</td>\n",
       "      <td>0</td>\n",
       "      <td>52</td>\n",
       "      <td>2012</td>\n",
       "    </tr>\n",
       "    <tr>\n",
       "      <th>3</th>\n",
       "      <td>3</td>\n",
       "      <td>2012-01-01 01:00:00</td>\n",
       "      <td>50.0</td>\n",
       "      <td>88</td>\n",
       "      <td>53.6</td>\n",
       "      <td>15.0</td>\n",
       "      <td>0.355447</td>\n",
       "      <td>Medium</td>\n",
       "      <td>0.550101</td>\n",
       "      <td>-0.194654</td>\n",
       "      <td>-0.353851</td>\n",
       "      <td>1</td>\n",
       "      <td>6</td>\n",
       "      <td>1</td>\n",
       "      <td>52</td>\n",
       "      <td>2012</td>\n",
       "    </tr>\n",
       "    <tr>\n",
       "      <th>4</th>\n",
       "      <td>4</td>\n",
       "      <td>2012-01-01 01:00:00</td>\n",
       "      <td>50.0</td>\n",
       "      <td>88</td>\n",
       "      <td>53.6</td>\n",
       "      <td>15.0</td>\n",
       "      <td>0.616456</td>\n",
       "      <td>Low</td>\n",
       "      <td>0.550101</td>\n",
       "      <td>0.066355</td>\n",
       "      <td>0.120623</td>\n",
       "      <td>1</td>\n",
       "      <td>6</td>\n",
       "      <td>1</td>\n",
       "      <td>52</td>\n",
       "      <td>2012</td>\n",
       "    </tr>\n",
       "    <tr>\n",
       "      <th>5</th>\n",
       "      <td>5</td>\n",
       "      <td>2012-01-01 01:00:00</td>\n",
       "      <td>50.0</td>\n",
       "      <td>88</td>\n",
       "      <td>53.6</td>\n",
       "      <td>15.0</td>\n",
       "      <td>0.633311</td>\n",
       "      <td>High</td>\n",
       "      <td>0.550101</td>\n",
       "      <td>0.083210</td>\n",
       "      <td>0.151264</td>\n",
       "      <td>1</td>\n",
       "      <td>6</td>\n",
       "      <td>1</td>\n",
       "      <td>52</td>\n",
       "      <td>2012</td>\n",
       "    </tr>\n",
       "  </tbody>\n",
       "</table>\n",
       "</div>"
      ],
      "text/plain": [
       "   Unnamed: 0             Datetime  Dew_Point_F  Humidity  Temperature_F  \\\n",
       "0           0  2012-01-01 00:00:00         50.0        88           53.6   \n",
       "1           1  2012-01-01 00:00:00         50.0        88           53.6   \n",
       "2           2  2012-01-01 00:00:00         50.0        88           53.6   \n",
       "3           3  2012-01-01 01:00:00         50.0        88           53.6   \n",
       "4           4  2012-01-01 01:00:00         50.0        88           53.6   \n",
       "5           5  2012-01-01 01:00:00         50.0        88           53.6   \n",
       "\n",
       "   Wind_Speed_MPH  Consumption  Income   Overall      Diff  Diff_perc  Month  \\\n",
       "0            13.8     0.190114  Medium  0.231749 -0.041635  -0.179655      1   \n",
       "1            13.8     0.221192     Low  0.231749 -0.010557  -0.045553      1   \n",
       "2            13.8     0.268072    High  0.231749  0.036323   0.156735      1   \n",
       "3            15.0     0.355447  Medium  0.550101 -0.194654  -0.353851      1   \n",
       "4            15.0     0.616456     Low  0.550101  0.066355   0.120623      1   \n",
       "5            15.0     0.633311    High  0.550101  0.083210   0.151264      1   \n",
       "\n",
       "   DayofWeek  Hour  WeekofYear  Year  \n",
       "0          6     0          52  2012  \n",
       "1          6     0          52  2012  \n",
       "2          6     0          52  2012  \n",
       "3          6     1          52  2012  \n",
       "4          6     1          52  2012  \n",
       "5          6     1          52  2012  "
      ]
     },
     "execution_count": 6,
     "metadata": {},
     "output_type": "execute_result"
    }
   ],
   "source": [
    "data.head(6)"
   ]
  },
  {
   "cell_type": "code",
   "execution_count": 10,
   "metadata": {
    "collapsed": false
   },
   "outputs": [],
   "source": [
    "year2012 = pd.read_csv('../Final_Data/grouped_2012.csv')\n",
    "year2013 = pd.read_csv('../Final_Data/grouped_2013.csv')"
   ]
  },
  {
   "cell_type": "code",
   "execution_count": 14,
   "metadata": {
    "collapsed": false
   },
   "outputs": [
    {
     "data": {
      "text/html": [
       "<div>\n",
       "<table border=\"1\" class=\"dataframe\">\n",
       "  <thead>\n",
       "    <tr style=\"text-align: right;\">\n",
       "      <th></th>\n",
       "      <th>DateTime</th>\n",
       "      <th>Acorn</th>\n",
       "      <th>Acorn_grouped</th>\n",
       "      <th>stdorToU</th>\n",
       "      <th>KWH/hh (per half hour)</th>\n",
       "      <th>LCLid</th>\n",
       "    </tr>\n",
       "  </thead>\n",
       "  <tbody>\n",
       "    <tr>\n",
       "      <th>0</th>\n",
       "      <td>2012-01-01 00:00:00</td>\n",
       "      <td>ACORN-A</td>\n",
       "      <td>Affluent</td>\n",
       "      <td>Std</td>\n",
       "      <td>0.495875</td>\n",
       "      <td>8</td>\n",
       "    </tr>\n",
       "    <tr>\n",
       "      <th>1</th>\n",
       "      <td>2012-01-01 00:00:00</td>\n",
       "      <td>ACORN-A</td>\n",
       "      <td>Affluent</td>\n",
       "      <td>ToU</td>\n",
       "      <td>0.279000</td>\n",
       "      <td>1</td>\n",
       "    </tr>\n",
       "    <tr>\n",
       "      <th>2</th>\n",
       "      <td>2012-01-01 00:00:00</td>\n",
       "      <td>ACORN-B</td>\n",
       "      <td>Affluent</td>\n",
       "      <td>Std</td>\n",
       "      <td>0.156000</td>\n",
       "      <td>1</td>\n",
       "    </tr>\n",
       "    <tr>\n",
       "      <th>3</th>\n",
       "      <td>2012-01-01 00:00:00</td>\n",
       "      <td>ACORN-C</td>\n",
       "      <td>Affluent</td>\n",
       "      <td>Std</td>\n",
       "      <td>0.264400</td>\n",
       "      <td>5</td>\n",
       "    </tr>\n",
       "    <tr>\n",
       "      <th>4</th>\n",
       "      <td>2012-01-01 00:00:00</td>\n",
       "      <td>ACORN-C</td>\n",
       "      <td>Affluent</td>\n",
       "      <td>ToU</td>\n",
       "      <td>0.349000</td>\n",
       "      <td>2</td>\n",
       "    </tr>\n",
       "  </tbody>\n",
       "</table>\n",
       "</div>"
      ],
      "text/plain": [
       "              DateTime    Acorn Acorn_grouped stdorToU  \\\n",
       "0  2012-01-01 00:00:00  ACORN-A      Affluent      Std   \n",
       "1  2012-01-01 00:00:00  ACORN-A      Affluent      ToU   \n",
       "2  2012-01-01 00:00:00  ACORN-B      Affluent      Std   \n",
       "3  2012-01-01 00:00:00  ACORN-C      Affluent      Std   \n",
       "4  2012-01-01 00:00:00  ACORN-C      Affluent      ToU   \n",
       "\n",
       "   KWH/hh (per half hour)   LCLid  \n",
       "0                 0.495875      8  \n",
       "1                 0.279000      1  \n",
       "2                 0.156000      1  \n",
       "3                 0.264400      5  \n",
       "4                 0.349000      2  "
      ]
     },
     "execution_count": 14,
     "metadata": {},
     "output_type": "execute_result"
    }
   ],
   "source": [
    "year2012.head()"
   ]
  },
  {
   "cell_type": "code",
   "execution_count": 19,
   "metadata": {
    "collapsed": false
   },
   "outputs": [
    {
     "data": {
      "text/html": [
       "<div>\n",
       "<table border=\"1\" class=\"dataframe\">\n",
       "  <thead>\n",
       "    <tr style=\"text-align: right;\">\n",
       "      <th></th>\n",
       "      <th></th>\n",
       "      <th></th>\n",
       "      <th>KWH/hh (per half hour)</th>\n",
       "      <th>LCLid</th>\n",
       "    </tr>\n",
       "    <tr>\n",
       "      <th>DateTime</th>\n",
       "      <th>Acorn_grouped</th>\n",
       "      <th>stdorToU</th>\n",
       "      <th></th>\n",
       "      <th></th>\n",
       "    </tr>\n",
       "  </thead>\n",
       "  <tbody>\n",
       "    <tr>\n",
       "      <th rowspan=\"8\" valign=\"top\">2012-01-01 00:00:00</th>\n",
       "      <th rowspan=\"2\" valign=\"top\">ACORN-U</th>\n",
       "      <th>Std</th>\n",
       "      <td>0.179000</td>\n",
       "      <td>4</td>\n",
       "    </tr>\n",
       "    <tr>\n",
       "      <th>ToU</th>\n",
       "      <td>0.021000</td>\n",
       "      <td>1</td>\n",
       "    </tr>\n",
       "    <tr>\n",
       "      <th rowspan=\"2\" valign=\"top\">Adversity</th>\n",
       "      <th>Std</th>\n",
       "      <td>1.447567</td>\n",
       "      <td>110</td>\n",
       "    </tr>\n",
       "    <tr>\n",
       "      <th>ToU</th>\n",
       "      <td>1.247383</td>\n",
       "      <td>15</td>\n",
       "    </tr>\n",
       "    <tr>\n",
       "      <th rowspan=\"2\" valign=\"top\">Affluent</th>\n",
       "      <th>Std</th>\n",
       "      <td>1.476540</td>\n",
       "      <td>143</td>\n",
       "    </tr>\n",
       "    <tr>\n",
       "      <th>ToU</th>\n",
       "      <td>1.056912</td>\n",
       "      <td>24</td>\n",
       "    </tr>\n",
       "    <tr>\n",
       "      <th rowspan=\"2\" valign=\"top\">Comfortable</th>\n",
       "      <th>Std</th>\n",
       "      <td>0.675350</td>\n",
       "      <td>97</td>\n",
       "    </tr>\n",
       "    <tr>\n",
       "      <th>ToU</th>\n",
       "      <td>0.687150</td>\n",
       "      <td>17</td>\n",
       "    </tr>\n",
       "    <tr>\n",
       "      <th rowspan=\"4\" valign=\"top\">2012-01-01 00:30:00</th>\n",
       "      <th rowspan=\"2\" valign=\"top\">ACORN-U</th>\n",
       "      <th>Std</th>\n",
       "      <td>0.329750</td>\n",
       "      <td>4</td>\n",
       "    </tr>\n",
       "    <tr>\n",
       "      <th>ToU</th>\n",
       "      <td>0.065000</td>\n",
       "      <td>1</td>\n",
       "    </tr>\n",
       "    <tr>\n",
       "      <th rowspan=\"2\" valign=\"top\">Adversity</th>\n",
       "      <th>Std</th>\n",
       "      <td>1.523004</td>\n",
       "      <td>110</td>\n",
       "    </tr>\n",
       "    <tr>\n",
       "      <th>ToU</th>\n",
       "      <td>1.451067</td>\n",
       "      <td>15</td>\n",
       "    </tr>\n",
       "  </tbody>\n",
       "</table>\n",
       "</div>"
      ],
      "text/plain": [
       "                                            KWH/hh (per half hour)   LCLid\n",
       "DateTime            Acorn_grouped stdorToU                                \n",
       "2012-01-01 00:00:00 ACORN-U       Std                      0.179000      4\n",
       "                                  ToU                      0.021000      1\n",
       "                    Adversity     Std                      1.447567    110\n",
       "                                  ToU                      1.247383     15\n",
       "                    Affluent      Std                      1.476540    143\n",
       "                                  ToU                      1.056912     24\n",
       "                    Comfortable   Std                      0.675350     97\n",
       "                                  ToU                      0.687150     17\n",
       "2012-01-01 00:30:00 ACORN-U       Std                      0.329750      4\n",
       "                                  ToU                      0.065000      1\n",
       "                    Adversity     Std                      1.523004    110\n",
       "                                  ToU                      1.451067     15"
      ]
     },
     "execution_count": 19,
     "metadata": {},
     "output_type": "execute_result"
    }
   ],
   "source": [
    "year2012.groupby(['DateTime', 'Acorn_grouped', 'stdorToU']).sum().head(12)"
   ]
  },
  {
   "cell_type": "code",
   "execution_count": 18,
   "metadata": {
    "collapsed": false,
    "scrolled": true
   },
   "outputs": [
    {
     "data": {
      "text/html": [
       "<div>\n",
       "<table border=\"1\" class=\"dataframe\">\n",
       "  <thead>\n",
       "    <tr style=\"text-align: right;\">\n",
       "      <th></th>\n",
       "      <th></th>\n",
       "      <th></th>\n",
       "      <th>KWH/hh (per half hour)</th>\n",
       "      <th>LCLid</th>\n",
       "    </tr>\n",
       "    <tr>\n",
       "      <th>DateTime</th>\n",
       "      <th>Acorn_grouped</th>\n",
       "      <th>stdorToU</th>\n",
       "      <th></th>\n",
       "      <th></th>\n",
       "    </tr>\n",
       "  </thead>\n",
       "  <tbody>\n",
       "    <tr>\n",
       "      <th rowspan=\"8\" valign=\"top\">2013-01-01 00:00:00</th>\n",
       "      <th rowspan=\"2\" valign=\"top\">ACORN-U</th>\n",
       "      <th>Std</th>\n",
       "      <td>0.281658</td>\n",
       "      <td>38</td>\n",
       "    </tr>\n",
       "    <tr>\n",
       "      <th>ToU</th>\n",
       "      <td>0.220000</td>\n",
       "      <td>10</td>\n",
       "    </tr>\n",
       "    <tr>\n",
       "      <th rowspan=\"2\" valign=\"top\">Adversity</th>\n",
       "      <th>Std</th>\n",
       "      <td>1.794055</td>\n",
       "      <td>1505</td>\n",
       "    </tr>\n",
       "    <tr>\n",
       "      <th>ToU</th>\n",
       "      <td>1.310778</td>\n",
       "      <td>296</td>\n",
       "    </tr>\n",
       "    <tr>\n",
       "      <th rowspan=\"2\" valign=\"top\">Affluent</th>\n",
       "      <th>Std</th>\n",
       "      <td>1.629151</td>\n",
       "      <td>1683</td>\n",
       "    </tr>\n",
       "    <tr>\n",
       "      <th>ToU</th>\n",
       "      <td>1.634195</td>\n",
       "      <td>485</td>\n",
       "    </tr>\n",
       "    <tr>\n",
       "      <th rowspan=\"2\" valign=\"top\">Comfortable</th>\n",
       "      <th>Std</th>\n",
       "      <td>1.529581</td>\n",
       "      <td>1171</td>\n",
       "    </tr>\n",
       "    <tr>\n",
       "      <th>ToU</th>\n",
       "      <td>0.974965</td>\n",
       "      <td>320</td>\n",
       "    </tr>\n",
       "    <tr>\n",
       "      <th rowspan=\"4\" valign=\"top\">2013-01-01 00:30:00</th>\n",
       "      <th rowspan=\"2\" valign=\"top\">ACORN-U</th>\n",
       "      <th>Std</th>\n",
       "      <td>0.271211</td>\n",
       "      <td>38</td>\n",
       "    </tr>\n",
       "    <tr>\n",
       "      <th>ToU</th>\n",
       "      <td>0.223800</td>\n",
       "      <td>10</td>\n",
       "    </tr>\n",
       "    <tr>\n",
       "      <th rowspan=\"2\" valign=\"top\">Adversity</th>\n",
       "      <th>Std</th>\n",
       "      <td>1.669714</td>\n",
       "      <td>1506</td>\n",
       "    </tr>\n",
       "    <tr>\n",
       "      <th>ToU</th>\n",
       "      <td>1.301760</td>\n",
       "      <td>296</td>\n",
       "    </tr>\n",
       "  </tbody>\n",
       "</table>\n",
       "</div>"
      ],
      "text/plain": [
       "                                            KWH/hh (per half hour)   LCLid\n",
       "DateTime            Acorn_grouped stdorToU                                \n",
       "2013-01-01 00:00:00 ACORN-U       Std                      0.281658     38\n",
       "                                  ToU                      0.220000     10\n",
       "                    Adversity     Std                      1.794055   1505\n",
       "                                  ToU                      1.310778    296\n",
       "                    Affluent      Std                      1.629151   1683\n",
       "                                  ToU                      1.634195    485\n",
       "                    Comfortable   Std                      1.529581   1171\n",
       "                                  ToU                      0.974965    320\n",
       "2013-01-01 00:30:00 ACORN-U       Std                      0.271211     38\n",
       "                                  ToU                      0.223800     10\n",
       "                    Adversity     Std                      1.669714   1506\n",
       "                                  ToU                      1.301760    296"
      ]
     },
     "execution_count": 18,
     "metadata": {},
     "output_type": "execute_result"
    }
   ],
   "source": [
    "year2013.groupby(['DateTime', 'Acorn_grouped', 'stdorToU']).sum().head(12)"
   ]
  },
  {
   "cell_type": "code",
   "execution_count": 20,
   "metadata": {
    "collapsed": true
   },
   "outputs": [],
   "source": [
    "list_of_interest = ['Adversity', 'Affluent', 'Comfortable']"
   ]
  },
  {
   "cell_type": "code",
   "execution_count": 21,
   "metadata": {
    "collapsed": true
   },
   "outputs": [],
   "source": [
    "year2012 = year2012[year2012['Acorn_grouped'].isin(list_of_interest)]\n",
    "year2013 = year2013[year2013['Acorn_grouped'].isin(list_of_interest)]"
   ]
  },
  {
   "cell_type": "code",
   "execution_count": 25,
   "metadata": {
    "collapsed": true
   },
   "outputs": [],
   "source": [
    "list = [year2012, year2013]"
   ]
  },
  {
   "cell_type": "code",
   "execution_count": 51,
   "metadata": {
    "collapsed": true
   },
   "outputs": [],
   "source": [
    "df = pd.concat(list)"
   ]
  },
  {
   "cell_type": "code",
   "execution_count": 52,
   "metadata": {
    "collapsed": false
   },
   "outputs": [
    {
     "data": {
      "text/html": [
       "<div>\n",
       "<table border=\"1\" class=\"dataframe\">\n",
       "  <thead>\n",
       "    <tr style=\"text-align: right;\">\n",
       "      <th></th>\n",
       "      <th>DateTime</th>\n",
       "      <th>Acorn</th>\n",
       "      <th>Acorn_grouped</th>\n",
       "      <th>stdorToU</th>\n",
       "      <th>KWH/hh (per half hour)</th>\n",
       "      <th>LCLid</th>\n",
       "    </tr>\n",
       "  </thead>\n",
       "  <tbody>\n",
       "    <tr>\n",
       "      <th>0</th>\n",
       "      <td>2012-01-01 00:00:00</td>\n",
       "      <td>ACORN-A</td>\n",
       "      <td>Affluent</td>\n",
       "      <td>Std</td>\n",
       "      <td>0.495875</td>\n",
       "      <td>8</td>\n",
       "    </tr>\n",
       "    <tr>\n",
       "      <th>1</th>\n",
       "      <td>2012-01-01 00:00:00</td>\n",
       "      <td>ACORN-A</td>\n",
       "      <td>Affluent</td>\n",
       "      <td>ToU</td>\n",
       "      <td>0.279000</td>\n",
       "      <td>1</td>\n",
       "    </tr>\n",
       "    <tr>\n",
       "      <th>2</th>\n",
       "      <td>2012-01-01 00:00:00</td>\n",
       "      <td>ACORN-B</td>\n",
       "      <td>Affluent</td>\n",
       "      <td>Std</td>\n",
       "      <td>0.156000</td>\n",
       "      <td>1</td>\n",
       "    </tr>\n",
       "    <tr>\n",
       "      <th>3</th>\n",
       "      <td>2012-01-01 00:00:00</td>\n",
       "      <td>ACORN-C</td>\n",
       "      <td>Affluent</td>\n",
       "      <td>Std</td>\n",
       "      <td>0.264400</td>\n",
       "      <td>5</td>\n",
       "    </tr>\n",
       "    <tr>\n",
       "      <th>4</th>\n",
       "      <td>2012-01-01 00:00:00</td>\n",
       "      <td>ACORN-C</td>\n",
       "      <td>Affluent</td>\n",
       "      <td>ToU</td>\n",
       "      <td>0.349000</td>\n",
       "      <td>2</td>\n",
       "    </tr>\n",
       "    <tr>\n",
       "      <th>5</th>\n",
       "      <td>2012-01-01 00:00:00</td>\n",
       "      <td>ACORN-D</td>\n",
       "      <td>Affluent</td>\n",
       "      <td>Std</td>\n",
       "      <td>0.303333</td>\n",
       "      <td>12</td>\n",
       "    </tr>\n",
       "  </tbody>\n",
       "</table>\n",
       "</div>"
      ],
      "text/plain": [
       "              DateTime    Acorn Acorn_grouped stdorToU  \\\n",
       "0  2012-01-01 00:00:00  ACORN-A      Affluent      Std   \n",
       "1  2012-01-01 00:00:00  ACORN-A      Affluent      ToU   \n",
       "2  2012-01-01 00:00:00  ACORN-B      Affluent      Std   \n",
       "3  2012-01-01 00:00:00  ACORN-C      Affluent      Std   \n",
       "4  2012-01-01 00:00:00  ACORN-C      Affluent      ToU   \n",
       "5  2012-01-01 00:00:00  ACORN-D      Affluent      Std   \n",
       "\n",
       "   KWH/hh (per half hour)   LCLid  \n",
       "0                 0.495875      8  \n",
       "1                 0.279000      1  \n",
       "2                 0.156000      1  \n",
       "3                 0.264400      5  \n",
       "4                 0.349000      2  \n",
       "5                 0.303333     12  "
      ]
     },
     "execution_count": 52,
     "metadata": {},
     "output_type": "execute_result"
    }
   ],
   "source": [
    "df.head(6)"
   ]
  },
  {
   "cell_type": "code",
   "execution_count": 53,
   "metadata": {
    "collapsed": false
   },
   "outputs": [
    {
     "data": {
      "text/html": [
       "<div>\n",
       "<table border=\"1\" class=\"dataframe\">\n",
       "  <thead>\n",
       "    <tr style=\"text-align: right;\">\n",
       "      <th></th>\n",
       "      <th>DateTime</th>\n",
       "      <th>Acorn</th>\n",
       "      <th>Acorn_grouped</th>\n",
       "      <th>stdorToU</th>\n",
       "      <th>KWH/hh (per half hour)</th>\n",
       "      <th>LCLid</th>\n",
       "    </tr>\n",
       "  </thead>\n",
       "  <tbody>\n",
       "    <tr>\n",
       "      <th>642567</th>\n",
       "      <td>2013-12-31 23:30:00</td>\n",
       "      <td>ACORN-O</td>\n",
       "      <td>Adversity</td>\n",
       "      <td>Std</td>\n",
       "      <td>0.226571</td>\n",
       "      <td>77</td>\n",
       "    </tr>\n",
       "    <tr>\n",
       "      <th>642568</th>\n",
       "      <td>2013-12-31 23:30:00</td>\n",
       "      <td>ACORN-O</td>\n",
       "      <td>Adversity</td>\n",
       "      <td>ToU</td>\n",
       "      <td>0.205125</td>\n",
       "      <td>16</td>\n",
       "    </tr>\n",
       "    <tr>\n",
       "      <th>642569</th>\n",
       "      <td>2013-12-31 23:30:00</td>\n",
       "      <td>ACORN-P</td>\n",
       "      <td>Adversity</td>\n",
       "      <td>Std</td>\n",
       "      <td>0.088470</td>\n",
       "      <td>83</td>\n",
       "    </tr>\n",
       "    <tr>\n",
       "      <th>642570</th>\n",
       "      <td>2013-12-31 23:30:00</td>\n",
       "      <td>ACORN-P</td>\n",
       "      <td>Adversity</td>\n",
       "      <td>ToU</td>\n",
       "      <td>0.070350</td>\n",
       "      <td>20</td>\n",
       "    </tr>\n",
       "    <tr>\n",
       "      <th>642571</th>\n",
       "      <td>2013-12-31 23:30:00</td>\n",
       "      <td>ACORN-Q</td>\n",
       "      <td>Adversity</td>\n",
       "      <td>Std</td>\n",
       "      <td>0.198287</td>\n",
       "      <td>648</td>\n",
       "    </tr>\n",
       "    <tr>\n",
       "      <th>642572</th>\n",
       "      <td>2013-12-31 23:30:00</td>\n",
       "      <td>ACORN-Q</td>\n",
       "      <td>Adversity</td>\n",
       "      <td>ToU</td>\n",
       "      <td>0.157405</td>\n",
       "      <td>111</td>\n",
       "    </tr>\n",
       "  </tbody>\n",
       "</table>\n",
       "</div>"
      ],
      "text/plain": [
       "                   DateTime    Acorn Acorn_grouped stdorToU  \\\n",
       "642567  2013-12-31 23:30:00  ACORN-O     Adversity      Std   \n",
       "642568  2013-12-31 23:30:00  ACORN-O     Adversity      ToU   \n",
       "642569  2013-12-31 23:30:00  ACORN-P     Adversity      Std   \n",
       "642570  2013-12-31 23:30:00  ACORN-P     Adversity      ToU   \n",
       "642571  2013-12-31 23:30:00  ACORN-Q     Adversity      Std   \n",
       "642572  2013-12-31 23:30:00  ACORN-Q     Adversity      ToU   \n",
       "\n",
       "        KWH/hh (per half hour)   LCLid  \n",
       "642567                 0.226571     77  \n",
       "642568                 0.205125     16  \n",
       "642569                 0.088470     83  \n",
       "642570                 0.070350     20  \n",
       "642571                 0.198287    648  \n",
       "642572                 0.157405    111  "
      ]
     },
     "execution_count": 53,
     "metadata": {},
     "output_type": "execute_result"
    }
   ],
   "source": [
    "df.tail(6)"
   ]
  },
  {
   "cell_type": "code",
   "execution_count": 54,
   "metadata": {
    "collapsed": true
   },
   "outputs": [],
   "source": [
    "df['total_energy'] = df['KWH/hh (per half hour) '] * df.LCLid"
   ]
  },
  {
   "cell_type": "code",
   "execution_count": 55,
   "metadata": {
    "collapsed": false
   },
   "outputs": [],
   "source": [
    "df.drop(['KWH/hh (per half hour) '], axis=1, inplace=True)"
   ]
  },
  {
   "cell_type": "code",
   "execution_count": 56,
   "metadata": {
    "collapsed": false
   },
   "outputs": [
    {
     "data": {
      "text/html": [
       "<div>\n",
       "<table border=\"1\" class=\"dataframe\">\n",
       "  <thead>\n",
       "    <tr style=\"text-align: right;\">\n",
       "      <th></th>\n",
       "      <th>DateTime</th>\n",
       "      <th>Acorn</th>\n",
       "      <th>Acorn_grouped</th>\n",
       "      <th>stdorToU</th>\n",
       "      <th>LCLid</th>\n",
       "      <th>total_energy</th>\n",
       "    </tr>\n",
       "  </thead>\n",
       "  <tbody>\n",
       "    <tr>\n",
       "      <th>0</th>\n",
       "      <td>2012-01-01 00:00:00</td>\n",
       "      <td>ACORN-A</td>\n",
       "      <td>Affluent</td>\n",
       "      <td>Std</td>\n",
       "      <td>8</td>\n",
       "      <td>3.967</td>\n",
       "    </tr>\n",
       "    <tr>\n",
       "      <th>1</th>\n",
       "      <td>2012-01-01 00:00:00</td>\n",
       "      <td>ACORN-A</td>\n",
       "      <td>Affluent</td>\n",
       "      <td>ToU</td>\n",
       "      <td>1</td>\n",
       "      <td>0.279</td>\n",
       "    </tr>\n",
       "    <tr>\n",
       "      <th>2</th>\n",
       "      <td>2012-01-01 00:00:00</td>\n",
       "      <td>ACORN-B</td>\n",
       "      <td>Affluent</td>\n",
       "      <td>Std</td>\n",
       "      <td>1</td>\n",
       "      <td>0.156</td>\n",
       "    </tr>\n",
       "    <tr>\n",
       "      <th>3</th>\n",
       "      <td>2012-01-01 00:00:00</td>\n",
       "      <td>ACORN-C</td>\n",
       "      <td>Affluent</td>\n",
       "      <td>Std</td>\n",
       "      <td>5</td>\n",
       "      <td>1.322</td>\n",
       "    </tr>\n",
       "    <tr>\n",
       "      <th>4</th>\n",
       "      <td>2012-01-01 00:00:00</td>\n",
       "      <td>ACORN-C</td>\n",
       "      <td>Affluent</td>\n",
       "      <td>ToU</td>\n",
       "      <td>2</td>\n",
       "      <td>0.698</td>\n",
       "    </tr>\n",
       "  </tbody>\n",
       "</table>\n",
       "</div>"
      ],
      "text/plain": [
       "              DateTime    Acorn Acorn_grouped stdorToU  LCLid  total_energy\n",
       "0  2012-01-01 00:00:00  ACORN-A      Affluent      Std      8         3.967\n",
       "1  2012-01-01 00:00:00  ACORN-A      Affluent      ToU      1         0.279\n",
       "2  2012-01-01 00:00:00  ACORN-B      Affluent      Std      1         0.156\n",
       "3  2012-01-01 00:00:00  ACORN-C      Affluent      Std      5         1.322\n",
       "4  2012-01-01 00:00:00  ACORN-C      Affluent      ToU      2         0.698"
      ]
     },
     "execution_count": 56,
     "metadata": {},
     "output_type": "execute_result"
    }
   ],
   "source": [
    "df.head()"
   ]
  },
  {
   "cell_type": "code",
   "execution_count": 57,
   "metadata": {
    "collapsed": false
   },
   "outputs": [
    {
     "ename": "TypeError",
     "evalue": "first argument must be an iterable of pandas objects, you passed an object of type \"Series\"",
     "output_type": "error",
     "traceback": [
      "\u001b[1;31m---------------------------------------------------------------------------\u001b[0m",
      "\u001b[1;31mTypeError\u001b[0m                                 Traceback (most recent call last)",
      "\u001b[1;32m<ipython-input-57-17757cce9a0e>\u001b[0m in \u001b[0;36m<module>\u001b[1;34m()\u001b[0m\n\u001b[1;32m----> 1\u001b[1;33m \u001b[0mdf\u001b[0m\u001b[1;33m[\u001b[0m\u001b[1;34m'concat'\u001b[0m\u001b[1;33m]\u001b[0m \u001b[1;33m=\u001b[0m \u001b[0mpd\u001b[0m\u001b[1;33m.\u001b[0m\u001b[0mconcat\u001b[0m\u001b[1;33m(\u001b[0m\u001b[0mdf\u001b[0m\u001b[1;33m.\u001b[0m\u001b[0mAcorn_grouped\u001b[0m\u001b[1;33m,\u001b[0m \u001b[0mdf\u001b[0m\u001b[1;33m.\u001b[0m\u001b[0mstdorToU\u001b[0m\u001b[1;33m)\u001b[0m\u001b[1;33m\u001b[0m\u001b[0m\n\u001b[0m",
      "\u001b[1;32mC:\\Users\\Hrafnkell\\Anaconda2\\lib\\site-packages\\pandas\\tools\\merge.pyc\u001b[0m in \u001b[0;36mconcat\u001b[1;34m(objs, axis, join, join_axes, ignore_index, keys, levels, names, verify_integrity, copy)\u001b[0m\n\u001b[0;32m    843\u001b[0m                        \u001b[0mkeys\u001b[0m\u001b[1;33m=\u001b[0m\u001b[0mkeys\u001b[0m\u001b[1;33m,\u001b[0m \u001b[0mlevels\u001b[0m\u001b[1;33m=\u001b[0m\u001b[0mlevels\u001b[0m\u001b[1;33m,\u001b[0m \u001b[0mnames\u001b[0m\u001b[1;33m=\u001b[0m\u001b[0mnames\u001b[0m\u001b[1;33m,\u001b[0m\u001b[1;33m\u001b[0m\u001b[0m\n\u001b[0;32m    844\u001b[0m                        \u001b[0mverify_integrity\u001b[0m\u001b[1;33m=\u001b[0m\u001b[0mverify_integrity\u001b[0m\u001b[1;33m,\u001b[0m\u001b[1;33m\u001b[0m\u001b[0m\n\u001b[1;32m--> 845\u001b[1;33m                        copy=copy)\n\u001b[0m\u001b[0;32m    846\u001b[0m     \u001b[1;32mreturn\u001b[0m \u001b[0mop\u001b[0m\u001b[1;33m.\u001b[0m\u001b[0mget_result\u001b[0m\u001b[1;33m(\u001b[0m\u001b[1;33m)\u001b[0m\u001b[1;33m\u001b[0m\u001b[0m\n\u001b[0;32m    847\u001b[0m \u001b[1;33m\u001b[0m\u001b[0m\n",
      "\u001b[1;32mC:\\Users\\Hrafnkell\\Anaconda2\\lib\\site-packages\\pandas\\tools\\merge.pyc\u001b[0m in \u001b[0;36m__init__\u001b[1;34m(self, objs, axis, join, join_axes, keys, levels, names, ignore_index, verify_integrity, copy)\u001b[0m\n\u001b[0;32m    858\u001b[0m             raise TypeError('first argument must be an iterable of pandas '\n\u001b[0;32m    859\u001b[0m                             \u001b[1;34m'objects, you passed an object of type '\u001b[0m\u001b[1;33m\u001b[0m\u001b[0m\n\u001b[1;32m--> 860\u001b[1;33m                             '\"{0}\"'.format(type(objs).__name__))\n\u001b[0m\u001b[0;32m    861\u001b[0m \u001b[1;33m\u001b[0m\u001b[0m\n\u001b[0;32m    862\u001b[0m         \u001b[1;32mif\u001b[0m \u001b[0mjoin\u001b[0m \u001b[1;33m==\u001b[0m \u001b[1;34m'outer'\u001b[0m\u001b[1;33m:\u001b[0m\u001b[1;33m\u001b[0m\u001b[0m\n",
      "\u001b[1;31mTypeError\u001b[0m: first argument must be an iterable of pandas objects, you passed an object of type \"Series\""
     ]
    }
   ],
   "source": [
    "df['concat'] = pd.concat(df.Acorn_grouped, df.stdorToU)"
   ]
  },
  {
   "cell_type": "code",
   "execution_count": 41,
   "metadata": {
    "collapsed": false
   },
   "outputs": [
    {
     "data": {
      "text/html": [
       "<div>\n",
       "<table border=\"1\" class=\"dataframe\">\n",
       "  <thead>\n",
       "    <tr style=\"text-align: right;\">\n",
       "      <th></th>\n",
       "      <th></th>\n",
       "      <th></th>\n",
       "      <th>LCLid</th>\n",
       "      <th>total_energy</th>\n",
       "    </tr>\n",
       "    <tr>\n",
       "      <th>DateTime</th>\n",
       "      <th>Acorn_grouped</th>\n",
       "      <th>stdorToU</th>\n",
       "      <th></th>\n",
       "      <th></th>\n",
       "    </tr>\n",
       "  </thead>\n",
       "  <tbody>\n",
       "    <tr>\n",
       "      <th rowspan=\"5\" valign=\"top\">2013-12-31 23:30:00</th>\n",
       "      <th>Adversity</th>\n",
       "      <th>ToU</th>\n",
       "      <td>280</td>\n",
       "      <td>49.743</td>\n",
       "    </tr>\n",
       "    <tr>\n",
       "      <th rowspan=\"2\" valign=\"top\">Affluent</th>\n",
       "      <th>Std</th>\n",
       "      <td>1517</td>\n",
       "      <td>416.371</td>\n",
       "    </tr>\n",
       "    <tr>\n",
       "      <th>ToU</th>\n",
       "      <td>455</td>\n",
       "      <td>115.879</td>\n",
       "    </tr>\n",
       "    <tr>\n",
       "      <th rowspan=\"2\" valign=\"top\">Comfortable</th>\n",
       "      <th>Std</th>\n",
       "      <td>1107</td>\n",
       "      <td>292.688</td>\n",
       "    </tr>\n",
       "    <tr>\n",
       "      <th>ToU</th>\n",
       "      <td>297</td>\n",
       "      <td>64.539</td>\n",
       "    </tr>\n",
       "  </tbody>\n",
       "</table>\n",
       "</div>"
      ],
      "text/plain": [
       "                                            LCLid  total_energy\n",
       "DateTime            Acorn_grouped stdorToU                     \n",
       "2013-12-31 23:30:00 Adversity     ToU         280        49.743\n",
       "                    Affluent      Std        1517       416.371\n",
       "                                  ToU         455       115.879\n",
       "                    Comfortable   Std        1107       292.688\n",
       "                                  ToU         297        64.539"
      ]
     },
     "execution_count": 41,
     "metadata": {},
     "output_type": "execute_result"
    }
   ],
   "source": [
    "df.groupby(['DateTime', 'Acorn_grouped', 'stdorToU']).sum().tail(6)"
   ]
  },
  {
   "cell_type": "code",
   "execution_count": 58,
   "metadata": {
    "collapsed": true
   },
   "outputs": [],
   "source": [
    "df = df.groupby(['DateTime', 'Acorn_grouped', 'stdorToU']).sum()"
   ]
  },
  {
   "cell_type": "code",
   "execution_count": 59,
   "metadata": {
    "collapsed": false,
    "scrolled": true
   },
   "outputs": [
    {
     "data": {
      "text/html": [
       "<div>\n",
       "<table border=\"1\" class=\"dataframe\">\n",
       "  <thead>\n",
       "    <tr style=\"text-align: right;\">\n",
       "      <th></th>\n",
       "      <th></th>\n",
       "      <th></th>\n",
       "      <th>LCLid</th>\n",
       "      <th>total_energy</th>\n",
       "    </tr>\n",
       "    <tr>\n",
       "      <th>DateTime</th>\n",
       "      <th>Acorn_grouped</th>\n",
       "      <th>stdorToU</th>\n",
       "      <th></th>\n",
       "      <th></th>\n",
       "    </tr>\n",
       "  </thead>\n",
       "  <tbody>\n",
       "    <tr>\n",
       "      <th rowspan=\"6\" valign=\"top\">2012-01-01 00:00:00</th>\n",
       "      <th rowspan=\"2\" valign=\"top\">Adversity</th>\n",
       "      <th>Std</th>\n",
       "      <td>110</td>\n",
       "      <td>23.560</td>\n",
       "    </tr>\n",
       "    <tr>\n",
       "      <th>ToU</th>\n",
       "      <td>15</td>\n",
       "      <td>4.089</td>\n",
       "    </tr>\n",
       "    <tr>\n",
       "      <th rowspan=\"2\" valign=\"top\">Affluent</th>\n",
       "      <th>Std</th>\n",
       "      <td>143</td>\n",
       "      <td>39.146</td>\n",
       "    </tr>\n",
       "    <tr>\n",
       "      <th>ToU</th>\n",
       "      <td>24</td>\n",
       "      <td>5.622</td>\n",
       "    </tr>\n",
       "    <tr>\n",
       "      <th rowspan=\"2\" valign=\"top\">Comfortable</th>\n",
       "      <th>Std</th>\n",
       "      <td>97</td>\n",
       "      <td>17.848</td>\n",
       "    </tr>\n",
       "    <tr>\n",
       "      <th>ToU</th>\n",
       "      <td>17</td>\n",
       "      <td>3.825</td>\n",
       "    </tr>\n",
       "  </tbody>\n",
       "</table>\n",
       "</div>"
      ],
      "text/plain": [
       "                                            LCLid  total_energy\n",
       "DateTime            Acorn_grouped stdorToU                     \n",
       "2012-01-01 00:00:00 Adversity     Std         110        23.560\n",
       "                                  ToU          15         4.089\n",
       "                    Affluent      Std         143        39.146\n",
       "                                  ToU          24         5.622\n",
       "                    Comfortable   Std          97        17.848\n",
       "                                  ToU          17         3.825"
      ]
     },
     "execution_count": 59,
     "metadata": {},
     "output_type": "execute_result"
    }
   ],
   "source": [
    "df.head(6)"
   ]
  },
  {
   "cell_type": "code",
   "execution_count": 65,
   "metadata": {
    "collapsed": true
   },
   "outputs": [],
   "source": [
    "df.reset_index(inplace=True)"
   ]
  },
  {
   "cell_type": "code",
   "execution_count": 66,
   "metadata": {
    "collapsed": false
   },
   "outputs": [
    {
     "data": {
      "text/plain": [
       "Index([u'DateTime', u'Acorn_grouped', u'stdorToU', u'LCLid', u'total_energy'], dtype='object')"
      ]
     },
     "execution_count": 66,
     "metadata": {},
     "output_type": "execute_result"
    }
   ],
   "source": [
    "df.columns"
   ]
  },
  {
   "cell_type": "code",
   "execution_count": 67,
   "metadata": {
    "collapsed": true
   },
   "outputs": [],
   "source": [
    "df['concat'] = df.Acorn_grouped + df.stdorToU"
   ]
  },
  {
   "cell_type": "code",
   "execution_count": 70,
   "metadata": {
    "collapsed": false
   },
   "outputs": [
    {
     "data": {
      "text/html": [
       "<div>\n",
       "<table border=\"1\" class=\"dataframe\">\n",
       "  <thead>\n",
       "    <tr style=\"text-align: right;\">\n",
       "      <th></th>\n",
       "      <th></th>\n",
       "      <th>LCLid</th>\n",
       "      <th>total_energy</th>\n",
       "    </tr>\n",
       "    <tr>\n",
       "      <th>DateTime</th>\n",
       "      <th>concat</th>\n",
       "      <th></th>\n",
       "      <th></th>\n",
       "    </tr>\n",
       "  </thead>\n",
       "  <tbody>\n",
       "    <tr>\n",
       "      <th rowspan=\"6\" valign=\"top\">2012-01-01 00:00:00</th>\n",
       "      <th>AdversityStd</th>\n",
       "      <td>110</td>\n",
       "      <td>23.560</td>\n",
       "    </tr>\n",
       "    <tr>\n",
       "      <th>AdversityToU</th>\n",
       "      <td>15</td>\n",
       "      <td>4.089</td>\n",
       "    </tr>\n",
       "    <tr>\n",
       "      <th>AffluentStd</th>\n",
       "      <td>143</td>\n",
       "      <td>39.146</td>\n",
       "    </tr>\n",
       "    <tr>\n",
       "      <th>AffluentToU</th>\n",
       "      <td>24</td>\n",
       "      <td>5.622</td>\n",
       "    </tr>\n",
       "    <tr>\n",
       "      <th>ComfortableStd</th>\n",
       "      <td>97</td>\n",
       "      <td>17.848</td>\n",
       "    </tr>\n",
       "    <tr>\n",
       "      <th>ComfortableToU</th>\n",
       "      <td>17</td>\n",
       "      <td>3.825</td>\n",
       "    </tr>\n",
       "    <tr>\n",
       "      <th rowspan=\"6\" valign=\"top\">2012-01-01 00:30:00</th>\n",
       "      <th>AdversityStd</th>\n",
       "      <td>110</td>\n",
       "      <td>33.990</td>\n",
       "    </tr>\n",
       "    <tr>\n",
       "      <th>AdversityToU</th>\n",
       "      <td>15</td>\n",
       "      <td>4.909</td>\n",
       "    </tr>\n",
       "    <tr>\n",
       "      <th>AffluentStd</th>\n",
       "      <td>143</td>\n",
       "      <td>48.884</td>\n",
       "    </tr>\n",
       "    <tr>\n",
       "      <th>AffluentToU</th>\n",
       "      <td>24</td>\n",
       "      <td>5.123</td>\n",
       "    </tr>\n",
       "    <tr>\n",
       "      <th>ComfortableStd</th>\n",
       "      <td>97</td>\n",
       "      <td>18.174</td>\n",
       "    </tr>\n",
       "    <tr>\n",
       "      <th>ComfortableToU</th>\n",
       "      <td>17</td>\n",
       "      <td>3.230</td>\n",
       "    </tr>\n",
       "  </tbody>\n",
       "</table>\n",
       "</div>"
      ],
      "text/plain": [
       "                                    LCLid  total_energy\n",
       "DateTime            concat                             \n",
       "2012-01-01 00:00:00 AdversityStd      110        23.560\n",
       "                    AdversityToU       15         4.089\n",
       "                    AffluentStd       143        39.146\n",
       "                    AffluentToU        24         5.622\n",
       "                    ComfortableStd     97        17.848\n",
       "                    ComfortableToU     17         3.825\n",
       "2012-01-01 00:30:00 AdversityStd      110        33.990\n",
       "                    AdversityToU       15         4.909\n",
       "                    AffluentStd       143        48.884\n",
       "                    AffluentToU        24         5.123\n",
       "                    ComfortableStd     97        18.174\n",
       "                    ComfortableToU     17         3.230"
      ]
     },
     "execution_count": 70,
     "metadata": {},
     "output_type": "execute_result"
    }
   ],
   "source": [
    "df.groupby(['DateTime', 'concat']).sum().head(12)"
   ]
  }
 ],
 "metadata": {
  "kernelspec": {
   "display_name": "Python [Root]",
   "language": "python",
   "name": "Python [Root]"
  },
  "language_info": {
   "codemirror_mode": {
    "name": "ipython",
    "version": 2
   },
   "file_extension": ".py",
   "mimetype": "text/x-python",
   "name": "python",
   "nbconvert_exporter": "python",
   "pygments_lexer": "ipython2",
   "version": "2.7.12"
  }
 },
 "nbformat": 4,
 "nbformat_minor": 0
}
