{
 "cells": [
  {
   "cell_type": "code",
   "execution_count": 69,
   "metadata": {
    "collapsed": true
   },
   "outputs": [],
   "source": [
    "import os\n",
    "import numpy as np\n",
    "import pandas as pd"
   ]
  },
  {
   "cell_type": "code",
   "execution_count": 70,
   "metadata": {
    "collapsed": false
   },
   "outputs": [],
   "source": [
    "# folder where the data is stored\n",
    "path = '../../../share/Power-Networks-LCL-June2015(withAcornGps).csv_Pieces/'\n",
    "\n",
    "# file name (without the final number)\n",
    "fname = 'Power-Networks-LCL-June2015(withAcornGps)v2_'"
   ]
  },
  {
   "cell_type": "code",
   "execution_count": 123,
   "metadata": {
    "collapsed": false
   },
   "outputs": [],
   "source": [
    "def get_house_data(date_init, date_end, ID_init, ID_end, n_files):\n",
    "    count = 0\n",
    "    df_ = pd.DataFrame()\n",
    "    for i in n_files:\n",
    "        \n",
    "        first = True\n",
    "        df = pd.read_csv(path+fname+str(i)+\".csv\", parse_dates=[0], infer_datetime_format=True)\n",
    "        \n",
    "        #check max and min\n",
    "        if ((df.DateTime.min() > date_end) | (df.DateTime.max() < date_init)):\n",
    "            pass\n",
    "        \n",
    "        elif ((df.LCLid.min() > ID_end) | (df.LCLid.max() < ID_init)):\n",
    "            pass\n",
    "        \n",
    "        else:           \n",
    "            # boolean masks\n",
    "            b = [((df.DateTime[k] < date_end) & (df.DateTime[k] > date_init))\n",
    "                      & ((df.LCLid[k] < ID_end) & (df.LCLid[k] > ID_init)) for k in xrange(len(df))]\n",
    "                    \n",
    "            df = df[b]\n",
    "        \n",
    "            if first:\n",
    "                df_ = df\n",
    "                first = False\n",
    "            else:\n",
    "                df_ = pd.concat([df_, df], axis = 0)\n",
    "        \n",
    "        count+=1\n",
    "        print '\\r',\"%\",str((count)*100./len(n_files)),\n",
    "    \n",
    "    return df_\n",
    "        "
   ]
  },
  {
   "cell_type": "code",
   "execution_count": 127,
   "metadata": {
    "collapsed": false
   },
   "outputs": [],
   "source": [
    "# parameters\n",
    "\n",
    "date_init = '2012-01-31 23:59:00'\n",
    "date_end = '2012-03-01 00:00:00'\n",
    "ID_init = 'MAC000100'\n",
    "ID_end = 'MAC000400'\n",
    "\n",
    "n_files = range(1, 5)\n",
    "\n",
    "\n"
   ]
  },
  {
   "cell_type": "code",
   "execution_count": 128,
   "metadata": {
    "collapsed": false
   },
   "outputs": [
    {
     "name": "stdout",
     "output_type": "stream",
     "text": [
      "% 100.0\n"
     ]
    }
   ],
   "source": [
    "# call function\n",
    "nrg_per_house = get_house_data(date_init, date_end, ID_init, ID_end, n_files)\n"
   ]
  },
  {
   "cell_type": "code",
   "execution_count": 129,
   "metadata": {
    "collapsed": false,
    "scrolled": true
   },
   "outputs": [
    {
     "name": "stdout",
     "output_type": "stream",
     "text": [
      "<class 'pandas.core.frame.DataFrame'>\n",
      "Int64Index: 36261 entries, 5734 to 975512\n",
      "Data columns (total 6 columns):\n",
      "LCLid                      36261 non-null object\n",
      "stdorToU                   36261 non-null object\n",
      "DateTime                   36261 non-null object\n",
      "KWH/hh (per half hour)     36261 non-null object\n",
      "Acorn                      36261 non-null object\n",
      "Acorn_grouped              36261 non-null object\n",
      "dtypes: object(6)\n",
      "memory usage: 1.9+ MB\n"
     ]
    }
   ],
   "source": [
    "nrg.info()"
   ]
  },
  {
   "cell_type": "code",
   "execution_count": 130,
   "metadata": {
    "collapsed": false
   },
   "outputs": [
    {
     "data": {
      "text/html": [
       "<div>\n",
       "<table border=\"1\" class=\"dataframe\">\n",
       "  <thead>\n",
       "    <tr style=\"text-align: right;\">\n",
       "      <th></th>\n",
       "      <th>LCLid</th>\n",
       "      <th>stdorToU</th>\n",
       "      <th>DateTime</th>\n",
       "      <th>KWH/hh (per half hour)</th>\n",
       "      <th>Acorn</th>\n",
       "      <th>Acorn_grouped</th>\n",
       "    </tr>\n",
       "  </thead>\n",
       "  <tbody>\n",
       "    <tr>\n",
       "      <th>5734</th>\n",
       "      <td>MAC000101</td>\n",
       "      <td>Std</td>\n",
       "      <td>2012-02-01 00:00:00.0000000</td>\n",
       "      <td>0.067</td>\n",
       "      <td>ACORN-L</td>\n",
       "      <td>Adversity</td>\n",
       "    </tr>\n",
       "    <tr>\n",
       "      <th>5735</th>\n",
       "      <td>MAC000101</td>\n",
       "      <td>Std</td>\n",
       "      <td>2012-02-01 00:30:00.0000000</td>\n",
       "      <td>0.095</td>\n",
       "      <td>ACORN-L</td>\n",
       "      <td>Adversity</td>\n",
       "    </tr>\n",
       "    <tr>\n",
       "      <th>5736</th>\n",
       "      <td>MAC000101</td>\n",
       "      <td>Std</td>\n",
       "      <td>2012-02-01 01:00:00.0000000</td>\n",
       "      <td>0.101</td>\n",
       "      <td>ACORN-L</td>\n",
       "      <td>Adversity</td>\n",
       "    </tr>\n",
       "    <tr>\n",
       "      <th>5737</th>\n",
       "      <td>MAC000101</td>\n",
       "      <td>Std</td>\n",
       "      <td>2012-02-01 01:30:00.0000000</td>\n",
       "      <td>0.102</td>\n",
       "      <td>ACORN-L</td>\n",
       "      <td>Adversity</td>\n",
       "    </tr>\n",
       "    <tr>\n",
       "      <th>5738</th>\n",
       "      <td>MAC000101</td>\n",
       "      <td>Std</td>\n",
       "      <td>2012-02-01 02:00:00.0000000</td>\n",
       "      <td>0.066</td>\n",
       "      <td>ACORN-L</td>\n",
       "      <td>Adversity</td>\n",
       "    </tr>\n",
       "  </tbody>\n",
       "</table>\n",
       "</div>"
      ],
      "text/plain": [
       "          LCLid stdorToU                     DateTime KWH/hh (per half hour)   \\\n",
       "5734  MAC000101      Std  2012-02-01 00:00:00.0000000                  0.067    \n",
       "5735  MAC000101      Std  2012-02-01 00:30:00.0000000                  0.095    \n",
       "5736  MAC000101      Std  2012-02-01 01:00:00.0000000                  0.101    \n",
       "5737  MAC000101      Std  2012-02-01 01:30:00.0000000                  0.102    \n",
       "5738  MAC000101      Std  2012-02-01 02:00:00.0000000                  0.066    \n",
       "\n",
       "        Acorn Acorn_grouped  \n",
       "5734  ACORN-L     Adversity  \n",
       "5735  ACORN-L     Adversity  \n",
       "5736  ACORN-L     Adversity  \n",
       "5737  ACORN-L     Adversity  \n",
       "5738  ACORN-L     Adversity  "
      ]
     },
     "execution_count": 130,
     "metadata": {},
     "output_type": "execute_result"
    }
   ],
   "source": [
    "nrg.head()"
   ]
  }
 ],
 "metadata": {
  "kernelspec": {
   "display_name": "Python 2",
   "language": "python",
   "name": "python2"
  },
  "language_info": {
   "codemirror_mode": {
    "name": "ipython",
    "version": 2
   },
   "file_extension": ".py",
   "mimetype": "text/x-python",
   "name": "python",
   "nbconvert_exporter": "python",
   "pygments_lexer": "ipython2",
   "version": "2.7.11"
  }
 },
 "nbformat": 4,
 "nbformat_minor": 0
}
