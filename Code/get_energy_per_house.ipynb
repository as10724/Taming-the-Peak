{
 "cells": [
  {
   "cell_type": "code",
   "execution_count": 139,
   "metadata": {
    "collapsed": true
   },
   "outputs": [],
   "source": [
    "import os\n",
    "import numpy as np\n",
    "import pandas as pd"
   ]
  },
  {
   "cell_type": "code",
   "execution_count": 140,
   "metadata": {
    "collapsed": false
   },
   "outputs": [],
   "source": [
    "# folder where the data is stored\n",
    "path = '../../../share/Power-Networks-LCL-June2015(withAcornGps).csv_Pieces/'\n",
    "\n",
    "# file name (without the final number)\n",
    "fname = 'Power-Networks-LCL-June2015(withAcornGps)v2_'"
   ]
  },
  {
   "cell_type": "code",
   "execution_count": 141,
   "metadata": {
    "collapsed": false
   },
   "outputs": [],
   "source": [
    "def get_house_data(date_init, date_end, ID_init, ID_end, n_files):\n",
    "    count = 0\n",
    "    df_ = pd.DataFrame()\n",
    "    for i in n_files:\n",
    "        \n",
    "        first = True\n",
    "        df = pd.read_csv(path+fname+str(i)+\".csv\", parse_dates=[0], infer_datetime_format=True)\n",
    "        \n",
    "        #check max and min\n",
    "        if ((df.DateTime.min() > date_end) | (df.DateTime.max() < date_init)):\n",
    "            pass\n",
    "        \n",
    "        elif ((df.LCLid.min() > ID_end) | (df.LCLid.max() < ID_init)):\n",
    "            pass\n",
    "        \n",
    "        else:           \n",
    "            # boolean masks\n",
    "            b = [((df.DateTime[k] < date_end) & (df.DateTime[k] > date_init))\n",
    "                      & ((df.LCLid[k] < ID_end) & (df.LCLid[k] > ID_init)) for k in xrange(len(df))]\n",
    "                    \n",
    "            df = df[b]\n",
    "        \n",
    "            if first:\n",
    "                df_ = df\n",
    "                first = False\n",
    "            else:\n",
    "                df_ = pd.concat([df_, df], axis = 0)\n",
    "        \n",
    "        count+=1\n",
    "        print '\\r',\"%\",str((count)*100./len(n_files)),\n",
    "    \n",
    "    return df_\n",
    "        "
   ]
  },
  {
   "cell_type": "code",
   "execution_count": 142,
   "metadata": {
    "collapsed": false
   },
   "outputs": [
    {
     "data": {
      "text/plain": [
       "[159, 160, 161, 162, 163, 164, 165, 166, 167, 168]"
      ]
     },
     "execution_count": 142,
     "metadata": {},
     "output_type": "execute_result"
    }
   ],
   "source": [
    "range(1, 169)[-10:]"
   ]
  },
  {
   "cell_type": "code",
   "execution_count": 146,
   "metadata": {
    "collapsed": false
   },
   "outputs": [],
   "source": [
    "# parameters\n",
    "\n",
    "date_init = '2013-06-30 23:59:00'\n",
    "date_end = '2013-08-01 00:00:00'\n",
    "ID_init = 'MAC000100'\n",
    "ID_end = 'MAC000400'\n",
    "\n",
    "n_files = range(1,168)\n",
    "\n",
    "\n"
   ]
  },
  {
   "cell_type": "code",
   "execution_count": 147,
   "metadata": {
    "collapsed": false
   },
   "outputs": [
    {
     "name": "stdout",
     "output_type": "stream",
     "text": [
      "% 100.0\n"
     ]
    }
   ],
   "source": [
    "# call function\n",
    "nrg_per_house = get_house_data(date_init, date_end, ID_init, ID_end, n_files)\n"
   ]
  },
  {
   "cell_type": "code",
   "execution_count": 148,
   "metadata": {
    "collapsed": false,
    "scrolled": true
   },
   "outputs": [
    {
     "name": "stdout",
     "output_type": "stream",
     "text": [
      "<class 'pandas.core.frame.DataFrame'>\n",
      "Int64Index: 20845 entries, 24507 to 467523\n",
      "Data columns (total 6 columns):\n",
      "LCLid                      20845 non-null object\n",
      "stdorToU                   20845 non-null object\n",
      "DateTime                   20845 non-null object\n",
      "KWH/hh (per half hour)     20845 non-null object\n",
      "Acorn                      20845 non-null object\n",
      "Acorn_grouped              20845 non-null object\n",
      "dtypes: object(6)\n",
      "memory usage: 1.1+ MB\n"
     ]
    }
   ],
   "source": [
    "nrg_per_house.info()"
   ]
  },
  {
   "cell_type": "code",
   "execution_count": 152,
   "metadata": {
    "collapsed": false
   },
   "outputs": [
    {
     "data": {
      "text/plain": [
       "'MAC000395'"
      ]
     },
     "execution_count": 152,
     "metadata": {},
     "output_type": "execute_result"
    }
   ],
   "source": [
    "nrg_per_house.LCLid.max()"
   ]
  },
  {
   "cell_type": "code",
   "execution_count": 150,
   "metadata": {
    "collapsed": false
   },
   "outputs": [
    {
     "data": {
      "text/html": [
       "<div>\n",
       "<table border=\"1\" class=\"dataframe\">\n",
       "  <thead>\n",
       "    <tr style=\"text-align: right;\">\n",
       "      <th></th>\n",
       "      <th>LCLid</th>\n",
       "      <th>stdorToU</th>\n",
       "      <th>DateTime</th>\n",
       "      <th>KWH/hh (per half hour)</th>\n",
       "      <th>Acorn</th>\n",
       "      <th>Acorn_grouped</th>\n",
       "    </tr>\n",
       "  </thead>\n",
       "  <tbody>\n",
       "    <tr>\n",
       "      <th>467519</th>\n",
       "      <td>MAC000395</td>\n",
       "      <td>ToU</td>\n",
       "      <td>2013-07-31 21:30:00.0000000</td>\n",
       "      <td>0.308</td>\n",
       "      <td>ACORN-L</td>\n",
       "      <td>Adversity</td>\n",
       "    </tr>\n",
       "    <tr>\n",
       "      <th>467520</th>\n",
       "      <td>MAC000395</td>\n",
       "      <td>ToU</td>\n",
       "      <td>2013-07-31 22:00:00.0000000</td>\n",
       "      <td>0.334</td>\n",
       "      <td>ACORN-L</td>\n",
       "      <td>Adversity</td>\n",
       "    </tr>\n",
       "    <tr>\n",
       "      <th>467521</th>\n",
       "      <td>MAC000395</td>\n",
       "      <td>ToU</td>\n",
       "      <td>2013-07-31 22:30:00.0000000</td>\n",
       "      <td>0.406</td>\n",
       "      <td>ACORN-L</td>\n",
       "      <td>Adversity</td>\n",
       "    </tr>\n",
       "    <tr>\n",
       "      <th>467522</th>\n",
       "      <td>MAC000395</td>\n",
       "      <td>ToU</td>\n",
       "      <td>2013-07-31 23:00:00.0000000</td>\n",
       "      <td>0.333</td>\n",
       "      <td>ACORN-L</td>\n",
       "      <td>Adversity</td>\n",
       "    </tr>\n",
       "    <tr>\n",
       "      <th>467523</th>\n",
       "      <td>MAC000395</td>\n",
       "      <td>ToU</td>\n",
       "      <td>2013-07-31 23:30:00.0000000</td>\n",
       "      <td>0.349</td>\n",
       "      <td>ACORN-L</td>\n",
       "      <td>Adversity</td>\n",
       "    </tr>\n",
       "  </tbody>\n",
       "</table>\n",
       "</div>"
      ],
      "text/plain": [
       "            LCLid stdorToU                     DateTime  \\\n",
       "467519  MAC000395      ToU  2013-07-31 21:30:00.0000000   \n",
       "467520  MAC000395      ToU  2013-07-31 22:00:00.0000000   \n",
       "467521  MAC000395      ToU  2013-07-31 22:30:00.0000000   \n",
       "467522  MAC000395      ToU  2013-07-31 23:00:00.0000000   \n",
       "467523  MAC000395      ToU  2013-07-31 23:30:00.0000000   \n",
       "\n",
       "       KWH/hh (per half hour)     Acorn Acorn_grouped  \n",
       "467519                  0.308   ACORN-L     Adversity  \n",
       "467520                  0.334   ACORN-L     Adversity  \n",
       "467521                  0.406   ACORN-L     Adversity  \n",
       "467522                  0.333   ACORN-L     Adversity  \n",
       "467523                  0.349   ACORN-L     Adversity  "
      ]
     },
     "execution_count": 150,
     "metadata": {},
     "output_type": "execute_result"
    }
   ],
   "source": [
    "nrg_per_house.tail()"
   ]
  },
  {
   "cell_type": "code",
   "execution_count": 153,
   "metadata": {
    "collapsed": true
   },
   "outputs": [],
   "source": [
    "output = '../Final_Data/energy_per_house_for_logisticReg_100to400_July2013.csv'\n",
    "\n",
    "nrg_per_house.to_csv(output)"
   ]
  },
  {
   "cell_type": "code",
   "execution_count": null,
   "metadata": {
    "collapsed": false
   },
   "outputs": [],
   "source": []
  }
 ],
 "metadata": {
  "kernelspec": {
   "display_name": "Python 2",
   "language": "python",
   "name": "python2"
  },
  "language_info": {
   "codemirror_mode": {
    "name": "ipython",
    "version": 2
   },
   "file_extension": ".py",
   "mimetype": "text/x-python",
   "name": "python",
   "nbconvert_exporter": "python",
   "pygments_lexer": "ipython2",
   "version": "2.7.11"
  }
 },
 "nbformat": 4,
 "nbformat_minor": 0
}
