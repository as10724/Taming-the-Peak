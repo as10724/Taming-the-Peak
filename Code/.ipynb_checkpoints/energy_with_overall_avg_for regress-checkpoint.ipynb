{
 "cells": [
  {
   "cell_type": "code",
   "execution_count": 1,
   "metadata": {
    "collapsed": true
   },
   "outputs": [],
   "source": [
    "import numpy as np\n",
    "import pandas as pd\n",
    "import datetime as DT"
   ]
  },
  {
   "cell_type": "code",
   "execution_count": 3,
   "metadata": {
    "collapsed": false
   },
   "outputs": [
    {
     "data": {
      "text/html": [
       "<div>\n",
       "<table border=\"1\" class=\"dataframe\">\n",
       "  <thead>\n",
       "    <tr style=\"text-align: right;\">\n",
       "      <th></th>\n",
       "      <th>DateTime</th>\n",
       "      <th>Acorn_grouped</th>\n",
       "      <th>N</th>\n",
       "      <th>nrg_cons</th>\n",
       "    </tr>\n",
       "  </thead>\n",
       "  <tbody>\n",
       "    <tr>\n",
       "      <th>0</th>\n",
       "      <td>2012-01-01 00:00:00</td>\n",
       "      <td>Adversity</td>\n",
       "      <td>125</td>\n",
       "      <td>0.221192</td>\n",
       "    </tr>\n",
       "    <tr>\n",
       "      <th>1</th>\n",
       "      <td>2012-01-01 00:00:00</td>\n",
       "      <td>Affluent</td>\n",
       "      <td>167</td>\n",
       "      <td>0.268072</td>\n",
       "    </tr>\n",
       "    <tr>\n",
       "      <th>2</th>\n",
       "      <td>2012-01-01 00:00:00</td>\n",
       "      <td>Comfortable</td>\n",
       "      <td>114</td>\n",
       "      <td>0.190114</td>\n",
       "    </tr>\n",
       "    <tr>\n",
       "      <th>3</th>\n",
       "      <td>2012-01-01 01:00:00</td>\n",
       "      <td>Adversity</td>\n",
       "      <td>125</td>\n",
       "      <td>0.616456</td>\n",
       "    </tr>\n",
       "    <tr>\n",
       "      <th>4</th>\n",
       "      <td>2012-01-01 01:00:00</td>\n",
       "      <td>Affluent</td>\n",
       "      <td>167</td>\n",
       "      <td>0.633311</td>\n",
       "    </tr>\n",
       "  </tbody>\n",
       "</table>\n",
       "</div>"
      ],
      "text/plain": [
       "             DateTime Acorn_grouped    N  nrg_cons\n",
       "0 2012-01-01 00:00:00     Adversity  125  0.221192\n",
       "1 2012-01-01 00:00:00      Affluent  167  0.268072\n",
       "2 2012-01-01 00:00:00   Comfortable  114  0.190114\n",
       "3 2012-01-01 01:00:00     Adversity  125  0.616456\n",
       "4 2012-01-01 01:00:00      Affluent  167  0.633311"
      ]
     },
     "execution_count": 3,
     "metadata": {},
     "output_type": "execute_result"
    }
   ],
   "source": [
    "# get the grouped energy data\n",
    "\n",
    "df = pd.read_csv(\"../Final_Data/energy_hourly_2012.csv\",\n",
    "                               parse_dates=[0], infer_datetime_format=True)\n",
    "#df = pd.read_csv(\"~/Desktop/CUSP/Applied_Data_Science/Taming-the-Peak/Final_Data/grouped_nrg_winter1314.csv\",\n",
    "#                               parse_dates=[0], infer_datetime_format=True)\n",
    "\n",
    "df.head()"
   ]
  },
  {
   "cell_type": "code",
   "execution_count": 69,
   "metadata": {
    "collapsed": true
   },
   "outputs": [],
   "source": [
    "#df.rename(columns={'Unnamed: 0':'DateTime'}, inplace=True)\n",
    "df.drop(['Unnamed: 0'], axis=1, inplace=True)"
   ]
  },
  {
   "cell_type": "code",
   "execution_count": 4,
   "metadata": {
    "collapsed": false
   },
   "outputs": [
    {
     "data": {
      "text/plain": [
       "8784"
      ]
     },
     "execution_count": 4,
     "metadata": {},
     "output_type": "execute_result"
    }
   ],
   "source": [
    "len(df.DateTime.unique())"
   ]
  },
  {
   "cell_type": "code",
   "execution_count": 5,
   "metadata": {
    "collapsed": false
   },
   "outputs": [
    {
     "data": {
      "text/html": [
       "<div>\n",
       "<table border=\"1\" class=\"dataframe\">\n",
       "  <thead>\n",
       "    <tr style=\"text-align: right;\">\n",
       "      <th></th>\n",
       "      <th></th>\n",
       "      <th>N</th>\n",
       "      <th>nrg_cons</th>\n",
       "    </tr>\n",
       "    <tr>\n",
       "      <th>DateTime</th>\n",
       "      <th>Acorn_grouped</th>\n",
       "      <th></th>\n",
       "      <th></th>\n",
       "    </tr>\n",
       "  </thead>\n",
       "  <tbody>\n",
       "    <tr>\n",
       "      <th rowspan=\"3\" valign=\"top\">2012-01-01 00:00:00</th>\n",
       "      <th>Adversity</th>\n",
       "      <td>125</td>\n",
       "      <td>0.221192</td>\n",
       "    </tr>\n",
       "    <tr>\n",
       "      <th>Affluent</th>\n",
       "      <td>167</td>\n",
       "      <td>0.268072</td>\n",
       "    </tr>\n",
       "    <tr>\n",
       "      <th>Comfortable</th>\n",
       "      <td>114</td>\n",
       "      <td>0.190114</td>\n",
       "    </tr>\n",
       "    <tr>\n",
       "      <th rowspan=\"3\" valign=\"top\">2012-01-01 01:00:00</th>\n",
       "      <th>Adversity</th>\n",
       "      <td>125</td>\n",
       "      <td>0.616456</td>\n",
       "    </tr>\n",
       "    <tr>\n",
       "      <th>Affluent</th>\n",
       "      <td>167</td>\n",
       "      <td>0.633311</td>\n",
       "    </tr>\n",
       "    <tr>\n",
       "      <th>Comfortable</th>\n",
       "      <td>114</td>\n",
       "      <td>0.355447</td>\n",
       "    </tr>\n",
       "  </tbody>\n",
       "</table>\n",
       "</div>"
      ],
      "text/plain": [
       "                                     N  nrg_cons\n",
       "DateTime            Acorn_grouped               \n",
       "2012-01-01 00:00:00 Adversity      125  0.221192\n",
       "                    Affluent       167  0.268072\n",
       "                    Comfortable    114  0.190114\n",
       "2012-01-01 01:00:00 Adversity      125  0.616456\n",
       "                    Affluent       167  0.633311\n",
       "                    Comfortable    114  0.355447"
      ]
     },
     "execution_count": 5,
     "metadata": {},
     "output_type": "execute_result"
    }
   ],
   "source": [
    "df.groupby([\"DateTime\", \"Acorn_grouped\"]).sum().head(6)"
   ]
  },
  {
   "cell_type": "code",
   "execution_count": 6,
   "metadata": {
    "collapsed": false
   },
   "outputs": [],
   "source": [
    "df['total_nrg'] = df.N * df.nrg_cons"
   ]
  },
  {
   "cell_type": "code",
   "execution_count": 7,
   "metadata": {
    "collapsed": false
   },
   "outputs": [
    {
     "data": {
      "text/html": [
       "<div>\n",
       "<table border=\"1\" class=\"dataframe\">\n",
       "  <thead>\n",
       "    <tr style=\"text-align: right;\">\n",
       "      <th></th>\n",
       "      <th>DateTime</th>\n",
       "      <th>Acorn_grouped</th>\n",
       "      <th>N</th>\n",
       "      <th>nrg_cons</th>\n",
       "      <th>total_nrg</th>\n",
       "    </tr>\n",
       "  </thead>\n",
       "  <tbody>\n",
       "    <tr>\n",
       "      <th>0</th>\n",
       "      <td>2012-01-01 00:00:00</td>\n",
       "      <td>Adversity</td>\n",
       "      <td>125</td>\n",
       "      <td>0.221192</td>\n",
       "      <td>27.649</td>\n",
       "    </tr>\n",
       "    <tr>\n",
       "      <th>1</th>\n",
       "      <td>2012-01-01 00:00:00</td>\n",
       "      <td>Affluent</td>\n",
       "      <td>167</td>\n",
       "      <td>0.268072</td>\n",
       "      <td>44.768</td>\n",
       "    </tr>\n",
       "    <tr>\n",
       "      <th>2</th>\n",
       "      <td>2012-01-01 00:00:00</td>\n",
       "      <td>Comfortable</td>\n",
       "      <td>114</td>\n",
       "      <td>0.190114</td>\n",
       "      <td>21.673</td>\n",
       "    </tr>\n",
       "    <tr>\n",
       "      <th>3</th>\n",
       "      <td>2012-01-01 01:00:00</td>\n",
       "      <td>Adversity</td>\n",
       "      <td>125</td>\n",
       "      <td>0.616456</td>\n",
       "      <td>77.057</td>\n",
       "    </tr>\n",
       "    <tr>\n",
       "      <th>4</th>\n",
       "      <td>2012-01-01 01:00:00</td>\n",
       "      <td>Affluent</td>\n",
       "      <td>167</td>\n",
       "      <td>0.633311</td>\n",
       "      <td>105.763</td>\n",
       "    </tr>\n",
       "    <tr>\n",
       "      <th>5</th>\n",
       "      <td>2012-01-01 01:00:00</td>\n",
       "      <td>Comfortable</td>\n",
       "      <td>114</td>\n",
       "      <td>0.355447</td>\n",
       "      <td>40.521</td>\n",
       "    </tr>\n",
       "  </tbody>\n",
       "</table>\n",
       "</div>"
      ],
      "text/plain": [
       "             DateTime Acorn_grouped    N  nrg_cons  total_nrg\n",
       "0 2012-01-01 00:00:00     Adversity  125  0.221192     27.649\n",
       "1 2012-01-01 00:00:00      Affluent  167  0.268072     44.768\n",
       "2 2012-01-01 00:00:00   Comfortable  114  0.190114     21.673\n",
       "3 2012-01-01 01:00:00     Adversity  125  0.616456     77.057\n",
       "4 2012-01-01 01:00:00      Affluent  167  0.633311    105.763\n",
       "5 2012-01-01 01:00:00   Comfortable  114  0.355447     40.521"
      ]
     },
     "execution_count": 7,
     "metadata": {},
     "output_type": "execute_result"
    }
   ],
   "source": [
    "df.head(6)"
   ]
  },
  {
   "cell_type": "code",
   "execution_count": 8,
   "metadata": {
    "collapsed": false
   },
   "outputs": [],
   "source": [
    "df.drop(['nrg_cons', 'Acorn_grouped'], axis=1, inplace=True)"
   ]
  },
  {
   "cell_type": "code",
   "execution_count": 9,
   "metadata": {
    "collapsed": false
   },
   "outputs": [],
   "source": [
    "df = df.groupby([\"DateTime\"]).sum()"
   ]
  },
  {
   "cell_type": "code",
   "execution_count": 10,
   "metadata": {
    "collapsed": false
   },
   "outputs": [
    {
     "data": {
      "text/html": [
       "<div>\n",
       "<table border=\"1\" class=\"dataframe\">\n",
       "  <thead>\n",
       "    <tr style=\"text-align: right;\">\n",
       "      <th></th>\n",
       "      <th>N</th>\n",
       "      <th>total_nrg</th>\n",
       "    </tr>\n",
       "    <tr>\n",
       "      <th>DateTime</th>\n",
       "      <th></th>\n",
       "      <th></th>\n",
       "    </tr>\n",
       "  </thead>\n",
       "  <tbody>\n",
       "    <tr>\n",
       "      <th>2012-01-01 00:00:00</th>\n",
       "      <td>406</td>\n",
       "      <td>94.090</td>\n",
       "    </tr>\n",
       "    <tr>\n",
       "      <th>2012-01-01 01:00:00</th>\n",
       "      <td>406</td>\n",
       "      <td>223.341</td>\n",
       "    </tr>\n",
       "    <tr>\n",
       "      <th>2012-01-01 02:00:00</th>\n",
       "      <td>406</td>\n",
       "      <td>189.506</td>\n",
       "    </tr>\n",
       "    <tr>\n",
       "      <th>2012-01-01 03:00:00</th>\n",
       "      <td>406</td>\n",
       "      <td>155.548</td>\n",
       "    </tr>\n",
       "    <tr>\n",
       "      <th>2012-01-01 04:00:00</th>\n",
       "      <td>406</td>\n",
       "      <td>127.034</td>\n",
       "    </tr>\n",
       "  </tbody>\n",
       "</table>\n",
       "</div>"
      ],
      "text/plain": [
       "                       N  total_nrg\n",
       "DateTime                           \n",
       "2012-01-01 00:00:00  406     94.090\n",
       "2012-01-01 01:00:00  406    223.341\n",
       "2012-01-01 02:00:00  406    189.506\n",
       "2012-01-01 03:00:00  406    155.548\n",
       "2012-01-01 04:00:00  406    127.034"
      ]
     },
     "execution_count": 10,
     "metadata": {},
     "output_type": "execute_result"
    }
   ],
   "source": [
    "df.head()"
   ]
  },
  {
   "cell_type": "code",
   "execution_count": 11,
   "metadata": {
    "collapsed": false
   },
   "outputs": [],
   "source": [
    "df['nrg_cons'] = df.total_nrg/df.N"
   ]
  },
  {
   "cell_type": "code",
   "execution_count": 12,
   "metadata": {
    "collapsed": true
   },
   "outputs": [],
   "source": [
    "df.drop(['N', 'total_nrg'], axis=1, inplace=True)"
   ]
  },
  {
   "cell_type": "code",
   "execution_count": 13,
   "metadata": {
    "collapsed": false
   },
   "outputs": [
    {
     "data": {
      "text/html": [
       "<div>\n",
       "<table border=\"1\" class=\"dataframe\">\n",
       "  <thead>\n",
       "    <tr style=\"text-align: right;\">\n",
       "      <th></th>\n",
       "      <th>nrg_cons</th>\n",
       "    </tr>\n",
       "    <tr>\n",
       "      <th>DateTime</th>\n",
       "      <th></th>\n",
       "    </tr>\n",
       "  </thead>\n",
       "  <tbody>\n",
       "    <tr>\n",
       "      <th>2012-01-01 00:00:00</th>\n",
       "      <td>0.231749</td>\n",
       "    </tr>\n",
       "    <tr>\n",
       "      <th>2012-01-01 01:00:00</th>\n",
       "      <td>0.550101</td>\n",
       "    </tr>\n",
       "    <tr>\n",
       "      <th>2012-01-01 02:00:00</th>\n",
       "      <td>0.466764</td>\n",
       "    </tr>\n",
       "    <tr>\n",
       "      <th>2012-01-01 03:00:00</th>\n",
       "      <td>0.383123</td>\n",
       "    </tr>\n",
       "    <tr>\n",
       "      <th>2012-01-01 04:00:00</th>\n",
       "      <td>0.312892</td>\n",
       "    </tr>\n",
       "  </tbody>\n",
       "</table>\n",
       "</div>"
      ],
      "text/plain": [
       "                     nrg_cons\n",
       "DateTime                     \n",
       "2012-01-01 00:00:00  0.231749\n",
       "2012-01-01 01:00:00  0.550101\n",
       "2012-01-01 02:00:00  0.466764\n",
       "2012-01-01 03:00:00  0.383123\n",
       "2012-01-01 04:00:00  0.312892"
      ]
     },
     "execution_count": 13,
     "metadata": {},
     "output_type": "execute_result"
    }
   ],
   "source": [
    "df.head()"
   ]
  },
  {
   "cell_type": "code",
   "execution_count": 14,
   "metadata": {
    "collapsed": false
   },
   "outputs": [],
   "source": [
    "# creating a stupid column to merge on\n",
    "df['DateTime'] = df.index"
   ]
  },
  {
   "cell_type": "code",
   "execution_count": 15,
   "metadata": {
    "collapsed": false
   },
   "outputs": [
    {
     "data": {
      "text/html": [
       "<div>\n",
       "<table border=\"1\" class=\"dataframe\">\n",
       "  <thead>\n",
       "    <tr style=\"text-align: right;\">\n",
       "      <th></th>\n",
       "      <th>nrg_cons</th>\n",
       "      <th>DateTime</th>\n",
       "    </tr>\n",
       "    <tr>\n",
       "      <th>DateTime</th>\n",
       "      <th></th>\n",
       "      <th></th>\n",
       "    </tr>\n",
       "  </thead>\n",
       "  <tbody>\n",
       "    <tr>\n",
       "      <th>2012-01-01 00:00:00</th>\n",
       "      <td>0.231749</td>\n",
       "      <td>2012-01-01 00:00:00</td>\n",
       "    </tr>\n",
       "    <tr>\n",
       "      <th>2012-01-01 01:00:00</th>\n",
       "      <td>0.550101</td>\n",
       "      <td>2012-01-01 01:00:00</td>\n",
       "    </tr>\n",
       "    <tr>\n",
       "      <th>2012-01-01 02:00:00</th>\n",
       "      <td>0.466764</td>\n",
       "      <td>2012-01-01 02:00:00</td>\n",
       "    </tr>\n",
       "    <tr>\n",
       "      <th>2012-01-01 03:00:00</th>\n",
       "      <td>0.383123</td>\n",
       "      <td>2012-01-01 03:00:00</td>\n",
       "    </tr>\n",
       "    <tr>\n",
       "      <th>2012-01-01 04:00:00</th>\n",
       "      <td>0.312892</td>\n",
       "      <td>2012-01-01 04:00:00</td>\n",
       "    </tr>\n",
       "  </tbody>\n",
       "</table>\n",
       "</div>"
      ],
      "text/plain": [
       "                     nrg_cons            DateTime\n",
       "DateTime                                         \n",
       "2012-01-01 00:00:00  0.231749 2012-01-01 00:00:00\n",
       "2012-01-01 01:00:00  0.550101 2012-01-01 01:00:00\n",
       "2012-01-01 02:00:00  0.466764 2012-01-01 02:00:00\n",
       "2012-01-01 03:00:00  0.383123 2012-01-01 03:00:00\n",
       "2012-01-01 04:00:00  0.312892 2012-01-01 04:00:00"
      ]
     },
     "execution_count": 15,
     "metadata": {},
     "output_type": "execute_result"
    }
   ],
   "source": [
    "df.head()"
   ]
  },
  {
   "cell_type": "code",
   "execution_count": 16,
   "metadata": {
    "collapsed": false
   },
   "outputs": [
    {
     "data": {
      "text/html": [
       "<div>\n",
       "<table border=\"1\" class=\"dataframe\">\n",
       "  <thead>\n",
       "    <tr style=\"text-align: right;\">\n",
       "      <th></th>\n",
       "      <th>Unnamed: 0</th>\n",
       "      <th>nrg_cons</th>\n",
       "      <th>nrg_cons.1</th>\n",
       "      <th>nrg_cons.2</th>\n",
       "    </tr>\n",
       "  </thead>\n",
       "  <tbody>\n",
       "    <tr>\n",
       "      <th>0</th>\n",
       "      <td>Acorn_grouped</td>\n",
       "      <td>Adversity</td>\n",
       "      <td>Affluent</td>\n",
       "      <td>Comfortable</td>\n",
       "    </tr>\n",
       "    <tr>\n",
       "      <th>1</th>\n",
       "      <td>DateTime</td>\n",
       "      <td>NaN</td>\n",
       "      <td>NaN</td>\n",
       "      <td>NaN</td>\n",
       "    </tr>\n",
       "    <tr>\n",
       "      <th>2</th>\n",
       "      <td>2012-01-01 00:00:00</td>\n",
       "      <td>0.2211920008</td>\n",
       "      <td>0.268071856288</td>\n",
       "      <td>0.190114035088</td>\n",
       "    </tr>\n",
       "    <tr>\n",
       "      <th>3</th>\n",
       "      <td>2012-01-01 01:00:00</td>\n",
       "      <td>0.6164560032</td>\n",
       "      <td>0.633311377844</td>\n",
       "      <td>0.355447368421</td>\n",
       "    </tr>\n",
       "    <tr>\n",
       "      <th>4</th>\n",
       "      <td>2012-01-01 02:00:00</td>\n",
       "      <td>0.4839759984</td>\n",
       "      <td>0.570035928743</td>\n",
       "      <td>0.296605263158</td>\n",
       "    </tr>\n",
       "  </tbody>\n",
       "</table>\n",
       "</div>"
      ],
      "text/plain": [
       "            Unnamed: 0      nrg_cons      nrg_cons.1      nrg_cons.2\n",
       "0        Acorn_grouped     Adversity        Affluent     Comfortable\n",
       "1             DateTime           NaN             NaN             NaN\n",
       "2  2012-01-01 00:00:00  0.2211920008  0.268071856288  0.190114035088\n",
       "3  2012-01-01 01:00:00  0.6164560032  0.633311377844  0.355447368421\n",
       "4  2012-01-01 02:00:00  0.4839759984  0.570035928743  0.296605263158"
      ]
     },
     "execution_count": 16,
     "metadata": {},
     "output_type": "execute_result"
    }
   ],
   "source": [
    "# get the rouped energy data\n",
    "\n",
    "df2 = pd.read_csv(\"../Final_Data/energy_final_2012.csv\",\n",
    "                               parse_dates=[0], infer_datetime_format=True)\n",
    "#df = pd.read_csv(\"~/Desktop/CUSP/Applied_Data_Science/Taming-the-Peak/Final_Data/grouped_nrg_winter1314.csv\",\n",
    "#                               parse_dates=[0], infer_datetime_format=True)\n",
    "\n",
    "df2.head()"
   ]
  },
  {
   "cell_type": "code",
   "execution_count": 17,
   "metadata": {
    "collapsed": false
   },
   "outputs": [],
   "source": [
    "df2.rename(columns={'Unnamed: 0' : 'DateTime'}, inplace=True)"
   ]
  },
  {
   "cell_type": "code",
   "execution_count": 18,
   "metadata": {
    "collapsed": false,
    "scrolled": true
   },
   "outputs": [
    {
     "data": {
      "text/plain": [
       "pandas.tslib.Timestamp"
      ]
     },
     "execution_count": 18,
     "metadata": {},
     "output_type": "execute_result"
    }
   ],
   "source": [
    "type(df.DateTime[1])"
   ]
  },
  {
   "cell_type": "code",
   "execution_count": 19,
   "metadata": {
    "collapsed": false
   },
   "outputs": [
    {
     "data": {
      "text/plain": [
       "str"
      ]
     },
     "execution_count": 19,
     "metadata": {},
     "output_type": "execute_result"
    }
   ],
   "source": [
    "type(df2.DateTime[5])"
   ]
  },
  {
   "cell_type": "code",
   "execution_count": 20,
   "metadata": {
    "collapsed": false
   },
   "outputs": [],
   "source": [
    "df2.drop([0, 1], inplace=True)"
   ]
  },
  {
   "cell_type": "code",
   "execution_count": 21,
   "metadata": {
    "collapsed": true
   },
   "outputs": [],
   "source": [
    "df2.DateTime = pd.to_datetime(df2.DateTime)"
   ]
  },
  {
   "cell_type": "code",
   "execution_count": 22,
   "metadata": {
    "collapsed": false
   },
   "outputs": [
    {
     "data": {
      "text/plain": [
       "pandas.tslib.Timestamp"
      ]
     },
     "execution_count": 22,
     "metadata": {},
     "output_type": "execute_result"
    }
   ],
   "source": [
    "type(df2.DateTime[5])"
   ]
  },
  {
   "cell_type": "code",
   "execution_count": 23,
   "metadata": {
    "collapsed": false,
    "scrolled": true
   },
   "outputs": [
    {
     "data": {
      "text/html": [
       "<div>\n",
       "<table border=\"1\" class=\"dataframe\">\n",
       "  <thead>\n",
       "    <tr style=\"text-align: right;\">\n",
       "      <th></th>\n",
       "      <th>DateTime</th>\n",
       "      <th>nrg_cons</th>\n",
       "      <th>nrg_cons.1</th>\n",
       "      <th>nrg_cons.2</th>\n",
       "    </tr>\n",
       "  </thead>\n",
       "  <tbody>\n",
       "    <tr>\n",
       "      <th>2</th>\n",
       "      <td>2012-01-01 00:00:00</td>\n",
       "      <td>0.2211920008</td>\n",
       "      <td>0.268071856288</td>\n",
       "      <td>0.190114035088</td>\n",
       "    </tr>\n",
       "    <tr>\n",
       "      <th>3</th>\n",
       "      <td>2012-01-01 01:00:00</td>\n",
       "      <td>0.6164560032</td>\n",
       "      <td>0.633311377844</td>\n",
       "      <td>0.355447368421</td>\n",
       "    </tr>\n",
       "    <tr>\n",
       "      <th>4</th>\n",
       "      <td>2012-01-01 02:00:00</td>\n",
       "      <td>0.4839759984</td>\n",
       "      <td>0.570035928743</td>\n",
       "      <td>0.296605263158</td>\n",
       "    </tr>\n",
       "    <tr>\n",
       "      <th>5</th>\n",
       "      <td>2012-01-01 03:00:00</td>\n",
       "      <td>0.375616</td>\n",
       "      <td>0.489017963473</td>\n",
       "      <td>0.236228070175</td>\n",
       "    </tr>\n",
       "    <tr>\n",
       "      <th>6</th>\n",
       "      <td>2012-01-01 04:00:00</td>\n",
       "      <td>0.3249359984</td>\n",
       "      <td>0.376808383832</td>\n",
       "      <td>0.206052631579</td>\n",
       "    </tr>\n",
       "  </tbody>\n",
       "</table>\n",
       "</div>"
      ],
      "text/plain": [
       "             DateTime      nrg_cons      nrg_cons.1      nrg_cons.2\n",
       "2 2012-01-01 00:00:00  0.2211920008  0.268071856288  0.190114035088\n",
       "3 2012-01-01 01:00:00  0.6164560032  0.633311377844  0.355447368421\n",
       "4 2012-01-01 02:00:00  0.4839759984  0.570035928743  0.296605263158\n",
       "5 2012-01-01 03:00:00      0.375616  0.489017963473  0.236228070175\n",
       "6 2012-01-01 04:00:00  0.3249359984  0.376808383832  0.206052631579"
      ]
     },
     "execution_count": 23,
     "metadata": {},
     "output_type": "execute_result"
    }
   ],
   "source": [
    "df2.head()"
   ]
  },
  {
   "cell_type": "code",
   "execution_count": 24,
   "metadata": {
    "collapsed": false
   },
   "outputs": [],
   "source": [
    "merged = pd.merge(left=df2, right=df, how='left', on='DateTime')"
   ]
  },
  {
   "cell_type": "code",
   "execution_count": 58,
   "metadata": {
    "collapsed": false
   },
   "outputs": [],
   "source": [
    "#merged.drop(['DateTime'], axis=1, inplace=True)"
   ]
  },
  {
   "cell_type": "code",
   "execution_count": 26,
   "metadata": {
    "collapsed": false
   },
   "outputs": [],
   "source": [
    "merged.columns = ['DateTime', 'Adversity', 'Affluent', 'Comfortable', 'Overall']"
   ]
  },
  {
   "cell_type": "code",
   "execution_count": 27,
   "metadata": {
    "collapsed": false
   },
   "outputs": [
    {
     "data": {
      "text/html": [
       "<div>\n",
       "<table border=\"1\" class=\"dataframe\">\n",
       "  <thead>\n",
       "    <tr style=\"text-align: right;\">\n",
       "      <th></th>\n",
       "      <th>DateTime</th>\n",
       "      <th>Adversity</th>\n",
       "      <th>Affluent</th>\n",
       "      <th>Comfortable</th>\n",
       "      <th>Overall</th>\n",
       "    </tr>\n",
       "  </thead>\n",
       "  <tbody>\n",
       "    <tr>\n",
       "      <th>0</th>\n",
       "      <td>2012-01-01 00:00:00</td>\n",
       "      <td>0.2211920008</td>\n",
       "      <td>0.268071856288</td>\n",
       "      <td>0.190114035088</td>\n",
       "      <td>0.231749</td>\n",
       "    </tr>\n",
       "    <tr>\n",
       "      <th>1</th>\n",
       "      <td>2012-01-01 01:00:00</td>\n",
       "      <td>0.6164560032</td>\n",
       "      <td>0.633311377844</td>\n",
       "      <td>0.355447368421</td>\n",
       "      <td>0.550101</td>\n",
       "    </tr>\n",
       "    <tr>\n",
       "      <th>2</th>\n",
       "      <td>2012-01-01 02:00:00</td>\n",
       "      <td>0.4839759984</td>\n",
       "      <td>0.570035928743</td>\n",
       "      <td>0.296605263158</td>\n",
       "      <td>0.466764</td>\n",
       "    </tr>\n",
       "    <tr>\n",
       "      <th>3</th>\n",
       "      <td>2012-01-01 03:00:00</td>\n",
       "      <td>0.375616</td>\n",
       "      <td>0.489017963473</td>\n",
       "      <td>0.236228070175</td>\n",
       "      <td>0.383123</td>\n",
       "    </tr>\n",
       "    <tr>\n",
       "      <th>4</th>\n",
       "      <td>2012-01-01 04:00:00</td>\n",
       "      <td>0.3249359984</td>\n",
       "      <td>0.376808383832</td>\n",
       "      <td>0.206052631579</td>\n",
       "      <td>0.312892</td>\n",
       "    </tr>\n",
       "  </tbody>\n",
       "</table>\n",
       "</div>"
      ],
      "text/plain": [
       "             DateTime     Adversity        Affluent     Comfortable   Overall\n",
       "0 2012-01-01 00:00:00  0.2211920008  0.268071856288  0.190114035088  0.231749\n",
       "1 2012-01-01 01:00:00  0.6164560032  0.633311377844  0.355447368421  0.550101\n",
       "2 2012-01-01 02:00:00  0.4839759984  0.570035928743  0.296605263158  0.466764\n",
       "3 2012-01-01 03:00:00      0.375616  0.489017963473  0.236228070175  0.383123\n",
       "4 2012-01-01 04:00:00  0.3249359984  0.376808383832  0.206052631579  0.312892"
      ]
     },
     "execution_count": 27,
     "metadata": {},
     "output_type": "execute_result"
    }
   ],
   "source": [
    "merged.head()"
   ]
  },
  {
   "cell_type": "code",
   "execution_count": 28,
   "metadata": {
    "collapsed": false
   },
   "outputs": [
    {
     "data": {
      "text/html": [
       "<div>\n",
       "<table border=\"1\" class=\"dataframe\">\n",
       "  <thead>\n",
       "    <tr style=\"text-align: right;\">\n",
       "      <th></th>\n",
       "      <th>DateTime</th>\n",
       "      <th>Adversity</th>\n",
       "      <th>Affluent</th>\n",
       "      <th>Comfortable</th>\n",
       "      <th>Overall</th>\n",
       "    </tr>\n",
       "  </thead>\n",
       "  <tbody>\n",
       "    <tr>\n",
       "      <th>8779</th>\n",
       "      <td>2012-12-31 19:00:00</td>\n",
       "      <td>0.646344253137</td>\n",
       "      <td>0.88985931762</td>\n",
       "      <td>0.792584841851</td>\n",
       "      <td>0.782972</td>\n",
       "    </tr>\n",
       "    <tr>\n",
       "      <th>8780</th>\n",
       "      <td>2012-12-31 20:00:00</td>\n",
       "      <td>0.59491726824</td>\n",
       "      <td>0.839217712223</td>\n",
       "      <td>0.73626375859</td>\n",
       "      <td>0.730519</td>\n",
       "    </tr>\n",
       "    <tr>\n",
       "      <th>8781</th>\n",
       "      <td>2012-12-31 21:00:00</td>\n",
       "      <td>0.533350915825</td>\n",
       "      <td>0.739589021679</td>\n",
       "      <td>0.650877263581</td>\n",
       "      <td>0.647336</td>\n",
       "    </tr>\n",
       "    <tr>\n",
       "      <th>8782</th>\n",
       "      <td>2012-12-31 22:00:00</td>\n",
       "      <td>0.478388672682</td>\n",
       "      <td>0.673836715359</td>\n",
       "      <td>0.600838363783</td>\n",
       "      <td>0.589433</td>\n",
       "    </tr>\n",
       "    <tr>\n",
       "      <th>8783</th>\n",
       "      <td>2012-12-31 23:00:00</td>\n",
       "      <td>0.429234869239</td>\n",
       "      <td>0.592213561162</td>\n",
       "      <td>0.524956404963</td>\n",
       "      <td>0.520088</td>\n",
       "    </tr>\n",
       "  </tbody>\n",
       "</table>\n",
       "</div>"
      ],
      "text/plain": [
       "                DateTime       Adversity        Affluent     Comfortable  \\\n",
       "8779 2012-12-31 19:00:00  0.646344253137   0.88985931762  0.792584841851   \n",
       "8780 2012-12-31 20:00:00   0.59491726824  0.839217712223   0.73626375859   \n",
       "8781 2012-12-31 21:00:00  0.533350915825  0.739589021679  0.650877263581   \n",
       "8782 2012-12-31 22:00:00  0.478388672682  0.673836715359  0.600838363783   \n",
       "8783 2012-12-31 23:00:00  0.429234869239  0.592213561162  0.524956404963   \n",
       "\n",
       "       Overall  \n",
       "8779  0.782972  \n",
       "8780  0.730519  \n",
       "8781  0.647336  \n",
       "8782  0.589433  \n",
       "8783  0.520088  "
      ]
     },
     "execution_count": 28,
     "metadata": {},
     "output_type": "execute_result"
    }
   ],
   "source": [
    "merged.tail()"
   ]
  },
  {
   "cell_type": "code",
   "execution_count": 29,
   "metadata": {
    "collapsed": true
   },
   "outputs": [],
   "source": [
    "output = \"../Final_Data/energy_final_2012.csv\"\n",
    "\n",
    "merged.to_csv(output)"
   ]
  },
  {
   "cell_type": "code",
   "execution_count": null,
   "metadata": {
    "collapsed": true
   },
   "outputs": [],
   "source": []
  }
 ],
 "metadata": {
  "kernelspec": {
   "display_name": "PUI2016_Python2",
   "language": "python",
   "name": "pui2016_python2"
  },
  "language_info": {
   "codemirror_mode": {
    "name": "ipython",
    "version": 2
   },
   "file_extension": ".py",
   "mimetype": "text/x-python",
   "name": "python",
   "nbconvert_exporter": "python",
   "pygments_lexer": "ipython2",
   "version": "2.7.12"
  }
 },
 "nbformat": 4,
 "nbformat_minor": 0
}
