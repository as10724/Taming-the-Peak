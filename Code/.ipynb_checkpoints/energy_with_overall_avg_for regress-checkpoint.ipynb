{
 "cells": [
  {
   "cell_type": "code",
   "execution_count": 2,
   "metadata": {
    "collapsed": true
   },
   "outputs": [],
   "source": [
    "import numpy as np\n",
    "import pandas as pd\n",
    "import datetime as DT"
   ]
  },
  {
   "cell_type": "code",
   "execution_count": 10,
   "metadata": {
    "collapsed": false
   },
   "outputs": [
    {
     "data": {
      "text/html": [
       "<div>\n",
       "<table border=\"1\" class=\"dataframe\">\n",
       "  <thead>\n",
       "    <tr style=\"text-align: right;\">\n",
       "      <th></th>\n",
       "      <th>DateTime</th>\n",
       "      <th>Acorn_grouped</th>\n",
       "      <th>N</th>\n",
       "      <th>nrg_cons</th>\n",
       "    </tr>\n",
       "  </thead>\n",
       "  <tbody>\n",
       "    <tr>\n",
       "      <th>0</th>\n",
       "      <td>2013-01-01 00:00:00</td>\n",
       "      <td>Adversity</td>\n",
       "      <td>1801</td>\n",
       "      <td>0.214885</td>\n",
       "    </tr>\n",
       "    <tr>\n",
       "      <th>1</th>\n",
       "      <td>2013-01-01 00:00:00</td>\n",
       "      <td>Affluent</td>\n",
       "      <td>2168</td>\n",
       "      <td>0.284734</td>\n",
       "    </tr>\n",
       "    <tr>\n",
       "      <th>2</th>\n",
       "      <td>2013-01-01 00:00:00</td>\n",
       "      <td>Comfortable</td>\n",
       "      <td>1491</td>\n",
       "      <td>0.244850</td>\n",
       "    </tr>\n",
       "    <tr>\n",
       "      <th>3</th>\n",
       "      <td>2013-01-01 01:00:00</td>\n",
       "      <td>Adversity</td>\n",
       "      <td>1802</td>\n",
       "      <td>0.387206</td>\n",
       "    </tr>\n",
       "    <tr>\n",
       "      <th>4</th>\n",
       "      <td>2013-01-01 01:00:00</td>\n",
       "      <td>Affluent</td>\n",
       "      <td>2168</td>\n",
       "      <td>0.499935</td>\n",
       "    </tr>\n",
       "  </tbody>\n",
       "</table>\n",
       "</div>"
      ],
      "text/plain": [
       "             DateTime Acorn_grouped     N  nrg_cons\n",
       "0 2013-01-01 00:00:00     Adversity  1801  0.214885\n",
       "1 2013-01-01 00:00:00      Affluent  2168  0.284734\n",
       "2 2013-01-01 00:00:00   Comfortable  1491  0.244850\n",
       "3 2013-01-01 01:00:00     Adversity  1802  0.387206\n",
       "4 2013-01-01 01:00:00      Affluent  2168  0.499935"
      ]
     },
     "execution_count": 10,
     "metadata": {},
     "output_type": "execute_result"
    }
   ],
   "source": [
    "# get the rouped energy data\n",
    "\n",
    "df = pd.read_csv(\"C:\\\\Users\\\\Hrafnkell\\\\Documents\\\\GitHub\\\\Taming-the-Peak\\\\Final_Data\\\\energy_hourly_2013.csv\",\n",
    "                               parse_dates=[0], infer_datetime_format=True)\n",
    "#df = pd.read_csv(\"~/Desktop/CUSP/Applied_Data_Science/Taming-the-Peak/Final_Data/grouped_nrg_winter1314.csv\",\n",
    "#                               parse_dates=[0], infer_datetime_format=True)\n",
    "\n",
    "df.head()"
   ]
  },
  {
   "cell_type": "code",
   "execution_count": 6,
   "metadata": {
    "collapsed": true
   },
   "outputs": [],
   "source": [
    "#df.rename(columns={'Unnamed: 0':'DateTime'}, inplace=True)\n",
    "#df.drop(['Unnamed: 0'], axis=1, inplace=True)"
   ]
  },
  {
   "cell_type": "code",
   "execution_count": 11,
   "metadata": {
    "collapsed": false
   },
   "outputs": [
    {
     "data": {
      "text/plain": [
       "8760"
      ]
     },
     "execution_count": 11,
     "metadata": {},
     "output_type": "execute_result"
    }
   ],
   "source": [
    "len(df.DateTime.unique())"
   ]
  },
  {
   "cell_type": "code",
   "execution_count": 12,
   "metadata": {
    "collapsed": false
   },
   "outputs": [
    {
     "data": {
      "text/html": [
       "<div>\n",
       "<table border=\"1\" class=\"dataframe\">\n",
       "  <thead>\n",
       "    <tr style=\"text-align: right;\">\n",
       "      <th></th>\n",
       "      <th></th>\n",
       "      <th>N</th>\n",
       "      <th>nrg_cons</th>\n",
       "    </tr>\n",
       "    <tr>\n",
       "      <th>DateTime</th>\n",
       "      <th>Acorn_grouped</th>\n",
       "      <th></th>\n",
       "      <th></th>\n",
       "    </tr>\n",
       "  </thead>\n",
       "  <tbody>\n",
       "    <tr>\n",
       "      <th rowspan=\"3\" valign=\"top\">2013-01-01 00:00:00</th>\n",
       "      <th>Adversity</th>\n",
       "      <td>1801</td>\n",
       "      <td>0.214885</td>\n",
       "    </tr>\n",
       "    <tr>\n",
       "      <th>Affluent</th>\n",
       "      <td>2168</td>\n",
       "      <td>0.284734</td>\n",
       "    </tr>\n",
       "    <tr>\n",
       "      <th>Comfortable</th>\n",
       "      <td>1491</td>\n",
       "      <td>0.244850</td>\n",
       "    </tr>\n",
       "    <tr>\n",
       "      <th rowspan=\"3\" valign=\"top\">2013-01-01 01:00:00</th>\n",
       "      <th>Adversity</th>\n",
       "      <td>1802</td>\n",
       "      <td>0.387206</td>\n",
       "    </tr>\n",
       "    <tr>\n",
       "      <th>Affluent</th>\n",
       "      <td>2168</td>\n",
       "      <td>0.499935</td>\n",
       "    </tr>\n",
       "    <tr>\n",
       "      <th>Comfortable</th>\n",
       "      <td>1491</td>\n",
       "      <td>0.426540</td>\n",
       "    </tr>\n",
       "  </tbody>\n",
       "</table>\n",
       "</div>"
      ],
      "text/plain": [
       "                                      N  nrg_cons\n",
       "DateTime            Acorn_grouped                \n",
       "2013-01-01 00:00:00 Adversity      1801  0.214885\n",
       "                    Affluent       2168  0.284734\n",
       "                    Comfortable    1491  0.244850\n",
       "2013-01-01 01:00:00 Adversity      1802  0.387206\n",
       "                    Affluent       2168  0.499935\n",
       "                    Comfortable    1491  0.426540"
      ]
     },
     "execution_count": 12,
     "metadata": {},
     "output_type": "execute_result"
    }
   ],
   "source": [
    "df.groupby([\"DateTime\", \"Acorn_grouped\"]).sum().head(6)"
   ]
  },
  {
   "cell_type": "code",
   "execution_count": 13,
   "metadata": {
    "collapsed": false
   },
   "outputs": [],
   "source": [
    "df['total_nrg'] = df.N * df.nrg_cons"
   ]
  },
  {
   "cell_type": "code",
   "execution_count": 7,
   "metadata": {
    "collapsed": false
   },
   "outputs": [
    {
     "data": {
      "text/html": [
       "<div>\n",
       "<table border=\"1\" class=\"dataframe\">\n",
       "  <thead>\n",
       "    <tr style=\"text-align: right;\">\n",
       "      <th></th>\n",
       "      <th>DateTime</th>\n",
       "      <th>Acorn_grouped</th>\n",
       "      <th>N</th>\n",
       "      <th>nrg_cons</th>\n",
       "      <th>total_nrg</th>\n",
       "    </tr>\n",
       "  </thead>\n",
       "  <tbody>\n",
       "    <tr>\n",
       "      <th>0</th>\n",
       "      <td>2013-06-01 00:00:00</td>\n",
       "      <td>Adversity</td>\n",
       "      <td>1744</td>\n",
       "      <td>0.133975</td>\n",
       "      <td>233.653</td>\n",
       "    </tr>\n",
       "    <tr>\n",
       "      <th>1</th>\n",
       "      <td>2013-06-01 00:00:00</td>\n",
       "      <td>Affluent</td>\n",
       "      <td>2094</td>\n",
       "      <td>0.163082</td>\n",
       "      <td>341.494</td>\n",
       "    </tr>\n",
       "    <tr>\n",
       "      <th>2</th>\n",
       "      <td>2013-06-01 00:00:00</td>\n",
       "      <td>Comfortable</td>\n",
       "      <td>1464</td>\n",
       "      <td>0.149617</td>\n",
       "      <td>219.039</td>\n",
       "    </tr>\n",
       "    <tr>\n",
       "      <th>3</th>\n",
       "      <td>2013-06-01 01:00:00</td>\n",
       "      <td>Adversity</td>\n",
       "      <td>1741</td>\n",
       "      <td>0.230842</td>\n",
       "      <td>401.896</td>\n",
       "    </tr>\n",
       "    <tr>\n",
       "      <th>4</th>\n",
       "      <td>2013-06-01 01:00:00</td>\n",
       "      <td>Affluent</td>\n",
       "      <td>2097</td>\n",
       "      <td>0.278700</td>\n",
       "      <td>584.434</td>\n",
       "    </tr>\n",
       "    <tr>\n",
       "      <th>5</th>\n",
       "      <td>2013-06-01 01:00:00</td>\n",
       "      <td>Comfortable</td>\n",
       "      <td>1465</td>\n",
       "      <td>0.244765</td>\n",
       "      <td>358.580</td>\n",
       "    </tr>\n",
       "  </tbody>\n",
       "</table>\n",
       "</div>"
      ],
      "text/plain": [
       "             DateTime Acorn_grouped     N  nrg_cons  total_nrg\n",
       "0 2013-06-01 00:00:00     Adversity  1744  0.133975    233.653\n",
       "1 2013-06-01 00:00:00      Affluent  2094  0.163082    341.494\n",
       "2 2013-06-01 00:00:00   Comfortable  1464  0.149617    219.039\n",
       "3 2013-06-01 01:00:00     Adversity  1741  0.230842    401.896\n",
       "4 2013-06-01 01:00:00      Affluent  2097  0.278700    584.434\n",
       "5 2013-06-01 01:00:00   Comfortable  1465  0.244765    358.580"
      ]
     },
     "execution_count": 7,
     "metadata": {},
     "output_type": "execute_result"
    }
   ],
   "source": [
    "df.head(6)"
   ]
  },
  {
   "cell_type": "code",
   "execution_count": 14,
   "metadata": {
    "collapsed": false
   },
   "outputs": [],
   "source": [
    "df.drop(['nrg_cons', 'Acorn_grouped'], axis=1, inplace=True)"
   ]
  },
  {
   "cell_type": "code",
   "execution_count": 15,
   "metadata": {
    "collapsed": false
   },
   "outputs": [],
   "source": [
    "df = df.groupby([\"DateTime\"]).sum()"
   ]
  },
  {
   "cell_type": "code",
   "execution_count": 16,
   "metadata": {
    "collapsed": false
   },
   "outputs": [
    {
     "data": {
      "text/html": [
       "<div>\n",
       "<table border=\"1\" class=\"dataframe\">\n",
       "  <thead>\n",
       "    <tr style=\"text-align: right;\">\n",
       "      <th></th>\n",
       "      <th>N</th>\n",
       "      <th>total_nrg</th>\n",
       "    </tr>\n",
       "    <tr>\n",
       "      <th>DateTime</th>\n",
       "      <th></th>\n",
       "      <th></th>\n",
       "    </tr>\n",
       "  </thead>\n",
       "  <tbody>\n",
       "    <tr>\n",
       "      <th>2013-01-01 00:00:00</th>\n",
       "      <td>5460</td>\n",
       "      <td>1369.382001</td>\n",
       "    </tr>\n",
       "    <tr>\n",
       "      <th>2013-01-01 01:00:00</th>\n",
       "      <td>5461</td>\n",
       "      <td>2417.577000</td>\n",
       "    </tr>\n",
       "    <tr>\n",
       "      <th>2013-01-01 02:00:00</th>\n",
       "      <td>5461</td>\n",
       "      <td>2028.346000</td>\n",
       "    </tr>\n",
       "    <tr>\n",
       "      <th>2013-01-01 03:00:00</th>\n",
       "      <td>5461</td>\n",
       "      <td>1700.932000</td>\n",
       "    </tr>\n",
       "    <tr>\n",
       "      <th>2013-01-01 04:00:00</th>\n",
       "      <td>5461</td>\n",
       "      <td>1499.134000</td>\n",
       "    </tr>\n",
       "  </tbody>\n",
       "</table>\n",
       "</div>"
      ],
      "text/plain": [
       "                        N    total_nrg\n",
       "DateTime                              \n",
       "2013-01-01 00:00:00  5460  1369.382001\n",
       "2013-01-01 01:00:00  5461  2417.577000\n",
       "2013-01-01 02:00:00  5461  2028.346000\n",
       "2013-01-01 03:00:00  5461  1700.932000\n",
       "2013-01-01 04:00:00  5461  1499.134000"
      ]
     },
     "execution_count": 16,
     "metadata": {},
     "output_type": "execute_result"
    }
   ],
   "source": [
    "df.head()"
   ]
  },
  {
   "cell_type": "code",
   "execution_count": 17,
   "metadata": {
    "collapsed": false
   },
   "outputs": [],
   "source": [
    "df['nrg_cons'] = df.total_nrg/df.N"
   ]
  },
  {
   "cell_type": "code",
   "execution_count": 18,
   "metadata": {
    "collapsed": true
   },
   "outputs": [],
   "source": [
    "df.drop(['N', 'total_nrg'], axis=1, inplace=True)"
   ]
  },
  {
   "cell_type": "code",
   "execution_count": 19,
   "metadata": {
    "collapsed": false
   },
   "outputs": [
    {
     "data": {
      "text/html": [
       "<div>\n",
       "<table border=\"1\" class=\"dataframe\">\n",
       "  <thead>\n",
       "    <tr style=\"text-align: right;\">\n",
       "      <th></th>\n",
       "      <th>nrg_cons</th>\n",
       "    </tr>\n",
       "    <tr>\n",
       "      <th>DateTime</th>\n",
       "      <th></th>\n",
       "    </tr>\n",
       "  </thead>\n",
       "  <tbody>\n",
       "    <tr>\n",
       "      <th>2013-01-01 00:00:00</th>\n",
       "      <td>0.250803</td>\n",
       "    </tr>\n",
       "    <tr>\n",
       "      <th>2013-01-01 01:00:00</th>\n",
       "      <td>0.442699</td>\n",
       "    </tr>\n",
       "    <tr>\n",
       "      <th>2013-01-01 02:00:00</th>\n",
       "      <td>0.371424</td>\n",
       "    </tr>\n",
       "    <tr>\n",
       "      <th>2013-01-01 03:00:00</th>\n",
       "      <td>0.311469</td>\n",
       "    </tr>\n",
       "    <tr>\n",
       "      <th>2013-01-01 04:00:00</th>\n",
       "      <td>0.274516</td>\n",
       "    </tr>\n",
       "  </tbody>\n",
       "</table>\n",
       "</div>"
      ],
      "text/plain": [
       "                     nrg_cons\n",
       "DateTime                     \n",
       "2013-01-01 00:00:00  0.250803\n",
       "2013-01-01 01:00:00  0.442699\n",
       "2013-01-01 02:00:00  0.371424\n",
       "2013-01-01 03:00:00  0.311469\n",
       "2013-01-01 04:00:00  0.274516"
      ]
     },
     "execution_count": 19,
     "metadata": {},
     "output_type": "execute_result"
    }
   ],
   "source": [
    "df.head()"
   ]
  },
  {
   "cell_type": "code",
   "execution_count": 20,
   "metadata": {
    "collapsed": false
   },
   "outputs": [],
   "source": [
    "# creating a stupid column to merge on\n",
    "df['DateTime'] = df.index"
   ]
  },
  {
   "cell_type": "code",
   "execution_count": 21,
   "metadata": {
    "collapsed": false
   },
   "outputs": [
    {
     "data": {
      "text/html": [
       "<div>\n",
       "<table border=\"1\" class=\"dataframe\">\n",
       "  <thead>\n",
       "    <tr style=\"text-align: right;\">\n",
       "      <th></th>\n",
       "      <th>nrg_cons</th>\n",
       "      <th>DateTime</th>\n",
       "    </tr>\n",
       "    <tr>\n",
       "      <th>DateTime</th>\n",
       "      <th></th>\n",
       "      <th></th>\n",
       "    </tr>\n",
       "  </thead>\n",
       "  <tbody>\n",
       "    <tr>\n",
       "      <th>2013-01-01 00:00:00</th>\n",
       "      <td>0.250803</td>\n",
       "      <td>2013-01-01 00:00:00</td>\n",
       "    </tr>\n",
       "    <tr>\n",
       "      <th>2013-01-01 01:00:00</th>\n",
       "      <td>0.442699</td>\n",
       "      <td>2013-01-01 01:00:00</td>\n",
       "    </tr>\n",
       "    <tr>\n",
       "      <th>2013-01-01 02:00:00</th>\n",
       "      <td>0.371424</td>\n",
       "      <td>2013-01-01 02:00:00</td>\n",
       "    </tr>\n",
       "    <tr>\n",
       "      <th>2013-01-01 03:00:00</th>\n",
       "      <td>0.311469</td>\n",
       "      <td>2013-01-01 03:00:00</td>\n",
       "    </tr>\n",
       "    <tr>\n",
       "      <th>2013-01-01 04:00:00</th>\n",
       "      <td>0.274516</td>\n",
       "      <td>2013-01-01 04:00:00</td>\n",
       "    </tr>\n",
       "  </tbody>\n",
       "</table>\n",
       "</div>"
      ],
      "text/plain": [
       "                     nrg_cons            DateTime\n",
       "DateTime                                         \n",
       "2013-01-01 00:00:00  0.250803 2013-01-01 00:00:00\n",
       "2013-01-01 01:00:00  0.442699 2013-01-01 01:00:00\n",
       "2013-01-01 02:00:00  0.371424 2013-01-01 02:00:00\n",
       "2013-01-01 03:00:00  0.311469 2013-01-01 03:00:00\n",
       "2013-01-01 04:00:00  0.274516 2013-01-01 04:00:00"
      ]
     },
     "execution_count": 21,
     "metadata": {},
     "output_type": "execute_result"
    }
   ],
   "source": [
    "df.head()"
   ]
  },
  {
   "cell_type": "code",
   "execution_count": 22,
   "metadata": {
    "collapsed": false
   },
   "outputs": [
    {
     "data": {
      "text/html": [
       "<div>\n",
       "<table border=\"1\" class=\"dataframe\">\n",
       "  <thead>\n",
       "    <tr style=\"text-align: right;\">\n",
       "      <th></th>\n",
       "      <th>Unnamed: 0</th>\n",
       "      <th>nrg_cons</th>\n",
       "      <th>nrg_cons.1</th>\n",
       "      <th>nrg_cons.2</th>\n",
       "    </tr>\n",
       "  </thead>\n",
       "  <tbody>\n",
       "    <tr>\n",
       "      <th>0</th>\n",
       "      <td>Acorn_grouped</td>\n",
       "      <td>Adversity</td>\n",
       "      <td>Affluent</td>\n",
       "      <td>Comfortable</td>\n",
       "    </tr>\n",
       "    <tr>\n",
       "      <th>1</th>\n",
       "      <td>DateTime</td>\n",
       "      <td>NaN</td>\n",
       "      <td>NaN</td>\n",
       "      <td>NaN</td>\n",
       "    </tr>\n",
       "    <tr>\n",
       "      <th>2</th>\n",
       "      <td>2013-01-01 00:00:00</td>\n",
       "      <td>0.214884508773</td>\n",
       "      <td>0.284733856135</td>\n",
       "      <td>0.244850436083</td>\n",
       "    </tr>\n",
       "    <tr>\n",
       "      <th>3</th>\n",
       "      <td>2013-01-01 01:00:00</td>\n",
       "      <td>0.387206437348</td>\n",
       "      <td>0.499935424447</td>\n",
       "      <td>0.426539906036</td>\n",
       "    </tr>\n",
       "    <tr>\n",
       "      <th>4</th>\n",
       "      <td>2013-01-01 02:00:00</td>\n",
       "      <td>0.318110987569</td>\n",
       "      <td>0.429294280581</td>\n",
       "      <td>0.351710261636</td>\n",
       "    </tr>\n",
       "  </tbody>\n",
       "</table>\n",
       "</div>"
      ],
      "text/plain": [
       "            Unnamed: 0        nrg_cons      nrg_cons.1      nrg_cons.2\n",
       "0        Acorn_grouped       Adversity        Affluent     Comfortable\n",
       "1             DateTime             NaN             NaN             NaN\n",
       "2  2013-01-01 00:00:00  0.214884508773  0.284733856135  0.244850436083\n",
       "3  2013-01-01 01:00:00  0.387206437348  0.499935424447  0.426539906036\n",
       "4  2013-01-01 02:00:00  0.318110987569  0.429294280581  0.351710261636"
      ]
     },
     "execution_count": 22,
     "metadata": {},
     "output_type": "execute_result"
    }
   ],
   "source": [
    "# get the rouped energy data\n",
    "\n",
    "df2 = pd.read_csv(\"C:\\\\Users\\\\Hrafnkell\\\\Documents\\\\GitHub\\\\Taming-the-Peak\\\\Final_Data\\\\energy_final_2013.csv\",\n",
    "                               parse_dates=[0], infer_datetime_format=True)\n",
    "#df = pd.read_csv(\"~/Desktop/CUSP/Applied_Data_Science/Taming-the-Peak/Final_Data/grouped_nrg_winter1314.csv\",\n",
    "#                               parse_dates=[0], infer_datetime_format=True)\n",
    "\n",
    "df2.head()"
   ]
  },
  {
   "cell_type": "code",
   "execution_count": 23,
   "metadata": {
    "collapsed": false
   },
   "outputs": [],
   "source": [
    "df2['DateTime'] = df2['Unnamed: 0']"
   ]
  },
  {
   "cell_type": "code",
   "execution_count": 24,
   "metadata": {
    "collapsed": false,
    "scrolled": true
   },
   "outputs": [
    {
     "data": {
      "text/plain": [
       "pandas.tslib.Timestamp"
      ]
     },
     "execution_count": 24,
     "metadata": {},
     "output_type": "execute_result"
    }
   ],
   "source": [
    "type(df.DateTime[1])"
   ]
  },
  {
   "cell_type": "code",
   "execution_count": 25,
   "metadata": {
    "collapsed": false
   },
   "outputs": [
    {
     "data": {
      "text/plain": [
       "str"
      ]
     },
     "execution_count": 25,
     "metadata": {},
     "output_type": "execute_result"
    }
   ],
   "source": [
    "type(df2.DateTime[5])"
   ]
  },
  {
   "cell_type": "code",
   "execution_count": 26,
   "metadata": {
    "collapsed": false
   },
   "outputs": [],
   "source": [
    "df2.drop([0, 1], inplace=True)"
   ]
  },
  {
   "cell_type": "code",
   "execution_count": 27,
   "metadata": {
    "collapsed": true
   },
   "outputs": [],
   "source": [
    "df2.DateTime = pd.to_datetime(df2.DateTime)"
   ]
  },
  {
   "cell_type": "code",
   "execution_count": 28,
   "metadata": {
    "collapsed": false
   },
   "outputs": [
    {
     "data": {
      "text/html": [
       "<div>\n",
       "<table border=\"1\" class=\"dataframe\">\n",
       "  <thead>\n",
       "    <tr style=\"text-align: right;\">\n",
       "      <th></th>\n",
       "      <th>Unnamed: 0</th>\n",
       "      <th>nrg_cons</th>\n",
       "      <th>nrg_cons.1</th>\n",
       "      <th>nrg_cons.2</th>\n",
       "      <th>DateTime</th>\n",
       "    </tr>\n",
       "  </thead>\n",
       "  <tbody>\n",
       "    <tr>\n",
       "      <th>2</th>\n",
       "      <td>2013-01-01 00:00:00</td>\n",
       "      <td>0.214884508773</td>\n",
       "      <td>0.284733856135</td>\n",
       "      <td>0.244850436083</td>\n",
       "      <td>2013-01-01 00:00:00</td>\n",
       "    </tr>\n",
       "    <tr>\n",
       "      <th>3</th>\n",
       "      <td>2013-01-01 01:00:00</td>\n",
       "      <td>0.387206437348</td>\n",
       "      <td>0.499935424447</td>\n",
       "      <td>0.426539906036</td>\n",
       "      <td>2013-01-01 01:00:00</td>\n",
       "    </tr>\n",
       "    <tr>\n",
       "      <th>4</th>\n",
       "      <td>2013-01-01 02:00:00</td>\n",
       "      <td>0.318110987569</td>\n",
       "      <td>0.429294280581</td>\n",
       "      <td>0.351710261636</td>\n",
       "      <td>2013-01-01 02:00:00</td>\n",
       "    </tr>\n",
       "    <tr>\n",
       "      <th>5</th>\n",
       "      <td>2013-01-01 03:00:00</td>\n",
       "      <td>0.263512763707</td>\n",
       "      <td>0.367315498063</td>\n",
       "      <td>0.288224010731</td>\n",
       "      <td>2013-01-01 03:00:00</td>\n",
       "    </tr>\n",
       "    <tr>\n",
       "      <th>6</th>\n",
       "      <td>2013-01-01 04:00:00</td>\n",
       "      <td>0.231694228468</td>\n",
       "      <td>0.324252767574</td>\n",
       "      <td>0.25395103937</td>\n",
       "      <td>2013-01-01 04:00:00</td>\n",
       "    </tr>\n",
       "  </tbody>\n",
       "</table>\n",
       "</div>"
      ],
      "text/plain": [
       "            Unnamed: 0        nrg_cons      nrg_cons.1      nrg_cons.2  \\\n",
       "2  2013-01-01 00:00:00  0.214884508773  0.284733856135  0.244850436083   \n",
       "3  2013-01-01 01:00:00  0.387206437348  0.499935424447  0.426539906036   \n",
       "4  2013-01-01 02:00:00  0.318110987569  0.429294280581  0.351710261636   \n",
       "5  2013-01-01 03:00:00  0.263512763707  0.367315498063  0.288224010731   \n",
       "6  2013-01-01 04:00:00  0.231694228468  0.324252767574   0.25395103937   \n",
       "\n",
       "             DateTime  \n",
       "2 2013-01-01 00:00:00  \n",
       "3 2013-01-01 01:00:00  \n",
       "4 2013-01-01 02:00:00  \n",
       "5 2013-01-01 03:00:00  \n",
       "6 2013-01-01 04:00:00  "
      ]
     },
     "execution_count": 28,
     "metadata": {},
     "output_type": "execute_result"
    }
   ],
   "source": [
    "df2.head()"
   ]
  },
  {
   "cell_type": "code",
   "execution_count": 29,
   "metadata": {
    "collapsed": false
   },
   "outputs": [],
   "source": [
    "merged = pd.merge(left=df2, right=df, how='left', on='DateTime')"
   ]
  },
  {
   "cell_type": "code",
   "execution_count": 31,
   "metadata": {
    "collapsed": false
   },
   "outputs": [],
   "source": [
    "merged.drop(['DateTime'], axis=1, inplace=True)"
   ]
  },
  {
   "cell_type": "code",
   "execution_count": 32,
   "metadata": {
    "collapsed": true
   },
   "outputs": [],
   "source": [
    "merged.columns = ['DateTime', 'Adversity', 'Affluent', 'Comfortable', 'Overall']"
   ]
  },
  {
   "cell_type": "code",
   "execution_count": 33,
   "metadata": {
    "collapsed": false
   },
   "outputs": [
    {
     "data": {
      "text/html": [
       "<div>\n",
       "<table border=\"1\" class=\"dataframe\">\n",
       "  <thead>\n",
       "    <tr style=\"text-align: right;\">\n",
       "      <th></th>\n",
       "      <th>DateTime</th>\n",
       "      <th>Adversity</th>\n",
       "      <th>Affluent</th>\n",
       "      <th>Comfortable</th>\n",
       "      <th>Overall</th>\n",
       "    </tr>\n",
       "  </thead>\n",
       "  <tbody>\n",
       "    <tr>\n",
       "      <th>0</th>\n",
       "      <td>2013-01-01 00:00:00</td>\n",
       "      <td>0.214884508773</td>\n",
       "      <td>0.284733856135</td>\n",
       "      <td>0.244850436083</td>\n",
       "      <td>0.250803</td>\n",
       "    </tr>\n",
       "    <tr>\n",
       "      <th>1</th>\n",
       "      <td>2013-01-01 01:00:00</td>\n",
       "      <td>0.387206437348</td>\n",
       "      <td>0.499935424447</td>\n",
       "      <td>0.426539906036</td>\n",
       "      <td>0.442699</td>\n",
       "    </tr>\n",
       "    <tr>\n",
       "      <th>2</th>\n",
       "      <td>2013-01-01 02:00:00</td>\n",
       "      <td>0.318110987569</td>\n",
       "      <td>0.429294280581</td>\n",
       "      <td>0.351710261636</td>\n",
       "      <td>0.371424</td>\n",
       "    </tr>\n",
       "    <tr>\n",
       "      <th>3</th>\n",
       "      <td>2013-01-01 03:00:00</td>\n",
       "      <td>0.263512763707</td>\n",
       "      <td>0.367315498063</td>\n",
       "      <td>0.288224010731</td>\n",
       "      <td>0.311469</td>\n",
       "    </tr>\n",
       "    <tr>\n",
       "      <th>4</th>\n",
       "      <td>2013-01-01 04:00:00</td>\n",
       "      <td>0.231694228468</td>\n",
       "      <td>0.324252767574</td>\n",
       "      <td>0.25395103937</td>\n",
       "      <td>0.274516</td>\n",
       "    </tr>\n",
       "  </tbody>\n",
       "</table>\n",
       "</div>"
      ],
      "text/plain": [
       "              DateTime       Adversity        Affluent     Comfortable  \\\n",
       "0  2013-01-01 00:00:00  0.214884508773  0.284733856135  0.244850436083   \n",
       "1  2013-01-01 01:00:00  0.387206437348  0.499935424447  0.426539906036   \n",
       "2  2013-01-01 02:00:00  0.318110987569  0.429294280581  0.351710261636   \n",
       "3  2013-01-01 03:00:00  0.263512763707  0.367315498063  0.288224010731   \n",
       "4  2013-01-01 04:00:00  0.231694228468  0.324252767574   0.25395103937   \n",
       "\n",
       "    Overall  \n",
       "0  0.250803  \n",
       "1  0.442699  \n",
       "2  0.371424  \n",
       "3  0.311469  \n",
       "4  0.274516  "
      ]
     },
     "execution_count": 33,
     "metadata": {},
     "output_type": "execute_result"
    }
   ],
   "source": [
    "merged.head()"
   ]
  },
  {
   "cell_type": "code",
   "execution_count": 34,
   "metadata": {
    "collapsed": false
   },
   "outputs": [
    {
     "data": {
      "text/html": [
       "<div>\n",
       "<table border=\"1\" class=\"dataframe\">\n",
       "  <thead>\n",
       "    <tr style=\"text-align: right;\">\n",
       "      <th></th>\n",
       "      <th>DateTime</th>\n",
       "      <th>Adversity</th>\n",
       "      <th>Affluent</th>\n",
       "      <th>Comfortable</th>\n",
       "      <th>Overall</th>\n",
       "    </tr>\n",
       "  </thead>\n",
       "  <tbody>\n",
       "    <tr>\n",
       "      <th>8755</th>\n",
       "      <td>2013-12-31 19:00:00</td>\n",
       "      <td>0.645365213031</td>\n",
       "      <td>0.891387423326</td>\n",
       "      <td>0.806535281112</td>\n",
       "      <td>0.786268</td>\n",
       "    </tr>\n",
       "    <tr>\n",
       "      <th>8756</th>\n",
       "      <td>2013-12-31 20:00:00</td>\n",
       "      <td>0.60586423421</td>\n",
       "      <td>0.843794624696</td>\n",
       "      <td>0.753225782835</td>\n",
       "      <td>0.739797</td>\n",
       "    </tr>\n",
       "    <tr>\n",
       "      <th>8757</th>\n",
       "      <td>2013-12-31 21:00:00</td>\n",
       "      <td>0.538989234509</td>\n",
       "      <td>0.758781440416</td>\n",
       "      <td>0.673500712963</td>\n",
       "      <td>0.662263</td>\n",
       "    </tr>\n",
       "    <tr>\n",
       "      <th>8758</th>\n",
       "      <td>2013-12-31 22:00:00</td>\n",
       "      <td>0.493306219497</td>\n",
       "      <td>0.676161257809</td>\n",
       "      <td>0.61511680933</td>\n",
       "      <td>0.598618</td>\n",
       "    </tr>\n",
       "    <tr>\n",
       "      <th>8759</th>\n",
       "      <td>2013-12-31 23:00:00</td>\n",
       "      <td>0.448380382775</td>\n",
       "      <td>0.605961460396</td>\n",
       "      <td>0.550477207835</td>\n",
       "      <td>0.538336</td>\n",
       "    </tr>\n",
       "  </tbody>\n",
       "</table>\n",
       "</div>"
      ],
      "text/plain": [
       "                 DateTime       Adversity        Affluent     Comfortable  \\\n",
       "8755  2013-12-31 19:00:00  0.645365213031  0.891387423326  0.806535281112   \n",
       "8756  2013-12-31 20:00:00   0.60586423421  0.843794624696  0.753225782835   \n",
       "8757  2013-12-31 21:00:00  0.538989234509  0.758781440416  0.673500712963   \n",
       "8758  2013-12-31 22:00:00  0.493306219497  0.676161257809   0.61511680933   \n",
       "8759  2013-12-31 23:00:00  0.448380382775  0.605961460396  0.550477207835   \n",
       "\n",
       "       Overall  \n",
       "8755  0.786268  \n",
       "8756  0.739797  \n",
       "8757  0.662263  \n",
       "8758  0.598618  \n",
       "8759  0.538336  "
      ]
     },
     "execution_count": 34,
     "metadata": {},
     "output_type": "execute_result"
    }
   ],
   "source": [
    "merged.tail()"
   ]
  },
  {
   "cell_type": "code",
   "execution_count": null,
   "metadata": {
    "collapsed": true
   },
   "outputs": [],
   "source": []
  },
  {
   "cell_type": "code",
   "execution_count": 36,
   "metadata": {
    "collapsed": true
   },
   "outputs": [],
   "source": [
    "output = \"C:\\\\Users\\\\Hrafnkell\\\\Documents\\\\GitHub\\\\Taming-the-Peak\\\\Final_Data\\\\energy_final_2013.csv\"\n",
    "\n",
    "merged.to_csv(output)"
   ]
  },
  {
   "cell_type": "code",
   "execution_count": null,
   "metadata": {
    "collapsed": true
   },
   "outputs": [],
   "source": []
  }
 ],
 "metadata": {
  "kernelspec": {
   "display_name": "Python [Root]",
   "language": "python",
   "name": "Python [Root]"
  },
  "language_info": {
   "codemirror_mode": {
    "name": "ipython",
    "version": 2
   },
   "file_extension": ".py",
   "mimetype": "text/x-python",
   "name": "python",
   "nbconvert_exporter": "python",
   "pygments_lexer": "ipython2",
   "version": "2.7.12"
  }
 },
 "nbformat": 4,
 "nbformat_minor": 0
}
