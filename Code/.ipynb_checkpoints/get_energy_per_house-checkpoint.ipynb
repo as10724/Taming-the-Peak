{
 "cells": [
  {
   "cell_type": "code",
   "execution_count": 1,
   "metadata": {
    "collapsed": true
   },
   "outputs": [],
   "source": [
    "import os\n",
    "import numpy as np\n",
    "import pandas as pd"
   ]
  },
  {
   "cell_type": "code",
   "execution_count": 3,
   "metadata": {
    "collapsed": false
   },
   "outputs": [
    {
     "data": {
      "text/plain": [
       "256"
      ]
     },
     "execution_count": 3,
     "metadata": {},
     "output_type": "execute_result"
    }
   ],
   "source": [
    "os.system(\"mv ../../ADSdata/Power-Networks-LCL-June2015(withAcornGps).csv_Pieces.zip ~/../../../green-projects/project-taming_the_peak/workspace/share/\")\n"
   ]
  },
  {
   "cell_type": "code",
   "execution_count": 2,
   "metadata": {
    "collapsed": false
   },
   "outputs": [],
   "source": [
    "# folder where the data is stored\n",
    "path = '../../ADSdata/Power-Networks-LCL-June2015(withAcornGps).csv_Pieces/'\n",
    "\n",
    "# file name (without the final number)\n",
    "fname = 'Power-Networks-LCL-June2015(withAcornGps)v2_'"
   ]
  },
  {
   "cell_type": "code",
   "execution_count": 3,
   "metadata": {
    "collapsed": true
   },
   "outputs": [],
   "source": [
    "def get_house_data(date_init, date_end, ID_init, ID_end, n_files):\n",
    "    count = 0\n",
    "    for i in n_files:\n",
    "        count+=1\n",
    "        first = True\n",
    "        df = pd.read_csv(path+fname+str(i)+\".csv\")\n",
    "        # boolean masks\n",
    "        b_date = [df.DateTime[k] < date_end and df.DateTime[k] > date_init for k in xrange(len(df))]\n",
    "        b_id = [df.LCLid[k] < ID_end and df.DateTime[k] > ID_init for k in xrange(len(df))]\n",
    "        \n",
    "        df = df[b_date and b_id]\n",
    "        \n",
    "        if first:\n",
    "            df_ = df\n",
    "            first=False\n",
    "        else:\n",
    "            df_ = pd.concat([df_, df], axis = 0)\n",
    "            \n",
    "        print '\\r',\"%\",str((count)*100./len(n_files)),\n",
    "    \n",
    "        return df_\n",
    "        "
   ]
  },
  {
   "cell_type": "code",
   "execution_count": 4,
   "metadata": {
    "collapsed": false
   },
   "outputs": [
    {
     "name": "stdout",
     "output_type": "stream",
     "text": [
      "\r",
      "% 11.1111111111\n"
     ]
    }
   ],
   "source": [
    "# parameters\n",
    "\n",
    "date_init = '2012-01-31 23:59:00'\n",
    "date_end = '2012-03-01 00:00:00'\n",
    "ID_init = 'MAC000100'\n",
    "ID_end = 'MAC000400'\n",
    "\n",
    "n_files = range(1, 10)\n",
    "\n",
    "\n",
    "# call function\n",
    "nrg = get_house_data(date_init, date_end, ID_init, ID_end, n_files)\n"
   ]
  },
  {
   "cell_type": "code",
   "execution_count": 5,
   "metadata": {
    "collapsed": false
   },
   "outputs": [
    {
     "name": "stdout",
     "output_type": "stream",
     "text": [
      "<class 'pandas.core.frame.DataFrame'>\n",
      "Int64Index: 0 entries\n",
      "Data columns (total 6 columns):\n",
      "LCLid                      0 non-null object\n",
      "stdorToU                   0 non-null object\n",
      "DateTime                   0 non-null object\n",
      "KWH/hh (per half hour)     0 non-null object\n",
      "Acorn                      0 non-null object\n",
      "Acorn_grouped              0 non-null object\n",
      "dtypes: object(6)\n",
      "memory usage: 0.0+ bytes\n"
     ]
    }
   ],
   "source": [
    "nrg.info()"
   ]
  }
 ],
 "metadata": {
  "kernelspec": {
   "display_name": "Python 2",
   "language": "python",
   "name": "python2"
  },
  "language_info": {
   "codemirror_mode": {
    "name": "ipython",
    "version": 2
   },
   "file_extension": ".py",
   "mimetype": "text/x-python",
   "name": "python",
   "nbconvert_exporter": "python",
   "pygments_lexer": "ipython2",
   "version": "2.7.11"
  }
 },
 "nbformat": 4,
 "nbformat_minor": 0
}
