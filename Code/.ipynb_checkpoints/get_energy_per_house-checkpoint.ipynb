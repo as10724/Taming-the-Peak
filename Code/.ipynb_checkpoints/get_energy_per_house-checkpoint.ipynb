{
 "cells": [
  {
   "cell_type": "code",
   "execution_count": 69,
   "metadata": {
    "collapsed": true
   },
   "outputs": [],
   "source": [
    "import os\n",
    "import numpy as np\n",
    "import pandas as pd"
   ]
  },
  {
   "cell_type": "code",
   "execution_count": 70,
   "metadata": {
    "collapsed": false
   },
   "outputs": [],
   "source": [
    "# folder where the data is stored\n",
    "path = '../../../share/Power-Networks-LCL-June2015(withAcornGps).csv_Pieces/'\n",
    "\n",
    "# file name (without the final number)\n",
    "fname = 'Power-Networks-LCL-June2015(withAcornGps)v2_'"
   ]
  },
  {
   "cell_type": "code",
   "execution_count": 123,
   "metadata": {
    "collapsed": false
   },
   "outputs": [],
   "source": [
    "def get_house_data(date_init, date_end, ID_init, ID_end, n_files):\n",
    "    count = 0\n",
    "    df_ = pd.DataFrame()\n",
    "    for i in n_files:\n",
    "        \n",
    "        first = True\n",
    "        df = pd.read_csv(path+fname+str(i)+\".csv\", parse_dates=[0], infer_datetime_format=True)\n",
    "        \n",
    "        #check max and min\n",
    "        if ((df.DateTime.min() > date_end) | (df.DateTime.max() < date_init)):\n",
    "            pass\n",
    "        \n",
    "        elif ((df.LCLid.min() > ID_end) | (df.LCLid.max() < ID_init)):\n",
    "            pass\n",
    "        \n",
    "        else:           \n",
    "            # boolean masks\n",
    "            b = [((df.DateTime[k] < date_end) & (df.DateTime[k] > date_init))\n",
    "                      & ((df.LCLid[k] < ID_end) & (df.LCLid[k] > ID_init)) for k in xrange(len(df))]\n",
    "                    \n",
    "            df = df[b]\n",
    "        \n",
    "            if first:\n",
    "                df_ = df\n",
    "                first = False\n",
    "            else:\n",
    "                df_ = pd.concat([df_, df], axis = 0)\n",
    "        \n",
    "        count+=1\n",
    "        print '\\r',\"%\",str((count)*100./len(n_files)),\n",
    "    \n",
    "    return df_\n",
    "        "
   ]
  },
  {
   "cell_type": "code",
   "execution_count": 131,
   "metadata": {
    "collapsed": false
   },
   "outputs": [
    {
     "data": {
      "text/plain": [
       "[159, 160, 161, 162, 163, 164, 165, 166, 167, 168]"
      ]
     },
     "execution_count": 131,
     "metadata": {},
     "output_type": "execute_result"
    }
   ],
   "source": [
    "range(1, 169)[-10:]"
   ]
  },
  {
   "cell_type": "code",
   "execution_count": 132,
   "metadata": {
    "collapsed": false
   },
   "outputs": [],
   "source": [
    "# parameters\n",
    "\n",
    "date_init = '2012-01-31 23:59:00'\n",
    "date_end = '2012-03-01 00:00:00'\n",
    "ID_init = 'MAC000100'\n",
    "ID_end = 'MAC000400'\n",
    "\n",
    "n_files = range(1,168)\n",
    "\n",
    "\n"
   ]
  },
  {
   "cell_type": "code",
   "execution_count": 133,
   "metadata": {
    "collapsed": false
   },
   "outputs": [
    {
     "name": "stdout",
     "output_type": "stream",
     "text": [
      "% 100.0\n"
     ]
    }
   ],
   "source": [
    "# call function\n",
    "nrg_per_house = get_house_data(date_init, date_end, ID_init, ID_end, n_files)\n"
   ]
  },
  {
   "cell_type": "code",
   "execution_count": 134,
   "metadata": {
    "collapsed": false,
    "scrolled": true
   },
   "outputs": [
    {
     "name": "stdout",
     "output_type": "stream",
     "text": [
      "<class 'pandas.core.frame.DataFrame'>\n",
      "Int64Index: 26484 entries, 10783 to 756573\n",
      "Data columns (total 6 columns):\n",
      "LCLid                      26484 non-null object\n",
      "stdorToU                   26484 non-null object\n",
      "DateTime                   26484 non-null object\n",
      "KWH/hh (per half hour)     26484 non-null object\n",
      "Acorn                      26484 non-null object\n",
      "Acorn_grouped              26484 non-null object\n",
      "dtypes: object(6)\n",
      "memory usage: 1.4+ MB\n"
     ]
    }
   ],
   "source": [
    "nrg_per_house.info()"
   ]
  },
  {
   "cell_type": "code",
   "execution_count": 135,
   "metadata": {
    "collapsed": false
   },
   "outputs": [
    {
     "data": {
      "text/html": [
       "<div>\n",
       "<table border=\"1\" class=\"dataframe\">\n",
       "  <thead>\n",
       "    <tr style=\"text-align: right;\">\n",
       "      <th></th>\n",
       "      <th>LCLid</th>\n",
       "      <th>stdorToU</th>\n",
       "      <th>DateTime</th>\n",
       "      <th>KWH/hh (per half hour)</th>\n",
       "      <th>Acorn</th>\n",
       "      <th>Acorn_grouped</th>\n",
       "    </tr>\n",
       "  </thead>\n",
       "  <tbody>\n",
       "    <tr>\n",
       "      <th>10783</th>\n",
       "      <td>MAC000147</td>\n",
       "      <td>ToU</td>\n",
       "      <td>2012-02-01 00:00:00.0000000</td>\n",
       "      <td>0.115</td>\n",
       "      <td>ACORN-F</td>\n",
       "      <td>Comfortable</td>\n",
       "    </tr>\n",
       "    <tr>\n",
       "      <th>10784</th>\n",
       "      <td>MAC000147</td>\n",
       "      <td>ToU</td>\n",
       "      <td>2012-02-01 00:30:00.0000000</td>\n",
       "      <td>0.036</td>\n",
       "      <td>ACORN-F</td>\n",
       "      <td>Comfortable</td>\n",
       "    </tr>\n",
       "    <tr>\n",
       "      <th>10785</th>\n",
       "      <td>MAC000147</td>\n",
       "      <td>ToU</td>\n",
       "      <td>2012-02-01 01:00:00.0000000</td>\n",
       "      <td>0.051</td>\n",
       "      <td>ACORN-F</td>\n",
       "      <td>Comfortable</td>\n",
       "    </tr>\n",
       "    <tr>\n",
       "      <th>10786</th>\n",
       "      <td>MAC000147</td>\n",
       "      <td>ToU</td>\n",
       "      <td>2012-02-01 01:30:00.0000000</td>\n",
       "      <td>0.053</td>\n",
       "      <td>ACORN-F</td>\n",
       "      <td>Comfortable</td>\n",
       "    </tr>\n",
       "    <tr>\n",
       "      <th>10787</th>\n",
       "      <td>MAC000147</td>\n",
       "      <td>ToU</td>\n",
       "      <td>2012-02-01 02:00:00.0000000</td>\n",
       "      <td>0.054</td>\n",
       "      <td>ACORN-F</td>\n",
       "      <td>Comfortable</td>\n",
       "    </tr>\n",
       "  </tbody>\n",
       "</table>\n",
       "</div>"
      ],
      "text/plain": [
       "           LCLid stdorToU                     DateTime  \\\n",
       "10783  MAC000147      ToU  2012-02-01 00:00:00.0000000   \n",
       "10784  MAC000147      ToU  2012-02-01 00:30:00.0000000   \n",
       "10785  MAC000147      ToU  2012-02-01 01:00:00.0000000   \n",
       "10786  MAC000147      ToU  2012-02-01 01:30:00.0000000   \n",
       "10787  MAC000147      ToU  2012-02-01 02:00:00.0000000   \n",
       "\n",
       "      KWH/hh (per half hour)     Acorn Acorn_grouped  \n",
       "10783                  0.115   ACORN-F   Comfortable  \n",
       "10784                  0.036   ACORN-F   Comfortable  \n",
       "10785                  0.051   ACORN-F   Comfortable  \n",
       "10786                  0.053   ACORN-F   Comfortable  \n",
       "10787                  0.054   ACORN-F   Comfortable  "
      ]
     },
     "execution_count": 135,
     "metadata": {},
     "output_type": "execute_result"
    }
   ],
   "source": [
    "nrg_per_house.head()"
   ]
  },
  {
   "cell_type": "code",
   "execution_count": 136,
   "metadata": {
    "collapsed": false
   },
   "outputs": [
    {
     "data": {
      "text/html": [
       "<div>\n",
       "<table border=\"1\" class=\"dataframe\">\n",
       "  <thead>\n",
       "    <tr style=\"text-align: right;\">\n",
       "      <th></th>\n",
       "      <th>LCLid</th>\n",
       "      <th>stdorToU</th>\n",
       "      <th>DateTime</th>\n",
       "      <th>KWH/hh (per half hour)</th>\n",
       "      <th>Acorn</th>\n",
       "      <th>Acorn_grouped</th>\n",
       "    </tr>\n",
       "  </thead>\n",
       "  <tbody>\n",
       "    <tr>\n",
       "      <th>756569</th>\n",
       "      <td>MAC000278</td>\n",
       "      <td>ToU</td>\n",
       "      <td>2012-02-29 21:30:00.0000000</td>\n",
       "      <td>0.128</td>\n",
       "      <td>ACORN-G</td>\n",
       "      <td>Comfortable</td>\n",
       "    </tr>\n",
       "    <tr>\n",
       "      <th>756570</th>\n",
       "      <td>MAC000278</td>\n",
       "      <td>ToU</td>\n",
       "      <td>2012-02-29 22:00:00.0000000</td>\n",
       "      <td>0.137</td>\n",
       "      <td>ACORN-G</td>\n",
       "      <td>Comfortable</td>\n",
       "    </tr>\n",
       "    <tr>\n",
       "      <th>756571</th>\n",
       "      <td>MAC000278</td>\n",
       "      <td>ToU</td>\n",
       "      <td>2012-02-29 22:30:00.0000000</td>\n",
       "      <td>0.121</td>\n",
       "      <td>ACORN-G</td>\n",
       "      <td>Comfortable</td>\n",
       "    </tr>\n",
       "    <tr>\n",
       "      <th>756572</th>\n",
       "      <td>MAC000278</td>\n",
       "      <td>ToU</td>\n",
       "      <td>2012-02-29 23:00:00.0000000</td>\n",
       "      <td>0.137</td>\n",
       "      <td>ACORN-G</td>\n",
       "      <td>Comfortable</td>\n",
       "    </tr>\n",
       "    <tr>\n",
       "      <th>756573</th>\n",
       "      <td>MAC000278</td>\n",
       "      <td>ToU</td>\n",
       "      <td>2012-02-29 23:30:00.0000000</td>\n",
       "      <td>0.127</td>\n",
       "      <td>ACORN-G</td>\n",
       "      <td>Comfortable</td>\n",
       "    </tr>\n",
       "  </tbody>\n",
       "</table>\n",
       "</div>"
      ],
      "text/plain": [
       "            LCLid stdorToU                     DateTime  \\\n",
       "756569  MAC000278      ToU  2012-02-29 21:30:00.0000000   \n",
       "756570  MAC000278      ToU  2012-02-29 22:00:00.0000000   \n",
       "756571  MAC000278      ToU  2012-02-29 22:30:00.0000000   \n",
       "756572  MAC000278      ToU  2012-02-29 23:00:00.0000000   \n",
       "756573  MAC000278      ToU  2012-02-29 23:30:00.0000000   \n",
       "\n",
       "       KWH/hh (per half hour)     Acorn Acorn_grouped  \n",
       "756569                  0.128   ACORN-G   Comfortable  \n",
       "756570                  0.137   ACORN-G   Comfortable  \n",
       "756571                  0.121   ACORN-G   Comfortable  \n",
       "756572                  0.137   ACORN-G   Comfortable  \n",
       "756573                  0.127   ACORN-G   Comfortable  "
      ]
     },
     "execution_count": 136,
     "metadata": {},
     "output_type": "execute_result"
    }
   ],
   "source": [
    "nrg_per_house.tail()"
   ]
  },
  {
   "cell_type": "code",
   "execution_count": 138,
   "metadata": {
    "collapsed": true
   },
   "outputs": [],
   "source": [
    "output = '../Final_Data/energy_per_house_for_logisticReg.csv'\n",
    "\n",
    "nrg_per_house.to_csv(output)"
   ]
  },
  {
   "cell_type": "code",
   "execution_count": null,
   "metadata": {
    "collapsed": false
   },
   "outputs": [],
   "source": []
  }
 ],
 "metadata": {
  "kernelspec": {
   "display_name": "Python 2",
   "language": "python",
   "name": "python2"
  },
  "language_info": {
   "codemirror_mode": {
    "name": "ipython",
    "version": 2
   },
   "file_extension": ".py",
   "mimetype": "text/x-python",
   "name": "python",
   "nbconvert_exporter": "python",
   "pygments_lexer": "ipython2",
   "version": "2.7.11"
  }
 },
 "nbformat": 4,
 "nbformat_minor": 0
}
