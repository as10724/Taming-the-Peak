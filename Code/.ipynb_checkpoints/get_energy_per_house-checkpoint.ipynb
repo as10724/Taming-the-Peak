{
 "cells": [
  {
   "cell_type": "code",
   "execution_count": 139,
   "metadata": {
    "collapsed": true
   },
   "outputs": [],
   "source": [
    "import os\n",
    "import numpy as np\n",
    "import pandas as pd"
   ]
  },
  {
   "cell_type": "code",
   "execution_count": 140,
   "metadata": {
    "collapsed": false
   },
   "outputs": [],
   "source": [
    "# folder where the data is stored\n",
    "path = '../../../share/Power-Networks-LCL-June2015(withAcornGps).csv_Pieces/'\n",
    "\n",
    "# file name (without the final number)\n",
    "fname = 'Power-Networks-LCL-June2015(withAcornGps)v2_'"
   ]
  },
  {
   "cell_type": "code",
   "execution_count": 198,
   "metadata": {
    "collapsed": false
   },
   "outputs": [],
   "source": [
    "def get_house_data(date_init, date_end, ID_init, ID_end, n_files):\n",
    "    count = 0\n",
    "    df_ = pd.DataFrame()\n",
    "    for i in n_files:\n",
    "        \n",
    "        df = pd.read_csv(path+fname+str(i)+\".csv\", parse_dates=[0], infer_datetime_format=True)\n",
    "        \n",
    "        #check max and min\n",
    "        if ((df.LCLid.min() > ID_end) | (df.LCLid.max() < ID_init)):\n",
    "            pass\n",
    "        \n",
    "        elif ((df.DateTime.min() > date_end) | (df.DateTime.max() < date_init)):\n",
    "            pass\n",
    "        \n",
    "        else:           \n",
    "                       \n",
    "            df = df[df.LCLid > ID_init]\n",
    "            df = df[df.LCLid < ID_end]\n",
    "            df = df[df.DateTime > date_init]\n",
    "            df = df[df.DateTime < date_end]\n",
    "        \n",
    "            if i == n_files[0]:\n",
    "                df_ = df\n",
    "            else:\n",
    "                df_ = pd.concat([df_, df], axis = 0)\n",
    "        \n",
    "        count+=1\n",
    "        print '\\r',\"%\",str((count)*100./len(n_files)),\n",
    "    \n",
    "    return df_\n",
    "        "
   ]
  },
  {
   "cell_type": "code",
   "execution_count": 199,
   "metadata": {
    "collapsed": false
   },
   "outputs": [],
   "source": [
    "# parameters\n",
    "\n",
    "date_init = '2013-01-31 23:59:00'\n",
    "date_end = '2013-03-01 00:00:00'\n",
    "ID_init = 'MAC000099'\n",
    "ID_end = 'MAC000500'\n",
    "\n",
    "n_files = range(1,169)"
   ]
  },
  {
   "cell_type": "code",
   "execution_count": 200,
   "metadata": {
    "collapsed": false,
    "scrolled": true
   },
   "outputs": [
    {
     "name": "stdout",
     "output_type": "stream",
     "text": [
      "% 100.0\n"
     ]
    }
   ],
   "source": [
    "# call function\n",
    "nrg_per_house = get_house_data(date_init, date_end, ID_init, ID_end, n_files)\n"
   ]
  },
  {
   "cell_type": "code",
   "execution_count": 201,
   "metadata": {
    "collapsed": false,
    "scrolled": false
   },
   "outputs": [
    {
     "name": "stdout",
     "output_type": "stream",
     "text": [
      "<class 'pandas.core.frame.DataFrame'>\n",
      "Int64Index: 527534 entries, 984492 to 158526\n",
      "Data columns (total 6 columns):\n",
      "LCLid                      527534 non-null object\n",
      "stdorToU                   527534 non-null object\n",
      "DateTime                   527534 non-null object\n",
      "KWH/hh (per half hour)     527534 non-null object\n",
      "Acorn                      527534 non-null object\n",
      "Acorn_grouped              527534 non-null object\n",
      "dtypes: object(6)\n",
      "memory usage: 28.2+ MB\n"
     ]
    }
   ],
   "source": [
    "nrg_per_house.info()"
   ]
  },
  {
   "cell_type": "code",
   "execution_count": 202,
   "metadata": {
    "collapsed": false
   },
   "outputs": [
    {
     "data": {
      "text/plain": [
       "395"
      ]
     },
     "execution_count": 202,
     "metadata": {},
     "output_type": "execute_result"
    }
   ],
   "source": [
    "len(nrg_per_house.LCLid.unique())"
   ]
  },
  {
   "cell_type": "code",
   "execution_count": 203,
   "metadata": {
    "collapsed": false
   },
   "outputs": [
    {
     "data": {
      "text/plain": [
       "587760"
      ]
     },
     "execution_count": 203,
     "metadata": {},
     "output_type": "execute_result"
    }
   ],
   "source": [
    "len(nrg_per_house.LCLid.unique()) * 31 * 24 * 2"
   ]
  },
  {
   "cell_type": "code",
   "execution_count": 204,
   "metadata": {
    "collapsed": false
   },
   "outputs": [
    {
     "data": {
      "text/plain": [
       "('2013-02-01 00:00:00.0000000', '2013-02-28 23:30:00.0000000')"
      ]
     },
     "execution_count": 204,
     "metadata": {},
     "output_type": "execute_result"
    }
   ],
   "source": [
    "nrg_per_house.DateTime.min(), nrg_per_house.DateTime.max()"
   ]
  },
  {
   "cell_type": "code",
   "execution_count": 205,
   "metadata": {
    "collapsed": true
   },
   "outputs": [],
   "source": [
    "output = '../Final_Data/energy_per_house_for_logisticReg_100to500_Feb2013.csv'\n",
    "\n",
    "nrg_per_house.to_csv(output)"
   ]
  },
  {
   "cell_type": "markdown",
   "metadata": {
    "collapsed": false
   },
   "source": [
    "## Tests"
   ]
  },
  {
   "cell_type": "code",
   "execution_count": 154,
   "metadata": {
    "collapsed": true
   },
   "outputs": [],
   "source": [
    "i=1\n",
    "df1 = pd.read_csv(path+fname+str(i)+\".csv\", parse_dates=[0], infer_datetime_format=True)\n",
    "\n",
    "i=2\n",
    "df2 = pd.read_csv(path+fname+str(i)+\".csv\", parse_dates=[0], infer_datetime_format=True)"
   ]
  },
  {
   "cell_type": "code",
   "execution_count": 155,
   "metadata": {
    "collapsed": false
   },
   "outputs": [
    {
     "data": {
      "text/plain": [
       "array(['MAC000002', 'MAC000003', 'MAC000004', 'MAC000006', 'MAC000007',\n",
       "       'MAC000008', 'MAC000009', 'MAC000010', 'MAC000011', 'MAC000012',\n",
       "       'MAC000013', 'MAC000016', 'MAC000018', 'MAC000019', 'MAC000020',\n",
       "       'MAC000021', 'MAC000022', 'MAC000023', 'MAC000024', 'MAC000025',\n",
       "       'MAC000026', 'MAC000027', 'MAC000028', 'MAC000029', 'MAC000030',\n",
       "       'MAC000032', 'MAC000033', 'MAC000034', 'MAC000035', 'MAC000036'], dtype=object)"
      ]
     },
     "execution_count": 155,
     "metadata": {},
     "output_type": "execute_result"
    }
   ],
   "source": [
    "df1.LCLid.unique()"
   ]
  },
  {
   "cell_type": "code",
   "execution_count": 156,
   "metadata": {
    "collapsed": false
   },
   "outputs": [
    {
     "data": {
      "text/plain": [
       "array(['MAC000036', 'MAC000037', 'MAC000038', 'MAC000039', 'MAC000040',\n",
       "       'MAC000041', 'MAC000042', 'MAC000043', 'MAC000045', 'MAC000047',\n",
       "       'MAC000049', 'MAC000050', 'MAC000053', 'MAC000054', 'MAC000055',\n",
       "       'MAC000056', 'MAC000057', 'MAC000058', 'MAC000059', 'MAC000060',\n",
       "       'MAC000061', 'MAC000062', 'MAC000063', 'MAC000066', 'MAC000067',\n",
       "       'MAC000068', 'MAC000069'], dtype=object)"
      ]
     },
     "execution_count": 156,
     "metadata": {},
     "output_type": "execute_result"
    }
   ],
   "source": [
    "df2.LCLid.unique()"
   ]
  },
  {
   "cell_type": "code",
   "execution_count": 158,
   "metadata": {
    "collapsed": false
   },
   "outputs": [
    {
     "data": {
      "text/plain": [
       "('2011-12-06 13:00:00.0000000', '2014-02-28 00:00:00.0000000')"
      ]
     },
     "execution_count": 158,
     "metadata": {},
     "output_type": "execute_result"
    }
   ],
   "source": [
    "df1.DateTime.min(), df1.DateTime.max()"
   ]
  },
  {
   "cell_type": "code",
   "execution_count": 159,
   "metadata": {
    "collapsed": false
   },
   "outputs": [
    {
     "data": {
      "text/plain": [
       "('2011-12-07 16:00:00.0000000', '2014-02-28 00:00:00.0000000')"
      ]
     },
     "execution_count": 159,
     "metadata": {},
     "output_type": "execute_result"
    }
   ],
   "source": [
    "df2.DateTime.min(), df2.DateTime.max()"
   ]
  },
  {
   "cell_type": "code",
   "execution_count": 160,
   "metadata": {
    "collapsed": false
   },
   "outputs": [
    {
     "data": {
      "text/plain": [
       "1000000"
      ]
     },
     "execution_count": 160,
     "metadata": {},
     "output_type": "execute_result"
    }
   ],
   "source": [
    "len(df1)"
   ]
  },
  {
   "cell_type": "code",
   "execution_count": 164,
   "metadata": {
    "collapsed": true
   },
   "outputs": [],
   "source": [
    "df1 = df1[df1.LCLid > ID_init]"
   ]
  },
  {
   "cell_type": "code",
   "execution_count": 165,
   "metadata": {
    "collapsed": false
   },
   "outputs": [
    {
     "data": {
      "text/plain": [
       "556144"
      ]
     },
     "execution_count": 165,
     "metadata": {},
     "output_type": "execute_result"
    }
   ],
   "source": [
    "len(df1)"
   ]
  }
 ],
 "metadata": {
  "kernelspec": {
   "display_name": "Python 2",
   "language": "python",
   "name": "python2"
  },
  "language_info": {
   "codemirror_mode": {
    "name": "ipython",
    "version": 2
   },
   "file_extension": ".py",
   "mimetype": "text/x-python",
   "name": "python",
   "nbconvert_exporter": "python",
   "pygments_lexer": "ipython2",
   "version": "2.7.11"
  }
 },
 "nbformat": 4,
 "nbformat_minor": 0
}
