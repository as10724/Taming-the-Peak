{
 "cells": [
  {
   "cell_type": "code",
   "execution_count": 1,
   "metadata": {
    "collapsed": true
   },
   "outputs": [],
   "source": [
    "import pandas as pd\n",
    "import numpy as np"
   ]
  },
  {
   "cell_type": "code",
   "execution_count": 2,
   "metadata": {
    "collapsed": true
   },
   "outputs": [],
   "source": [
    "data = pd.read_csv('../Final_Data/final1213_reshaped.csv')"
   ]
  },
  {
   "cell_type": "code",
   "execution_count": 3,
   "metadata": {
    "collapsed": false
   },
   "outputs": [
    {
     "data": {
      "text/html": [
       "<div>\n",
       "<table border=\"1\" class=\"dataframe\">\n",
       "  <thead>\n",
       "    <tr style=\"text-align: right;\">\n",
       "      <th></th>\n",
       "      <th>Unnamed: 0</th>\n",
       "      <th>Datetime</th>\n",
       "      <th>Dew_Point_F</th>\n",
       "      <th>Humidity</th>\n",
       "      <th>Temperature_F</th>\n",
       "      <th>Wind_Speed_MPH</th>\n",
       "      <th>Consumption</th>\n",
       "      <th>Income</th>\n",
       "      <th>Overall</th>\n",
       "      <th>Diff</th>\n",
       "      <th>Diff_perc</th>\n",
       "      <th>Month</th>\n",
       "      <th>DayofWeek</th>\n",
       "      <th>Hour</th>\n",
       "      <th>WeekofYear</th>\n",
       "      <th>Year</th>\n",
       "    </tr>\n",
       "  </thead>\n",
       "  <tbody>\n",
       "    <tr>\n",
       "      <th>0</th>\n",
       "      <td>0</td>\n",
       "      <td>2012-01-01 00:00:00</td>\n",
       "      <td>50.0</td>\n",
       "      <td>88</td>\n",
       "      <td>53.6</td>\n",
       "      <td>13.8</td>\n",
       "      <td>0.190114</td>\n",
       "      <td>Medium</td>\n",
       "      <td>0.231749</td>\n",
       "      <td>-0.041635</td>\n",
       "      <td>-0.179655</td>\n",
       "      <td>1</td>\n",
       "      <td>6</td>\n",
       "      <td>0</td>\n",
       "      <td>52</td>\n",
       "      <td>2012</td>\n",
       "    </tr>\n",
       "    <tr>\n",
       "      <th>1</th>\n",
       "      <td>1</td>\n",
       "      <td>2012-01-01 00:00:00</td>\n",
       "      <td>50.0</td>\n",
       "      <td>88</td>\n",
       "      <td>53.6</td>\n",
       "      <td>13.8</td>\n",
       "      <td>0.221192</td>\n",
       "      <td>Low</td>\n",
       "      <td>0.231749</td>\n",
       "      <td>-0.010557</td>\n",
       "      <td>-0.045553</td>\n",
       "      <td>1</td>\n",
       "      <td>6</td>\n",
       "      <td>0</td>\n",
       "      <td>52</td>\n",
       "      <td>2012</td>\n",
       "    </tr>\n",
       "    <tr>\n",
       "      <th>2</th>\n",
       "      <td>2</td>\n",
       "      <td>2012-01-01 00:00:00</td>\n",
       "      <td>50.0</td>\n",
       "      <td>88</td>\n",
       "      <td>53.6</td>\n",
       "      <td>13.8</td>\n",
       "      <td>0.268072</td>\n",
       "      <td>High</td>\n",
       "      <td>0.231749</td>\n",
       "      <td>0.036323</td>\n",
       "      <td>0.156735</td>\n",
       "      <td>1</td>\n",
       "      <td>6</td>\n",
       "      <td>0</td>\n",
       "      <td>52</td>\n",
       "      <td>2012</td>\n",
       "    </tr>\n",
       "    <tr>\n",
       "      <th>3</th>\n",
       "      <td>3</td>\n",
       "      <td>2012-01-01 01:00:00</td>\n",
       "      <td>50.0</td>\n",
       "      <td>88</td>\n",
       "      <td>53.6</td>\n",
       "      <td>15.0</td>\n",
       "      <td>0.355447</td>\n",
       "      <td>Medium</td>\n",
       "      <td>0.550101</td>\n",
       "      <td>-0.194654</td>\n",
       "      <td>-0.353851</td>\n",
       "      <td>1</td>\n",
       "      <td>6</td>\n",
       "      <td>1</td>\n",
       "      <td>52</td>\n",
       "      <td>2012</td>\n",
       "    </tr>\n",
       "    <tr>\n",
       "      <th>4</th>\n",
       "      <td>4</td>\n",
       "      <td>2012-01-01 01:00:00</td>\n",
       "      <td>50.0</td>\n",
       "      <td>88</td>\n",
       "      <td>53.6</td>\n",
       "      <td>15.0</td>\n",
       "      <td>0.616456</td>\n",
       "      <td>Low</td>\n",
       "      <td>0.550101</td>\n",
       "      <td>0.066355</td>\n",
       "      <td>0.120623</td>\n",
       "      <td>1</td>\n",
       "      <td>6</td>\n",
       "      <td>1</td>\n",
       "      <td>52</td>\n",
       "      <td>2012</td>\n",
       "    </tr>\n",
       "    <tr>\n",
       "      <th>5</th>\n",
       "      <td>5</td>\n",
       "      <td>2012-01-01 01:00:00</td>\n",
       "      <td>50.0</td>\n",
       "      <td>88</td>\n",
       "      <td>53.6</td>\n",
       "      <td>15.0</td>\n",
       "      <td>0.633311</td>\n",
       "      <td>High</td>\n",
       "      <td>0.550101</td>\n",
       "      <td>0.083210</td>\n",
       "      <td>0.151264</td>\n",
       "      <td>1</td>\n",
       "      <td>6</td>\n",
       "      <td>1</td>\n",
       "      <td>52</td>\n",
       "      <td>2012</td>\n",
       "    </tr>\n",
       "  </tbody>\n",
       "</table>\n",
       "</div>"
      ],
      "text/plain": [
       "   Unnamed: 0             Datetime  Dew_Point_F  Humidity  Temperature_F  \\\n",
       "0           0  2012-01-01 00:00:00         50.0        88           53.6   \n",
       "1           1  2012-01-01 00:00:00         50.0        88           53.6   \n",
       "2           2  2012-01-01 00:00:00         50.0        88           53.6   \n",
       "3           3  2012-01-01 01:00:00         50.0        88           53.6   \n",
       "4           4  2012-01-01 01:00:00         50.0        88           53.6   \n",
       "5           5  2012-01-01 01:00:00         50.0        88           53.6   \n",
       "\n",
       "   Wind_Speed_MPH  Consumption  Income   Overall      Diff  Diff_perc  Month  \\\n",
       "0            13.8     0.190114  Medium  0.231749 -0.041635  -0.179655      1   \n",
       "1            13.8     0.221192     Low  0.231749 -0.010557  -0.045553      1   \n",
       "2            13.8     0.268072    High  0.231749  0.036323   0.156735      1   \n",
       "3            15.0     0.355447  Medium  0.550101 -0.194654  -0.353851      1   \n",
       "4            15.0     0.616456     Low  0.550101  0.066355   0.120623      1   \n",
       "5            15.0     0.633311    High  0.550101  0.083210   0.151264      1   \n",
       "\n",
       "   DayofWeek  Hour  WeekofYear  Year  \n",
       "0          6     0          52  2012  \n",
       "1          6     0          52  2012  \n",
       "2          6     0          52  2012  \n",
       "3          6     1          52  2012  \n",
       "4          6     1          52  2012  \n",
       "5          6     1          52  2012  "
      ]
     },
     "execution_count": 3,
     "metadata": {},
     "output_type": "execute_result"
    }
   ],
   "source": [
    "data.head(6)"
   ]
  },
  {
   "cell_type": "code",
   "execution_count": 4,
   "metadata": {
    "collapsed": false
   },
   "outputs": [],
   "source": [
    "year2012 = pd.read_csv('../Final_Data/grouped_2012.csv')\n",
    "year2013 = pd.read_csv('../Final_Data/grouped_2013.csv')"
   ]
  },
  {
   "cell_type": "code",
   "execution_count": 5,
   "metadata": {
    "collapsed": false
   },
   "outputs": [
    {
     "data": {
      "text/html": [
       "<div>\n",
       "<table border=\"1\" class=\"dataframe\">\n",
       "  <thead>\n",
       "    <tr style=\"text-align: right;\">\n",
       "      <th></th>\n",
       "      <th>DateTime</th>\n",
       "      <th>Acorn</th>\n",
       "      <th>Acorn_grouped</th>\n",
       "      <th>stdorToU</th>\n",
       "      <th>KWH/hh (per half hour)</th>\n",
       "      <th>LCLid</th>\n",
       "    </tr>\n",
       "  </thead>\n",
       "  <tbody>\n",
       "    <tr>\n",
       "      <th>0</th>\n",
       "      <td>2012-01-01 00:00:00</td>\n",
       "      <td>ACORN-A</td>\n",
       "      <td>Affluent</td>\n",
       "      <td>Std</td>\n",
       "      <td>0.495875</td>\n",
       "      <td>8</td>\n",
       "    </tr>\n",
       "    <tr>\n",
       "      <th>1</th>\n",
       "      <td>2012-01-01 00:00:00</td>\n",
       "      <td>ACORN-A</td>\n",
       "      <td>Affluent</td>\n",
       "      <td>ToU</td>\n",
       "      <td>0.279000</td>\n",
       "      <td>1</td>\n",
       "    </tr>\n",
       "    <tr>\n",
       "      <th>2</th>\n",
       "      <td>2012-01-01 00:00:00</td>\n",
       "      <td>ACORN-B</td>\n",
       "      <td>Affluent</td>\n",
       "      <td>Std</td>\n",
       "      <td>0.156000</td>\n",
       "      <td>1</td>\n",
       "    </tr>\n",
       "    <tr>\n",
       "      <th>3</th>\n",
       "      <td>2012-01-01 00:00:00</td>\n",
       "      <td>ACORN-C</td>\n",
       "      <td>Affluent</td>\n",
       "      <td>Std</td>\n",
       "      <td>0.264400</td>\n",
       "      <td>5</td>\n",
       "    </tr>\n",
       "    <tr>\n",
       "      <th>4</th>\n",
       "      <td>2012-01-01 00:00:00</td>\n",
       "      <td>ACORN-C</td>\n",
       "      <td>Affluent</td>\n",
       "      <td>ToU</td>\n",
       "      <td>0.349000</td>\n",
       "      <td>2</td>\n",
       "    </tr>\n",
       "  </tbody>\n",
       "</table>\n",
       "</div>"
      ],
      "text/plain": [
       "              DateTime    Acorn Acorn_grouped stdorToU  \\\n",
       "0  2012-01-01 00:00:00  ACORN-A      Affluent      Std   \n",
       "1  2012-01-01 00:00:00  ACORN-A      Affluent      ToU   \n",
       "2  2012-01-01 00:00:00  ACORN-B      Affluent      Std   \n",
       "3  2012-01-01 00:00:00  ACORN-C      Affluent      Std   \n",
       "4  2012-01-01 00:00:00  ACORN-C      Affluent      ToU   \n",
       "\n",
       "   KWH/hh (per half hour)   LCLid  \n",
       "0                 0.495875      8  \n",
       "1                 0.279000      1  \n",
       "2                 0.156000      1  \n",
       "3                 0.264400      5  \n",
       "4                 0.349000      2  "
      ]
     },
     "execution_count": 5,
     "metadata": {},
     "output_type": "execute_result"
    }
   ],
   "source": [
    "year2012.head()"
   ]
  },
  {
   "cell_type": "code",
   "execution_count": 6,
   "metadata": {
    "collapsed": false
   },
   "outputs": [
    {
     "data": {
      "text/html": [
       "<div>\n",
       "<table border=\"1\" class=\"dataframe\">\n",
       "  <thead>\n",
       "    <tr style=\"text-align: right;\">\n",
       "      <th></th>\n",
       "      <th></th>\n",
       "      <th></th>\n",
       "      <th>KWH/hh (per half hour)</th>\n",
       "      <th>LCLid</th>\n",
       "    </tr>\n",
       "    <tr>\n",
       "      <th>DateTime</th>\n",
       "      <th>Acorn_grouped</th>\n",
       "      <th>stdorToU</th>\n",
       "      <th></th>\n",
       "      <th></th>\n",
       "    </tr>\n",
       "  </thead>\n",
       "  <tbody>\n",
       "    <tr>\n",
       "      <th rowspan=\"8\" valign=\"top\">2012-01-01 00:00:00</th>\n",
       "      <th rowspan=\"2\" valign=\"top\">ACORN-U</th>\n",
       "      <th>Std</th>\n",
       "      <td>0.179000</td>\n",
       "      <td>4</td>\n",
       "    </tr>\n",
       "    <tr>\n",
       "      <th>ToU</th>\n",
       "      <td>0.021000</td>\n",
       "      <td>1</td>\n",
       "    </tr>\n",
       "    <tr>\n",
       "      <th rowspan=\"2\" valign=\"top\">Adversity</th>\n",
       "      <th>Std</th>\n",
       "      <td>1.447567</td>\n",
       "      <td>110</td>\n",
       "    </tr>\n",
       "    <tr>\n",
       "      <th>ToU</th>\n",
       "      <td>1.247383</td>\n",
       "      <td>15</td>\n",
       "    </tr>\n",
       "    <tr>\n",
       "      <th rowspan=\"2\" valign=\"top\">Affluent</th>\n",
       "      <th>Std</th>\n",
       "      <td>1.476540</td>\n",
       "      <td>143</td>\n",
       "    </tr>\n",
       "    <tr>\n",
       "      <th>ToU</th>\n",
       "      <td>1.056912</td>\n",
       "      <td>24</td>\n",
       "    </tr>\n",
       "    <tr>\n",
       "      <th rowspan=\"2\" valign=\"top\">Comfortable</th>\n",
       "      <th>Std</th>\n",
       "      <td>0.675350</td>\n",
       "      <td>97</td>\n",
       "    </tr>\n",
       "    <tr>\n",
       "      <th>ToU</th>\n",
       "      <td>0.687150</td>\n",
       "      <td>17</td>\n",
       "    </tr>\n",
       "    <tr>\n",
       "      <th rowspan=\"4\" valign=\"top\">2012-01-01 00:30:00</th>\n",
       "      <th rowspan=\"2\" valign=\"top\">ACORN-U</th>\n",
       "      <th>Std</th>\n",
       "      <td>0.329750</td>\n",
       "      <td>4</td>\n",
       "    </tr>\n",
       "    <tr>\n",
       "      <th>ToU</th>\n",
       "      <td>0.065000</td>\n",
       "      <td>1</td>\n",
       "    </tr>\n",
       "    <tr>\n",
       "      <th rowspan=\"2\" valign=\"top\">Adversity</th>\n",
       "      <th>Std</th>\n",
       "      <td>1.523004</td>\n",
       "      <td>110</td>\n",
       "    </tr>\n",
       "    <tr>\n",
       "      <th>ToU</th>\n",
       "      <td>1.451067</td>\n",
       "      <td>15</td>\n",
       "    </tr>\n",
       "  </tbody>\n",
       "</table>\n",
       "</div>"
      ],
      "text/plain": [
       "                                            KWH/hh (per half hour)   LCLid\n",
       "DateTime            Acorn_grouped stdorToU                                \n",
       "2012-01-01 00:00:00 ACORN-U       Std                      0.179000      4\n",
       "                                  ToU                      0.021000      1\n",
       "                    Adversity     Std                      1.447567    110\n",
       "                                  ToU                      1.247383     15\n",
       "                    Affluent      Std                      1.476540    143\n",
       "                                  ToU                      1.056912     24\n",
       "                    Comfortable   Std                      0.675350     97\n",
       "                                  ToU                      0.687150     17\n",
       "2012-01-01 00:30:00 ACORN-U       Std                      0.329750      4\n",
       "                                  ToU                      0.065000      1\n",
       "                    Adversity     Std                      1.523004    110\n",
       "                                  ToU                      1.451067     15"
      ]
     },
     "execution_count": 6,
     "metadata": {},
     "output_type": "execute_result"
    }
   ],
   "source": [
    "year2012.groupby(['DateTime', 'Acorn_grouped', 'stdorToU']).sum().head(12)"
   ]
  },
  {
   "cell_type": "code",
   "execution_count": 7,
   "metadata": {
    "collapsed": false,
    "scrolled": true
   },
   "outputs": [
    {
     "data": {
      "text/html": [
       "<div>\n",
       "<table border=\"1\" class=\"dataframe\">\n",
       "  <thead>\n",
       "    <tr style=\"text-align: right;\">\n",
       "      <th></th>\n",
       "      <th></th>\n",
       "      <th></th>\n",
       "      <th>KWH/hh (per half hour)</th>\n",
       "      <th>LCLid</th>\n",
       "    </tr>\n",
       "    <tr>\n",
       "      <th>DateTime</th>\n",
       "      <th>Acorn_grouped</th>\n",
       "      <th>stdorToU</th>\n",
       "      <th></th>\n",
       "      <th></th>\n",
       "    </tr>\n",
       "  </thead>\n",
       "  <tbody>\n",
       "    <tr>\n",
       "      <th rowspan=\"8\" valign=\"top\">2013-01-01 00:00:00</th>\n",
       "      <th rowspan=\"2\" valign=\"top\">ACORN-U</th>\n",
       "      <th>Std</th>\n",
       "      <td>0.281658</td>\n",
       "      <td>38</td>\n",
       "    </tr>\n",
       "    <tr>\n",
       "      <th>ToU</th>\n",
       "      <td>0.220000</td>\n",
       "      <td>10</td>\n",
       "    </tr>\n",
       "    <tr>\n",
       "      <th rowspan=\"2\" valign=\"top\">Adversity</th>\n",
       "      <th>Std</th>\n",
       "      <td>1.794055</td>\n",
       "      <td>1505</td>\n",
       "    </tr>\n",
       "    <tr>\n",
       "      <th>ToU</th>\n",
       "      <td>1.310778</td>\n",
       "      <td>296</td>\n",
       "    </tr>\n",
       "    <tr>\n",
       "      <th rowspan=\"2\" valign=\"top\">Affluent</th>\n",
       "      <th>Std</th>\n",
       "      <td>1.629151</td>\n",
       "      <td>1683</td>\n",
       "    </tr>\n",
       "    <tr>\n",
       "      <th>ToU</th>\n",
       "      <td>1.634195</td>\n",
       "      <td>485</td>\n",
       "    </tr>\n",
       "    <tr>\n",
       "      <th rowspan=\"2\" valign=\"top\">Comfortable</th>\n",
       "      <th>Std</th>\n",
       "      <td>1.529581</td>\n",
       "      <td>1171</td>\n",
       "    </tr>\n",
       "    <tr>\n",
       "      <th>ToU</th>\n",
       "      <td>0.974965</td>\n",
       "      <td>320</td>\n",
       "    </tr>\n",
       "    <tr>\n",
       "      <th rowspan=\"4\" valign=\"top\">2013-01-01 00:30:00</th>\n",
       "      <th rowspan=\"2\" valign=\"top\">ACORN-U</th>\n",
       "      <th>Std</th>\n",
       "      <td>0.271211</td>\n",
       "      <td>38</td>\n",
       "    </tr>\n",
       "    <tr>\n",
       "      <th>ToU</th>\n",
       "      <td>0.223800</td>\n",
       "      <td>10</td>\n",
       "    </tr>\n",
       "    <tr>\n",
       "      <th rowspan=\"2\" valign=\"top\">Adversity</th>\n",
       "      <th>Std</th>\n",
       "      <td>1.669714</td>\n",
       "      <td>1506</td>\n",
       "    </tr>\n",
       "    <tr>\n",
       "      <th>ToU</th>\n",
       "      <td>1.301760</td>\n",
       "      <td>296</td>\n",
       "    </tr>\n",
       "  </tbody>\n",
       "</table>\n",
       "</div>"
      ],
      "text/plain": [
       "                                            KWH/hh (per half hour)   LCLid\n",
       "DateTime            Acorn_grouped stdorToU                                \n",
       "2013-01-01 00:00:00 ACORN-U       Std                      0.281658     38\n",
       "                                  ToU                      0.220000     10\n",
       "                    Adversity     Std                      1.794055   1505\n",
       "                                  ToU                      1.310778    296\n",
       "                    Affluent      Std                      1.629151   1683\n",
       "                                  ToU                      1.634195    485\n",
       "                    Comfortable   Std                      1.529581   1171\n",
       "                                  ToU                      0.974965    320\n",
       "2013-01-01 00:30:00 ACORN-U       Std                      0.271211     38\n",
       "                                  ToU                      0.223800     10\n",
       "                    Adversity     Std                      1.669714   1506\n",
       "                                  ToU                      1.301760    296"
      ]
     },
     "execution_count": 7,
     "metadata": {},
     "output_type": "execute_result"
    }
   ],
   "source": [
    "year2013.groupby(['DateTime', 'Acorn_grouped', 'stdorToU']).sum().head(12)"
   ]
  },
  {
   "cell_type": "code",
   "execution_count": 8,
   "metadata": {
    "collapsed": true
   },
   "outputs": [],
   "source": [
    "list_of_interest = ['Adversity', 'Affluent', 'Comfortable']"
   ]
  },
  {
   "cell_type": "code",
   "execution_count": 9,
   "metadata": {
    "collapsed": true
   },
   "outputs": [],
   "source": [
    "year2012 = year2012[year2012['Acorn_grouped'].isin(list_of_interest)]\n",
    "year2013 = year2013[year2013['Acorn_grouped'].isin(list_of_interest)]"
   ]
  },
  {
   "cell_type": "code",
   "execution_count": 10,
   "metadata": {
    "collapsed": true
   },
   "outputs": [],
   "source": [
    "list = [year2012, year2013]"
   ]
  },
  {
   "cell_type": "code",
   "execution_count": 11,
   "metadata": {
    "collapsed": true
   },
   "outputs": [],
   "source": [
    "df = pd.concat(list)"
   ]
  },
  {
   "cell_type": "code",
   "execution_count": 12,
   "metadata": {
    "collapsed": true
   },
   "outputs": [],
   "source": [
    "df['total_energy'] = df['KWH/hh (per half hour) '] * df.LCLid"
   ]
  },
  {
   "cell_type": "code",
   "execution_count": 13,
   "metadata": {
    "collapsed": false
   },
   "outputs": [],
   "source": [
    "df.drop(['KWH/hh (per half hour) '], axis=1, inplace=True)"
   ]
  },
  {
   "cell_type": "code",
   "execution_count": 14,
   "metadata": {
    "collapsed": false
   },
   "outputs": [
    {
     "data": {
      "text/html": [
       "<div>\n",
       "<table border=\"1\" class=\"dataframe\">\n",
       "  <thead>\n",
       "    <tr style=\"text-align: right;\">\n",
       "      <th></th>\n",
       "      <th></th>\n",
       "      <th></th>\n",
       "      <th>LCLid</th>\n",
       "      <th>total_energy</th>\n",
       "    </tr>\n",
       "    <tr>\n",
       "      <th>DateTime</th>\n",
       "      <th>Acorn_grouped</th>\n",
       "      <th>stdorToU</th>\n",
       "      <th></th>\n",
       "      <th></th>\n",
       "    </tr>\n",
       "  </thead>\n",
       "  <tbody>\n",
       "    <tr>\n",
       "      <th rowspan=\"6\" valign=\"top\">2013-12-31 23:30:00</th>\n",
       "      <th rowspan=\"2\" valign=\"top\">Adversity</th>\n",
       "      <th>Std</th>\n",
       "      <td>1392</td>\n",
       "      <td>298.654</td>\n",
       "    </tr>\n",
       "    <tr>\n",
       "      <th>ToU</th>\n",
       "      <td>280</td>\n",
       "      <td>49.743</td>\n",
       "    </tr>\n",
       "    <tr>\n",
       "      <th rowspan=\"2\" valign=\"top\">Affluent</th>\n",
       "      <th>Std</th>\n",
       "      <td>1517</td>\n",
       "      <td>416.371</td>\n",
       "    </tr>\n",
       "    <tr>\n",
       "      <th>ToU</th>\n",
       "      <td>455</td>\n",
       "      <td>115.879</td>\n",
       "    </tr>\n",
       "    <tr>\n",
       "      <th rowspan=\"2\" valign=\"top\">Comfortable</th>\n",
       "      <th>Std</th>\n",
       "      <td>1107</td>\n",
       "      <td>292.688</td>\n",
       "    </tr>\n",
       "    <tr>\n",
       "      <th>ToU</th>\n",
       "      <td>297</td>\n",
       "      <td>64.539</td>\n",
       "    </tr>\n",
       "  </tbody>\n",
       "</table>\n",
       "</div>"
      ],
      "text/plain": [
       "                                            LCLid  total_energy\n",
       "DateTime            Acorn_grouped stdorToU                     \n",
       "2013-12-31 23:30:00 Adversity     Std        1392       298.654\n",
       "                                  ToU         280        49.743\n",
       "                    Affluent      Std        1517       416.371\n",
       "                                  ToU         455       115.879\n",
       "                    Comfortable   Std        1107       292.688\n",
       "                                  ToU         297        64.539"
      ]
     },
     "execution_count": 14,
     "metadata": {},
     "output_type": "execute_result"
    }
   ],
   "source": [
    "df.groupby(['DateTime', 'Acorn_grouped', 'stdorToU']).sum().tail(6)"
   ]
  },
  {
   "cell_type": "code",
   "execution_count": null,
   "metadata": {
    "collapsed": true
   },
   "outputs": [],
   "source": []
  },
  {
   "cell_type": "code",
   "execution_count": 15,
   "metadata": {
    "collapsed": true
   },
   "outputs": [],
   "source": [
    "df = df.groupby(['DateTime', 'Acorn_grouped', 'stdorToU']).sum()"
   ]
  },
  {
   "cell_type": "code",
   "execution_count": 16,
   "metadata": {
    "collapsed": false,
    "scrolled": true
   },
   "outputs": [
    {
     "data": {
      "text/html": [
       "<div>\n",
       "<table border=\"1\" class=\"dataframe\">\n",
       "  <thead>\n",
       "    <tr style=\"text-align: right;\">\n",
       "      <th></th>\n",
       "      <th></th>\n",
       "      <th></th>\n",
       "      <th>LCLid</th>\n",
       "      <th>total_energy</th>\n",
       "    </tr>\n",
       "    <tr>\n",
       "      <th>DateTime</th>\n",
       "      <th>Acorn_grouped</th>\n",
       "      <th>stdorToU</th>\n",
       "      <th></th>\n",
       "      <th></th>\n",
       "    </tr>\n",
       "  </thead>\n",
       "  <tbody>\n",
       "    <tr>\n",
       "      <th rowspan=\"6\" valign=\"top\">2012-01-01 00:00:00</th>\n",
       "      <th rowspan=\"2\" valign=\"top\">Adversity</th>\n",
       "      <th>Std</th>\n",
       "      <td>110</td>\n",
       "      <td>23.560</td>\n",
       "    </tr>\n",
       "    <tr>\n",
       "      <th>ToU</th>\n",
       "      <td>15</td>\n",
       "      <td>4.089</td>\n",
       "    </tr>\n",
       "    <tr>\n",
       "      <th rowspan=\"2\" valign=\"top\">Affluent</th>\n",
       "      <th>Std</th>\n",
       "      <td>143</td>\n",
       "      <td>39.146</td>\n",
       "    </tr>\n",
       "    <tr>\n",
       "      <th>ToU</th>\n",
       "      <td>24</td>\n",
       "      <td>5.622</td>\n",
       "    </tr>\n",
       "    <tr>\n",
       "      <th rowspan=\"2\" valign=\"top\">Comfortable</th>\n",
       "      <th>Std</th>\n",
       "      <td>97</td>\n",
       "      <td>17.848</td>\n",
       "    </tr>\n",
       "    <tr>\n",
       "      <th>ToU</th>\n",
       "      <td>17</td>\n",
       "      <td>3.825</td>\n",
       "    </tr>\n",
       "  </tbody>\n",
       "</table>\n",
       "</div>"
      ],
      "text/plain": [
       "                                            LCLid  total_energy\n",
       "DateTime            Acorn_grouped stdorToU                     \n",
       "2012-01-01 00:00:00 Adversity     Std         110        23.560\n",
       "                                  ToU          15         4.089\n",
       "                    Affluent      Std         143        39.146\n",
       "                                  ToU          24         5.622\n",
       "                    Comfortable   Std          97        17.848\n",
       "                                  ToU          17         3.825"
      ]
     },
     "execution_count": 16,
     "metadata": {},
     "output_type": "execute_result"
    }
   ],
   "source": [
    "df.head(6)"
   ]
  },
  {
   "cell_type": "code",
   "execution_count": 17,
   "metadata": {
    "collapsed": true
   },
   "outputs": [],
   "source": [
    "df.reset_index(inplace=True)"
   ]
  },
  {
   "cell_type": "code",
   "execution_count": 18,
   "metadata": {
    "collapsed": false
   },
   "outputs": [
    {
     "data": {
      "text/plain": [
       "Index([u'DateTime', u'Acorn_grouped', u'stdorToU', u'LCLid', u'total_energy'], dtype='object')"
      ]
     },
     "execution_count": 18,
     "metadata": {},
     "output_type": "execute_result"
    }
   ],
   "source": [
    "df.columns"
   ]
  },
  {
   "cell_type": "code",
   "execution_count": 19,
   "metadata": {
    "collapsed": true
   },
   "outputs": [],
   "source": [
    "df['concat'] = df.Acorn_grouped + df.stdorToU"
   ]
  },
  {
   "cell_type": "code",
   "execution_count": 20,
   "metadata": {
    "collapsed": false
   },
   "outputs": [
    {
     "data": {
      "text/html": [
       "<div>\n",
       "<table border=\"1\" class=\"dataframe\">\n",
       "  <thead>\n",
       "    <tr style=\"text-align: right;\">\n",
       "      <th></th>\n",
       "      <th></th>\n",
       "      <th>LCLid</th>\n",
       "      <th>total_energy</th>\n",
       "    </tr>\n",
       "    <tr>\n",
       "      <th>DateTime</th>\n",
       "      <th>concat</th>\n",
       "      <th></th>\n",
       "      <th></th>\n",
       "    </tr>\n",
       "  </thead>\n",
       "  <tbody>\n",
       "    <tr>\n",
       "      <th rowspan=\"6\" valign=\"top\">2012-01-01 00:00:00</th>\n",
       "      <th>AdversityStd</th>\n",
       "      <td>110</td>\n",
       "      <td>23.560</td>\n",
       "    </tr>\n",
       "    <tr>\n",
       "      <th>AdversityToU</th>\n",
       "      <td>15</td>\n",
       "      <td>4.089</td>\n",
       "    </tr>\n",
       "    <tr>\n",
       "      <th>AffluentStd</th>\n",
       "      <td>143</td>\n",
       "      <td>39.146</td>\n",
       "    </tr>\n",
       "    <tr>\n",
       "      <th>AffluentToU</th>\n",
       "      <td>24</td>\n",
       "      <td>5.622</td>\n",
       "    </tr>\n",
       "    <tr>\n",
       "      <th>ComfortableStd</th>\n",
       "      <td>97</td>\n",
       "      <td>17.848</td>\n",
       "    </tr>\n",
       "    <tr>\n",
       "      <th>ComfortableToU</th>\n",
       "      <td>17</td>\n",
       "      <td>3.825</td>\n",
       "    </tr>\n",
       "    <tr>\n",
       "      <th rowspan=\"6\" valign=\"top\">2012-01-01 00:30:00</th>\n",
       "      <th>AdversityStd</th>\n",
       "      <td>110</td>\n",
       "      <td>33.990</td>\n",
       "    </tr>\n",
       "    <tr>\n",
       "      <th>AdversityToU</th>\n",
       "      <td>15</td>\n",
       "      <td>4.909</td>\n",
       "    </tr>\n",
       "    <tr>\n",
       "      <th>AffluentStd</th>\n",
       "      <td>143</td>\n",
       "      <td>48.884</td>\n",
       "    </tr>\n",
       "    <tr>\n",
       "      <th>AffluentToU</th>\n",
       "      <td>24</td>\n",
       "      <td>5.123</td>\n",
       "    </tr>\n",
       "    <tr>\n",
       "      <th>ComfortableStd</th>\n",
       "      <td>97</td>\n",
       "      <td>18.174</td>\n",
       "    </tr>\n",
       "    <tr>\n",
       "      <th>ComfortableToU</th>\n",
       "      <td>17</td>\n",
       "      <td>3.230</td>\n",
       "    </tr>\n",
       "  </tbody>\n",
       "</table>\n",
       "</div>"
      ],
      "text/plain": [
       "                                    LCLid  total_energy\n",
       "DateTime            concat                             \n",
       "2012-01-01 00:00:00 AdversityStd      110        23.560\n",
       "                    AdversityToU       15         4.089\n",
       "                    AffluentStd       143        39.146\n",
       "                    AffluentToU        24         5.622\n",
       "                    ComfortableStd     97        17.848\n",
       "                    ComfortableToU     17         3.825\n",
       "2012-01-01 00:30:00 AdversityStd      110        33.990\n",
       "                    AdversityToU       15         4.909\n",
       "                    AffluentStd       143        48.884\n",
       "                    AffluentToU        24         5.123\n",
       "                    ComfortableStd     97        18.174\n",
       "                    ComfortableToU     17         3.230"
      ]
     },
     "execution_count": 20,
     "metadata": {},
     "output_type": "execute_result"
    }
   ],
   "source": [
    "df.groupby(['DateTime', 'concat']).sum().head(12)"
   ]
  },
  {
   "cell_type": "code",
   "execution_count": 21,
   "metadata": {
    "collapsed": false
   },
   "outputs": [],
   "source": [
    "df.DateTime = pd.to_datetime(df.DateTime)"
   ]
  },
  {
   "cell_type": "code",
   "execution_count": null,
   "metadata": {
    "collapsed": true
   },
   "outputs": [],
   "source": []
  },
  {
   "cell_type": "code",
   "execution_count": 22,
   "metadata": {
    "collapsed": false
   },
   "outputs": [
    {
     "ename": "NameError",
     "evalue": "name 'df_half_hourly' is not defined",
     "output_type": "error",
     "traceback": [
      "\u001b[0;31m\u001b[0m",
      "\u001b[0;31mNameError\u001b[0mTraceback (most recent call last)",
      "\u001b[0;32m<ipython-input-22-c3a62a0a6ec5>\u001b[0m in \u001b[0;36m<module>\u001b[0;34m()\u001b[0m\n\u001b[0;32m----> 1\u001b[0;31m \u001b[0mdf_half_hourly\u001b[0m\u001b[0;34m.\u001b[0m\u001b[0mdrop\u001b[0m\u001b[0;34m(\u001b[0m\u001b[0;34m[\u001b[0m\u001b[0;34m'Acorn_grouped'\u001b[0m\u001b[0;34m,\u001b[0m \u001b[0;34m'stdorToU'\u001b[0m\u001b[0;34m]\u001b[0m\u001b[0;34m,\u001b[0m \u001b[0maxis\u001b[0m\u001b[0;34m=\u001b[0m\u001b[0;36m1\u001b[0m\u001b[0;34m,\u001b[0m \u001b[0minplace\u001b[0m\u001b[0;34m=\u001b[0m\u001b[0mTrue\u001b[0m\u001b[0;34m)\u001b[0m\u001b[0;34m\u001b[0m\u001b[0m\n\u001b[0m\u001b[1;32m      2\u001b[0m \u001b[0mdf_hourly\u001b[0m\u001b[0;34m.\u001b[0m\u001b[0mdrop\u001b[0m\u001b[0;34m(\u001b[0m\u001b[0;34m[\u001b[0m\u001b[0;34m'Acorn_grouped'\u001b[0m\u001b[0;34m,\u001b[0m \u001b[0;34m'stdorToU'\u001b[0m\u001b[0;34m]\u001b[0m\u001b[0;34m,\u001b[0m \u001b[0maxis\u001b[0m\u001b[0;34m=\u001b[0m\u001b[0;36m1\u001b[0m\u001b[0;34m,\u001b[0m \u001b[0minplace\u001b[0m\u001b[0;34m=\u001b[0m\u001b[0mTrue\u001b[0m\u001b[0;34m)\u001b[0m\u001b[0;34m\u001b[0m\u001b[0m\n",
      "\u001b[0;31mNameError\u001b[0m: name 'df_half_hourly' is not defined"
     ]
    }
   ],
   "source": [
    "df_half_hourly.drop(['Acorn_grouped', 'stdorToU'], axis=1, inplace=True)\n",
    "df_hourly.drop(['Acorn_grouped', 'stdorToU'], axis=1, inplace=True)"
   ]
  },
  {
   "cell_type": "code",
   "execution_count": null,
   "metadata": {
    "collapsed": true
   },
   "outputs": [],
   "source": []
  },
  {
   "cell_type": "code",
   "execution_count": null,
   "metadata": {
    "collapsed": true
   },
   "outputs": [],
   "source": []
  },
  {
   "cell_type": "code",
   "execution_count": null,
   "metadata": {
    "collapsed": true
   },
   "outputs": [],
   "source": []
  },
  {
   "cell_type": "code",
   "execution_count": 45,
   "metadata": {
    "collapsed": false
   },
   "outputs": [],
   "source": [
    "df_hourly = df[df.DateTime.dt.minute == 0]\n",
    "df_half_hourly = df[df.DateTime.dt.minute == 30]"
   ]
  },
  {
   "cell_type": "code",
   "execution_count": 46,
   "metadata": {
    "collapsed": false
   },
   "outputs": [
    {
     "data": {
      "text/plain": [
       "Timestamp('2012-01-01 01:00:00')"
      ]
     },
     "execution_count": 46,
     "metadata": {},
     "output_type": "execute_result"
    }
   ],
   "source": [
    "df_half_hourly.DateTime[6] + pd.tseries.timedeltas.to_timedelta(30, unit='m')"
   ]
  },
  {
   "cell_type": "code",
   "execution_count": 47,
   "metadata": {
    "collapsed": false
   },
   "outputs": [],
   "source": [
    "df_half_hourly.DateTime = df_half_hourly.DateTime + pd.tseries.timedeltas.to_timedelta(30, unit='m')"
   ]
  },
  {
   "cell_type": "code",
   "execution_count": 48,
   "metadata": {
    "collapsed": false
   },
   "outputs": [
    {
     "data": {
      "text/html": [
       "<div>\n",
       "<table border=\"1\" class=\"dataframe\">\n",
       "  <thead>\n",
       "    <tr style=\"text-align: right;\">\n",
       "      <th></th>\n",
       "      <th>DateTime</th>\n",
       "      <th>Acorn_grouped</th>\n",
       "      <th>stdorToU</th>\n",
       "      <th>LCLid</th>\n",
       "      <th>total_energy</th>\n",
       "      <th>concat</th>\n",
       "    </tr>\n",
       "  </thead>\n",
       "  <tbody>\n",
       "    <tr>\n",
       "      <th>0</th>\n",
       "      <td>2012-01-01 00:00:00</td>\n",
       "      <td>Adversity</td>\n",
       "      <td>Std</td>\n",
       "      <td>110</td>\n",
       "      <td>23.560</td>\n",
       "      <td>AdversityStd</td>\n",
       "    </tr>\n",
       "    <tr>\n",
       "      <th>1</th>\n",
       "      <td>2012-01-01 00:00:00</td>\n",
       "      <td>Adversity</td>\n",
       "      <td>ToU</td>\n",
       "      <td>15</td>\n",
       "      <td>4.089</td>\n",
       "      <td>AdversityToU</td>\n",
       "    </tr>\n",
       "    <tr>\n",
       "      <th>2</th>\n",
       "      <td>2012-01-01 00:00:00</td>\n",
       "      <td>Affluent</td>\n",
       "      <td>Std</td>\n",
       "      <td>143</td>\n",
       "      <td>39.146</td>\n",
       "      <td>AffluentStd</td>\n",
       "    </tr>\n",
       "    <tr>\n",
       "      <th>3</th>\n",
       "      <td>2012-01-01 00:00:00</td>\n",
       "      <td>Affluent</td>\n",
       "      <td>ToU</td>\n",
       "      <td>24</td>\n",
       "      <td>5.622</td>\n",
       "      <td>AffluentToU</td>\n",
       "    </tr>\n",
       "    <tr>\n",
       "      <th>4</th>\n",
       "      <td>2012-01-01 00:00:00</td>\n",
       "      <td>Comfortable</td>\n",
       "      <td>Std</td>\n",
       "      <td>97</td>\n",
       "      <td>17.848</td>\n",
       "      <td>ComfortableStd</td>\n",
       "    </tr>\n",
       "    <tr>\n",
       "      <th>5</th>\n",
       "      <td>2012-01-01 00:00:00</td>\n",
       "      <td>Comfortable</td>\n",
       "      <td>ToU</td>\n",
       "      <td>17</td>\n",
       "      <td>3.825</td>\n",
       "      <td>ComfortableToU</td>\n",
       "    </tr>\n",
       "    <tr>\n",
       "      <th>12</th>\n",
       "      <td>2012-01-01 01:00:00</td>\n",
       "      <td>Adversity</td>\n",
       "      <td>Std</td>\n",
       "      <td>110</td>\n",
       "      <td>33.483</td>\n",
       "      <td>AdversityStd</td>\n",
       "    </tr>\n",
       "    <tr>\n",
       "      <th>13</th>\n",
       "      <td>2012-01-01 01:00:00</td>\n",
       "      <td>Adversity</td>\n",
       "      <td>ToU</td>\n",
       "      <td>15</td>\n",
       "      <td>4.675</td>\n",
       "      <td>AdversityToU</td>\n",
       "    </tr>\n",
       "  </tbody>\n",
       "</table>\n",
       "</div>"
      ],
      "text/plain": [
       "              DateTime Acorn_grouped stdorToU  LCLid  total_energy  \\\n",
       "0  2012-01-01 00:00:00     Adversity      Std    110        23.560   \n",
       "1  2012-01-01 00:00:00     Adversity      ToU     15         4.089   \n",
       "2  2012-01-01 00:00:00      Affluent      Std    143        39.146   \n",
       "3  2012-01-01 00:00:00      Affluent      ToU     24         5.622   \n",
       "4  2012-01-01 00:00:00   Comfortable      Std     97        17.848   \n",
       "5  2012-01-01 00:00:00   Comfortable      ToU     17         3.825   \n",
       "12 2012-01-01 01:00:00     Adversity      Std    110        33.483   \n",
       "13 2012-01-01 01:00:00     Adversity      ToU     15         4.675   \n",
       "\n",
       "            concat  \n",
       "0     AdversityStd  \n",
       "1     AdversityToU  \n",
       "2      AffluentStd  \n",
       "3      AffluentToU  \n",
       "4   ComfortableStd  \n",
       "5   ComfortableToU  \n",
       "12    AdversityStd  \n",
       "13    AdversityToU  "
      ]
     },
     "execution_count": 48,
     "metadata": {},
     "output_type": "execute_result"
    }
   ],
   "source": [
    "df_hourly.head(8)"
   ]
  },
  {
   "cell_type": "code",
   "execution_count": 49,
   "metadata": {
    "collapsed": false
   },
   "outputs": [],
   "source": [
    "energy = np.array(df_half_hourly.iloc[:-6, 4]) + np.array(df_hourly.iloc[6:, 4])"
   ]
  },
  {
   "cell_type": "code",
   "execution_count": 51,
   "metadata": {
    "collapsed": false
   },
   "outputs": [
    {
     "ename": "ValueError",
     "evalue": "labels [0 1 2 3 4 5] not contained in axis",
     "output_type": "error",
     "traceback": [
      "\u001b[0;31m\u001b[0m",
      "\u001b[0;31mValueError\u001b[0mTraceback (most recent call last)",
      "\u001b[0;32m<ipython-input-51-6fcdb0493d0b>\u001b[0m in \u001b[0;36m<module>\u001b[0;34m()\u001b[0m\n\u001b[0;32m----> 1\u001b[0;31m \u001b[0mdf_hourly\u001b[0m\u001b[0;34m.\u001b[0m\u001b[0mdrop\u001b[0m\u001b[0;34m(\u001b[0m\u001b[0;34m[\u001b[0m\u001b[0;36m0\u001b[0m\u001b[0;34m,\u001b[0m \u001b[0;36m1\u001b[0m\u001b[0;34m,\u001b[0m \u001b[0;36m2\u001b[0m\u001b[0;34m,\u001b[0m \u001b[0;36m3\u001b[0m\u001b[0;34m,\u001b[0m \u001b[0;36m4\u001b[0m\u001b[0;34m,\u001b[0m \u001b[0;36m5\u001b[0m\u001b[0;34m]\u001b[0m\u001b[0;34m,\u001b[0m \u001b[0minplace\u001b[0m\u001b[0;34m=\u001b[0m\u001b[0mTrue\u001b[0m\u001b[0;34m)\u001b[0m\u001b[0;34m\u001b[0m\u001b[0m\n\u001b[0m",
      "\u001b[0;32m/opt/rh/anaconda/root/envs/PUI2016_Python2/lib/python2.7/site-packages/pandas/core/generic.pyc\u001b[0m in \u001b[0;36mdrop\u001b[0;34m(self, labels, axis, level, inplace, errors)\u001b[0m\n\u001b[1;32m   1875\u001b[0m                 \u001b[0mnew_axis\u001b[0m \u001b[0;34m=\u001b[0m \u001b[0maxis\u001b[0m\u001b[0;34m.\u001b[0m\u001b[0mdrop\u001b[0m\u001b[0;34m(\u001b[0m\u001b[0mlabels\u001b[0m\u001b[0;34m,\u001b[0m \u001b[0mlevel\u001b[0m\u001b[0;34m=\u001b[0m\u001b[0mlevel\u001b[0m\u001b[0;34m,\u001b[0m \u001b[0merrors\u001b[0m\u001b[0;34m=\u001b[0m\u001b[0merrors\u001b[0m\u001b[0;34m)\u001b[0m\u001b[0;34m\u001b[0m\u001b[0m\n\u001b[1;32m   1876\u001b[0m             \u001b[0;32melse\u001b[0m\u001b[0;34m:\u001b[0m\u001b[0;34m\u001b[0m\u001b[0m\n\u001b[0;32m-> 1877\u001b[0;31m                 \u001b[0mnew_axis\u001b[0m \u001b[0;34m=\u001b[0m \u001b[0maxis\u001b[0m\u001b[0;34m.\u001b[0m\u001b[0mdrop\u001b[0m\u001b[0;34m(\u001b[0m\u001b[0mlabels\u001b[0m\u001b[0;34m,\u001b[0m \u001b[0merrors\u001b[0m\u001b[0;34m=\u001b[0m\u001b[0merrors\u001b[0m\u001b[0;34m)\u001b[0m\u001b[0;34m\u001b[0m\u001b[0m\n\u001b[0m\u001b[1;32m   1878\u001b[0m             \u001b[0mdropped\u001b[0m \u001b[0;34m=\u001b[0m \u001b[0mself\u001b[0m\u001b[0;34m.\u001b[0m\u001b[0mreindex\u001b[0m\u001b[0;34m(\u001b[0m\u001b[0;34m**\u001b[0m\u001b[0;34m{\u001b[0m\u001b[0maxis_name\u001b[0m\u001b[0;34m:\u001b[0m \u001b[0mnew_axis\u001b[0m\u001b[0;34m}\u001b[0m\u001b[0;34m)\u001b[0m\u001b[0;34m\u001b[0m\u001b[0m\n\u001b[1;32m   1879\u001b[0m             \u001b[0;32mtry\u001b[0m\u001b[0;34m:\u001b[0m\u001b[0;34m\u001b[0m\u001b[0m\n",
      "\u001b[0;32m/opt/rh/anaconda/root/envs/PUI2016_Python2/lib/python2.7/site-packages/pandas/indexes/base.pyc\u001b[0m in \u001b[0;36mdrop\u001b[0;34m(self, labels, errors)\u001b[0m\n\u001b[1;32m   3049\u001b[0m             \u001b[0;32mif\u001b[0m \u001b[0merrors\u001b[0m \u001b[0;34m!=\u001b[0m \u001b[0;34m'ignore'\u001b[0m\u001b[0;34m:\u001b[0m\u001b[0;34m\u001b[0m\u001b[0m\n\u001b[1;32m   3050\u001b[0m                 raise ValueError('labels %s not contained in axis' %\n\u001b[0;32m-> 3051\u001b[0;31m                                  labels[mask])\n\u001b[0m\u001b[1;32m   3052\u001b[0m             \u001b[0mindexer\u001b[0m \u001b[0;34m=\u001b[0m \u001b[0mindexer\u001b[0m\u001b[0;34m[\u001b[0m\u001b[0;34m~\u001b[0m\u001b[0mmask\u001b[0m\u001b[0;34m]\u001b[0m\u001b[0;34m\u001b[0m\u001b[0m\n\u001b[1;32m   3053\u001b[0m         \u001b[0;32mreturn\u001b[0m \u001b[0mself\u001b[0m\u001b[0;34m.\u001b[0m\u001b[0mdelete\u001b[0m\u001b[0;34m(\u001b[0m\u001b[0mindexer\u001b[0m\u001b[0;34m)\u001b[0m\u001b[0;34m\u001b[0m\u001b[0m\n",
      "\u001b[0;31mValueError\u001b[0m: labels [0 1 2 3 4 5] not contained in axis"
     ]
    }
   ],
   "source": [
    "df_hourly.drop([0, 1, 2, 3, 4, 5], inplace=True)"
   ]
  },
  {
   "cell_type": "code",
   "execution_count": 52,
   "metadata": {
    "collapsed": false
   },
   "outputs": [
    {
     "data": {
      "text/html": [
       "<div>\n",
       "<table border=\"1\" class=\"dataframe\">\n",
       "  <thead>\n",
       "    <tr style=\"text-align: right;\">\n",
       "      <th></th>\n",
       "      <th>DateTime</th>\n",
       "      <th>Acorn_grouped</th>\n",
       "      <th>stdorToU</th>\n",
       "      <th>LCLid</th>\n",
       "      <th>total_energy</th>\n",
       "      <th>concat</th>\n",
       "    </tr>\n",
       "  </thead>\n",
       "  <tbody>\n",
       "    <tr>\n",
       "      <th>12</th>\n",
       "      <td>2012-01-01 01:00:00</td>\n",
       "      <td>Adversity</td>\n",
       "      <td>Std</td>\n",
       "      <td>110</td>\n",
       "      <td>33.483</td>\n",
       "      <td>AdversityStd</td>\n",
       "    </tr>\n",
       "    <tr>\n",
       "      <th>13</th>\n",
       "      <td>2012-01-01 01:00:00</td>\n",
       "      <td>Adversity</td>\n",
       "      <td>ToU</td>\n",
       "      <td>15</td>\n",
       "      <td>4.675</td>\n",
       "      <td>AdversityToU</td>\n",
       "    </tr>\n",
       "    <tr>\n",
       "      <th>14</th>\n",
       "      <td>2012-01-01 01:00:00</td>\n",
       "      <td>Affluent</td>\n",
       "      <td>Std</td>\n",
       "      <td>143</td>\n",
       "      <td>46.074</td>\n",
       "      <td>AffluentStd</td>\n",
       "    </tr>\n",
       "    <tr>\n",
       "      <th>15</th>\n",
       "      <td>2012-01-01 01:00:00</td>\n",
       "      <td>Affluent</td>\n",
       "      <td>ToU</td>\n",
       "      <td>24</td>\n",
       "      <td>5.682</td>\n",
       "      <td>AffluentToU</td>\n",
       "    </tr>\n",
       "    <tr>\n",
       "      <th>16</th>\n",
       "      <td>2012-01-01 01:00:00</td>\n",
       "      <td>Comfortable</td>\n",
       "      <td>Std</td>\n",
       "      <td>97</td>\n",
       "      <td>16.335</td>\n",
       "      <td>ComfortableStd</td>\n",
       "    </tr>\n",
       "    <tr>\n",
       "      <th>17</th>\n",
       "      <td>2012-01-01 01:00:00</td>\n",
       "      <td>Comfortable</td>\n",
       "      <td>ToU</td>\n",
       "      <td>17</td>\n",
       "      <td>2.782</td>\n",
       "      <td>ComfortableToU</td>\n",
       "    </tr>\n",
       "    <tr>\n",
       "      <th>24</th>\n",
       "      <td>2012-01-01 02:00:00</td>\n",
       "      <td>Adversity</td>\n",
       "      <td>Std</td>\n",
       "      <td>110</td>\n",
       "      <td>26.101</td>\n",
       "      <td>AdversityStd</td>\n",
       "    </tr>\n",
       "    <tr>\n",
       "      <th>25</th>\n",
       "      <td>2012-01-01 02:00:00</td>\n",
       "      <td>Adversity</td>\n",
       "      <td>ToU</td>\n",
       "      <td>15</td>\n",
       "      <td>3.668</td>\n",
       "      <td>AdversityToU</td>\n",
       "    </tr>\n",
       "    <tr>\n",
       "      <th>26</th>\n",
       "      <td>2012-01-01 02:00:00</td>\n",
       "      <td>Affluent</td>\n",
       "      <td>Std</td>\n",
       "      <td>143</td>\n",
       "      <td>41.999</td>\n",
       "      <td>AffluentStd</td>\n",
       "    </tr>\n",
       "    <tr>\n",
       "      <th>27</th>\n",
       "      <td>2012-01-01 02:00:00</td>\n",
       "      <td>Affluent</td>\n",
       "      <td>ToU</td>\n",
       "      <td>24</td>\n",
       "      <td>4.649</td>\n",
       "      <td>AffluentToU</td>\n",
       "    </tr>\n",
       "    <tr>\n",
       "      <th>28</th>\n",
       "      <td>2012-01-01 02:00:00</td>\n",
       "      <td>Comfortable</td>\n",
       "      <td>Std</td>\n",
       "      <td>97</td>\n",
       "      <td>13.745</td>\n",
       "      <td>ComfortableStd</td>\n",
       "    </tr>\n",
       "    <tr>\n",
       "      <th>29</th>\n",
       "      <td>2012-01-01 02:00:00</td>\n",
       "      <td>Comfortable</td>\n",
       "      <td>ToU</td>\n",
       "      <td>17</td>\n",
       "      <td>2.504</td>\n",
       "      <td>ComfortableToU</td>\n",
       "    </tr>\n",
       "  </tbody>\n",
       "</table>\n",
       "</div>"
      ],
      "text/plain": [
       "              DateTime Acorn_grouped stdorToU  LCLid  total_energy  \\\n",
       "12 2012-01-01 01:00:00     Adversity      Std    110        33.483   \n",
       "13 2012-01-01 01:00:00     Adversity      ToU     15         4.675   \n",
       "14 2012-01-01 01:00:00      Affluent      Std    143        46.074   \n",
       "15 2012-01-01 01:00:00      Affluent      ToU     24         5.682   \n",
       "16 2012-01-01 01:00:00   Comfortable      Std     97        16.335   \n",
       "17 2012-01-01 01:00:00   Comfortable      ToU     17         2.782   \n",
       "24 2012-01-01 02:00:00     Adversity      Std    110        26.101   \n",
       "25 2012-01-01 02:00:00     Adversity      ToU     15         3.668   \n",
       "26 2012-01-01 02:00:00      Affluent      Std    143        41.999   \n",
       "27 2012-01-01 02:00:00      Affluent      ToU     24         4.649   \n",
       "28 2012-01-01 02:00:00   Comfortable      Std     97        13.745   \n",
       "29 2012-01-01 02:00:00   Comfortable      ToU     17         2.504   \n",
       "\n",
       "            concat  \n",
       "12    AdversityStd  \n",
       "13    AdversityToU  \n",
       "14     AffluentStd  \n",
       "15     AffluentToU  \n",
       "16  ComfortableStd  \n",
       "17  ComfortableToU  \n",
       "24    AdversityStd  \n",
       "25    AdversityToU  \n",
       "26     AffluentStd  \n",
       "27     AffluentToU  \n",
       "28  ComfortableStd  \n",
       "29  ComfortableToU  "
      ]
     },
     "execution_count": 52,
     "metadata": {},
     "output_type": "execute_result"
    }
   ],
   "source": [
    "df_hourly.head(12)"
   ]
  },
  {
   "cell_type": "code",
   "execution_count": 53,
   "metadata": {
    "collapsed": false
   },
   "outputs": [
    {
     "name": "stderr",
     "output_type": "stream",
     "text": [
      "/opt/rh/anaconda/root/envs/PUI2016_Python2/lib/python2.7/site-packages/ipykernel/__main__.py:1: SettingWithCopyWarning: \n",
      "A value is trying to be set on a copy of a slice from a DataFrame.\n",
      "Try using .loc[row_indexer,col_indexer] = value instead\n",
      "\n",
      "See the caveats in the documentation: http://pandas.pydata.org/pandas-docs/stable/indexing.html#indexing-view-versus-copy\n",
      "  if __name__ == '__main__':\n"
     ]
    }
   ],
   "source": [
    "df_hourly['total_energy'] = energy"
   ]
  },
  {
   "cell_type": "code",
   "execution_count": 54,
   "metadata": {
    "collapsed": false
   },
   "outputs": [
    {
     "name": "stderr",
     "output_type": "stream",
     "text": [
      "/opt/rh/anaconda/root/envs/PUI2016_Python2/lib/python2.7/site-packages/ipykernel/__main__.py:1: SettingWithCopyWarning: \n",
      "A value is trying to be set on a copy of a slice from a DataFrame.\n",
      "Try using .loc[row_indexer,col_indexer] = value instead\n",
      "\n",
      "See the caveats in the documentation: http://pandas.pydata.org/pandas-docs/stable/indexing.html#indexing-view-versus-copy\n",
      "  if __name__ == '__main__':\n"
     ]
    }
   ],
   "source": [
    "df_hourly['energy'] = df_hourly['total_energy']/df_hourly['LCLid']"
   ]
  },
  {
   "cell_type": "code",
   "execution_count": 55,
   "metadata": {
    "collapsed": false
   },
   "outputs": [
    {
     "name": "stderr",
     "output_type": "stream",
     "text": [
      "/opt/rh/anaconda/root/envs/PUI2016_Python2/lib/python2.7/site-packages/ipykernel/__main__.py:1: SettingWithCopyWarning: \n",
      "A value is trying to be set on a copy of a slice from a DataFrame\n",
      "\n",
      "See the caveats in the documentation: http://pandas.pydata.org/pandas-docs/stable/indexing.html#indexing-view-versus-copy\n",
      "  if __name__ == '__main__':\n"
     ]
    }
   ],
   "source": [
    "df_hourly.drop(['total_energy', 'LCLid'],axis=1, inplace=True)"
   ]
  },
  {
   "cell_type": "code",
   "execution_count": 57,
   "metadata": {
    "collapsed": false
   },
   "outputs": [
    {
     "name": "stderr",
     "output_type": "stream",
     "text": [
      "/opt/rh/anaconda/root/envs/PUI2016_Python2/lib/python2.7/site-packages/ipykernel/__main__.py:1: SettingWithCopyWarning: \n",
      "A value is trying to be set on a copy of a slice from a DataFrame\n",
      "\n",
      "See the caveats in the documentation: http://pandas.pydata.org/pandas-docs/stable/indexing.html#indexing-view-versus-copy\n",
      "  if __name__ == '__main__':\n"
     ]
    }
   ],
   "source": [
    "df_hourly.drop(['concat'], axis=1, inplace=True)"
   ]
  },
  {
   "cell_type": "code",
   "execution_count": 41,
   "metadata": {
    "collapsed": false
   },
   "outputs": [],
   "source": [
    "df_hourly = df_hourly.groupby(['DateTime', 'concat']).sum()"
   ]
  },
  {
   "cell_type": "code",
   "execution_count": 58,
   "metadata": {
    "collapsed": false
   },
   "outputs": [
    {
     "data": {
      "text/html": [
       "<div>\n",
       "<table border=\"1\" class=\"dataframe\">\n",
       "  <thead>\n",
       "    <tr style=\"text-align: right;\">\n",
       "      <th></th>\n",
       "      <th>DateTime</th>\n",
       "      <th>Acorn_grouped</th>\n",
       "      <th>stdorToU</th>\n",
       "      <th>energy</th>\n",
       "    </tr>\n",
       "  </thead>\n",
       "  <tbody>\n",
       "    <tr>\n",
       "      <th>12</th>\n",
       "      <td>2012-01-01 01:00:00</td>\n",
       "      <td>Adversity</td>\n",
       "      <td>Std</td>\n",
       "      <td>0.613391</td>\n",
       "    </tr>\n",
       "    <tr>\n",
       "      <th>13</th>\n",
       "      <td>2012-01-01 01:00:00</td>\n",
       "      <td>Adversity</td>\n",
       "      <td>ToU</td>\n",
       "      <td>0.638933</td>\n",
       "    </tr>\n",
       "    <tr>\n",
       "      <th>14</th>\n",
       "      <td>2012-01-01 01:00:00</td>\n",
       "      <td>Affluent</td>\n",
       "      <td>Std</td>\n",
       "      <td>0.664042</td>\n",
       "    </tr>\n",
       "    <tr>\n",
       "      <th>15</th>\n",
       "      <td>2012-01-01 01:00:00</td>\n",
       "      <td>Affluent</td>\n",
       "      <td>ToU</td>\n",
       "      <td>0.450208</td>\n",
       "    </tr>\n",
       "    <tr>\n",
       "      <th>16</th>\n",
       "      <td>2012-01-01 01:00:00</td>\n",
       "      <td>Comfortable</td>\n",
       "      <td>Std</td>\n",
       "      <td>0.355763</td>\n",
       "    </tr>\n",
       "    <tr>\n",
       "      <th>17</th>\n",
       "      <td>2012-01-01 01:00:00</td>\n",
       "      <td>Comfortable</td>\n",
       "      <td>ToU</td>\n",
       "      <td>0.353647</td>\n",
       "    </tr>\n",
       "    <tr>\n",
       "      <th>24</th>\n",
       "      <td>2012-01-01 02:00:00</td>\n",
       "      <td>Adversity</td>\n",
       "      <td>Std</td>\n",
       "      <td>0.486664</td>\n",
       "    </tr>\n",
       "    <tr>\n",
       "      <th>25</th>\n",
       "      <td>2012-01-01 02:00:00</td>\n",
       "      <td>Adversity</td>\n",
       "      <td>ToU</td>\n",
       "      <td>0.464267</td>\n",
       "    </tr>\n",
       "    <tr>\n",
       "      <th>26</th>\n",
       "      <td>2012-01-01 02:00:00</td>\n",
       "      <td>Affluent</td>\n",
       "      <td>Std</td>\n",
       "      <td>0.598343</td>\n",
       "    </tr>\n",
       "    <tr>\n",
       "      <th>27</th>\n",
       "      <td>2012-01-01 02:00:00</td>\n",
       "      <td>Affluent</td>\n",
       "      <td>ToU</td>\n",
       "      <td>0.401375</td>\n",
       "    </tr>\n",
       "    <tr>\n",
       "      <th>28</th>\n",
       "      <td>2012-01-01 02:00:00</td>\n",
       "      <td>Comfortable</td>\n",
       "      <td>Std</td>\n",
       "      <td>0.295082</td>\n",
       "    </tr>\n",
       "    <tr>\n",
       "      <th>29</th>\n",
       "      <td>2012-01-01 02:00:00</td>\n",
       "      <td>Comfortable</td>\n",
       "      <td>ToU</td>\n",
       "      <td>0.305294</td>\n",
       "    </tr>\n",
       "    <tr>\n",
       "      <th>36</th>\n",
       "      <td>2012-01-01 03:00:00</td>\n",
       "      <td>Adversity</td>\n",
       "      <td>Std</td>\n",
       "      <td>0.352509</td>\n",
       "    </tr>\n",
       "    <tr>\n",
       "      <th>37</th>\n",
       "      <td>2012-01-01 03:00:00</td>\n",
       "      <td>Adversity</td>\n",
       "      <td>ToU</td>\n",
       "      <td>0.545067</td>\n",
       "    </tr>\n",
       "    <tr>\n",
       "      <th>38</th>\n",
       "      <td>2012-01-01 03:00:00</td>\n",
       "      <td>Affluent</td>\n",
       "      <td>Std</td>\n",
       "      <td>0.516853</td>\n",
       "    </tr>\n",
       "    <tr>\n",
       "      <th>39</th>\n",
       "      <td>2012-01-01 03:00:00</td>\n",
       "      <td>Affluent</td>\n",
       "      <td>ToU</td>\n",
       "      <td>0.323167</td>\n",
       "    </tr>\n",
       "    <tr>\n",
       "      <th>40</th>\n",
       "      <td>2012-01-01 03:00:00</td>\n",
       "      <td>Comfortable</td>\n",
       "      <td>Std</td>\n",
       "      <td>0.225072</td>\n",
       "    </tr>\n",
       "    <tr>\n",
       "      <th>41</th>\n",
       "      <td>2012-01-01 03:00:00</td>\n",
       "      <td>Comfortable</td>\n",
       "      <td>ToU</td>\n",
       "      <td>0.299882</td>\n",
       "    </tr>\n",
       "    <tr>\n",
       "      <th>48</th>\n",
       "      <td>2012-01-01 04:00:00</td>\n",
       "      <td>Adversity</td>\n",
       "      <td>Std</td>\n",
       "      <td>0.313336</td>\n",
       "    </tr>\n",
       "    <tr>\n",
       "      <th>49</th>\n",
       "      <td>2012-01-01 04:00:00</td>\n",
       "      <td>Adversity</td>\n",
       "      <td>ToU</td>\n",
       "      <td>0.410000</td>\n",
       "    </tr>\n",
       "    <tr>\n",
       "      <th>50</th>\n",
       "      <td>2012-01-01 04:00:00</td>\n",
       "      <td>Affluent</td>\n",
       "      <td>Std</td>\n",
       "      <td>0.382392</td>\n",
       "    </tr>\n",
       "    <tr>\n",
       "      <th>51</th>\n",
       "      <td>2012-01-01 04:00:00</td>\n",
       "      <td>Affluent</td>\n",
       "      <td>ToU</td>\n",
       "      <td>0.343542</td>\n",
       "    </tr>\n",
       "    <tr>\n",
       "      <th>52</th>\n",
       "      <td>2012-01-01 04:00:00</td>\n",
       "      <td>Comfortable</td>\n",
       "      <td>Std</td>\n",
       "      <td>0.194742</td>\n",
       "    </tr>\n",
       "    <tr>\n",
       "      <th>53</th>\n",
       "      <td>2012-01-01 04:00:00</td>\n",
       "      <td>Comfortable</td>\n",
       "      <td>ToU</td>\n",
       "      <td>0.270588</td>\n",
       "    </tr>\n",
       "  </tbody>\n",
       "</table>\n",
       "</div>"
      ],
      "text/plain": [
       "              DateTime Acorn_grouped stdorToU    energy\n",
       "12 2012-01-01 01:00:00     Adversity      Std  0.613391\n",
       "13 2012-01-01 01:00:00     Adversity      ToU  0.638933\n",
       "14 2012-01-01 01:00:00      Affluent      Std  0.664042\n",
       "15 2012-01-01 01:00:00      Affluent      ToU  0.450208\n",
       "16 2012-01-01 01:00:00   Comfortable      Std  0.355763\n",
       "17 2012-01-01 01:00:00   Comfortable      ToU  0.353647\n",
       "24 2012-01-01 02:00:00     Adversity      Std  0.486664\n",
       "25 2012-01-01 02:00:00     Adversity      ToU  0.464267\n",
       "26 2012-01-01 02:00:00      Affluent      Std  0.598343\n",
       "27 2012-01-01 02:00:00      Affluent      ToU  0.401375\n",
       "28 2012-01-01 02:00:00   Comfortable      Std  0.295082\n",
       "29 2012-01-01 02:00:00   Comfortable      ToU  0.305294\n",
       "36 2012-01-01 03:00:00     Adversity      Std  0.352509\n",
       "37 2012-01-01 03:00:00     Adversity      ToU  0.545067\n",
       "38 2012-01-01 03:00:00      Affluent      Std  0.516853\n",
       "39 2012-01-01 03:00:00      Affluent      ToU  0.323167\n",
       "40 2012-01-01 03:00:00   Comfortable      Std  0.225072\n",
       "41 2012-01-01 03:00:00   Comfortable      ToU  0.299882\n",
       "48 2012-01-01 04:00:00     Adversity      Std  0.313336\n",
       "49 2012-01-01 04:00:00     Adversity      ToU  0.410000\n",
       "50 2012-01-01 04:00:00      Affluent      Std  0.382392\n",
       "51 2012-01-01 04:00:00      Affluent      ToU  0.343542\n",
       "52 2012-01-01 04:00:00   Comfortable      Std  0.194742\n",
       "53 2012-01-01 04:00:00   Comfortable      ToU  0.270588"
      ]
     },
     "execution_count": 58,
     "metadata": {},
     "output_type": "execute_result"
    }
   ],
   "source": [
    "df_hourly.head(24)"
   ]
  },
  {
   "cell_type": "code",
   "execution_count": 59,
   "metadata": {
    "collapsed": false
   },
   "outputs": [],
   "source": [
    "# make sure to give the output file the right name\n",
    "output = '../Final_Data/stdToU.csv'\n",
    "\n",
    "df_hourly.to_csv(output)"
   ]
  },
  {
   "cell_type": "code",
   "execution_count": null,
   "metadata": {
    "collapsed": true
   },
   "outputs": [],
   "source": []
  }
 ],
 "metadata": {
  "kernelspec": {
   "display_name": "PUI2016_Python2",
   "language": "python",
   "name": "pui2016_python2"
  },
  "language_info": {
   "codemirror_mode": {
    "name": "ipython",
    "version": 2
   },
   "file_extension": ".py",
   "mimetype": "text/x-python",
   "name": "python",
   "nbconvert_exporter": "python",
   "pygments_lexer": "ipython2",
   "version": "2.7.12"
  }
 },
 "nbformat": 4,
 "nbformat_minor": 0
}
