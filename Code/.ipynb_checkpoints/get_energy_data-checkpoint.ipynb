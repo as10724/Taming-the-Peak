{
 "cells": [
  {
   "cell_type": "code",
   "execution_count": 1,
   "metadata": {
    "collapsed": true
   },
   "outputs": [],
   "source": [
    "import numpy as np\n",
    "import pandas as pd\n"
   ]
  },
  {
   "cell_type": "markdown",
   "metadata": {},
   "source": [
    "## Tests"
   ]
  },
  {
   "cell_type": "code",
   "execution_count": 2,
   "metadata": {
    "collapsed": false
   },
   "outputs": [],
   "source": [
    "dirname = \"~\\Desktop\\CUSP\\Applied_Data_Science\\Project\\Power-Networks-LCL-June2015(withAcornGps).csv_Pieces\\Power-Networks-LCL-June2015(withAcornGps).csv_Pieces\"\n",
    "filename = 'Power-Networks-LCL-June2015(withAcornGps)v2_168.csv'\n",
    "\n",
    "# dtype = {'LCLid': category,\n",
    "#          'stdorToU' : pd.category,\n",
    "#          'DateTime' : np.datetime64,\n",
    "#          'KWH/hh (per half hour) ': float,\n",
    "#          'Acorn' : category,\n",
    "#          'Acorn_grouped' : category \n",
    "#         }\n",
    "\n",
    "nrg = pd.read_csv(dirname + \"/\" + filename)"
   ]
  },
  {
   "cell_type": "code",
   "execution_count": 48,
   "metadata": {
    "collapsed": false
   },
   "outputs": [
    {
     "data": {
      "text/plain": [
       "Index([u'LCLid', u'stdorToU', u'DateTime', u'KWH/hh (per half hour) ',\n",
       "       u'Acorn', u'Acorn_grouped'],\n",
       "      dtype='object')"
      ]
     },
     "execution_count": 48,
     "metadata": {},
     "output_type": "execute_result"
    }
   ],
   "source": [
    "# nrg.columns"
   ]
  },
  {
   "cell_type": "code",
   "execution_count": 5,
   "metadata": {
    "collapsed": false
   },
   "outputs": [],
   "source": [
    " nrg.DateTime = pd.to_datetime(nrg.DateTime)\n",
    "\n",
    "# nrg.info()"
   ]
  },
  {
   "cell_type": "code",
   "execution_count": 6,
   "metadata": {
    "collapsed": false
   },
   "outputs": [
    {
     "data": {
      "text/plain": [
       "Timestamp('2012-04-16 11:00:00')"
      ]
     },
     "execution_count": 6,
     "metadata": {},
     "output_type": "execute_result"
    }
   ],
   "source": [
    "min(nrg.DateTime)"
   ]
  },
  {
   "cell_type": "code",
   "execution_count": 4,
   "metadata": {
    "collapsed": false
   },
   "outputs": [
    {
     "data": {
      "text/plain": [
       "'2014-02-28 00:00:00.0000000'"
      ]
     },
     "execution_count": 4,
     "metadata": {},
     "output_type": "execute_result"
    }
   ],
   "source": [
    "max(nrg.DateTime)"
   ]
  },
  {
   "cell_type": "code",
   "execution_count": 10,
   "metadata": {
    "collapsed": false
   },
   "outputs": [
    {
     "data": {
      "text/plain": [
       "Timestamp('2013-06-01 00:00:00')"
      ]
     },
     "execution_count": 10,
     "metadata": {},
     "output_type": "execute_result"
    }
   ],
   "source": [
    "maxdate = pd.Timestamp('2013-06-01 00:00:00')\n",
    "mindate = pd.Timestamp('2013-06-01 00:00:00')\n",
    "maxdate"
   ]
  },
  {
   "cell_type": "code",
   "execution_count": 50,
   "metadata": {
    "collapsed": false
   },
   "outputs": [
    {
     "name": "stdout",
     "output_type": "stream",
     "text": [
      "<class 'pandas.core.frame.DataFrame'>\n",
      "Int64Index: 111122 entries, 19884 to 983824\n",
      "Data columns (total 6 columns):\n",
      "LCLid                      111122 non-null object\n",
      "stdorToU                   111122 non-null object\n",
      "DateTime                   111122 non-null datetime64[ns]\n",
      "KWH/hh (per half hour)     111122 non-null object\n",
      "Acorn                      111122 non-null object\n",
      "Acorn_grouped              111122 non-null object\n",
      "dtypes: datetime64[ns](1), object(5)\n",
      "memory usage: 5.9+ MB\n"
     ]
    }
   ],
   "source": [
    "winter1314_init = '2013-12-01 00:00:00'\n",
    "winter1314_end = '2014-03-31 23:59:00'\n",
    "\n",
    "nrg_1314 = nrg[nrg.DateTime > winter1314_init]\n",
    "\n",
    "nrg_1314 = nrg_1314[nrg_1314.DateTime < winter1314_end]\n",
    "\n",
    "nrg_1314.info()"
   ]
  },
  {
   "cell_type": "markdown",
   "metadata": {},
   "source": [
    "## Getting the data"
   ]
  },
  {
   "cell_type": "code",
   "execution_count": 13,
   "metadata": {
    "collapsed": false
   },
   "outputs": [],
   "source": [
    "# getting all the winter1314 data\n",
    "\n",
    "# path and file name\n",
    "dirname = \"~\\Desktop\\CUSP\\Applied_Data_Science\\Project\\Power-Networks-LCL-June2015(withAcornGps).csv_Pieces\\Power-Networks-LCL-June2015(withAcornGps).csv_Pieces\"\n",
    "filename = 'Power-Networks-LCL-June2015(withAcornGps)v2_'\n",
    "\n",
    "# initial and final day for each season\n",
    "day_init = '2011-12-01 00:00:00'\n",
    "day_end = '2012-03-31 23:59:59'\n",
    "\n",
    "# initializing the data frame\n",
    "nrg_year = pd.DataFrame()\n",
    "\n",
    "#initializing min and max date\n",
    "maxdate = pd.Timestamp('2013-06-01 00:00:00')\n",
    "mindate = pd.Timestamp('2013-06-01 00:00:00')\n",
    "\n",
    "for i in range(1, 169):\n",
    "    nrg = pd.read_csv(dirname + \"/\" + filename + str(i) + \".csv\")\n",
    "    nrg.DateTime = pd.to_datetime(nrg.DateTime)\n",
    "    \n",
    "    #if min(nrg.DateTime) < mindate:\n",
    "    #    mindate = min(nrg.DateTime)\n",
    "    #if max(nrg.DateTime) > maxdate:\n",
    "    #    maxdate = max(nrg.DateTime)\n",
    "        \n",
    "    nrg_ = nrg[nrg.DateTime > day_init]\n",
    "    nrg_ = nrg_[nrg_.DateTime < day_end]\n",
    "    \n",
    "    if i == 1:\n",
    "        nrg_year = nrg_\n",
    "    else:\n",
    "        nrg_year = pd.concat([nrg_year, nrg_], axis=0)\n",
    "    "
   ]
  },
  {
   "cell_type": "code",
   "execution_count": 15,
   "metadata": {
    "collapsed": false
   },
   "outputs": [
    {
     "name": "stdout",
     "output_type": "stream",
     "text": [
      "2011-11-23 09:00:00 2014-02-28 00:00:00\n"
     ]
    }
   ],
   "source": [
    "# print mindate, maxdate"
   ]
  },
  {
   "cell_type": "markdown",
   "metadata": {},
   "source": [
    "\\>> print mindate, maxdate\n",
    "\n",
    "\\>> 2011-11-23 09:00:00 2014-02-28 00:00:00\n"
   ]
  },
  {
   "cell_type": "code",
   "execution_count": 14,
   "metadata": {
    "collapsed": false,
    "scrolled": true
   },
   "outputs": [
    {
     "name": "stdout",
     "output_type": "stream",
     "text": [
      "<class 'pandas.core.frame.DataFrame'>\n",
      "Int64Index: 3611654 entries, 24158 to 700811\n",
      "Data columns (total 6 columns):\n",
      "LCLid                      object\n",
      "stdorToU                   object\n",
      "DateTime                   datetime64[ns]\n",
      "KWH/hh (per half hour)     object\n",
      "Acorn                      object\n",
      "Acorn_grouped              object\n",
      "dtypes: datetime64[ns](1), object(5)\n",
      "memory usage: 192.9+ MB\n"
     ]
    }
   ],
   "source": [
    "nrg_year.info()"
   ]
  },
  {
   "cell_type": "code",
   "execution_count": 16,
   "metadata": {
    "collapsed": true
   },
   "outputs": [],
   "source": [
    "nrg_year['KWH/hh (per half hour) '] = pd.to_numeric(nrg_year['KWH/hh (per half hour) '])"
   ]
  },
  {
   "cell_type": "code",
   "execution_count": 17,
   "metadata": {
    "collapsed": false
   },
   "outputs": [
    {
     "data": {
      "text/html": [
       "<div>\n",
       "<table border=\"1\" class=\"dataframe\">\n",
       "  <thead>\n",
       "    <tr style=\"text-align: right;\">\n",
       "      <th></th>\n",
       "      <th></th>\n",
       "      <th></th>\n",
       "      <th></th>\n",
       "      <th>KWH/hh (per half hour)</th>\n",
       "    </tr>\n",
       "    <tr>\n",
       "      <th>DateTime</th>\n",
       "      <th>Acorn</th>\n",
       "      <th>Acorn_grouped</th>\n",
       "      <th>stdorToU</th>\n",
       "      <th></th>\n",
       "    </tr>\n",
       "  </thead>\n",
       "  <tbody>\n",
       "    <tr>\n",
       "      <th rowspan=\"5\" valign=\"top\">2011-12-01 00:30:00</th>\n",
       "      <th rowspan=\"2\" valign=\"top\">ACORN-D</th>\n",
       "      <th rowspan=\"2\" valign=\"top\">Affluent</th>\n",
       "      <th>Std</th>\n",
       "      <td>0.335000</td>\n",
       "    </tr>\n",
       "    <tr>\n",
       "      <th>ToU</th>\n",
       "      <td>0.096500</td>\n",
       "    </tr>\n",
       "    <tr>\n",
       "      <th rowspan=\"2\" valign=\"top\">ACORN-E</th>\n",
       "      <th rowspan=\"2\" valign=\"top\">Affluent</th>\n",
       "      <th>Std</th>\n",
       "      <td>0.289333</td>\n",
       "    </tr>\n",
       "    <tr>\n",
       "      <th>ToU</th>\n",
       "      <td>0.085000</td>\n",
       "    </tr>\n",
       "    <tr>\n",
       "      <th>ACORN-F</th>\n",
       "      <th>Comfortable</th>\n",
       "      <th>Std</th>\n",
       "      <td>0.119739</td>\n",
       "    </tr>\n",
       "  </tbody>\n",
       "</table>\n",
       "</div>"
      ],
      "text/plain": [
       "                                                    KWH/hh (per half hour) \n",
       "DateTime            Acorn   Acorn_grouped stdorToU                         \n",
       "2011-12-01 00:30:00 ACORN-D Affluent      Std                      0.335000\n",
       "                                          ToU                      0.096500\n",
       "                    ACORN-E Affluent      Std                      0.289333\n",
       "                                          ToU                      0.085000\n",
       "                    ACORN-F Comfortable   Std                      0.119739"
      ]
     },
     "execution_count": 17,
     "metadata": {},
     "output_type": "execute_result"
    }
   ],
   "source": [
    "nrg_year.groupby(['DateTime', 'Acorn', 'Acorn_grouped', 'stdorToU']).aggregate(np.mean).head()"
   ]
  },
  {
   "cell_type": "code",
   "execution_count": 18,
   "metadata": {
    "collapsed": false
   },
   "outputs": [],
   "source": [
    "grouped_nrg_1112 = pd.concat([nrg_year.groupby(['DateTime', 'Acorn', 'Acorn_grouped', 'stdorToU']).aggregate(np.mean),\n",
    "        nrg_year.groupby(['DateTime', 'Acorn', 'Acorn_grouped', 'stdorToU']).count().iloc[:,0]], axis = 1)"
   ]
  },
  {
   "cell_type": "code",
   "execution_count": 20,
   "metadata": {
    "collapsed": false
   },
   "outputs": [
    {
     "data": {
      "text/html": [
       "<div>\n",
       "<table border=\"1\" class=\"dataframe\">\n",
       "  <thead>\n",
       "    <tr style=\"text-align: right;\">\n",
       "      <th></th>\n",
       "      <th></th>\n",
       "      <th></th>\n",
       "      <th></th>\n",
       "      <th>KWH/hh (per half hour)</th>\n",
       "      <th>LCLid</th>\n",
       "    </tr>\n",
       "    <tr>\n",
       "      <th>DateTime</th>\n",
       "      <th>Acorn</th>\n",
       "      <th>Acorn_grouped</th>\n",
       "      <th>stdorToU</th>\n",
       "      <th></th>\n",
       "      <th></th>\n",
       "    </tr>\n",
       "  </thead>\n",
       "  <tbody>\n",
       "    <tr>\n",
       "      <th rowspan=\"14\" valign=\"top\">2011-12-01 00:30:00</th>\n",
       "      <th rowspan=\"2\" valign=\"top\">ACORN-D</th>\n",
       "      <th rowspan=\"2\" valign=\"top\">Affluent</th>\n",
       "      <th>Std</th>\n",
       "      <td>0.335000</td>\n",
       "      <td>1</td>\n",
       "    </tr>\n",
       "    <tr>\n",
       "      <th>ToU</th>\n",
       "      <td>0.096500</td>\n",
       "      <td>2</td>\n",
       "    </tr>\n",
       "    <tr>\n",
       "      <th rowspan=\"2\" valign=\"top\">ACORN-E</th>\n",
       "      <th rowspan=\"2\" valign=\"top\">Affluent</th>\n",
       "      <th>Std</th>\n",
       "      <td>0.289333</td>\n",
       "      <td>21</td>\n",
       "    </tr>\n",
       "    <tr>\n",
       "      <th>ToU</th>\n",
       "      <td>0.085000</td>\n",
       "      <td>4</td>\n",
       "    </tr>\n",
       "    <tr>\n",
       "      <th rowspan=\"2\" valign=\"top\">ACORN-F</th>\n",
       "      <th rowspan=\"2\" valign=\"top\">Comfortable</th>\n",
       "      <th>Std</th>\n",
       "      <td>0.119739</td>\n",
       "      <td>23</td>\n",
       "    </tr>\n",
       "    <tr>\n",
       "      <th>ToU</th>\n",
       "      <td>0.194667</td>\n",
       "      <td>3</td>\n",
       "    </tr>\n",
       "    <tr>\n",
       "      <th>ACORN-G</th>\n",
       "      <th>Comfortable</th>\n",
       "      <th>Std</th>\n",
       "      <td>0.098333</td>\n",
       "      <td>3</td>\n",
       "    </tr>\n",
       "    <tr>\n",
       "      <th>ACORN-H</th>\n",
       "      <th>Comfortable</th>\n",
       "      <th>ToU</th>\n",
       "      <td>0.158000</td>\n",
       "      <td>1</td>\n",
       "    </tr>\n",
       "    <tr>\n",
       "      <th rowspan=\"2\" valign=\"top\">ACORN-K</th>\n",
       "      <th rowspan=\"2\" valign=\"top\">Adversity</th>\n",
       "      <th>Std</th>\n",
       "      <td>0.311000</td>\n",
       "      <td>1</td>\n",
       "    </tr>\n",
       "    <tr>\n",
       "      <th>ToU</th>\n",
       "      <td>0.604000</td>\n",
       "      <td>1</td>\n",
       "    </tr>\n",
       "    <tr>\n",
       "      <th rowspan=\"2\" valign=\"top\">ACORN-L</th>\n",
       "      <th rowspan=\"2\" valign=\"top\">Adversity</th>\n",
       "      <th>Std</th>\n",
       "      <td>0.062000</td>\n",
       "      <td>1</td>\n",
       "    </tr>\n",
       "    <tr>\n",
       "      <th>ToU</th>\n",
       "      <td>0.053000</td>\n",
       "      <td>2</td>\n",
       "    </tr>\n",
       "    <tr>\n",
       "      <th>ACORN-O</th>\n",
       "      <th>Adversity</th>\n",
       "      <th>Std</th>\n",
       "      <td>0.034500</td>\n",
       "      <td>2</td>\n",
       "    </tr>\n",
       "    <tr>\n",
       "      <th>ACORN-Q</th>\n",
       "      <th>Adversity</th>\n",
       "      <th>Std</th>\n",
       "      <td>0.186000</td>\n",
       "      <td>11</td>\n",
       "    </tr>\n",
       "    <tr>\n",
       "      <th rowspan=\"14\" valign=\"top\">2011-12-01 01:00:00</th>\n",
       "      <th rowspan=\"2\" valign=\"top\">ACORN-D</th>\n",
       "      <th rowspan=\"2\" valign=\"top\">Affluent</th>\n",
       "      <th>Std</th>\n",
       "      <td>0.262000</td>\n",
       "      <td>1</td>\n",
       "    </tr>\n",
       "    <tr>\n",
       "      <th>ToU</th>\n",
       "      <td>0.063500</td>\n",
       "      <td>2</td>\n",
       "    </tr>\n",
       "    <tr>\n",
       "      <th rowspan=\"2\" valign=\"top\">ACORN-E</th>\n",
       "      <th rowspan=\"2\" valign=\"top\">Affluent</th>\n",
       "      <th>Std</th>\n",
       "      <td>0.252714</td>\n",
       "      <td>21</td>\n",
       "    </tr>\n",
       "    <tr>\n",
       "      <th>ToU</th>\n",
       "      <td>0.070250</td>\n",
       "      <td>4</td>\n",
       "    </tr>\n",
       "    <tr>\n",
       "      <th rowspan=\"2\" valign=\"top\">ACORN-F</th>\n",
       "      <th rowspan=\"2\" valign=\"top\">Comfortable</th>\n",
       "      <th>Std</th>\n",
       "      <td>0.100391</td>\n",
       "      <td>23</td>\n",
       "    </tr>\n",
       "    <tr>\n",
       "      <th>ToU</th>\n",
       "      <td>0.194000</td>\n",
       "      <td>3</td>\n",
       "    </tr>\n",
       "    <tr>\n",
       "      <th>ACORN-G</th>\n",
       "      <th>Comfortable</th>\n",
       "      <th>Std</th>\n",
       "      <td>0.142000</td>\n",
       "      <td>3</td>\n",
       "    </tr>\n",
       "    <tr>\n",
       "      <th>ACORN-H</th>\n",
       "      <th>Comfortable</th>\n",
       "      <th>ToU</th>\n",
       "      <td>0.163000</td>\n",
       "      <td>1</td>\n",
       "    </tr>\n",
       "    <tr>\n",
       "      <th rowspan=\"2\" valign=\"top\">ACORN-K</th>\n",
       "      <th rowspan=\"2\" valign=\"top\">Adversity</th>\n",
       "      <th>Std</th>\n",
       "      <td>0.252000</td>\n",
       "      <td>1</td>\n",
       "    </tr>\n",
       "    <tr>\n",
       "      <th>ToU</th>\n",
       "      <td>0.631000</td>\n",
       "      <td>1</td>\n",
       "    </tr>\n",
       "    <tr>\n",
       "      <th rowspan=\"2\" valign=\"top\">ACORN-L</th>\n",
       "      <th rowspan=\"2\" valign=\"top\">Adversity</th>\n",
       "      <th>Std</th>\n",
       "      <td>0.047000</td>\n",
       "      <td>1</td>\n",
       "    </tr>\n",
       "    <tr>\n",
       "      <th>ToU</th>\n",
       "      <td>0.059000</td>\n",
       "      <td>2</td>\n",
       "    </tr>\n",
       "    <tr>\n",
       "      <th>ACORN-O</th>\n",
       "      <th>Adversity</th>\n",
       "      <th>Std</th>\n",
       "      <td>0.028500</td>\n",
       "      <td>2</td>\n",
       "    </tr>\n",
       "    <tr>\n",
       "      <th>ACORN-Q</th>\n",
       "      <th>Adversity</th>\n",
       "      <th>Std</th>\n",
       "      <td>0.174818</td>\n",
       "      <td>11</td>\n",
       "    </tr>\n",
       "    <tr>\n",
       "      <th rowspan=\"2\" valign=\"top\">2011-12-01 01:30:00</th>\n",
       "      <th rowspan=\"2\" valign=\"top\">ACORN-D</th>\n",
       "      <th rowspan=\"2\" valign=\"top\">Affluent</th>\n",
       "      <th>Std</th>\n",
       "      <td>0.201000</td>\n",
       "      <td>1</td>\n",
       "    </tr>\n",
       "    <tr>\n",
       "      <th>ToU</th>\n",
       "      <td>0.055500</td>\n",
       "      <td>2</td>\n",
       "    </tr>\n",
       "  </tbody>\n",
       "</table>\n",
       "</div>"
      ],
      "text/plain": [
       "                                                    KWH/hh (per half hour)   \\\n",
       "DateTime            Acorn   Acorn_grouped stdorToU                            \n",
       "2011-12-01 00:30:00 ACORN-D Affluent      Std                      0.335000   \n",
       "                                          ToU                      0.096500   \n",
       "                    ACORN-E Affluent      Std                      0.289333   \n",
       "                                          ToU                      0.085000   \n",
       "                    ACORN-F Comfortable   Std                      0.119739   \n",
       "                                          ToU                      0.194667   \n",
       "                    ACORN-G Comfortable   Std                      0.098333   \n",
       "                    ACORN-H Comfortable   ToU                      0.158000   \n",
       "                    ACORN-K Adversity     Std                      0.311000   \n",
       "                                          ToU                      0.604000   \n",
       "                    ACORN-L Adversity     Std                      0.062000   \n",
       "                                          ToU                      0.053000   \n",
       "                    ACORN-O Adversity     Std                      0.034500   \n",
       "                    ACORN-Q Adversity     Std                      0.186000   \n",
       "2011-12-01 01:00:00 ACORN-D Affluent      Std                      0.262000   \n",
       "                                          ToU                      0.063500   \n",
       "                    ACORN-E Affluent      Std                      0.252714   \n",
       "                                          ToU                      0.070250   \n",
       "                    ACORN-F Comfortable   Std                      0.100391   \n",
       "                                          ToU                      0.194000   \n",
       "                    ACORN-G Comfortable   Std                      0.142000   \n",
       "                    ACORN-H Comfortable   ToU                      0.163000   \n",
       "                    ACORN-K Adversity     Std                      0.252000   \n",
       "                                          ToU                      0.631000   \n",
       "                    ACORN-L Adversity     Std                      0.047000   \n",
       "                                          ToU                      0.059000   \n",
       "                    ACORN-O Adversity     Std                      0.028500   \n",
       "                    ACORN-Q Adversity     Std                      0.174818   \n",
       "2011-12-01 01:30:00 ACORN-D Affluent      Std                      0.201000   \n",
       "                                          ToU                      0.055500   \n",
       "\n",
       "                                                    LCLid  \n",
       "DateTime            Acorn   Acorn_grouped stdorToU         \n",
       "2011-12-01 00:30:00 ACORN-D Affluent      Std           1  \n",
       "                                          ToU           2  \n",
       "                    ACORN-E Affluent      Std          21  \n",
       "                                          ToU           4  \n",
       "                    ACORN-F Comfortable   Std          23  \n",
       "                                          ToU           3  \n",
       "                    ACORN-G Comfortable   Std           3  \n",
       "                    ACORN-H Comfortable   ToU           1  \n",
       "                    ACORN-K Adversity     Std           1  \n",
       "                                          ToU           1  \n",
       "                    ACORN-L Adversity     Std           1  \n",
       "                                          ToU           2  \n",
       "                    ACORN-O Adversity     Std           2  \n",
       "                    ACORN-Q Adversity     Std          11  \n",
       "2011-12-01 01:00:00 ACORN-D Affluent      Std           1  \n",
       "                                          ToU           2  \n",
       "                    ACORN-E Affluent      Std          21  \n",
       "                                          ToU           4  \n",
       "                    ACORN-F Comfortable   Std          23  \n",
       "                                          ToU           3  \n",
       "                    ACORN-G Comfortable   Std           3  \n",
       "                    ACORN-H Comfortable   ToU           1  \n",
       "                    ACORN-K Adversity     Std           1  \n",
       "                                          ToU           1  \n",
       "                    ACORN-L Adversity     Std           1  \n",
       "                                          ToU           2  \n",
       "                    ACORN-O Adversity     Std           2  \n",
       "                    ACORN-Q Adversity     Std          11  \n",
       "2011-12-01 01:30:00 ACORN-D Affluent      Std           1  \n",
       "                                          ToU           2  "
      ]
     },
     "execution_count": 20,
     "metadata": {},
     "output_type": "execute_result"
    }
   ],
   "source": [
    "grouped_nrg_1112.head(30)"
   ]
  },
  {
   "cell_type": "code",
   "execution_count": 22,
   "metadata": {
    "collapsed": false
   },
   "outputs": [
    {
     "name": "stdout",
     "output_type": "stream",
     "text": [
      "<class 'pandas.core.frame.DataFrame'>\n",
      "MultiIndex: 182969 entries, (2011-12-01 00:30:00, ACORN-D, Affluent, Std) to (2012-03-31 23:30:00, ACORN-U, ACORN-U, ToU)\n",
      "Data columns (total 2 columns):\n",
      "KWH/hh (per half hour)     182969 non-null float64\n",
      "LCLid                      182969 non-null int64\n",
      "dtypes: float64(1), int64(1)\n",
      "memory usage: 4.2+ MB\n"
     ]
    }
   ],
   "source": [
    "grouped_nrg_1112.info()"
   ]
  },
  {
   "cell_type": "code",
   "execution_count": 23,
   "metadata": {
    "collapsed": true
   },
   "outputs": [],
   "source": [
    "output = \"~/Desktop/CUSP/Applied_Data_Science/Taming-the-Peak/Final_Data/grouped_nrg_winter1112.csv\"\n",
    "\n",
    "grouped_nrg_1112.to_csv(output)"
   ]
  }
 ],
 "metadata": {
  "anaconda-cloud": {},
  "kernelspec": {
   "display_name": "Python [Root]",
   "language": "python",
   "name": "Python [Root]"
  },
  "language_info": {
   "codemirror_mode": {
    "name": "ipython",
    "version": 2
   },
   "file_extension": ".py",
   "mimetype": "text/x-python",
   "name": "python",
   "nbconvert_exporter": "python",
   "pygments_lexer": "ipython2",
   "version": "2.7.12"
  }
 },
 "nbformat": 4,
 "nbformat_minor": 0
}
