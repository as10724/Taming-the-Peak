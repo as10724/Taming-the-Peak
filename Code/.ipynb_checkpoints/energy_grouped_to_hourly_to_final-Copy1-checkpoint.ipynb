{
 "cells": [
  {
   "cell_type": "code",
   "execution_count": 1,
   "metadata": {
    "collapsed": true
   },
   "outputs": [],
   "source": [
    "import pandas as pd\n",
    "import numpy as np"
   ]
  },
  {
   "cell_type": "code",
   "execution_count": 183,
   "metadata": {
    "collapsed": false
   },
   "outputs": [],
   "source": [
    "data = pd.read_csv('C:\\\\Users\\\\Hrafnkell\\\\Documents\\\\GitHub\\\\Taming-the-Peak\\\\Final_Data\\\\grouped_2013.csv')"
   ]
  },
  {
   "cell_type": "code",
   "execution_count": 184,
   "metadata": {
    "collapsed": true
   },
   "outputs": [],
   "source": [
    "list_of_interest = ['Adversity', 'Affluent', 'Comfortable']"
   ]
  },
  {
   "cell_type": "code",
   "execution_count": 185,
   "metadata": {
    "collapsed": false
   },
   "outputs": [
    {
     "data": {
      "text/plain": [
       "642575"
      ]
     },
     "execution_count": 185,
     "metadata": {},
     "output_type": "execute_result"
    }
   ],
   "source": [
    "len(data)"
   ]
  },
  {
   "cell_type": "code",
   "execution_count": 186,
   "metadata": {
    "collapsed": true
   },
   "outputs": [],
   "source": [
    "# selecting only Acorns of interest - dropping incomplete data\n",
    "data = data[data['Acorn_grouped'].isin(stk_list)]"
   ]
  },
  {
   "cell_type": "code",
   "execution_count": 187,
   "metadata": {
    "collapsed": false
   },
   "outputs": [
    {
     "data": {
      "text/plain": [
       "595680"
      ]
     },
     "execution_count": 187,
     "metadata": {},
     "output_type": "execute_result"
    }
   ],
   "source": [
    "len(data)"
   ]
  },
  {
   "cell_type": "code",
   "execution_count": 188,
   "metadata": {
    "collapsed": false
   },
   "outputs": [
    {
     "data": {
      "text/html": [
       "<div>\n",
       "<table border=\"1\" class=\"dataframe\">\n",
       "  <thead>\n",
       "    <tr style=\"text-align: right;\">\n",
       "      <th></th>\n",
       "      <th>DateTime</th>\n",
       "      <th>Acorn</th>\n",
       "      <th>Acorn_grouped</th>\n",
       "      <th>stdorToU</th>\n",
       "      <th>KWH/hh (per half hour)</th>\n",
       "      <th>LCLid</th>\n",
       "    </tr>\n",
       "  </thead>\n",
       "  <tbody>\n",
       "    <tr>\n",
       "      <th>0</th>\n",
       "      <td>2013-01-01 00:00:00</td>\n",
       "      <td>ACORN-A</td>\n",
       "      <td>Affluent</td>\n",
       "      <td>Std</td>\n",
       "      <td>0.486932</td>\n",
       "      <td>117</td>\n",
       "    </tr>\n",
       "    <tr>\n",
       "      <th>1</th>\n",
       "      <td>2013-01-01 00:00:00</td>\n",
       "      <td>ACORN-A</td>\n",
       "      <td>Affluent</td>\n",
       "      <td>ToU</td>\n",
       "      <td>0.404921</td>\n",
       "      <td>38</td>\n",
       "    </tr>\n",
       "    <tr>\n",
       "      <th>2</th>\n",
       "      <td>2013-01-01 00:00:00</td>\n",
       "      <td>ACORN-B</td>\n",
       "      <td>Affluent</td>\n",
       "      <td>Std</td>\n",
       "      <td>0.264095</td>\n",
       "      <td>21</td>\n",
       "    </tr>\n",
       "    <tr>\n",
       "      <th>3</th>\n",
       "      <td>2013-01-01 00:00:00</td>\n",
       "      <td>ACORN-B</td>\n",
       "      <td>Affluent</td>\n",
       "      <td>ToU</td>\n",
       "      <td>0.514500</td>\n",
       "      <td>4</td>\n",
       "    </tr>\n",
       "    <tr>\n",
       "      <th>4</th>\n",
       "      <td>2013-01-01 00:00:00</td>\n",
       "      <td>ACORN-C</td>\n",
       "      <td>Affluent</td>\n",
       "      <td>Std</td>\n",
       "      <td>0.288457</td>\n",
       "      <td>116</td>\n",
       "    </tr>\n",
       "  </tbody>\n",
       "</table>\n",
       "</div>"
      ],
      "text/plain": [
       "              DateTime    Acorn Acorn_grouped stdorToU  \\\n",
       "0  2013-01-01 00:00:00  ACORN-A      Affluent      Std   \n",
       "1  2013-01-01 00:00:00  ACORN-A      Affluent      ToU   \n",
       "2  2013-01-01 00:00:00  ACORN-B      Affluent      Std   \n",
       "3  2013-01-01 00:00:00  ACORN-B      Affluent      ToU   \n",
       "4  2013-01-01 00:00:00  ACORN-C      Affluent      Std   \n",
       "\n",
       "   KWH/hh (per half hour)   LCLid  \n",
       "0                 0.486932    117  \n",
       "1                 0.404921     38  \n",
       "2                 0.264095     21  \n",
       "3                 0.514500      4  \n",
       "4                 0.288457    116  "
      ]
     },
     "execution_count": 188,
     "metadata": {},
     "output_type": "execute_result"
    }
   ],
   "source": [
    "data.head()"
   ]
  },
  {
   "cell_type": "code",
   "execution_count": 189,
   "metadata": {
    "collapsed": false
   },
   "outputs": [],
   "source": [
    "data.drop(['stdorToU'], axis=1, inplace=True)\n",
    "data.drop(['Acorn'], axis=1, inplace=True)"
   ]
  },
  {
   "cell_type": "code",
   "execution_count": 190,
   "metadata": {
    "collapsed": false
   },
   "outputs": [
    {
     "data": {
      "text/html": [
       "<div>\n",
       "<table border=\"1\" class=\"dataframe\">\n",
       "  <thead>\n",
       "    <tr style=\"text-align: right;\">\n",
       "      <th></th>\n",
       "      <th>DateTime</th>\n",
       "      <th>Acorn_grouped</th>\n",
       "      <th>KWH/hh (per half hour)</th>\n",
       "      <th>LCLid</th>\n",
       "    </tr>\n",
       "  </thead>\n",
       "  <tbody>\n",
       "    <tr>\n",
       "      <th>0</th>\n",
       "      <td>2013-01-01 00:00:00</td>\n",
       "      <td>Affluent</td>\n",
       "      <td>0.486932</td>\n",
       "      <td>117</td>\n",
       "    </tr>\n",
       "    <tr>\n",
       "      <th>1</th>\n",
       "      <td>2013-01-01 00:00:00</td>\n",
       "      <td>Affluent</td>\n",
       "      <td>0.404921</td>\n",
       "      <td>38</td>\n",
       "    </tr>\n",
       "    <tr>\n",
       "      <th>2</th>\n",
       "      <td>2013-01-01 00:00:00</td>\n",
       "      <td>Affluent</td>\n",
       "      <td>0.264095</td>\n",
       "      <td>21</td>\n",
       "    </tr>\n",
       "    <tr>\n",
       "      <th>3</th>\n",
       "      <td>2013-01-01 00:00:00</td>\n",
       "      <td>Affluent</td>\n",
       "      <td>0.514500</td>\n",
       "      <td>4</td>\n",
       "    </tr>\n",
       "    <tr>\n",
       "      <th>4</th>\n",
       "      <td>2013-01-01 00:00:00</td>\n",
       "      <td>Affluent</td>\n",
       "      <td>0.288457</td>\n",
       "      <td>116</td>\n",
       "    </tr>\n",
       "  </tbody>\n",
       "</table>\n",
       "</div>"
      ],
      "text/plain": [
       "              DateTime Acorn_grouped  KWH/hh (per half hour)   LCLid\n",
       "0  2013-01-01 00:00:00      Affluent                 0.486932    117\n",
       "1  2013-01-01 00:00:00      Affluent                 0.404921     38\n",
       "2  2013-01-01 00:00:00      Affluent                 0.264095     21\n",
       "3  2013-01-01 00:00:00      Affluent                 0.514500      4\n",
       "4  2013-01-01 00:00:00      Affluent                 0.288457    116"
      ]
     },
     "execution_count": 190,
     "metadata": {},
     "output_type": "execute_result"
    }
   ],
   "source": [
    "data.head()"
   ]
  },
  {
   "cell_type": "code",
   "execution_count": 191,
   "metadata": {
    "collapsed": false
   },
   "outputs": [],
   "source": [
    "data['energy_sum'] = data['KWH/hh (per half hour) ']*data.LCLid"
   ]
  },
  {
   "cell_type": "code",
   "execution_count": 192,
   "metadata": {
    "collapsed": false
   },
   "outputs": [
    {
     "data": {
      "text/html": [
       "<div>\n",
       "<table border=\"1\" class=\"dataframe\">\n",
       "  <thead>\n",
       "    <tr style=\"text-align: right;\">\n",
       "      <th></th>\n",
       "      <th>DateTime</th>\n",
       "      <th>Acorn_grouped</th>\n",
       "      <th>KWH/hh (per half hour)</th>\n",
       "      <th>LCLid</th>\n",
       "      <th>energy_sum</th>\n",
       "    </tr>\n",
       "  </thead>\n",
       "  <tbody>\n",
       "    <tr>\n",
       "      <th>0</th>\n",
       "      <td>2013-01-01 00:00:00</td>\n",
       "      <td>Affluent</td>\n",
       "      <td>0.486932</td>\n",
       "      <td>117</td>\n",
       "      <td>56.971</td>\n",
       "    </tr>\n",
       "    <tr>\n",
       "      <th>1</th>\n",
       "      <td>2013-01-01 00:00:00</td>\n",
       "      <td>Affluent</td>\n",
       "      <td>0.404921</td>\n",
       "      <td>38</td>\n",
       "      <td>15.387</td>\n",
       "    </tr>\n",
       "    <tr>\n",
       "      <th>2</th>\n",
       "      <td>2013-01-01 00:00:00</td>\n",
       "      <td>Affluent</td>\n",
       "      <td>0.264095</td>\n",
       "      <td>21</td>\n",
       "      <td>5.546</td>\n",
       "    </tr>\n",
       "    <tr>\n",
       "      <th>3</th>\n",
       "      <td>2013-01-01 00:00:00</td>\n",
       "      <td>Affluent</td>\n",
       "      <td>0.514500</td>\n",
       "      <td>4</td>\n",
       "      <td>2.058</td>\n",
       "    </tr>\n",
       "    <tr>\n",
       "      <th>4</th>\n",
       "      <td>2013-01-01 00:00:00</td>\n",
       "      <td>Affluent</td>\n",
       "      <td>0.288457</td>\n",
       "      <td>116</td>\n",
       "      <td>33.461</td>\n",
       "    </tr>\n",
       "  </tbody>\n",
       "</table>\n",
       "</div>"
      ],
      "text/plain": [
       "              DateTime Acorn_grouped  KWH/hh (per half hour)   LCLid  \\\n",
       "0  2013-01-01 00:00:00      Affluent                 0.486932    117   \n",
       "1  2013-01-01 00:00:00      Affluent                 0.404921     38   \n",
       "2  2013-01-01 00:00:00      Affluent                 0.264095     21   \n",
       "3  2013-01-01 00:00:00      Affluent                 0.514500      4   \n",
       "4  2013-01-01 00:00:00      Affluent                 0.288457    116   \n",
       "\n",
       "   energy_sum  \n",
       "0      56.971  \n",
       "1      15.387  \n",
       "2       5.546  \n",
       "3       2.058  \n",
       "4      33.461  "
      ]
     },
     "execution_count": 192,
     "metadata": {},
     "output_type": "execute_result"
    }
   ],
   "source": [
    "data.head()"
   ]
  },
  {
   "cell_type": "code",
   "execution_count": 193,
   "metadata": {
    "collapsed": false
   },
   "outputs": [],
   "source": [
    "data = data.groupby(['DateTime', 'Acorn_grouped']).sum()"
   ]
  },
  {
   "cell_type": "code",
   "execution_count": 194,
   "metadata": {
    "collapsed": false
   },
   "outputs": [
    {
     "data": {
      "text/html": [
       "<div>\n",
       "<table border=\"1\" class=\"dataframe\">\n",
       "  <thead>\n",
       "    <tr style=\"text-align: right;\">\n",
       "      <th></th>\n",
       "      <th></th>\n",
       "      <th>KWH/hh (per half hour)</th>\n",
       "      <th>LCLid</th>\n",
       "      <th>energy_sum</th>\n",
       "    </tr>\n",
       "    <tr>\n",
       "      <th>DateTime</th>\n",
       "      <th>Acorn_grouped</th>\n",
       "      <th></th>\n",
       "      <th></th>\n",
       "      <th></th>\n",
       "    </tr>\n",
       "  </thead>\n",
       "  <tbody>\n",
       "    <tr>\n",
       "      <th rowspan=\"3\" valign=\"top\">2013-01-01 00:00:00</th>\n",
       "      <th>Adversity</th>\n",
       "      <td>3.104833</td>\n",
       "      <td>1801</td>\n",
       "      <td>387.007000</td>\n",
       "    </tr>\n",
       "    <tr>\n",
       "      <th>Affluent</th>\n",
       "      <td>3.263346</td>\n",
       "      <td>2168</td>\n",
       "      <td>617.303000</td>\n",
       "    </tr>\n",
       "    <tr>\n",
       "      <th>Comfortable</th>\n",
       "      <td>2.504545</td>\n",
       "      <td>1491</td>\n",
       "      <td>365.072000</td>\n",
       "    </tr>\n",
       "    <tr>\n",
       "      <th rowspan=\"3\" valign=\"top\">2013-01-01 00:30:00</th>\n",
       "      <th>Adversity</th>\n",
       "      <td>2.971474</td>\n",
       "      <td>1802</td>\n",
       "      <td>365.842000</td>\n",
       "    </tr>\n",
       "    <tr>\n",
       "      <th>Affluent</th>\n",
       "      <td>3.229644</td>\n",
       "      <td>2168</td>\n",
       "      <td>565.497001</td>\n",
       "    </tr>\n",
       "    <tr>\n",
       "      <th>Comfortable</th>\n",
       "      <td>2.231013</td>\n",
       "      <td>1491</td>\n",
       "      <td>331.687000</td>\n",
       "    </tr>\n",
       "  </tbody>\n",
       "</table>\n",
       "</div>"
      ],
      "text/plain": [
       "                                   KWH/hh (per half hour)   LCLid  energy_sum\n",
       "DateTime            Acorn_grouped                                            \n",
       "2013-01-01 00:00:00 Adversity                     3.104833   1801  387.007000\n",
       "                    Affluent                      3.263346   2168  617.303000\n",
       "                    Comfortable                   2.504545   1491  365.072000\n",
       "2013-01-01 00:30:00 Adversity                     2.971474   1802  365.842000\n",
       "                    Affluent                      3.229644   2168  565.497001\n",
       "                    Comfortable                   2.231013   1491  331.687000"
      ]
     },
     "execution_count": 194,
     "metadata": {},
     "output_type": "execute_result"
    }
   ],
   "source": [
    "data.head(6)"
   ]
  },
  {
   "cell_type": "code",
   "execution_count": 195,
   "metadata": {
    "collapsed": true
   },
   "outputs": [],
   "source": [
    "data['KWH/hh (per half hour) '] = data.energy_sum / data.LCLid"
   ]
  },
  {
   "cell_type": "code",
   "execution_count": 196,
   "metadata": {
    "collapsed": false
   },
   "outputs": [
    {
     "data": {
      "text/html": [
       "<div>\n",
       "<table border=\"1\" class=\"dataframe\">\n",
       "  <thead>\n",
       "    <tr style=\"text-align: right;\">\n",
       "      <th></th>\n",
       "      <th></th>\n",
       "      <th>KWH/hh (per half hour)</th>\n",
       "      <th>LCLid</th>\n",
       "      <th>energy_sum</th>\n",
       "    </tr>\n",
       "    <tr>\n",
       "      <th>DateTime</th>\n",
       "      <th>Acorn_grouped</th>\n",
       "      <th></th>\n",
       "      <th></th>\n",
       "      <th></th>\n",
       "    </tr>\n",
       "  </thead>\n",
       "  <tbody>\n",
       "    <tr>\n",
       "      <th rowspan=\"3\" valign=\"top\">2013-01-01 00:00:00</th>\n",
       "      <th>Adversity</th>\n",
       "      <td>0.214885</td>\n",
       "      <td>1801</td>\n",
       "      <td>387.007000</td>\n",
       "    </tr>\n",
       "    <tr>\n",
       "      <th>Affluent</th>\n",
       "      <td>0.284734</td>\n",
       "      <td>2168</td>\n",
       "      <td>617.303000</td>\n",
       "    </tr>\n",
       "    <tr>\n",
       "      <th>Comfortable</th>\n",
       "      <td>0.244850</td>\n",
       "      <td>1491</td>\n",
       "      <td>365.072000</td>\n",
       "    </tr>\n",
       "    <tr>\n",
       "      <th rowspan=\"3\" valign=\"top\">2013-01-01 00:30:00</th>\n",
       "      <th>Adversity</th>\n",
       "      <td>0.203020</td>\n",
       "      <td>1802</td>\n",
       "      <td>365.842000</td>\n",
       "    </tr>\n",
       "    <tr>\n",
       "      <th>Affluent</th>\n",
       "      <td>0.260838</td>\n",
       "      <td>2168</td>\n",
       "      <td>565.497001</td>\n",
       "    </tr>\n",
       "    <tr>\n",
       "      <th>Comfortable</th>\n",
       "      <td>0.222459</td>\n",
       "      <td>1491</td>\n",
       "      <td>331.687000</td>\n",
       "    </tr>\n",
       "  </tbody>\n",
       "</table>\n",
       "</div>"
      ],
      "text/plain": [
       "                                   KWH/hh (per half hour)   LCLid  energy_sum\n",
       "DateTime            Acorn_grouped                                            \n",
       "2013-01-01 00:00:00 Adversity                     0.214885   1801  387.007000\n",
       "                    Affluent                      0.284734   2168  617.303000\n",
       "                    Comfortable                   0.244850   1491  365.072000\n",
       "2013-01-01 00:30:00 Adversity                     0.203020   1802  365.842000\n",
       "                    Affluent                      0.260838   2168  565.497001\n",
       "                    Comfortable                   0.222459   1491  331.687000"
      ]
     },
     "execution_count": 196,
     "metadata": {},
     "output_type": "execute_result"
    }
   ],
   "source": [
    "data.head(6)"
   ]
  },
  {
   "cell_type": "code",
   "execution_count": 197,
   "metadata": {
    "collapsed": false
   },
   "outputs": [
    {
     "data": {
      "text/plain": [
       "52560"
      ]
     },
     "execution_count": 197,
     "metadata": {},
     "output_type": "execute_result"
    }
   ],
   "source": [
    "len(data)"
   ]
  },
  {
   "cell_type": "code",
   "execution_count": 198,
   "metadata": {
    "collapsed": true
   },
   "outputs": [],
   "source": [
    "smalldata = data.head(64)"
   ]
  },
  {
   "cell_type": "code",
   "execution_count": null,
   "metadata": {
    "collapsed": true
   },
   "outputs": [],
   "source": []
  },
  {
   "cell_type": "code",
   "execution_count": null,
   "metadata": {
    "collapsed": true
   },
   "outputs": [],
   "source": []
  },
  {
   "cell_type": "code",
   "execution_count": null,
   "metadata": {
    "collapsed": true
   },
   "outputs": [],
   "source": []
  },
  {
   "cell_type": "code",
   "execution_count": 93,
   "metadata": {
    "collapsed": false
   },
   "outputs": [
    {
     "data": {
      "text/html": [
       "<div>\n",
       "<table border=\"1\" class=\"dataframe\">\n",
       "  <thead>\n",
       "    <tr style=\"text-align: right;\">\n",
       "      <th></th>\n",
       "      <th></th>\n",
       "      <th>KWH/hh (per half hour)</th>\n",
       "      <th>LCLid</th>\n",
       "    </tr>\n",
       "    <tr>\n",
       "      <th>DateTime</th>\n",
       "      <th>Acorn_grouped</th>\n",
       "      <th></th>\n",
       "      <th></th>\n",
       "    </tr>\n",
       "  </thead>\n",
       "  <tbody>\n",
       "    <tr>\n",
       "      <th rowspan=\"3\" valign=\"top\">2013-01-01 00:00:00</th>\n",
       "      <th>Adversity</th>\n",
       "      <td>0.221774</td>\n",
       "      <td>1801</td>\n",
       "    </tr>\n",
       "    <tr>\n",
       "      <th>Affluent</th>\n",
       "      <td>0.326335</td>\n",
       "      <td>2168</td>\n",
       "    </tr>\n",
       "    <tr>\n",
       "      <th>Comfortable</th>\n",
       "      <td>0.250455</td>\n",
       "      <td>1491</td>\n",
       "    </tr>\n",
       "    <tr>\n",
       "      <th rowspan=\"3\" valign=\"top\">2013-01-01 00:30:00</th>\n",
       "      <th>Adversity</th>\n",
       "      <td>0.212248</td>\n",
       "      <td>1802</td>\n",
       "    </tr>\n",
       "    <tr>\n",
       "      <th>Affluent</th>\n",
       "      <td>0.322964</td>\n",
       "      <td>2168</td>\n",
       "    </tr>\n",
       "    <tr>\n",
       "      <th>Comfortable</th>\n",
       "      <td>0.223101</td>\n",
       "      <td>1491</td>\n",
       "    </tr>\n",
       "  </tbody>\n",
       "</table>\n",
       "</div>"
      ],
      "text/plain": [
       "                                   KWH/hh (per half hour)   LCLid\n",
       "DateTime            Acorn_grouped                                \n",
       "2013-01-01 00:00:00 Adversity                     0.221774   1801\n",
       "                    Affluent                      0.326335   2168\n",
       "                    Comfortable                   0.250455   1491\n",
       "2013-01-01 00:30:00 Adversity                     0.212248   1802\n",
       "                    Affluent                      0.322964   2168\n",
       "                    Comfortable                   0.223101   1491"
      ]
     },
     "execution_count": 93,
     "metadata": {},
     "output_type": "execute_result"
    }
   ],
   "source": [
    "data.head(6)"
   ]
  },
  {
   "cell_type": "code",
   "execution_count": 83,
   "metadata": {
    "collapsed": true
   },
   "outputs": [],
   "source": [
    "data['energy_sum'] = (data['KWH/hh (per half hour) '] * data.LCLid)"
   ]
  },
  {
   "cell_type": "code",
   "execution_count": 86,
   "metadata": {
    "collapsed": false
   },
   "outputs": [
    {
     "data": {
      "text/html": [
       "<div>\n",
       "<table border=\"1\" class=\"dataframe\">\n",
       "  <thead>\n",
       "    <tr style=\"text-align: right;\">\n",
       "      <th></th>\n",
       "      <th></th>\n",
       "      <th></th>\n",
       "      <th>KWH/hh (per half hour)</th>\n",
       "      <th>LCLid</th>\n",
       "      <th>energy_sum</th>\n",
       "    </tr>\n",
       "    <tr>\n",
       "      <th>DateTime</th>\n",
       "      <th>Acorn_grouped</th>\n",
       "      <th>stdorToU</th>\n",
       "      <th></th>\n",
       "      <th></th>\n",
       "      <th></th>\n",
       "    </tr>\n",
       "  </thead>\n",
       "  <tbody>\n",
       "    <tr>\n",
       "      <th rowspan=\"5\" valign=\"top\">2013-01-01 00:00:00</th>\n",
       "      <th rowspan=\"2\" valign=\"top\">Adversity</th>\n",
       "      <th>Std</th>\n",
       "      <td>0.256294</td>\n",
       "      <td>1505</td>\n",
       "      <td>385.721905</td>\n",
       "    </tr>\n",
       "    <tr>\n",
       "      <th>ToU</th>\n",
       "      <td>0.187254</td>\n",
       "      <td>296</td>\n",
       "      <td>55.427183</td>\n",
       "    </tr>\n",
       "    <tr>\n",
       "      <th rowspan=\"2\" valign=\"top\">Affluent</th>\n",
       "      <th>Std</th>\n",
       "      <td>0.325830</td>\n",
       "      <td>1683</td>\n",
       "      <td>548.372370</td>\n",
       "    </tr>\n",
       "    <tr>\n",
       "      <th>ToU</th>\n",
       "      <td>0.326839</td>\n",
       "      <td>485</td>\n",
       "      <td>158.516877</td>\n",
       "    </tr>\n",
       "    <tr>\n",
       "      <th>Comfortable</th>\n",
       "      <th>Std</th>\n",
       "      <td>0.305916</td>\n",
       "      <td>1171</td>\n",
       "      <td>358.227785</td>\n",
       "    </tr>\n",
       "  </tbody>\n",
       "</table>\n",
       "</div>"
      ],
      "text/plain": [
       "                                            KWH/hh (per half hour)   LCLid  \\\n",
       "DateTime            Acorn_grouped stdorToU                                   \n",
       "2013-01-01 00:00:00 Adversity     Std                      0.256294   1505   \n",
       "                                  ToU                      0.187254    296   \n",
       "                    Affluent      Std                      0.325830   1683   \n",
       "                                  ToU                      0.326839    485   \n",
       "                    Comfortable   Std                      0.305916   1171   \n",
       "\n",
       "                                            energy_sum  \n",
       "DateTime            Acorn_grouped stdorToU              \n",
       "2013-01-01 00:00:00 Adversity     Std       385.721905  \n",
       "                                  ToU        55.427183  \n",
       "                    Affluent      Std       548.372370  \n",
       "                                  ToU       158.516877  \n",
       "                    Comfortable   Std       358.227785  "
      ]
     },
     "execution_count": 86,
     "metadata": {},
     "output_type": "execute_result"
    }
   ],
   "source": [
    "data.head()"
   ]
  },
  {
   "cell_type": "code",
   "execution_count": null,
   "metadata": {
    "collapsed": true
   },
   "outputs": [],
   "source": [
    "data.groupby()"
   ]
  },
  {
   "cell_type": "code",
   "execution_count": null,
   "metadata": {
    "collapsed": true
   },
   "outputs": [],
   "source": []
  },
  {
   "cell_type": "code",
   "execution_count": 174,
   "metadata": {
    "collapsed": true
   },
   "outputs": [],
   "source": [
    "smalldata = data.head(30)"
   ]
  },
  {
   "cell_type": "code",
   "execution_count": 179,
   "metadata": {
    "collapsed": false
   },
   "outputs": [
    {
     "data": {
      "text/html": [
       "<div>\n",
       "<table border=\"1\" class=\"dataframe\">\n",
       "  <thead>\n",
       "    <tr style=\"text-align: right;\">\n",
       "      <th></th>\n",
       "      <th></th>\n",
       "      <th>KWH/hh (per half hour)</th>\n",
       "      <th>LCLid</th>\n",
       "      <th>energy_sum</th>\n",
       "    </tr>\n",
       "    <tr>\n",
       "      <th>DateTime</th>\n",
       "      <th>Acorn_grouped</th>\n",
       "      <th></th>\n",
       "      <th></th>\n",
       "      <th></th>\n",
       "    </tr>\n",
       "  </thead>\n",
       "  <tbody>\n",
       "    <tr>\n",
       "      <th rowspan=\"3\" valign=\"top\">2013-01-01 00:00:00</th>\n",
       "      <th>Adversity</th>\n",
       "      <td>0.214885</td>\n",
       "      <td>1801</td>\n",
       "      <td>387.007000</td>\n",
       "    </tr>\n",
       "    <tr>\n",
       "      <th>Affluent</th>\n",
       "      <td>0.284734</td>\n",
       "      <td>2168</td>\n",
       "      <td>617.303000</td>\n",
       "    </tr>\n",
       "    <tr>\n",
       "      <th>Comfortable</th>\n",
       "      <td>0.244850</td>\n",
       "      <td>1491</td>\n",
       "      <td>365.072000</td>\n",
       "    </tr>\n",
       "    <tr>\n",
       "      <th rowspan=\"3\" valign=\"top\">2013-01-01 00:30:00</th>\n",
       "      <th>Adversity</th>\n",
       "      <td>0.203020</td>\n",
       "      <td>1802</td>\n",
       "      <td>365.842000</td>\n",
       "    </tr>\n",
       "    <tr>\n",
       "      <th>Affluent</th>\n",
       "      <td>0.260838</td>\n",
       "      <td>2168</td>\n",
       "      <td>565.497001</td>\n",
       "    </tr>\n",
       "    <tr>\n",
       "      <th>Comfortable</th>\n",
       "      <td>0.222459</td>\n",
       "      <td>1491</td>\n",
       "      <td>331.687000</td>\n",
       "    </tr>\n",
       "    <tr>\n",
       "      <th rowspan=\"3\" valign=\"top\">2013-01-01 01:00:00</th>\n",
       "      <th>Adversity</th>\n",
       "      <td>0.184186</td>\n",
       "      <td>1802</td>\n",
       "      <td>331.904000</td>\n",
       "    </tr>\n",
       "    <tr>\n",
       "      <th>Affluent</th>\n",
       "      <td>0.239097</td>\n",
       "      <td>2168</td>\n",
       "      <td>518.363000</td>\n",
       "    </tr>\n",
       "    <tr>\n",
       "      <th>Comfortable</th>\n",
       "      <td>0.204080</td>\n",
       "      <td>1491</td>\n",
       "      <td>304.284000</td>\n",
       "    </tr>\n",
       "    <tr>\n",
       "      <th rowspan=\"3\" valign=\"top\">2013-01-01 01:30:00</th>\n",
       "      <th>Adversity</th>\n",
       "      <td>0.166085</td>\n",
       "      <td>1802</td>\n",
       "      <td>665.128000</td>\n",
       "    </tr>\n",
       "    <tr>\n",
       "      <th>Affluent</th>\n",
       "      <td>0.222950</td>\n",
       "      <td>2168</td>\n",
       "      <td>1048.852000</td>\n",
       "    </tr>\n",
       "    <tr>\n",
       "      <th>Comfortable</th>\n",
       "      <td>0.185404</td>\n",
       "      <td>1491</td>\n",
       "      <td>608.125000</td>\n",
       "    </tr>\n",
       "    <tr>\n",
       "      <th rowspan=\"3\" valign=\"top\">2013-01-01 02:00:00</th>\n",
       "      <th>Adversity</th>\n",
       "      <td>0.152026</td>\n",
       "      <td>1802</td>\n",
       "      <td>273.950000</td>\n",
       "    </tr>\n",
       "    <tr>\n",
       "      <th>Affluent</th>\n",
       "      <td>0.206345</td>\n",
       "      <td>2168</td>\n",
       "      <td>447.355001</td>\n",
       "    </tr>\n",
       "    <tr>\n",
       "      <th>Comfortable</th>\n",
       "      <td>0.166306</td>\n",
       "      <td>1491</td>\n",
       "      <td>247.962000</td>\n",
       "    </tr>\n",
       "    <tr>\n",
       "      <th rowspan=\"3\" valign=\"top\">2013-01-01 02:30:00</th>\n",
       "      <th>Adversity</th>\n",
       "      <td>0.138388</td>\n",
       "      <td>1802</td>\n",
       "      <td>914.503000</td>\n",
       "    </tr>\n",
       "    <tr>\n",
       "      <th>Affluent</th>\n",
       "      <td>0.191123</td>\n",
       "      <td>2168</td>\n",
       "      <td>1463.207000</td>\n",
       "    </tr>\n",
       "    <tr>\n",
       "      <th>Comfortable</th>\n",
       "      <td>0.148600</td>\n",
       "      <td>1491</td>\n",
       "      <td>829.688000</td>\n",
       "    </tr>\n",
       "    <tr>\n",
       "      <th rowspan=\"3\" valign=\"top\">2013-01-01 03:00:00</th>\n",
       "      <th>Adversity</th>\n",
       "      <td>0.125125</td>\n",
       "      <td>1802</td>\n",
       "      <td>225.475000</td>\n",
       "    </tr>\n",
       "    <tr>\n",
       "      <th>Affluent</th>\n",
       "      <td>0.176192</td>\n",
       "      <td>2168</td>\n",
       "      <td>381.985000</td>\n",
       "    </tr>\n",
       "    <tr>\n",
       "      <th>Comfortable</th>\n",
       "      <td>0.139624</td>\n",
       "      <td>1491</td>\n",
       "      <td>208.179000</td>\n",
       "    </tr>\n",
       "    <tr>\n",
       "      <th rowspan=\"3\" valign=\"top\">2013-01-01 03:30:00</th>\n",
       "      <th>Adversity</th>\n",
       "      <td>0.120120</td>\n",
       "      <td>1802</td>\n",
       "      <td>1130.959000</td>\n",
       "    </tr>\n",
       "    <tr>\n",
       "      <th>Affluent</th>\n",
       "      <td>0.166645</td>\n",
       "      <td>2168</td>\n",
       "      <td>1824.493000</td>\n",
       "    </tr>\n",
       "    <tr>\n",
       "      <th>Comfortable</th>\n",
       "      <td>0.129687</td>\n",
       "      <td>1491</td>\n",
       "      <td>1023.051999</td>\n",
       "    </tr>\n",
       "    <tr>\n",
       "      <th rowspan=\"3\" valign=\"top\">2013-01-01 04:00:00</th>\n",
       "      <th>Adversity</th>\n",
       "      <td>0.111574</td>\n",
       "      <td>1802</td>\n",
       "      <td>201.057000</td>\n",
       "    </tr>\n",
       "    <tr>\n",
       "      <th>Affluent</th>\n",
       "      <td>0.157608</td>\n",
       "      <td>2168</td>\n",
       "      <td>341.694000</td>\n",
       "    </tr>\n",
       "    <tr>\n",
       "      <th>Comfortable</th>\n",
       "      <td>0.124264</td>\n",
       "      <td>1491</td>\n",
       "      <td>185.277000</td>\n",
       "    </tr>\n",
       "    <tr>\n",
       "      <th rowspan=\"3\" valign=\"top\">2013-01-01 04:30:00</th>\n",
       "      <th>Adversity</th>\n",
       "      <td>0.104656</td>\n",
       "      <td>1802</td>\n",
       "      <td>1319.549999</td>\n",
       "    </tr>\n",
       "    <tr>\n",
       "      <th>Affluent</th>\n",
       "      <td>0.154741</td>\n",
       "      <td>2168</td>\n",
       "      <td>2159.972000</td>\n",
       "    </tr>\n",
       "    <tr>\n",
       "      <th>Comfortable</th>\n",
       "      <td>0.121266</td>\n",
       "      <td>1491</td>\n",
       "      <td>1203.858999</td>\n",
       "    </tr>\n",
       "  </tbody>\n",
       "</table>\n",
       "</div>"
      ],
      "text/plain": [
       "                                   KWH/hh (per half hour)   LCLid   energy_sum\n",
       "DateTime            Acorn_grouped                                             \n",
       "2013-01-01 00:00:00 Adversity                     0.214885   1801   387.007000\n",
       "                    Affluent                      0.284734   2168   617.303000\n",
       "                    Comfortable                   0.244850   1491   365.072000\n",
       "2013-01-01 00:30:00 Adversity                     0.203020   1802   365.842000\n",
       "                    Affluent                      0.260838   2168   565.497001\n",
       "                    Comfortable                   0.222459   1491   331.687000\n",
       "2013-01-01 01:00:00 Adversity                     0.184186   1802   331.904000\n",
       "                    Affluent                      0.239097   2168   518.363000\n",
       "                    Comfortable                   0.204080   1491   304.284000\n",
       "2013-01-01 01:30:00 Adversity                     0.166085   1802   665.128000\n",
       "                    Affluent                      0.222950   2168  1048.852000\n",
       "                    Comfortable                   0.185404   1491   608.125000\n",
       "2013-01-01 02:00:00 Adversity                     0.152026   1802   273.950000\n",
       "                    Affluent                      0.206345   2168   447.355001\n",
       "                    Comfortable                   0.166306   1491   247.962000\n",
       "2013-01-01 02:30:00 Adversity                     0.138388   1802   914.503000\n",
       "                    Affluent                      0.191123   2168  1463.207000\n",
       "                    Comfortable                   0.148600   1491   829.688000\n",
       "2013-01-01 03:00:00 Adversity                     0.125125   1802   225.475000\n",
       "                    Affluent                      0.176192   2168   381.985000\n",
       "                    Comfortable                   0.139624   1491   208.179000\n",
       "2013-01-01 03:30:00 Adversity                     0.120120   1802  1130.959000\n",
       "                    Affluent                      0.166645   2168  1824.493000\n",
       "                    Comfortable                   0.129687   1491  1023.051999\n",
       "2013-01-01 04:00:00 Adversity                     0.111574   1802   201.057000\n",
       "                    Affluent                      0.157608   2168   341.694000\n",
       "                    Comfortable                   0.124264   1491   185.277000\n",
       "2013-01-01 04:30:00 Adversity                     0.104656   1802  1319.549999\n",
       "                    Affluent                      0.154741   2168  2159.972000\n",
       "                    Comfortable                   0.121266   1491  1203.858999"
      ]
     },
     "execution_count": 179,
     "metadata": {},
     "output_type": "execute_result"
    }
   ],
   "source": [
    "smalldata"
   ]
  },
  {
   "cell_type": "code",
   "execution_count": 182,
   "metadata": {
    "collapsed": false
   },
   "outputs": [
    {
     "data": {
      "text/html": [
       "<div>\n",
       "<table border=\"1\" class=\"dataframe\">\n",
       "  <thead>\n",
       "    <tr style=\"text-align: right;\">\n",
       "      <th></th>\n",
       "      <th></th>\n",
       "      <th>KWH/hh (per half hour)</th>\n",
       "      <th>LCLid</th>\n",
       "      <th>energy_sum</th>\n",
       "    </tr>\n",
       "    <tr>\n",
       "      <th>DateTime</th>\n",
       "      <th>Acorn_grouped</th>\n",
       "      <th></th>\n",
       "      <th></th>\n",
       "      <th></th>\n",
       "    </tr>\n",
       "  </thead>\n",
       "  <tbody>\n",
       "    <tr>\n",
       "      <th rowspan=\"3\" valign=\"top\">2013-01-01 00:00:00</th>\n",
       "      <th>Adversity</th>\n",
       "      <td>0.214885</td>\n",
       "      <td>1801</td>\n",
       "      <td>387.007000</td>\n",
       "    </tr>\n",
       "    <tr>\n",
       "      <th>Affluent</th>\n",
       "      <td>0.284734</td>\n",
       "      <td>2168</td>\n",
       "      <td>617.303000</td>\n",
       "    </tr>\n",
       "    <tr>\n",
       "      <th>Comfortable</th>\n",
       "      <td>0.244850</td>\n",
       "      <td>1491</td>\n",
       "      <td>365.072000</td>\n",
       "    </tr>\n",
       "    <tr>\n",
       "      <th rowspan=\"3\" valign=\"top\">2013-01-01 00:30:00</th>\n",
       "      <th>Adversity</th>\n",
       "      <td>0.203020</td>\n",
       "      <td>1802</td>\n",
       "      <td>365.842000</td>\n",
       "    </tr>\n",
       "    <tr>\n",
       "      <th>Affluent</th>\n",
       "      <td>0.260838</td>\n",
       "      <td>2168</td>\n",
       "      <td>565.497001</td>\n",
       "    </tr>\n",
       "    <tr>\n",
       "      <th>Comfortable</th>\n",
       "      <td>0.222459</td>\n",
       "      <td>1491</td>\n",
       "      <td>331.687000</td>\n",
       "    </tr>\n",
       "    <tr>\n",
       "      <th rowspan=\"3\" valign=\"top\">2013-01-01 01:00:00</th>\n",
       "      <th>Adversity</th>\n",
       "      <td>0.184186</td>\n",
       "      <td>1802</td>\n",
       "      <td>331.904000</td>\n",
       "    </tr>\n",
       "    <tr>\n",
       "      <th>Affluent</th>\n",
       "      <td>0.239097</td>\n",
       "      <td>2168</td>\n",
       "      <td>518.363000</td>\n",
       "    </tr>\n",
       "    <tr>\n",
       "      <th>Comfortable</th>\n",
       "      <td>0.204080</td>\n",
       "      <td>1491</td>\n",
       "      <td>304.284000</td>\n",
       "    </tr>\n",
       "    <tr>\n",
       "      <th rowspan=\"3\" valign=\"top\">2013-01-01 01:30:00</th>\n",
       "      <th>Adversity</th>\n",
       "      <td>0.166085</td>\n",
       "      <td>1802</td>\n",
       "      <td>1396.811999</td>\n",
       "    </tr>\n",
       "    <tr>\n",
       "      <th>Affluent</th>\n",
       "      <td>0.222950</td>\n",
       "      <td>2168</td>\n",
       "      <td>2179.846001</td>\n",
       "    </tr>\n",
       "    <tr>\n",
       "      <th>Comfortable</th>\n",
       "      <td>0.185404</td>\n",
       "      <td>1491</td>\n",
       "      <td>1271.498999</td>\n",
       "    </tr>\n",
       "    <tr>\n",
       "      <th rowspan=\"3\" valign=\"top\">2013-01-01 02:00:00</th>\n",
       "      <th>Adversity</th>\n",
       "      <td>0.152026</td>\n",
       "      <td>1802</td>\n",
       "      <td>273.950000</td>\n",
       "    </tr>\n",
       "    <tr>\n",
       "      <th>Affluent</th>\n",
       "      <td>0.206345</td>\n",
       "      <td>2168</td>\n",
       "      <td>447.355001</td>\n",
       "    </tr>\n",
       "    <tr>\n",
       "      <th>Comfortable</th>\n",
       "      <td>0.166306</td>\n",
       "      <td>1491</td>\n",
       "      <td>247.962000</td>\n",
       "    </tr>\n",
       "    <tr>\n",
       "      <th rowspan=\"3\" valign=\"top\">2013-01-01 02:30:00</th>\n",
       "      <th>Adversity</th>\n",
       "      <td>0.138388</td>\n",
       "      <td>1802</td>\n",
       "      <td>3342.284999</td>\n",
       "    </tr>\n",
       "    <tr>\n",
       "      <th>Affluent</th>\n",
       "      <td>0.191123</td>\n",
       "      <td>2168</td>\n",
       "      <td>5257.402002</td>\n",
       "    </tr>\n",
       "    <tr>\n",
       "      <th>Comfortable</th>\n",
       "      <td>0.148600</td>\n",
       "      <td>1491</td>\n",
       "      <td>3040.998998</td>\n",
       "    </tr>\n",
       "    <tr>\n",
       "      <th rowspan=\"3\" valign=\"top\">2013-01-01 03:00:00</th>\n",
       "      <th>Adversity</th>\n",
       "      <td>0.125125</td>\n",
       "      <td>1802</td>\n",
       "      <td>225.475000</td>\n",
       "    </tr>\n",
       "    <tr>\n",
       "      <th>Affluent</th>\n",
       "      <td>0.176192</td>\n",
       "      <td>2168</td>\n",
       "      <td>381.985000</td>\n",
       "    </tr>\n",
       "    <tr>\n",
       "      <th>Comfortable</th>\n",
       "      <td>0.139624</td>\n",
       "      <td>1491</td>\n",
       "      <td>208.179000</td>\n",
       "    </tr>\n",
       "    <tr>\n",
       "      <th rowspan=\"3\" valign=\"top\">2013-01-01 03:30:00</th>\n",
       "      <th>Adversity</th>\n",
       "      <td>0.120120</td>\n",
       "      <td>1802</td>\n",
       "      <td>6418.716998</td>\n",
       "    </tr>\n",
       "    <tr>\n",
       "      <th>Affluent</th>\n",
       "      <td>0.166645</td>\n",
       "      <td>2168</td>\n",
       "      <td>10159.451003</td>\n",
       "    </tr>\n",
       "    <tr>\n",
       "      <th>Comfortable</th>\n",
       "      <td>0.129687</td>\n",
       "      <td>1491</td>\n",
       "      <td>5833.550997</td>\n",
       "    </tr>\n",
       "    <tr>\n",
       "      <th rowspan=\"3\" valign=\"top\">2013-01-01 04:00:00</th>\n",
       "      <th>Adversity</th>\n",
       "      <td>0.111574</td>\n",
       "      <td>1802</td>\n",
       "      <td>201.057000</td>\n",
       "    </tr>\n",
       "    <tr>\n",
       "      <th>Affluent</th>\n",
       "      <td>0.157608</td>\n",
       "      <td>2168</td>\n",
       "      <td>341.694000</td>\n",
       "    </tr>\n",
       "    <tr>\n",
       "      <th>Comfortable</th>\n",
       "      <td>0.124264</td>\n",
       "      <td>1491</td>\n",
       "      <td>185.277000</td>\n",
       "    </tr>\n",
       "    <tr>\n",
       "      <th rowspan=\"3\" valign=\"top\">2013-01-01 04:30:00</th>\n",
       "      <th>Adversity</th>\n",
       "      <td>0.104656</td>\n",
       "      <td>1802</td>\n",
       "      <td>10814.698996</td>\n",
       "    </tr>\n",
       "    <tr>\n",
       "      <th>Affluent</th>\n",
       "      <td>0.154741</td>\n",
       "      <td>2168</td>\n",
       "      <td>17221.472004</td>\n",
       "    </tr>\n",
       "    <tr>\n",
       "      <th>Comfortable</th>\n",
       "      <td>0.121266</td>\n",
       "      <td>1491</td>\n",
       "      <td>9829.961995</td>\n",
       "    </tr>\n",
       "  </tbody>\n",
       "</table>\n",
       "</div>"
      ],
      "text/plain": [
       "                                   KWH/hh (per half hour)   LCLid  \\\n",
       "DateTime            Acorn_grouped                                   \n",
       "2013-01-01 00:00:00 Adversity                     0.214885   1801   \n",
       "                    Affluent                      0.284734   2168   \n",
       "                    Comfortable                   0.244850   1491   \n",
       "2013-01-01 00:30:00 Adversity                     0.203020   1802   \n",
       "                    Affluent                      0.260838   2168   \n",
       "                    Comfortable                   0.222459   1491   \n",
       "2013-01-01 01:00:00 Adversity                     0.184186   1802   \n",
       "                    Affluent                      0.239097   2168   \n",
       "                    Comfortable                   0.204080   1491   \n",
       "2013-01-01 01:30:00 Adversity                     0.166085   1802   \n",
       "                    Affluent                      0.222950   2168   \n",
       "                    Comfortable                   0.185404   1491   \n",
       "2013-01-01 02:00:00 Adversity                     0.152026   1802   \n",
       "                    Affluent                      0.206345   2168   \n",
       "                    Comfortable                   0.166306   1491   \n",
       "2013-01-01 02:30:00 Adversity                     0.138388   1802   \n",
       "                    Affluent                      0.191123   2168   \n",
       "                    Comfortable                   0.148600   1491   \n",
       "2013-01-01 03:00:00 Adversity                     0.125125   1802   \n",
       "                    Affluent                      0.176192   2168   \n",
       "                    Comfortable                   0.139624   1491   \n",
       "2013-01-01 03:30:00 Adversity                     0.120120   1802   \n",
       "                    Affluent                      0.166645   2168   \n",
       "                    Comfortable                   0.129687   1491   \n",
       "2013-01-01 04:00:00 Adversity                     0.111574   1802   \n",
       "                    Affluent                      0.157608   2168   \n",
       "                    Comfortable                   0.124264   1491   \n",
       "2013-01-01 04:30:00 Adversity                     0.104656   1802   \n",
       "                    Affluent                      0.154741   2168   \n",
       "                    Comfortable                   0.121266   1491   \n",
       "\n",
       "                                     energy_sum  \n",
       "DateTime            Acorn_grouped                \n",
       "2013-01-01 00:00:00 Adversity        387.007000  \n",
       "                    Affluent         617.303000  \n",
       "                    Comfortable      365.072000  \n",
       "2013-01-01 00:30:00 Adversity        365.842000  \n",
       "                    Affluent         565.497001  \n",
       "                    Comfortable      331.687000  \n",
       "2013-01-01 01:00:00 Adversity        331.904000  \n",
       "                    Affluent         518.363000  \n",
       "                    Comfortable      304.284000  \n",
       "2013-01-01 01:30:00 Adversity       1396.811999  \n",
       "                    Affluent        2179.846001  \n",
       "                    Comfortable     1271.498999  \n",
       "2013-01-01 02:00:00 Adversity        273.950000  \n",
       "                    Affluent         447.355001  \n",
       "                    Comfortable      247.962000  \n",
       "2013-01-01 02:30:00 Adversity       3342.284999  \n",
       "                    Affluent        5257.402002  \n",
       "                    Comfortable     3040.998998  \n",
       "2013-01-01 03:00:00 Adversity        225.475000  \n",
       "                    Affluent         381.985000  \n",
       "                    Comfortable      208.179000  \n",
       "2013-01-01 03:30:00 Adversity       6418.716998  \n",
       "                    Affluent       10159.451003  \n",
       "                    Comfortable     5833.550997  \n",
       "2013-01-01 04:00:00 Adversity        201.057000  \n",
       "                    Affluent         341.694000  \n",
       "                    Comfortable      185.277000  \n",
       "2013-01-01 04:30:00 Adversity      10814.698996  \n",
       "                    Affluent       17221.472004  \n",
       "                    Comfortable     9829.961995  "
      ]
     },
     "execution_count": 182,
     "metadata": {},
     "output_type": "execute_result"
    }
   ],
   "source": [
    "smalldata"
   ]
  },
  {
   "cell_type": "code",
   "execution_count": 181,
   "metadata": {
    "collapsed": false
   },
   "outputs": [
    {
     "name": "stderr",
     "output_type": "stream",
     "text": [
      "C:\\Users\\Hrafnkell\\Anaconda2\\lib\\site-packages\\ipykernel\\__main__.py:4: SettingWithCopyWarning: \n",
      "A value is trying to be set on a copy of a slice from a DataFrame\n",
      "\n",
      "See the caveats in the documentation: http://pandas.pydata.org/pandas-docs/stable/indexing.html#indexing-view-versus-copy\n"
     ]
    }
   ],
   "source": [
    "for n,i in enumerate(smalldata.index):\n",
    "        if i[0][-5:-3] == '30':\n",
    "            if len(smalldata) - n > 6:  \n",
    "                smalldata.energy_sum[n+6] = smalldata.energy_sum[n+6] + smalldata.energy_sum[n]"
   ]
  },
  {
   "cell_type": "code",
   "execution_count": 172,
   "metadata": {
    "collapsed": false
   },
   "outputs": [
    {
     "data": {
      "text/plain": [
       "('2013-01-01 01:30:00', 'Affluent')"
      ]
     },
     "execution_count": 172,
     "metadata": {},
     "output_type": "execute_result"
    }
   ],
   "source": [
    "data.index[10]"
   ]
  },
  {
   "cell_type": "code",
   "execution_count": 173,
   "metadata": {
    "collapsed": false
   },
   "outputs": [
    {
     "data": {
      "text/plain": [
       "'30'"
      ]
     },
     "execution_count": 173,
     "metadata": {},
     "output_type": "execute_result"
    }
   ],
   "source": [
    "data.index[10][0][-5:-3]"
   ]
  },
  {
   "cell_type": "code",
   "execution_count": 156,
   "metadata": {
    "collapsed": false
   },
   "outputs": [],
   "source": [
    "# adding :30 data to :00 data\n",
    "# this loop takes a while\n",
    "def calc_hourly(df):\n",
    "    for n,i in enumerate(df.index):\n",
    "        if i[0][-5:-3] == '30':\n",
    "            if len(df) - n > 6:  \n",
    "                df.energy_sum[n+6] = df.energy_sum[n+6] + df.energy_sum[n]\n",
    "    return df\n",
    "            \n",
    "# dropping :30 data\n",
    "# this loop (predictably) also takes a while\n",
    "def drop_half_hour(df):\n",
    "    for i in df.index:\n",
    "        if i[0][-5:-3] == '30':\n",
    "            df.drop(i, inplace=True)\n",
    "    return df"
   ]
  },
  {
   "cell_type": "code",
   "execution_count": 52,
   "metadata": {
    "collapsed": false
   },
   "outputs": [
    {
     "data": {
      "text/html": [
       "<div>\n",
       "<table border=\"1\" class=\"dataframe\">\n",
       "  <thead>\n",
       "    <tr style=\"text-align: right;\">\n",
       "      <th></th>\n",
       "      <th></th>\n",
       "      <th></th>\n",
       "      <th>KWH/hh (per half hour)</th>\n",
       "      <th>LCLid</th>\n",
       "      <th>energy_sum</th>\n",
       "    </tr>\n",
       "    <tr>\n",
       "      <th>DateTime</th>\n",
       "      <th>Acorn_grouped</th>\n",
       "      <th>stdorToU</th>\n",
       "      <th></th>\n",
       "      <th></th>\n",
       "      <th></th>\n",
       "    </tr>\n",
       "  </thead>\n",
       "  <tbody>\n",
       "    <tr>\n",
       "      <th rowspan=\"6\" valign=\"top\">2012-03-31 23:00:00</th>\n",
       "      <th rowspan=\"2\" valign=\"top\">Adversity</th>\n",
       "      <th>Std</th>\n",
       "      <td>0.156160</td>\n",
       "      <td>269</td>\n",
       "      <td>42.007052</td>\n",
       "    </tr>\n",
       "    <tr>\n",
       "      <th>ToU</th>\n",
       "      <td>0.162066</td>\n",
       "      <td>44</td>\n",
       "      <td>7.130900</td>\n",
       "    </tr>\n",
       "    <tr>\n",
       "      <th rowspan=\"2\" valign=\"top\">Affluent</th>\n",
       "      <th>Std</th>\n",
       "      <td>0.214208</td>\n",
       "      <td>540</td>\n",
       "      <td>115.672533</td>\n",
       "    </tr>\n",
       "    <tr>\n",
       "      <th>ToU</th>\n",
       "      <td>0.203554</td>\n",
       "      <td>113</td>\n",
       "      <td>23.001567</td>\n",
       "    </tr>\n",
       "    <tr>\n",
       "      <th rowspan=\"2\" valign=\"top\">Comfortable</th>\n",
       "      <th>Std</th>\n",
       "      <td>0.153119</td>\n",
       "      <td>211</td>\n",
       "      <td>32.308005</td>\n",
       "    </tr>\n",
       "    <tr>\n",
       "      <th>ToU</th>\n",
       "      <td>0.212259</td>\n",
       "      <td>49</td>\n",
       "      <td>10.400701</td>\n",
       "    </tr>\n",
       "    <tr>\n",
       "      <th rowspan=\"6\" valign=\"top\">2012-03-31 23:30:00</th>\n",
       "      <th rowspan=\"2\" valign=\"top\">Adversity</th>\n",
       "      <th>Std</th>\n",
       "      <td>0.146916</td>\n",
       "      <td>269</td>\n",
       "      <td>39.520393</td>\n",
       "    </tr>\n",
       "    <tr>\n",
       "      <th>ToU</th>\n",
       "      <td>0.176337</td>\n",
       "      <td>44</td>\n",
       "      <td>7.758833</td>\n",
       "    </tr>\n",
       "    <tr>\n",
       "      <th rowspan=\"2\" valign=\"top\">Affluent</th>\n",
       "      <th>Std</th>\n",
       "      <td>0.202857</td>\n",
       "      <td>540</td>\n",
       "      <td>109.542588</td>\n",
       "    </tr>\n",
       "    <tr>\n",
       "      <th>ToU</th>\n",
       "      <td>0.179605</td>\n",
       "      <td>113</td>\n",
       "      <td>20.295406</td>\n",
       "    </tr>\n",
       "    <tr>\n",
       "      <th rowspan=\"2\" valign=\"top\">Comfortable</th>\n",
       "      <th>Std</th>\n",
       "      <td>0.133600</td>\n",
       "      <td>211</td>\n",
       "      <td>28.189589</td>\n",
       "    </tr>\n",
       "    <tr>\n",
       "      <th>ToU</th>\n",
       "      <td>0.181256</td>\n",
       "      <td>49</td>\n",
       "      <td>8.881532</td>\n",
       "    </tr>\n",
       "  </tbody>\n",
       "</table>\n",
       "</div>"
      ],
      "text/plain": [
       "                                            KWH/hh (per half hour)   LCLid  \\\n",
       "DateTime            Acorn_grouped stdorToU                                   \n",
       "2012-03-31 23:00:00 Adversity     Std                      0.156160    269   \n",
       "                                  ToU                      0.162066     44   \n",
       "                    Affluent      Std                      0.214208    540   \n",
       "                                  ToU                      0.203554    113   \n",
       "                    Comfortable   Std                      0.153119    211   \n",
       "                                  ToU                      0.212259     49   \n",
       "2012-03-31 23:30:00 Adversity     Std                      0.146916    269   \n",
       "                                  ToU                      0.176337     44   \n",
       "                    Affluent      Std                      0.202857    540   \n",
       "                                  ToU                      0.179605    113   \n",
       "                    Comfortable   Std                      0.133600    211   \n",
       "                                  ToU                      0.181256     49   \n",
       "\n",
       "                                            energy_sum  \n",
       "DateTime            Acorn_grouped stdorToU              \n",
       "2012-03-31 23:00:00 Adversity     Std        42.007052  \n",
       "                                  ToU         7.130900  \n",
       "                    Affluent      Std       115.672533  \n",
       "                                  ToU        23.001567  \n",
       "                    Comfortable   Std        32.308005  \n",
       "                                  ToU        10.400701  \n",
       "2012-03-31 23:30:00 Adversity     Std        39.520393  \n",
       "                                  ToU         7.758833  \n",
       "                    Affluent      Std       109.542588  \n",
       "                                  ToU        20.295406  \n",
       "                    Comfortable   Std        28.189589  \n",
       "                                  ToU         8.881532  "
      ]
     },
     "execution_count": 52,
     "metadata": {},
     "output_type": "execute_result"
    }
   ],
   "source": [
    "data.tail(12)"
   ]
  },
  {
   "cell_type": "code",
   "execution_count": 157,
   "metadata": {
    "collapsed": false,
    "scrolled": false
   },
   "outputs": [
    {
     "name": "stderr",
     "output_type": "stream",
     "text": [
      "C:\\Users\\Hrafnkell\\Anaconda2\\lib\\site-packages\\ipykernel\\__main__.py:7: SettingWithCopyWarning: \n",
      "A value is trying to be set on a copy of a slice from a DataFrame\n",
      "\n",
      "See the caveats in the documentation: http://pandas.pydata.org/pandas-docs/stable/indexing.html#indexing-view-versus-copy\n"
     ]
    }
   ],
   "source": [
    "# adding :30 data to :00 data\n",
    "# this takes a while\n",
    "data_hourly = calc_hourly(data)"
   ]
  },
  {
   "cell_type": "code",
   "execution_count": 159,
   "metadata": {
    "collapsed": false
   },
   "outputs": [
    {
     "data": {
      "text/html": [
       "<div>\n",
       "<table border=\"1\" class=\"dataframe\">\n",
       "  <thead>\n",
       "    <tr style=\"text-align: right;\">\n",
       "      <th></th>\n",
       "      <th></th>\n",
       "      <th>KWH/hh (per half hour)</th>\n",
       "      <th>LCLid</th>\n",
       "      <th>energy_sum</th>\n",
       "    </tr>\n",
       "    <tr>\n",
       "      <th>DateTime</th>\n",
       "      <th>Acorn_grouped</th>\n",
       "      <th></th>\n",
       "      <th></th>\n",
       "      <th></th>\n",
       "    </tr>\n",
       "  </thead>\n",
       "  <tbody>\n",
       "    <tr>\n",
       "      <th rowspan=\"3\" valign=\"top\">2013-01-01 00:00:00</th>\n",
       "      <th>Adversity</th>\n",
       "      <td>0.214885</td>\n",
       "      <td>1801</td>\n",
       "      <td>387.007000</td>\n",
       "    </tr>\n",
       "    <tr>\n",
       "      <th>Affluent</th>\n",
       "      <td>0.284734</td>\n",
       "      <td>2168</td>\n",
       "      <td>617.303000</td>\n",
       "    </tr>\n",
       "    <tr>\n",
       "      <th>Comfortable</th>\n",
       "      <td>0.244850</td>\n",
       "      <td>1491</td>\n",
       "      <td>365.072000</td>\n",
       "    </tr>\n",
       "    <tr>\n",
       "      <th rowspan=\"3\" valign=\"top\">2013-01-01 00:30:00</th>\n",
       "      <th>Adversity</th>\n",
       "      <td>0.203020</td>\n",
       "      <td>1802</td>\n",
       "      <td>365.842000</td>\n",
       "    </tr>\n",
       "    <tr>\n",
       "      <th>Affluent</th>\n",
       "      <td>0.260838</td>\n",
       "      <td>2168</td>\n",
       "      <td>565.497001</td>\n",
       "    </tr>\n",
       "    <tr>\n",
       "      <th>Comfortable</th>\n",
       "      <td>0.222459</td>\n",
       "      <td>1491</td>\n",
       "      <td>331.687000</td>\n",
       "    </tr>\n",
       "    <tr>\n",
       "      <th rowspan=\"3\" valign=\"top\">2013-01-01 01:00:00</th>\n",
       "      <th>Adversity</th>\n",
       "      <td>0.184186</td>\n",
       "      <td>1802</td>\n",
       "      <td>331.904000</td>\n",
       "    </tr>\n",
       "    <tr>\n",
       "      <th>Affluent</th>\n",
       "      <td>0.239097</td>\n",
       "      <td>2168</td>\n",
       "      <td>518.363000</td>\n",
       "    </tr>\n",
       "    <tr>\n",
       "      <th>Comfortable</th>\n",
       "      <td>0.204080</td>\n",
       "      <td>1491</td>\n",
       "      <td>304.284000</td>\n",
       "    </tr>\n",
       "    <tr>\n",
       "      <th rowspan=\"3\" valign=\"top\">2013-01-01 01:30:00</th>\n",
       "      <th>Adversity</th>\n",
       "      <td>0.166085</td>\n",
       "      <td>1802</td>\n",
       "      <td>665.128000</td>\n",
       "    </tr>\n",
       "    <tr>\n",
       "      <th>Affluent</th>\n",
       "      <td>0.222950</td>\n",
       "      <td>2168</td>\n",
       "      <td>1048.852000</td>\n",
       "    </tr>\n",
       "    <tr>\n",
       "      <th>Comfortable</th>\n",
       "      <td>0.185404</td>\n",
       "      <td>1491</td>\n",
       "      <td>608.125000</td>\n",
       "    </tr>\n",
       "  </tbody>\n",
       "</table>\n",
       "</div>"
      ],
      "text/plain": [
       "                                   KWH/hh (per half hour)   LCLid   energy_sum\n",
       "DateTime            Acorn_grouped                                             \n",
       "2013-01-01 00:00:00 Adversity                     0.214885   1801   387.007000\n",
       "                    Affluent                      0.284734   2168   617.303000\n",
       "                    Comfortable                   0.244850   1491   365.072000\n",
       "2013-01-01 00:30:00 Adversity                     0.203020   1802   365.842000\n",
       "                    Affluent                      0.260838   2168   565.497001\n",
       "                    Comfortable                   0.222459   1491   331.687000\n",
       "2013-01-01 01:00:00 Adversity                     0.184186   1802   331.904000\n",
       "                    Affluent                      0.239097   2168   518.363000\n",
       "                    Comfortable                   0.204080   1491   304.284000\n",
       "2013-01-01 01:30:00 Adversity                     0.166085   1802   665.128000\n",
       "                    Affluent                      0.222950   2168  1048.852000\n",
       "                    Comfortable                   0.185404   1491   608.125000"
      ]
     },
     "execution_count": 159,
     "metadata": {},
     "output_type": "execute_result"
    }
   ],
   "source": [
    "data.head(12)"
   ]
  },
  {
   "cell_type": "code",
   "execution_count": 158,
   "metadata": {
    "collapsed": false
   },
   "outputs": [
    {
     "data": {
      "text/html": [
       "<div>\n",
       "<table border=\"1\" class=\"dataframe\">\n",
       "  <thead>\n",
       "    <tr style=\"text-align: right;\">\n",
       "      <th></th>\n",
       "      <th></th>\n",
       "      <th>KWH/hh (per half hour)</th>\n",
       "      <th>LCLid</th>\n",
       "      <th>energy_sum</th>\n",
       "    </tr>\n",
       "    <tr>\n",
       "      <th>DateTime</th>\n",
       "      <th>Acorn_grouped</th>\n",
       "      <th></th>\n",
       "      <th></th>\n",
       "      <th></th>\n",
       "    </tr>\n",
       "  </thead>\n",
       "  <tbody>\n",
       "    <tr>\n",
       "      <th rowspan=\"3\" valign=\"top\">2013-01-01 00:00:00</th>\n",
       "      <th>Adversity</th>\n",
       "      <td>0.214885</td>\n",
       "      <td>1801</td>\n",
       "      <td>387.007000</td>\n",
       "    </tr>\n",
       "    <tr>\n",
       "      <th>Affluent</th>\n",
       "      <td>0.284734</td>\n",
       "      <td>2168</td>\n",
       "      <td>617.303000</td>\n",
       "    </tr>\n",
       "    <tr>\n",
       "      <th>Comfortable</th>\n",
       "      <td>0.244850</td>\n",
       "      <td>1491</td>\n",
       "      <td>365.072000</td>\n",
       "    </tr>\n",
       "    <tr>\n",
       "      <th rowspan=\"3\" valign=\"top\">2013-01-01 00:30:00</th>\n",
       "      <th>Adversity</th>\n",
       "      <td>0.203020</td>\n",
       "      <td>1802</td>\n",
       "      <td>365.842000</td>\n",
       "    </tr>\n",
       "    <tr>\n",
       "      <th>Affluent</th>\n",
       "      <td>0.260838</td>\n",
       "      <td>2168</td>\n",
       "      <td>565.497001</td>\n",
       "    </tr>\n",
       "    <tr>\n",
       "      <th>Comfortable</th>\n",
       "      <td>0.222459</td>\n",
       "      <td>1491</td>\n",
       "      <td>331.687000</td>\n",
       "    </tr>\n",
       "    <tr>\n",
       "      <th rowspan=\"3\" valign=\"top\">2013-01-01 01:00:00</th>\n",
       "      <th>Adversity</th>\n",
       "      <td>0.184186</td>\n",
       "      <td>1802</td>\n",
       "      <td>331.904000</td>\n",
       "    </tr>\n",
       "    <tr>\n",
       "      <th>Affluent</th>\n",
       "      <td>0.239097</td>\n",
       "      <td>2168</td>\n",
       "      <td>518.363000</td>\n",
       "    </tr>\n",
       "    <tr>\n",
       "      <th>Comfortable</th>\n",
       "      <td>0.204080</td>\n",
       "      <td>1491</td>\n",
       "      <td>304.284000</td>\n",
       "    </tr>\n",
       "    <tr>\n",
       "      <th rowspan=\"3\" valign=\"top\">2013-01-01 01:30:00</th>\n",
       "      <th>Adversity</th>\n",
       "      <td>0.166085</td>\n",
       "      <td>1802</td>\n",
       "      <td>665.128000</td>\n",
       "    </tr>\n",
       "    <tr>\n",
       "      <th>Affluent</th>\n",
       "      <td>0.222950</td>\n",
       "      <td>2168</td>\n",
       "      <td>1048.852000</td>\n",
       "    </tr>\n",
       "    <tr>\n",
       "      <th>Comfortable</th>\n",
       "      <td>0.185404</td>\n",
       "      <td>1491</td>\n",
       "      <td>608.125000</td>\n",
       "    </tr>\n",
       "  </tbody>\n",
       "</table>\n",
       "</div>"
      ],
      "text/plain": [
       "                                   KWH/hh (per half hour)   LCLid   energy_sum\n",
       "DateTime            Acorn_grouped                                             \n",
       "2013-01-01 00:00:00 Adversity                     0.214885   1801   387.007000\n",
       "                    Affluent                      0.284734   2168   617.303000\n",
       "                    Comfortable                   0.244850   1491   365.072000\n",
       "2013-01-01 00:30:00 Adversity                     0.203020   1802   365.842000\n",
       "                    Affluent                      0.260838   2168   565.497001\n",
       "                    Comfortable                   0.222459   1491   331.687000\n",
       "2013-01-01 01:00:00 Adversity                     0.184186   1802   331.904000\n",
       "                    Affluent                      0.239097   2168   518.363000\n",
       "                    Comfortable                   0.204080   1491   304.284000\n",
       "2013-01-01 01:30:00 Adversity                     0.166085   1802   665.128000\n",
       "                    Affluent                      0.222950   2168  1048.852000\n",
       "                    Comfortable                   0.185404   1491   608.125000"
      ]
     },
     "execution_count": 158,
     "metadata": {},
     "output_type": "execute_result"
    }
   ],
   "source": [
    "data_hourly.head(12)"
   ]
  },
  {
   "cell_type": "code",
   "execution_count": 54,
   "metadata": {
    "collapsed": true
   },
   "outputs": [],
   "source": [
    "# dropping :30 data\n",
    "# this (predictably) also takes a while\n",
    "data_hourly = drop_half_hour(data_hourly)"
   ]
  },
  {
   "cell_type": "code",
   "execution_count": 55,
   "metadata": {
    "collapsed": true
   },
   "outputs": [],
   "source": [
    "data_hourly['KWH/h (per hour)'] = data.energy_sum / data.LCLid\n",
    "data_hourly.drop(['KWH/hh (per half hour) ', 'energy_sum'], axis=1, inplace=True)\n",
    "data_hourly.rename(columns={\"KWH/h (per hour)\": \"nrg_cons\", \"LCLid\": \"N\"}, inplace=True)"
   ]
  },
  {
   "cell_type": "code",
   "execution_count": 56,
   "metadata": {
    "collapsed": true
   },
   "outputs": [],
   "source": [
    "# make sure to give the output file the right name\n",
    "# output = 'C:\\\\Users\\\\Hrafnkell\\\\Documents\\\\GitHub\\\\Taming-the-Peak\\\\Final_Data\\\\energy_hourly_2011_12.csv'\n",
    "\n",
    "data_hourly.to_csv(output)"
   ]
  },
  {
   "cell_type": "code",
   "execution_count": 11,
   "metadata": {
    "collapsed": true
   },
   "outputs": [],
   "source": [
    "data_hourly = pd.read_csv('C:\\\\Users\\\\Hrafnkell\\\\Documents\\\\GitHub\\\\Taming-the-Peak\\\\Final_Data\\\\energy_hourly_2012_13.csv')"
   ]
  },
  {
   "cell_type": "code",
   "execution_count": 12,
   "metadata": {
    "collapsed": false
   },
   "outputs": [
    {
     "data": {
      "text/html": [
       "<div>\n",
       "<table border=\"1\" class=\"dataframe\">\n",
       "  <thead>\n",
       "    <tr style=\"text-align: right;\">\n",
       "      <th></th>\n",
       "      <th>DateTime</th>\n",
       "      <th>Acorn_grouped</th>\n",
       "      <th>stdorToU</th>\n",
       "      <th>N</th>\n",
       "      <th>nrg_cons</th>\n",
       "    </tr>\n",
       "  </thead>\n",
       "  <tbody>\n",
       "    <tr>\n",
       "      <th>17412</th>\n",
       "      <td>2013-03-31 22:00:00</td>\n",
       "      <td>Adversity</td>\n",
       "      <td>Std</td>\n",
       "      <td>1469</td>\n",
       "      <td>0.478732</td>\n",
       "    </tr>\n",
       "    <tr>\n",
       "      <th>17413</th>\n",
       "      <td>2013-03-31 22:00:00</td>\n",
       "      <td>Adversity</td>\n",
       "      <td>ToU</td>\n",
       "      <td>290</td>\n",
       "      <td>0.494667</td>\n",
       "    </tr>\n",
       "    <tr>\n",
       "      <th>17414</th>\n",
       "      <td>2013-03-31 22:00:00</td>\n",
       "      <td>Affluent</td>\n",
       "      <td>Std</td>\n",
       "      <td>1639</td>\n",
       "      <td>0.836877</td>\n",
       "    </tr>\n",
       "    <tr>\n",
       "      <th>17415</th>\n",
       "      <td>2013-03-31 22:00:00</td>\n",
       "      <td>Affluent</td>\n",
       "      <td>ToU</td>\n",
       "      <td>482</td>\n",
       "      <td>0.753179</td>\n",
       "    </tr>\n",
       "    <tr>\n",
       "      <th>17416</th>\n",
       "      <td>2013-03-31 22:00:00</td>\n",
       "      <td>Comfortable</td>\n",
       "      <td>Std</td>\n",
       "      <td>1158</td>\n",
       "      <td>0.620571</td>\n",
       "    </tr>\n",
       "    <tr>\n",
       "      <th>17417</th>\n",
       "      <td>2013-03-31 22:00:00</td>\n",
       "      <td>Comfortable</td>\n",
       "      <td>ToU</td>\n",
       "      <td>317</td>\n",
       "      <td>0.534165</td>\n",
       "    </tr>\n",
       "    <tr>\n",
       "      <th>17418</th>\n",
       "      <td>2013-03-31 23:00:00</td>\n",
       "      <td>Adversity</td>\n",
       "      <td>Std</td>\n",
       "      <td>1469</td>\n",
       "      <td>0.393757</td>\n",
       "    </tr>\n",
       "    <tr>\n",
       "      <th>17419</th>\n",
       "      <td>2013-03-31 23:00:00</td>\n",
       "      <td>Adversity</td>\n",
       "      <td>ToU</td>\n",
       "      <td>290</td>\n",
       "      <td>0.430765</td>\n",
       "    </tr>\n",
       "    <tr>\n",
       "      <th>17420</th>\n",
       "      <td>2013-03-31 23:00:00</td>\n",
       "      <td>Affluent</td>\n",
       "      <td>Std</td>\n",
       "      <td>1639</td>\n",
       "      <td>0.674796</td>\n",
       "    </tr>\n",
       "    <tr>\n",
       "      <th>17421</th>\n",
       "      <td>2013-03-31 23:00:00</td>\n",
       "      <td>Affluent</td>\n",
       "      <td>ToU</td>\n",
       "      <td>482</td>\n",
       "      <td>0.605012</td>\n",
       "    </tr>\n",
       "    <tr>\n",
       "      <th>17422</th>\n",
       "      <td>2013-03-31 23:00:00</td>\n",
       "      <td>Comfortable</td>\n",
       "      <td>Std</td>\n",
       "      <td>1158</td>\n",
       "      <td>0.462319</td>\n",
       "    </tr>\n",
       "    <tr>\n",
       "      <th>17423</th>\n",
       "      <td>2013-03-31 23:00:00</td>\n",
       "      <td>Comfortable</td>\n",
       "      <td>ToU</td>\n",
       "      <td>317</td>\n",
       "      <td>0.454068</td>\n",
       "    </tr>\n",
       "  </tbody>\n",
       "</table>\n",
       "</div>"
      ],
      "text/plain": [
       "                  DateTime Acorn_grouped stdorToU     N  nrg_cons\n",
       "17412  2013-03-31 22:00:00     Adversity      Std  1469  0.478732\n",
       "17413  2013-03-31 22:00:00     Adversity      ToU   290  0.494667\n",
       "17414  2013-03-31 22:00:00      Affluent      Std  1639  0.836877\n",
       "17415  2013-03-31 22:00:00      Affluent      ToU   482  0.753179\n",
       "17416  2013-03-31 22:00:00   Comfortable      Std  1158  0.620571\n",
       "17417  2013-03-31 22:00:00   Comfortable      ToU   317  0.534165\n",
       "17418  2013-03-31 23:00:00     Adversity      Std  1469  0.393757\n",
       "17419  2013-03-31 23:00:00     Adversity      ToU   290  0.430765\n",
       "17420  2013-03-31 23:00:00      Affluent      Std  1639  0.674796\n",
       "17421  2013-03-31 23:00:00      Affluent      ToU   482  0.605012\n",
       "17422  2013-03-31 23:00:00   Comfortable      Std  1158  0.462319\n",
       "17423  2013-03-31 23:00:00   Comfortable      ToU   317  0.454068"
      ]
     },
     "execution_count": 12,
     "metadata": {},
     "output_type": "execute_result"
    }
   ],
   "source": [
    "data_hourly.tail(12)"
   ]
  },
  {
   "cell_type": "code",
   "execution_count": 13,
   "metadata": {
    "collapsed": false
   },
   "outputs": [
    {
     "data": {
      "text/html": [
       "<div>\n",
       "<table border=\"1\" class=\"dataframe\">\n",
       "  <thead>\n",
       "    <tr style=\"text-align: right;\">\n",
       "      <th></th>\n",
       "      <th></th>\n",
       "      <th>nrg_cons</th>\n",
       "    </tr>\n",
       "    <tr>\n",
       "      <th>DateTime</th>\n",
       "      <th>Acorn_grouped</th>\n",
       "      <th></th>\n",
       "    </tr>\n",
       "  </thead>\n",
       "  <tbody>\n",
       "    <tr>\n",
       "      <th rowspan=\"3\" valign=\"top\">2012-12-01 00:00:00</th>\n",
       "      <th>Adversity</th>\n",
       "      <td>0.182274</td>\n",
       "    </tr>\n",
       "    <tr>\n",
       "      <th>Affluent</th>\n",
       "      <td>0.292200</td>\n",
       "    </tr>\n",
       "    <tr>\n",
       "      <th>Comfortable</th>\n",
       "      <td>0.216309</td>\n",
       "    </tr>\n",
       "    <tr>\n",
       "      <th rowspan=\"3\" valign=\"top\">2012-12-01 01:00:00</th>\n",
       "      <th>Adversity</th>\n",
       "      <td>0.420802</td>\n",
       "    </tr>\n",
       "    <tr>\n",
       "      <th>Affluent</th>\n",
       "      <td>0.472136</td>\n",
       "    </tr>\n",
       "    <tr>\n",
       "      <th>Comfortable</th>\n",
       "      <td>0.479867</td>\n",
       "    </tr>\n",
       "  </tbody>\n",
       "</table>\n",
       "</div>"
      ],
      "text/plain": [
       "                                   nrg_cons\n",
       "DateTime            Acorn_grouped          \n",
       "2012-12-01 00:00:00 Adversity      0.182274\n",
       "                    Affluent       0.292200\n",
       "                    Comfortable    0.216309\n",
       "2012-12-01 01:00:00 Adversity      0.420802\n",
       "                    Affluent       0.472136\n",
       "                    Comfortable    0.479867"
      ]
     },
     "execution_count": 13,
     "metadata": {},
     "output_type": "execute_result"
    }
   ],
   "source": [
    "# Define a lambda function to compute the weighted mean:\n",
    "wm = lambda x: np.average(x, weights=data_hourly.loc[x.index, \"N\"])\n",
    "\n",
    "# Define a dictionary with the functions to apply for a given column:\n",
    "f = {'nrg_cons': wm}\n",
    "\n",
    "# Groupby and aggregate with your dictionary:\n",
    "df_grouped = data_hourly.groupby([\"DateTime\", \"Acorn_grouped\"]).agg(f)\n",
    "\n",
    "df_grouped.head(6)"
   ]
  },
  {
   "cell_type": "code",
   "execution_count": 14,
   "metadata": {
    "collapsed": false
   },
   "outputs": [
    {
     "data": {
      "text/plain": [
       "('nrg_cons', 'Affluent')"
      ]
     },
     "execution_count": 14,
     "metadata": {},
     "output_type": "execute_result"
    }
   ],
   "source": [
    "df_grouped.unstack(1).columns[1]"
   ]
  },
  {
   "cell_type": "code",
   "execution_count": 15,
   "metadata": {
    "collapsed": false
   },
   "outputs": [
    {
     "data": {
      "text/html": [
       "<div>\n",
       "<table border=\"1\" class=\"dataframe\">\n",
       "  <thead>\n",
       "    <tr>\n",
       "      <th></th>\n",
       "      <th colspan=\"3\" halign=\"left\">nrg_cons</th>\n",
       "    </tr>\n",
       "    <tr>\n",
       "      <th>Acorn_grouped</th>\n",
       "      <th>Adversity</th>\n",
       "      <th>Affluent</th>\n",
       "      <th>Comfortable</th>\n",
       "    </tr>\n",
       "    <tr>\n",
       "      <th>DateTime</th>\n",
       "      <th></th>\n",
       "      <th></th>\n",
       "      <th></th>\n",
       "    </tr>\n",
       "  </thead>\n",
       "  <tbody>\n",
       "    <tr>\n",
       "      <th>2012-12-01 00:00:00</th>\n",
       "      <td>0.182274</td>\n",
       "      <td>0.292200</td>\n",
       "      <td>0.216309</td>\n",
       "    </tr>\n",
       "    <tr>\n",
       "      <th>2012-12-01 01:00:00</th>\n",
       "      <td>0.420802</td>\n",
       "      <td>0.472136</td>\n",
       "      <td>0.479867</td>\n",
       "    </tr>\n",
       "    <tr>\n",
       "      <th>2012-12-01 02:00:00</th>\n",
       "      <td>0.332003</td>\n",
       "      <td>0.379601</td>\n",
       "      <td>0.374745</td>\n",
       "    </tr>\n",
       "    <tr>\n",
       "      <th>2012-12-01 03:00:00</th>\n",
       "      <td>0.276788</td>\n",
       "      <td>0.347464</td>\n",
       "      <td>0.312078</td>\n",
       "    </tr>\n",
       "    <tr>\n",
       "      <th>2012-12-01 04:00:00</th>\n",
       "      <td>0.251663</td>\n",
       "      <td>0.343927</td>\n",
       "      <td>0.295329</td>\n",
       "    </tr>\n",
       "    <tr>\n",
       "      <th>2012-12-01 05:00:00</th>\n",
       "      <td>0.250724</td>\n",
       "      <td>0.341324</td>\n",
       "      <td>0.291761</td>\n",
       "    </tr>\n",
       "  </tbody>\n",
       "</table>\n",
       "</div>"
      ],
      "text/plain": [
       "                     nrg_cons                      \n",
       "Acorn_grouped       Adversity  Affluent Comfortable\n",
       "DateTime                                           \n",
       "2012-12-01 00:00:00  0.182274  0.292200    0.216309\n",
       "2012-12-01 01:00:00  0.420802  0.472136    0.479867\n",
       "2012-12-01 02:00:00  0.332003  0.379601    0.374745\n",
       "2012-12-01 03:00:00  0.276788  0.347464    0.312078\n",
       "2012-12-01 04:00:00  0.251663  0.343927    0.295329\n",
       "2012-12-01 05:00:00  0.250724  0.341324    0.291761"
      ]
     },
     "execution_count": 15,
     "metadata": {},
     "output_type": "execute_result"
    }
   ],
   "source": [
    "nrg_regress = df_grouped.unstack(1)\n",
    "nrg_regress.head(6)"
   ]
  },
  {
   "cell_type": "code",
   "execution_count": 16,
   "metadata": {
    "collapsed": false
   },
   "outputs": [
    {
     "data": {
      "text/html": [
       "<div>\n",
       "<table border=\"1\" class=\"dataframe\">\n",
       "  <thead>\n",
       "    <tr>\n",
       "      <th></th>\n",
       "      <th colspan=\"3\" halign=\"left\">nrg_cons</th>\n",
       "    </tr>\n",
       "    <tr>\n",
       "      <th>Acorn_grouped</th>\n",
       "      <th>Adversity</th>\n",
       "      <th>Affluent</th>\n",
       "      <th>Comfortable</th>\n",
       "    </tr>\n",
       "  </thead>\n",
       "  <tbody>\n",
       "    <tr>\n",
       "      <th>count</th>\n",
       "      <td>2904.000000</td>\n",
       "      <td>2904.000000</td>\n",
       "      <td>2904.000000</td>\n",
       "    </tr>\n",
       "    <tr>\n",
       "      <th>mean</th>\n",
       "      <td>0.440457</td>\n",
       "      <td>0.682170</td>\n",
       "      <td>0.532425</td>\n",
       "    </tr>\n",
       "    <tr>\n",
       "      <th>std</th>\n",
       "      <td>0.135898</td>\n",
       "      <td>0.245831</td>\n",
       "      <td>0.176367</td>\n",
       "    </tr>\n",
       "    <tr>\n",
       "      <th>min</th>\n",
       "      <td>0.182274</td>\n",
       "      <td>0.285940</td>\n",
       "      <td>0.216309</td>\n",
       "    </tr>\n",
       "    <tr>\n",
       "      <th>25%</th>\n",
       "      <td>0.346252</td>\n",
       "      <td>0.464757</td>\n",
       "      <td>0.407250</td>\n",
       "    </tr>\n",
       "    <tr>\n",
       "      <th>50%</th>\n",
       "      <td>0.428091</td>\n",
       "      <td>0.680822</td>\n",
       "      <td>0.522395</td>\n",
       "    </tr>\n",
       "    <tr>\n",
       "      <th>75%</th>\n",
       "      <td>0.539547</td>\n",
       "      <td>0.844567</td>\n",
       "      <td>0.654505</td>\n",
       "    </tr>\n",
       "    <tr>\n",
       "      <th>max</th>\n",
       "      <td>0.775011</td>\n",
       "      <td>1.340511</td>\n",
       "      <td>0.970214</td>\n",
       "    </tr>\n",
       "  </tbody>\n",
       "</table>\n",
       "</div>"
      ],
      "text/plain": [
       "                  nrg_cons                          \n",
       "Acorn_grouped    Adversity     Affluent  Comfortable\n",
       "count          2904.000000  2904.000000  2904.000000\n",
       "mean              0.440457     0.682170     0.532425\n",
       "std               0.135898     0.245831     0.176367\n",
       "min               0.182274     0.285940     0.216309\n",
       "25%               0.346252     0.464757     0.407250\n",
       "50%               0.428091     0.680822     0.522395\n",
       "75%               0.539547     0.844567     0.654505\n",
       "max               0.775011     1.340511     0.970214"
      ]
     },
     "execution_count": 16,
     "metadata": {},
     "output_type": "execute_result"
    }
   ],
   "source": [
    "nrg_regress.describe()"
   ]
  },
  {
   "cell_type": "code",
   "execution_count": null,
   "metadata": {
    "collapsed": true
   },
   "outputs": [],
   "source": []
  },
  {
   "cell_type": "code",
   "execution_count": 17,
   "metadata": {
    "collapsed": false
   },
   "outputs": [],
   "source": [
    "# make sure to give the outputfile the right name\n",
    "output = 'C:\\\\Users\\\\Hrafnkell\\\\Documents\\\\GitHub\\\\Taming-the-Peak\\\\Final_Data\\\\energy_final_2012_13.csv'\n",
    "\n",
    "nrg_regress.to_csv(output)"
   ]
  },
  {
   "cell_type": "code",
   "execution_count": null,
   "metadata": {
    "collapsed": true
   },
   "outputs": [],
   "source": []
  }
 ],
 "metadata": {
  "anaconda-cloud": {},
  "kernelspec": {
   "display_name": "Python [Root]",
   "language": "python",
   "name": "Python [Root]"
  },
  "language_info": {
   "codemirror_mode": {
    "name": "ipython",
    "version": 2
   },
   "file_extension": ".py",
   "mimetype": "text/x-python",
   "name": "python",
   "nbconvert_exporter": "python",
   "pygments_lexer": "ipython2",
   "version": "2.7.12"
  }
 },
 "nbformat": 4,
 "nbformat_minor": 0
}
