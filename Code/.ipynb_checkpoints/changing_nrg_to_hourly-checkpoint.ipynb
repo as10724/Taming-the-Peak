{
 "cells": [
  {
   "cell_type": "code",
   "execution_count": 1,
   "metadata": {
    "collapsed": true
   },
   "outputs": [],
   "source": [
    "import pandas as pd\n",
    "import numpy as np"
   ]
  },
  {
   "cell_type": "code",
   "execution_count": 9,
   "metadata": {
    "collapsed": false
   },
   "outputs": [],
   "source": [
    "data = pd.read_csv('grouped_nrg_winter1314.csv')"
   ]
  },
  {
   "cell_type": "code",
   "execution_count": 3,
   "metadata": {
    "collapsed": true
   },
   "outputs": [],
   "source": [
    "# groupping data\n",
    "data = pd.concat([data.groupby(['DateTime', 'Acorn_grouped', 'stdorToU']).mean().iloc[:,:-1],\n",
    "        data.groupby(['DateTime', 'Acorn_grouped', 'stdorToU']).sum().iloc[:, -1]], axis = 1)"
   ]
  },
  {
   "cell_type": "code",
   "execution_count": 8,
   "metadata": {
    "collapsed": false
   },
   "outputs": [],
   "source": [
    "# dropping the rows with incomplete data\n",
    "#this loop takes a while\n",
    "for number, i in enumerate(data.index):\n",
    "    if i[1] == 'ACORN-' or i[1] == 'ACORN-U':\n",
    "        data.drop(i, inplace=True)\n",
    "    #print '\\r',\"%\",str((number+1)*100./len(data))[:4]"
   ]
  },
  {
   "cell_type": "code",
   "execution_count": 11,
   "metadata": {
    "collapsed": true
   },
   "outputs": [],
   "source": [
    "data['energy_sum'] = (data['KWH/hh (per half hour) '] * data.LCLid)"
   ]
  },
  {
   "cell_type": "code",
   "execution_count": 12,
   "metadata": {
    "collapsed": false
   },
   "outputs": [
    {
     "name": "stderr",
     "output_type": "stream",
     "text": [
      "C:\\Users\\Hrafnkell\\Anaconda2\\lib\\site-packages\\ipykernel\\__main__.py:5: SettingWithCopyWarning: \n",
      "A value is trying to be set on a copy of a slice from a DataFrame\n",
      "\n",
      "See the caveats in the documentation: http://pandas.pydata.org/pandas-docs/stable/indexing.html#indexing-view-versus-copy\n"
     ]
    }
   ],
   "source": [
    "# adding :30 data to :00 data\n",
    "# this loop takes a while\n",
    "for n,i in enumerate(data.index):\n",
    "    if i[0][-5:-3] == '30':\n",
    "        data.energy_sum[n+6] = data.energy_sum[n+6] + data.energy_sum[n]"
   ]
  },
  {
   "cell_type": "code",
   "execution_count": 13,
   "metadata": {
    "collapsed": true
   },
   "outputs": [],
   "source": [
    "# dropping :30 data\n",
    "# this loop (predictably) also takes a while\n",
    "for i in data.index:\n",
    "    if i[0][-5:-3] == '30':\n",
    "        data.drop(i, inplace=True)"
   ]
  },
  {
   "cell_type": "code",
   "execution_count": 15,
   "metadata": {
    "collapsed": true
   },
   "outputs": [],
   "source": [
    "data['KWH/h (per hour)'] = data.energy_sum / data.LCLid"
   ]
  },
  {
   "cell_type": "code",
   "execution_count": 17,
   "metadata": {
    "collapsed": true
   },
   "outputs": [],
   "source": [
    "data.drop(['KWH/hh (per half hour) ', 'energy_sum'], axis=1, inplace=True)"
   ]
  },
  {
   "cell_type": "code",
   "execution_count": 19,
   "metadata": {
    "collapsed": true
   },
   "outputs": [],
   "source": [
    "output = 'C:\\\\Users\\\\Hrafnkell\\\\Applied Data Science\\\\Taming the peak\\\\Taming-the-Peak\\\\nrg_winter1314_hourly_grouped.csv'\n",
    "\n",
    "data.to_csv(output)"
   ]
  }
 ],
 "metadata": {
  "anaconda-cloud": {},
  "kernelspec": {
   "display_name": "Python [Root]",
   "language": "python",
   "name": "Python [Root]"
  },
  "language_info": {
   "codemirror_mode": {
    "name": "ipython",
    "version": 2
   },
   "file_extension": ".py",
   "mimetype": "text/x-python",
   "name": "python",
   "nbconvert_exporter": "python",
   "pygments_lexer": "ipython2",
   "version": "2.7.12"
  }
 },
 "nbformat": 4,
 "nbformat_minor": 0
}
