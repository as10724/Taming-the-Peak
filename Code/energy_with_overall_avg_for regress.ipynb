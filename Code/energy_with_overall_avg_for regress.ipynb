{
 "cells": [
  {
   "cell_type": "code",
   "execution_count": 2,
   "metadata": {
    "collapsed": true
   },
   "outputs": [],
   "source": [
    "import numpy as np\n",
    "import pandas as pd\n",
    "import datetime as DT"
   ]
  },
  {
   "cell_type": "code",
   "execution_count": 68,
   "metadata": {
    "collapsed": false
   },
   "outputs": [
    {
     "data": {
      "text/html": [
       "<div>\n",
       "<table border=\"1\" class=\"dataframe\">\n",
       "  <thead>\n",
       "    <tr style=\"text-align: right;\">\n",
       "      <th></th>\n",
       "      <th>Unnamed: 0</th>\n",
       "      <th>DateTime</th>\n",
       "      <th>Acorn_grouped</th>\n",
       "      <th>stdorToU</th>\n",
       "      <th>N</th>\n",
       "      <th>nrg_cons</th>\n",
       "    </tr>\n",
       "  </thead>\n",
       "  <tbody>\n",
       "    <tr>\n",
       "      <th>0</th>\n",
       "      <td>0</td>\n",
       "      <td>2013-12-01 01:00:00</td>\n",
       "      <td>Adversity</td>\n",
       "      <td>Std</td>\n",
       "      <td>1404</td>\n",
       "      <td>0.407993</td>\n",
       "    </tr>\n",
       "    <tr>\n",
       "      <th>1</th>\n",
       "      <td>1</td>\n",
       "      <td>2013-12-01 01:00:00</td>\n",
       "      <td>Adversity</td>\n",
       "      <td>ToU</td>\n",
       "      <td>280</td>\n",
       "      <td>0.278390</td>\n",
       "    </tr>\n",
       "    <tr>\n",
       "      <th>2</th>\n",
       "      <td>2</td>\n",
       "      <td>2013-12-01 01:00:00</td>\n",
       "      <td>Affluent</td>\n",
       "      <td>Std</td>\n",
       "      <td>1527</td>\n",
       "      <td>0.513123</td>\n",
       "    </tr>\n",
       "    <tr>\n",
       "      <th>3</th>\n",
       "      <td>3</td>\n",
       "      <td>2013-12-01 01:00:00</td>\n",
       "      <td>Affluent</td>\n",
       "      <td>ToU</td>\n",
       "      <td>458</td>\n",
       "      <td>0.367829</td>\n",
       "    </tr>\n",
       "    <tr>\n",
       "      <th>4</th>\n",
       "      <td>4</td>\n",
       "      <td>2013-12-01 01:00:00</td>\n",
       "      <td>Comfortable</td>\n",
       "      <td>Std</td>\n",
       "      <td>1113</td>\n",
       "      <td>0.455859</td>\n",
       "    </tr>\n",
       "  </tbody>\n",
       "</table>\n",
       "</div>"
      ],
      "text/plain": [
       "  Unnamed: 0             DateTime Acorn_grouped stdorToU     N  nrg_cons\n",
       "0          0  2013-12-01 01:00:00     Adversity      Std  1404  0.407993\n",
       "1          1  2013-12-01 01:00:00     Adversity      ToU   280  0.278390\n",
       "2          2  2013-12-01 01:00:00      Affluent      Std  1527  0.513123\n",
       "3          3  2013-12-01 01:00:00      Affluent      ToU   458  0.367829\n",
       "4          4  2013-12-01 01:00:00   Comfortable      Std  1113  0.455859"
      ]
     },
     "execution_count": 68,
     "metadata": {},
     "output_type": "execute_result"
    }
   ],
   "source": [
    "# get the rouped energy data\n",
    "\n",
    "df = pd.read_csv(\"C:\\\\Users\\\\Hrafnkell\\\\Documents\\\\GitHub\\\\Taming-the-Peak\\\\Final_Data\\\\energy_hourly_2013_14.csv\",\n",
    "                               parse_dates=[0], infer_datetime_format=True)\n",
    "#df = pd.read_csv(\"~/Desktop/CUSP/Applied_Data_Science/Taming-the-Peak/Final_Data/grouped_nrg_winter1314.csv\",\n",
    "#                               parse_dates=[0], infer_datetime_format=True)\n",
    "\n",
    "df.head()"
   ]
  },
  {
   "cell_type": "code",
   "execution_count": 69,
   "metadata": {
    "collapsed": true
   },
   "outputs": [],
   "source": [
    "#df.rename(columns={'Unnamed: 0':'DateTime'}, inplace=True)\n",
    "df.drop(['Unnamed: 0'], axis=1, inplace=True)"
   ]
  },
  {
   "cell_type": "code",
   "execution_count": 70,
   "metadata": {
    "collapsed": false
   },
   "outputs": [
    {
     "data": {
      "text/plain": [
       "2136"
      ]
     },
     "execution_count": 70,
     "metadata": {},
     "output_type": "execute_result"
    }
   ],
   "source": [
    "len(df.DateTime.unique())"
   ]
  },
  {
   "cell_type": "code",
   "execution_count": 71,
   "metadata": {
    "collapsed": false
   },
   "outputs": [
    {
     "data": {
      "text/html": [
       "<div>\n",
       "<table border=\"1\" class=\"dataframe\">\n",
       "  <thead>\n",
       "    <tr style=\"text-align: right;\">\n",
       "      <th></th>\n",
       "      <th></th>\n",
       "      <th>N</th>\n",
       "      <th>nrg_cons</th>\n",
       "    </tr>\n",
       "    <tr>\n",
       "      <th>DateTime</th>\n",
       "      <th>Acorn_grouped</th>\n",
       "      <th></th>\n",
       "      <th></th>\n",
       "    </tr>\n",
       "  </thead>\n",
       "  <tbody>\n",
       "    <tr>\n",
       "      <th rowspan=\"3\" valign=\"top\">2013-12-01 01:00:00</th>\n",
       "      <th>Adversity</th>\n",
       "      <td>1684</td>\n",
       "      <td>0.686384</td>\n",
       "    </tr>\n",
       "    <tr>\n",
       "      <th>Affluent</th>\n",
       "      <td>1985</td>\n",
       "      <td>0.880951</td>\n",
       "    </tr>\n",
       "    <tr>\n",
       "      <th>Comfortable</th>\n",
       "      <td>1412</td>\n",
       "      <td>0.765106</td>\n",
       "    </tr>\n",
       "    <tr>\n",
       "      <th rowspan=\"3\" valign=\"top\">2013-12-01 02:00:00</th>\n",
       "      <th>Adversity</th>\n",
       "      <td>1684</td>\n",
       "      <td>0.525123</td>\n",
       "    </tr>\n",
       "    <tr>\n",
       "      <th>Affluent</th>\n",
       "      <td>1985</td>\n",
       "      <td>0.702950</td>\n",
       "    </tr>\n",
       "    <tr>\n",
       "      <th>Comfortable</th>\n",
       "      <td>1412</td>\n",
       "      <td>0.575235</td>\n",
       "    </tr>\n",
       "  </tbody>\n",
       "</table>\n",
       "</div>"
      ],
      "text/plain": [
       "                                      N  nrg_cons\n",
       "DateTime            Acorn_grouped                \n",
       "2013-12-01 01:00:00 Adversity      1684  0.686384\n",
       "                    Affluent       1985  0.880951\n",
       "                    Comfortable    1412  0.765106\n",
       "2013-12-01 02:00:00 Adversity      1684  0.525123\n",
       "                    Affluent       1985  0.702950\n",
       "                    Comfortable    1412  0.575235"
      ]
     },
     "execution_count": 71,
     "metadata": {},
     "output_type": "execute_result"
    }
   ],
   "source": [
    "df.groupby([\"DateTime\", \"Acorn_grouped\"]).sum().head(6)"
   ]
  },
  {
   "cell_type": "code",
   "execution_count": 72,
   "metadata": {
    "collapsed": false
   },
   "outputs": [],
   "source": [
    "df['total_nrg'] = df.N * df.nrg_cons"
   ]
  },
  {
   "cell_type": "code",
   "execution_count": 73,
   "metadata": {
    "collapsed": false
   },
   "outputs": [
    {
     "data": {
      "text/html": [
       "<div>\n",
       "<table border=\"1\" class=\"dataframe\">\n",
       "  <thead>\n",
       "    <tr style=\"text-align: right;\">\n",
       "      <th></th>\n",
       "      <th>DateTime</th>\n",
       "      <th>Acorn_grouped</th>\n",
       "      <th>stdorToU</th>\n",
       "      <th>N</th>\n",
       "      <th>nrg_cons</th>\n",
       "      <th>total_nrg</th>\n",
       "    </tr>\n",
       "  </thead>\n",
       "  <tbody>\n",
       "    <tr>\n",
       "      <th>0</th>\n",
       "      <td>2013-12-01 01:00:00</td>\n",
       "      <td>Adversity</td>\n",
       "      <td>Std</td>\n",
       "      <td>1404</td>\n",
       "      <td>0.407993</td>\n",
       "      <td>572.822504</td>\n",
       "    </tr>\n",
       "    <tr>\n",
       "      <th>1</th>\n",
       "      <td>2013-12-01 01:00:00</td>\n",
       "      <td>Adversity</td>\n",
       "      <td>ToU</td>\n",
       "      <td>280</td>\n",
       "      <td>0.278390</td>\n",
       "      <td>77.949276</td>\n",
       "    </tr>\n",
       "    <tr>\n",
       "      <th>2</th>\n",
       "      <td>2013-12-01 01:00:00</td>\n",
       "      <td>Affluent</td>\n",
       "      <td>Std</td>\n",
       "      <td>1527</td>\n",
       "      <td>0.513123</td>\n",
       "      <td>783.538336</td>\n",
       "    </tr>\n",
       "    <tr>\n",
       "      <th>3</th>\n",
       "      <td>2013-12-01 01:00:00</td>\n",
       "      <td>Affluent</td>\n",
       "      <td>ToU</td>\n",
       "      <td>458</td>\n",
       "      <td>0.367829</td>\n",
       "      <td>168.465478</td>\n",
       "    </tr>\n",
       "    <tr>\n",
       "      <th>4</th>\n",
       "      <td>2013-12-01 01:00:00</td>\n",
       "      <td>Comfortable</td>\n",
       "      <td>Std</td>\n",
       "      <td>1113</td>\n",
       "      <td>0.455859</td>\n",
       "      <td>507.370649</td>\n",
       "    </tr>\n",
       "    <tr>\n",
       "      <th>5</th>\n",
       "      <td>2013-12-01 01:00:00</td>\n",
       "      <td>Comfortable</td>\n",
       "      <td>ToU</td>\n",
       "      <td>299</td>\n",
       "      <td>0.309247</td>\n",
       "      <td>92.464835</td>\n",
       "    </tr>\n",
       "  </tbody>\n",
       "</table>\n",
       "</div>"
      ],
      "text/plain": [
       "              DateTime Acorn_grouped stdorToU     N  nrg_cons   total_nrg\n",
       "0  2013-12-01 01:00:00     Adversity      Std  1404  0.407993  572.822504\n",
       "1  2013-12-01 01:00:00     Adversity      ToU   280  0.278390   77.949276\n",
       "2  2013-12-01 01:00:00      Affluent      Std  1527  0.513123  783.538336\n",
       "3  2013-12-01 01:00:00      Affluent      ToU   458  0.367829  168.465478\n",
       "4  2013-12-01 01:00:00   Comfortable      Std  1113  0.455859  507.370649\n",
       "5  2013-12-01 01:00:00   Comfortable      ToU   299  0.309247   92.464835"
      ]
     },
     "execution_count": 73,
     "metadata": {},
     "output_type": "execute_result"
    }
   ],
   "source": [
    "df.head(6)"
   ]
  },
  {
   "cell_type": "code",
   "execution_count": 74,
   "metadata": {
    "collapsed": false
   },
   "outputs": [],
   "source": [
    "df.drop(['nrg_cons', 'Acorn_grouped', 'stdorToU'], axis=1, inplace=True)"
   ]
  },
  {
   "cell_type": "code",
   "execution_count": 75,
   "metadata": {
    "collapsed": false
   },
   "outputs": [],
   "source": [
    "df = df.groupby([\"DateTime\"]).sum()"
   ]
  },
  {
   "cell_type": "code",
   "execution_count": 76,
   "metadata": {
    "collapsed": false
   },
   "outputs": [
    {
     "data": {
      "text/html": [
       "<div>\n",
       "<table border=\"1\" class=\"dataframe\">\n",
       "  <thead>\n",
       "    <tr style=\"text-align: right;\">\n",
       "      <th></th>\n",
       "      <th>N</th>\n",
       "      <th>total_nrg</th>\n",
       "    </tr>\n",
       "    <tr>\n",
       "      <th>DateTime</th>\n",
       "      <th></th>\n",
       "      <th></th>\n",
       "    </tr>\n",
       "  </thead>\n",
       "  <tbody>\n",
       "    <tr>\n",
       "      <th>2013-12-01 01:00:00</th>\n",
       "      <td>5081</td>\n",
       "      <td>2202.611078</td>\n",
       "    </tr>\n",
       "    <tr>\n",
       "      <th>2013-12-01 02:00:00</th>\n",
       "      <td>5081</td>\n",
       "      <td>1709.969478</td>\n",
       "    </tr>\n",
       "    <tr>\n",
       "      <th>2013-12-01 03:00:00</th>\n",
       "      <td>5081</td>\n",
       "      <td>1463.999119</td>\n",
       "    </tr>\n",
       "    <tr>\n",
       "      <th>2013-12-01 04:00:00</th>\n",
       "      <td>5081</td>\n",
       "      <td>1362.913075</td>\n",
       "    </tr>\n",
       "    <tr>\n",
       "      <th>2013-12-01 05:00:00</th>\n",
       "      <td>5081</td>\n",
       "      <td>1328.471194</td>\n",
       "    </tr>\n",
       "  </tbody>\n",
       "</table>\n",
       "</div>"
      ],
      "text/plain": [
       "                        N    total_nrg\n",
       "DateTime                              \n",
       "2013-12-01 01:00:00  5081  2202.611078\n",
       "2013-12-01 02:00:00  5081  1709.969478\n",
       "2013-12-01 03:00:00  5081  1463.999119\n",
       "2013-12-01 04:00:00  5081  1362.913075\n",
       "2013-12-01 05:00:00  5081  1328.471194"
      ]
     },
     "execution_count": 76,
     "metadata": {},
     "output_type": "execute_result"
    }
   ],
   "source": [
    "df.head()"
   ]
  },
  {
   "cell_type": "code",
   "execution_count": 77,
   "metadata": {
    "collapsed": false
   },
   "outputs": [],
   "source": [
    "df['nrg_cons'] = df.total_nrg/df.N"
   ]
  },
  {
   "cell_type": "code",
   "execution_count": 78,
   "metadata": {
    "collapsed": true
   },
   "outputs": [],
   "source": [
    "df.drop(['N', 'total_nrg'], axis=1, inplace=True)"
   ]
  },
  {
   "cell_type": "code",
   "execution_count": 79,
   "metadata": {
    "collapsed": false
   },
   "outputs": [
    {
     "data": {
      "text/html": [
       "<div>\n",
       "<table border=\"1\" class=\"dataframe\">\n",
       "  <thead>\n",
       "    <tr style=\"text-align: right;\">\n",
       "      <th></th>\n",
       "      <th>nrg_cons</th>\n",
       "    </tr>\n",
       "    <tr>\n",
       "      <th>DateTime</th>\n",
       "      <th></th>\n",
       "    </tr>\n",
       "  </thead>\n",
       "  <tbody>\n",
       "    <tr>\n",
       "      <th>2013-12-01 01:00:00</th>\n",
       "      <td>0.433500</td>\n",
       "    </tr>\n",
       "    <tr>\n",
       "      <th>2013-12-01 02:00:00</th>\n",
       "      <td>0.336542</td>\n",
       "    </tr>\n",
       "    <tr>\n",
       "      <th>2013-12-01 03:00:00</th>\n",
       "      <td>0.288132</td>\n",
       "    </tr>\n",
       "    <tr>\n",
       "      <th>2013-12-01 04:00:00</th>\n",
       "      <td>0.268237</td>\n",
       "    </tr>\n",
       "    <tr>\n",
       "      <th>2013-12-01 05:00:00</th>\n",
       "      <td>0.261459</td>\n",
       "    </tr>\n",
       "  </tbody>\n",
       "</table>\n",
       "</div>"
      ],
      "text/plain": [
       "                     nrg_cons\n",
       "DateTime                     \n",
       "2013-12-01 01:00:00  0.433500\n",
       "2013-12-01 02:00:00  0.336542\n",
       "2013-12-01 03:00:00  0.288132\n",
       "2013-12-01 04:00:00  0.268237\n",
       "2013-12-01 05:00:00  0.261459"
      ]
     },
     "execution_count": 79,
     "metadata": {},
     "output_type": "execute_result"
    }
   ],
   "source": [
    "df.head()"
   ]
  },
  {
   "cell_type": "code",
   "execution_count": 80,
   "metadata": {
    "collapsed": false
   },
   "outputs": [],
   "source": [
    "# creating a stupid column to merge on\n",
    "df['DateTime'] = df.index"
   ]
  },
  {
   "cell_type": "code",
   "execution_count": 81,
   "metadata": {
    "collapsed": false
   },
   "outputs": [
    {
     "data": {
      "text/html": [
       "<div>\n",
       "<table border=\"1\" class=\"dataframe\">\n",
       "  <thead>\n",
       "    <tr style=\"text-align: right;\">\n",
       "      <th></th>\n",
       "      <th>nrg_cons</th>\n",
       "      <th>DateTime</th>\n",
       "    </tr>\n",
       "    <tr>\n",
       "      <th>DateTime</th>\n",
       "      <th></th>\n",
       "      <th></th>\n",
       "    </tr>\n",
       "  </thead>\n",
       "  <tbody>\n",
       "    <tr>\n",
       "      <th>2013-12-01 01:00:00</th>\n",
       "      <td>0.433500</td>\n",
       "      <td>2013-12-01 01:00:00</td>\n",
       "    </tr>\n",
       "    <tr>\n",
       "      <th>2013-12-01 02:00:00</th>\n",
       "      <td>0.336542</td>\n",
       "      <td>2013-12-01 02:00:00</td>\n",
       "    </tr>\n",
       "    <tr>\n",
       "      <th>2013-12-01 03:00:00</th>\n",
       "      <td>0.288132</td>\n",
       "      <td>2013-12-01 03:00:00</td>\n",
       "    </tr>\n",
       "    <tr>\n",
       "      <th>2013-12-01 04:00:00</th>\n",
       "      <td>0.268237</td>\n",
       "      <td>2013-12-01 04:00:00</td>\n",
       "    </tr>\n",
       "    <tr>\n",
       "      <th>2013-12-01 05:00:00</th>\n",
       "      <td>0.261459</td>\n",
       "      <td>2013-12-01 05:00:00</td>\n",
       "    </tr>\n",
       "  </tbody>\n",
       "</table>\n",
       "</div>"
      ],
      "text/plain": [
       "                     nrg_cons             DateTime\n",
       "DateTime                                          \n",
       "2013-12-01 01:00:00  0.433500  2013-12-01 01:00:00\n",
       "2013-12-01 02:00:00  0.336542  2013-12-01 02:00:00\n",
       "2013-12-01 03:00:00  0.288132  2013-12-01 03:00:00\n",
       "2013-12-01 04:00:00  0.268237  2013-12-01 04:00:00\n",
       "2013-12-01 05:00:00  0.261459  2013-12-01 05:00:00"
      ]
     },
     "execution_count": 81,
     "metadata": {},
     "output_type": "execute_result"
    }
   ],
   "source": [
    "df.head()"
   ]
  },
  {
   "cell_type": "code",
   "execution_count": 82,
   "metadata": {
    "collapsed": false
   },
   "outputs": [
    {
     "data": {
      "text/html": [
       "<div>\n",
       "<table border=\"1\" class=\"dataframe\">\n",
       "  <thead>\n",
       "    <tr style=\"text-align: right;\">\n",
       "      <th></th>\n",
       "      <th>Unnamed: 0</th>\n",
       "      <th>nrg_cons</th>\n",
       "      <th>nrg_cons.1</th>\n",
       "      <th>nrg_cons.2</th>\n",
       "    </tr>\n",
       "  </thead>\n",
       "  <tbody>\n",
       "    <tr>\n",
       "      <th>0</th>\n",
       "      <td>Acorn_grouped</td>\n",
       "      <td>Adversity</td>\n",
       "      <td>Affluent</td>\n",
       "      <td>Comfortable</td>\n",
       "    </tr>\n",
       "    <tr>\n",
       "      <th>1</th>\n",
       "      <td>DateTime</td>\n",
       "      <td>NaN</td>\n",
       "      <td>NaN</td>\n",
       "      <td>NaN</td>\n",
       "    </tr>\n",
       "    <tr>\n",
       "      <th>2</th>\n",
       "      <td>2013-12-01 01:00:00</td>\n",
       "      <td>0.38644404961392875</td>\n",
       "      <td>0.4795988988611204</td>\n",
       "      <td>0.42481266583201066</td>\n",
       "    </tr>\n",
       "    <tr>\n",
       "      <th>3</th>\n",
       "      <td>2013-12-01 02:00:00</td>\n",
       "      <td>0.301772683774658</td>\n",
       "      <td>0.38167072381810324</td>\n",
       "      <td>0.31456649579228046</td>\n",
       "    </tr>\n",
       "    <tr>\n",
       "      <th>4</th>\n",
       "      <td>2013-12-01 03:00:00</td>\n",
       "      <td>0.25305735716030875</td>\n",
       "      <td>0.3354960714125738</td>\n",
       "      <td>0.2633787729103081</td>\n",
       "    </tr>\n",
       "  </tbody>\n",
       "</table>\n",
       "</div>"
      ],
      "text/plain": [
       "            Unnamed: 0             nrg_cons           nrg_cons.1  \\\n",
       "0        Acorn_grouped            Adversity             Affluent   \n",
       "1             DateTime                  NaN                  NaN   \n",
       "2  2013-12-01 01:00:00  0.38644404961392875   0.4795988988611204   \n",
       "3  2013-12-01 02:00:00    0.301772683774658  0.38167072381810324   \n",
       "4  2013-12-01 03:00:00  0.25305735716030875   0.3354960714125738   \n",
       "\n",
       "            nrg_cons.2  \n",
       "0          Comfortable  \n",
       "1                  NaN  \n",
       "2  0.42481266583201066  \n",
       "3  0.31456649579228046  \n",
       "4   0.2633787729103081  "
      ]
     },
     "execution_count": 82,
     "metadata": {},
     "output_type": "execute_result"
    }
   ],
   "source": [
    "# get the rouped energy data\n",
    "\n",
    "df2 = pd.read_csv(\"C:\\\\Users\\\\Hrafnkell\\\\Documents\\\\GitHub\\\\Taming-the-Peak\\\\Final_Data\\\\energy_final_2013_14.csv\",\n",
    "                               parse_dates=[0], infer_datetime_format=True)\n",
    "#df = pd.read_csv(\"~/Desktop/CUSP/Applied_Data_Science/Taming-the-Peak/Final_Data/grouped_nrg_winter1314.csv\",\n",
    "#                               parse_dates=[0], infer_datetime_format=True)\n",
    "\n",
    "df2.head()"
   ]
  },
  {
   "cell_type": "code",
   "execution_count": 83,
   "metadata": {
    "collapsed": false
   },
   "outputs": [],
   "source": [
    "df2.rename(columns={'Unnamed: 0' : 'DateTime'}, inplace=True)"
   ]
  },
  {
   "cell_type": "code",
   "execution_count": 89,
   "metadata": {
    "collapsed": false,
    "scrolled": true
   },
   "outputs": [
    {
     "data": {
      "text/plain": [
       "pandas.tslib.Timestamp"
      ]
     },
     "execution_count": 89,
     "metadata": {},
     "output_type": "execute_result"
    }
   ],
   "source": [
    "type(df.DateTime[1])"
   ]
  },
  {
   "cell_type": "code",
   "execution_count": 90,
   "metadata": {
    "collapsed": false
   },
   "outputs": [
    {
     "data": {
      "text/plain": [
       "pandas.tslib.Timestamp"
      ]
     },
     "execution_count": 90,
     "metadata": {},
     "output_type": "execute_result"
    }
   ],
   "source": [
    "type(df2.DateTime[5])"
   ]
  },
  {
   "cell_type": "code",
   "execution_count": 86,
   "metadata": {
    "collapsed": false
   },
   "outputs": [],
   "source": [
    "df2.drop([0, 1], inplace=True)"
   ]
  },
  {
   "cell_type": "code",
   "execution_count": 87,
   "metadata": {
    "collapsed": true
   },
   "outputs": [],
   "source": [
    "df2.DateTime = pd.to_datetime(df2.DateTime)"
   ]
  },
  {
   "cell_type": "code",
   "execution_count": 88,
   "metadata": {
    "collapsed": true
   },
   "outputs": [],
   "source": [
    "df.DateTime = pd.to_datetime(df.DateTime)"
   ]
  },
  {
   "cell_type": "code",
   "execution_count": 91,
   "metadata": {
    "collapsed": false,
    "scrolled": true
   },
   "outputs": [
    {
     "data": {
      "text/html": [
       "<div>\n",
       "<table border=\"1\" class=\"dataframe\">\n",
       "  <thead>\n",
       "    <tr style=\"text-align: right;\">\n",
       "      <th></th>\n",
       "      <th>DateTime</th>\n",
       "      <th>nrg_cons</th>\n",
       "      <th>nrg_cons.1</th>\n",
       "      <th>nrg_cons.2</th>\n",
       "    </tr>\n",
       "  </thead>\n",
       "  <tbody>\n",
       "    <tr>\n",
       "      <th>2</th>\n",
       "      <td>2013-12-01 01:00:00</td>\n",
       "      <td>0.38644404961392875</td>\n",
       "      <td>0.4795988988611204</td>\n",
       "      <td>0.42481266583201066</td>\n",
       "    </tr>\n",
       "    <tr>\n",
       "      <th>3</th>\n",
       "      <td>2013-12-01 02:00:00</td>\n",
       "      <td>0.301772683774658</td>\n",
       "      <td>0.38167072381810324</td>\n",
       "      <td>0.31456649579228046</td>\n",
       "    </tr>\n",
       "    <tr>\n",
       "      <th>4</th>\n",
       "      <td>2013-12-01 03:00:00</td>\n",
       "      <td>0.25305735716030875</td>\n",
       "      <td>0.3354960714125738</td>\n",
       "      <td>0.2633787729103081</td>\n",
       "    </tr>\n",
       "    <tr>\n",
       "      <th>5</th>\n",
       "      <td>2013-12-01 04:00:00</td>\n",
       "      <td>0.229610772429019</td>\n",
       "      <td>0.31218616820539347</td>\n",
       "      <td>0.2525205310520956</td>\n",
       "    </tr>\n",
       "    <tr>\n",
       "      <th>6</th>\n",
       "      <td>2013-12-01 05:00:00</td>\n",
       "      <td>0.21705962332505466</td>\n",
       "      <td>0.3050411176599124</td>\n",
       "      <td>0.2531417629841643</td>\n",
       "    </tr>\n",
       "  </tbody>\n",
       "</table>\n",
       "</div>"
      ],
      "text/plain": [
       "             DateTime             nrg_cons           nrg_cons.1  \\\n",
       "2 2013-12-01 01:00:00  0.38644404961392875   0.4795988988611204   \n",
       "3 2013-12-01 02:00:00    0.301772683774658  0.38167072381810324   \n",
       "4 2013-12-01 03:00:00  0.25305735716030875   0.3354960714125738   \n",
       "5 2013-12-01 04:00:00    0.229610772429019  0.31218616820539347   \n",
       "6 2013-12-01 05:00:00  0.21705962332505466   0.3050411176599124   \n",
       "\n",
       "            nrg_cons.2  \n",
       "2  0.42481266583201066  \n",
       "3  0.31456649579228046  \n",
       "4   0.2633787729103081  \n",
       "5   0.2525205310520956  \n",
       "6   0.2531417629841643  "
      ]
     },
     "execution_count": 91,
     "metadata": {},
     "output_type": "execute_result"
    }
   ],
   "source": [
    "df2.head()"
   ]
  },
  {
   "cell_type": "code",
   "execution_count": 92,
   "metadata": {
    "collapsed": false
   },
   "outputs": [],
   "source": [
    "merged = pd.merge(left=df2, right=df, how='left', on='DateTime')"
   ]
  },
  {
   "cell_type": "code",
   "execution_count": 58,
   "metadata": {
    "collapsed": false
   },
   "outputs": [],
   "source": [
    "#merged.drop(['DateTime'], axis=1, inplace=True)"
   ]
  },
  {
   "cell_type": "code",
   "execution_count": 95,
   "metadata": {
    "collapsed": false
   },
   "outputs": [],
   "source": [
    "merged.columns = ['DateTime', 'Adversity', 'Affluent', 'Comfortable', 'Overall']"
   ]
  },
  {
   "cell_type": "code",
   "execution_count": 96,
   "metadata": {
    "collapsed": false
   },
   "outputs": [
    {
     "data": {
      "text/html": [
       "<div>\n",
       "<table border=\"1\" class=\"dataframe\">\n",
       "  <thead>\n",
       "    <tr style=\"text-align: right;\">\n",
       "      <th></th>\n",
       "      <th>DateTime</th>\n",
       "      <th>Adversity</th>\n",
       "      <th>Affluent</th>\n",
       "      <th>Comfortable</th>\n",
       "      <th>Overall</th>\n",
       "    </tr>\n",
       "  </thead>\n",
       "  <tbody>\n",
       "    <tr>\n",
       "      <th>0</th>\n",
       "      <td>2013-12-01 01:00:00</td>\n",
       "      <td>0.38644404961392875</td>\n",
       "      <td>0.4795988988611204</td>\n",
       "      <td>0.42481266583201066</td>\n",
       "      <td>0.433500</td>\n",
       "    </tr>\n",
       "    <tr>\n",
       "      <th>1</th>\n",
       "      <td>2013-12-01 02:00:00</td>\n",
       "      <td>0.301772683774658</td>\n",
       "      <td>0.38167072381810324</td>\n",
       "      <td>0.31456649579228046</td>\n",
       "      <td>0.336542</td>\n",
       "    </tr>\n",
       "    <tr>\n",
       "      <th>2</th>\n",
       "      <td>2013-12-01 03:00:00</td>\n",
       "      <td>0.25305735716030875</td>\n",
       "      <td>0.3354960714125738</td>\n",
       "      <td>0.2633787729103081</td>\n",
       "      <td>0.288132</td>\n",
       "    </tr>\n",
       "    <tr>\n",
       "      <th>3</th>\n",
       "      <td>2013-12-01 04:00:00</td>\n",
       "      <td>0.229610772429019</td>\n",
       "      <td>0.31218616820539347</td>\n",
       "      <td>0.2525205310520956</td>\n",
       "      <td>0.268237</td>\n",
       "    </tr>\n",
       "    <tr>\n",
       "      <th>4</th>\n",
       "      <td>2013-12-01 05:00:00</td>\n",
       "      <td>0.21705962332505466</td>\n",
       "      <td>0.3050411176599124</td>\n",
       "      <td>0.2531417629841643</td>\n",
       "      <td>0.261459</td>\n",
       "    </tr>\n",
       "  </tbody>\n",
       "</table>\n",
       "</div>"
      ],
      "text/plain": [
       "             DateTime            Adversity             Affluent  \\\n",
       "0 2013-12-01 01:00:00  0.38644404961392875   0.4795988988611204   \n",
       "1 2013-12-01 02:00:00    0.301772683774658  0.38167072381810324   \n",
       "2 2013-12-01 03:00:00  0.25305735716030875   0.3354960714125738   \n",
       "3 2013-12-01 04:00:00    0.229610772429019  0.31218616820539347   \n",
       "4 2013-12-01 05:00:00  0.21705962332505466   0.3050411176599124   \n",
       "\n",
       "           Comfortable   Overall  \n",
       "0  0.42481266583201066  0.433500  \n",
       "1  0.31456649579228046  0.336542  \n",
       "2   0.2633787729103081  0.288132  \n",
       "3   0.2525205310520956  0.268237  \n",
       "4   0.2531417629841643  0.261459  "
      ]
     },
     "execution_count": 96,
     "metadata": {},
     "output_type": "execute_result"
    }
   ],
   "source": [
    "merged.head()"
   ]
  },
  {
   "cell_type": "code",
   "execution_count": 101,
   "metadata": {
    "collapsed": false
   },
   "outputs": [
    {
     "data": {
      "text/html": [
       "<div>\n",
       "<table border=\"1\" class=\"dataframe\">\n",
       "  <thead>\n",
       "    <tr style=\"text-align: right;\">\n",
       "      <th></th>\n",
       "      <th>DateTime</th>\n",
       "      <th>Adversity</th>\n",
       "      <th>Affluent</th>\n",
       "      <th>Comfortable</th>\n",
       "      <th>Overall</th>\n",
       "    </tr>\n",
       "  </thead>\n",
       "  <tbody>\n",
       "    <tr>\n",
       "      <th>2131</th>\n",
       "      <td>2014-02-27 20:00:00</td>\n",
       "      <td>0.5850399821334538</td>\n",
       "      <td>0.9484080820535786</td>\n",
       "      <td>0.6946461474691829</td>\n",
       "      <td>0.756850</td>\n",
       "    </tr>\n",
       "    <tr>\n",
       "      <th>2132</th>\n",
       "      <td>2014-02-27 21:00:00</td>\n",
       "      <td>0.5596283120287304</td>\n",
       "      <td>0.9340356756315545</td>\n",
       "      <td>0.6691844868531234</td>\n",
       "      <td>0.735752</td>\n",
       "    </tr>\n",
       "    <tr>\n",
       "      <th>2133</th>\n",
       "      <td>2014-02-27 22:00:00</td>\n",
       "      <td>0.50773060052956</td>\n",
       "      <td>0.8553674213072988</td>\n",
       "      <td>0.6167476987967518</td>\n",
       "      <td>0.673258</td>\n",
       "    </tr>\n",
       "    <tr>\n",
       "      <th>2134</th>\n",
       "      <td>2014-02-27 23:00:00</td>\n",
       "      <td>0.42970712257465493</td>\n",
       "      <td>0.7290496181832935</td>\n",
       "      <td>0.5155065432789028</td>\n",
       "      <td>0.570020</td>\n",
       "    </tr>\n",
       "    <tr>\n",
       "      <th>2135</th>\n",
       "      <td>2014-02-28 00:00:00</td>\n",
       "      <td>0.28594795200601886</td>\n",
       "      <td>0.39393115334660245</td>\n",
       "      <td>0.3328038019729666</td>\n",
       "      <td>0.340998</td>\n",
       "    </tr>\n",
       "  </tbody>\n",
       "</table>\n",
       "</div>"
      ],
      "text/plain": [
       "                DateTime            Adversity             Affluent  \\\n",
       "2131 2014-02-27 20:00:00   0.5850399821334538   0.9484080820535786   \n",
       "2132 2014-02-27 21:00:00   0.5596283120287304   0.9340356756315545   \n",
       "2133 2014-02-27 22:00:00     0.50773060052956   0.8553674213072988   \n",
       "2134 2014-02-27 23:00:00  0.42970712257465493   0.7290496181832935   \n",
       "2135 2014-02-28 00:00:00  0.28594795200601886  0.39393115334660245   \n",
       "\n",
       "             Comfortable   Overall  \n",
       "2131  0.6946461474691829  0.756850  \n",
       "2132  0.6691844868531234  0.735752  \n",
       "2133  0.6167476987967518  0.673258  \n",
       "2134  0.5155065432789028  0.570020  \n",
       "2135  0.3328038019729666  0.340998  "
      ]
     },
     "execution_count": 101,
     "metadata": {},
     "output_type": "execute_result"
    }
   ],
   "source": [
    "merged.tail()"
   ]
  },
  {
   "cell_type": "code",
   "execution_count": 98,
   "metadata": {
    "collapsed": true
   },
   "outputs": [],
   "source": [
    "output = \"C:\\\\Users\\\\Hrafnkell\\\\Documents\\\\GitHub\\\\Taming-the-Peak\\\\Final_Data\\\\energy_final_2013_14.csv\"\n",
    "\n",
    "merged.to_csv(output)"
   ]
  },
  {
   "cell_type": "code",
   "execution_count": null,
   "metadata": {
    "collapsed": true
   },
   "outputs": [],
   "source": []
  }
 ],
 "metadata": {
  "kernelspec": {
   "display_name": "Python [Root]",
   "language": "python",
   "name": "Python [Root]"
  },
  "language_info": {
   "codemirror_mode": {
    "name": "ipython",
    "version": 2
   },
   "file_extension": ".py",
   "mimetype": "text/x-python",
   "name": "python",
   "nbconvert_exporter": "python",
   "pygments_lexer": "ipython2",
   "version": "2.7.12"
  }
 },
 "nbformat": 4,
 "nbformat_minor": 0
}
