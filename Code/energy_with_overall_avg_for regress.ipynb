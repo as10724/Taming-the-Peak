{
 "cells": [
  {
   "cell_type": "code",
   "execution_count": 1,
   "metadata": {
    "collapsed": true
   },
   "outputs": [],
   "source": [
    "import numpy as np\n",
    "import pandas as pd\n",
    "import datetime as DT"
   ]
  },
  {
   "cell_type": "code",
   "execution_count": 2,
   "metadata": {
    "collapsed": false
   },
   "outputs": [
    {
     "data": {
      "text/html": [
       "<div>\n",
       "<table border=\"1\" class=\"dataframe\">\n",
       "  <thead>\n",
       "    <tr style=\"text-align: right;\">\n",
       "      <th></th>\n",
       "      <th>DateTime</th>\n",
       "      <th>Acorn_grouped</th>\n",
       "      <th>N</th>\n",
       "      <th>nrg_cons</th>\n",
       "    </tr>\n",
       "  </thead>\n",
       "  <tbody>\n",
       "    <tr>\n",
       "      <th>0</th>\n",
       "      <td>2013-06-01 00:00:00</td>\n",
       "      <td>Adversity</td>\n",
       "      <td>1744</td>\n",
       "      <td>0.133975</td>\n",
       "    </tr>\n",
       "    <tr>\n",
       "      <th>1</th>\n",
       "      <td>2013-06-01 00:00:00</td>\n",
       "      <td>Affluent</td>\n",
       "      <td>2094</td>\n",
       "      <td>0.163082</td>\n",
       "    </tr>\n",
       "    <tr>\n",
       "      <th>2</th>\n",
       "      <td>2013-06-01 00:00:00</td>\n",
       "      <td>Comfortable</td>\n",
       "      <td>1464</td>\n",
       "      <td>0.149617</td>\n",
       "    </tr>\n",
       "    <tr>\n",
       "      <th>3</th>\n",
       "      <td>2013-06-01 01:00:00</td>\n",
       "      <td>Adversity</td>\n",
       "      <td>1741</td>\n",
       "      <td>0.230842</td>\n",
       "    </tr>\n",
       "    <tr>\n",
       "      <th>4</th>\n",
       "      <td>2013-06-01 01:00:00</td>\n",
       "      <td>Affluent</td>\n",
       "      <td>2097</td>\n",
       "      <td>0.278700</td>\n",
       "    </tr>\n",
       "  </tbody>\n",
       "</table>\n",
       "</div>"
      ],
      "text/plain": [
       "             DateTime Acorn_grouped     N  nrg_cons\n",
       "0 2013-06-01 00:00:00     Adversity  1744  0.133975\n",
       "1 2013-06-01 00:00:00      Affluent  2094  0.163082\n",
       "2 2013-06-01 00:00:00   Comfortable  1464  0.149617\n",
       "3 2013-06-01 01:00:00     Adversity  1741  0.230842\n",
       "4 2013-06-01 01:00:00      Affluent  2097  0.278700"
      ]
     },
     "execution_count": 2,
     "metadata": {},
     "output_type": "execute_result"
    }
   ],
   "source": [
    "# get the rouped energy data\n",
    "\n",
    "df = pd.read_csv(\"C:\\\\Users\\\\Hrafnkell\\\\Documents\\\\GitHub\\\\Taming-the-Peak\\\\Final_Data\\\\energy_hourly_summer_2013.csv\",\n",
    "                               parse_dates=[0], infer_datetime_format=True)\n",
    "#df = pd.read_csv(\"~/Desktop/CUSP/Applied_Data_Science/Taming-the-Peak/Final_Data/grouped_nrg_winter1314.csv\",\n",
    "#                               parse_dates=[0], infer_datetime_format=True)\n",
    "\n",
    "df.head()"
   ]
  },
  {
   "cell_type": "code",
   "execution_count": 90,
   "metadata": {
    "collapsed": true
   },
   "outputs": [],
   "source": [
    "df.drop(['Unnamed: 0'], axis=1, inplace=True)"
   ]
  },
  {
   "cell_type": "code",
   "execution_count": 3,
   "metadata": {
    "collapsed": false
   },
   "outputs": [
    {
     "data": {
      "text/plain": [
       "2208"
      ]
     },
     "execution_count": 3,
     "metadata": {},
     "output_type": "execute_result"
    }
   ],
   "source": [
    "len(df.DateTime.unique())"
   ]
  },
  {
   "cell_type": "code",
   "execution_count": 5,
   "metadata": {
    "collapsed": false
   },
   "outputs": [
    {
     "data": {
      "text/html": [
       "<div>\n",
       "<table border=\"1\" class=\"dataframe\">\n",
       "  <thead>\n",
       "    <tr style=\"text-align: right;\">\n",
       "      <th></th>\n",
       "      <th></th>\n",
       "      <th>N</th>\n",
       "      <th>nrg_cons</th>\n",
       "    </tr>\n",
       "    <tr>\n",
       "      <th>DateTime</th>\n",
       "      <th>Acorn_grouped</th>\n",
       "      <th></th>\n",
       "      <th></th>\n",
       "    </tr>\n",
       "  </thead>\n",
       "  <tbody>\n",
       "    <tr>\n",
       "      <th rowspan=\"3\" valign=\"top\">2013-06-01 00:00:00</th>\n",
       "      <th>Adversity</th>\n",
       "      <td>1744</td>\n",
       "      <td>0.133975</td>\n",
       "    </tr>\n",
       "    <tr>\n",
       "      <th>Affluent</th>\n",
       "      <td>2094</td>\n",
       "      <td>0.163082</td>\n",
       "    </tr>\n",
       "    <tr>\n",
       "      <th>Comfortable</th>\n",
       "      <td>1464</td>\n",
       "      <td>0.149617</td>\n",
       "    </tr>\n",
       "    <tr>\n",
       "      <th rowspan=\"3\" valign=\"top\">2013-06-01 01:00:00</th>\n",
       "      <th>Adversity</th>\n",
       "      <td>1741</td>\n",
       "      <td>0.230842</td>\n",
       "    </tr>\n",
       "    <tr>\n",
       "      <th>Affluent</th>\n",
       "      <td>2097</td>\n",
       "      <td>0.278700</td>\n",
       "    </tr>\n",
       "    <tr>\n",
       "      <th>Comfortable</th>\n",
       "      <td>1465</td>\n",
       "      <td>0.244765</td>\n",
       "    </tr>\n",
       "  </tbody>\n",
       "</table>\n",
       "</div>"
      ],
      "text/plain": [
       "                                      N  nrg_cons\n",
       "DateTime            Acorn_grouped                \n",
       "2013-06-01 00:00:00 Adversity      1744  0.133975\n",
       "                    Affluent       2094  0.163082\n",
       "                    Comfortable    1464  0.149617\n",
       "2013-06-01 01:00:00 Adversity      1741  0.230842\n",
       "                    Affluent       2097  0.278700\n",
       "                    Comfortable    1465  0.244765"
      ]
     },
     "execution_count": 5,
     "metadata": {},
     "output_type": "execute_result"
    }
   ],
   "source": [
    "df.groupby([\"DateTime\", \"Acorn_grouped\"]).sum().head(6)"
   ]
  },
  {
   "cell_type": "code",
   "execution_count": 6,
   "metadata": {
    "collapsed": true
   },
   "outputs": [],
   "source": [
    "df['total_nrg'] = df.N * df.nrg_cons"
   ]
  },
  {
   "cell_type": "code",
   "execution_count": 7,
   "metadata": {
    "collapsed": false
   },
   "outputs": [
    {
     "data": {
      "text/html": [
       "<div>\n",
       "<table border=\"1\" class=\"dataframe\">\n",
       "  <thead>\n",
       "    <tr style=\"text-align: right;\">\n",
       "      <th></th>\n",
       "      <th>DateTime</th>\n",
       "      <th>Acorn_grouped</th>\n",
       "      <th>N</th>\n",
       "      <th>nrg_cons</th>\n",
       "      <th>total_nrg</th>\n",
       "    </tr>\n",
       "  </thead>\n",
       "  <tbody>\n",
       "    <tr>\n",
       "      <th>0</th>\n",
       "      <td>2013-06-01 00:00:00</td>\n",
       "      <td>Adversity</td>\n",
       "      <td>1744</td>\n",
       "      <td>0.133975</td>\n",
       "      <td>233.653</td>\n",
       "    </tr>\n",
       "    <tr>\n",
       "      <th>1</th>\n",
       "      <td>2013-06-01 00:00:00</td>\n",
       "      <td>Affluent</td>\n",
       "      <td>2094</td>\n",
       "      <td>0.163082</td>\n",
       "      <td>341.494</td>\n",
       "    </tr>\n",
       "    <tr>\n",
       "      <th>2</th>\n",
       "      <td>2013-06-01 00:00:00</td>\n",
       "      <td>Comfortable</td>\n",
       "      <td>1464</td>\n",
       "      <td>0.149617</td>\n",
       "      <td>219.039</td>\n",
       "    </tr>\n",
       "    <tr>\n",
       "      <th>3</th>\n",
       "      <td>2013-06-01 01:00:00</td>\n",
       "      <td>Adversity</td>\n",
       "      <td>1741</td>\n",
       "      <td>0.230842</td>\n",
       "      <td>401.896</td>\n",
       "    </tr>\n",
       "    <tr>\n",
       "      <th>4</th>\n",
       "      <td>2013-06-01 01:00:00</td>\n",
       "      <td>Affluent</td>\n",
       "      <td>2097</td>\n",
       "      <td>0.278700</td>\n",
       "      <td>584.434</td>\n",
       "    </tr>\n",
       "    <tr>\n",
       "      <th>5</th>\n",
       "      <td>2013-06-01 01:00:00</td>\n",
       "      <td>Comfortable</td>\n",
       "      <td>1465</td>\n",
       "      <td>0.244765</td>\n",
       "      <td>358.580</td>\n",
       "    </tr>\n",
       "  </tbody>\n",
       "</table>\n",
       "</div>"
      ],
      "text/plain": [
       "             DateTime Acorn_grouped     N  nrg_cons  total_nrg\n",
       "0 2013-06-01 00:00:00     Adversity  1744  0.133975    233.653\n",
       "1 2013-06-01 00:00:00      Affluent  2094  0.163082    341.494\n",
       "2 2013-06-01 00:00:00   Comfortable  1464  0.149617    219.039\n",
       "3 2013-06-01 01:00:00     Adversity  1741  0.230842    401.896\n",
       "4 2013-06-01 01:00:00      Affluent  2097  0.278700    584.434\n",
       "5 2013-06-01 01:00:00   Comfortable  1465  0.244765    358.580"
      ]
     },
     "execution_count": 7,
     "metadata": {},
     "output_type": "execute_result"
    }
   ],
   "source": [
    "df.head(6)"
   ]
  },
  {
   "cell_type": "code",
   "execution_count": 8,
   "metadata": {
    "collapsed": false
   },
   "outputs": [],
   "source": [
    "df.drop(['nrg_cons', 'Acorn_grouped'], axis=1, inplace=True)"
   ]
  },
  {
   "cell_type": "code",
   "execution_count": 9,
   "metadata": {
    "collapsed": false
   },
   "outputs": [],
   "source": [
    "df = df.groupby([\"DateTime\"]).sum()"
   ]
  },
  {
   "cell_type": "code",
   "execution_count": 10,
   "metadata": {
    "collapsed": false
   },
   "outputs": [
    {
     "data": {
      "text/html": [
       "<div>\n",
       "<table border=\"1\" class=\"dataframe\">\n",
       "  <thead>\n",
       "    <tr style=\"text-align: right;\">\n",
       "      <th></th>\n",
       "      <th>N</th>\n",
       "      <th>total_nrg</th>\n",
       "    </tr>\n",
       "    <tr>\n",
       "      <th>DateTime</th>\n",
       "      <th></th>\n",
       "      <th></th>\n",
       "    </tr>\n",
       "  </thead>\n",
       "  <tbody>\n",
       "    <tr>\n",
       "      <th>2013-06-01 00:00:00</th>\n",
       "      <td>5302</td>\n",
       "      <td>794.186000</td>\n",
       "    </tr>\n",
       "    <tr>\n",
       "      <th>2013-06-01 01:00:00</th>\n",
       "      <td>5303</td>\n",
       "      <td>1344.910001</td>\n",
       "    </tr>\n",
       "    <tr>\n",
       "      <th>2013-06-01 02:00:00</th>\n",
       "      <td>5304</td>\n",
       "      <td>1146.551000</td>\n",
       "    </tr>\n",
       "    <tr>\n",
       "      <th>2013-06-01 03:00:00</th>\n",
       "      <td>5304</td>\n",
       "      <td>1063.592000</td>\n",
       "    </tr>\n",
       "    <tr>\n",
       "      <th>2013-06-01 04:00:00</th>\n",
       "      <td>5304</td>\n",
       "      <td>1036.497000</td>\n",
       "    </tr>\n",
       "  </tbody>\n",
       "</table>\n",
       "</div>"
      ],
      "text/plain": [
       "                        N    total_nrg\n",
       "DateTime                              \n",
       "2013-06-01 00:00:00  5302   794.186000\n",
       "2013-06-01 01:00:00  5303  1344.910001\n",
       "2013-06-01 02:00:00  5304  1146.551000\n",
       "2013-06-01 03:00:00  5304  1063.592000\n",
       "2013-06-01 04:00:00  5304  1036.497000"
      ]
     },
     "execution_count": 10,
     "metadata": {},
     "output_type": "execute_result"
    }
   ],
   "source": [
    "df.head()"
   ]
  },
  {
   "cell_type": "code",
   "execution_count": 11,
   "metadata": {
    "collapsed": false
   },
   "outputs": [],
   "source": [
    "df['nrg_cons'] = df.total_nrg/df.N"
   ]
  },
  {
   "cell_type": "code",
   "execution_count": 12,
   "metadata": {
    "collapsed": true
   },
   "outputs": [],
   "source": [
    "df.drop(['N', 'total_nrg'], axis=1, inplace=True)"
   ]
  },
  {
   "cell_type": "code",
   "execution_count": 13,
   "metadata": {
    "collapsed": false
   },
   "outputs": [
    {
     "data": {
      "text/html": [
       "<div>\n",
       "<table border=\"1\" class=\"dataframe\">\n",
       "  <thead>\n",
       "    <tr style=\"text-align: right;\">\n",
       "      <th></th>\n",
       "      <th>nrg_cons</th>\n",
       "    </tr>\n",
       "    <tr>\n",
       "      <th>DateTime</th>\n",
       "      <th></th>\n",
       "    </tr>\n",
       "  </thead>\n",
       "  <tbody>\n",
       "    <tr>\n",
       "      <th>2013-06-01 00:00:00</th>\n",
       "      <td>0.149790</td>\n",
       "    </tr>\n",
       "    <tr>\n",
       "      <th>2013-06-01 01:00:00</th>\n",
       "      <td>0.253613</td>\n",
       "    </tr>\n",
       "    <tr>\n",
       "      <th>2013-06-01 02:00:00</th>\n",
       "      <td>0.216167</td>\n",
       "    </tr>\n",
       "    <tr>\n",
       "      <th>2013-06-01 03:00:00</th>\n",
       "      <td>0.200526</td>\n",
       "    </tr>\n",
       "    <tr>\n",
       "      <th>2013-06-01 04:00:00</th>\n",
       "      <td>0.195418</td>\n",
       "    </tr>\n",
       "  </tbody>\n",
       "</table>\n",
       "</div>"
      ],
      "text/plain": [
       "                     nrg_cons\n",
       "DateTime                     \n",
       "2013-06-01 00:00:00  0.149790\n",
       "2013-06-01 01:00:00  0.253613\n",
       "2013-06-01 02:00:00  0.216167\n",
       "2013-06-01 03:00:00  0.200526\n",
       "2013-06-01 04:00:00  0.195418"
      ]
     },
     "execution_count": 13,
     "metadata": {},
     "output_type": "execute_result"
    }
   ],
   "source": [
    "df.head()"
   ]
  },
  {
   "cell_type": "code",
   "execution_count": 14,
   "metadata": {
    "collapsed": false
   },
   "outputs": [],
   "source": [
    "# creating a stupid column to merge on\n",
    "df['DateTime'] = df.index"
   ]
  },
  {
   "cell_type": "code",
   "execution_count": 15,
   "metadata": {
    "collapsed": false
   },
   "outputs": [
    {
     "data": {
      "text/html": [
       "<div>\n",
       "<table border=\"1\" class=\"dataframe\">\n",
       "  <thead>\n",
       "    <tr style=\"text-align: right;\">\n",
       "      <th></th>\n",
       "      <th>nrg_cons</th>\n",
       "      <th>DateTime</th>\n",
       "    </tr>\n",
       "    <tr>\n",
       "      <th>DateTime</th>\n",
       "      <th></th>\n",
       "      <th></th>\n",
       "    </tr>\n",
       "  </thead>\n",
       "  <tbody>\n",
       "    <tr>\n",
       "      <th>2013-06-01 00:00:00</th>\n",
       "      <td>0.149790</td>\n",
       "      <td>2013-06-01 00:00:00</td>\n",
       "    </tr>\n",
       "    <tr>\n",
       "      <th>2013-06-01 01:00:00</th>\n",
       "      <td>0.253613</td>\n",
       "      <td>2013-06-01 01:00:00</td>\n",
       "    </tr>\n",
       "    <tr>\n",
       "      <th>2013-06-01 02:00:00</th>\n",
       "      <td>0.216167</td>\n",
       "      <td>2013-06-01 02:00:00</td>\n",
       "    </tr>\n",
       "    <tr>\n",
       "      <th>2013-06-01 03:00:00</th>\n",
       "      <td>0.200526</td>\n",
       "      <td>2013-06-01 03:00:00</td>\n",
       "    </tr>\n",
       "    <tr>\n",
       "      <th>2013-06-01 04:00:00</th>\n",
       "      <td>0.195418</td>\n",
       "      <td>2013-06-01 04:00:00</td>\n",
       "    </tr>\n",
       "  </tbody>\n",
       "</table>\n",
       "</div>"
      ],
      "text/plain": [
       "                     nrg_cons            DateTime\n",
       "DateTime                                         \n",
       "2013-06-01 00:00:00  0.149790 2013-06-01 00:00:00\n",
       "2013-06-01 01:00:00  0.253613 2013-06-01 01:00:00\n",
       "2013-06-01 02:00:00  0.216167 2013-06-01 02:00:00\n",
       "2013-06-01 03:00:00  0.200526 2013-06-01 03:00:00\n",
       "2013-06-01 04:00:00  0.195418 2013-06-01 04:00:00"
      ]
     },
     "execution_count": 15,
     "metadata": {},
     "output_type": "execute_result"
    }
   ],
   "source": [
    "df.head()"
   ]
  },
  {
   "cell_type": "code",
   "execution_count": 16,
   "metadata": {
    "collapsed": false
   },
   "outputs": [
    {
     "data": {
      "text/html": [
       "<div>\n",
       "<table border=\"1\" class=\"dataframe\">\n",
       "  <thead>\n",
       "    <tr style=\"text-align: right;\">\n",
       "      <th></th>\n",
       "      <th>Unnamed: 0</th>\n",
       "      <th>nrg_cons</th>\n",
       "      <th>nrg_cons.1</th>\n",
       "      <th>nrg_cons.2</th>\n",
       "    </tr>\n",
       "  </thead>\n",
       "  <tbody>\n",
       "    <tr>\n",
       "      <th>0</th>\n",
       "      <td>Acorn_grouped</td>\n",
       "      <td>Adversity</td>\n",
       "      <td>Affluent</td>\n",
       "      <td>Comfortable</td>\n",
       "    </tr>\n",
       "    <tr>\n",
       "      <th>1</th>\n",
       "      <td>DateTime</td>\n",
       "      <td>NaN</td>\n",
       "      <td>NaN</td>\n",
       "      <td>NaN</td>\n",
       "    </tr>\n",
       "    <tr>\n",
       "      <th>2</th>\n",
       "      <td>2013-06-01 00:00:00</td>\n",
       "      <td>0.133975344037</td>\n",
       "      <td>0.163082139398</td>\n",
       "      <td>0.14961680362</td>\n",
       "    </tr>\n",
       "    <tr>\n",
       "      <th>3</th>\n",
       "      <td>2013-06-01 01:00:00</td>\n",
       "      <td>0.230842044859</td>\n",
       "      <td>0.27870004783</td>\n",
       "      <td>0.244764505256</td>\n",
       "    </tr>\n",
       "    <tr>\n",
       "      <th>4</th>\n",
       "      <td>2013-06-01 02:00:00</td>\n",
       "      <td>0.189835152154</td>\n",
       "      <td>0.24543994285</td>\n",
       "      <td>0.205539249147</td>\n",
       "    </tr>\n",
       "  </tbody>\n",
       "</table>\n",
       "</div>"
      ],
      "text/plain": [
       "            Unnamed: 0        nrg_cons      nrg_cons.1      nrg_cons.2\n",
       "0        Acorn_grouped       Adversity        Affluent     Comfortable\n",
       "1             DateTime             NaN             NaN             NaN\n",
       "2  2013-06-01 00:00:00  0.133975344037  0.163082139398   0.14961680362\n",
       "3  2013-06-01 01:00:00  0.230842044859   0.27870004783  0.244764505256\n",
       "4  2013-06-01 02:00:00  0.189835152154   0.24543994285  0.205539249147"
      ]
     },
     "execution_count": 16,
     "metadata": {},
     "output_type": "execute_result"
    }
   ],
   "source": [
    "# get the rouped energy data\n",
    "\n",
    "df2 = pd.read_csv(\"C:\\\\Users\\\\Hrafnkell\\\\Documents\\\\GitHub\\\\Taming-the-Peak\\\\Final_Data\\\\energy_final_summer_2013.csv\",\n",
    "                               parse_dates=[0], infer_datetime_format=True)\n",
    "#df = pd.read_csv(\"~/Desktop/CUSP/Applied_Data_Science/Taming-the-Peak/Final_Data/grouped_nrg_winter1314.csv\",\n",
    "#                               parse_dates=[0], infer_datetime_format=True)\n",
    "\n",
    "df2.head()"
   ]
  },
  {
   "cell_type": "code",
   "execution_count": 17,
   "metadata": {
    "collapsed": false
   },
   "outputs": [],
   "source": [
    "df2['DateTime'] = df2['Unnamed: 0']"
   ]
  },
  {
   "cell_type": "code",
   "execution_count": 30,
   "metadata": {
    "collapsed": false
   },
   "outputs": [
    {
     "data": {
      "text/plain": [
       "pandas.tslib.Timestamp"
      ]
     },
     "execution_count": 30,
     "metadata": {},
     "output_type": "execute_result"
    }
   ],
   "source": [
    "type(df.DateTime[1])"
   ]
  },
  {
   "cell_type": "code",
   "execution_count": 33,
   "metadata": {
    "collapsed": false
   },
   "outputs": [
    {
     "data": {
      "text/plain": [
       "str"
      ]
     },
     "execution_count": 33,
     "metadata": {},
     "output_type": "execute_result"
    }
   ],
   "source": [
    "type(df2.DateTime[5])"
   ]
  },
  {
   "cell_type": "code",
   "execution_count": 22,
   "metadata": {
    "collapsed": false
   },
   "outputs": [
    {
     "data": {
      "text/html": [
       "<div>\n",
       "<table border=\"1\" class=\"dataframe\">\n",
       "  <thead>\n",
       "    <tr style=\"text-align: right;\">\n",
       "      <th></th>\n",
       "      <th>nrg_cons</th>\n",
       "      <th>DateTime</th>\n",
       "    </tr>\n",
       "    <tr>\n",
       "      <th>DateTime</th>\n",
       "      <th></th>\n",
       "      <th></th>\n",
       "    </tr>\n",
       "  </thead>\n",
       "  <tbody>\n",
       "    <tr>\n",
       "      <th>2013-06-01 00:00:00</th>\n",
       "      <td>0.149790</td>\n",
       "      <td>2013-06-01 00:00:00</td>\n",
       "    </tr>\n",
       "    <tr>\n",
       "      <th>2013-06-01 01:00:00</th>\n",
       "      <td>0.253613</td>\n",
       "      <td>2013-06-01 01:00:00</td>\n",
       "    </tr>\n",
       "    <tr>\n",
       "      <th>2013-06-01 02:00:00</th>\n",
       "      <td>0.216167</td>\n",
       "      <td>2013-06-01 02:00:00</td>\n",
       "    </tr>\n",
       "    <tr>\n",
       "      <th>2013-06-01 03:00:00</th>\n",
       "      <td>0.200526</td>\n",
       "      <td>2013-06-01 03:00:00</td>\n",
       "    </tr>\n",
       "    <tr>\n",
       "      <th>2013-06-01 04:00:00</th>\n",
       "      <td>0.195418</td>\n",
       "      <td>2013-06-01 04:00:00</td>\n",
       "    </tr>\n",
       "  </tbody>\n",
       "</table>\n",
       "</div>"
      ],
      "text/plain": [
       "                     nrg_cons            DateTime\n",
       "DateTime                                         \n",
       "2013-06-01 00:00:00  0.149790 2013-06-01 00:00:00\n",
       "2013-06-01 01:00:00  0.253613 2013-06-01 01:00:00\n",
       "2013-06-01 02:00:00  0.216167 2013-06-01 02:00:00\n",
       "2013-06-01 03:00:00  0.200526 2013-06-01 03:00:00\n",
       "2013-06-01 04:00:00  0.195418 2013-06-01 04:00:00"
      ]
     },
     "execution_count": 22,
     "metadata": {},
     "output_type": "execute_result"
    }
   ],
   "source": [
    "df.head()"
   ]
  },
  {
   "cell_type": "code",
   "execution_count": 36,
   "metadata": {
    "collapsed": false
   },
   "outputs": [],
   "source": [
    "df2.drop([0, 1], inplace=True)"
   ]
  },
  {
   "cell_type": "code",
   "execution_count": 38,
   "metadata": {
    "collapsed": true
   },
   "outputs": [],
   "source": [
    "df2.DateTime = pd.to_datetime(df2.DateTime)"
   ]
  },
  {
   "cell_type": "code",
   "execution_count": 37,
   "metadata": {
    "collapsed": false
   },
   "outputs": [
    {
     "data": {
      "text/html": [
       "<div>\n",
       "<table border=\"1\" class=\"dataframe\">\n",
       "  <thead>\n",
       "    <tr style=\"text-align: right;\">\n",
       "      <th></th>\n",
       "      <th>Unnamed: 0</th>\n",
       "      <th>nrg_cons</th>\n",
       "      <th>nrg_cons.1</th>\n",
       "      <th>nrg_cons.2</th>\n",
       "      <th>DateTime</th>\n",
       "    </tr>\n",
       "  </thead>\n",
       "  <tbody>\n",
       "    <tr>\n",
       "      <th>2</th>\n",
       "      <td>2013-06-01 00:00:00</td>\n",
       "      <td>0.133975344037</td>\n",
       "      <td>0.163082139398</td>\n",
       "      <td>0.14961680362</td>\n",
       "      <td>2013-06-01 00:00:00</td>\n",
       "    </tr>\n",
       "    <tr>\n",
       "      <th>3</th>\n",
       "      <td>2013-06-01 01:00:00</td>\n",
       "      <td>0.230842044859</td>\n",
       "      <td>0.27870004783</td>\n",
       "      <td>0.244764505256</td>\n",
       "      <td>2013-06-01 01:00:00</td>\n",
       "    </tr>\n",
       "    <tr>\n",
       "      <th>4</th>\n",
       "      <td>2013-06-01 02:00:00</td>\n",
       "      <td>0.189835152154</td>\n",
       "      <td>0.24543994285</td>\n",
       "      <td>0.205539249147</td>\n",
       "      <td>2013-06-01 02:00:00</td>\n",
       "    </tr>\n",
       "    <tr>\n",
       "      <th>5</th>\n",
       "      <td>2013-06-01 03:00:00</td>\n",
       "      <td>0.174445146468</td>\n",
       "      <td>0.227108674929</td>\n",
       "      <td>0.193453242389</td>\n",
       "      <td>2013-06-01 03:00:00</td>\n",
       "    </tr>\n",
       "    <tr>\n",
       "      <th>6</th>\n",
       "      <td>2013-06-01 04:00:00</td>\n",
       "      <td>0.168976450316</td>\n",
       "      <td>0.220245471926</td>\n",
       "      <td>0.191286006826</td>\n",
       "      <td>2013-06-01 04:00:00</td>\n",
       "    </tr>\n",
       "  </tbody>\n",
       "</table>\n",
       "</div>"
      ],
      "text/plain": [
       "            Unnamed: 0        nrg_cons      nrg_cons.1      nrg_cons.2  \\\n",
       "2  2013-06-01 00:00:00  0.133975344037  0.163082139398   0.14961680362   \n",
       "3  2013-06-01 01:00:00  0.230842044859   0.27870004783  0.244764505256   \n",
       "4  2013-06-01 02:00:00  0.189835152154   0.24543994285  0.205539249147   \n",
       "5  2013-06-01 03:00:00  0.174445146468  0.227108674929  0.193453242389   \n",
       "6  2013-06-01 04:00:00  0.168976450316  0.220245471926  0.191286006826   \n",
       "\n",
       "              DateTime  \n",
       "2  2013-06-01 00:00:00  \n",
       "3  2013-06-01 01:00:00  \n",
       "4  2013-06-01 02:00:00  \n",
       "5  2013-06-01 03:00:00  \n",
       "6  2013-06-01 04:00:00  "
      ]
     },
     "execution_count": 37,
     "metadata": {},
     "output_type": "execute_result"
    }
   ],
   "source": [
    "df2.head()"
   ]
  },
  {
   "cell_type": "code",
   "execution_count": 39,
   "metadata": {
    "collapsed": false
   },
   "outputs": [],
   "source": [
    "merged = pd.merge(left=df2, right=df, how='left', on='DateTime')"
   ]
  },
  {
   "cell_type": "code",
   "execution_count": 41,
   "metadata": {
    "collapsed": false
   },
   "outputs": [],
   "source": [
    "merged.drop(['DateTime'], axis=1, inplace=True)"
   ]
  },
  {
   "cell_type": "code",
   "execution_count": 42,
   "metadata": {
    "collapsed": true
   },
   "outputs": [],
   "source": [
    "merged.columns = ['DateTime', 'Adversity', 'Affluent', 'Comfortable', 'Overall']"
   ]
  },
  {
   "cell_type": "code",
   "execution_count": 43,
   "metadata": {
    "collapsed": false
   },
   "outputs": [
    {
     "data": {
      "text/html": [
       "<div>\n",
       "<table border=\"1\" class=\"dataframe\">\n",
       "  <thead>\n",
       "    <tr style=\"text-align: right;\">\n",
       "      <th></th>\n",
       "      <th>DateTime</th>\n",
       "      <th>Adversity</th>\n",
       "      <th>Affluent</th>\n",
       "      <th>Comfortable</th>\n",
       "      <th>Overall</th>\n",
       "    </tr>\n",
       "  </thead>\n",
       "  <tbody>\n",
       "    <tr>\n",
       "      <th>0</th>\n",
       "      <td>2013-06-01 00:00:00</td>\n",
       "      <td>0.133975344037</td>\n",
       "      <td>0.163082139398</td>\n",
       "      <td>0.14961680362</td>\n",
       "      <td>0.149790</td>\n",
       "    </tr>\n",
       "    <tr>\n",
       "      <th>1</th>\n",
       "      <td>2013-06-01 01:00:00</td>\n",
       "      <td>0.230842044859</td>\n",
       "      <td>0.27870004783</td>\n",
       "      <td>0.244764505256</td>\n",
       "      <td>0.253613</td>\n",
       "    </tr>\n",
       "    <tr>\n",
       "      <th>2</th>\n",
       "      <td>2013-06-01 02:00:00</td>\n",
       "      <td>0.189835152154</td>\n",
       "      <td>0.24543994285</td>\n",
       "      <td>0.205539249147</td>\n",
       "      <td>0.216167</td>\n",
       "    </tr>\n",
       "    <tr>\n",
       "      <th>3</th>\n",
       "      <td>2013-06-01 03:00:00</td>\n",
       "      <td>0.174445146468</td>\n",
       "      <td>0.227108674929</td>\n",
       "      <td>0.193453242389</td>\n",
       "      <td>0.200526</td>\n",
       "    </tr>\n",
       "    <tr>\n",
       "      <th>4</th>\n",
       "      <td>2013-06-01 04:00:00</td>\n",
       "      <td>0.168976450316</td>\n",
       "      <td>0.220245471926</td>\n",
       "      <td>0.191286006826</td>\n",
       "      <td>0.195418</td>\n",
       "    </tr>\n",
       "  </tbody>\n",
       "</table>\n",
       "</div>"
      ],
      "text/plain": [
       "              DateTime       Adversity        Affluent     Comfortable  \\\n",
       "0  2013-06-01 00:00:00  0.133975344037  0.163082139398   0.14961680362   \n",
       "1  2013-06-01 01:00:00  0.230842044859   0.27870004783  0.244764505256   \n",
       "2  2013-06-01 02:00:00  0.189835152154   0.24543994285  0.205539249147   \n",
       "3  2013-06-01 03:00:00  0.174445146468  0.227108674929  0.193453242389   \n",
       "4  2013-06-01 04:00:00  0.168976450316  0.220245471926  0.191286006826   \n",
       "\n",
       "    Overall  \n",
       "0  0.149790  \n",
       "1  0.253613  \n",
       "2  0.216167  \n",
       "3  0.200526  \n",
       "4  0.195418  "
      ]
     },
     "execution_count": 43,
     "metadata": {},
     "output_type": "execute_result"
    }
   ],
   "source": [
    "merged.head()"
   ]
  },
  {
   "cell_type": "code",
   "execution_count": 44,
   "metadata": {
    "collapsed": false
   },
   "outputs": [
    {
     "data": {
      "text/html": [
       "<div>\n",
       "<table border=\"1\" class=\"dataframe\">\n",
       "  <thead>\n",
       "    <tr style=\"text-align: right;\">\n",
       "      <th></th>\n",
       "      <th>DateTime</th>\n",
       "      <th>Adversity</th>\n",
       "      <th>Affluent</th>\n",
       "      <th>Comfortable</th>\n",
       "      <th>Overall</th>\n",
       "    </tr>\n",
       "  </thead>\n",
       "  <tbody>\n",
       "    <tr>\n",
       "      <th>2203</th>\n",
       "      <td>2013-08-31 19:00:00</td>\n",
       "      <td>0.380412763759</td>\n",
       "      <td>0.498233024231</td>\n",
       "      <td>0.436866944006</td>\n",
       "      <td>0.442483</td>\n",
       "    </tr>\n",
       "    <tr>\n",
       "      <th>2204</th>\n",
       "      <td>2013-08-31 20:00:00</td>\n",
       "      <td>0.415747658021</td>\n",
       "      <td>0.526860283439</td>\n",
       "      <td>0.483189882259</td>\n",
       "      <td>0.478227</td>\n",
       "    </tr>\n",
       "    <tr>\n",
       "      <th>2205</th>\n",
       "      <td>2013-08-31 21:00:00</td>\n",
       "      <td>0.393023419028</td>\n",
       "      <td>0.50210307748</td>\n",
       "      <td>0.471447678309</td>\n",
       "      <td>0.457751</td>\n",
       "    </tr>\n",
       "    <tr>\n",
       "      <th>2206</th>\n",
       "      <td>2013-08-31 22:00:00</td>\n",
       "      <td>0.350716627518</td>\n",
       "      <td>0.44729213488</td>\n",
       "      <td>0.422129590991</td>\n",
       "      <td>0.408573</td>\n",
       "    </tr>\n",
       "    <tr>\n",
       "      <th>2207</th>\n",
       "      <td>2013-08-31 23:00:00</td>\n",
       "      <td>0.29669613589</td>\n",
       "      <td>0.364547142062</td>\n",
       "      <td>0.346575190506</td>\n",
       "      <td>0.337263</td>\n",
       "    </tr>\n",
       "  </tbody>\n",
       "</table>\n",
       "</div>"
      ],
      "text/plain": [
       "                 DateTime       Adversity        Affluent     Comfortable  \\\n",
       "2203  2013-08-31 19:00:00  0.380412763759  0.498233024231  0.436866944006   \n",
       "2204  2013-08-31 20:00:00  0.415747658021  0.526860283439  0.483189882259   \n",
       "2205  2013-08-31 21:00:00  0.393023419028   0.50210307748  0.471447678309   \n",
       "2206  2013-08-31 22:00:00  0.350716627518   0.44729213488  0.422129590991   \n",
       "2207  2013-08-31 23:00:00   0.29669613589  0.364547142062  0.346575190506   \n",
       "\n",
       "       Overall  \n",
       "2203  0.442483  \n",
       "2204  0.478227  \n",
       "2205  0.457751  \n",
       "2206  0.408573  \n",
       "2207  0.337263  "
      ]
     },
     "execution_count": 44,
     "metadata": {},
     "output_type": "execute_result"
    }
   ],
   "source": [
    "merged.tail()"
   ]
  },
  {
   "cell_type": "code",
   "execution_count": null,
   "metadata": {
    "collapsed": true
   },
   "outputs": [],
   "source": []
  },
  {
   "cell_type": "code",
   "execution_count": 45,
   "metadata": {
    "collapsed": true
   },
   "outputs": [],
   "source": [
    "output = \"C:\\\\Users\\\\Hrafnkell\\\\Documents\\\\GitHub\\\\Taming-the-Peak\\\\Final_Data\\\\energy_final_summer_2013.csv\"\n",
    "\n",
    "merged.to_csv(output)"
   ]
  }
 ],
 "metadata": {
  "kernelspec": {
   "display_name": "Python [Root]",
   "language": "python",
   "name": "Python [Root]"
  },
  "language_info": {
   "codemirror_mode": {
    "name": "ipython",
    "version": 2
   },
   "file_extension": ".py",
   "mimetype": "text/x-python",
   "name": "python",
   "nbconvert_exporter": "python",
   "pygments_lexer": "ipython2",
   "version": "2.7.12"
  }
 },
 "nbformat": 4,
 "nbformat_minor": 0
}
