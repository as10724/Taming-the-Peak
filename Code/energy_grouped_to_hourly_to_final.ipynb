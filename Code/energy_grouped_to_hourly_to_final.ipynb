{
 "cells": [
  {
   "cell_type": "code",
   "execution_count": 29,
   "metadata": {
    "collapsed": true
   },
   "outputs": [],
   "source": [
    "import pandas as pd\n",
    "import numpy as np"
   ]
  },
  {
   "cell_type": "code",
   "execution_count": 30,
   "metadata": {
    "collapsed": false
   },
   "outputs": [],
   "source": [
    "data = pd.read_csv('C:\\\\Users\\\\Hrafnkell\\\\Documents\\\\GitHub\\\\Taming-the-Peak\\\\Final_Data\\\\energy_hourly_2012_13.csv')"
   ]
  },
  {
   "cell_type": "code",
   "execution_count": 31,
   "metadata": {
    "collapsed": true
   },
   "outputs": [],
   "source": [
    "# groupping data\n",
    "data = pd.concat([data.groupby(['DateTime', 'Acorn_grouped', 'stdorToU']).mean().iloc[:,:-1],\n",
    "        data.groupby(['DateTime', 'Acorn_grouped', 'stdorToU']).sum().iloc[:, -1]], axis = 1)"
   ]
  },
  {
   "cell_type": "code",
   "execution_count": 32,
   "metadata": {
    "collapsed": false
   },
   "outputs": [
    {
     "data": {
      "text/html": [
       "<div>\n",
       "<table border=\"1\" class=\"dataframe\">\n",
       "  <thead>\n",
       "    <tr style=\"text-align: right;\">\n",
       "      <th></th>\n",
       "      <th></th>\n",
       "      <th></th>\n",
       "      <th>N</th>\n",
       "      <th>nrg_cons</th>\n",
       "    </tr>\n",
       "    <tr>\n",
       "      <th>DateTime</th>\n",
       "      <th>Acorn_grouped</th>\n",
       "      <th>stdorToU</th>\n",
       "      <th></th>\n",
       "      <th></th>\n",
       "    </tr>\n",
       "  </thead>\n",
       "  <tbody>\n",
       "    <tr>\n",
       "      <th rowspan=\"6\" valign=\"top\">2012-12-01 00:00:00</th>\n",
       "      <th rowspan=\"2\" valign=\"top\">Adversity</th>\n",
       "      <th>Std</th>\n",
       "      <td>1507</td>\n",
       "      <td>0.184107</td>\n",
       "    </tr>\n",
       "    <tr>\n",
       "      <th>ToU</th>\n",
       "      <td>296</td>\n",
       "      <td>0.172939</td>\n",
       "    </tr>\n",
       "    <tr>\n",
       "      <th rowspan=\"2\" valign=\"top\">Affluent</th>\n",
       "      <th>Std</th>\n",
       "      <td>1692</td>\n",
       "      <td>0.295701</td>\n",
       "    </tr>\n",
       "    <tr>\n",
       "      <th>ToU</th>\n",
       "      <td>486</td>\n",
       "      <td>0.280009</td>\n",
       "    </tr>\n",
       "    <tr>\n",
       "      <th rowspan=\"2\" valign=\"top\">Comfortable</th>\n",
       "      <th>Std</th>\n",
       "      <td>1173</td>\n",
       "      <td>0.221428</td>\n",
       "    </tr>\n",
       "    <tr>\n",
       "      <th>ToU</th>\n",
       "      <td>322</td>\n",
       "      <td>0.197662</td>\n",
       "    </tr>\n",
       "    <tr>\n",
       "      <th rowspan=\"6\" valign=\"top\">2012-12-01 01:00:00</th>\n",
       "      <th rowspan=\"2\" valign=\"top\">Adversity</th>\n",
       "      <th>Std</th>\n",
       "      <td>1508</td>\n",
       "      <td>0.447034</td>\n",
       "    </tr>\n",
       "    <tr>\n",
       "      <th>ToU</th>\n",
       "      <td>296</td>\n",
       "      <td>0.287162</td>\n",
       "    </tr>\n",
       "    <tr>\n",
       "      <th rowspan=\"2\" valign=\"top\">Affluent</th>\n",
       "      <th>Std</th>\n",
       "      <td>1692</td>\n",
       "      <td>0.489668</td>\n",
       "    </tr>\n",
       "    <tr>\n",
       "      <th>ToU</th>\n",
       "      <td>486</td>\n",
       "      <td>0.411098</td>\n",
       "    </tr>\n",
       "    <tr>\n",
       "      <th rowspan=\"2\" valign=\"top\">Comfortable</th>\n",
       "      <th>Std</th>\n",
       "      <td>1174</td>\n",
       "      <td>0.526735</td>\n",
       "    </tr>\n",
       "    <tr>\n",
       "      <th>ToU</th>\n",
       "      <td>322</td>\n",
       "      <td>0.308985</td>\n",
       "    </tr>\n",
       "    <tr>\n",
       "      <th rowspan=\"4\" valign=\"top\">2012-12-01 02:00:00</th>\n",
       "      <th rowspan=\"2\" valign=\"top\">Adversity</th>\n",
       "      <th>Std</th>\n",
       "      <td>1508</td>\n",
       "      <td>0.348945</td>\n",
       "    </tr>\n",
       "    <tr>\n",
       "      <th>ToU</th>\n",
       "      <td>296</td>\n",
       "      <td>0.245688</td>\n",
       "    </tr>\n",
       "    <tr>\n",
       "      <th rowspan=\"2\" valign=\"top\">Affluent</th>\n",
       "      <th>Std</th>\n",
       "      <td>1692</td>\n",
       "      <td>0.385705</td>\n",
       "    </tr>\n",
       "    <tr>\n",
       "      <th>ToU</th>\n",
       "      <td>486</td>\n",
       "      <td>0.358351</td>\n",
       "    </tr>\n",
       "  </tbody>\n",
       "</table>\n",
       "</div>"
      ],
      "text/plain": [
       "                                               N  nrg_cons\n",
       "DateTime            Acorn_grouped stdorToU                \n",
       "2012-12-01 00:00:00 Adversity     Std       1507  0.184107\n",
       "                                  ToU        296  0.172939\n",
       "                    Affluent      Std       1692  0.295701\n",
       "                                  ToU        486  0.280009\n",
       "                    Comfortable   Std       1173  0.221428\n",
       "                                  ToU        322  0.197662\n",
       "2012-12-01 01:00:00 Adversity     Std       1508  0.447034\n",
       "                                  ToU        296  0.287162\n",
       "                    Affluent      Std       1692  0.489668\n",
       "                                  ToU        486  0.411098\n",
       "                    Comfortable   Std       1174  0.526735\n",
       "                                  ToU        322  0.308985\n",
       "2012-12-01 02:00:00 Adversity     Std       1508  0.348945\n",
       "                                  ToU        296  0.245688\n",
       "                    Affluent      Std       1692  0.385705\n",
       "                                  ToU        486  0.358351"
      ]
     },
     "execution_count": 32,
     "metadata": {},
     "output_type": "execute_result"
    }
   ],
   "source": [
    "data.head(16)"
   ]
  },
  {
   "cell_type": "code",
   "execution_count": 33,
   "metadata": {
    "collapsed": false
   },
   "outputs": [
    {
     "data": {
      "text/plain": [
       "17424"
      ]
     },
     "execution_count": 33,
     "metadata": {},
     "output_type": "execute_result"
    }
   ],
   "source": [
    "len(data)"
   ]
  },
  {
   "cell_type": "code",
   "execution_count": 28,
   "metadata": {
    "collapsed": false
   },
   "outputs": [
    {
     "name": "stdout",
     "output_type": "stream",
     "text": [
      "% 2.56 "
     ]
    },
    {
     "ename": "ValueError",
     "evalue": "I/O operation on closed file",
     "output_type": "error",
     "traceback": [
      "\u001b[1;31m---------------------------------------------------------------------------\u001b[0m",
      "\u001b[1;31mValueError\u001b[0m                                Traceback (most recent call last)",
      "\u001b[1;32m<ipython-input-28-8eb58d0668cb>\u001b[0m in \u001b[0;36m<module>\u001b[1;34m()\u001b[0m\n\u001b[0;32m      4\u001b[0m     \u001b[1;32mif\u001b[0m \u001b[0mi\u001b[0m\u001b[1;33m[\u001b[0m\u001b[1;36m1\u001b[0m\u001b[1;33m]\u001b[0m \u001b[1;33m==\u001b[0m \u001b[1;34m'ACORN-'\u001b[0m \u001b[1;32mor\u001b[0m \u001b[0mi\u001b[0m\u001b[1;33m[\u001b[0m\u001b[1;36m1\u001b[0m\u001b[1;33m]\u001b[0m \u001b[1;33m==\u001b[0m \u001b[1;34m'ACORN-U'\u001b[0m\u001b[1;33m:\u001b[0m\u001b[1;33m\u001b[0m\u001b[0m\n\u001b[0;32m      5\u001b[0m         \u001b[0mdata\u001b[0m\u001b[1;33m.\u001b[0m\u001b[0mdrop\u001b[0m\u001b[1;33m(\u001b[0m\u001b[0mi\u001b[0m\u001b[1;33m,\u001b[0m \u001b[0minplace\u001b[0m\u001b[1;33m=\u001b[0m\u001b[0mTrue\u001b[0m\u001b[1;33m)\u001b[0m\u001b[1;33m\u001b[0m\u001b[0m\n\u001b[1;32m----> 6\u001b[1;33m     \u001b[1;32mprint\u001b[0m \u001b[1;34m'\\r'\u001b[0m\u001b[1;33m,\u001b[0m\u001b[1;34m\"%\"\u001b[0m\u001b[1;33m,\u001b[0m\u001b[0mstr\u001b[0m\u001b[1;33m(\u001b[0m\u001b[1;33m(\u001b[0m\u001b[0mnumber\u001b[0m\u001b[1;33m+\u001b[0m\u001b[1;36m1\u001b[0m\u001b[1;33m)\u001b[0m\u001b[1;33m*\u001b[0m\u001b[1;36m100.\u001b[0m\u001b[1;33m/\u001b[0m\u001b[0mlen\u001b[0m\u001b[1;33m(\u001b[0m\u001b[0mdata\u001b[0m\u001b[1;33m)\u001b[0m\u001b[1;33m)\u001b[0m\u001b[1;33m[\u001b[0m\u001b[1;33m:\u001b[0m\u001b[1;36m4\u001b[0m\u001b[1;33m]\u001b[0m\u001b[1;33m,\u001b[0m\u001b[1;33m\u001b[0m\u001b[0m\n\u001b[0m",
      "\u001b[1;32mC:\\Users\\Hrafnkell\\Anaconda2\\lib\\site-packages\\ipykernel\\iostream.pyc\u001b[0m in \u001b[0;36mwrite\u001b[1;34m(self, string)\u001b[0m\n\u001b[0;32m    315\u001b[0m \u001b[1;33m\u001b[0m\u001b[0m\n\u001b[0;32m    316\u001b[0m             \u001b[0mis_child\u001b[0m \u001b[1;33m=\u001b[0m \u001b[1;33m(\u001b[0m\u001b[1;32mnot\u001b[0m \u001b[0mself\u001b[0m\u001b[1;33m.\u001b[0m\u001b[0m_is_master_process\u001b[0m\u001b[1;33m(\u001b[0m\u001b[1;33m)\u001b[0m\u001b[1;33m)\u001b[0m\u001b[1;33m\u001b[0m\u001b[0m\n\u001b[1;32m--> 317\u001b[1;33m             \u001b[0mself\u001b[0m\u001b[1;33m.\u001b[0m\u001b[0m_buffer\u001b[0m\u001b[1;33m.\u001b[0m\u001b[0mwrite\u001b[0m\u001b[1;33m(\u001b[0m\u001b[0mstring\u001b[0m\u001b[1;33m)\u001b[0m\u001b[1;33m\u001b[0m\u001b[0m\n\u001b[0m\u001b[0;32m    318\u001b[0m             \u001b[1;32mif\u001b[0m \u001b[0mis_child\u001b[0m\u001b[1;33m:\u001b[0m\u001b[1;33m\u001b[0m\u001b[0m\n\u001b[0;32m    319\u001b[0m                 \u001b[1;31m# newlines imply flush in subprocesses\u001b[0m\u001b[1;33m\u001b[0m\u001b[1;33m\u001b[0m\u001b[0m\n",
      "\u001b[1;31mValueError\u001b[0m: I/O operation on closed file"
     ]
    }
   ],
   "source": [
    "# dropping the rows with incomplete data\n",
    "#this loop takes a while\n",
    "for number, i in enumerate(data.index):\n",
    "    if i[1] == 'ACORN-' or i[1] == 'ACORN-U':\n",
    "        data.drop(i, inplace=True)\n",
    "    print '\\r',\"%\",str((number+1)*100./len(data))[:4],"
   ]
  },
  {
   "cell_type": "code",
   "execution_count": 50,
   "metadata": {
    "collapsed": true
   },
   "outputs": [],
   "source": [
    "data['energy_sum'] = (data['KWH/hh (per half hour) '] * data.LCLid)"
   ]
  },
  {
   "cell_type": "code",
   "execution_count": 51,
   "metadata": {
    "collapsed": false
   },
   "outputs": [],
   "source": [
    "# adding :30 data to :00 data\n",
    "# this loop takes a while\n",
    "def calc_hourly(df):\n",
    "    for n,i in enumerate(df.index):\n",
    "        if i[0][-5:-3] == '30':\n",
    "            if len(df) - n > 6:  \n",
    "                df.energy_sum[n+6] = df.energy_sum[n+6] + df.energy_sum[n]\n",
    "    return df\n",
    "            \n",
    "# dropping :30 data\n",
    "# this loop (predictably) also takes a while\n",
    "def drop_half_hour(df):\n",
    "    for i in df.index:\n",
    "        if i[0][-5:-3] == '30':\n",
    "            df.drop(i, inplace=True)\n",
    "    return df"
   ]
  },
  {
   "cell_type": "code",
   "execution_count": 52,
   "metadata": {
    "collapsed": false
   },
   "outputs": [
    {
     "data": {
      "text/html": [
       "<div>\n",
       "<table border=\"1\" class=\"dataframe\">\n",
       "  <thead>\n",
       "    <tr style=\"text-align: right;\">\n",
       "      <th></th>\n",
       "      <th></th>\n",
       "      <th></th>\n",
       "      <th>KWH/hh (per half hour)</th>\n",
       "      <th>LCLid</th>\n",
       "      <th>energy_sum</th>\n",
       "    </tr>\n",
       "    <tr>\n",
       "      <th>DateTime</th>\n",
       "      <th>Acorn_grouped</th>\n",
       "      <th>stdorToU</th>\n",
       "      <th></th>\n",
       "      <th></th>\n",
       "      <th></th>\n",
       "    </tr>\n",
       "  </thead>\n",
       "  <tbody>\n",
       "    <tr>\n",
       "      <th rowspan=\"6\" valign=\"top\">2012-03-31 23:00:00</th>\n",
       "      <th rowspan=\"2\" valign=\"top\">Adversity</th>\n",
       "      <th>Std</th>\n",
       "      <td>0.156160</td>\n",
       "      <td>269</td>\n",
       "      <td>42.007052</td>\n",
       "    </tr>\n",
       "    <tr>\n",
       "      <th>ToU</th>\n",
       "      <td>0.162066</td>\n",
       "      <td>44</td>\n",
       "      <td>7.130900</td>\n",
       "    </tr>\n",
       "    <tr>\n",
       "      <th rowspan=\"2\" valign=\"top\">Affluent</th>\n",
       "      <th>Std</th>\n",
       "      <td>0.214208</td>\n",
       "      <td>540</td>\n",
       "      <td>115.672533</td>\n",
       "    </tr>\n",
       "    <tr>\n",
       "      <th>ToU</th>\n",
       "      <td>0.203554</td>\n",
       "      <td>113</td>\n",
       "      <td>23.001567</td>\n",
       "    </tr>\n",
       "    <tr>\n",
       "      <th rowspan=\"2\" valign=\"top\">Comfortable</th>\n",
       "      <th>Std</th>\n",
       "      <td>0.153119</td>\n",
       "      <td>211</td>\n",
       "      <td>32.308005</td>\n",
       "    </tr>\n",
       "    <tr>\n",
       "      <th>ToU</th>\n",
       "      <td>0.212259</td>\n",
       "      <td>49</td>\n",
       "      <td>10.400701</td>\n",
       "    </tr>\n",
       "    <tr>\n",
       "      <th rowspan=\"6\" valign=\"top\">2012-03-31 23:30:00</th>\n",
       "      <th rowspan=\"2\" valign=\"top\">Adversity</th>\n",
       "      <th>Std</th>\n",
       "      <td>0.146916</td>\n",
       "      <td>269</td>\n",
       "      <td>39.520393</td>\n",
       "    </tr>\n",
       "    <tr>\n",
       "      <th>ToU</th>\n",
       "      <td>0.176337</td>\n",
       "      <td>44</td>\n",
       "      <td>7.758833</td>\n",
       "    </tr>\n",
       "    <tr>\n",
       "      <th rowspan=\"2\" valign=\"top\">Affluent</th>\n",
       "      <th>Std</th>\n",
       "      <td>0.202857</td>\n",
       "      <td>540</td>\n",
       "      <td>109.542588</td>\n",
       "    </tr>\n",
       "    <tr>\n",
       "      <th>ToU</th>\n",
       "      <td>0.179605</td>\n",
       "      <td>113</td>\n",
       "      <td>20.295406</td>\n",
       "    </tr>\n",
       "    <tr>\n",
       "      <th rowspan=\"2\" valign=\"top\">Comfortable</th>\n",
       "      <th>Std</th>\n",
       "      <td>0.133600</td>\n",
       "      <td>211</td>\n",
       "      <td>28.189589</td>\n",
       "    </tr>\n",
       "    <tr>\n",
       "      <th>ToU</th>\n",
       "      <td>0.181256</td>\n",
       "      <td>49</td>\n",
       "      <td>8.881532</td>\n",
       "    </tr>\n",
       "  </tbody>\n",
       "</table>\n",
       "</div>"
      ],
      "text/plain": [
       "                                            KWH/hh (per half hour)   LCLid  \\\n",
       "DateTime            Acorn_grouped stdorToU                                   \n",
       "2012-03-31 23:00:00 Adversity     Std                      0.156160    269   \n",
       "                                  ToU                      0.162066     44   \n",
       "                    Affluent      Std                      0.214208    540   \n",
       "                                  ToU                      0.203554    113   \n",
       "                    Comfortable   Std                      0.153119    211   \n",
       "                                  ToU                      0.212259     49   \n",
       "2012-03-31 23:30:00 Adversity     Std                      0.146916    269   \n",
       "                                  ToU                      0.176337     44   \n",
       "                    Affluent      Std                      0.202857    540   \n",
       "                                  ToU                      0.179605    113   \n",
       "                    Comfortable   Std                      0.133600    211   \n",
       "                                  ToU                      0.181256     49   \n",
       "\n",
       "                                            energy_sum  \n",
       "DateTime            Acorn_grouped stdorToU              \n",
       "2012-03-31 23:00:00 Adversity     Std        42.007052  \n",
       "                                  ToU         7.130900  \n",
       "                    Affluent      Std       115.672533  \n",
       "                                  ToU        23.001567  \n",
       "                    Comfortable   Std        32.308005  \n",
       "                                  ToU        10.400701  \n",
       "2012-03-31 23:30:00 Adversity     Std        39.520393  \n",
       "                                  ToU         7.758833  \n",
       "                    Affluent      Std       109.542588  \n",
       "                                  ToU        20.295406  \n",
       "                    Comfortable   Std        28.189589  \n",
       "                                  ToU         8.881532  "
      ]
     },
     "execution_count": 52,
     "metadata": {},
     "output_type": "execute_result"
    }
   ],
   "source": [
    "data.tail(12)"
   ]
  },
  {
   "cell_type": "code",
   "execution_count": 53,
   "metadata": {
    "collapsed": false,
    "scrolled": false
   },
   "outputs": [
    {
     "name": "stderr",
     "output_type": "stream",
     "text": [
      "C:\\Users\\Hrafnkell\\Anaconda2\\lib\\site-packages\\ipykernel\\__main__.py:7: SettingWithCopyWarning: \n",
      "A value is trying to be set on a copy of a slice from a DataFrame\n",
      "\n",
      "See the caveats in the documentation: http://pandas.pydata.org/pandas-docs/stable/indexing.html#indexing-view-versus-copy\n"
     ]
    }
   ],
   "source": [
    "# adding :30 data to :00 data\n",
    "# this takes a while\n",
    "data_hourly = calc_hourly(data)"
   ]
  },
  {
   "cell_type": "code",
   "execution_count": 54,
   "metadata": {
    "collapsed": true
   },
   "outputs": [],
   "source": [
    "# dropping :30 data\n",
    "# this (predictably) also takes a while\n",
    "data_hourly = drop_half_hour(data_hourly)"
   ]
  },
  {
   "cell_type": "code",
   "execution_count": 55,
   "metadata": {
    "collapsed": true
   },
   "outputs": [],
   "source": [
    "data_hourly['KWH/h (per hour)'] = data.energy_sum / data.LCLid\n",
    "data_hourly.drop(['KWH/hh (per half hour) ', 'energy_sum'], axis=1, inplace=True)\n",
    "data_hourly.rename(columns={\"KWH/h (per hour)\": \"nrg_cons\", \"LCLid\": \"N\"}, inplace=True)"
   ]
  },
  {
   "cell_type": "code",
   "execution_count": 56,
   "metadata": {
    "collapsed": true
   },
   "outputs": [],
   "source": [
    "# make sure to give the output file the right name\n",
    "# output = 'C:\\\\Users\\\\Hrafnkell\\\\Documents\\\\GitHub\\\\Taming-the-Peak\\\\Final_Data\\\\energy_hourly_2011_12.csv'\n",
    "\n",
    "data_hourly.to_csv(output)"
   ]
  },
  {
   "cell_type": "code",
   "execution_count": 11,
   "metadata": {
    "collapsed": true
   },
   "outputs": [],
   "source": [
    "data_hourly = pd.read_csv('C:\\\\Users\\\\Hrafnkell\\\\Documents\\\\GitHub\\\\Taming-the-Peak\\\\Final_Data\\\\energy_hourly_2012_13.csv')"
   ]
  },
  {
   "cell_type": "code",
   "execution_count": 12,
   "metadata": {
    "collapsed": false
   },
   "outputs": [
    {
     "data": {
      "text/html": [
       "<div>\n",
       "<table border=\"1\" class=\"dataframe\">\n",
       "  <thead>\n",
       "    <tr style=\"text-align: right;\">\n",
       "      <th></th>\n",
       "      <th>DateTime</th>\n",
       "      <th>Acorn_grouped</th>\n",
       "      <th>stdorToU</th>\n",
       "      <th>N</th>\n",
       "      <th>nrg_cons</th>\n",
       "    </tr>\n",
       "  </thead>\n",
       "  <tbody>\n",
       "    <tr>\n",
       "      <th>17412</th>\n",
       "      <td>2013-03-31 22:00:00</td>\n",
       "      <td>Adversity</td>\n",
       "      <td>Std</td>\n",
       "      <td>1469</td>\n",
       "      <td>0.478732</td>\n",
       "    </tr>\n",
       "    <tr>\n",
       "      <th>17413</th>\n",
       "      <td>2013-03-31 22:00:00</td>\n",
       "      <td>Adversity</td>\n",
       "      <td>ToU</td>\n",
       "      <td>290</td>\n",
       "      <td>0.494667</td>\n",
       "    </tr>\n",
       "    <tr>\n",
       "      <th>17414</th>\n",
       "      <td>2013-03-31 22:00:00</td>\n",
       "      <td>Affluent</td>\n",
       "      <td>Std</td>\n",
       "      <td>1639</td>\n",
       "      <td>0.836877</td>\n",
       "    </tr>\n",
       "    <tr>\n",
       "      <th>17415</th>\n",
       "      <td>2013-03-31 22:00:00</td>\n",
       "      <td>Affluent</td>\n",
       "      <td>ToU</td>\n",
       "      <td>482</td>\n",
       "      <td>0.753179</td>\n",
       "    </tr>\n",
       "    <tr>\n",
       "      <th>17416</th>\n",
       "      <td>2013-03-31 22:00:00</td>\n",
       "      <td>Comfortable</td>\n",
       "      <td>Std</td>\n",
       "      <td>1158</td>\n",
       "      <td>0.620571</td>\n",
       "    </tr>\n",
       "    <tr>\n",
       "      <th>17417</th>\n",
       "      <td>2013-03-31 22:00:00</td>\n",
       "      <td>Comfortable</td>\n",
       "      <td>ToU</td>\n",
       "      <td>317</td>\n",
       "      <td>0.534165</td>\n",
       "    </tr>\n",
       "    <tr>\n",
       "      <th>17418</th>\n",
       "      <td>2013-03-31 23:00:00</td>\n",
       "      <td>Adversity</td>\n",
       "      <td>Std</td>\n",
       "      <td>1469</td>\n",
       "      <td>0.393757</td>\n",
       "    </tr>\n",
       "    <tr>\n",
       "      <th>17419</th>\n",
       "      <td>2013-03-31 23:00:00</td>\n",
       "      <td>Adversity</td>\n",
       "      <td>ToU</td>\n",
       "      <td>290</td>\n",
       "      <td>0.430765</td>\n",
       "    </tr>\n",
       "    <tr>\n",
       "      <th>17420</th>\n",
       "      <td>2013-03-31 23:00:00</td>\n",
       "      <td>Affluent</td>\n",
       "      <td>Std</td>\n",
       "      <td>1639</td>\n",
       "      <td>0.674796</td>\n",
       "    </tr>\n",
       "    <tr>\n",
       "      <th>17421</th>\n",
       "      <td>2013-03-31 23:00:00</td>\n",
       "      <td>Affluent</td>\n",
       "      <td>ToU</td>\n",
       "      <td>482</td>\n",
       "      <td>0.605012</td>\n",
       "    </tr>\n",
       "    <tr>\n",
       "      <th>17422</th>\n",
       "      <td>2013-03-31 23:00:00</td>\n",
       "      <td>Comfortable</td>\n",
       "      <td>Std</td>\n",
       "      <td>1158</td>\n",
       "      <td>0.462319</td>\n",
       "    </tr>\n",
       "    <tr>\n",
       "      <th>17423</th>\n",
       "      <td>2013-03-31 23:00:00</td>\n",
       "      <td>Comfortable</td>\n",
       "      <td>ToU</td>\n",
       "      <td>317</td>\n",
       "      <td>0.454068</td>\n",
       "    </tr>\n",
       "  </tbody>\n",
       "</table>\n",
       "</div>"
      ],
      "text/plain": [
       "                  DateTime Acorn_grouped stdorToU     N  nrg_cons\n",
       "17412  2013-03-31 22:00:00     Adversity      Std  1469  0.478732\n",
       "17413  2013-03-31 22:00:00     Adversity      ToU   290  0.494667\n",
       "17414  2013-03-31 22:00:00      Affluent      Std  1639  0.836877\n",
       "17415  2013-03-31 22:00:00      Affluent      ToU   482  0.753179\n",
       "17416  2013-03-31 22:00:00   Comfortable      Std  1158  0.620571\n",
       "17417  2013-03-31 22:00:00   Comfortable      ToU   317  0.534165\n",
       "17418  2013-03-31 23:00:00     Adversity      Std  1469  0.393757\n",
       "17419  2013-03-31 23:00:00     Adversity      ToU   290  0.430765\n",
       "17420  2013-03-31 23:00:00      Affluent      Std  1639  0.674796\n",
       "17421  2013-03-31 23:00:00      Affluent      ToU   482  0.605012\n",
       "17422  2013-03-31 23:00:00   Comfortable      Std  1158  0.462319\n",
       "17423  2013-03-31 23:00:00   Comfortable      ToU   317  0.454068"
      ]
     },
     "execution_count": 12,
     "metadata": {},
     "output_type": "execute_result"
    }
   ],
   "source": [
    "data_hourly.tail(12)"
   ]
  },
  {
   "cell_type": "code",
   "execution_count": 13,
   "metadata": {
    "collapsed": false
   },
   "outputs": [
    {
     "data": {
      "text/html": [
       "<div>\n",
       "<table border=\"1\" class=\"dataframe\">\n",
       "  <thead>\n",
       "    <tr style=\"text-align: right;\">\n",
       "      <th></th>\n",
       "      <th></th>\n",
       "      <th>nrg_cons</th>\n",
       "    </tr>\n",
       "    <tr>\n",
       "      <th>DateTime</th>\n",
       "      <th>Acorn_grouped</th>\n",
       "      <th></th>\n",
       "    </tr>\n",
       "  </thead>\n",
       "  <tbody>\n",
       "    <tr>\n",
       "      <th rowspan=\"3\" valign=\"top\">2012-12-01 00:00:00</th>\n",
       "      <th>Adversity</th>\n",
       "      <td>0.182274</td>\n",
       "    </tr>\n",
       "    <tr>\n",
       "      <th>Affluent</th>\n",
       "      <td>0.292200</td>\n",
       "    </tr>\n",
       "    <tr>\n",
       "      <th>Comfortable</th>\n",
       "      <td>0.216309</td>\n",
       "    </tr>\n",
       "    <tr>\n",
       "      <th rowspan=\"3\" valign=\"top\">2012-12-01 01:00:00</th>\n",
       "      <th>Adversity</th>\n",
       "      <td>0.420802</td>\n",
       "    </tr>\n",
       "    <tr>\n",
       "      <th>Affluent</th>\n",
       "      <td>0.472136</td>\n",
       "    </tr>\n",
       "    <tr>\n",
       "      <th>Comfortable</th>\n",
       "      <td>0.479867</td>\n",
       "    </tr>\n",
       "  </tbody>\n",
       "</table>\n",
       "</div>"
      ],
      "text/plain": [
       "                                   nrg_cons\n",
       "DateTime            Acorn_grouped          \n",
       "2012-12-01 00:00:00 Adversity      0.182274\n",
       "                    Affluent       0.292200\n",
       "                    Comfortable    0.216309\n",
       "2012-12-01 01:00:00 Adversity      0.420802\n",
       "                    Affluent       0.472136\n",
       "                    Comfortable    0.479867"
      ]
     },
     "execution_count": 13,
     "metadata": {},
     "output_type": "execute_result"
    }
   ],
   "source": [
    "# Define a lambda function to compute the weighted mean:\n",
    "wm = lambda x: np.average(x, weights=data_hourly.loc[x.index, \"N\"])\n",
    "\n",
    "# Define a dictionary with the functions to apply for a given column:\n",
    "f = {'nrg_cons': wm}\n",
    "\n",
    "# Groupby and aggregate with your dictionary:\n",
    "df_grouped = data_hourly.groupby([\"DateTime\", \"Acorn_grouped\"]).agg(f)\n",
    "\n",
    "df_grouped.head(6)"
   ]
  },
  {
   "cell_type": "code",
   "execution_count": 14,
   "metadata": {
    "collapsed": false
   },
   "outputs": [
    {
     "data": {
      "text/plain": [
       "('nrg_cons', 'Affluent')"
      ]
     },
     "execution_count": 14,
     "metadata": {},
     "output_type": "execute_result"
    }
   ],
   "source": [
    "df_grouped.unstack(1).columns[1]"
   ]
  },
  {
   "cell_type": "code",
   "execution_count": 15,
   "metadata": {
    "collapsed": false
   },
   "outputs": [
    {
     "data": {
      "text/html": [
       "<div>\n",
       "<table border=\"1\" class=\"dataframe\">\n",
       "  <thead>\n",
       "    <tr>\n",
       "      <th></th>\n",
       "      <th colspan=\"3\" halign=\"left\">nrg_cons</th>\n",
       "    </tr>\n",
       "    <tr>\n",
       "      <th>Acorn_grouped</th>\n",
       "      <th>Adversity</th>\n",
       "      <th>Affluent</th>\n",
       "      <th>Comfortable</th>\n",
       "    </tr>\n",
       "    <tr>\n",
       "      <th>DateTime</th>\n",
       "      <th></th>\n",
       "      <th></th>\n",
       "      <th></th>\n",
       "    </tr>\n",
       "  </thead>\n",
       "  <tbody>\n",
       "    <tr>\n",
       "      <th>2012-12-01 00:00:00</th>\n",
       "      <td>0.182274</td>\n",
       "      <td>0.292200</td>\n",
       "      <td>0.216309</td>\n",
       "    </tr>\n",
       "    <tr>\n",
       "      <th>2012-12-01 01:00:00</th>\n",
       "      <td>0.420802</td>\n",
       "      <td>0.472136</td>\n",
       "      <td>0.479867</td>\n",
       "    </tr>\n",
       "    <tr>\n",
       "      <th>2012-12-01 02:00:00</th>\n",
       "      <td>0.332003</td>\n",
       "      <td>0.379601</td>\n",
       "      <td>0.374745</td>\n",
       "    </tr>\n",
       "    <tr>\n",
       "      <th>2012-12-01 03:00:00</th>\n",
       "      <td>0.276788</td>\n",
       "      <td>0.347464</td>\n",
       "      <td>0.312078</td>\n",
       "    </tr>\n",
       "    <tr>\n",
       "      <th>2012-12-01 04:00:00</th>\n",
       "      <td>0.251663</td>\n",
       "      <td>0.343927</td>\n",
       "      <td>0.295329</td>\n",
       "    </tr>\n",
       "    <tr>\n",
       "      <th>2012-12-01 05:00:00</th>\n",
       "      <td>0.250724</td>\n",
       "      <td>0.341324</td>\n",
       "      <td>0.291761</td>\n",
       "    </tr>\n",
       "  </tbody>\n",
       "</table>\n",
       "</div>"
      ],
      "text/plain": [
       "                     nrg_cons                      \n",
       "Acorn_grouped       Adversity  Affluent Comfortable\n",
       "DateTime                                           \n",
       "2012-12-01 00:00:00  0.182274  0.292200    0.216309\n",
       "2012-12-01 01:00:00  0.420802  0.472136    0.479867\n",
       "2012-12-01 02:00:00  0.332003  0.379601    0.374745\n",
       "2012-12-01 03:00:00  0.276788  0.347464    0.312078\n",
       "2012-12-01 04:00:00  0.251663  0.343927    0.295329\n",
       "2012-12-01 05:00:00  0.250724  0.341324    0.291761"
      ]
     },
     "execution_count": 15,
     "metadata": {},
     "output_type": "execute_result"
    }
   ],
   "source": [
    "nrg_regress = df_grouped.unstack(1)\n",
    "nrg_regress.head(6)"
   ]
  },
  {
   "cell_type": "code",
   "execution_count": 16,
   "metadata": {
    "collapsed": false
   },
   "outputs": [
    {
     "data": {
      "text/html": [
       "<div>\n",
       "<table border=\"1\" class=\"dataframe\">\n",
       "  <thead>\n",
       "    <tr>\n",
       "      <th></th>\n",
       "      <th colspan=\"3\" halign=\"left\">nrg_cons</th>\n",
       "    </tr>\n",
       "    <tr>\n",
       "      <th>Acorn_grouped</th>\n",
       "      <th>Adversity</th>\n",
       "      <th>Affluent</th>\n",
       "      <th>Comfortable</th>\n",
       "    </tr>\n",
       "  </thead>\n",
       "  <tbody>\n",
       "    <tr>\n",
       "      <th>count</th>\n",
       "      <td>2904.000000</td>\n",
       "      <td>2904.000000</td>\n",
       "      <td>2904.000000</td>\n",
       "    </tr>\n",
       "    <tr>\n",
       "      <th>mean</th>\n",
       "      <td>0.440457</td>\n",
       "      <td>0.682170</td>\n",
       "      <td>0.532425</td>\n",
       "    </tr>\n",
       "    <tr>\n",
       "      <th>std</th>\n",
       "      <td>0.135898</td>\n",
       "      <td>0.245831</td>\n",
       "      <td>0.176367</td>\n",
       "    </tr>\n",
       "    <tr>\n",
       "      <th>min</th>\n",
       "      <td>0.182274</td>\n",
       "      <td>0.285940</td>\n",
       "      <td>0.216309</td>\n",
       "    </tr>\n",
       "    <tr>\n",
       "      <th>25%</th>\n",
       "      <td>0.346252</td>\n",
       "      <td>0.464757</td>\n",
       "      <td>0.407250</td>\n",
       "    </tr>\n",
       "    <tr>\n",
       "      <th>50%</th>\n",
       "      <td>0.428091</td>\n",
       "      <td>0.680822</td>\n",
       "      <td>0.522395</td>\n",
       "    </tr>\n",
       "    <tr>\n",
       "      <th>75%</th>\n",
       "      <td>0.539547</td>\n",
       "      <td>0.844567</td>\n",
       "      <td>0.654505</td>\n",
       "    </tr>\n",
       "    <tr>\n",
       "      <th>max</th>\n",
       "      <td>0.775011</td>\n",
       "      <td>1.340511</td>\n",
       "      <td>0.970214</td>\n",
       "    </tr>\n",
       "  </tbody>\n",
       "</table>\n",
       "</div>"
      ],
      "text/plain": [
       "                  nrg_cons                          \n",
       "Acorn_grouped    Adversity     Affluent  Comfortable\n",
       "count          2904.000000  2904.000000  2904.000000\n",
       "mean              0.440457     0.682170     0.532425\n",
       "std               0.135898     0.245831     0.176367\n",
       "min               0.182274     0.285940     0.216309\n",
       "25%               0.346252     0.464757     0.407250\n",
       "50%               0.428091     0.680822     0.522395\n",
       "75%               0.539547     0.844567     0.654505\n",
       "max               0.775011     1.340511     0.970214"
      ]
     },
     "execution_count": 16,
     "metadata": {},
     "output_type": "execute_result"
    }
   ],
   "source": [
    "nrg_regress.describe()"
   ]
  },
  {
   "cell_type": "code",
   "execution_count": null,
   "metadata": {
    "collapsed": true
   },
   "outputs": [],
   "source": []
  },
  {
   "cell_type": "code",
   "execution_count": 17,
   "metadata": {
    "collapsed": false
   },
   "outputs": [],
   "source": [
    "# make sure to give the outputfile the right name\n",
    "output = 'C:\\\\Users\\\\Hrafnkell\\\\Documents\\\\GitHub\\\\Taming-the-Peak\\\\Final_Data\\\\energy_final_2012_13.csv'\n",
    "\n",
    "nrg_regress.to_csv(output)"
   ]
  },
  {
   "cell_type": "code",
   "execution_count": null,
   "metadata": {
    "collapsed": true
   },
   "outputs": [],
   "source": []
  }
 ],
 "metadata": {
  "anaconda-cloud": {},
  "kernelspec": {
   "display_name": "Python [Root]",
   "language": "python",
   "name": "Python [Root]"
  },
  "language_info": {
   "codemirror_mode": {
    "name": "ipython",
    "version": 2
   },
   "file_extension": ".py",
   "mimetype": "text/x-python",
   "name": "python",
   "nbconvert_exporter": "python",
   "pygments_lexer": "ipython2",
   "version": "2.7.12"
  }
 },
 "nbformat": 4,
 "nbformat_minor": 0
}
