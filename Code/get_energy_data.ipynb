{
 "cells": [
  {
   "cell_type": "code",
   "execution_count": 1,
   "metadata": {
    "collapsed": true
   },
   "outputs": [],
   "source": [
    "import numpy as np\n",
    "import pandas as pd\n"
   ]
  },
  {
   "cell_type": "code",
   "execution_count": 47,
   "metadata": {
    "collapsed": false
   },
   "outputs": [],
   "source": [
    "dirname = \"~\\Desktop\\CUSP\\Applied_Data_Science\\Project\\Power-Networks-LCL-June2015(withAcornGps).csv_Pieces\\Power-Networks-LCL-June2015(withAcornGps).csv_Pieces\"\n",
    "filename = 'Power-Networks-LCL-June2015(withAcornGps)v2_1.csv'\n",
    "\n",
    "# dtype = {'LCLid': category,\n",
    "#          'stdorToU' : pd.category,\n",
    "#          'DateTime' : np.datetime64,\n",
    "#          'KWH/hh (per half hour) ': float,\n",
    "#          'Acorn' : category,\n",
    "#          'Acorn_grouped' : category \n",
    "#         }\n",
    "\n",
    "nrg = pd.read_csv(dirname + \"/\" + filename)"
   ]
  },
  {
   "cell_type": "code",
   "execution_count": 48,
   "metadata": {
    "collapsed": false
   },
   "outputs": [
    {
     "data": {
      "text/plain": [
       "Index([u'LCLid', u'stdorToU', u'DateTime', u'KWH/hh (per half hour) ',\n",
       "       u'Acorn', u'Acorn_grouped'],\n",
       "      dtype='object')"
      ]
     },
     "execution_count": 48,
     "metadata": {},
     "output_type": "execute_result"
    }
   ],
   "source": [
    "nrg.columns"
   ]
  },
  {
   "cell_type": "code",
   "execution_count": 49,
   "metadata": {
    "collapsed": false
   },
   "outputs": [
    {
     "name": "stdout",
     "output_type": "stream",
     "text": [
      "<class 'pandas.core.frame.DataFrame'>\n",
      "RangeIndex: 1000000 entries, 0 to 999999\n",
      "Data columns (total 6 columns):\n",
      "LCLid                      1000000 non-null object\n",
      "stdorToU                   1000000 non-null object\n",
      "DateTime                   1000000 non-null datetime64[ns]\n",
      "KWH/hh (per half hour)     1000000 non-null object\n",
      "Acorn                      1000000 non-null object\n",
      "Acorn_grouped              1000000 non-null object\n",
      "dtypes: datetime64[ns](1), object(5)\n",
      "memory usage: 45.8+ MB\n"
     ]
    }
   ],
   "source": [
    "nrg.DateTime = pd.to_datetime(nrg.DateTime)\n",
    "\n",
    "nrg.info()"
   ]
  },
  {
   "cell_type": "code",
   "execution_count": 33,
   "metadata": {
    "collapsed": false
   },
   "outputs": [
    {
     "data": {
      "text/plain": [
       "Timestamp('2011-12-06 13:00:00')"
      ]
     },
     "execution_count": 33,
     "metadata": {},
     "output_type": "execute_result"
    }
   ],
   "source": [
    "min(nrg.DateTime)"
   ]
  },
  {
   "cell_type": "code",
   "execution_count": 34,
   "metadata": {
    "collapsed": false
   },
   "outputs": [
    {
     "data": {
      "text/plain": [
       "Timestamp('2014-02-28 00:00:00')"
      ]
     },
     "execution_count": 34,
     "metadata": {},
     "output_type": "execute_result"
    }
   ],
   "source": [
    "max(nrg.DateTime)"
   ]
  },
  {
   "cell_type": "code",
   "execution_count": 50,
   "metadata": {
    "collapsed": false
   },
   "outputs": [
    {
     "name": "stdout",
     "output_type": "stream",
     "text": [
      "<class 'pandas.core.frame.DataFrame'>\n",
      "Int64Index: 111122 entries, 19884 to 983824\n",
      "Data columns (total 6 columns):\n",
      "LCLid                      111122 non-null object\n",
      "stdorToU                   111122 non-null object\n",
      "DateTime                   111122 non-null datetime64[ns]\n",
      "KWH/hh (per half hour)     111122 non-null object\n",
      "Acorn                      111122 non-null object\n",
      "Acorn_grouped              111122 non-null object\n",
      "dtypes: datetime64[ns](1), object(5)\n",
      "memory usage: 5.9+ MB\n"
     ]
    }
   ],
   "source": [
    "winter1314_init = '2013-12-01 00:00:00'\n",
    "winter1314_end = '2014-03-31 23:59:00'\n",
    "\n",
    "nrg_1314 = nrg[nrg.DateTime > winter1314_init]\n",
    "\n",
    "nrg_1314 = nrg_1314[nrg_1314.DateTime < winter1314_end]\n",
    "\n",
    "nrg_1314.info()"
   ]
  },
  {
   "cell_type": "code",
   "execution_count": 45,
   "metadata": {
    "collapsed": false
   },
   "outputs": [],
   "source": [
    "# getting all the winter1314 data\n",
    "\n",
    "dirname = \"~\\Desktop\\CUSP\\Applied_Data_Science\\Project\\Power-Networks-LCL-June2015(withAcornGps).csv_Pieces\\Power-Networks-LCL-June2015(withAcornGps).csv_Pieces\"\n",
    "filename = 'Power-Networks-LCL-June2015(withAcornGps)v2_'\n",
    "\n",
    "winter1314_init = '2013-12-01 00:00:00'\n",
    "winter1314_end = '2014-03-31 23:59:00'\n",
    "\n",
    "nrg_1314_ = pd.DataFrame()\n",
    "\n",
    "for i in range(1, 169):\n",
    "    nrg = pd.read_csv(dirname + \"/\" + filename + str(i) + \".csv\")\n",
    "    nrg.DateTime = pd.to_datetime(nrg.DateTime)\n",
    "    nrg_1314 = nrg[nrg.DateTime > winter1314_init]\n",
    "    nrg_1314 = nrg_1314[nrg_1314.DateTime < winter1314_end]\n",
    "    \n",
    "    if i == 1:\n",
    "        nrg_1314_ = nrg_1314\n",
    "    else:\n",
    "        nrg_1314_ = pd.concat([nrg_1314_, nrg_1314], axis=0)\n",
    "    "
   ]
  },
  {
   "cell_type": "code",
   "execution_count": 46,
   "metadata": {
    "collapsed": false,
    "scrolled": true
   },
   "outputs": [
    {
     "name": "stdout",
     "output_type": "stream",
     "text": [
      "<class 'pandas.core.frame.DataFrame'>\n",
      "Int64Index: 21633522 entries, 19884 to 932428\n",
      "Data columns (total 6 columns):\n",
      "LCLid                      object\n",
      "stdorToU                   object\n",
      "DateTime                   datetime64[ns]\n",
      "KWH/hh (per half hour)     object\n",
      "Acorn                      object\n",
      "Acorn_grouped              object\n",
      "dtypes: datetime64[ns](1), object(5)\n",
      "memory usage: 1.1+ GB\n"
     ]
    }
   ],
   "source": [
    "nrg_1314_.info()"
   ]
  },
  {
   "cell_type": "code",
   "execution_count": 52,
   "metadata": {
    "collapsed": true
   },
   "outputs": [],
   "source": [
    "nrg_1314['KWH/hh (per half hour) '] = pd.to_numeric(nrg_1314['KWH/hh (per half hour) '])"
   ]
  },
  {
   "cell_type": "code",
   "execution_count": 68,
   "metadata": {
    "collapsed": false
   },
   "outputs": [
    {
     "data": {
      "text/html": [
       "<div>\n",
       "<table border=\"1\" class=\"dataframe\">\n",
       "  <thead>\n",
       "    <tr style=\"text-align: right;\">\n",
       "      <th></th>\n",
       "      <th></th>\n",
       "      <th></th>\n",
       "      <th></th>\n",
       "      <th>KWH/hh (per half hour)</th>\n",
       "    </tr>\n",
       "    <tr>\n",
       "      <th>DateTime</th>\n",
       "      <th>Acorn</th>\n",
       "      <th>Acorn_grouped</th>\n",
       "      <th>stdorToU</th>\n",
       "      <th></th>\n",
       "    </tr>\n",
       "  </thead>\n",
       "  <tbody>\n",
       "    <tr>\n",
       "      <th rowspan=\"5\" valign=\"top\">2013-12-01 00:30:00</th>\n",
       "      <th>ACORN-A</th>\n",
       "      <th>Affluent</th>\n",
       "      <th>Std</th>\n",
       "      <td>0.20300</td>\n",
       "    </tr>\n",
       "    <tr>\n",
       "      <th>ACORN-D</th>\n",
       "      <th>Affluent</th>\n",
       "      <th>Std</th>\n",
       "      <td>0.12800</td>\n",
       "    </tr>\n",
       "    <tr>\n",
       "      <th>ACORN-E</th>\n",
       "      <th>Affluent</th>\n",
       "      <th>Std</th>\n",
       "      <td>0.42475</td>\n",
       "    </tr>\n",
       "    <tr>\n",
       "      <th>ACORN-H</th>\n",
       "      <th>Comfortable</th>\n",
       "      <th>Std</th>\n",
       "      <td>0.23600</td>\n",
       "    </tr>\n",
       "    <tr>\n",
       "      <th>ACORN-J</th>\n",
       "      <th>Comfortable</th>\n",
       "      <th>Std</th>\n",
       "      <td>0.15350</td>\n",
       "    </tr>\n",
       "  </tbody>\n",
       "</table>\n",
       "</div>"
      ],
      "text/plain": [
       "                                                    KWH/hh (per half hour) \n",
       "DateTime            Acorn   Acorn_grouped stdorToU                         \n",
       "2013-12-01 00:30:00 ACORN-A Affluent      Std                       0.20300\n",
       "                    ACORN-D Affluent      Std                       0.12800\n",
       "                    ACORN-E Affluent      Std                       0.42475\n",
       "                    ACORN-H Comfortable   Std                       0.23600\n",
       "                    ACORN-J Comfortable   Std                       0.15350"
      ]
     },
     "execution_count": 68,
     "metadata": {},
     "output_type": "execute_result"
    }
   ],
   "source": [
    "nrg_1314.groupby(['DateTime', 'Acorn', 'Acorn_grouped', 'stdorToU']).aggregate(np.mean).head()"
   ]
  },
  {
   "cell_type": "code",
   "execution_count": null,
   "metadata": {
    "collapsed": true
   },
   "outputs": [],
   "source": []
  },
  {
   "cell_type": "code",
   "execution_count": 75,
   "metadata": {
    "collapsed": false
   },
   "outputs": [],
   "source": [
    "grouped_nrg_1314 = pd.concat([nrg_1314.groupby(['DateTime', 'Acorn', 'Acorn_grouped', 'stdorToU']).aggregate(np.mean),\n",
    "        nrg_1314.groupby(['DateTime', 'Acorn', 'Acorn_grouped', 'stdorToU']).count().iloc[:,0]], axis = 1)"
   ]
  },
  {
   "cell_type": "code",
   "execution_count": null,
   "metadata": {
    "collapsed": true
   },
   "outputs": [],
   "source": [
    "nrg_1314_['KWH/hh (per half hour) '] = pd.to_numeric(nrg_1314_['KWH/hh (per half hour) '])"
   ]
  },
  {
   "cell_type": "code",
   "execution_count": 82,
   "metadata": {
    "collapsed": false
   },
   "outputs": [],
   "source": [
    "grouped_nrg_1314_ = pd.concat([nrg_1314_.groupby(['DateTime', 'Acorn_grouped', 'Acorn', 'stdorToU']).aggregate(np.mean),\n",
    "        nrg_1314_.groupby(['DateTime', 'Acorn_grouped', 'Acorn', 'stdorToU']).count().iloc[:,0]], axis = 1)"
   ]
  },
  {
   "cell_type": "code",
   "execution_count": 83,
   "metadata": {
    "collapsed": false
   },
   "outputs": [
    {
     "data": {
      "text/html": [
       "<div>\n",
       "<table border=\"1\" class=\"dataframe\">\n",
       "  <thead>\n",
       "    <tr style=\"text-align: right;\">\n",
       "      <th></th>\n",
       "      <th></th>\n",
       "      <th></th>\n",
       "      <th></th>\n",
       "      <th>KWH/hh (per half hour)</th>\n",
       "      <th>LCLid</th>\n",
       "    </tr>\n",
       "    <tr>\n",
       "      <th>DateTime</th>\n",
       "      <th>Acorn_grouped</th>\n",
       "      <th>Acorn</th>\n",
       "      <th>stdorToU</th>\n",
       "      <th></th>\n",
       "      <th></th>\n",
       "    </tr>\n",
       "  </thead>\n",
       "  <tbody>\n",
       "    <tr>\n",
       "      <th rowspan=\"30\" valign=\"top\">2013-12-01 00:30:00</th>\n",
       "      <th>ACORN-</th>\n",
       "      <th>ACORN-</th>\n",
       "      <th>ToU</th>\n",
       "      <td>0.196000</td>\n",
       "      <td>1</td>\n",
       "    </tr>\n",
       "    <tr>\n",
       "      <th rowspan=\"2\" valign=\"top\">ACORN-U</th>\n",
       "      <th rowspan=\"2\" valign=\"top\">ACORN-U</th>\n",
       "      <th>Std</th>\n",
       "      <td>0.208056</td>\n",
       "      <td>36</td>\n",
       "    </tr>\n",
       "    <tr>\n",
       "      <th>ToU</th>\n",
       "      <td>0.165250</td>\n",
       "      <td>8</td>\n",
       "    </tr>\n",
       "    <tr>\n",
       "      <th rowspan=\"14\" valign=\"top\">Adversity</th>\n",
       "      <th rowspan=\"2\" valign=\"top\">ACORN-K</th>\n",
       "      <th>Std</th>\n",
       "      <td>0.205727</td>\n",
       "      <td>132</td>\n",
       "    </tr>\n",
       "    <tr>\n",
       "      <th>ToU</th>\n",
       "      <td>0.175150</td>\n",
       "      <td>20</td>\n",
       "    </tr>\n",
       "    <tr>\n",
       "      <th rowspan=\"2\" valign=\"top\">ACORN-L</th>\n",
       "      <th>Std</th>\n",
       "      <td>0.179940</td>\n",
       "      <td>251</td>\n",
       "    </tr>\n",
       "    <tr>\n",
       "      <th>ToU</th>\n",
       "      <td>0.160944</td>\n",
       "      <td>72</td>\n",
       "    </tr>\n",
       "    <tr>\n",
       "      <th rowspan=\"2\" valign=\"top\">ACORN-M</th>\n",
       "      <th>Std</th>\n",
       "      <td>0.163674</td>\n",
       "      <td>89</td>\n",
       "    </tr>\n",
       "    <tr>\n",
       "      <th>ToU</th>\n",
       "      <td>0.239250</td>\n",
       "      <td>16</td>\n",
       "    </tr>\n",
       "    <tr>\n",
       "      <th rowspan=\"2\" valign=\"top\">ACORN-N</th>\n",
       "      <th>Std</th>\n",
       "      <td>0.132933</td>\n",
       "      <td>120</td>\n",
       "    </tr>\n",
       "    <tr>\n",
       "      <th>ToU</th>\n",
       "      <td>0.123500</td>\n",
       "      <td>26</td>\n",
       "    </tr>\n",
       "    <tr>\n",
       "      <th rowspan=\"2\" valign=\"top\">ACORN-O</th>\n",
       "      <th>Std</th>\n",
       "      <td>0.182346</td>\n",
       "      <td>78</td>\n",
       "    </tr>\n",
       "    <tr>\n",
       "      <th>ToU</th>\n",
       "      <td>0.160813</td>\n",
       "      <td>16</td>\n",
       "    </tr>\n",
       "    <tr>\n",
       "      <th rowspan=\"2\" valign=\"top\">ACORN-P</th>\n",
       "      <th>Std</th>\n",
       "      <td>0.493440</td>\n",
       "      <td>84</td>\n",
       "    </tr>\n",
       "    <tr>\n",
       "      <th>ToU</th>\n",
       "      <td>0.054200</td>\n",
       "      <td>20</td>\n",
       "    </tr>\n",
       "    <tr>\n",
       "      <th rowspan=\"2\" valign=\"top\">ACORN-Q</th>\n",
       "      <th>Std</th>\n",
       "      <td>0.166531</td>\n",
       "      <td>650</td>\n",
       "    </tr>\n",
       "    <tr>\n",
       "      <th>ToU</th>\n",
       "      <td>0.112909</td>\n",
       "      <td>110</td>\n",
       "    </tr>\n",
       "    <tr>\n",
       "      <th rowspan=\"10\" valign=\"top\">Affluent</th>\n",
       "      <th rowspan=\"2\" valign=\"top\">ACORN-A</th>\n",
       "      <th>Std</th>\n",
       "      <td>0.370170</td>\n",
       "      <td>106</td>\n",
       "    </tr>\n",
       "    <tr>\n",
       "      <th>ToU</th>\n",
       "      <td>0.268946</td>\n",
       "      <td>37</td>\n",
       "    </tr>\n",
       "    <tr>\n",
       "      <th rowspan=\"2\" valign=\"top\">ACORN-B</th>\n",
       "      <th>Std</th>\n",
       "      <td>0.237053</td>\n",
       "      <td>19</td>\n",
       "    </tr>\n",
       "    <tr>\n",
       "      <th>ToU</th>\n",
       "      <td>0.175500</td>\n",
       "      <td>4</td>\n",
       "    </tr>\n",
       "    <tr>\n",
       "      <th rowspan=\"2\" valign=\"top\">ACORN-C</th>\n",
       "      <th>Std</th>\n",
       "      <td>0.222925</td>\n",
       "      <td>107</td>\n",
       "    </tr>\n",
       "    <tr>\n",
       "      <th>ToU</th>\n",
       "      <td>0.141212</td>\n",
       "      <td>33</td>\n",
       "    </tr>\n",
       "    <tr>\n",
       "      <th rowspan=\"2\" valign=\"top\">ACORN-D</th>\n",
       "      <th>Std</th>\n",
       "      <td>0.241588</td>\n",
       "      <td>194</td>\n",
       "    </tr>\n",
       "    <tr>\n",
       "      <th>ToU</th>\n",
       "      <td>0.211627</td>\n",
       "      <td>67</td>\n",
       "    </tr>\n",
       "    <tr>\n",
       "      <th rowspan=\"2\" valign=\"top\">ACORN-E</th>\n",
       "      <th>Std</th>\n",
       "      <td>0.275599</td>\n",
       "      <td>1101</td>\n",
       "    </tr>\n",
       "    <tr>\n",
       "      <th>ToU</th>\n",
       "      <td>0.187293</td>\n",
       "      <td>317</td>\n",
       "    </tr>\n",
       "    <tr>\n",
       "      <th rowspan=\"3\" valign=\"top\">Comfortable</th>\n",
       "      <th rowspan=\"2\" valign=\"top\">ACORN-F</th>\n",
       "      <th>Std</th>\n",
       "      <td>0.183651</td>\n",
       "      <td>499</td>\n",
       "    </tr>\n",
       "    <tr>\n",
       "      <th>ToU</th>\n",
       "      <td>0.164056</td>\n",
       "      <td>143</td>\n",
       "    </tr>\n",
       "    <tr>\n",
       "      <th>ACORN-G</th>\n",
       "      <th>Std</th>\n",
       "      <td>0.213265</td>\n",
       "      <td>147</td>\n",
       "    </tr>\n",
       "  </tbody>\n",
       "</table>\n",
       "</div>"
      ],
      "text/plain": [
       "                                                    KWH/hh (per half hour)   \\\n",
       "DateTime            Acorn_grouped Acorn   stdorToU                            \n",
       "2013-12-01 00:30:00 ACORN-        ACORN-  ToU                      0.196000   \n",
       "                    ACORN-U       ACORN-U Std                      0.208056   \n",
       "                                          ToU                      0.165250   \n",
       "                    Adversity     ACORN-K Std                      0.205727   \n",
       "                                          ToU                      0.175150   \n",
       "                                  ACORN-L Std                      0.179940   \n",
       "                                          ToU                      0.160944   \n",
       "                                  ACORN-M Std                      0.163674   \n",
       "                                          ToU                      0.239250   \n",
       "                                  ACORN-N Std                      0.132933   \n",
       "                                          ToU                      0.123500   \n",
       "                                  ACORN-O Std                      0.182346   \n",
       "                                          ToU                      0.160813   \n",
       "                                  ACORN-P Std                      0.493440   \n",
       "                                          ToU                      0.054200   \n",
       "                                  ACORN-Q Std                      0.166531   \n",
       "                                          ToU                      0.112909   \n",
       "                    Affluent      ACORN-A Std                      0.370170   \n",
       "                                          ToU                      0.268946   \n",
       "                                  ACORN-B Std                      0.237053   \n",
       "                                          ToU                      0.175500   \n",
       "                                  ACORN-C Std                      0.222925   \n",
       "                                          ToU                      0.141212   \n",
       "                                  ACORN-D Std                      0.241588   \n",
       "                                          ToU                      0.211627   \n",
       "                                  ACORN-E Std                      0.275599   \n",
       "                                          ToU                      0.187293   \n",
       "                    Comfortable   ACORN-F Std                      0.183651   \n",
       "                                          ToU                      0.164056   \n",
       "                                  ACORN-G Std                      0.213265   \n",
       "\n",
       "                                                    LCLid  \n",
       "DateTime            Acorn_grouped Acorn   stdorToU         \n",
       "2013-12-01 00:30:00 ACORN-        ACORN-  ToU           1  \n",
       "                    ACORN-U       ACORN-U Std          36  \n",
       "                                          ToU           8  \n",
       "                    Adversity     ACORN-K Std         132  \n",
       "                                          ToU          20  \n",
       "                                  ACORN-L Std         251  \n",
       "                                          ToU          72  \n",
       "                                  ACORN-M Std          89  \n",
       "                                          ToU          16  \n",
       "                                  ACORN-N Std         120  \n",
       "                                          ToU          26  \n",
       "                                  ACORN-O Std          78  \n",
       "                                          ToU          16  \n",
       "                                  ACORN-P Std          84  \n",
       "                                          ToU          20  \n",
       "                                  ACORN-Q Std         650  \n",
       "                                          ToU         110  \n",
       "                    Affluent      ACORN-A Std         106  \n",
       "                                          ToU          37  \n",
       "                                  ACORN-B Std          19  \n",
       "                                          ToU           4  \n",
       "                                  ACORN-C Std         107  \n",
       "                                          ToU          33  \n",
       "                                  ACORN-D Std         194  \n",
       "                                          ToU          67  \n",
       "                                  ACORN-E Std        1101  \n",
       "                                          ToU         317  \n",
       "                    Comfortable   ACORN-F Std         499  \n",
       "                                          ToU         143  \n",
       "                                  ACORN-G Std         147  "
      ]
     },
     "execution_count": 83,
     "metadata": {},
     "output_type": "execute_result"
    }
   ],
   "source": [
    "grouped_nrg_1314_.head(30)"
   ]
  },
  {
   "cell_type": "code",
   "execution_count": 84,
   "metadata": {
    "collapsed": false
   },
   "outputs": [
    {
     "name": "stdout",
     "output_type": "stream",
     "text": [
      "<class 'pandas.core.frame.DataFrame'>\n",
      "MultiIndex: 158063 entries, (2013-12-01 00:30:00, ACORN-, ACORN-, ToU) to (2014-02-28 00:00:00, Comfortable, ACORN-J, ToU)\n",
      "Data columns (total 2 columns):\n",
      "KWH/hh (per half hour)     158063 non-null float64\n",
      "LCLid                      158063 non-null int64\n",
      "dtypes: float64(1), int64(1)\n",
      "memory usage: 3.6+ MB\n"
     ]
    }
   ],
   "source": [
    "grouped_nrg_1314_.info()"
   ]
  },
  {
   "cell_type": "code",
   "execution_count": null,
   "metadata": {
    "collapsed": true
   },
   "outputs": [],
   "source": [
    "output = \"~\\Desktop\\CUSP\\Applied_Data_Science\\Taming-the-Peak\\Final_Data"
   ]
  }
 ],
 "metadata": {
  "anaconda-cloud": {},
  "kernelspec": {
   "display_name": "Python [Root]",
   "language": "python",
   "name": "Python [Root]"
  },
  "language_info": {
   "codemirror_mode": {
    "name": "ipython",
    "version": 2
   },
   "file_extension": ".py",
   "mimetype": "text/x-python",
   "name": "python",
   "nbconvert_exporter": "python",
   "pygments_lexer": "ipython2",
   "version": "2.7.12"
  }
 },
 "nbformat": 4,
 "nbformat_minor": 0
}
