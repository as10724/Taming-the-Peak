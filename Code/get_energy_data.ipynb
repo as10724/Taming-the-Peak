{
 "cells": [
  {
   "cell_type": "code",
   "execution_count": 1,
   "metadata": {
    "collapsed": true
   },
   "outputs": [],
   "source": [
    "import numpy as np\n",
    "import pandas as pd\n"
   ]
  },
  {
   "cell_type": "markdown",
   "metadata": {},
   "source": [
    "## Tests"
   ]
  },
  {
   "cell_type": "code",
   "execution_count": 2,
   "metadata": {
    "collapsed": false
   },
   "outputs": [],
   "source": [
    "dirname = \"E:\\Taming_The_Peak\\low-carbon-london-data-168-files\\Power-Networks-LCL-June2015(withAcornGps).csv_Pieces\"\n",
    "#dirname = \"~\\Desktop\\CUSP\\Applied_Data_Science\\Project\\Power-Networks-LCL-June2015(withAcornGps).csv_Pieces\\Power-Networks-LCL-June2015(withAcornGps).csv_Pieces\"\n",
    "filename = 'Power-Networks-LCL-June2015(withAcornGps)v2_168.csv'\n",
    "\n",
    "# dtype = {'LCLid': category,\n",
    "#          'stdorToU' : pd.category,\n",
    "#          'DateTime' : np.datetime64,\n",
    "#          'KWH/hh (per half hour) ': float,\n",
    "#          'Acorn' : category,\n",
    "#          'Acorn_grouped' : category \n",
    "#         }\n",
    "\n",
    "nrg = pd.read_csv(dirname + \"/\" + filename)"
   ]
  },
  {
   "cell_type": "code",
   "execution_count": 4,
   "metadata": {
    "collapsed": false
   },
   "outputs": [
    {
     "data": {
      "text/plain": [
       "Index([u'LCLid', u'stdorToU', u'DateTime', u'KWH/hh (per half hour) ',\n",
       "       u'Acorn', u'Acorn_grouped'],\n",
       "      dtype='object')"
      ]
     },
     "execution_count": 4,
     "metadata": {},
     "output_type": "execute_result"
    }
   ],
   "source": [
    "nrg.columns"
   ]
  },
  {
   "cell_type": "code",
   "execution_count": 6,
   "metadata": {
    "collapsed": false
   },
   "outputs": [],
   "source": [
    " nrg.DateTime = pd.to_datetime(nrg.DateTime)\n",
    "\n",
    "# nrg.info()"
   ]
  },
  {
   "cell_type": "code",
   "execution_count": 6,
   "metadata": {
    "collapsed": false
   },
   "outputs": [
    {
     "data": {
      "text/plain": [
       "Timestamp('2012-04-16 11:00:00')"
      ]
     },
     "execution_count": 6,
     "metadata": {},
     "output_type": "execute_result"
    }
   ],
   "source": [
    "min(nrg.DateTime)"
   ]
  },
  {
   "cell_type": "code",
   "execution_count": 4,
   "metadata": {
    "collapsed": false
   },
   "outputs": [
    {
     "data": {
      "text/plain": [
       "'2014-02-28 00:00:00.0000000'"
      ]
     },
     "execution_count": 4,
     "metadata": {},
     "output_type": "execute_result"
    }
   ],
   "source": [
    "max(nrg.DateTime)"
   ]
  },
  {
   "cell_type": "code",
   "execution_count": 10,
   "metadata": {
    "collapsed": false
   },
   "outputs": [
    {
     "data": {
      "text/plain": [
       "Timestamp('2013-06-01 00:00:00')"
      ]
     },
     "execution_count": 10,
     "metadata": {},
     "output_type": "execute_result"
    }
   ],
   "source": [
    "maxdate = pd.Timestamp('2013-06-01 00:00:00')\n",
    "mindate = pd.Timestamp('2013-06-01 00:00:00')\n",
    "maxdate"
   ]
  },
  {
   "cell_type": "code",
   "execution_count": 50,
   "metadata": {
    "collapsed": false
   },
   "outputs": [
    {
     "name": "stdout",
     "output_type": "stream",
     "text": [
      "<class 'pandas.core.frame.DataFrame'>\n",
      "Int64Index: 111122 entries, 19884 to 983824\n",
      "Data columns (total 6 columns):\n",
      "LCLid                      111122 non-null object\n",
      "stdorToU                   111122 non-null object\n",
      "DateTime                   111122 non-null datetime64[ns]\n",
      "KWH/hh (per half hour)     111122 non-null object\n",
      "Acorn                      111122 non-null object\n",
      "Acorn_grouped              111122 non-null object\n",
      "dtypes: datetime64[ns](1), object(5)\n",
      "memory usage: 5.9+ MB\n"
     ]
    }
   ],
   "source": [
    "winter1314_init = '2013-12-01 00:00:00'\n",
    "winter1314_end = '2014-03-31 23:59:00'\n",
    "\n",
    "nrg_1314 = nrg[nrg.DateTime > winter1314_init]\n",
    "\n",
    "nrg_1314 = nrg_1314[nrg_1314.DateTime < winter1314_end]\n",
    "\n",
    "nrg_1314.info()"
   ]
  },
  {
   "cell_type": "markdown",
   "metadata": {},
   "source": [
    "## Getting the data"
   ]
  },
  {
   "cell_type": "code",
   "execution_count": 3,
   "metadata": {
    "collapsed": false
   },
   "outputs": [
    {
     "name": "stdout",
     "output_type": "stream",
     "text": [
      "% 100.0\n"
     ]
    }
   ],
   "source": [
    "# getting all the winter1314 data\n",
    "\n",
    "# path and file name\n",
    "dirname = \"E:\\Taming_The_Peak\\low-carbon-london-data-168-files\\Power-Networks-LCL-June2015(withAcornGps).csv_Pieces\"\n",
    "#dirname = \"~\\Desktop\\CUSP\\Applied_Data_Science\\Project\\Power-Networks-LCL-June2015(withAcornGps).csv_Pieces\\Power-Networks-LCL-June2015(withAcornGps).csv_Pieces\"\n",
    "filename = 'Power-Networks-LCL-June2015(withAcornGps)v2_'\n",
    "\n",
    "# initial and final day for each season\n",
    "day_init = '2013-06-01 00:00:00'\n",
    "day_end = '2013-08-31 23:59:59'\n",
    "#day_init = '2013-01-01 00:00:00'\n",
    "#day_end = '2013-12-31 23:59:59'\n",
    "\n",
    "# initializing the data frame\n",
    "nrg_year = pd.DataFrame()\n",
    "\n",
    "#initializing min and max date\n",
    "# maxdate = pd.Timestamp('2013-06-01 00:00:00')\n",
    "# mindate = pd.Timestamp('2013-06-01 00:00:00')\n",
    "\n",
    "for i in range(1, 169):\n",
    "    nrg = pd.read_csv(dirname + \"/\" + filename + str(i) + \".csv\")\n",
    "    nrg.DateTime = pd.to_datetime(nrg.DateTime)\n",
    "    \n",
    "    #if min(nrg.DateTime) < mindate:\n",
    "    #    mindate = min(nrg.DateTime)\n",
    "    #if max(nrg.DateTime) > maxdate:\n",
    "    #    maxdate = max(nrg.DateTime)\n",
    "        \n",
    "    nrg_ = nrg[nrg.DateTime >= day_init]\n",
    "    nrg_ = nrg_[nrg_.DateTime < day_end]\n",
    "    \n",
    "    if i == 1:\n",
    "        nrg_year = nrg_\n",
    "    else:\n",
    "        nrg_year = pd.concat([nrg_year, nrg_], axis=0)\n",
    "        \n",
    "    print '\\r',\"%\",str((i)*100./168),\n",
    "    "
   ]
  },
  {
   "cell_type": "code",
   "execution_count": 4,
   "metadata": {
    "collapsed": false
   },
   "outputs": [
    {
     "name": "stdout",
     "output_type": "stream",
     "text": [
      "<class 'pandas.core.frame.DataFrame'>\n",
      "Int64Index: 23420946 entries, 11093 to 923781\n",
      "Data columns (total 6 columns):\n",
      "LCLid                      object\n",
      "stdorToU                   object\n",
      "DateTime                   datetime64[ns]\n",
      "KWH/hh (per half hour)     object\n",
      "Acorn                      object\n",
      "Acorn_grouped              object\n",
      "dtypes: datetime64[ns](1), object(5)\n",
      "memory usage: 1.2+ GB\n"
     ]
    }
   ],
   "source": [
    "nrg_year.info()"
   ]
  },
  {
   "cell_type": "code",
   "execution_count": 15,
   "metadata": {
    "collapsed": false,
    "scrolled": true
   },
   "outputs": [
    {
     "name": "stdout",
     "output_type": "stream",
     "text": [
      "<class 'pandas.core.frame.DataFrame'>\n",
      "Int64Index: 31817220 entries, 2351 to 932473\n",
      "Data columns (total 6 columns):\n",
      "LCLid                      object\n",
      "stdorToU                   object\n",
      "DateTime                   datetime64[ns]\n",
      "KWH/hh (per half hour)     object\n",
      "Acorn                      object\n",
      "Acorn_grouped              object\n",
      "dtypes: datetime64[ns](1), object(5)\n",
      "memory usage: 1.7+ GB\n"
     ]
    }
   ],
   "source": [
    "nrg_year.info()"
   ]
  },
  {
   "cell_type": "code",
   "execution_count": 5,
   "metadata": {
    "collapsed": false
   },
   "outputs": [
    {
     "data": {
      "text/html": [
       "<div>\n",
       "<table border=\"1\" class=\"dataframe\">\n",
       "  <thead>\n",
       "    <tr style=\"text-align: right;\">\n",
       "      <th></th>\n",
       "      <th>LCLid</th>\n",
       "      <th>stdorToU</th>\n",
       "      <th>DateTime</th>\n",
       "      <th>KWH/hh (per half hour)</th>\n",
       "      <th>Acorn</th>\n",
       "      <th>Acorn_grouped</th>\n",
       "    </tr>\n",
       "  </thead>\n",
       "  <tbody>\n",
       "    <tr>\n",
       "      <th>923777</th>\n",
       "      <td>MAC005564</td>\n",
       "      <td>ToU</td>\n",
       "      <td>2013-08-31 21:30:00</td>\n",
       "      <td>0.188</td>\n",
       "      <td>ACORN-Q</td>\n",
       "      <td>Adversity</td>\n",
       "    </tr>\n",
       "    <tr>\n",
       "      <th>923778</th>\n",
       "      <td>MAC005564</td>\n",
       "      <td>ToU</td>\n",
       "      <td>2013-08-31 22:00:00</td>\n",
       "      <td>0.106</td>\n",
       "      <td>ACORN-Q</td>\n",
       "      <td>Adversity</td>\n",
       "    </tr>\n",
       "    <tr>\n",
       "      <th>923779</th>\n",
       "      <td>MAC005564</td>\n",
       "      <td>ToU</td>\n",
       "      <td>2013-08-31 22:30:00</td>\n",
       "      <td>0.074</td>\n",
       "      <td>ACORN-Q</td>\n",
       "      <td>Adversity</td>\n",
       "    </tr>\n",
       "    <tr>\n",
       "      <th>923780</th>\n",
       "      <td>MAC005564</td>\n",
       "      <td>ToU</td>\n",
       "      <td>2013-08-31 23:00:00</td>\n",
       "      <td>0.013</td>\n",
       "      <td>ACORN-Q</td>\n",
       "      <td>Adversity</td>\n",
       "    </tr>\n",
       "    <tr>\n",
       "      <th>923781</th>\n",
       "      <td>MAC005564</td>\n",
       "      <td>ToU</td>\n",
       "      <td>2013-08-31 23:30:00</td>\n",
       "      <td>0.068</td>\n",
       "      <td>ACORN-Q</td>\n",
       "      <td>Adversity</td>\n",
       "    </tr>\n",
       "  </tbody>\n",
       "</table>\n",
       "</div>"
      ],
      "text/plain": [
       "            LCLid stdorToU            DateTime KWH/hh (per half hour)   \\\n",
       "923777  MAC005564      ToU 2013-08-31 21:30:00                  0.188    \n",
       "923778  MAC005564      ToU 2013-08-31 22:00:00                  0.106    \n",
       "923779  MAC005564      ToU 2013-08-31 22:30:00                  0.074    \n",
       "923780  MAC005564      ToU 2013-08-31 23:00:00                  0.013    \n",
       "923781  MAC005564      ToU 2013-08-31 23:30:00                  0.068    \n",
       "\n",
       "          Acorn Acorn_grouped  \n",
       "923777  ACORN-Q     Adversity  \n",
       "923778  ACORN-Q     Adversity  \n",
       "923779  ACORN-Q     Adversity  \n",
       "923780  ACORN-Q     Adversity  \n",
       "923781  ACORN-Q     Adversity  "
      ]
     },
     "execution_count": 5,
     "metadata": {},
     "output_type": "execute_result"
    }
   ],
   "source": [
    "nrg_year.tail()"
   ]
  },
  {
   "cell_type": "code",
   "execution_count": 9,
   "metadata": {
    "collapsed": false,
    "scrolled": true
   },
   "outputs": [
    {
     "ename": "NameError",
     "evalue": "name 'mindate' is not defined",
     "output_type": "error",
     "traceback": [
      "\u001b[1;31m---------------------------------------------------------------------------\u001b[0m",
      "\u001b[1;31mNameError\u001b[0m                                 Traceback (most recent call last)",
      "\u001b[1;32m<ipython-input-9-575ea81c1479>\u001b[0m in \u001b[0;36m<module>\u001b[1;34m()\u001b[0m\n\u001b[1;32m----> 1\u001b[1;33m \u001b[1;32mprint\u001b[0m \u001b[0mmindate\u001b[0m\u001b[1;33m,\u001b[0m \u001b[0mmaxdate\u001b[0m\u001b[1;33m\u001b[0m\u001b[0m\n\u001b[0m",
      "\u001b[1;31mNameError\u001b[0m: name 'mindate' is not defined"
     ]
    }
   ],
   "source": [
    "# print mindate, maxdate"
   ]
  },
  {
   "cell_type": "markdown",
   "metadata": {},
   "source": [
    "\\>> print mindate, maxdate\n",
    "\n",
    "\\>> 2011-11-23 09:00:00 2014-02-28 00:00:00\n"
   ]
  },
  {
   "cell_type": "code",
   "execution_count": 28,
   "metadata": {
    "collapsed": false,
    "scrolled": false
   },
   "outputs": [
    {
     "name": "stdout",
     "output_type": "stream",
     "text": [
      "<class 'pandas.core.frame.DataFrame'>\n",
      "Int64Index: 31817220 entries, 2351 to 932473\n",
      "Data columns (total 6 columns):\n",
      "LCLid                      object\n",
      "stdorToU                   object\n",
      "DateTime                   datetime64[ns]\n",
      "KWH/hh (per half hour)     object\n",
      "Acorn                      object\n",
      "Acorn_grouped              object\n",
      "dtypes: datetime64[ns](1), object(5)\n",
      "memory usage: 1.7+ GB\n"
     ]
    }
   ],
   "source": [
    "nrg_year.info()"
   ]
  },
  {
   "cell_type": "code",
   "execution_count": 6,
   "metadata": {
    "collapsed": false
   },
   "outputs": [],
   "source": [
    "nrg_year['KWH/hh (per half hour) '] = pd.to_numeric(nrg_year['KWH/hh (per half hour) '], errors = 'coerce')"
   ]
  },
  {
   "cell_type": "code",
   "execution_count": 7,
   "metadata": {
    "collapsed": false
   },
   "outputs": [],
   "source": [
    "nan_loc = nrg_year['KWH/hh (per half hour) '].isnull()"
   ]
  },
  {
   "cell_type": "code",
   "execution_count": 8,
   "metadata": {
    "collapsed": false
   },
   "outputs": [
    {
     "data": {
      "text/html": [
       "<div>\n",
       "<table border=\"1\" class=\"dataframe\">\n",
       "  <thead>\n",
       "    <tr style=\"text-align: right;\">\n",
       "      <th></th>\n",
       "      <th>LCLid</th>\n",
       "      <th>stdorToU</th>\n",
       "      <th>DateTime</th>\n",
       "      <th>KWH/hh (per half hour)</th>\n",
       "      <th>Acorn</th>\n",
       "      <th>Acorn_grouped</th>\n",
       "    </tr>\n",
       "  </thead>\n",
       "  <tbody>\n",
       "    <tr>\n",
       "      <th>802006</th>\n",
       "      <td>MAC002328</td>\n",
       "      <td>Std</td>\n",
       "      <td>2013-07-05 13:15:05</td>\n",
       "      <td>NaN</td>\n",
       "      <td>ACORN-Q</td>\n",
       "      <td>Adversity</td>\n",
       "    </tr>\n",
       "    <tr>\n",
       "      <th>10182</th>\n",
       "      <td>MAC004069</td>\n",
       "      <td>Std</td>\n",
       "      <td>2013-07-05 13:15:05</td>\n",
       "      <td>NaN</td>\n",
       "      <td>ACORN-U</td>\n",
       "      <td>ACORN-U</td>\n",
       "    </tr>\n",
       "    <tr>\n",
       "      <th>932659</th>\n",
       "      <td>MAC003155</td>\n",
       "      <td>ToU</td>\n",
       "      <td>2013-07-05 12:54:31</td>\n",
       "      <td>NaN</td>\n",
       "      <td>ACORN-Q</td>\n",
       "      <td>Adversity</td>\n",
       "    </tr>\n",
       "  </tbody>\n",
       "</table>\n",
       "</div>"
      ],
      "text/plain": [
       "            LCLid stdorToU            DateTime  KWH/hh (per half hour)   \\\n",
       "802006  MAC002328      Std 2013-07-05 13:15:05                      NaN   \n",
       "10182   MAC004069      Std 2013-07-05 13:15:05                      NaN   \n",
       "932659  MAC003155      ToU 2013-07-05 12:54:31                      NaN   \n",
       "\n",
       "          Acorn Acorn_grouped  \n",
       "802006  ACORN-Q     Adversity  \n",
       "10182   ACORN-U       ACORN-U  \n",
       "932659  ACORN-Q     Adversity  "
      ]
     },
     "execution_count": 8,
     "metadata": {},
     "output_type": "execute_result"
    }
   ],
   "source": [
    "nrg_year[nan_loc].head(20)"
   ]
  },
  {
   "cell_type": "code",
   "execution_count": 9,
   "metadata": {
    "collapsed": false
   },
   "outputs": [
    {
     "name": "stdout",
     "output_type": "stream",
     "text": [
      "<class 'pandas.core.frame.DataFrame'>\n",
      "Int64Index: 23420943 entries, 11093 to 923781\n",
      "Data columns (total 6 columns):\n",
      "LCLid                      object\n",
      "stdorToU                   object\n",
      "DateTime                   datetime64[ns]\n",
      "KWH/hh (per half hour)     float64\n",
      "Acorn                      object\n",
      "Acorn_grouped              object\n",
      "dtypes: datetime64[ns](1), float64(1), object(4)\n",
      "memory usage: 1.2+ GB\n"
     ]
    }
   ],
   "source": [
    "nrg_year.dropna(inplace = True)\n",
    "nrg_year.info()"
   ]
  },
  {
   "cell_type": "code",
   "execution_count": 10,
   "metadata": {
    "collapsed": false
   },
   "outputs": [
    {
     "data": {
      "text/html": [
       "<div>\n",
       "<table border=\"1\" class=\"dataframe\">\n",
       "  <thead>\n",
       "    <tr style=\"text-align: right;\">\n",
       "      <th></th>\n",
       "      <th></th>\n",
       "      <th></th>\n",
       "      <th></th>\n",
       "      <th>KWH/hh (per half hour)</th>\n",
       "    </tr>\n",
       "    <tr>\n",
       "      <th>DateTime</th>\n",
       "      <th>Acorn</th>\n",
       "      <th>Acorn_grouped</th>\n",
       "      <th>stdorToU</th>\n",
       "      <th></th>\n",
       "    </tr>\n",
       "  </thead>\n",
       "  <tbody>\n",
       "    <tr>\n",
       "      <th rowspan=\"5\" valign=\"top\">2013-06-01</th>\n",
       "      <th>ACORN-</th>\n",
       "      <th>ACORN-</th>\n",
       "      <th>ToU</th>\n",
       "      <td>0.173000</td>\n",
       "    </tr>\n",
       "    <tr>\n",
       "      <th rowspan=\"2\" valign=\"top\">ACORN-A</th>\n",
       "      <th rowspan=\"2\" valign=\"top\">Affluent</th>\n",
       "      <th>Std</th>\n",
       "      <td>0.252991</td>\n",
       "    </tr>\n",
       "    <tr>\n",
       "      <th>ToU</th>\n",
       "      <td>0.227838</td>\n",
       "    </tr>\n",
       "    <tr>\n",
       "      <th rowspan=\"2\" valign=\"top\">ACORN-B</th>\n",
       "      <th rowspan=\"2\" valign=\"top\">Affluent</th>\n",
       "      <th>Std</th>\n",
       "      <td>0.133300</td>\n",
       "    </tr>\n",
       "    <tr>\n",
       "      <th>ToU</th>\n",
       "      <td>0.091500</td>\n",
       "    </tr>\n",
       "  </tbody>\n",
       "</table>\n",
       "</div>"
      ],
      "text/plain": [
       "                                           KWH/hh (per half hour) \n",
       "DateTime   Acorn   Acorn_grouped stdorToU                         \n",
       "2013-06-01 ACORN-  ACORN-        ToU                      0.173000\n",
       "           ACORN-A Affluent      Std                      0.252991\n",
       "                                 ToU                      0.227838\n",
       "           ACORN-B Affluent      Std                      0.133300\n",
       "                                 ToU                      0.091500"
      ]
     },
     "execution_count": 10,
     "metadata": {},
     "output_type": "execute_result"
    }
   ],
   "source": [
    "nrg_year.groupby(['DateTime', 'Acorn', 'Acorn_grouped', 'stdorToU']).aggregate(np.mean).head()"
   ]
  },
  {
   "cell_type": "code",
   "execution_count": 11,
   "metadata": {
    "collapsed": false
   },
   "outputs": [],
   "source": [
    "grouped_nrg = pd.concat([nrg_year.groupby(['DateTime', 'Acorn', 'Acorn_grouped', 'stdorToU']).aggregate(np.mean),\n",
    "        nrg_year.groupby(['DateTime', 'Acorn', 'Acorn_grouped', 'stdorToU']).count().iloc[:,0]], axis = 1)"
   ]
  },
  {
   "cell_type": "code",
   "execution_count": 12,
   "metadata": {
    "collapsed": false
   },
   "outputs": [
    {
     "data": {
      "text/html": [
       "<div>\n",
       "<table border=\"1\" class=\"dataframe\">\n",
       "  <thead>\n",
       "    <tr style=\"text-align: right;\">\n",
       "      <th></th>\n",
       "      <th></th>\n",
       "      <th></th>\n",
       "      <th></th>\n",
       "      <th>KWH/hh (per half hour)</th>\n",
       "      <th>LCLid</th>\n",
       "    </tr>\n",
       "    <tr>\n",
       "      <th>DateTime</th>\n",
       "      <th>Acorn</th>\n",
       "      <th>Acorn_grouped</th>\n",
       "      <th>stdorToU</th>\n",
       "      <th></th>\n",
       "      <th></th>\n",
       "    </tr>\n",
       "  </thead>\n",
       "  <tbody>\n",
       "    <tr>\n",
       "      <th rowspan=\"30\" valign=\"top\">2013-06-01</th>\n",
       "      <th>ACORN-</th>\n",
       "      <th>ACORN-</th>\n",
       "      <th>ToU</th>\n",
       "      <td>0.173000</td>\n",
       "      <td>1</td>\n",
       "    </tr>\n",
       "    <tr>\n",
       "      <th rowspan=\"2\" valign=\"top\">ACORN-A</th>\n",
       "      <th rowspan=\"2\" valign=\"top\">Affluent</th>\n",
       "      <th>Std</th>\n",
       "      <td>0.252991</td>\n",
       "      <td>114</td>\n",
       "    </tr>\n",
       "    <tr>\n",
       "      <th>ToU</th>\n",
       "      <td>0.227838</td>\n",
       "      <td>37</td>\n",
       "    </tr>\n",
       "    <tr>\n",
       "      <th rowspan=\"2\" valign=\"top\">ACORN-B</th>\n",
       "      <th rowspan=\"2\" valign=\"top\">Affluent</th>\n",
       "      <th>Std</th>\n",
       "      <td>0.133300</td>\n",
       "      <td>20</td>\n",
       "    </tr>\n",
       "    <tr>\n",
       "      <th>ToU</th>\n",
       "      <td>0.091500</td>\n",
       "      <td>4</td>\n",
       "    </tr>\n",
       "    <tr>\n",
       "      <th rowspan=\"2\" valign=\"top\">ACORN-C</th>\n",
       "      <th rowspan=\"2\" valign=\"top\">Affluent</th>\n",
       "      <th>Std</th>\n",
       "      <td>0.154395</td>\n",
       "      <td>114</td>\n",
       "    </tr>\n",
       "    <tr>\n",
       "      <th>ToU</th>\n",
       "      <td>0.125848</td>\n",
       "      <td>33</td>\n",
       "    </tr>\n",
       "    <tr>\n",
       "      <th rowspan=\"2\" valign=\"top\">ACORN-D</th>\n",
       "      <th rowspan=\"2\" valign=\"top\">Affluent</th>\n",
       "      <th>Std</th>\n",
       "      <td>0.186324</td>\n",
       "      <td>204</td>\n",
       "    </tr>\n",
       "    <tr>\n",
       "      <th>ToU</th>\n",
       "      <td>0.133342</td>\n",
       "      <td>73</td>\n",
       "    </tr>\n",
       "    <tr>\n",
       "      <th rowspan=\"2\" valign=\"top\">ACORN-E</th>\n",
       "      <th rowspan=\"2\" valign=\"top\">Affluent</th>\n",
       "      <th>Std</th>\n",
       "      <td>0.165525</td>\n",
       "      <td>1163</td>\n",
       "    </tr>\n",
       "    <tr>\n",
       "      <th>ToU</th>\n",
       "      <td>0.118033</td>\n",
       "      <td>332</td>\n",
       "    </tr>\n",
       "    <tr>\n",
       "      <th rowspan=\"2\" valign=\"top\">ACORN-F</th>\n",
       "      <th rowspan=\"2\" valign=\"top\">Comfortable</th>\n",
       "      <th>Std</th>\n",
       "      <td>0.135716</td>\n",
       "      <td>518</td>\n",
       "    </tr>\n",
       "    <tr>\n",
       "      <th>ToU</th>\n",
       "      <td>0.141208</td>\n",
       "      <td>149</td>\n",
       "    </tr>\n",
       "    <tr>\n",
       "      <th rowspan=\"2\" valign=\"top\">ACORN-G</th>\n",
       "      <th rowspan=\"2\" valign=\"top\">Comfortable</th>\n",
       "      <th>Std</th>\n",
       "      <td>0.145571</td>\n",
       "      <td>154</td>\n",
       "    </tr>\n",
       "    <tr>\n",
       "      <th>ToU</th>\n",
       "      <td>0.107891</td>\n",
       "      <td>46</td>\n",
       "    </tr>\n",
       "    <tr>\n",
       "      <th rowspan=\"2\" valign=\"top\">ACORN-H</th>\n",
       "      <th rowspan=\"2\" valign=\"top\">Comfortable</th>\n",
       "      <th>Std</th>\n",
       "      <td>0.150814</td>\n",
       "      <td>366</td>\n",
       "    </tr>\n",
       "    <tr>\n",
       "      <th>ToU</th>\n",
       "      <td>0.123358</td>\n",
       "      <td>81</td>\n",
       "    </tr>\n",
       "    <tr>\n",
       "      <th rowspan=\"2\" valign=\"top\">ACORN-I</th>\n",
       "      <th rowspan=\"2\" valign=\"top\">Comfortable</th>\n",
       "      <th>Std</th>\n",
       "      <td>0.094293</td>\n",
       "      <td>41</td>\n",
       "    </tr>\n",
       "    <tr>\n",
       "      <th>ToU</th>\n",
       "      <td>0.130250</td>\n",
       "      <td>8</td>\n",
       "    </tr>\n",
       "    <tr>\n",
       "      <th rowspan=\"2\" valign=\"top\">ACORN-J</th>\n",
       "      <th rowspan=\"2\" valign=\"top\">Comfortable</th>\n",
       "      <th>Std</th>\n",
       "      <td>0.373054</td>\n",
       "      <td>74</td>\n",
       "    </tr>\n",
       "    <tr>\n",
       "      <th>ToU</th>\n",
       "      <td>0.096778</td>\n",
       "      <td>27</td>\n",
       "    </tr>\n",
       "    <tr>\n",
       "      <th rowspan=\"2\" valign=\"top\">ACORN-K</th>\n",
       "      <th rowspan=\"2\" valign=\"top\">Adversity</th>\n",
       "      <th>Std</th>\n",
       "      <td>0.132022</td>\n",
       "      <td>137</td>\n",
       "    </tr>\n",
       "    <tr>\n",
       "      <th>ToU</th>\n",
       "      <td>0.125350</td>\n",
       "      <td>20</td>\n",
       "    </tr>\n",
       "    <tr>\n",
       "      <th rowspan=\"2\" valign=\"top\">ACORN-L</th>\n",
       "      <th rowspan=\"2\" valign=\"top\">Adversity</th>\n",
       "      <th>Std</th>\n",
       "      <td>0.132907</td>\n",
       "      <td>257</td>\n",
       "    </tr>\n",
       "    <tr>\n",
       "      <th>ToU</th>\n",
       "      <td>0.104822</td>\n",
       "      <td>73</td>\n",
       "    </tr>\n",
       "    <tr>\n",
       "      <th rowspan=\"2\" valign=\"top\">ACORN-M</th>\n",
       "      <th rowspan=\"2\" valign=\"top\">Adversity</th>\n",
       "      <th>Std</th>\n",
       "      <td>0.116946</td>\n",
       "      <td>93</td>\n",
       "    </tr>\n",
       "    <tr>\n",
       "      <th>ToU</th>\n",
       "      <td>0.105765</td>\n",
       "      <td>17</td>\n",
       "    </tr>\n",
       "    <tr>\n",
       "      <th rowspan=\"2\" valign=\"top\">ACORN-N</th>\n",
       "      <th rowspan=\"2\" valign=\"top\">Adversity</th>\n",
       "      <th>Std</th>\n",
       "      <td>0.128740</td>\n",
       "      <td>123</td>\n",
       "    </tr>\n",
       "    <tr>\n",
       "      <th>ToU</th>\n",
       "      <td>0.140440</td>\n",
       "      <td>25</td>\n",
       "    </tr>\n",
       "    <tr>\n",
       "      <th>ACORN-O</th>\n",
       "      <th>Adversity</th>\n",
       "      <th>Std</th>\n",
       "      <td>0.150902</td>\n",
       "      <td>82</td>\n",
       "    </tr>\n",
       "  </tbody>\n",
       "</table>\n",
       "</div>"
      ],
      "text/plain": [
       "                                           KWH/hh (per half hour)   LCLid\n",
       "DateTime   Acorn   Acorn_grouped stdorToU                                \n",
       "2013-06-01 ACORN-  ACORN-        ToU                      0.173000      1\n",
       "           ACORN-A Affluent      Std                      0.252991    114\n",
       "                                 ToU                      0.227838     37\n",
       "           ACORN-B Affluent      Std                      0.133300     20\n",
       "                                 ToU                      0.091500      4\n",
       "           ACORN-C Affluent      Std                      0.154395    114\n",
       "                                 ToU                      0.125848     33\n",
       "           ACORN-D Affluent      Std                      0.186324    204\n",
       "                                 ToU                      0.133342     73\n",
       "           ACORN-E Affluent      Std                      0.165525   1163\n",
       "                                 ToU                      0.118033    332\n",
       "           ACORN-F Comfortable   Std                      0.135716    518\n",
       "                                 ToU                      0.141208    149\n",
       "           ACORN-G Comfortable   Std                      0.145571    154\n",
       "                                 ToU                      0.107891     46\n",
       "           ACORN-H Comfortable   Std                      0.150814    366\n",
       "                                 ToU                      0.123358     81\n",
       "           ACORN-I Comfortable   Std                      0.094293     41\n",
       "                                 ToU                      0.130250      8\n",
       "           ACORN-J Comfortable   Std                      0.373054     74\n",
       "                                 ToU                      0.096778     27\n",
       "           ACORN-K Adversity     Std                      0.132022    137\n",
       "                                 ToU                      0.125350     20\n",
       "           ACORN-L Adversity     Std                      0.132907    257\n",
       "                                 ToU                      0.104822     73\n",
       "           ACORN-M Adversity     Std                      0.116946     93\n",
       "                                 ToU                      0.105765     17\n",
       "           ACORN-N Adversity     Std                      0.128740    123\n",
       "                                 ToU                      0.140440     25\n",
       "           ACORN-O Adversity     Std                      0.150902     82"
      ]
     },
     "execution_count": 12,
     "metadata": {},
     "output_type": "execute_result"
    }
   ],
   "source": [
    "grouped_nrg.head(30)"
   ]
  },
  {
   "cell_type": "code",
   "execution_count": 13,
   "metadata": {
    "collapsed": false
   },
   "outputs": [
    {
     "name": "stdout",
     "output_type": "stream",
     "text": [
      "<class 'pandas.core.frame.DataFrame'>\n",
      "MultiIndex: 163392 entries, (2013-06-01 00:00:00, ACORN-, ACORN-, ToU) to (2013-08-31 23:30:00, ACORN-U, ACORN-U, ToU)\n",
      "Data columns (total 2 columns):\n",
      "KWH/hh (per half hour)     163392 non-null float64\n",
      "LCLid                      163392 non-null int64\n",
      "dtypes: float64(1), int64(1)\n",
      "memory usage: 3.7+ MB\n"
     ]
    }
   ],
   "source": [
    "grouped_nrg.info()"
   ]
  },
  {
   "cell_type": "code",
   "execution_count": 14,
   "metadata": {
    "collapsed": false
   },
   "outputs": [
    {
     "data": {
      "text/plain": [
       "(Timestamp('2013-08-31 23:30:00'), 'ACORN-U', 'ACORN-U', 'ToU')"
      ]
     },
     "execution_count": 14,
     "metadata": {},
     "output_type": "execute_result"
    }
   ],
   "source": [
    "max(grouped_nrg.index)"
   ]
  },
  {
   "cell_type": "code",
   "execution_count": 15,
   "metadata": {
    "collapsed": false
   },
   "outputs": [
    {
     "data": {
      "text/plain": [
       "(Timestamp('2013-06-01 00:00:00'), 'ACORN-', 'ACORN-', 'ToU')"
      ]
     },
     "execution_count": 15,
     "metadata": {},
     "output_type": "execute_result"
    }
   ],
   "source": [
    "min(grouped_nrg.index)"
   ]
  },
  {
   "cell_type": "code",
   "execution_count": 20,
   "metadata": {
    "collapsed": false
   },
   "outputs": [
    {
     "data": {
      "text/plain": [
       "17520"
      ]
     },
     "execution_count": 20,
     "metadata": {},
     "output_type": "execute_result"
    }
   ],
   "source": [
    "len(nrg_year.DateTime.unique())"
   ]
  },
  {
   "cell_type": "code",
   "execution_count": 16,
   "metadata": {
    "collapsed": true
   },
   "outputs": [],
   "source": [
    "output = 'C:\\\\Users\\\\Hrafnkell\\\\Documents\\\\GitHub\\\\Taming-the-Peak\\\\Final_Data\\\\energy_summer_2013.csv'\n",
    "grouped_nrg.to_csv(output)\n",
    "#output = \"E:\\Taming_The_Peak\\low-carbon-london-data-168-files\\Power-Networks-LCL-June2015(withAcornGps).csv_Pieces\\grouped_2013.csv\"\n",
    "#dirname = \"~\\Desktop\\CUSP\\Applied_Data_Science\\Project\\Power-Networks-LCL-June2015(withAcornGps).csv_Pieces\\Power-Networks-LCL-June2015(withAcornGps).csv_Pieces\"\n",
    "#filename = 'Power-Networks-LCL-June2015(withAcornGps)v2_168.csv'"
   ]
  },
  {
   "cell_type": "code",
   "execution_count": null,
   "metadata": {
    "collapsed": true
   },
   "outputs": [],
   "source": []
  }
 ],
 "metadata": {
  "anaconda-cloud": {},
  "kernelspec": {
   "display_name": "Python [Root]",
   "language": "python",
   "name": "Python [Root]"
  },
  "language_info": {
   "codemirror_mode": {
    "name": "ipython",
    "version": 2
   },
   "file_extension": ".py",
   "mimetype": "text/x-python",
   "name": "python",
   "nbconvert_exporter": "python",
   "pygments_lexer": "ipython2",
   "version": "2.7.12"
  }
 },
 "nbformat": 4,
 "nbformat_minor": 0
}
