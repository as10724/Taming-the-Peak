{
 "cells": [
  {
   "cell_type": "code",
   "execution_count": 1,
   "metadata": {
    "collapsed": true
   },
   "outputs": [],
   "source": [
    "import numpy as np\n",
    "import pandas as pd\n"
   ]
  },
  {
   "cell_type": "markdown",
   "metadata": {},
   "source": [
    "## Tests"
   ]
  },
  {
   "cell_type": "code",
   "execution_count": 2,
   "metadata": {
    "collapsed": false
   },
   "outputs": [],
   "source": [
    "dirname = \"E:\\Taming_The_Peak\\low-carbon-london-data-168-files\\Power-Networks-LCL-June2015(withAcornGps).csv_Pieces\"\n",
    "#dirname = \"~\\Desktop\\CUSP\\Applied_Data_Science\\Project\\Power-Networks-LCL-June2015(withAcornGps).csv_Pieces\\Power-Networks-LCL-June2015(withAcornGps).csv_Pieces\"\n",
    "filename = 'Power-Networks-LCL-June2015(withAcornGps)v2_168.csv'\n",
    "\n",
    "# dtype = {'LCLid': category,\n",
    "#          'stdorToU' : pd.category,\n",
    "#          'DateTime' : np.datetime64,\n",
    "#          'KWH/hh (per half hour) ': float,\n",
    "#          'Acorn' : category,\n",
    "#          'Acorn_grouped' : category \n",
    "#         }\n",
    "\n",
    "nrg = pd.read_csv(dirname + \"/\" + filename)"
   ]
  },
  {
   "cell_type": "code",
   "execution_count": 4,
   "metadata": {
    "collapsed": false
   },
   "outputs": [
    {
     "data": {
      "text/plain": [
       "Index([u'LCLid', u'stdorToU', u'DateTime', u'KWH/hh (per half hour) ',\n",
       "       u'Acorn', u'Acorn_grouped'],\n",
       "      dtype='object')"
      ]
     },
     "execution_count": 4,
     "metadata": {},
     "output_type": "execute_result"
    }
   ],
   "source": [
    "nrg.columns"
   ]
  },
  {
   "cell_type": "code",
   "execution_count": 6,
   "metadata": {
    "collapsed": false
   },
   "outputs": [],
   "source": [
    " nrg.DateTime = pd.to_datetime(nrg.DateTime)\n",
    "\n",
    "# nrg.info()"
   ]
  },
  {
   "cell_type": "code",
   "execution_count": 6,
   "metadata": {
    "collapsed": false
   },
   "outputs": [
    {
     "data": {
      "text/plain": [
       "Timestamp('2012-04-16 11:00:00')"
      ]
     },
     "execution_count": 6,
     "metadata": {},
     "output_type": "execute_result"
    }
   ],
   "source": [
    "min(nrg.DateTime)"
   ]
  },
  {
   "cell_type": "code",
   "execution_count": 4,
   "metadata": {
    "collapsed": false
   },
   "outputs": [
    {
     "data": {
      "text/plain": [
       "'2014-02-28 00:00:00.0000000'"
      ]
     },
     "execution_count": 4,
     "metadata": {},
     "output_type": "execute_result"
    }
   ],
   "source": [
    "max(nrg.DateTime)"
   ]
  },
  {
   "cell_type": "code",
   "execution_count": 10,
   "metadata": {
    "collapsed": false
   },
   "outputs": [
    {
     "data": {
      "text/plain": [
       "Timestamp('2013-06-01 00:00:00')"
      ]
     },
     "execution_count": 10,
     "metadata": {},
     "output_type": "execute_result"
    }
   ],
   "source": [
    "maxdate = pd.Timestamp('2013-06-01 00:00:00')\n",
    "mindate = pd.Timestamp('2013-06-01 00:00:00')\n",
    "maxdate"
   ]
  },
  {
   "cell_type": "code",
   "execution_count": 50,
   "metadata": {
    "collapsed": false
   },
   "outputs": [
    {
     "name": "stdout",
     "output_type": "stream",
     "text": [
      "<class 'pandas.core.frame.DataFrame'>\n",
      "Int64Index: 111122 entries, 19884 to 983824\n",
      "Data columns (total 6 columns):\n",
      "LCLid                      111122 non-null object\n",
      "stdorToU                   111122 non-null object\n",
      "DateTime                   111122 non-null datetime64[ns]\n",
      "KWH/hh (per half hour)     111122 non-null object\n",
      "Acorn                      111122 non-null object\n",
      "Acorn_grouped              111122 non-null object\n",
      "dtypes: datetime64[ns](1), object(5)\n",
      "memory usage: 5.9+ MB\n"
     ]
    }
   ],
   "source": [
    "winter1314_init = '2013-12-01 00:00:00'\n",
    "winter1314_end = '2014-03-31 23:59:00'\n",
    "\n",
    "nrg_1314 = nrg[nrg.DateTime > winter1314_init]\n",
    "\n",
    "nrg_1314 = nrg_1314[nrg_1314.DateTime < winter1314_end]\n",
    "\n",
    "nrg_1314.info()"
   ]
  },
  {
   "cell_type": "markdown",
   "metadata": {},
   "source": [
    "## Getting the data"
   ]
  },
  {
   "cell_type": "code",
   "execution_count": 13,
   "metadata": {
    "collapsed": false
   },
   "outputs": [
    {
     "name": "stdout",
     "output_type": "stream",
     "text": [
      "% 100.0\n"
     ]
    }
   ],
   "source": [
    "# getting all the winter1314 data\n",
    "\n",
    "# path and file name\n",
    "dirname = \"E:\\Taming_The_Peak\\low-carbon-london-data-168-files\\Power-Networks-LCL-June2015(withAcornGps).csv_Pieces\"\n",
    "#dirname = \"~\\Desktop\\CUSP\\Applied_Data_Science\\Project\\Power-Networks-LCL-June2015(withAcornGps).csv_Pieces\\Power-Networks-LCL-June2015(withAcornGps).csv_Pieces\"\n",
    "filename = 'Power-Networks-LCL-June2015(withAcornGps)v2_'\n",
    "\n",
    "# initial and final day for each season\n",
    "day_init = '2012-12-01 00:00:00'\n",
    "day_end = '2013-03-31 23:59:59'\n",
    "#day_init = '2013-01-01 00:00:00'\n",
    "#day_end = '2013-12-31 23:59:59'\n",
    "\n",
    "# initializing the data frame\n",
    "nrg_year = pd.DataFrame()\n",
    "\n",
    "#initializing min and max date\n",
    "# maxdate = pd.Timestamp('2013-06-01 00:00:00')\n",
    "# mindate = pd.Timestamp('2013-06-01 00:00:00')\n",
    "\n",
    "for i in range(1, 169):\n",
    "    nrg = pd.read_csv(dirname + \"/\" + filename + str(i) + \".csv\")\n",
    "    nrg.DateTime = pd.to_datetime(nrg.DateTime)\n",
    "    \n",
    "    #if min(nrg.DateTime) < mindate:\n",
    "    #    mindate = min(nrg.DateTime)\n",
    "    #if max(nrg.DateTime) > maxdate:\n",
    "    #    maxdate = max(nrg.DateTime)\n",
    "        \n",
    "    nrg_ = nrg[nrg.DateTime >= day_init]\n",
    "    nrg_ = nrg_[nrg_.DateTime < day_end]\n",
    "    \n",
    "    if i == 1:\n",
    "        nrg_year = nrg_\n",
    "    else:\n",
    "        nrg_year = pd.concat([nrg_year, nrg_], axis=0)\n",
    "        \n",
    "    print '\\r',\"%\",str((i)*100./168),\n",
    "    "
   ]
  },
  {
   "cell_type": "code",
   "execution_count": 15,
   "metadata": {
    "collapsed": false
   },
   "outputs": [
    {
     "name": "stdout",
     "output_type": "stream",
     "text": [
      "<class 'pandas.core.frame.DataFrame'>\n",
      "Int64Index: 31817220 entries, 2351 to 932473\n",
      "Data columns (total 6 columns):\n",
      "LCLid                      object\n",
      "stdorToU                   object\n",
      "DateTime                   datetime64[ns]\n",
      "KWH/hh (per half hour)     object\n",
      "Acorn                      object\n",
      "Acorn_grouped              object\n",
      "dtypes: datetime64[ns](1), object(5)\n",
      "memory usage: 1.7+ GB\n"
     ]
    }
   ],
   "source": [
    "nrg_year.info()"
   ]
  },
  {
   "cell_type": "code",
   "execution_count": 15,
   "metadata": {
    "collapsed": false
   },
   "outputs": [
    {
     "name": "stdout",
     "output_type": "stream",
     "text": [
      "2011-11-23 09:00:00 2014-02-28 00:00:00\n"
     ]
    }
   ],
   "source": [
    "# print mindate, maxdate"
   ]
  },
  {
   "cell_type": "markdown",
   "metadata": {},
   "source": [
    "\\>> print mindate, maxdate\n",
    "\n",
    "\\>> 2011-11-23 09:00:00 2014-02-28 00:00:00\n"
   ]
  },
  {
   "cell_type": "code",
   "execution_count": 28,
   "metadata": {
    "collapsed": false,
    "scrolled": false
   },
   "outputs": [
    {
     "name": "stdout",
     "output_type": "stream",
     "text": [
      "<class 'pandas.core.frame.DataFrame'>\n",
      "Int64Index: 31817220 entries, 2351 to 932473\n",
      "Data columns (total 6 columns):\n",
      "LCLid                      object\n",
      "stdorToU                   object\n",
      "DateTime                   datetime64[ns]\n",
      "KWH/hh (per half hour)     object\n",
      "Acorn                      object\n",
      "Acorn_grouped              object\n",
      "dtypes: datetime64[ns](1), object(5)\n",
      "memory usage: 1.7+ GB\n"
     ]
    }
   ],
   "source": [
    "nrg_year.info()"
   ]
  },
  {
   "cell_type": "code",
   "execution_count": 49,
   "metadata": {
    "collapsed": false
   },
   "outputs": [],
   "source": [
    "nrg_year['KWH/hh (per half hour) '] = pd.to_numeric(nrg_year['KWH/hh (per half hour) '], errors = 'coerce')"
   ]
  },
  {
   "cell_type": "code",
   "execution_count": 52,
   "metadata": {
    "collapsed": false
   },
   "outputs": [],
   "source": [
    "nan_loc = nrg_year['KWH/hh (per half hour) '].isnull()"
   ]
  },
  {
   "cell_type": "code",
   "execution_count": 53,
   "metadata": {
    "collapsed": false
   },
   "outputs": [
    {
     "data": {
      "text/html": [
       "<div>\n",
       "<table border=\"1\" class=\"dataframe\">\n",
       "  <thead>\n",
       "    <tr style=\"text-align: right;\">\n",
       "      <th></th>\n",
       "      <th>LCLid</th>\n",
       "      <th>stdorToU</th>\n",
       "      <th>DateTime</th>\n",
       "      <th>KWH/hh (per half hour)</th>\n",
       "      <th>Acorn</th>\n",
       "      <th>Acorn_grouped</th>\n",
       "    </tr>\n",
       "  </thead>\n",
       "  <tbody>\n",
       "    <tr>\n",
       "      <th>3240</th>\n",
       "      <td>MAC000002</td>\n",
       "      <td>Std</td>\n",
       "      <td>2012-12-19 12:37:27</td>\n",
       "      <td>NaN</td>\n",
       "      <td>ACORN-A</td>\n",
       "      <td>Affluent</td>\n",
       "    </tr>\n",
       "    <tr>\n",
       "      <th>38710</th>\n",
       "      <td>MAC000003</td>\n",
       "      <td>Std</td>\n",
       "      <td>2012-12-19 12:37:26</td>\n",
       "      <td>NaN</td>\n",
       "      <td>ACORN-P</td>\n",
       "      <td>Adversity</td>\n",
       "    </tr>\n",
       "    <tr>\n",
       "      <th>70386</th>\n",
       "      <td>MAC000004</td>\n",
       "      <td>Std</td>\n",
       "      <td>2012-12-19 12:32:40</td>\n",
       "      <td>NaN</td>\n",
       "      <td>ACORN-E</td>\n",
       "      <td>Affluent</td>\n",
       "    </tr>\n",
       "    <tr>\n",
       "      <th>106846</th>\n",
       "      <td>MAC000006</td>\n",
       "      <td>Std</td>\n",
       "      <td>2012-12-19 12:37:26</td>\n",
       "      <td>NaN</td>\n",
       "      <td>ACORN-Q</td>\n",
       "      <td>Adversity</td>\n",
       "    </tr>\n",
       "    <tr>\n",
       "      <th>131897</th>\n",
       "      <td>MAC000007</td>\n",
       "      <td>Std</td>\n",
       "      <td>2012-12-19 12:37:27</td>\n",
       "      <td>NaN</td>\n",
       "      <td>ACORN-H</td>\n",
       "      <td>Comfortable</td>\n",
       "    </tr>\n",
       "    <tr>\n",
       "      <th>163719</th>\n",
       "      <td>MAC000008</td>\n",
       "      <td>Std</td>\n",
       "      <td>2012-12-19 12:37:27</td>\n",
       "      <td>NaN</td>\n",
       "      <td>ACORN-H</td>\n",
       "      <td>Comfortable</td>\n",
       "    </tr>\n",
       "    <tr>\n",
       "      <th>183152</th>\n",
       "      <td>MAC000009</td>\n",
       "      <td>Std</td>\n",
       "      <td>2012-12-19 12:37:27</td>\n",
       "      <td>NaN</td>\n",
       "      <td>ACORN-L</td>\n",
       "      <td>Adversity</td>\n",
       "    </tr>\n",
       "    <tr>\n",
       "      <th>208192</th>\n",
       "      <td>MAC000010</td>\n",
       "      <td>Std</td>\n",
       "      <td>2012-12-19 12:37:27</td>\n",
       "      <td>NaN</td>\n",
       "      <td>ACORN-H</td>\n",
       "      <td>Comfortable</td>\n",
       "    </tr>\n",
       "    <tr>\n",
       "      <th>231899</th>\n",
       "      <td>MAC000011</td>\n",
       "      <td>Std</td>\n",
       "      <td>2012-12-19 12:37:28</td>\n",
       "      <td>NaN</td>\n",
       "      <td>ACORN-N</td>\n",
       "      <td>Adversity</td>\n",
       "    </tr>\n",
       "    <tr>\n",
       "      <th>256569</th>\n",
       "      <td>MAC000012</td>\n",
       "      <td>Std</td>\n",
       "      <td>2012-12-19 12:37:28</td>\n",
       "      <td>NaN</td>\n",
       "      <td>ACORN-E</td>\n",
       "      <td>Affluent</td>\n",
       "    </tr>\n",
       "    <tr>\n",
       "      <th>286182</th>\n",
       "      <td>MAC000013</td>\n",
       "      <td>Std</td>\n",
       "      <td>2012-12-19 12:37:27</td>\n",
       "      <td>NaN</td>\n",
       "      <td>ACORN-K</td>\n",
       "      <td>Adversity</td>\n",
       "    </tr>\n",
       "    <tr>\n",
       "      <th>325260</th>\n",
       "      <td>MAC000016</td>\n",
       "      <td>Std</td>\n",
       "      <td>2012-12-18 15:13:40</td>\n",
       "      <td>NaN</td>\n",
       "      <td>ACORN-K</td>\n",
       "      <td>Adversity</td>\n",
       "    </tr>\n",
       "    <tr>\n",
       "      <th>344744</th>\n",
       "      <td>MAC000018</td>\n",
       "      <td>Std</td>\n",
       "      <td>2012-12-18 15:13:41</td>\n",
       "      <td>NaN</td>\n",
       "      <td>ACORN-E</td>\n",
       "      <td>Affluent</td>\n",
       "    </tr>\n",
       "    <tr>\n",
       "      <th>383815</th>\n",
       "      <td>MAC000019</td>\n",
       "      <td>Std</td>\n",
       "      <td>2012-12-18 15:13:41</td>\n",
       "      <td>NaN</td>\n",
       "      <td>ACORN-K</td>\n",
       "      <td>Adversity</td>\n",
       "    </tr>\n",
       "    <tr>\n",
       "      <th>422896</th>\n",
       "      <td>MAC000020</td>\n",
       "      <td>Std</td>\n",
       "      <td>2012-12-18 15:13:41</td>\n",
       "      <td>NaN</td>\n",
       "      <td>ACORN-J</td>\n",
       "      <td>Comfortable</td>\n",
       "    </tr>\n",
       "    <tr>\n",
       "      <th>461974</th>\n",
       "      <td>MAC000021</td>\n",
       "      <td>Std</td>\n",
       "      <td>2012-12-18 15:13:41</td>\n",
       "      <td>NaN</td>\n",
       "      <td>ACORN-E</td>\n",
       "      <td>Affluent</td>\n",
       "    </tr>\n",
       "    <tr>\n",
       "      <th>501052</th>\n",
       "      <td>MAC000022</td>\n",
       "      <td>Std</td>\n",
       "      <td>2012-12-18 15:13:41</td>\n",
       "      <td>NaN</td>\n",
       "      <td>ACORN-Q</td>\n",
       "      <td>Adversity</td>\n",
       "    </tr>\n",
       "    <tr>\n",
       "      <th>540115</th>\n",
       "      <td>MAC000023</td>\n",
       "      <td>Std</td>\n",
       "      <td>2012-12-18 15:13:41</td>\n",
       "      <td>NaN</td>\n",
       "      <td>ACORN-U</td>\n",
       "      <td>ACORN-U</td>\n",
       "    </tr>\n",
       "    <tr>\n",
       "      <th>579142</th>\n",
       "      <td>MAC000024</td>\n",
       "      <td>Std</td>\n",
       "      <td>2012-12-18 15:13:41</td>\n",
       "      <td>NaN</td>\n",
       "      <td>ACORN-E</td>\n",
       "      <td>Affluent</td>\n",
       "    </tr>\n",
       "    <tr>\n",
       "      <th>618213</th>\n",
       "      <td>MAC000025</td>\n",
       "      <td>Std</td>\n",
       "      <td>2012-12-18 15:13:41</td>\n",
       "      <td>NaN</td>\n",
       "      <td>ACORN-P</td>\n",
       "      <td>Adversity</td>\n",
       "    </tr>\n",
       "  </tbody>\n",
       "</table>\n",
       "</div>"
      ],
      "text/plain": [
       "            LCLid stdorToU            DateTime  KWH/hh (per half hour)   \\\n",
       "3240    MAC000002      Std 2012-12-19 12:37:27                      NaN   \n",
       "38710   MAC000003      Std 2012-12-19 12:37:26                      NaN   \n",
       "70386   MAC000004      Std 2012-12-19 12:32:40                      NaN   \n",
       "106846  MAC000006      Std 2012-12-19 12:37:26                      NaN   \n",
       "131897  MAC000007      Std 2012-12-19 12:37:27                      NaN   \n",
       "163719  MAC000008      Std 2012-12-19 12:37:27                      NaN   \n",
       "183152  MAC000009      Std 2012-12-19 12:37:27                      NaN   \n",
       "208192  MAC000010      Std 2012-12-19 12:37:27                      NaN   \n",
       "231899  MAC000011      Std 2012-12-19 12:37:28                      NaN   \n",
       "256569  MAC000012      Std 2012-12-19 12:37:28                      NaN   \n",
       "286182  MAC000013      Std 2012-12-19 12:37:27                      NaN   \n",
       "325260  MAC000016      Std 2012-12-18 15:13:40                      NaN   \n",
       "344744  MAC000018      Std 2012-12-18 15:13:41                      NaN   \n",
       "383815  MAC000019      Std 2012-12-18 15:13:41                      NaN   \n",
       "422896  MAC000020      Std 2012-12-18 15:13:41                      NaN   \n",
       "461974  MAC000021      Std 2012-12-18 15:13:41                      NaN   \n",
       "501052  MAC000022      Std 2012-12-18 15:13:41                      NaN   \n",
       "540115  MAC000023      Std 2012-12-18 15:13:41                      NaN   \n",
       "579142  MAC000024      Std 2012-12-18 15:13:41                      NaN   \n",
       "618213  MAC000025      Std 2012-12-18 15:13:41                      NaN   \n",
       "\n",
       "          Acorn Acorn_grouped  \n",
       "3240    ACORN-A      Affluent  \n",
       "38710   ACORN-P     Adversity  \n",
       "70386   ACORN-E      Affluent  \n",
       "106846  ACORN-Q     Adversity  \n",
       "131897  ACORN-H   Comfortable  \n",
       "163719  ACORN-H   Comfortable  \n",
       "183152  ACORN-L     Adversity  \n",
       "208192  ACORN-H   Comfortable  \n",
       "231899  ACORN-N     Adversity  \n",
       "256569  ACORN-E      Affluent  \n",
       "286182  ACORN-K     Adversity  \n",
       "325260  ACORN-K     Adversity  \n",
       "344744  ACORN-E      Affluent  \n",
       "383815  ACORN-K     Adversity  \n",
       "422896  ACORN-J   Comfortable  \n",
       "461974  ACORN-E      Affluent  \n",
       "501052  ACORN-Q     Adversity  \n",
       "540115  ACORN-U       ACORN-U  \n",
       "579142  ACORN-E      Affluent  \n",
       "618213  ACORN-P     Adversity  "
      ]
     },
     "execution_count": 53,
     "metadata": {},
     "output_type": "execute_result"
    }
   ],
   "source": [
    "nrg_year[nan_loc].head(20)"
   ]
  },
  {
   "cell_type": "code",
   "execution_count": 54,
   "metadata": {
    "collapsed": false
   },
   "outputs": [
    {
     "name": "stdout",
     "output_type": "stream",
     "text": [
      "<class 'pandas.core.frame.DataFrame'>\n",
      "Int64Index: 31811668 entries, 2351 to 916432\n",
      "Data columns (total 6 columns):\n",
      "LCLid                      object\n",
      "stdorToU                   object\n",
      "DateTime                   datetime64[ns]\n",
      "KWH/hh (per half hour)     float64\n",
      "Acorn                      object\n",
      "Acorn_grouped              object\n",
      "dtypes: datetime64[ns](1), float64(1), object(4)\n",
      "memory usage: 1.7+ GB\n"
     ]
    }
   ],
   "source": [
    "nrg_year.dropna(inplace = True)\n",
    "nrg_year.info()"
   ]
  },
  {
   "cell_type": "code",
   "execution_count": 55,
   "metadata": {
    "collapsed": false
   },
   "outputs": [
    {
     "data": {
      "text/html": [
       "<div>\n",
       "<table border=\"1\" class=\"dataframe\">\n",
       "  <thead>\n",
       "    <tr style=\"text-align: right;\">\n",
       "      <th></th>\n",
       "      <th></th>\n",
       "      <th></th>\n",
       "      <th></th>\n",
       "      <th>KWH/hh (per half hour)</th>\n",
       "    </tr>\n",
       "    <tr>\n",
       "      <th>DateTime</th>\n",
       "      <th>Acorn</th>\n",
       "      <th>Acorn_grouped</th>\n",
       "      <th>stdorToU</th>\n",
       "      <th></th>\n",
       "    </tr>\n",
       "  </thead>\n",
       "  <tbody>\n",
       "    <tr>\n",
       "      <th rowspan=\"5\" valign=\"top\">2012-12-01</th>\n",
       "      <th>ACORN-</th>\n",
       "      <th>ACORN-</th>\n",
       "      <th>ToU</th>\n",
       "      <td>0.230000</td>\n",
       "    </tr>\n",
       "    <tr>\n",
       "      <th rowspan=\"2\" valign=\"top\">ACORN-A</th>\n",
       "      <th rowspan=\"2\" valign=\"top\">Affluent</th>\n",
       "      <th>Std</th>\n",
       "      <td>0.424889</td>\n",
       "    </tr>\n",
       "    <tr>\n",
       "      <th>ToU</th>\n",
       "      <td>0.395658</td>\n",
       "    </tr>\n",
       "    <tr>\n",
       "      <th rowspan=\"2\" valign=\"top\">ACORN-B</th>\n",
       "      <th rowspan=\"2\" valign=\"top\">Affluent</th>\n",
       "      <th>Std</th>\n",
       "      <td>0.230476</td>\n",
       "    </tr>\n",
       "    <tr>\n",
       "      <th>ToU</th>\n",
       "      <td>0.348500</td>\n",
       "    </tr>\n",
       "  </tbody>\n",
       "</table>\n",
       "</div>"
      ],
      "text/plain": [
       "                                           KWH/hh (per half hour) \n",
       "DateTime   Acorn   Acorn_grouped stdorToU                         \n",
       "2012-12-01 ACORN-  ACORN-        ToU                      0.230000\n",
       "           ACORN-A Affluent      Std                      0.424889\n",
       "                                 ToU                      0.395658\n",
       "           ACORN-B Affluent      Std                      0.230476\n",
       "                                 ToU                      0.348500"
      ]
     },
     "execution_count": 55,
     "metadata": {},
     "output_type": "execute_result"
    }
   ],
   "source": [
    "nrg_year.groupby(['DateTime', 'Acorn', 'Acorn_grouped', 'stdorToU']).aggregate(np.mean).head()"
   ]
  },
  {
   "cell_type": "code",
   "execution_count": 62,
   "metadata": {
    "collapsed": false
   },
   "outputs": [],
   "source": [
    "grouped_nrg_1213 = pd.concat([nrg_year.groupby(['DateTime', 'Acorn', 'Acorn_grouped', 'stdorToU']).aggregate(np.mean),\n",
    "        nrg_year.groupby(['DateTime', 'Acorn', 'Acorn_grouped', 'stdorToU']).count().iloc[:,0]], axis = 1)"
   ]
  },
  {
   "cell_type": "code",
   "execution_count": 63,
   "metadata": {
    "collapsed": false
   },
   "outputs": [
    {
     "data": {
      "text/html": [
       "<div>\n",
       "<table border=\"1\" class=\"dataframe\">\n",
       "  <thead>\n",
       "    <tr style=\"text-align: right;\">\n",
       "      <th></th>\n",
       "      <th></th>\n",
       "      <th></th>\n",
       "      <th></th>\n",
       "      <th>KWH/hh (per half hour)</th>\n",
       "      <th>LCLid</th>\n",
       "    </tr>\n",
       "    <tr>\n",
       "      <th>DateTime</th>\n",
       "      <th>Acorn</th>\n",
       "      <th>Acorn_grouped</th>\n",
       "      <th>stdorToU</th>\n",
       "      <th></th>\n",
       "      <th></th>\n",
       "    </tr>\n",
       "  </thead>\n",
       "  <tbody>\n",
       "    <tr>\n",
       "      <th rowspan=\"30\" valign=\"top\">2012-12-01</th>\n",
       "      <th>ACORN-</th>\n",
       "      <th>ACORN-</th>\n",
       "      <th>ToU</th>\n",
       "      <td>0.230000</td>\n",
       "      <td>2</td>\n",
       "    </tr>\n",
       "    <tr>\n",
       "      <th rowspan=\"2\" valign=\"top\">ACORN-A</th>\n",
       "      <th rowspan=\"2\" valign=\"top\">Affluent</th>\n",
       "      <th>Std</th>\n",
       "      <td>0.424889</td>\n",
       "      <td>117</td>\n",
       "    </tr>\n",
       "    <tr>\n",
       "      <th>ToU</th>\n",
       "      <td>0.395658</td>\n",
       "      <td>38</td>\n",
       "    </tr>\n",
       "    <tr>\n",
       "      <th rowspan=\"2\" valign=\"top\">ACORN-B</th>\n",
       "      <th rowspan=\"2\" valign=\"top\">Affluent</th>\n",
       "      <th>Std</th>\n",
       "      <td>0.230476</td>\n",
       "      <td>21</td>\n",
       "    </tr>\n",
       "    <tr>\n",
       "      <th>ToU</th>\n",
       "      <td>0.348500</td>\n",
       "      <td>4</td>\n",
       "    </tr>\n",
       "    <tr>\n",
       "      <th rowspan=\"2\" valign=\"top\">ACORN-C</th>\n",
       "      <th rowspan=\"2\" valign=\"top\">Affluent</th>\n",
       "      <th>Std</th>\n",
       "      <td>0.235267</td>\n",
       "      <td>116</td>\n",
       "    </tr>\n",
       "    <tr>\n",
       "      <th>ToU</th>\n",
       "      <td>0.159667</td>\n",
       "      <td>33</td>\n",
       "    </tr>\n",
       "    <tr>\n",
       "      <th rowspan=\"2\" valign=\"top\">ACORN-D</th>\n",
       "      <th rowspan=\"2\" valign=\"top\">Affluent</th>\n",
       "      <th>Std</th>\n",
       "      <td>0.337674</td>\n",
       "      <td>218</td>\n",
       "    </tr>\n",
       "    <tr>\n",
       "      <th>ToU</th>\n",
       "      <td>0.275260</td>\n",
       "      <td>73</td>\n",
       "    </tr>\n",
       "    <tr>\n",
       "      <th rowspan=\"2\" valign=\"top\">ACORN-E</th>\n",
       "      <th rowspan=\"2\" valign=\"top\">Affluent</th>\n",
       "      <th>Std</th>\n",
       "      <td>0.250200</td>\n",
       "      <td>1220</td>\n",
       "    </tr>\n",
       "    <tr>\n",
       "      <th>ToU</th>\n",
       "      <td>0.220962</td>\n",
       "      <td>338</td>\n",
       "    </tr>\n",
       "    <tr>\n",
       "      <th rowspan=\"2\" valign=\"top\">ACORN-F</th>\n",
       "      <th rowspan=\"2\" valign=\"top\">Comfortable</th>\n",
       "      <th>Std</th>\n",
       "      <td>0.217006</td>\n",
       "      <td>529</td>\n",
       "    </tr>\n",
       "    <tr>\n",
       "      <th>ToU</th>\n",
       "      <td>0.189197</td>\n",
       "      <td>152</td>\n",
       "    </tr>\n",
       "    <tr>\n",
       "      <th rowspan=\"2\" valign=\"top\">ACORN-G</th>\n",
       "      <th rowspan=\"2\" valign=\"top\">Comfortable</th>\n",
       "      <th>Std</th>\n",
       "      <td>0.203449</td>\n",
       "      <td>158</td>\n",
       "    </tr>\n",
       "    <tr>\n",
       "      <th>ToU</th>\n",
       "      <td>0.179447</td>\n",
       "      <td>47</td>\n",
       "    </tr>\n",
       "    <tr>\n",
       "      <th rowspan=\"2\" valign=\"top\">ACORN-H</th>\n",
       "      <th rowspan=\"2\" valign=\"top\">Comfortable</th>\n",
       "      <th>Std</th>\n",
       "      <td>0.220942</td>\n",
       "      <td>365</td>\n",
       "    </tr>\n",
       "    <tr>\n",
       "      <th>ToU</th>\n",
       "      <td>0.228726</td>\n",
       "      <td>84</td>\n",
       "    </tr>\n",
       "    <tr>\n",
       "      <th rowspan=\"2\" valign=\"top\">ACORN-I</th>\n",
       "      <th rowspan=\"2\" valign=\"top\">Comfortable</th>\n",
       "      <th>Std</th>\n",
       "      <td>0.197732</td>\n",
       "      <td>41</td>\n",
       "    </tr>\n",
       "    <tr>\n",
       "      <th>ToU</th>\n",
       "      <td>0.204875</td>\n",
       "      <td>8</td>\n",
       "    </tr>\n",
       "    <tr>\n",
       "      <th rowspan=\"2\" valign=\"top\">ACORN-J</th>\n",
       "      <th rowspan=\"2\" valign=\"top\">Comfortable</th>\n",
       "      <th>Std</th>\n",
       "      <td>0.268013</td>\n",
       "      <td>80</td>\n",
       "    </tr>\n",
       "    <tr>\n",
       "      <th>ToU</th>\n",
       "      <td>0.186065</td>\n",
       "      <td>31</td>\n",
       "    </tr>\n",
       "    <tr>\n",
       "      <th rowspan=\"2\" valign=\"top\">ACORN-K</th>\n",
       "      <th rowspan=\"2\" valign=\"top\">Adversity</th>\n",
       "      <th>Std</th>\n",
       "      <td>0.245853</td>\n",
       "      <td>143</td>\n",
       "    </tr>\n",
       "    <tr>\n",
       "      <th>ToU</th>\n",
       "      <td>0.281091</td>\n",
       "      <td>22</td>\n",
       "    </tr>\n",
       "    <tr>\n",
       "      <th rowspan=\"2\" valign=\"top\">ACORN-L</th>\n",
       "      <th rowspan=\"2\" valign=\"top\">Adversity</th>\n",
       "      <th>Std</th>\n",
       "      <td>0.213394</td>\n",
       "      <td>264</td>\n",
       "    </tr>\n",
       "    <tr>\n",
       "      <th>ToU</th>\n",
       "      <td>0.200355</td>\n",
       "      <td>76</td>\n",
       "    </tr>\n",
       "    <tr>\n",
       "      <th rowspan=\"2\" valign=\"top\">ACORN-M</th>\n",
       "      <th rowspan=\"2\" valign=\"top\">Adversity</th>\n",
       "      <th>Std</th>\n",
       "      <td>0.193198</td>\n",
       "      <td>96</td>\n",
       "    </tr>\n",
       "    <tr>\n",
       "      <th>ToU</th>\n",
       "      <td>0.179235</td>\n",
       "      <td>17</td>\n",
       "    </tr>\n",
       "    <tr>\n",
       "      <th rowspan=\"2\" valign=\"top\">ACORN-N</th>\n",
       "      <th rowspan=\"2\" valign=\"top\">Adversity</th>\n",
       "      <th>Std</th>\n",
       "      <td>0.174520</td>\n",
       "      <td>125</td>\n",
       "    </tr>\n",
       "    <tr>\n",
       "      <th>ToU</th>\n",
       "      <td>0.168720</td>\n",
       "      <td>25</td>\n",
       "    </tr>\n",
       "    <tr>\n",
       "      <th>ACORN-O</th>\n",
       "      <th>Adversity</th>\n",
       "      <th>Std</th>\n",
       "      <td>0.188402</td>\n",
       "      <td>87</td>\n",
       "    </tr>\n",
       "  </tbody>\n",
       "</table>\n",
       "</div>"
      ],
      "text/plain": [
       "                                           KWH/hh (per half hour)   LCLid\n",
       "DateTime   Acorn   Acorn_grouped stdorToU                                \n",
       "2012-12-01 ACORN-  ACORN-        ToU                      0.230000      2\n",
       "           ACORN-A Affluent      Std                      0.424889    117\n",
       "                                 ToU                      0.395658     38\n",
       "           ACORN-B Affluent      Std                      0.230476     21\n",
       "                                 ToU                      0.348500      4\n",
       "           ACORN-C Affluent      Std                      0.235267    116\n",
       "                                 ToU                      0.159667     33\n",
       "           ACORN-D Affluent      Std                      0.337674    218\n",
       "                                 ToU                      0.275260     73\n",
       "           ACORN-E Affluent      Std                      0.250200   1220\n",
       "                                 ToU                      0.220962    338\n",
       "           ACORN-F Comfortable   Std                      0.217006    529\n",
       "                                 ToU                      0.189197    152\n",
       "           ACORN-G Comfortable   Std                      0.203449    158\n",
       "                                 ToU                      0.179447     47\n",
       "           ACORN-H Comfortable   Std                      0.220942    365\n",
       "                                 ToU                      0.228726     84\n",
       "           ACORN-I Comfortable   Std                      0.197732     41\n",
       "                                 ToU                      0.204875      8\n",
       "           ACORN-J Comfortable   Std                      0.268013     80\n",
       "                                 ToU                      0.186065     31\n",
       "           ACORN-K Adversity     Std                      0.245853    143\n",
       "                                 ToU                      0.281091     22\n",
       "           ACORN-L Adversity     Std                      0.213394    264\n",
       "                                 ToU                      0.200355     76\n",
       "           ACORN-M Adversity     Std                      0.193198     96\n",
       "                                 ToU                      0.179235     17\n",
       "           ACORN-N Adversity     Std                      0.174520    125\n",
       "                                 ToU                      0.168720     25\n",
       "           ACORN-O Adversity     Std                      0.188402     87"
      ]
     },
     "execution_count": 63,
     "metadata": {},
     "output_type": "execute_result"
    }
   ],
   "source": [
    "grouped_nrg_1213.head(30)"
   ]
  },
  {
   "cell_type": "code",
   "execution_count": 64,
   "metadata": {
    "collapsed": false
   },
   "outputs": [
    {
     "name": "stdout",
     "output_type": "stream",
     "text": [
      "<class 'pandas.core.frame.DataFrame'>\n",
      "MultiIndex: 210048 entries, (2012-12-01 00:00:00, ACORN-, ACORN-, ToU) to (2013-03-31 23:30:00, ACORN-U, ACORN-U, ToU)\n",
      "Data columns (total 2 columns):\n",
      "KWH/hh (per half hour)     210048 non-null float64\n",
      "LCLid                      210048 non-null int64\n",
      "dtypes: float64(1), int64(1)\n",
      "memory usage: 4.8+ MB\n"
     ]
    }
   ],
   "source": [
    "grouped_nrg_1213.info()"
   ]
  },
  {
   "cell_type": "code",
   "execution_count": 65,
   "metadata": {
    "collapsed": false
   },
   "outputs": [
    {
     "data": {
      "text/plain": [
       "(Timestamp('2013-03-31 23:30:00'), 'ACORN-U', 'ACORN-U', 'ToU')"
      ]
     },
     "execution_count": 65,
     "metadata": {},
     "output_type": "execute_result"
    }
   ],
   "source": [
    "max(grouped_nrg_1213.index)"
   ]
  },
  {
   "cell_type": "code",
   "execution_count": 66,
   "metadata": {
    "collapsed": false
   },
   "outputs": [
    {
     "data": {
      "text/plain": [
       "(Timestamp('2012-12-01 00:00:00'), 'ACORN-', 'ACORN-', 'ToU')"
      ]
     },
     "execution_count": 66,
     "metadata": {},
     "output_type": "execute_result"
    }
   ],
   "source": [
    "min(grouped_nrg_1213.index)"
   ]
  },
  {
   "cell_type": "code",
   "execution_count": 69,
   "metadata": {
    "collapsed": false
   },
   "outputs": [
    {
     "data": {
      "text/plain": [
       "5808"
      ]
     },
     "execution_count": 69,
     "metadata": {},
     "output_type": "execute_result"
    }
   ],
   "source": [
    "len(nrg_year.DateTime.unique())"
   ]
  },
  {
   "cell_type": "code",
   "execution_count": 70,
   "metadata": {
    "collapsed": true
   },
   "outputs": [],
   "source": [
    "output = \"~/Desktop/CUSP/Applied_Data_Science/Taming-the-Peak/Final_Data/grouped_nrg_winter1213.csv\"\n",
    "\n",
    "grouped_nrg_1213.to_csv(output)"
   ]
  }
 ],
 "metadata": {
  "anaconda-cloud": {},
  "kernelspec": {
   "display_name": "Python [Root]",
   "language": "python",
   "name": "Python [Root]"
  },
  "language_info": {
   "codemirror_mode": {
    "name": "ipython",
    "version": 2
   },
   "file_extension": ".py",
   "mimetype": "text/x-python",
   "name": "python",
   "nbconvert_exporter": "python",
   "pygments_lexer": "ipython2",
   "version": "2.7.12"
  }
 },
 "nbformat": 4,
 "nbformat_minor": 0
}
