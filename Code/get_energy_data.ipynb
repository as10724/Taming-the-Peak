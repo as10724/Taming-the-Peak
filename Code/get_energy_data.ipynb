{
 "cells": [
  {
   "cell_type": "code",
   "execution_count": 32,
   "metadata": {
    "collapsed": true
   },
   "outputs": [],
   "source": [
    "import numpy as np\n",
    "import pandas as pd\n"
   ]
  },
  {
   "cell_type": "code",
   "execution_count": 33,
   "metadata": {
    "collapsed": true
   },
   "outputs": [],
   "source": [
    "data = pd.read_csv('../Final_Data/final1213.csv', parse_dates=[\"Datetime\"])"
   ]
  },
  {
   "cell_type": "code",
   "execution_count": 31,
   "metadata": {
    "collapsed": false
   },
   "outputs": [
    {
     "data": {
      "text/html": [
       "<div>\n",
       "<table border=\"1\" class=\"dataframe\">\n",
       "  <thead>\n",
       "    <tr style=\"text-align: right;\">\n",
       "      <th></th>\n",
       "      <th>Datetime</th>\n",
       "      <th>Dew_Point_F</th>\n",
       "      <th>Humidity</th>\n",
       "      <th>Temperature_F</th>\n",
       "      <th>Wind_Speed_MPH</th>\n",
       "      <th>Low_Income</th>\n",
       "      <th>High_Income</th>\n",
       "      <th>Middle_Income</th>\n",
       "      <th>Overall</th>\n",
       "    </tr>\n",
       "  </thead>\n",
       "  <tbody>\n",
       "    <tr>\n",
       "      <th>17499</th>\n",
       "      <td>2013-12-31 19:00:00</td>\n",
       "      <td>39.2</td>\n",
       "      <td>87</td>\n",
       "      <td>42.8</td>\n",
       "      <td>9.2</td>\n",
       "      <td>0.645365</td>\n",
       "      <td>0.891387</td>\n",
       "      <td>0.806535</td>\n",
       "      <td>0.786268</td>\n",
       "    </tr>\n",
       "    <tr>\n",
       "      <th>17500</th>\n",
       "      <td>2013-12-31 20:00:00</td>\n",
       "      <td>37.4</td>\n",
       "      <td>81</td>\n",
       "      <td>42.8</td>\n",
       "      <td>8.1</td>\n",
       "      <td>0.605864</td>\n",
       "      <td>0.843795</td>\n",
       "      <td>0.753226</td>\n",
       "      <td>0.739797</td>\n",
       "    </tr>\n",
       "    <tr>\n",
       "      <th>17501</th>\n",
       "      <td>2013-12-31 21:00:00</td>\n",
       "      <td>37.4</td>\n",
       "      <td>81</td>\n",
       "      <td>42.8</td>\n",
       "      <td>6.9</td>\n",
       "      <td>0.538989</td>\n",
       "      <td>0.758781</td>\n",
       "      <td>0.673501</td>\n",
       "      <td>0.662263</td>\n",
       "    </tr>\n",
       "    <tr>\n",
       "      <th>17502</th>\n",
       "      <td>2013-12-31 22:00:00</td>\n",
       "      <td>41.0</td>\n",
       "      <td>87</td>\n",
       "      <td>44.6</td>\n",
       "      <td>12.7</td>\n",
       "      <td>0.493306</td>\n",
       "      <td>0.676161</td>\n",
       "      <td>0.615117</td>\n",
       "      <td>0.598618</td>\n",
       "    </tr>\n",
       "    <tr>\n",
       "      <th>17503</th>\n",
       "      <td>2013-12-31 23:00:00</td>\n",
       "      <td>42.8</td>\n",
       "      <td>87</td>\n",
       "      <td>46.4</td>\n",
       "      <td>10.4</td>\n",
       "      <td>0.448380</td>\n",
       "      <td>0.605961</td>\n",
       "      <td>0.550477</td>\n",
       "      <td>0.538336</td>\n",
       "    </tr>\n",
       "  </tbody>\n",
       "</table>\n",
       "</div>"
      ],
      "text/plain": [
       "                 Datetime  Dew_Point_F  Humidity  Temperature_F  \\\n",
       "17499 2013-12-31 19:00:00         39.2        87           42.8   \n",
       "17500 2013-12-31 20:00:00         37.4        81           42.8   \n",
       "17501 2013-12-31 21:00:00         37.4        81           42.8   \n",
       "17502 2013-12-31 22:00:00         41.0        87           44.6   \n",
       "17503 2013-12-31 23:00:00         42.8        87           46.4   \n",
       "\n",
       "       Wind_Speed_MPH  Low_Income  High_Income  Middle_Income   Overall  \n",
       "17499             9.2    0.645365     0.891387       0.806535  0.786268  \n",
       "17500             8.1    0.605864     0.843795       0.753226  0.739797  \n",
       "17501             6.9    0.538989     0.758781       0.673501  0.662263  \n",
       "17502            12.7    0.493306     0.676161       0.615117  0.598618  \n",
       "17503            10.4    0.448380     0.605961       0.550477  0.538336  "
      ]
     },
     "execution_count": 31,
     "metadata": {},
     "output_type": "execute_result"
    }
   ],
   "source": [
    "data.tail()"
   ]
  },
  {
   "cell_type": "markdown",
   "metadata": {},
   "source": [
    "## Tests"
   ]
  },
  {
   "cell_type": "code",
   "execution_count": 6,
   "metadata": {
    "collapsed": false
   },
   "outputs": [],
   "source": [
    "data = pd.read_csv(\"/home/cusp/hh1713/Taming-the-Peak/Final_Data/energy_final_2011_12.csv\")"
   ]
  },
  {
   "cell_type": "code",
   "execution_count": null,
   "metadata": {
    "collapsed": true
   },
   "outputs": [],
   "source": [
    "data = pd.read_csv(\"../../../../gws/projects/project-taming_the_peak/workspace/share/Power-Networks-LCL-June2015(withAcornGps).csv_Pieces/\")"
   ]
  },
  {
   "cell_type": "code",
   "execution_count": 2,
   "metadata": {
    "collapsed": false
   },
   "outputs": [
    {
     "data": {
      "text/plain": [
       "u'/wingrdp/homedirs/hh1713/Taming-the-Peak/Code'"
      ]
     },
     "execution_count": 2,
     "metadata": {},
     "output_type": "execute_result"
    }
   ],
   "source": [
    "pwd"
   ]
  },
  {
   "cell_type": "code",
   "execution_count": 2,
   "metadata": {
    "collapsed": false
   },
   "outputs": [],
   "source": [
    "dirname = \"E:\\Taming_The_Peak\\low-carbon-london-data-168-files\\Power-Networks-LCL-June2015(withAcornGps).csv_Pieces\"\n",
    "#dirname = \"~\\Desktop\\CUSP\\Applied_Data_Science\\Project\\Power-Networks-LCL-June2015(withAcornGps).csv_Pieces\\Power-Networks-LCL-June2015(withAcornGps).csv_Pieces\"\n",
    "filename = 'Power-Networks-LCL-June2015(withAcornGps)v2_168.csv'\n",
    "\n",
    "# dtype = {'LCLid': category,\n",
    "#          'stdorToU' : pd.category,\n",
    "#          'DateTime' : np.datetime64,\n",
    "#          'KWH/hh (per half hour) ': float,\n",
    "#          'Acorn' : category,\n",
    "#          'Acorn_grouped' : category \n",
    "#         }\n",
    "\n",
    "nrg = pd.read_csv(dirname + \"/\" + filename)"
   ]
  },
  {
   "cell_type": "code",
   "execution_count": 4,
   "metadata": {
    "collapsed": false
   },
   "outputs": [
    {
     "data": {
      "text/plain": [
       "Index([u'LCLid', u'stdorToU', u'DateTime', u'KWH/hh (per half hour) ',\n",
       "       u'Acorn', u'Acorn_grouped'],\n",
       "      dtype='object')"
      ]
     },
     "execution_count": 4,
     "metadata": {},
     "output_type": "execute_result"
    }
   ],
   "source": [
    "nrg.columns"
   ]
  },
  {
   "cell_type": "code",
   "execution_count": 6,
   "metadata": {
    "collapsed": false
   },
   "outputs": [],
   "source": [
    " nrg.DateTime = pd.to_datetime(nrg.DateTime)\n",
    "\n",
    "# nrg.info()"
   ]
  },
  {
   "cell_type": "code",
   "execution_count": 6,
   "metadata": {
    "collapsed": false
   },
   "outputs": [
    {
     "data": {
      "text/plain": [
       "Timestamp('2012-04-16 11:00:00')"
      ]
     },
     "execution_count": 6,
     "metadata": {},
     "output_type": "execute_result"
    }
   ],
   "source": [
    "min(nrg.DateTime)"
   ]
  },
  {
   "cell_type": "code",
   "execution_count": 4,
   "metadata": {
    "collapsed": false
   },
   "outputs": [
    {
     "data": {
      "text/plain": [
       "'2014-02-28 00:00:00.0000000'"
      ]
     },
     "execution_count": 4,
     "metadata": {},
     "output_type": "execute_result"
    }
   ],
   "source": [
    "max(nrg.DateTime)"
   ]
  },
  {
   "cell_type": "code",
   "execution_count": 10,
   "metadata": {
    "collapsed": false
   },
   "outputs": [
    {
     "data": {
      "text/plain": [
       "Timestamp('2013-06-01 00:00:00')"
      ]
     },
     "execution_count": 10,
     "metadata": {},
     "output_type": "execute_result"
    }
   ],
   "source": [
    "maxdate = pd.Timestamp('2013-06-01 00:00:00')\n",
    "mindate = pd.Timestamp('2013-06-01 00:00:00')\n",
    "maxdate"
   ]
  },
  {
   "cell_type": "code",
   "execution_count": 50,
   "metadata": {
    "collapsed": false
   },
   "outputs": [
    {
     "name": "stdout",
     "output_type": "stream",
     "text": [
      "<class 'pandas.core.frame.DataFrame'>\n",
      "Int64Index: 111122 entries, 19884 to 983824\n",
      "Data columns (total 6 columns):\n",
      "LCLid                      111122 non-null object\n",
      "stdorToU                   111122 non-null object\n",
      "DateTime                   111122 non-null datetime64[ns]\n",
      "KWH/hh (per half hour)     111122 non-null object\n",
      "Acorn                      111122 non-null object\n",
      "Acorn_grouped              111122 non-null object\n",
      "dtypes: datetime64[ns](1), object(5)\n",
      "memory usage: 5.9+ MB\n"
     ]
    }
   ],
   "source": [
    "winter1314_init = '2013-12-01 00:00:00'\n",
    "winter1314_end = '2014-03-31 23:59:00'\n",
    "\n",
    "nrg_1314 = nrg[nrg.DateTime > winter1314_init]\n",
    "\n",
    "nrg_1314 = nrg_1314[nrg_1314.DateTime < winter1314_end]\n",
    "\n",
    "nrg_1314.info()"
   ]
  },
  {
   "cell_type": "markdown",
   "metadata": {},
   "source": [
    "## Getting the data"
   ]
  },
  {
   "cell_type": "code",
   "execution_count": 7,
   "metadata": {
    "collapsed": false
   },
   "outputs": [
    {
     "name": "stdout",
     "output_type": "stream",
     "text": [
      "% 100.0\n"
     ]
    }
   ],
   "source": [
    "# getting all the winter1314 data\n",
    "\n",
    "# path and file name\n",
    "dirname = \"../../../../gws/projects/project-taming_the_peak/workspace/share/Power-Networks-LCL-June2015(withAcornGps).csv_Pieces/\"\n",
    "#dirname = \"~\\Desktop\\CUSP\\Applied_Data_Science\\Project\\Power-Networks-LCL-June2015(withAcornGps).csv_Pieces\\Power-Networks-LCL-June2015(withAcornGps).csv_Pieces\"\n",
    "filename = 'Power-Networks-LCL-June2015(withAcornGps)v2_'\n",
    "\n",
    "# initial and final day for each season\n",
    "#day_init = '2013-06-01 00:00:00'\n",
    "#day_end = '2013-08-31 23:59:59'\n",
    "day_init = '2012-01-01 00:00:00'\n",
    "day_end = '2012-12-31 23:59:59'\n",
    "\n",
    "# initializing the data frame\n",
    "nrg_year = pd.DataFrame()\n",
    "\n",
    "#initializing min and max date\n",
    "# maxdate = pd.Timestamp('2013-06-01 00:00:00')\n",
    "# mindate = pd.Timestamp('2013-06-01 00:00:00')\n",
    "\n",
    "for i in range(1, 169):\n",
    "    nrg = pd.read_csv(dirname + \"/\" + filename + str(i) + \".csv\")\n",
    "    nrg.DateTime = pd.to_datetime(nrg.DateTime)\n",
    "    \n",
    "    #if min(nrg.DateTime) < mindate:\n",
    "    #    mindate = min(nrg.DateTime)\n",
    "    #if max(nrg.DateTime) > maxdate:\n",
    "    #    maxdate = max(nrg.DateTime)\n",
    "        \n",
    "    nrg_ = nrg[nrg.DateTime >= day_init]\n",
    "    nrg_ = nrg_[nrg_.DateTime < day_end]\n",
    "    \n",
    "    if i == 1:\n",
    "        nrg_year = nrg_\n",
    "    else:\n",
    "        nrg_year = pd.concat([nrg_year, nrg_], axis=0)\n",
    "        \n",
    "    print '\\r',\"%\",str((i)*100./168),\n",
    "    "
   ]
  },
  {
   "cell_type": "code",
   "execution_count": 8,
   "metadata": {
    "collapsed": false
   },
   "outputs": [
    {
     "name": "stdout",
     "output_type": "stream",
     "text": [
      "<class 'pandas.core.frame.DataFrame'>\n",
      "Int64Index: 60410060 entries, 0 to 932473\n",
      "Data columns (total 6 columns):\n",
      "LCLid                      object\n",
      "stdorToU                   object\n",
      "DateTime                   datetime64[ns]\n",
      "KWH/hh (per half hour)     object\n",
      "Acorn                      object\n",
      "Acorn_grouped              object\n",
      "dtypes: datetime64[ns](1), object(5)\n",
      "memory usage: 3.2+ GB\n"
     ]
    }
   ],
   "source": [
    "nrg_year.info()"
   ]
  },
  {
   "cell_type": "code",
   "execution_count": 15,
   "metadata": {
    "collapsed": false,
    "scrolled": true
   },
   "outputs": [
    {
     "name": "stdout",
     "output_type": "stream",
     "text": [
      "<class 'pandas.core.frame.DataFrame'>\n",
      "Int64Index: 31817220 entries, 2351 to 932473\n",
      "Data columns (total 6 columns):\n",
      "LCLid                      object\n",
      "stdorToU                   object\n",
      "DateTime                   datetime64[ns]\n",
      "KWH/hh (per half hour)     object\n",
      "Acorn                      object\n",
      "Acorn_grouped              object\n",
      "dtypes: datetime64[ns](1), object(5)\n",
      "memory usage: 1.7+ GB\n"
     ]
    }
   ],
   "source": [
    "nrg_year.info()"
   ]
  },
  {
   "cell_type": "code",
   "execution_count": 9,
   "metadata": {
    "collapsed": false
   },
   "outputs": [
    {
     "data": {
      "text/html": [
       "<div>\n",
       "<table border=\"1\" class=\"dataframe\">\n",
       "  <thead>\n",
       "    <tr style=\"text-align: right;\">\n",
       "      <th></th>\n",
       "      <th>LCLid</th>\n",
       "      <th>stdorToU</th>\n",
       "      <th>DateTime</th>\n",
       "      <th>KWH/hh (per half hour)</th>\n",
       "      <th>Acorn</th>\n",
       "      <th>Acorn_grouped</th>\n",
       "    </tr>\n",
       "  </thead>\n",
       "  <tbody>\n",
       "    <tr>\n",
       "      <th>0</th>\n",
       "      <td>MAC000002</td>\n",
       "      <td>Std</td>\n",
       "      <td>2012-10-12 00:30:00</td>\n",
       "      <td>0</td>\n",
       "      <td>ACORN-A</td>\n",
       "      <td>Affluent</td>\n",
       "    </tr>\n",
       "    <tr>\n",
       "      <th>1</th>\n",
       "      <td>MAC000002</td>\n",
       "      <td>Std</td>\n",
       "      <td>2012-10-12 01:00:00</td>\n",
       "      <td>0</td>\n",
       "      <td>ACORN-A</td>\n",
       "      <td>Affluent</td>\n",
       "    </tr>\n",
       "    <tr>\n",
       "      <th>2</th>\n",
       "      <td>MAC000002</td>\n",
       "      <td>Std</td>\n",
       "      <td>2012-10-12 01:30:00</td>\n",
       "      <td>0</td>\n",
       "      <td>ACORN-A</td>\n",
       "      <td>Affluent</td>\n",
       "    </tr>\n",
       "    <tr>\n",
       "      <th>3</th>\n",
       "      <td>MAC000002</td>\n",
       "      <td>Std</td>\n",
       "      <td>2012-10-12 02:00:00</td>\n",
       "      <td>0</td>\n",
       "      <td>ACORN-A</td>\n",
       "      <td>Affluent</td>\n",
       "    </tr>\n",
       "    <tr>\n",
       "      <th>4</th>\n",
       "      <td>MAC000002</td>\n",
       "      <td>Std</td>\n",
       "      <td>2012-10-12 02:30:00</td>\n",
       "      <td>0</td>\n",
       "      <td>ACORN-A</td>\n",
       "      <td>Affluent</td>\n",
       "    </tr>\n",
       "  </tbody>\n",
       "</table>\n",
       "</div>"
      ],
      "text/plain": [
       "       LCLid stdorToU            DateTime KWH/hh (per half hour)     Acorn  \\\n",
       "0  MAC000002      Std 2012-10-12 00:30:00                      0   ACORN-A   \n",
       "1  MAC000002      Std 2012-10-12 01:00:00                      0   ACORN-A   \n",
       "2  MAC000002      Std 2012-10-12 01:30:00                      0   ACORN-A   \n",
       "3  MAC000002      Std 2012-10-12 02:00:00                      0   ACORN-A   \n",
       "4  MAC000002      Std 2012-10-12 02:30:00                      0   ACORN-A   \n",
       "\n",
       "  Acorn_grouped  \n",
       "0      Affluent  \n",
       "1      Affluent  \n",
       "2      Affluent  \n",
       "3      Affluent  \n",
       "4      Affluent  "
      ]
     },
     "execution_count": 9,
     "metadata": {},
     "output_type": "execute_result"
    }
   ],
   "source": [
    "nrg_year.head()"
   ]
  },
  {
   "cell_type": "code",
   "execution_count": 10,
   "metadata": {
    "collapsed": false
   },
   "outputs": [
    {
     "data": {
      "text/html": [
       "<div>\n",
       "<table border=\"1\" class=\"dataframe\">\n",
       "  <thead>\n",
       "    <tr style=\"text-align: right;\">\n",
       "      <th></th>\n",
       "      <th>LCLid</th>\n",
       "      <th>stdorToU</th>\n",
       "      <th>DateTime</th>\n",
       "      <th>KWH/hh (per half hour)</th>\n",
       "      <th>Acorn</th>\n",
       "      <th>Acorn_grouped</th>\n",
       "    </tr>\n",
       "  </thead>\n",
       "  <tbody>\n",
       "    <tr>\n",
       "      <th>932469</th>\n",
       "      <td>MAC005565</td>\n",
       "      <td>ToU</td>\n",
       "      <td>2012-06-21 05:30:00</td>\n",
       "      <td>1.022</td>\n",
       "      <td>ACORN-C</td>\n",
       "      <td>Affluent</td>\n",
       "    </tr>\n",
       "    <tr>\n",
       "      <th>932470</th>\n",
       "      <td>MAC005565</td>\n",
       "      <td>ToU</td>\n",
       "      <td>2012-06-21 06:00:00</td>\n",
       "      <td>0.188</td>\n",
       "      <td>ACORN-C</td>\n",
       "      <td>Affluent</td>\n",
       "    </tr>\n",
       "    <tr>\n",
       "      <th>932471</th>\n",
       "      <td>MAC005565</td>\n",
       "      <td>ToU</td>\n",
       "      <td>2012-06-21 06:30:00</td>\n",
       "      <td>0.073</td>\n",
       "      <td>ACORN-C</td>\n",
       "      <td>Affluent</td>\n",
       "    </tr>\n",
       "    <tr>\n",
       "      <th>932472</th>\n",
       "      <td>MAC005565</td>\n",
       "      <td>ToU</td>\n",
       "      <td>2012-06-21 07:00:00</td>\n",
       "      <td>0.025</td>\n",
       "      <td>ACORN-C</td>\n",
       "      <td>Affluent</td>\n",
       "    </tr>\n",
       "    <tr>\n",
       "      <th>932473</th>\n",
       "      <td>MAC005565</td>\n",
       "      <td>ToU</td>\n",
       "      <td>2012-12-19 12:32:41</td>\n",
       "      <td>Null</td>\n",
       "      <td>ACORN-C</td>\n",
       "      <td>Affluent</td>\n",
       "    </tr>\n",
       "  </tbody>\n",
       "</table>\n",
       "</div>"
      ],
      "text/plain": [
       "            LCLid stdorToU            DateTime KWH/hh (per half hour)   \\\n",
       "932469  MAC005565      ToU 2012-06-21 05:30:00                  1.022    \n",
       "932470  MAC005565      ToU 2012-06-21 06:00:00                  0.188    \n",
       "932471  MAC005565      ToU 2012-06-21 06:30:00                  0.073    \n",
       "932472  MAC005565      ToU 2012-06-21 07:00:00                  0.025    \n",
       "932473  MAC005565      ToU 2012-12-19 12:32:41                    Null   \n",
       "\n",
       "          Acorn Acorn_grouped  \n",
       "932469  ACORN-C      Affluent  \n",
       "932470  ACORN-C      Affluent  \n",
       "932471  ACORN-C      Affluent  \n",
       "932472  ACORN-C      Affluent  \n",
       "932473  ACORN-C      Affluent  "
      ]
     },
     "execution_count": 10,
     "metadata": {},
     "output_type": "execute_result"
    }
   ],
   "source": [
    "nrg_year.tail()"
   ]
  },
  {
   "cell_type": "code",
   "execution_count": 9,
   "metadata": {
    "collapsed": false,
    "scrolled": true
   },
   "outputs": [
    {
     "ename": "NameError",
     "evalue": "name 'mindate' is not defined",
     "output_type": "error",
     "traceback": [
      "\u001b[1;31m---------------------------------------------------------------------------\u001b[0m",
      "\u001b[1;31mNameError\u001b[0m                                 Traceback (most recent call last)",
      "\u001b[1;32m<ipython-input-9-575ea81c1479>\u001b[0m in \u001b[0;36m<module>\u001b[1;34m()\u001b[0m\n\u001b[1;32m----> 1\u001b[1;33m \u001b[1;32mprint\u001b[0m \u001b[0mmindate\u001b[0m\u001b[1;33m,\u001b[0m \u001b[0mmaxdate\u001b[0m\u001b[1;33m\u001b[0m\u001b[0m\n\u001b[0m",
      "\u001b[1;31mNameError\u001b[0m: name 'mindate' is not defined"
     ]
    }
   ],
   "source": [
    "# print mindate, maxdate"
   ]
  },
  {
   "cell_type": "markdown",
   "metadata": {},
   "source": [
    "\\>> print mindate, maxdate\n",
    "\n",
    "\\>> 2011-11-23 09:00:00 2014-02-28 00:00:00\n"
   ]
  },
  {
   "cell_type": "code",
   "execution_count": 28,
   "metadata": {
    "collapsed": false,
    "scrolled": false
   },
   "outputs": [
    {
     "name": "stdout",
     "output_type": "stream",
     "text": [
      "<class 'pandas.core.frame.DataFrame'>\n",
      "Int64Index: 31817220 entries, 2351 to 932473\n",
      "Data columns (total 6 columns):\n",
      "LCLid                      object\n",
      "stdorToU                   object\n",
      "DateTime                   datetime64[ns]\n",
      "KWH/hh (per half hour)     object\n",
      "Acorn                      object\n",
      "Acorn_grouped              object\n",
      "dtypes: datetime64[ns](1), object(5)\n",
      "memory usage: 1.7+ GB\n"
     ]
    }
   ],
   "source": [
    "nrg_year.info()"
   ]
  },
  {
   "cell_type": "code",
   "execution_count": 11,
   "metadata": {
    "collapsed": false
   },
   "outputs": [],
   "source": [
    "nrg_year['KWH/hh (per half hour) '] = pd.to_numeric(nrg_year['KWH/hh (per half hour) '], errors = 'coerce')"
   ]
  },
  {
   "cell_type": "code",
   "execution_count": 12,
   "metadata": {
    "collapsed": false
   },
   "outputs": [],
   "source": [
    "nan_loc = nrg_year['KWH/hh (per half hour) '].isnull()"
   ]
  },
  {
   "cell_type": "code",
   "execution_count": 13,
   "metadata": {
    "collapsed": false
   },
   "outputs": [
    {
     "data": {
      "text/html": [
       "<div>\n",
       "<table border=\"1\" class=\"dataframe\">\n",
       "  <thead>\n",
       "    <tr style=\"text-align: right;\">\n",
       "      <th></th>\n",
       "      <th>LCLid</th>\n",
       "      <th>stdorToU</th>\n",
       "      <th>DateTime</th>\n",
       "      <th>KWH/hh (per half hour)</th>\n",
       "      <th>Acorn</th>\n",
       "      <th>Acorn_grouped</th>\n",
       "    </tr>\n",
       "  </thead>\n",
       "  <tbody>\n",
       "    <tr>\n",
       "      <th>3240</th>\n",
       "      <td>MAC000002</td>\n",
       "      <td>Std</td>\n",
       "      <td>2012-12-19 12:37:27</td>\n",
       "      <td>NaN</td>\n",
       "      <td>ACORN-A</td>\n",
       "      <td>Affluent</td>\n",
       "    </tr>\n",
       "    <tr>\n",
       "      <th>38710</th>\n",
       "      <td>MAC000003</td>\n",
       "      <td>Std</td>\n",
       "      <td>2012-12-19 12:37:26</td>\n",
       "      <td>NaN</td>\n",
       "      <td>ACORN-P</td>\n",
       "      <td>Adversity</td>\n",
       "    </tr>\n",
       "    <tr>\n",
       "      <th>70386</th>\n",
       "      <td>MAC000004</td>\n",
       "      <td>Std</td>\n",
       "      <td>2012-12-19 12:32:40</td>\n",
       "      <td>NaN</td>\n",
       "      <td>ACORN-E</td>\n",
       "      <td>Affluent</td>\n",
       "    </tr>\n",
       "    <tr>\n",
       "      <th>106846</th>\n",
       "      <td>MAC000006</td>\n",
       "      <td>Std</td>\n",
       "      <td>2012-12-19 12:37:26</td>\n",
       "      <td>NaN</td>\n",
       "      <td>ACORN-Q</td>\n",
       "      <td>Adversity</td>\n",
       "    </tr>\n",
       "    <tr>\n",
       "      <th>131897</th>\n",
       "      <td>MAC000007</td>\n",
       "      <td>Std</td>\n",
       "      <td>2012-12-19 12:37:27</td>\n",
       "      <td>NaN</td>\n",
       "      <td>ACORN-H</td>\n",
       "      <td>Comfortable</td>\n",
       "    </tr>\n",
       "    <tr>\n",
       "      <th>163719</th>\n",
       "      <td>MAC000008</td>\n",
       "      <td>Std</td>\n",
       "      <td>2012-12-19 12:37:27</td>\n",
       "      <td>NaN</td>\n",
       "      <td>ACORN-H</td>\n",
       "      <td>Comfortable</td>\n",
       "    </tr>\n",
       "    <tr>\n",
       "      <th>183152</th>\n",
       "      <td>MAC000009</td>\n",
       "      <td>Std</td>\n",
       "      <td>2012-12-19 12:37:27</td>\n",
       "      <td>NaN</td>\n",
       "      <td>ACORN-L</td>\n",
       "      <td>Adversity</td>\n",
       "    </tr>\n",
       "    <tr>\n",
       "      <th>208192</th>\n",
       "      <td>MAC000010</td>\n",
       "      <td>Std</td>\n",
       "      <td>2012-12-19 12:37:27</td>\n",
       "      <td>NaN</td>\n",
       "      <td>ACORN-H</td>\n",
       "      <td>Comfortable</td>\n",
       "    </tr>\n",
       "    <tr>\n",
       "      <th>231899</th>\n",
       "      <td>MAC000011</td>\n",
       "      <td>Std</td>\n",
       "      <td>2012-12-19 12:37:28</td>\n",
       "      <td>NaN</td>\n",
       "      <td>ACORN-N</td>\n",
       "      <td>Adversity</td>\n",
       "    </tr>\n",
       "    <tr>\n",
       "      <th>256569</th>\n",
       "      <td>MAC000012</td>\n",
       "      <td>Std</td>\n",
       "      <td>2012-12-19 12:37:28</td>\n",
       "      <td>NaN</td>\n",
       "      <td>ACORN-E</td>\n",
       "      <td>Affluent</td>\n",
       "    </tr>\n",
       "    <tr>\n",
       "      <th>286182</th>\n",
       "      <td>MAC000013</td>\n",
       "      <td>Std</td>\n",
       "      <td>2012-12-19 12:37:27</td>\n",
       "      <td>NaN</td>\n",
       "      <td>ACORN-K</td>\n",
       "      <td>Adversity</td>\n",
       "    </tr>\n",
       "    <tr>\n",
       "      <th>325260</th>\n",
       "      <td>MAC000016</td>\n",
       "      <td>Std</td>\n",
       "      <td>2012-12-18 15:13:40</td>\n",
       "      <td>NaN</td>\n",
       "      <td>ACORN-K</td>\n",
       "      <td>Adversity</td>\n",
       "    </tr>\n",
       "    <tr>\n",
       "      <th>344744</th>\n",
       "      <td>MAC000018</td>\n",
       "      <td>Std</td>\n",
       "      <td>2012-12-18 15:13:41</td>\n",
       "      <td>NaN</td>\n",
       "      <td>ACORN-E</td>\n",
       "      <td>Affluent</td>\n",
       "    </tr>\n",
       "    <tr>\n",
       "      <th>383815</th>\n",
       "      <td>MAC000019</td>\n",
       "      <td>Std</td>\n",
       "      <td>2012-12-18 15:13:41</td>\n",
       "      <td>NaN</td>\n",
       "      <td>ACORN-K</td>\n",
       "      <td>Adversity</td>\n",
       "    </tr>\n",
       "    <tr>\n",
       "      <th>422896</th>\n",
       "      <td>MAC000020</td>\n",
       "      <td>Std</td>\n",
       "      <td>2012-12-18 15:13:41</td>\n",
       "      <td>NaN</td>\n",
       "      <td>ACORN-J</td>\n",
       "      <td>Comfortable</td>\n",
       "    </tr>\n",
       "    <tr>\n",
       "      <th>461974</th>\n",
       "      <td>MAC000021</td>\n",
       "      <td>Std</td>\n",
       "      <td>2012-12-18 15:13:41</td>\n",
       "      <td>NaN</td>\n",
       "      <td>ACORN-E</td>\n",
       "      <td>Affluent</td>\n",
       "    </tr>\n",
       "    <tr>\n",
       "      <th>501052</th>\n",
       "      <td>MAC000022</td>\n",
       "      <td>Std</td>\n",
       "      <td>2012-12-18 15:13:41</td>\n",
       "      <td>NaN</td>\n",
       "      <td>ACORN-Q</td>\n",
       "      <td>Adversity</td>\n",
       "    </tr>\n",
       "    <tr>\n",
       "      <th>540115</th>\n",
       "      <td>MAC000023</td>\n",
       "      <td>Std</td>\n",
       "      <td>2012-12-18 15:13:41</td>\n",
       "      <td>NaN</td>\n",
       "      <td>ACORN-U</td>\n",
       "      <td>ACORN-U</td>\n",
       "    </tr>\n",
       "    <tr>\n",
       "      <th>579142</th>\n",
       "      <td>MAC000024</td>\n",
       "      <td>Std</td>\n",
       "      <td>2012-12-18 15:13:41</td>\n",
       "      <td>NaN</td>\n",
       "      <td>ACORN-E</td>\n",
       "      <td>Affluent</td>\n",
       "    </tr>\n",
       "    <tr>\n",
       "      <th>618213</th>\n",
       "      <td>MAC000025</td>\n",
       "      <td>Std</td>\n",
       "      <td>2012-12-18 15:13:41</td>\n",
       "      <td>NaN</td>\n",
       "      <td>ACORN-P</td>\n",
       "      <td>Adversity</td>\n",
       "    </tr>\n",
       "  </tbody>\n",
       "</table>\n",
       "</div>"
      ],
      "text/plain": [
       "            LCLid stdorToU            DateTime  KWH/hh (per half hour)   \\\n",
       "3240    MAC000002      Std 2012-12-19 12:37:27                      NaN   \n",
       "38710   MAC000003      Std 2012-12-19 12:37:26                      NaN   \n",
       "70386   MAC000004      Std 2012-12-19 12:32:40                      NaN   \n",
       "106846  MAC000006      Std 2012-12-19 12:37:26                      NaN   \n",
       "131897  MAC000007      Std 2012-12-19 12:37:27                      NaN   \n",
       "163719  MAC000008      Std 2012-12-19 12:37:27                      NaN   \n",
       "183152  MAC000009      Std 2012-12-19 12:37:27                      NaN   \n",
       "208192  MAC000010      Std 2012-12-19 12:37:27                      NaN   \n",
       "231899  MAC000011      Std 2012-12-19 12:37:28                      NaN   \n",
       "256569  MAC000012      Std 2012-12-19 12:37:28                      NaN   \n",
       "286182  MAC000013      Std 2012-12-19 12:37:27                      NaN   \n",
       "325260  MAC000016      Std 2012-12-18 15:13:40                      NaN   \n",
       "344744  MAC000018      Std 2012-12-18 15:13:41                      NaN   \n",
       "383815  MAC000019      Std 2012-12-18 15:13:41                      NaN   \n",
       "422896  MAC000020      Std 2012-12-18 15:13:41                      NaN   \n",
       "461974  MAC000021      Std 2012-12-18 15:13:41                      NaN   \n",
       "501052  MAC000022      Std 2012-12-18 15:13:41                      NaN   \n",
       "540115  MAC000023      Std 2012-12-18 15:13:41                      NaN   \n",
       "579142  MAC000024      Std 2012-12-18 15:13:41                      NaN   \n",
       "618213  MAC000025      Std 2012-12-18 15:13:41                      NaN   \n",
       "\n",
       "          Acorn Acorn_grouped  \n",
       "3240    ACORN-A      Affluent  \n",
       "38710   ACORN-P     Adversity  \n",
       "70386   ACORN-E      Affluent  \n",
       "106846  ACORN-Q     Adversity  \n",
       "131897  ACORN-H   Comfortable  \n",
       "163719  ACORN-H   Comfortable  \n",
       "183152  ACORN-L     Adversity  \n",
       "208192  ACORN-H   Comfortable  \n",
       "231899  ACORN-N     Adversity  \n",
       "256569  ACORN-E      Affluent  \n",
       "286182  ACORN-K     Adversity  \n",
       "325260  ACORN-K     Adversity  \n",
       "344744  ACORN-E      Affluent  \n",
       "383815  ACORN-K     Adversity  \n",
       "422896  ACORN-J   Comfortable  \n",
       "461974  ACORN-E      Affluent  \n",
       "501052  ACORN-Q     Adversity  \n",
       "540115  ACORN-U       ACORN-U  \n",
       "579142  ACORN-E      Affluent  \n",
       "618213  ACORN-P     Adversity  "
      ]
     },
     "execution_count": 13,
     "metadata": {},
     "output_type": "execute_result"
    }
   ],
   "source": [
    "nrg_year[nan_loc].head(20)"
   ]
  },
  {
   "cell_type": "code",
   "execution_count": 14,
   "metadata": {
    "collapsed": false
   },
   "outputs": [
    {
     "name": "stdout",
     "output_type": "stream",
     "text": [
      "<class 'pandas.core.frame.DataFrame'>\n",
      "Int64Index: 60404512 entries, 0 to 932472\n",
      "Data columns (total 6 columns):\n",
      "LCLid                      object\n",
      "stdorToU                   object\n",
      "DateTime                   datetime64[ns]\n",
      "KWH/hh (per half hour)     float64\n",
      "Acorn                      object\n",
      "Acorn_grouped              object\n",
      "dtypes: datetime64[ns](1), float64(1), object(4)\n",
      "memory usage: 3.2+ GB\n"
     ]
    }
   ],
   "source": [
    "nrg_year.dropna(inplace = True)\n",
    "nrg_year.info()"
   ]
  },
  {
   "cell_type": "code",
   "execution_count": 15,
   "metadata": {
    "collapsed": false
   },
   "outputs": [
    {
     "data": {
      "text/html": [
       "<div>\n",
       "<table border=\"1\" class=\"dataframe\">\n",
       "  <thead>\n",
       "    <tr style=\"text-align: right;\">\n",
       "      <th></th>\n",
       "      <th></th>\n",
       "      <th></th>\n",
       "      <th></th>\n",
       "      <th>KWH/hh (per half hour)</th>\n",
       "    </tr>\n",
       "    <tr>\n",
       "      <th>DateTime</th>\n",
       "      <th>Acorn</th>\n",
       "      <th>Acorn_grouped</th>\n",
       "      <th>stdorToU</th>\n",
       "      <th></th>\n",
       "    </tr>\n",
       "  </thead>\n",
       "  <tbody>\n",
       "    <tr>\n",
       "      <th rowspan=\"5\" valign=\"top\">2012-01-01</th>\n",
       "      <th rowspan=\"2\" valign=\"top\">ACORN-A</th>\n",
       "      <th rowspan=\"2\" valign=\"top\">Affluent</th>\n",
       "      <th>Std</th>\n",
       "      <td>0.495875</td>\n",
       "    </tr>\n",
       "    <tr>\n",
       "      <th>ToU</th>\n",
       "      <td>0.279000</td>\n",
       "    </tr>\n",
       "    <tr>\n",
       "      <th>ACORN-B</th>\n",
       "      <th>Affluent</th>\n",
       "      <th>Std</th>\n",
       "      <td>0.156000</td>\n",
       "    </tr>\n",
       "    <tr>\n",
       "      <th rowspan=\"2\" valign=\"top\">ACORN-C</th>\n",
       "      <th rowspan=\"2\" valign=\"top\">Affluent</th>\n",
       "      <th>Std</th>\n",
       "      <td>0.264400</td>\n",
       "    </tr>\n",
       "    <tr>\n",
       "      <th>ToU</th>\n",
       "      <td>0.349000</td>\n",
       "    </tr>\n",
       "  </tbody>\n",
       "</table>\n",
       "</div>"
      ],
      "text/plain": [
       "                                           KWH/hh (per half hour) \n",
       "DateTime   Acorn   Acorn_grouped stdorToU                         \n",
       "2012-01-01 ACORN-A Affluent      Std                      0.495875\n",
       "                                 ToU                      0.279000\n",
       "           ACORN-B Affluent      Std                      0.156000\n",
       "           ACORN-C Affluent      Std                      0.264400\n",
       "                                 ToU                      0.349000"
      ]
     },
     "execution_count": 15,
     "metadata": {},
     "output_type": "execute_result"
    }
   ],
   "source": [
    "nrg_year.groupby(['DateTime', 'Acorn', 'Acorn_grouped', 'stdorToU']).aggregate(np.mean).head()"
   ]
  },
  {
   "cell_type": "code",
   "execution_count": 16,
   "metadata": {
    "collapsed": false
   },
   "outputs": [],
   "source": [
    "grouped_nrg = pd.concat([nrg_year.groupby(['DateTime', 'Acorn', 'Acorn_grouped', 'stdorToU']).aggregate(np.mean),\n",
    "        nrg_year.groupby(['DateTime', 'Acorn', 'Acorn_grouped', 'stdorToU']).count().iloc[:,0]], axis = 1)"
   ]
  },
  {
   "cell_type": "code",
   "execution_count": 17,
   "metadata": {
    "collapsed": false
   },
   "outputs": [
    {
     "data": {
      "text/html": [
       "<div>\n",
       "<table border=\"1\" class=\"dataframe\">\n",
       "  <thead>\n",
       "    <tr style=\"text-align: right;\">\n",
       "      <th></th>\n",
       "      <th></th>\n",
       "      <th></th>\n",
       "      <th></th>\n",
       "      <th>KWH/hh (per half hour)</th>\n",
       "      <th>LCLid</th>\n",
       "    </tr>\n",
       "    <tr>\n",
       "      <th>DateTime</th>\n",
       "      <th>Acorn</th>\n",
       "      <th>Acorn_grouped</th>\n",
       "      <th>stdorToU</th>\n",
       "      <th></th>\n",
       "      <th></th>\n",
       "    </tr>\n",
       "  </thead>\n",
       "  <tbody>\n",
       "    <tr>\n",
       "      <th rowspan=\"30\" valign=\"top\">2012-01-01</th>\n",
       "      <th rowspan=\"2\" valign=\"top\">ACORN-A</th>\n",
       "      <th rowspan=\"2\" valign=\"top\">Affluent</th>\n",
       "      <th>Std</th>\n",
       "      <td>0.495875</td>\n",
       "      <td>8</td>\n",
       "    </tr>\n",
       "    <tr>\n",
       "      <th>ToU</th>\n",
       "      <td>0.279000</td>\n",
       "      <td>1</td>\n",
       "    </tr>\n",
       "    <tr>\n",
       "      <th>ACORN-B</th>\n",
       "      <th>Affluent</th>\n",
       "      <th>Std</th>\n",
       "      <td>0.156000</td>\n",
       "      <td>1</td>\n",
       "    </tr>\n",
       "    <tr>\n",
       "      <th rowspan=\"2\" valign=\"top\">ACORN-C</th>\n",
       "      <th rowspan=\"2\" valign=\"top\">Affluent</th>\n",
       "      <th>Std</th>\n",
       "      <td>0.264400</td>\n",
       "      <td>5</td>\n",
       "    </tr>\n",
       "    <tr>\n",
       "      <th>ToU</th>\n",
       "      <td>0.349000</td>\n",
       "      <td>2</td>\n",
       "    </tr>\n",
       "    <tr>\n",
       "      <th rowspan=\"2\" valign=\"top\">ACORN-D</th>\n",
       "      <th rowspan=\"2\" valign=\"top\">Affluent</th>\n",
       "      <th>Std</th>\n",
       "      <td>0.303333</td>\n",
       "      <td>12</td>\n",
       "    </tr>\n",
       "    <tr>\n",
       "      <th>ToU</th>\n",
       "      <td>0.201600</td>\n",
       "      <td>5</td>\n",
       "    </tr>\n",
       "    <tr>\n",
       "      <th rowspan=\"2\" valign=\"top\">ACORN-E</th>\n",
       "      <th rowspan=\"2\" valign=\"top\">Affluent</th>\n",
       "      <th>Std</th>\n",
       "      <td>0.256932</td>\n",
       "      <td>117</td>\n",
       "    </tr>\n",
       "    <tr>\n",
       "      <th>ToU</th>\n",
       "      <td>0.227313</td>\n",
       "      <td>16</td>\n",
       "    </tr>\n",
       "    <tr>\n",
       "      <th rowspan=\"2\" valign=\"top\">ACORN-F</th>\n",
       "      <th rowspan=\"2\" valign=\"top\">Comfortable</th>\n",
       "      <th>Std</th>\n",
       "      <td>0.184787</td>\n",
       "      <td>61</td>\n",
       "    </tr>\n",
       "    <tr>\n",
       "      <th>ToU</th>\n",
       "      <td>0.256900</td>\n",
       "      <td>10</td>\n",
       "    </tr>\n",
       "    <tr>\n",
       "      <th rowspan=\"2\" valign=\"top\">ACORN-G</th>\n",
       "      <th rowspan=\"2\" valign=\"top\">Comfortable</th>\n",
       "      <th>Std</th>\n",
       "      <td>0.187286</td>\n",
       "      <td>14</td>\n",
       "    </tr>\n",
       "    <tr>\n",
       "      <th>ToU</th>\n",
       "      <td>0.077000</td>\n",
       "      <td>1</td>\n",
       "    </tr>\n",
       "    <tr>\n",
       "      <th rowspan=\"2\" valign=\"top\">ACORN-H</th>\n",
       "      <th rowspan=\"2\" valign=\"top\">Comfortable</th>\n",
       "      <th>Std</th>\n",
       "      <td>0.195778</td>\n",
       "      <td>18</td>\n",
       "    </tr>\n",
       "    <tr>\n",
       "      <th>ToU</th>\n",
       "      <td>0.236250</td>\n",
       "      <td>4</td>\n",
       "    </tr>\n",
       "    <tr>\n",
       "      <th rowspan=\"2\" valign=\"top\">ACORN-J</th>\n",
       "      <th rowspan=\"2\" valign=\"top\">Comfortable</th>\n",
       "      <th>Std</th>\n",
       "      <td>0.107500</td>\n",
       "      <td>4</td>\n",
       "    </tr>\n",
       "    <tr>\n",
       "      <th>ToU</th>\n",
       "      <td>0.117000</td>\n",
       "      <td>2</td>\n",
       "    </tr>\n",
       "    <tr>\n",
       "      <th rowspan=\"2\" valign=\"top\">ACORN-K</th>\n",
       "      <th rowspan=\"2\" valign=\"top\">Adversity</th>\n",
       "      <th>Std</th>\n",
       "      <td>0.229733</td>\n",
       "      <td>15</td>\n",
       "    </tr>\n",
       "    <tr>\n",
       "      <th>ToU</th>\n",
       "      <td>0.112000</td>\n",
       "      <td>1</td>\n",
       "    </tr>\n",
       "    <tr>\n",
       "      <th rowspan=\"2\" valign=\"top\">ACORN-L</th>\n",
       "      <th rowspan=\"2\" valign=\"top\">Adversity</th>\n",
       "      <th>Std</th>\n",
       "      <td>0.333444</td>\n",
       "      <td>18</td>\n",
       "    </tr>\n",
       "    <tr>\n",
       "      <th>ToU</th>\n",
       "      <td>0.219800</td>\n",
       "      <td>5</td>\n",
       "    </tr>\n",
       "    <tr>\n",
       "      <th>ACORN-M</th>\n",
       "      <th>Adversity</th>\n",
       "      <th>Std</th>\n",
       "      <td>0.379000</td>\n",
       "      <td>5</td>\n",
       "    </tr>\n",
       "    <tr>\n",
       "      <th rowspan=\"2\" valign=\"top\">ACORN-N</th>\n",
       "      <th rowspan=\"2\" valign=\"top\">Adversity</th>\n",
       "      <th>Std</th>\n",
       "      <td>0.177500</td>\n",
       "      <td>2</td>\n",
       "    </tr>\n",
       "    <tr>\n",
       "      <th>ToU</th>\n",
       "      <td>0.553333</td>\n",
       "      <td>3</td>\n",
       "    </tr>\n",
       "    <tr>\n",
       "      <th rowspan=\"2\" valign=\"top\">ACORN-O</th>\n",
       "      <th rowspan=\"2\" valign=\"top\">Adversity</th>\n",
       "      <th>Std</th>\n",
       "      <td>0.063000</td>\n",
       "      <td>3</td>\n",
       "    </tr>\n",
       "    <tr>\n",
       "      <th>ToU</th>\n",
       "      <td>0.068000</td>\n",
       "      <td>1</td>\n",
       "    </tr>\n",
       "    <tr>\n",
       "      <th rowspan=\"2\" valign=\"top\">ACORN-P</th>\n",
       "      <th rowspan=\"2\" valign=\"top\">Adversity</th>\n",
       "      <th>Std</th>\n",
       "      <td>0.085000</td>\n",
       "      <td>4</td>\n",
       "    </tr>\n",
       "    <tr>\n",
       "      <th>ToU</th>\n",
       "      <td>0.009000</td>\n",
       "      <td>1</td>\n",
       "    </tr>\n",
       "    <tr>\n",
       "      <th rowspan=\"2\" valign=\"top\">ACORN-Q</th>\n",
       "      <th rowspan=\"2\" valign=\"top\">Adversity</th>\n",
       "      <th>Std</th>\n",
       "      <td>0.179889</td>\n",
       "      <td>63</td>\n",
       "    </tr>\n",
       "    <tr>\n",
       "      <th>ToU</th>\n",
       "      <td>0.285250</td>\n",
       "      <td>4</td>\n",
       "    </tr>\n",
       "  </tbody>\n",
       "</table>\n",
       "</div>"
      ],
      "text/plain": [
       "                                           KWH/hh (per half hour)   LCLid\n",
       "DateTime   Acorn   Acorn_grouped stdorToU                                \n",
       "2012-01-01 ACORN-A Affluent      Std                      0.495875      8\n",
       "                                 ToU                      0.279000      1\n",
       "           ACORN-B Affluent      Std                      0.156000      1\n",
       "           ACORN-C Affluent      Std                      0.264400      5\n",
       "                                 ToU                      0.349000      2\n",
       "           ACORN-D Affluent      Std                      0.303333     12\n",
       "                                 ToU                      0.201600      5\n",
       "           ACORN-E Affluent      Std                      0.256932    117\n",
       "                                 ToU                      0.227313     16\n",
       "           ACORN-F Comfortable   Std                      0.184787     61\n",
       "                                 ToU                      0.256900     10\n",
       "           ACORN-G Comfortable   Std                      0.187286     14\n",
       "                                 ToU                      0.077000      1\n",
       "           ACORN-H Comfortable   Std                      0.195778     18\n",
       "                                 ToU                      0.236250      4\n",
       "           ACORN-J Comfortable   Std                      0.107500      4\n",
       "                                 ToU                      0.117000      2\n",
       "           ACORN-K Adversity     Std                      0.229733     15\n",
       "                                 ToU                      0.112000      1\n",
       "           ACORN-L Adversity     Std                      0.333444     18\n",
       "                                 ToU                      0.219800      5\n",
       "           ACORN-M Adversity     Std                      0.379000      5\n",
       "           ACORN-N Adversity     Std                      0.177500      2\n",
       "                                 ToU                      0.553333      3\n",
       "           ACORN-O Adversity     Std                      0.063000      3\n",
       "                                 ToU                      0.068000      1\n",
       "           ACORN-P Adversity     Std                      0.085000      4\n",
       "                                 ToU                      0.009000      1\n",
       "           ACORN-Q Adversity     Std                      0.179889     63\n",
       "                                 ToU                      0.285250      4"
      ]
     },
     "execution_count": 17,
     "metadata": {},
     "output_type": "execute_result"
    }
   ],
   "source": [
    "grouped_nrg.head(30)"
   ]
  },
  {
   "cell_type": "code",
   "execution_count": 19,
   "metadata": {
    "collapsed": false
   },
   "outputs": [
    {
     "name": "stdout",
     "output_type": "stream",
     "text": [
      "<class 'pandas.core.frame.DataFrame'>\n",
      "MultiIndex: 631093 entries, (2012-01-01 00:00:00, ACORN-A, Affluent, Std) to (2012-12-31 23:30:00, ACORN-U, ACORN-U, ToU)\n",
      "Data columns (total 2 columns):\n",
      "KWH/hh (per half hour)     631093 non-null float64\n",
      "LCLid                      631093 non-null int64\n",
      "dtypes: float64(1), int64(1)\n",
      "memory usage: 14.4+ MB\n"
     ]
    }
   ],
   "source": [
    "grouped_nrg.info()"
   ]
  },
  {
   "cell_type": "code",
   "execution_count": 20,
   "metadata": {
    "collapsed": false
   },
   "outputs": [
    {
     "data": {
      "text/plain": [
       "(Timestamp('2012-12-31 23:30:00'), 'ACORN-U', 'ACORN-U', 'ToU')"
      ]
     },
     "execution_count": 20,
     "metadata": {},
     "output_type": "execute_result"
    }
   ],
   "source": [
    "max(grouped_nrg.index)"
   ]
  },
  {
   "cell_type": "code",
   "execution_count": 21,
   "metadata": {
    "collapsed": false
   },
   "outputs": [
    {
     "data": {
      "text/plain": [
       "(Timestamp('2012-01-01 00:00:00'), 'ACORN-A', 'Affluent', 'Std')"
      ]
     },
     "execution_count": 21,
     "metadata": {},
     "output_type": "execute_result"
    }
   ],
   "source": [
    "min(grouped_nrg.index)"
   ]
  },
  {
   "cell_type": "code",
   "execution_count": 26,
   "metadata": {
    "collapsed": false
   },
   "outputs": [
    {
     "data": {
      "text/plain": [
       "17568"
      ]
     },
     "execution_count": 26,
     "metadata": {},
     "output_type": "execute_result"
    }
   ],
   "source": [
    "len(nrg_year.DateTime.unique())"
   ]
  },
  {
   "cell_type": "code",
   "execution_count": 27,
   "metadata": {
    "collapsed": true
   },
   "outputs": [],
   "source": [
    "output = '../Final_Data/grouped_2012.csv'\n",
    "#output = 'C:\\\\Users\\\\Hrafnkell\\\\Documents\\\\GitHub\\\\Taming-the-Peak\\\\Final_Data\\\\energy_summer_2013.csv'\n",
    "\n",
    "#output = \"E:\\Taming_The_Peak\\low-carbon-london-data-168-files\\Power-Networks-LCL-June2015(withAcornGps).csv_Pieces\\grouped_2013.csv\"\n",
    "#dirname = \"~\\Desktop\\CUSP\\Applied_Data_Science\\Project\\Power-Networks-LCL-June2015(withAcornGps).csv_Pieces\\Power-Networks-LCL-June2015(withAcornGps).csv_Pieces\"\n",
    "#filename = 'Power-Networks-LCL-June2015(withAcornGps)v2_168.csv'\n",
    "\n",
    "grouped_nrg.to_csv(output)"
   ]
  },
  {
   "cell_type": "code",
   "execution_count": null,
   "metadata": {
    "collapsed": true
   },
   "outputs": [],
   "source": []
  }
 ],
 "metadata": {
  "anaconda-cloud": {},
  "kernelspec": {
   "display_name": "PUI2016_Python2",
   "language": "python",
   "name": "pui2016_python2"
  },
  "language_info": {
   "codemirror_mode": {
    "name": "ipython",
    "version": 2
   },
   "file_extension": ".py",
   "mimetype": "text/x-python",
   "name": "python",
   "nbconvert_exporter": "python",
   "pygments_lexer": "ipython2",
   "version": "2.7.12"
  }
 },
 "nbformat": 4,
 "nbformat_minor": 0
}
