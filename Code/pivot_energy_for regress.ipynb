{
 "cells": [
  {
   "cell_type": "code",
   "execution_count": 1,
   "metadata": {
    "collapsed": true
   },
   "outputs": [],
   "source": [
    "import numpy as np\n",
    "import pandas as pd\n",
    "import datetime as DT"
   ]
  },
  {
   "cell_type": "code",
   "execution_count": 7,
   "metadata": {
    "collapsed": false
   },
   "outputs": [
    {
     "data": {
      "text/html": [
       "<div>\n",
       "<table border=\"1\" class=\"dataframe\">\n",
       "  <thead>\n",
       "    <tr style=\"text-align: right;\">\n",
       "      <th></th>\n",
       "      <th>DateTime</th>\n",
       "      <th>Acorn_grouped</th>\n",
       "      <th>Acorn</th>\n",
       "      <th>stdorToU</th>\n",
       "      <th>KWH/hh (per half hour)</th>\n",
       "      <th>LCLid</th>\n",
       "    </tr>\n",
       "  </thead>\n",
       "  <tbody>\n",
       "    <tr>\n",
       "      <th>0</th>\n",
       "      <td>2013-12-01 00:30:00</td>\n",
       "      <td>ACORN-</td>\n",
       "      <td>ACORN-</td>\n",
       "      <td>ToU</td>\n",
       "      <td>0.196000</td>\n",
       "      <td>1</td>\n",
       "    </tr>\n",
       "    <tr>\n",
       "      <th>1</th>\n",
       "      <td>2013-12-01 00:30:00</td>\n",
       "      <td>ACORN-U</td>\n",
       "      <td>ACORN-U</td>\n",
       "      <td>Std</td>\n",
       "      <td>0.208056</td>\n",
       "      <td>36</td>\n",
       "    </tr>\n",
       "    <tr>\n",
       "      <th>2</th>\n",
       "      <td>2013-12-01 00:30:00</td>\n",
       "      <td>ACORN-U</td>\n",
       "      <td>ACORN-U</td>\n",
       "      <td>ToU</td>\n",
       "      <td>0.165250</td>\n",
       "      <td>8</td>\n",
       "    </tr>\n",
       "    <tr>\n",
       "      <th>3</th>\n",
       "      <td>2013-12-01 00:30:00</td>\n",
       "      <td>Adversity</td>\n",
       "      <td>ACORN-K</td>\n",
       "      <td>Std</td>\n",
       "      <td>0.205727</td>\n",
       "      <td>132</td>\n",
       "    </tr>\n",
       "    <tr>\n",
       "      <th>4</th>\n",
       "      <td>2013-12-01 00:30:00</td>\n",
       "      <td>Adversity</td>\n",
       "      <td>ACORN-K</td>\n",
       "      <td>ToU</td>\n",
       "      <td>0.175150</td>\n",
       "      <td>20</td>\n",
       "    </tr>\n",
       "  </tbody>\n",
       "</table>\n",
       "</div>"
      ],
      "text/plain": [
       "             DateTime Acorn_grouped    Acorn stdorToU  \\\n",
       "0 2013-12-01 00:30:00        ACORN-   ACORN-      ToU   \n",
       "1 2013-12-01 00:30:00       ACORN-U  ACORN-U      Std   \n",
       "2 2013-12-01 00:30:00       ACORN-U  ACORN-U      ToU   \n",
       "3 2013-12-01 00:30:00     Adversity  ACORN-K      Std   \n",
       "4 2013-12-01 00:30:00     Adversity  ACORN-K      ToU   \n",
       "\n",
       "   KWH/hh (per half hour)   LCLid  \n",
       "0                 0.196000      1  \n",
       "1                 0.208056     36  \n",
       "2                 0.165250      8  \n",
       "3                 0.205727    132  \n",
       "4                 0.175150     20  "
      ]
     },
     "execution_count": 7,
     "metadata": {},
     "output_type": "execute_result"
    }
   ],
   "source": [
    "# get the rouped energy data\n",
    "\n",
    "df = pd.read_csv(\"C:\\\\Users\\\\Hrafnkell\\\\Documents\\\\GitHub\\\\Taming-the-Peak\\\\Final_Data\\\\grouped_nrg_winter1314.csv\",\n",
    "                               parse_dates=[0], infer_datetime_format=True)\n",
    "#df = pd.read_csv(\"~/Desktop/CUSP/Applied_Data_Science/Taming-the-Peak/Final_Data/grouped_nrg_winter1314.csv\",\n",
    "#                               parse_dates=[0], infer_datetime_format=True)\n",
    "\n",
    "df.head()"
   ]
  },
  {
   "cell_type": "code",
   "execution_count": 8,
   "metadata": {
    "collapsed": false
   },
   "outputs": [
    {
     "data": {
      "text/plain": [
       "4272"
      ]
     },
     "execution_count": 8,
     "metadata": {},
     "output_type": "execute_result"
    }
   ],
   "source": [
    "len(df.DateTime.unique())"
   ]
  },
  {
   "cell_type": "code",
   "execution_count": 9,
   "metadata": {
    "collapsed": false
   },
   "outputs": [
    {
     "data": {
      "text/html": [
       "<div>\n",
       "<table border=\"1\" class=\"dataframe\">\n",
       "  <thead>\n",
       "    <tr style=\"text-align: right;\">\n",
       "      <th></th>\n",
       "      <th>DateTime</th>\n",
       "      <th>Acorn_grouped</th>\n",
       "      <th>Acorn</th>\n",
       "      <th>stdorToU</th>\n",
       "      <th>nrg_cons</th>\n",
       "      <th>N</th>\n",
       "    </tr>\n",
       "  </thead>\n",
       "  <tbody>\n",
       "    <tr>\n",
       "      <th>0</th>\n",
       "      <td>2013-12-01 00:30:00</td>\n",
       "      <td>ACORN-</td>\n",
       "      <td>ACORN-</td>\n",
       "      <td>ToU</td>\n",
       "      <td>0.196000</td>\n",
       "      <td>1</td>\n",
       "    </tr>\n",
       "    <tr>\n",
       "      <th>1</th>\n",
       "      <td>2013-12-01 00:30:00</td>\n",
       "      <td>ACORN-U</td>\n",
       "      <td>ACORN-U</td>\n",
       "      <td>Std</td>\n",
       "      <td>0.208056</td>\n",
       "      <td>36</td>\n",
       "    </tr>\n",
       "    <tr>\n",
       "      <th>2</th>\n",
       "      <td>2013-12-01 00:30:00</td>\n",
       "      <td>ACORN-U</td>\n",
       "      <td>ACORN-U</td>\n",
       "      <td>ToU</td>\n",
       "      <td>0.165250</td>\n",
       "      <td>8</td>\n",
       "    </tr>\n",
       "    <tr>\n",
       "      <th>3</th>\n",
       "      <td>2013-12-01 00:30:00</td>\n",
       "      <td>Adversity</td>\n",
       "      <td>ACORN-K</td>\n",
       "      <td>Std</td>\n",
       "      <td>0.205727</td>\n",
       "      <td>132</td>\n",
       "    </tr>\n",
       "    <tr>\n",
       "      <th>4</th>\n",
       "      <td>2013-12-01 00:30:00</td>\n",
       "      <td>Adversity</td>\n",
       "      <td>ACORN-K</td>\n",
       "      <td>ToU</td>\n",
       "      <td>0.175150</td>\n",
       "      <td>20</td>\n",
       "    </tr>\n",
       "    <tr>\n",
       "      <th>5</th>\n",
       "      <td>2013-12-01 00:30:00</td>\n",
       "      <td>Adversity</td>\n",
       "      <td>ACORN-L</td>\n",
       "      <td>Std</td>\n",
       "      <td>0.179940</td>\n",
       "      <td>251</td>\n",
       "    </tr>\n",
       "    <tr>\n",
       "      <th>6</th>\n",
       "      <td>2013-12-01 00:30:00</td>\n",
       "      <td>Adversity</td>\n",
       "      <td>ACORN-L</td>\n",
       "      <td>ToU</td>\n",
       "      <td>0.160944</td>\n",
       "      <td>72</td>\n",
       "    </tr>\n",
       "    <tr>\n",
       "      <th>7</th>\n",
       "      <td>2013-12-01 00:30:00</td>\n",
       "      <td>Adversity</td>\n",
       "      <td>ACORN-M</td>\n",
       "      <td>Std</td>\n",
       "      <td>0.163674</td>\n",
       "      <td>89</td>\n",
       "    </tr>\n",
       "    <tr>\n",
       "      <th>8</th>\n",
       "      <td>2013-12-01 00:30:00</td>\n",
       "      <td>Adversity</td>\n",
       "      <td>ACORN-M</td>\n",
       "      <td>ToU</td>\n",
       "      <td>0.239250</td>\n",
       "      <td>16</td>\n",
       "    </tr>\n",
       "    <tr>\n",
       "      <th>9</th>\n",
       "      <td>2013-12-01 00:30:00</td>\n",
       "      <td>Adversity</td>\n",
       "      <td>ACORN-N</td>\n",
       "      <td>Std</td>\n",
       "      <td>0.132933</td>\n",
       "      <td>120</td>\n",
       "    </tr>\n",
       "    <tr>\n",
       "      <th>10</th>\n",
       "      <td>2013-12-01 00:30:00</td>\n",
       "      <td>Adversity</td>\n",
       "      <td>ACORN-N</td>\n",
       "      <td>ToU</td>\n",
       "      <td>0.123500</td>\n",
       "      <td>26</td>\n",
       "    </tr>\n",
       "    <tr>\n",
       "      <th>11</th>\n",
       "      <td>2013-12-01 00:30:00</td>\n",
       "      <td>Adversity</td>\n",
       "      <td>ACORN-O</td>\n",
       "      <td>Std</td>\n",
       "      <td>0.182346</td>\n",
       "      <td>78</td>\n",
       "    </tr>\n",
       "    <tr>\n",
       "      <th>12</th>\n",
       "      <td>2013-12-01 00:30:00</td>\n",
       "      <td>Adversity</td>\n",
       "      <td>ACORN-O</td>\n",
       "      <td>ToU</td>\n",
       "      <td>0.160812</td>\n",
       "      <td>16</td>\n",
       "    </tr>\n",
       "    <tr>\n",
       "      <th>13</th>\n",
       "      <td>2013-12-01 00:30:00</td>\n",
       "      <td>Adversity</td>\n",
       "      <td>ACORN-P</td>\n",
       "      <td>Std</td>\n",
       "      <td>0.493440</td>\n",
       "      <td>84</td>\n",
       "    </tr>\n",
       "    <tr>\n",
       "      <th>14</th>\n",
       "      <td>2013-12-01 00:30:00</td>\n",
       "      <td>Adversity</td>\n",
       "      <td>ACORN-P</td>\n",
       "      <td>ToU</td>\n",
       "      <td>0.054200</td>\n",
       "      <td>20</td>\n",
       "    </tr>\n",
       "    <tr>\n",
       "      <th>15</th>\n",
       "      <td>2013-12-01 00:30:00</td>\n",
       "      <td>Adversity</td>\n",
       "      <td>ACORN-Q</td>\n",
       "      <td>Std</td>\n",
       "      <td>0.166531</td>\n",
       "      <td>650</td>\n",
       "    </tr>\n",
       "    <tr>\n",
       "      <th>16</th>\n",
       "      <td>2013-12-01 00:30:00</td>\n",
       "      <td>Adversity</td>\n",
       "      <td>ACORN-Q</td>\n",
       "      <td>ToU</td>\n",
       "      <td>0.112909</td>\n",
       "      <td>110</td>\n",
       "    </tr>\n",
       "    <tr>\n",
       "      <th>17</th>\n",
       "      <td>2013-12-01 00:30:00</td>\n",
       "      <td>Affluent</td>\n",
       "      <td>ACORN-A</td>\n",
       "      <td>Std</td>\n",
       "      <td>0.370170</td>\n",
       "      <td>106</td>\n",
       "    </tr>\n",
       "    <tr>\n",
       "      <th>18</th>\n",
       "      <td>2013-12-01 00:30:00</td>\n",
       "      <td>Affluent</td>\n",
       "      <td>ACORN-A</td>\n",
       "      <td>ToU</td>\n",
       "      <td>0.268946</td>\n",
       "      <td>37</td>\n",
       "    </tr>\n",
       "    <tr>\n",
       "      <th>19</th>\n",
       "      <td>2013-12-01 00:30:00</td>\n",
       "      <td>Affluent</td>\n",
       "      <td>ACORN-B</td>\n",
       "      <td>Std</td>\n",
       "      <td>0.237053</td>\n",
       "      <td>19</td>\n",
       "    </tr>\n",
       "  </tbody>\n",
       "</table>\n",
       "</div>"
      ],
      "text/plain": [
       "              DateTime Acorn_grouped    Acorn stdorToU  nrg_cons    N\n",
       "0  2013-12-01 00:30:00        ACORN-   ACORN-      ToU  0.196000    1\n",
       "1  2013-12-01 00:30:00       ACORN-U  ACORN-U      Std  0.208056   36\n",
       "2  2013-12-01 00:30:00       ACORN-U  ACORN-U      ToU  0.165250    8\n",
       "3  2013-12-01 00:30:00     Adversity  ACORN-K      Std  0.205727  132\n",
       "4  2013-12-01 00:30:00     Adversity  ACORN-K      ToU  0.175150   20\n",
       "5  2013-12-01 00:30:00     Adversity  ACORN-L      Std  0.179940  251\n",
       "6  2013-12-01 00:30:00     Adversity  ACORN-L      ToU  0.160944   72\n",
       "7  2013-12-01 00:30:00     Adversity  ACORN-M      Std  0.163674   89\n",
       "8  2013-12-01 00:30:00     Adversity  ACORN-M      ToU  0.239250   16\n",
       "9  2013-12-01 00:30:00     Adversity  ACORN-N      Std  0.132933  120\n",
       "10 2013-12-01 00:30:00     Adversity  ACORN-N      ToU  0.123500   26\n",
       "11 2013-12-01 00:30:00     Adversity  ACORN-O      Std  0.182346   78\n",
       "12 2013-12-01 00:30:00     Adversity  ACORN-O      ToU  0.160812   16\n",
       "13 2013-12-01 00:30:00     Adversity  ACORN-P      Std  0.493440   84\n",
       "14 2013-12-01 00:30:00     Adversity  ACORN-P      ToU  0.054200   20\n",
       "15 2013-12-01 00:30:00     Adversity  ACORN-Q      Std  0.166531  650\n",
       "16 2013-12-01 00:30:00     Adversity  ACORN-Q      ToU  0.112909  110\n",
       "17 2013-12-01 00:30:00      Affluent  ACORN-A      Std  0.370170  106\n",
       "18 2013-12-01 00:30:00      Affluent  ACORN-A      ToU  0.268946   37\n",
       "19 2013-12-01 00:30:00      Affluent  ACORN-B      Std  0.237053   19"
      ]
     },
     "execution_count": 9,
     "metadata": {},
     "output_type": "execute_result"
    }
   ],
   "source": [
    "df.rename(columns={\"KWH/hh (per half hour) \": \"nrg_cons\", \"LCLid\": \"N\"}, inplace=True)\n",
    "df.head(20)"
   ]
  },
  {
   "cell_type": "code",
   "execution_count": 10,
   "metadata": {
    "collapsed": false
   },
   "outputs": [
    {
     "data": {
      "text/plain": [
       "0.18109501181706594"
      ]
     },
     "execution_count": 10,
     "metadata": {},
     "output_type": "execute_result"
    }
   ],
   "source": [
    "(df.iloc[3:17,4]*df.iloc[3:17,5]).sum()/df.iloc[3:17,5].sum()"
   ]
  },
  {
   "cell_type": "code",
   "execution_count": 20,
   "metadata": {
    "collapsed": true
   },
   "outputs": [],
   "source": [
    "# Spliting Date and time\n",
    "\n",
    "# temp = pd.DatetimeIndex(grouped_nrg_1314['DateTime'])\n",
    "# grouped_nrg_1314['Date'] = temp.date\n",
    "# grouped_nrg_1314['Time'] = temp.time\n",
    "# del grouped_nrg_1314['DateTime']"
   ]
  },
  {
   "cell_type": "code",
   "execution_count": 42,
   "metadata": {
    "collapsed": false
   },
   "outputs": [
    {
     "data": {
      "text/html": [
       "<div>\n",
       "<table border=\"1\" class=\"dataframe\">\n",
       "  <thead>\n",
       "    <tr style=\"text-align: right;\">\n",
       "      <th></th>\n",
       "      <th></th>\n",
       "      <th>nrg_cons</th>\n",
       "    </tr>\n",
       "    <tr>\n",
       "      <th>DateTime</th>\n",
       "      <th>Acorn_grouped</th>\n",
       "      <th></th>\n",
       "    </tr>\n",
       "  </thead>\n",
       "  <tbody>\n",
       "    <tr>\n",
       "      <th rowspan=\"5\" valign=\"top\">2013-12-01 00:30:00</th>\n",
       "      <th>ACORN-</th>\n",
       "      <td>0.196000</td>\n",
       "    </tr>\n",
       "    <tr>\n",
       "      <th>ACORN-U</th>\n",
       "      <td>0.200273</td>\n",
       "    </tr>\n",
       "    <tr>\n",
       "      <th>Adversity</th>\n",
       "      <td>0.181095</td>\n",
       "    </tr>\n",
       "    <tr>\n",
       "      <th>Affluent</th>\n",
       "      <td>0.255295</td>\n",
       "    </tr>\n",
       "    <tr>\n",
       "      <th>Comfortable</th>\n",
       "      <td>0.207193</td>\n",
       "    </tr>\n",
       "  </tbody>\n",
       "</table>\n",
       "</div>"
      ],
      "text/plain": [
       "                                   nrg_cons\n",
       "DateTime            Acorn_grouped          \n",
       "2013-12-01 00:30:00 ACORN-         0.196000\n",
       "                    ACORN-U        0.200273\n",
       "                    Adversity      0.181095\n",
       "                    Affluent       0.255295\n",
       "                    Comfortable    0.207193"
      ]
     },
     "execution_count": 42,
     "metadata": {},
     "output_type": "execute_result"
    }
   ],
   "source": [
    "# Define a lambda function to compute the weighted mean:\n",
    "wm = lambda x: np.average(x, weights=df.loc[x.index, \"N\"])\n",
    "\n",
    "# Define a dictionary with the functions to apply for a given column:\n",
    "f = {'nrg_cons': wm}\n",
    "\n",
    "# Groupby and aggregate with your dictionary:\n",
    "df_grouped = df.groupby([\"DateTime\", \"Acorn_grouped\"]).agg(f)\n",
    "\n",
    "df_grouped.head()\n",
    "\n",
    "#grouped_nrg_1314.groupby('Acorn_grouped').aggregate?\n"
   ]
  },
  {
   "cell_type": "code",
   "execution_count": 62,
   "metadata": {
    "collapsed": false
   },
   "outputs": [
    {
     "data": {
      "text/plain": [
       "('nrg_cons', 'ACORN-U')"
      ]
     },
     "execution_count": 62,
     "metadata": {},
     "output_type": "execute_result"
    }
   ],
   "source": [
    "df_grouped.unstack(1).columns[1]"
   ]
  },
  {
   "cell_type": "code",
   "execution_count": 63,
   "metadata": {
    "collapsed": false
   },
   "outputs": [
    {
     "data": {
      "text/html": [
       "<div>\n",
       "<table border=\"1\" class=\"dataframe\">\n",
       "  <thead>\n",
       "    <tr>\n",
       "      <th></th>\n",
       "      <th colspan=\"3\" halign=\"left\">nrg_cons</th>\n",
       "    </tr>\n",
       "    <tr>\n",
       "      <th>Acorn_grouped</th>\n",
       "      <th>Adversity</th>\n",
       "      <th>Affluent</th>\n",
       "      <th>Comfortable</th>\n",
       "    </tr>\n",
       "    <tr>\n",
       "      <th>DateTime</th>\n",
       "      <th></th>\n",
       "      <th></th>\n",
       "      <th></th>\n",
       "    </tr>\n",
       "  </thead>\n",
       "  <tbody>\n",
       "    <tr>\n",
       "      <th>2013-12-01 00:30:00</th>\n",
       "      <td>0.181095</td>\n",
       "      <td>0.255295</td>\n",
       "      <td>0.207193</td>\n",
       "    </tr>\n",
       "    <tr>\n",
       "      <th>2013-12-01 01:00:00</th>\n",
       "      <td>0.163202</td>\n",
       "      <td>0.223506</td>\n",
       "      <td>0.175999</td>\n",
       "    </tr>\n",
       "    <tr>\n",
       "      <th>2013-12-01 01:30:00</th>\n",
       "      <td>0.145878</td>\n",
       "      <td>0.195605</td>\n",
       "      <td>0.157086</td>\n",
       "    </tr>\n",
       "    <tr>\n",
       "      <th>2013-12-01 02:00:00</th>\n",
       "      <td>0.132853</td>\n",
       "      <td>0.181479</td>\n",
       "      <td>0.140257</td>\n",
       "    </tr>\n",
       "    <tr>\n",
       "      <th>2013-12-01 02:30:00</th>\n",
       "      <td>0.120700</td>\n",
       "      <td>0.174701</td>\n",
       "      <td>0.132327</td>\n",
       "    </tr>\n",
       "  </tbody>\n",
       "</table>\n",
       "</div>"
      ],
      "text/plain": [
       "                     nrg_cons                      \n",
       "Acorn_grouped       Adversity  Affluent Comfortable\n",
       "DateTime                                           \n",
       "2013-12-01 00:30:00  0.181095  0.255295    0.207193\n",
       "2013-12-01 01:00:00  0.163202  0.223506    0.175999\n",
       "2013-12-01 01:30:00  0.145878  0.195605    0.157086\n",
       "2013-12-01 02:00:00  0.132853  0.181479    0.140257\n",
       "2013-12-01 02:30:00  0.120700  0.174701    0.132327"
      ]
     },
     "execution_count": 63,
     "metadata": {},
     "output_type": "execute_result"
    }
   ],
   "source": [
    "nrg_1314_regress = df_grouped.unstack(1).drop([('nrg_cons', 'ACORN-'),('nrg_cons', 'ACORN-U')], axis = 1)\n",
    "nrg_1314_regress.head()"
   ]
  },
  {
   "cell_type": "code",
   "execution_count": 64,
   "metadata": {
    "collapsed": false
   },
   "outputs": [
    {
     "data": {
      "text/html": [
       "<div>\n",
       "<table border=\"1\" class=\"dataframe\">\n",
       "  <thead>\n",
       "    <tr>\n",
       "      <th></th>\n",
       "      <th colspan=\"3\" halign=\"left\">nrg_cons</th>\n",
       "    </tr>\n",
       "    <tr>\n",
       "      <th>Acorn_grouped</th>\n",
       "      <th>Adversity</th>\n",
       "      <th>Affluent</th>\n",
       "      <th>Comfortable</th>\n",
       "    </tr>\n",
       "  </thead>\n",
       "  <tbody>\n",
       "    <tr>\n",
       "      <th>count</th>\n",
       "      <td>4272.000000</td>\n",
       "      <td>4272.000000</td>\n",
       "      <td>4272.000000</td>\n",
       "    </tr>\n",
       "    <tr>\n",
       "      <th>mean</th>\n",
       "      <td>0.197358</td>\n",
       "      <td>0.277675</td>\n",
       "      <td>0.236946</td>\n",
       "    </tr>\n",
       "    <tr>\n",
       "      <th>std</th>\n",
       "      <td>0.063896</td>\n",
       "      <td>0.089403</td>\n",
       "      <td>0.083664</td>\n",
       "    </tr>\n",
       "    <tr>\n",
       "      <th>min</th>\n",
       "      <td>0.092514</td>\n",
       "      <td>0.132146</td>\n",
       "      <td>0.101927</td>\n",
       "    </tr>\n",
       "    <tr>\n",
       "      <th>25%</th>\n",
       "      <td>0.148989</td>\n",
       "      <td>0.204205</td>\n",
       "      <td>0.172290</td>\n",
       "    </tr>\n",
       "    <tr>\n",
       "      <th>50%</th>\n",
       "      <td>0.188485</td>\n",
       "      <td>0.272868</td>\n",
       "      <td>0.230884</td>\n",
       "    </tr>\n",
       "    <tr>\n",
       "      <th>75%</th>\n",
       "      <td>0.247265</td>\n",
       "      <td>0.337459</td>\n",
       "      <td>0.297978</td>\n",
       "    </tr>\n",
       "    <tr>\n",
       "      <th>max</th>\n",
       "      <td>0.334082</td>\n",
       "      <td>0.495457</td>\n",
       "      <td>0.417825</td>\n",
       "    </tr>\n",
       "  </tbody>\n",
       "</table>\n",
       "</div>"
      ],
      "text/plain": [
       "                  nrg_cons                          \n",
       "Acorn_grouped    Adversity     Affluent  Comfortable\n",
       "count          4272.000000  4272.000000  4272.000000\n",
       "mean              0.197358     0.277675     0.236946\n",
       "std               0.063896     0.089403     0.083664\n",
       "min               0.092514     0.132146     0.101927\n",
       "25%               0.148989     0.204205     0.172290\n",
       "50%               0.188485     0.272868     0.230884\n",
       "75%               0.247265     0.337459     0.297978\n",
       "max               0.334082     0.495457     0.417825"
      ]
     },
     "execution_count": 64,
     "metadata": {},
     "output_type": "execute_result"
    }
   ],
   "source": [
    "nrg_1314_regress.describe()"
   ]
  },
  {
   "cell_type": "code",
   "execution_count": 67,
   "metadata": {
    "collapsed": false
   },
   "outputs": [],
   "source": [
    "output = \"~/Desktop/CUSP/Applied_Data_Science/Taming-the-Peak/Final_Data/nrg_winter1314_ready_for_regress.csv\"\n",
    "\n",
    "nrg_1314_regress.to_csv(output)"
   ]
  }
 ],
 "metadata": {
  "kernelspec": {
   "display_name": "Python [Root]",
   "language": "python",
   "name": "Python [Root]"
  },
  "language_info": {
   "codemirror_mode": {
    "name": "ipython",
    "version": 2
   },
   "file_extension": ".py",
   "mimetype": "text/x-python",
   "name": "python",
   "nbconvert_exporter": "python",
   "pygments_lexer": "ipython2",
   "version": "2.7.12"
  }
 },
 "nbformat": 4,
 "nbformat_minor": 0
}
