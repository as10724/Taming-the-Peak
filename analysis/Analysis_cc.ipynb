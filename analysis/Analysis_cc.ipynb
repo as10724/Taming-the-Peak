{
 "cells": [
  {
   "cell_type": "code",
   "execution_count": 2,
   "metadata": {
    "collapsed": false
   },
   "outputs": [
    {
     "name": "stdout",
     "output_type": "stream",
     "text": [
      "Populating the interactive namespace from numpy and matplotlib\n"
     ]
    }
   ],
   "source": [
    "from __future__ import print_function, division\n",
    "import pandas as pd\n",
    "import pylab as pl\n",
    "import os\n",
    "import csv\n",
    "import seaborn\n",
    "import statsmodels.formula.api as smf\n",
    "import scipy.stats\n",
    "import numpy as np\n",
    "%pylab inline"
   ]
  },
  {
   "cell_type": "code",
   "execution_count": 1,
   "metadata": {
    "collapsed": false
   },
   "outputs": [
    {
     "ename": "NameError",
     "evalue": "name 'pd' is not defined",
     "output_type": "error",
     "traceback": [
      "\u001b[1;31m---------------------------------------------------------------------------\u001b[0m",
      "\u001b[1;31mNameError\u001b[0m                                 Traceback (most recent call last)",
      "\u001b[1;32m<ipython-input-1-eb17029bf2ec>\u001b[0m in \u001b[0;36m<module>\u001b[1;34m()\u001b[0m\n\u001b[1;32m----> 1\u001b[1;33m \u001b[0mdata\u001b[0m \u001b[1;33m=\u001b[0m \u001b[0mpd\u001b[0m\u001b[1;33m.\u001b[0m\u001b[0mread_csv\u001b[0m\u001b[1;33m(\u001b[0m\u001b[1;34m'../Final_Data/final1213.csv'\u001b[0m\u001b[1;33m,\u001b[0m \u001b[0mparse_dates\u001b[0m\u001b[1;33m=\u001b[0m\u001b[1;33m[\u001b[0m\u001b[1;34m\"Datetime\"\u001b[0m\u001b[1;33m]\u001b[0m\u001b[1;33m)\u001b[0m\u001b[1;33m\u001b[0m\u001b[0m\n\u001b[0m",
      "\u001b[1;31mNameError\u001b[0m: name 'pd' is not defined"
     ]
    }
   ],
   "source": [
    "data = pd.read_csv('../Final_Data/final1213.csv', parse_dates=[\"Datetime\"])"
   ]
  },
  {
   "cell_type": "code",
   "execution_count": 21,
   "metadata": {
    "collapsed": false
   },
   "outputs": [],
   "source": [
    "low_list = [0,1,2,3,4,5,8]\n",
    "medium_list = [0,1,2,3,4,7,8]\n",
    "high_list = [0,1,2,3,4,6,8]\n",
    "Low = data.iloc[:,low_list]\n",
    "Medium = data.iloc[:,medium_list]\n",
    "High = data.iloc[:,high_list]"
   ]
  },
  {
   "cell_type": "code",
   "execution_count": 22,
   "metadata": {
    "collapsed": false
   },
   "outputs": [],
   "source": [
    "Low = Low.rename(columns = {'Low_Income':'Consumption'})\n",
    "Medium = Medium.rename(columns = {'Middle_Income':'Consumption'})\n",
    "High = High.rename(columns = {'High_Income':'Consumption'})"
   ]
  },
  {
   "cell_type": "code",
   "execution_count": 23,
   "metadata": {
    "collapsed": false
   },
   "outputs": [],
   "source": [
    "Low.insert(6, \"Income\", \"Low\")\n",
    "Medium.insert(6, \"Income\", \"Medium\")\n",
    "High.insert(6, \"Income\", \"High\")"
   ]
  },
  {
   "cell_type": "code",
   "execution_count": 24,
   "metadata": {
    "collapsed": true
   },
   "outputs": [],
   "source": [
    "import pandasql as ps # pip install pandasql"
   ]
  },
  {
   "cell_type": "code",
   "execution_count": 25,
   "metadata": {
    "collapsed": false
   },
   "outputs": [],
   "source": [
    "q = 'select * from High union select * from Medium union select * from Low'\n",
    "data = ps.sqldf(q, globals())"
   ]
  },
  {
   "cell_type": "code",
   "execution_count": 26,
   "metadata": {
    "collapsed": false
   },
   "outputs": [],
   "source": [
    "Consumption = data.Consumption.astype(float)\n",
    "Overall = data.Overall.astype(float)\n",
    "Diff = Consumption - Overall"
   ]
  },
  {
   "cell_type": "code",
   "execution_count": 27,
   "metadata": {
    "collapsed": true
   },
   "outputs": [],
   "source": [
    "data['Diff'] = Diff\n",
    "data['Diff_perc'] = data.Diff/data.Overall"
   ]
  },
  {
   "cell_type": "code",
   "execution_count": 28,
   "metadata": {
    "collapsed": false
   },
   "outputs": [
    {
     "data": {
      "text/html": [
       "<div>\n",
       "<table border=\"1\" class=\"dataframe\">\n",
       "  <thead>\n",
       "    <tr style=\"text-align: right;\">\n",
       "      <th></th>\n",
       "      <th>Datetime</th>\n",
       "      <th>Dew_Point_F</th>\n",
       "      <th>Humidity</th>\n",
       "      <th>Temperature_F</th>\n",
       "      <th>Wind_Speed_MPH</th>\n",
       "      <th>Consumption</th>\n",
       "      <th>Income</th>\n",
       "      <th>Overall</th>\n",
       "      <th>Diff</th>\n",
       "      <th>Diff_perc</th>\n",
       "    </tr>\n",
       "  </thead>\n",
       "  <tbody>\n",
       "    <tr>\n",
       "      <th>0</th>\n",
       "      <td>2012-01-01 00:00:00.000000</td>\n",
       "      <td>50.0</td>\n",
       "      <td>88</td>\n",
       "      <td>53.6</td>\n",
       "      <td>13.8</td>\n",
       "      <td>0.190114</td>\n",
       "      <td>Medium</td>\n",
       "      <td>0.231749</td>\n",
       "      <td>-0.041635</td>\n",
       "      <td>-0.179655</td>\n",
       "    </tr>\n",
       "    <tr>\n",
       "      <th>1</th>\n",
       "      <td>2012-01-01 00:00:00.000000</td>\n",
       "      <td>50.0</td>\n",
       "      <td>88</td>\n",
       "      <td>53.6</td>\n",
       "      <td>13.8</td>\n",
       "      <td>0.221192</td>\n",
       "      <td>Low</td>\n",
       "      <td>0.231749</td>\n",
       "      <td>-0.010557</td>\n",
       "      <td>-0.045553</td>\n",
       "    </tr>\n",
       "    <tr>\n",
       "      <th>2</th>\n",
       "      <td>2012-01-01 00:00:00.000000</td>\n",
       "      <td>50.0</td>\n",
       "      <td>88</td>\n",
       "      <td>53.6</td>\n",
       "      <td>13.8</td>\n",
       "      <td>0.268072</td>\n",
       "      <td>High</td>\n",
       "      <td>0.231749</td>\n",
       "      <td>0.036323</td>\n",
       "      <td>0.156735</td>\n",
       "    </tr>\n",
       "    <tr>\n",
       "      <th>3</th>\n",
       "      <td>2012-01-01 01:00:00.000000</td>\n",
       "      <td>50.0</td>\n",
       "      <td>88</td>\n",
       "      <td>53.6</td>\n",
       "      <td>15.0</td>\n",
       "      <td>0.355447</td>\n",
       "      <td>Medium</td>\n",
       "      <td>0.550101</td>\n",
       "      <td>-0.194654</td>\n",
       "      <td>-0.353851</td>\n",
       "    </tr>\n",
       "    <tr>\n",
       "      <th>4</th>\n",
       "      <td>2012-01-01 01:00:00.000000</td>\n",
       "      <td>50.0</td>\n",
       "      <td>88</td>\n",
       "      <td>53.6</td>\n",
       "      <td>15.0</td>\n",
       "      <td>0.616456</td>\n",
       "      <td>Low</td>\n",
       "      <td>0.550101</td>\n",
       "      <td>0.066355</td>\n",
       "      <td>0.120623</td>\n",
       "    </tr>\n",
       "  </tbody>\n",
       "</table>\n",
       "</div>"
      ],
      "text/plain": [
       "                     Datetime  Dew_Point_F  Humidity  Temperature_F  \\\n",
       "0  2012-01-01 00:00:00.000000         50.0        88           53.6   \n",
       "1  2012-01-01 00:00:00.000000         50.0        88           53.6   \n",
       "2  2012-01-01 00:00:00.000000         50.0        88           53.6   \n",
       "3  2012-01-01 01:00:00.000000         50.0        88           53.6   \n",
       "4  2012-01-01 01:00:00.000000         50.0        88           53.6   \n",
       "\n",
       "   Wind_Speed_MPH  Consumption  Income   Overall      Diff  Diff_perc  \n",
       "0            13.8     0.190114  Medium  0.231749 -0.041635  -0.179655  \n",
       "1            13.8     0.221192     Low  0.231749 -0.010557  -0.045553  \n",
       "2            13.8     0.268072    High  0.231749  0.036323   0.156735  \n",
       "3            15.0     0.355447  Medium  0.550101 -0.194654  -0.353851  \n",
       "4            15.0     0.616456     Low  0.550101  0.066355   0.120623  "
      ]
     },
     "execution_count": 28,
     "metadata": {},
     "output_type": "execute_result"
    }
   ],
   "source": [
    "data.head()"
   ]
  },
  {
   "cell_type": "code",
   "execution_count": 14,
   "metadata": {
    "collapsed": true
   },
   "outputs": [],
   "source": [
    "import datetime"
   ]
  },
  {
   "cell_type": "code",
   "execution_count": 34,
   "metadata": {
    "collapsed": false
   },
   "outputs": [],
   "source": [
    "data[\"Datetime\"] = data[\"Datetime\"].apply(lambda x:datetime.datetime.strptime(x, '%Y-%m-%d %H:%M:%S.%f'))"
   ]
  },
  {
   "cell_type": "code",
   "execution_count": 50,
   "metadata": {
    "collapsed": false
   },
   "outputs": [],
   "source": [
    "data[\"Month\"] = data[\"Datetime\"].dt.month\n",
    "data[\"DayofWeek\"] = data[\"Datetime\"].dt.dayofweek\n",
    "data[\"Hour\"] = data[\"Datetime\"].dt.hour\n",
    "data[\"WeekofYear\"] = data[\"Datetime\"].dt.weekofyear\n",
    "data[\"Year\"] = data[\"Datetime\"].dt.year"
   ]
  },
  {
   "cell_type": "code",
   "execution_count": 51,
   "metadata": {
    "collapsed": false
   },
   "outputs": [],
   "source": [
    "data.head()\n",
    "data.to_csv('../Final_Data/final1213_reshaped.csv')"
   ]
  },
  {
   "cell_type": "code",
   "execution_count": null,
   "metadata": {
    "collapsed": true
   },
   "outputs": [],
   "source": []
  }
 ],
 "metadata": {
  "kernelspec": {
   "display_name": "Python 2",
   "language": "python",
   "name": "python2"
  },
  "language_info": {
   "codemirror_mode": {
    "name": "ipython",
    "version": 2
   },
   "file_extension": ".py",
   "mimetype": "text/x-python",
   "name": "python",
   "nbconvert_exporter": "python",
   "pygments_lexer": "ipython2",
   "version": "2.7.11"
  }
 },
 "nbformat": 4,
 "nbformat_minor": 0
}
