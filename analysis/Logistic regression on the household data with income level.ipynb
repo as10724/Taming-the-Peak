{
 "cells": [
  {
   "cell_type": "markdown",
   "metadata": {},
   "source": [
    "# Logistic Regression on Household Income Level and Energy Consumption Behavior."
   ]
  },
  {
   "cell_type": "markdown",
   "metadata": {},
   "source": [
    "### Data Wrangling:"
   ]
  },
  {
   "cell_type": "code",
   "execution_count": 302,
   "metadata": {
    "collapsed": true
   },
   "outputs": [],
   "source": [
    "import numpy as np\n",
    "import pandas as pd\n",
    "import matplotlib.pylab as plt\n",
    "%matplotlib inline"
   ]
  },
  {
   "cell_type": "code",
   "execution_count": 303,
   "metadata": {
    "collapsed": false
   },
   "outputs": [],
   "source": [
    "for i in range(60):\n",
    "    globals()[\"path_{}\".format(i+1)]=\"../share/Power-Networks-LCL-June2015(withAcornGps).csv_Pieces/Power-Networks-LCL-June2015(withAcornGps)v2_%d.csv\"%(i+1)\n",
    "    globals()[\"df_{}\".format(i+1)]=pd.read_csv(globals()[\"path_{}\".format(i+1)])\n",
    "    globals()[\"df_{}\".format(i+1)].DateTime = pd.to_datetime(globals()[\"df_{}\".format(i+1)].DateTime)\n",
    "    globals()[\"df_{}\".format(i+1)] = globals()[\"df_{}\".format(i+1)][globals()[\"df_{}\".format(i+1)].DateTime.dt.month == 12]   \n",
    "    df_1 = pd.concat([globals()[\"df_{}\".format(i+1)], df_1], axis = 0)"
   ]
  },
  {
   "cell_type": "code",
   "execution_count": 585,
   "metadata": {
    "collapsed": false
   },
   "outputs": [],
   "source": [
    "df = df_1.drop_duplicates()"
   ]
  },
  {
   "cell_type": "code",
   "execution_count": 586,
   "metadata": {
    "collapsed": false
   },
   "outputs": [
    {
     "data": {
      "text/html": [
       "<div>\n",
       "<table border=\"1\" class=\"dataframe\">\n",
       "  <thead>\n",
       "    <tr style=\"text-align: right;\">\n",
       "      <th></th>\n",
       "      <th>LCLid</th>\n",
       "      <th>stdorToU</th>\n",
       "      <th>DateTime</th>\n",
       "      <th>KWH/hh (per half hour)</th>\n",
       "      <th>Acorn</th>\n",
       "      <th>Acorn_grouped</th>\n",
       "    </tr>\n",
       "  </thead>\n",
       "  <tbody>\n",
       "    <tr>\n",
       "      <th>14973</th>\n",
       "      <td>MAC002372</td>\n",
       "      <td>Std</td>\n",
       "      <td>2013-12-01 00:00:00</td>\n",
       "      <td>0.096</td>\n",
       "      <td>ACORN-E</td>\n",
       "      <td>Affluent</td>\n",
       "    </tr>\n",
       "    <tr>\n",
       "      <th>14974</th>\n",
       "      <td>MAC002372</td>\n",
       "      <td>Std</td>\n",
       "      <td>2013-12-01 00:30:00</td>\n",
       "      <td>0.051</td>\n",
       "      <td>ACORN-E</td>\n",
       "      <td>Affluent</td>\n",
       "    </tr>\n",
       "    <tr>\n",
       "      <th>14975</th>\n",
       "      <td>MAC002372</td>\n",
       "      <td>Std</td>\n",
       "      <td>2013-12-01 01:00:00</td>\n",
       "      <td>0.03</td>\n",
       "      <td>ACORN-E</td>\n",
       "      <td>Affluent</td>\n",
       "    </tr>\n",
       "    <tr>\n",
       "      <th>14976</th>\n",
       "      <td>MAC002372</td>\n",
       "      <td>Std</td>\n",
       "      <td>2013-12-01 01:30:00</td>\n",
       "      <td>0.03</td>\n",
       "      <td>ACORN-E</td>\n",
       "      <td>Affluent</td>\n",
       "    </tr>\n",
       "    <tr>\n",
       "      <th>14977</th>\n",
       "      <td>MAC002372</td>\n",
       "      <td>Std</td>\n",
       "      <td>2013-12-01 02:00:00</td>\n",
       "      <td>0.038</td>\n",
       "      <td>ACORN-E</td>\n",
       "      <td>Affluent</td>\n",
       "    </tr>\n",
       "  </tbody>\n",
       "</table>\n",
       "</div>"
      ],
      "text/plain": [
       "           LCLid stdorToU            DateTime KWH/hh (per half hour)   \\\n",
       "14973  MAC002372      Std 2013-12-01 00:00:00                  0.096    \n",
       "14974  MAC002372      Std 2013-12-01 00:30:00                  0.051    \n",
       "14975  MAC002372      Std 2013-12-01 01:00:00                   0.03    \n",
       "14976  MAC002372      Std 2013-12-01 01:30:00                   0.03    \n",
       "14977  MAC002372      Std 2013-12-01 02:00:00                  0.038    \n",
       "\n",
       "         Acorn Acorn_grouped  \n",
       "14973  ACORN-E      Affluent  \n",
       "14974  ACORN-E      Affluent  \n",
       "14975  ACORN-E      Affluent  \n",
       "14976  ACORN-E      Affluent  \n",
       "14977  ACORN-E      Affluent  "
      ]
     },
     "execution_count": 586,
     "metadata": {},
     "output_type": "execute_result"
    }
   ],
   "source": [
    "df.head()"
   ]
  },
  {
   "cell_type": "code",
   "execution_count": 588,
   "metadata": {
    "collapsed": false
   },
   "outputs": [
    {
     "data": {
      "text/html": [
       "<div>\n",
       "<table border=\"1\" class=\"dataframe\">\n",
       "  <thead>\n",
       "    <tr style=\"text-align: right;\">\n",
       "      <th></th>\n",
       "      <th>LCLid</th>\n",
       "      <th>Acorn_grouped</th>\n",
       "    </tr>\n",
       "  </thead>\n",
       "  <tbody>\n",
       "    <tr>\n",
       "      <th>14973</th>\n",
       "      <td>MAC002372</td>\n",
       "      <td>Affluent</td>\n",
       "    </tr>\n",
       "    <tr>\n",
       "      <th>29494</th>\n",
       "      <td>MAC002373</td>\n",
       "      <td>Adversity</td>\n",
       "    </tr>\n",
       "    <tr>\n",
       "      <th>53153</th>\n",
       "      <td>MAC002374</td>\n",
       "      <td>Affluent</td>\n",
       "    </tr>\n",
       "    <tr>\n",
       "      <th>66297</th>\n",
       "      <td>MAC002375</td>\n",
       "      <td>Affluent</td>\n",
       "    </tr>\n",
       "    <tr>\n",
       "      <th>98501</th>\n",
       "      <td>MAC002376</td>\n",
       "      <td>Comfortable</td>\n",
       "    </tr>\n",
       "  </tbody>\n",
       "</table>\n",
       "</div>"
      ],
      "text/plain": [
       "           LCLid Acorn_grouped\n",
       "14973  MAC002372      Affluent\n",
       "29494  MAC002373     Adversity\n",
       "53153  MAC002374      Affluent\n",
       "66297  MAC002375      Affluent\n",
       "98501  MAC002376   Comfortable"
      ]
     },
     "execution_count": 588,
     "metadata": {},
     "output_type": "execute_result"
    }
   ],
   "source": [
    "df_eco = df.iloc[:,(0,-1)].drop_duplicates()\n",
    "df_eco.head()"
   ]
  },
  {
   "cell_type": "code",
   "execution_count": 589,
   "metadata": {
    "collapsed": false
   },
   "outputs": [],
   "source": [
    "df.iloc[:,3] = pd.to_numeric(df.iloc[:,3],errors='coerce')\n",
    "\n",
    "df_p = df.pivot_table(values='KWH/hh (per half hour) ', index = \"DateTime\", columns = \"LCLid\" )"
   ]
  },
  {
   "cell_type": "code",
   "execution_count": 590,
   "metadata": {
    "collapsed": true
   },
   "outputs": [],
   "source": [
    "df_tem = df_p.reset_index()"
   ]
  },
  {
   "cell_type": "code",
   "execution_count": 727,
   "metadata": {
    "collapsed": false
   },
   "outputs": [
    {
     "data": {
      "text/html": [
       "<div>\n",
       "<table border=\"1\" class=\"dataframe\">\n",
       "  <thead>\n",
       "    <tr style=\"text-align: right;\">\n",
       "      <th>LCLid</th>\n",
       "      <th>DateTime</th>\n",
       "      <th>MAC000002</th>\n",
       "      <th>MAC000003</th>\n",
       "      <th>MAC000004</th>\n",
       "      <th>MAC000006</th>\n",
       "      <th>MAC000007</th>\n",
       "      <th>MAC000008</th>\n",
       "      <th>MAC000009</th>\n",
       "      <th>MAC000010</th>\n",
       "      <th>MAC000011</th>\n",
       "      <th>...</th>\n",
       "      <th>MAC002395</th>\n",
       "      <th>MAC002396</th>\n",
       "      <th>MAC002397</th>\n",
       "      <th>MAC002399</th>\n",
       "      <th>MAC002400</th>\n",
       "      <th>MAC002401</th>\n",
       "      <th>MAC002402</th>\n",
       "      <th>MAC002403</th>\n",
       "      <th>MAC002405</th>\n",
       "      <th>MAC002406</th>\n",
       "    </tr>\n",
       "  </thead>\n",
       "  <tbody>\n",
       "    <tr>\n",
       "      <th>3275</th>\n",
       "      <td>2013-12-01 00:00:00</td>\n",
       "      <td>0.222</td>\n",
       "      <td>1.327</td>\n",
       "      <td>0.000</td>\n",
       "      <td>0.044</td>\n",
       "      <td>0.095</td>\n",
       "      <td>NaN</td>\n",
       "      <td>0.046</td>\n",
       "      <td>0.863</td>\n",
       "      <td>0.149</td>\n",
       "      <td>...</td>\n",
       "      <td>0.328</td>\n",
       "      <td>1.208</td>\n",
       "      <td>0.297</td>\n",
       "      <td>0.075</td>\n",
       "      <td>0.177</td>\n",
       "      <td>0.764</td>\n",
       "      <td>0.316</td>\n",
       "      <td>NaN</td>\n",
       "      <td>0.219</td>\n",
       "      <td>0.242</td>\n",
       "    </tr>\n",
       "    <tr>\n",
       "      <th>3276</th>\n",
       "      <td>2013-12-01 00:30:00</td>\n",
       "      <td>0.240</td>\n",
       "      <td>1.317</td>\n",
       "      <td>0.000</td>\n",
       "      <td>0.053</td>\n",
       "      <td>0.069</td>\n",
       "      <td>NaN</td>\n",
       "      <td>0.096</td>\n",
       "      <td>0.403</td>\n",
       "      <td>0.189</td>\n",
       "      <td>...</td>\n",
       "      <td>0.339</td>\n",
       "      <td>0.410</td>\n",
       "      <td>0.200</td>\n",
       "      <td>0.172</td>\n",
       "      <td>0.296</td>\n",
       "      <td>0.681</td>\n",
       "      <td>0.324</td>\n",
       "      <td>NaN</td>\n",
       "      <td>0.211</td>\n",
       "      <td>0.397</td>\n",
       "    </tr>\n",
       "    <tr>\n",
       "      <th>3277</th>\n",
       "      <td>2013-12-01 01:00:00</td>\n",
       "      <td>0.218</td>\n",
       "      <td>0.835</td>\n",
       "      <td>0.219</td>\n",
       "      <td>0.015</td>\n",
       "      <td>0.057</td>\n",
       "      <td>NaN</td>\n",
       "      <td>0.037</td>\n",
       "      <td>0.318</td>\n",
       "      <td>0.115</td>\n",
       "      <td>...</td>\n",
       "      <td>0.249</td>\n",
       "      <td>0.342</td>\n",
       "      <td>0.089</td>\n",
       "      <td>0.064</td>\n",
       "      <td>0.168</td>\n",
       "      <td>0.249</td>\n",
       "      <td>0.317</td>\n",
       "      <td>NaN</td>\n",
       "      <td>0.183</td>\n",
       "      <td>0.295</td>\n",
       "    </tr>\n",
       "    <tr>\n",
       "      <th>3278</th>\n",
       "      <td>2013-12-01 01:30:00</td>\n",
       "      <td>0.136</td>\n",
       "      <td>0.125</td>\n",
       "      <td>0.000</td>\n",
       "      <td>0.034</td>\n",
       "      <td>0.056</td>\n",
       "      <td>NaN</td>\n",
       "      <td>0.039</td>\n",
       "      <td>0.182</td>\n",
       "      <td>0.136</td>\n",
       "      <td>...</td>\n",
       "      <td>0.042</td>\n",
       "      <td>0.378</td>\n",
       "      <td>0.198</td>\n",
       "      <td>0.054</td>\n",
       "      <td>0.167</td>\n",
       "      <td>0.209</td>\n",
       "      <td>0.232</td>\n",
       "      <td>NaN</td>\n",
       "      <td>0.729</td>\n",
       "      <td>0.180</td>\n",
       "    </tr>\n",
       "    <tr>\n",
       "      <th>3279</th>\n",
       "      <td>2013-12-01 02:00:00</td>\n",
       "      <td>0.115</td>\n",
       "      <td>0.479</td>\n",
       "      <td>0.000</td>\n",
       "      <td>0.033</td>\n",
       "      <td>0.056</td>\n",
       "      <td>NaN</td>\n",
       "      <td>0.095</td>\n",
       "      <td>0.169</td>\n",
       "      <td>0.120</td>\n",
       "      <td>...</td>\n",
       "      <td>0.082</td>\n",
       "      <td>0.331</td>\n",
       "      <td>0.275</td>\n",
       "      <td>0.024</td>\n",
       "      <td>0.167</td>\n",
       "      <td>0.256</td>\n",
       "      <td>0.078</td>\n",
       "      <td>NaN</td>\n",
       "      <td>0.092</td>\n",
       "      <td>0.123</td>\n",
       "    </tr>\n",
       "  </tbody>\n",
       "</table>\n",
       "<p>5 rows × 1927 columns</p>\n",
       "</div>"
      ],
      "text/plain": [
       "LCLid            DateTime  MAC000002  MAC000003  MAC000004  MAC000006  \\\n",
       "3275  2013-12-01 00:00:00      0.222      1.327      0.000      0.044   \n",
       "3276  2013-12-01 00:30:00      0.240      1.317      0.000      0.053   \n",
       "3277  2013-12-01 01:00:00      0.218      0.835      0.219      0.015   \n",
       "3278  2013-12-01 01:30:00      0.136      0.125      0.000      0.034   \n",
       "3279  2013-12-01 02:00:00      0.115      0.479      0.000      0.033   \n",
       "\n",
       "LCLid  MAC000007  MAC000008  MAC000009  MAC000010  MAC000011    ...      \\\n",
       "3275       0.095        NaN      0.046      0.863      0.149    ...       \n",
       "3276       0.069        NaN      0.096      0.403      0.189    ...       \n",
       "3277       0.057        NaN      0.037      0.318      0.115    ...       \n",
       "3278       0.056        NaN      0.039      0.182      0.136    ...       \n",
       "3279       0.056        NaN      0.095      0.169      0.120    ...       \n",
       "\n",
       "LCLid  MAC002395  MAC002396  MAC002397  MAC002399  MAC002400  MAC002401  \\\n",
       "3275       0.328      1.208      0.297      0.075      0.177      0.764   \n",
       "3276       0.339      0.410      0.200      0.172      0.296      0.681   \n",
       "3277       0.249      0.342      0.089      0.064      0.168      0.249   \n",
       "3278       0.042      0.378      0.198      0.054      0.167      0.209   \n",
       "3279       0.082      0.331      0.275      0.024      0.167      0.256   \n",
       "\n",
       "LCLid  MAC002402  MAC002403  MAC002405  MAC002406  \n",
       "3275       0.316        NaN      0.219      0.242  \n",
       "3276       0.324        NaN      0.211      0.397  \n",
       "3277       0.317        NaN      0.183      0.295  \n",
       "3278       0.232        NaN      0.729      0.180  \n",
       "3279       0.078        NaN      0.092      0.123  \n",
       "\n",
       "[5 rows x 1927 columns]"
      ]
     },
     "execution_count": 727,
     "metadata": {},
     "output_type": "execute_result"
    }
   ],
   "source": [
    "df_p = df_tem[df_tem.DateTime.dt.year == 2013]\n",
    "df_p.head()"
   ]
  },
  {
   "cell_type": "code",
   "execution_count": 592,
   "metadata": {
    "collapsed": false
   },
   "outputs": [
    {
     "name": "stderr",
     "output_type": "stream",
     "text": [
      "/opt/rh/anaconda/root/envs/PUI2016_Python2/lib/python2.7/site-packages/ipykernel/__main__.py:1: SettingWithCopyWarning: \n",
      "A value is trying to be set on a copy of a slice from a DataFrame.\n",
      "Try using .loc[row_indexer,col_indexer] = value instead\n",
      "\n",
      "See the caveats in the documentation: http://pandas.pydata.org/pandas-docs/stable/indexing.html#indexing-view-versus-copy\n",
      "  if __name__ == '__main__':\n",
      "/opt/rh/anaconda/root/envs/PUI2016_Python2/lib/python2.7/site-packages/ipykernel/__main__.py:2: SettingWithCopyWarning: \n",
      "A value is trying to be set on a copy of a slice from a DataFrame.\n",
      "Try using .loc[row_indexer,col_indexer] = value instead\n",
      "\n",
      "See the caveats in the documentation: http://pandas.pydata.org/pandas-docs/stable/indexing.html#indexing-view-versus-copy\n",
      "  from ipykernel import kernelapp as app\n"
     ]
    }
   ],
   "source": [
    "df_p[\"Time\"] = df_p.DateTime.dt.time\n",
    "df_p[\"Date\"] = df_p.DateTime.dt.weekday"
   ]
  },
  {
   "cell_type": "code",
   "execution_count": 593,
   "metadata": {
    "collapsed": false
   },
   "outputs": [
    {
     "data": {
      "text/html": [
       "<div>\n",
       "<table border=\"1\" class=\"dataframe\">\n",
       "  <thead>\n",
       "    <tr style=\"text-align: right;\">\n",
       "      <th></th>\n",
       "      <th>3275</th>\n",
       "      <th>3276</th>\n",
       "      <th>3277</th>\n",
       "      <th>3278</th>\n",
       "      <th>3279</th>\n",
       "      <th>3280</th>\n",
       "      <th>3281</th>\n",
       "      <th>3282</th>\n",
       "      <th>3283</th>\n",
       "      <th>3284</th>\n",
       "      <th>...</th>\n",
       "      <th>4753</th>\n",
       "      <th>4754</th>\n",
       "      <th>4755</th>\n",
       "      <th>4756</th>\n",
       "      <th>4757</th>\n",
       "      <th>4758</th>\n",
       "      <th>4759</th>\n",
       "      <th>4760</th>\n",
       "      <th>4761</th>\n",
       "      <th>4762</th>\n",
       "    </tr>\n",
       "    <tr>\n",
       "      <th>LCLid</th>\n",
       "      <th></th>\n",
       "      <th></th>\n",
       "      <th></th>\n",
       "      <th></th>\n",
       "      <th></th>\n",
       "      <th></th>\n",
       "      <th></th>\n",
       "      <th></th>\n",
       "      <th></th>\n",
       "      <th></th>\n",
       "      <th></th>\n",
       "      <th></th>\n",
       "      <th></th>\n",
       "      <th></th>\n",
       "      <th></th>\n",
       "      <th></th>\n",
       "      <th></th>\n",
       "      <th></th>\n",
       "      <th></th>\n",
       "      <th></th>\n",
       "      <th></th>\n",
       "    </tr>\n",
       "  </thead>\n",
       "  <tbody>\n",
       "    <tr>\n",
       "      <th>DateTime</th>\n",
       "      <td>2013-12-01 00:00:00</td>\n",
       "      <td>2013-12-01 00:30:00</td>\n",
       "      <td>2013-12-01 01:00:00</td>\n",
       "      <td>2013-12-01 01:30:00</td>\n",
       "      <td>2013-12-01 02:00:00</td>\n",
       "      <td>2013-12-01 02:30:00</td>\n",
       "      <td>2013-12-01 03:00:00</td>\n",
       "      <td>2013-12-01 03:30:00</td>\n",
       "      <td>2013-12-01 04:00:00</td>\n",
       "      <td>2013-12-01 04:30:00</td>\n",
       "      <td>...</td>\n",
       "      <td>2013-12-31 19:00:00</td>\n",
       "      <td>2013-12-31 19:30:00</td>\n",
       "      <td>2013-12-31 20:00:00</td>\n",
       "      <td>2013-12-31 20:30:00</td>\n",
       "      <td>2013-12-31 21:00:00</td>\n",
       "      <td>2013-12-31 21:30:00</td>\n",
       "      <td>2013-12-31 22:00:00</td>\n",
       "      <td>2013-12-31 22:30:00</td>\n",
       "      <td>2013-12-31 23:00:00</td>\n",
       "      <td>2013-12-31 23:30:00</td>\n",
       "    </tr>\n",
       "    <tr>\n",
       "      <th>MAC000002</th>\n",
       "      <td>0.222</td>\n",
       "      <td>0.24</td>\n",
       "      <td>0.218</td>\n",
       "      <td>0.136</td>\n",
       "      <td>0.115</td>\n",
       "      <td>0.093</td>\n",
       "      <td>0.12</td>\n",
       "      <td>0.081</td>\n",
       "      <td>0.125</td>\n",
       "      <td>0.076</td>\n",
       "      <td>...</td>\n",
       "      <td>0.252</td>\n",
       "      <td>0.307</td>\n",
       "      <td>0.833</td>\n",
       "      <td>0.4</td>\n",
       "      <td>0.332</td>\n",
       "      <td>0.451</td>\n",
       "      <td>0.456</td>\n",
       "      <td>0.402</td>\n",
       "      <td>0.491</td>\n",
       "      <td>0.452</td>\n",
       "    </tr>\n",
       "    <tr>\n",
       "      <th>MAC000003</th>\n",
       "      <td>1.327</td>\n",
       "      <td>1.317</td>\n",
       "      <td>0.835</td>\n",
       "      <td>0.125</td>\n",
       "      <td>0.479</td>\n",
       "      <td>0.06</td>\n",
       "      <td>0.099</td>\n",
       "      <td>0.339</td>\n",
       "      <td>0.098</td>\n",
       "      <td>0.378</td>\n",
       "      <td>...</td>\n",
       "      <td>0.122</td>\n",
       "      <td>0.099</td>\n",
       "      <td>0.053</td>\n",
       "      <td>0.087</td>\n",
       "      <td>0.061</td>\n",
       "      <td>0.059</td>\n",
       "      <td>0.391</td>\n",
       "      <td>0.093</td>\n",
       "      <td>0.06</td>\n",
       "      <td>0.089</td>\n",
       "    </tr>\n",
       "    <tr>\n",
       "      <th>MAC000004</th>\n",
       "      <td>0</td>\n",
       "      <td>0</td>\n",
       "      <td>0.219</td>\n",
       "      <td>0</td>\n",
       "      <td>0</td>\n",
       "      <td>0</td>\n",
       "      <td>0</td>\n",
       "      <td>0</td>\n",
       "      <td>0.169</td>\n",
       "      <td>0</td>\n",
       "      <td>...</td>\n",
       "      <td>0.169</td>\n",
       "      <td>0</td>\n",
       "      <td>0</td>\n",
       "      <td>0</td>\n",
       "      <td>0.017</td>\n",
       "      <td>0.161</td>\n",
       "      <td>0</td>\n",
       "      <td>0</td>\n",
       "      <td>0</td>\n",
       "      <td>0.157</td>\n",
       "    </tr>\n",
       "    <tr>\n",
       "      <th>MAC000006</th>\n",
       "      <td>0.044</td>\n",
       "      <td>0.053</td>\n",
       "      <td>0.015</td>\n",
       "      <td>0.034</td>\n",
       "      <td>0.033</td>\n",
       "      <td>0.016</td>\n",
       "      <td>0.051</td>\n",
       "      <td>0.016</td>\n",
       "      <td>0.037</td>\n",
       "      <td>0.028</td>\n",
       "      <td>...</td>\n",
       "      <td>0.1</td>\n",
       "      <td>0.127</td>\n",
       "      <td>0.116</td>\n",
       "      <td>0.102</td>\n",
       "      <td>0.142</td>\n",
       "      <td>0.067</td>\n",
       "      <td>0.076</td>\n",
       "      <td>0.078</td>\n",
       "      <td>0.04</td>\n",
       "      <td>0.073</td>\n",
       "    </tr>\n",
       "  </tbody>\n",
       "</table>\n",
       "<p>5 rows × 1488 columns</p>\n",
       "</div>"
      ],
      "text/plain": [
       "                          3275                 3276                 3277  \\\n",
       "LCLid                                                                      \n",
       "DateTime   2013-12-01 00:00:00  2013-12-01 00:30:00  2013-12-01 01:00:00   \n",
       "MAC000002                0.222                 0.24                0.218   \n",
       "MAC000003                1.327                1.317                0.835   \n",
       "MAC000004                    0                    0                0.219   \n",
       "MAC000006                0.044                0.053                0.015   \n",
       "\n",
       "                          3278                 3279                 3280  \\\n",
       "LCLid                                                                      \n",
       "DateTime   2013-12-01 01:30:00  2013-12-01 02:00:00  2013-12-01 02:30:00   \n",
       "MAC000002                0.136                0.115                0.093   \n",
       "MAC000003                0.125                0.479                 0.06   \n",
       "MAC000004                    0                    0                    0   \n",
       "MAC000006                0.034                0.033                0.016   \n",
       "\n",
       "                          3281                 3282                 3283  \\\n",
       "LCLid                                                                      \n",
       "DateTime   2013-12-01 03:00:00  2013-12-01 03:30:00  2013-12-01 04:00:00   \n",
       "MAC000002                 0.12                0.081                0.125   \n",
       "MAC000003                0.099                0.339                0.098   \n",
       "MAC000004                    0                    0                0.169   \n",
       "MAC000006                0.051                0.016                0.037   \n",
       "\n",
       "                          3284         ...                          4753  \\\n",
       "LCLid                                  ...                                 \n",
       "DateTime   2013-12-01 04:30:00         ...           2013-12-31 19:00:00   \n",
       "MAC000002                0.076         ...                         0.252   \n",
       "MAC000003                0.378         ...                         0.122   \n",
       "MAC000004                    0         ...                         0.169   \n",
       "MAC000006                0.028         ...                           0.1   \n",
       "\n",
       "                          4754                 4755                 4756  \\\n",
       "LCLid                                                                      \n",
       "DateTime   2013-12-31 19:30:00  2013-12-31 20:00:00  2013-12-31 20:30:00   \n",
       "MAC000002                0.307                0.833                  0.4   \n",
       "MAC000003                0.099                0.053                0.087   \n",
       "MAC000004                    0                    0                    0   \n",
       "MAC000006                0.127                0.116                0.102   \n",
       "\n",
       "                          4757                 4758                 4759  \\\n",
       "LCLid                                                                      \n",
       "DateTime   2013-12-31 21:00:00  2013-12-31 21:30:00  2013-12-31 22:00:00   \n",
       "MAC000002                0.332                0.451                0.456   \n",
       "MAC000003                0.061                0.059                0.391   \n",
       "MAC000004                0.017                0.161                    0   \n",
       "MAC000006                0.142                0.067                0.076   \n",
       "\n",
       "                          4760                 4761                 4762  \n",
       "LCLid                                                                     \n",
       "DateTime   2013-12-31 22:30:00  2013-12-31 23:00:00  2013-12-31 23:30:00  \n",
       "MAC000002                0.402                0.491                0.452  \n",
       "MAC000003                0.093                 0.06                0.089  \n",
       "MAC000004                    0                    0                0.157  \n",
       "MAC000006                0.078                 0.04                0.073  \n",
       "\n",
       "[5 rows x 1488 columns]"
      ]
     },
     "execution_count": 593,
     "metadata": {},
     "output_type": "execute_result"
    }
   ],
   "source": [
    "df_p.T.head()"
   ]
  },
  {
   "cell_type": "code",
   "execution_count": 594,
   "metadata": {
    "collapsed": false
   },
   "outputs": [],
   "source": [
    "df_gr = df_p.groupby([\"Date\", \"Time\"], axis = 0).mean()"
   ]
  },
  {
   "cell_type": "code",
   "execution_count": 595,
   "metadata": {
    "collapsed": false
   },
   "outputs": [],
   "source": [
    "df_gr = df_gr.T"
   ]
  },
  {
   "cell_type": "code",
   "execution_count": 596,
   "metadata": {
    "collapsed": false
   },
   "outputs": [
    {
     "data": {
      "text/plain": [
       "(1926, 336)"
      ]
     },
     "execution_count": 596,
     "metadata": {},
     "output_type": "execute_result"
    }
   ],
   "source": [
    "df_gr.shape"
   ]
  },
  {
   "cell_type": "code",
   "execution_count": 597,
   "metadata": {
    "collapsed": false
   },
   "outputs": [],
   "source": [
    "df_gr = df_gr.reset_index()"
   ]
  },
  {
   "cell_type": "code",
   "execution_count": 598,
   "metadata": {
    "collapsed": false
   },
   "outputs": [],
   "source": [
    "df_gr = df_gr.merge(df_eco, on =\"LCLid\", how = \"inner\")"
   ]
  },
  {
   "cell_type": "code",
   "execution_count": 599,
   "metadata": {
    "collapsed": false
   },
   "outputs": [],
   "source": [
    "df_gr.dropna(axis = 0, inplace = True)"
   ]
  },
  {
   "cell_type": "code",
   "execution_count": 600,
   "metadata": {
    "collapsed": false
   },
   "outputs": [
    {
     "data": {
      "text/plain": [
       "(1746, 339)"
      ]
     },
     "execution_count": 600,
     "metadata": {},
     "output_type": "execute_result"
    }
   ],
   "source": [
    "df_gr.shape"
   ]
  },
  {
   "cell_type": "code",
   "execution_count": 601,
   "metadata": {
    "collapsed": false
   },
   "outputs": [],
   "source": [
    "df_gr = df_gr.merge(df_eco, on =\"LCLid\")"
   ]
  },
  {
   "cell_type": "code",
   "execution_count": 602,
   "metadata": {
    "collapsed": false
   },
   "outputs": [
    {
     "data": {
      "text/html": [
       "<div>\n",
       "<table border=\"1\" class=\"dataframe\">\n",
       "  <thead>\n",
       "    <tr style=\"text-align: right;\">\n",
       "      <th></th>\n",
       "      <th>LCLid</th>\n",
       "      <th>(LCLid, )</th>\n",
       "      <th>(0, 00:00:00)</th>\n",
       "      <th>(0, 00:30:00)</th>\n",
       "      <th>(0, 01:00:00)</th>\n",
       "      <th>(0, 01:30:00)</th>\n",
       "      <th>(0, 02:00:00)</th>\n",
       "      <th>(0, 02:30:00)</th>\n",
       "      <th>(0, 03:00:00)</th>\n",
       "      <th>(0, 03:30:00)</th>\n",
       "      <th>...</th>\n",
       "      <th>(6, 20:00:00)</th>\n",
       "      <th>(6, 20:30:00)</th>\n",
       "      <th>(6, 21:00:00)</th>\n",
       "      <th>(6, 21:30:00)</th>\n",
       "      <th>(6, 22:00:00)</th>\n",
       "      <th>(6, 22:30:00)</th>\n",
       "      <th>(6, 23:00:00)</th>\n",
       "      <th>(6, 23:30:00)</th>\n",
       "      <th>Acorn_grouped_x</th>\n",
       "      <th>Acorn_grouped_y</th>\n",
       "    </tr>\n",
       "  </thead>\n",
       "  <tbody>\n",
       "    <tr>\n",
       "      <th>0</th>\n",
       "      <td>MAC000002</td>\n",
       "      <td>MAC000002</td>\n",
       "      <td>0.3796</td>\n",
       "      <td>0.3480</td>\n",
       "      <td>0.2726</td>\n",
       "      <td>0.1916</td>\n",
       "      <td>0.1408</td>\n",
       "      <td>0.1214</td>\n",
       "      <td>0.0970</td>\n",
       "      <td>0.1142</td>\n",
       "      <td>...</td>\n",
       "      <td>1.1084</td>\n",
       "      <td>0.5670</td>\n",
       "      <td>0.4854</td>\n",
       "      <td>0.5292</td>\n",
       "      <td>0.5388</td>\n",
       "      <td>0.5700</td>\n",
       "      <td>0.3974</td>\n",
       "      <td>0.383</td>\n",
       "      <td>Affluent</td>\n",
       "      <td>Affluent</td>\n",
       "    </tr>\n",
       "    <tr>\n",
       "      <th>1</th>\n",
       "      <td>MAC000003</td>\n",
       "      <td>MAC000003</td>\n",
       "      <td>1.6474</td>\n",
       "      <td>1.6030</td>\n",
       "      <td>1.2880</td>\n",
       "      <td>0.4688</td>\n",
       "      <td>0.6350</td>\n",
       "      <td>0.5076</td>\n",
       "      <td>0.4814</td>\n",
       "      <td>0.5730</td>\n",
       "      <td>...</td>\n",
       "      <td>0.1884</td>\n",
       "      <td>0.1544</td>\n",
       "      <td>0.1612</td>\n",
       "      <td>0.1020</td>\n",
       "      <td>0.0756</td>\n",
       "      <td>0.1022</td>\n",
       "      <td>0.0790</td>\n",
       "      <td>0.079</td>\n",
       "      <td>Adversity</td>\n",
       "      <td>Adversity</td>\n",
       "    </tr>\n",
       "    <tr>\n",
       "      <th>2</th>\n",
       "      <td>MAC000004</td>\n",
       "      <td>MAC000004</td>\n",
       "      <td>0.0946</td>\n",
       "      <td>0.0342</td>\n",
       "      <td>0.0334</td>\n",
       "      <td>0.0000</td>\n",
       "      <td>0.0610</td>\n",
       "      <td>0.0598</td>\n",
       "      <td>0.0714</td>\n",
       "      <td>0.0000</td>\n",
       "      <td>...</td>\n",
       "      <td>0.0000</td>\n",
       "      <td>0.0322</td>\n",
       "      <td>0.0004</td>\n",
       "      <td>0.0344</td>\n",
       "      <td>0.1044</td>\n",
       "      <td>0.0354</td>\n",
       "      <td>0.0000</td>\n",
       "      <td>0.000</td>\n",
       "      <td>Affluent</td>\n",
       "      <td>Affluent</td>\n",
       "    </tr>\n",
       "    <tr>\n",
       "      <th>3</th>\n",
       "      <td>MAC000006</td>\n",
       "      <td>MAC000006</td>\n",
       "      <td>0.0402</td>\n",
       "      <td>0.0420</td>\n",
       "      <td>0.0382</td>\n",
       "      <td>0.0324</td>\n",
       "      <td>0.0230</td>\n",
       "      <td>0.0386</td>\n",
       "      <td>0.0238</td>\n",
       "      <td>0.0252</td>\n",
       "      <td>...</td>\n",
       "      <td>0.1080</td>\n",
       "      <td>0.1162</td>\n",
       "      <td>0.1294</td>\n",
       "      <td>0.1176</td>\n",
       "      <td>0.1096</td>\n",
       "      <td>0.0936</td>\n",
       "      <td>0.0574</td>\n",
       "      <td>0.056</td>\n",
       "      <td>Adversity</td>\n",
       "      <td>Adversity</td>\n",
       "    </tr>\n",
       "    <tr>\n",
       "      <th>4</th>\n",
       "      <td>MAC000007</td>\n",
       "      <td>MAC000007</td>\n",
       "      <td>0.0960</td>\n",
       "      <td>0.0612</td>\n",
       "      <td>0.0686</td>\n",
       "      <td>0.0632</td>\n",
       "      <td>0.0630</td>\n",
       "      <td>0.0666</td>\n",
       "      <td>0.0632</td>\n",
       "      <td>0.0778</td>\n",
       "      <td>...</td>\n",
       "      <td>0.2926</td>\n",
       "      <td>0.4422</td>\n",
       "      <td>0.2758</td>\n",
       "      <td>0.3778</td>\n",
       "      <td>0.4394</td>\n",
       "      <td>0.4212</td>\n",
       "      <td>0.2900</td>\n",
       "      <td>0.167</td>\n",
       "      <td>Comfortable</td>\n",
       "      <td>Comfortable</td>\n",
       "    </tr>\n",
       "  </tbody>\n",
       "</table>\n",
       "<p>5 rows × 340 columns</p>\n",
       "</div>"
      ],
      "text/plain": [
       "       LCLid  (LCLid, )  (0, 00:00:00)  (0, 00:30:00)  (0, 01:00:00)  \\\n",
       "0  MAC000002  MAC000002         0.3796         0.3480         0.2726   \n",
       "1  MAC000003  MAC000003         1.6474         1.6030         1.2880   \n",
       "2  MAC000004  MAC000004         0.0946         0.0342         0.0334   \n",
       "3  MAC000006  MAC000006         0.0402         0.0420         0.0382   \n",
       "4  MAC000007  MAC000007         0.0960         0.0612         0.0686   \n",
       "\n",
       "   (0, 01:30:00)  (0, 02:00:00)  (0, 02:30:00)  (0, 03:00:00)  (0, 03:30:00)  \\\n",
       "0         0.1916         0.1408         0.1214         0.0970         0.1142   \n",
       "1         0.4688         0.6350         0.5076         0.4814         0.5730   \n",
       "2         0.0000         0.0610         0.0598         0.0714         0.0000   \n",
       "3         0.0324         0.0230         0.0386         0.0238         0.0252   \n",
       "4         0.0632         0.0630         0.0666         0.0632         0.0778   \n",
       "\n",
       "        ...         (6, 20:00:00)  (6, 20:30:00)  (6, 21:00:00)  \\\n",
       "0       ...                1.1084         0.5670         0.4854   \n",
       "1       ...                0.1884         0.1544         0.1612   \n",
       "2       ...                0.0000         0.0322         0.0004   \n",
       "3       ...                0.1080         0.1162         0.1294   \n",
       "4       ...                0.2926         0.4422         0.2758   \n",
       "\n",
       "   (6, 21:30:00)  (6, 22:00:00)  (6, 22:30:00)  (6, 23:00:00)  (6, 23:30:00)  \\\n",
       "0         0.5292         0.5388         0.5700         0.3974          0.383   \n",
       "1         0.1020         0.0756         0.1022         0.0790          0.079   \n",
       "2         0.0344         0.1044         0.0354         0.0000          0.000   \n",
       "3         0.1176         0.1096         0.0936         0.0574          0.056   \n",
       "4         0.3778         0.4394         0.4212         0.2900          0.167   \n",
       "\n",
       "   Acorn_grouped_x  Acorn_grouped_y  \n",
       "0         Affluent         Affluent  \n",
       "1        Adversity        Adversity  \n",
       "2         Affluent         Affluent  \n",
       "3        Adversity        Adversity  \n",
       "4      Comfortable      Comfortable  \n",
       "\n",
       "[5 rows x 340 columns]"
      ]
     },
     "execution_count": 602,
     "metadata": {},
     "output_type": "execute_result"
    }
   ],
   "source": [
    "df_gr.head()"
   ]
  },
  {
   "cell_type": "code",
   "execution_count": 603,
   "metadata": {
    "collapsed": false
   },
   "outputs": [],
   "source": [
    "## drop the houses with unknown mark \"Acorn-U\"\n",
    "df_gr = df_gr[df_gr.iloc[:, -1] != 'ACORN-U']"
   ]
  },
  {
   "cell_type": "code",
   "execution_count": 604,
   "metadata": {
    "collapsed": false
   },
   "outputs": [
    {
     "data": {
      "text/html": [
       "<div>\n",
       "<table border=\"1\" class=\"dataframe\">\n",
       "  <thead>\n",
       "    <tr style=\"text-align: right;\">\n",
       "      <th></th>\n",
       "      <th>LCLid</th>\n",
       "      <th>(LCLid, )</th>\n",
       "      <th>(0, 00:00:00)</th>\n",
       "      <th>(0, 00:30:00)</th>\n",
       "      <th>(0, 01:00:00)</th>\n",
       "      <th>(0, 01:30:00)</th>\n",
       "      <th>(0, 02:00:00)</th>\n",
       "      <th>(0, 02:30:00)</th>\n",
       "      <th>(0, 03:00:00)</th>\n",
       "      <th>(0, 03:30:00)</th>\n",
       "      <th>...</th>\n",
       "      <th>(6, 20:00:00)</th>\n",
       "      <th>(6, 20:30:00)</th>\n",
       "      <th>(6, 21:00:00)</th>\n",
       "      <th>(6, 21:30:00)</th>\n",
       "      <th>(6, 22:00:00)</th>\n",
       "      <th>(6, 22:30:00)</th>\n",
       "      <th>(6, 23:00:00)</th>\n",
       "      <th>(6, 23:30:00)</th>\n",
       "      <th>Acorn_grouped_x</th>\n",
       "      <th>Acorn_grouped_y</th>\n",
       "    </tr>\n",
       "  </thead>\n",
       "  <tbody>\n",
       "    <tr>\n",
       "      <th>0</th>\n",
       "      <td>MAC000002</td>\n",
       "      <td>MAC000002</td>\n",
       "      <td>0.3796</td>\n",
       "      <td>0.3480</td>\n",
       "      <td>0.2726</td>\n",
       "      <td>0.1916</td>\n",
       "      <td>0.1408</td>\n",
       "      <td>0.1214</td>\n",
       "      <td>0.0970</td>\n",
       "      <td>0.1142</td>\n",
       "      <td>...</td>\n",
       "      <td>1.1084</td>\n",
       "      <td>0.5670</td>\n",
       "      <td>0.4854</td>\n",
       "      <td>0.5292</td>\n",
       "      <td>0.5388</td>\n",
       "      <td>0.5700</td>\n",
       "      <td>0.3974</td>\n",
       "      <td>0.383</td>\n",
       "      <td>Affluent</td>\n",
       "      <td>Affluent</td>\n",
       "    </tr>\n",
       "    <tr>\n",
       "      <th>1</th>\n",
       "      <td>MAC000003</td>\n",
       "      <td>MAC000003</td>\n",
       "      <td>1.6474</td>\n",
       "      <td>1.6030</td>\n",
       "      <td>1.2880</td>\n",
       "      <td>0.4688</td>\n",
       "      <td>0.6350</td>\n",
       "      <td>0.5076</td>\n",
       "      <td>0.4814</td>\n",
       "      <td>0.5730</td>\n",
       "      <td>...</td>\n",
       "      <td>0.1884</td>\n",
       "      <td>0.1544</td>\n",
       "      <td>0.1612</td>\n",
       "      <td>0.1020</td>\n",
       "      <td>0.0756</td>\n",
       "      <td>0.1022</td>\n",
       "      <td>0.0790</td>\n",
       "      <td>0.079</td>\n",
       "      <td>Adversity</td>\n",
       "      <td>Adversity</td>\n",
       "    </tr>\n",
       "    <tr>\n",
       "      <th>2</th>\n",
       "      <td>MAC000004</td>\n",
       "      <td>MAC000004</td>\n",
       "      <td>0.0946</td>\n",
       "      <td>0.0342</td>\n",
       "      <td>0.0334</td>\n",
       "      <td>0.0000</td>\n",
       "      <td>0.0610</td>\n",
       "      <td>0.0598</td>\n",
       "      <td>0.0714</td>\n",
       "      <td>0.0000</td>\n",
       "      <td>...</td>\n",
       "      <td>0.0000</td>\n",
       "      <td>0.0322</td>\n",
       "      <td>0.0004</td>\n",
       "      <td>0.0344</td>\n",
       "      <td>0.1044</td>\n",
       "      <td>0.0354</td>\n",
       "      <td>0.0000</td>\n",
       "      <td>0.000</td>\n",
       "      <td>Affluent</td>\n",
       "      <td>Affluent</td>\n",
       "    </tr>\n",
       "    <tr>\n",
       "      <th>3</th>\n",
       "      <td>MAC000006</td>\n",
       "      <td>MAC000006</td>\n",
       "      <td>0.0402</td>\n",
       "      <td>0.0420</td>\n",
       "      <td>0.0382</td>\n",
       "      <td>0.0324</td>\n",
       "      <td>0.0230</td>\n",
       "      <td>0.0386</td>\n",
       "      <td>0.0238</td>\n",
       "      <td>0.0252</td>\n",
       "      <td>...</td>\n",
       "      <td>0.1080</td>\n",
       "      <td>0.1162</td>\n",
       "      <td>0.1294</td>\n",
       "      <td>0.1176</td>\n",
       "      <td>0.1096</td>\n",
       "      <td>0.0936</td>\n",
       "      <td>0.0574</td>\n",
       "      <td>0.056</td>\n",
       "      <td>Adversity</td>\n",
       "      <td>Adversity</td>\n",
       "    </tr>\n",
       "    <tr>\n",
       "      <th>4</th>\n",
       "      <td>MAC000007</td>\n",
       "      <td>MAC000007</td>\n",
       "      <td>0.0960</td>\n",
       "      <td>0.0612</td>\n",
       "      <td>0.0686</td>\n",
       "      <td>0.0632</td>\n",
       "      <td>0.0630</td>\n",
       "      <td>0.0666</td>\n",
       "      <td>0.0632</td>\n",
       "      <td>0.0778</td>\n",
       "      <td>...</td>\n",
       "      <td>0.2926</td>\n",
       "      <td>0.4422</td>\n",
       "      <td>0.2758</td>\n",
       "      <td>0.3778</td>\n",
       "      <td>0.4394</td>\n",
       "      <td>0.4212</td>\n",
       "      <td>0.2900</td>\n",
       "      <td>0.167</td>\n",
       "      <td>Comfortable</td>\n",
       "      <td>Comfortable</td>\n",
       "    </tr>\n",
       "  </tbody>\n",
       "</table>\n",
       "<p>5 rows × 340 columns</p>\n",
       "</div>"
      ],
      "text/plain": [
       "       LCLid  (LCLid, )  (0, 00:00:00)  (0, 00:30:00)  (0, 01:00:00)  \\\n",
       "0  MAC000002  MAC000002         0.3796         0.3480         0.2726   \n",
       "1  MAC000003  MAC000003         1.6474         1.6030         1.2880   \n",
       "2  MAC000004  MAC000004         0.0946         0.0342         0.0334   \n",
       "3  MAC000006  MAC000006         0.0402         0.0420         0.0382   \n",
       "4  MAC000007  MAC000007         0.0960         0.0612         0.0686   \n",
       "\n",
       "   (0, 01:30:00)  (0, 02:00:00)  (0, 02:30:00)  (0, 03:00:00)  (0, 03:30:00)  \\\n",
       "0         0.1916         0.1408         0.1214         0.0970         0.1142   \n",
       "1         0.4688         0.6350         0.5076         0.4814         0.5730   \n",
       "2         0.0000         0.0610         0.0598         0.0714         0.0000   \n",
       "3         0.0324         0.0230         0.0386         0.0238         0.0252   \n",
       "4         0.0632         0.0630         0.0666         0.0632         0.0778   \n",
       "\n",
       "        ...         (6, 20:00:00)  (6, 20:30:00)  (6, 21:00:00)  \\\n",
       "0       ...                1.1084         0.5670         0.4854   \n",
       "1       ...                0.1884         0.1544         0.1612   \n",
       "2       ...                0.0000         0.0322         0.0004   \n",
       "3       ...                0.1080         0.1162         0.1294   \n",
       "4       ...                0.2926         0.4422         0.2758   \n",
       "\n",
       "   (6, 21:30:00)  (6, 22:00:00)  (6, 22:30:00)  (6, 23:00:00)  (6, 23:30:00)  \\\n",
       "0         0.5292         0.5388         0.5700         0.3974          0.383   \n",
       "1         0.1020         0.0756         0.1022         0.0790          0.079   \n",
       "2         0.0344         0.1044         0.0354         0.0000          0.000   \n",
       "3         0.1176         0.1096         0.0936         0.0574          0.056   \n",
       "4         0.3778         0.4394         0.4212         0.2900          0.167   \n",
       "\n",
       "   Acorn_grouped_x  Acorn_grouped_y  \n",
       "0         Affluent         Affluent  \n",
       "1        Adversity        Adversity  \n",
       "2         Affluent         Affluent  \n",
       "3        Adversity        Adversity  \n",
       "4      Comfortable      Comfortable  \n",
       "\n",
       "[5 rows x 340 columns]"
      ]
     },
     "execution_count": 604,
     "metadata": {},
     "output_type": "execute_result"
    }
   ],
   "source": [
    "df_gr.head()"
   ]
  },
  {
   "cell_type": "markdown",
   "metadata": {
    "collapsed": false
   },
   "source": [
    "## Let's run the Logistic Regression"
   ]
  },
  {
   "cell_type": "code",
   "execution_count": 616,
   "metadata": {
    "collapsed": false
   },
   "outputs": [],
   "source": [
    "from sklearn.linear_model import LogisticRegression\n",
    "\n",
    "from sklearn.cross_validation import train_test_split\n",
    "\n",
    "X_train, X_test, y_train, y_test = train_test_split(np.asarray(train), df_gr.Acorn_grouped_x, test_size=0.33)\n",
    "\n",
    "logit = LogisticRegression(C=1e5)\n",
    "logit.fit(np.c_[X_train], y_train)\n",
    "logit.intercept_\n",
    "\n",
    "predlabels = logit.predict(X_test)\n",
    "predlabels = predlabels.astype(str)\n",
    "\n",
    "truelabels = y_test\n"
   ]
  },
  {
   "cell_type": "code",
   "execution_count": 617,
   "metadata": {
    "collapsed": false
   },
   "outputs": [
    {
     "data": {
      "text/plain": [
       "array([[85, 69, 46],\n",
       "       [75, 85, 57],\n",
       "       [77, 40, 40]])"
      ]
     },
     "execution_count": 617,
     "metadata": {},
     "output_type": "execute_result"
    }
   ],
   "source": [
    "from sklearn.metrics import confusion_matrix\n",
    "mat = confusion_matrix(truelabels, predlabels)\n",
    "mat"
   ]
  },
  {
   "cell_type": "code",
   "execution_count": 618,
   "metadata": {
    "collapsed": false
   },
   "outputs": [
    {
     "name": "stdout",
     "output_type": "stream",
     "text": [
      "The accuracy of my model is 36.59%\n"
     ]
    }
   ],
   "source": [
    "acc = 100*float(mat[0][0]+mat[1][1]+mat[2][2])/np.sum(mat)\n",
    "print (\"The accuracy of my model is %0.2f%%\"%acc)"
   ]
  },
  {
   "cell_type": "markdown",
   "metadata": {},
   "source": [
    "## The accuracy of my model is low for logistic regression. "
   ]
  },
  {
   "cell_type": "markdown",
   "metadata": {},
   "source": [
    "## Normalize the data for PCA:\n"
   ]
  },
  {
   "cell_type": "code",
   "execution_count": 650,
   "metadata": {
    "collapsed": false
   },
   "outputs": [],
   "source": [
    "df_mean = np.nanmean(df_gr.iloc[:,2:-2], axis = 1)\n",
    "df_std = np.nanmean(df_gr.iloc[:,2:-2], axis = 1)\n",
    "df_gr.iloc[:,2:-2] = df_gr.iloc[:,2:-2].apply(lambda x: (x - df_mean)/df_std)"
   ]
  },
  {
   "cell_type": "markdown",
   "metadata": {},
   "source": [
    "## PCA"
   ]
  },
  {
   "cell_type": "code",
   "execution_count": 659,
   "metadata": {
    "collapsed": false
   },
   "outputs": [],
   "source": [
    "df_gr_nor = df_gr.copy()\n",
    "df_gr_nor = df_gr_nor.dropna(how = \"any\")"
   ]
  },
  {
   "cell_type": "code",
   "execution_count": 695,
   "metadata": {
    "collapsed": false
   },
   "outputs": [
    {
     "name": "stdout",
     "output_type": "stream",
     "text": [
      "the accuracy of my model for IS is 0.4342, for OS is 0.3909\n",
      "0.857769936319\n"
     ]
    },
    {
     "data": {
      "image/png": "[encoded data removed]",
      "text/plain": [
       "<matplotlib.figure.Figure at 0x7f0eeb2e5c50>"
      ]
     },
     "metadata": {},
     "output_type": "display_data"
    }
   ],
   "source": [
    "n=8\n",
    "pca = PCA(n)\n",
    "acc_OS_1 = []\n",
    "acc_IS_1 = []\n",
    "\n",
    "X_train, X_test, y_train, y_test = train_test_split(np.asarray(df_gr_nor.iloc[:,2:-2]), df_gr_nor.Acorn_grouped_x, test_size=0.33)\n",
    "\n",
    "Xproj = pca.fit_transform(X_train)\n",
    "logit.fit(np.c_[Xproj], y_train)\n",
    "predlabels_IS = logit.predict(Xproj)\n",
    "predlabels_IS = predlabels_IS.astype(str)\n",
    "\n",
    "predlabels_OS = logit.predict(pca.fit_transform(X_test))\n",
    "predlabels_OS = predlabels_OS.astype(str)\n",
    "\n",
    "truelabels_IS = y_train\n",
    "truelabels_OS = y_test\n",
    "\n",
    "mat_IS = confusion_matrix(truelabels_IS, predlabels_IS)\n",
    "mat_OS = confusion_matrix(truelabels_OS, predlabels_OS)\n",
    "\n",
    "acc_IS = float(mat_IS[0][0]+mat_IS[1][1]+mat_IS[2][2])/np.sum(mat_IS)\n",
    "acc_OS = float(mat_OS[0][0]+mat_OS[1][1]+mat_OS[2][2])/np.sum(mat_OS)\n",
    "\n",
    "print (\"the accuracy of my model for IS is %0.4f, for OS is %0.4f\")%(acc_IS, acc_OS)\n",
    "print pca.explained_variance_ratio_.sum()\n",
    "\n",
    "eigenvalues = pca.explained_variance_ratio_\n",
    "plt.plot(np.arange(n), eigenvalues, 'o')\n",
    "plt.xlabel(\"Dimensionality\")\n",
    "plt.ylabel(\"Explained Variance Ratio\")\n",
    "plt.show()\n"
   ]
  },
  {
   "cell_type": "markdown",
   "metadata": {},
   "source": [
    "---"
   ]
  },
  {
   "cell_type": "markdown",
   "metadata": {},
   "source": [
    "### Cluster"
   ]
  },
  {
   "cell_type": "code",
   "execution_count": 744,
   "metadata": {
    "collapsed": false
   },
   "outputs": [
    {
     "data": {
      "text/html": [
       "<div>\n",
       "<table border=\"1\" class=\"dataframe\">\n",
       "  <thead>\n",
       "    <tr style=\"text-align: right;\">\n",
       "      <th></th>\n",
       "      <th>LCLid</th>\n",
       "      <th>(LCLid, )</th>\n",
       "      <th>(0, 00:00:00)</th>\n",
       "      <th>(0, 00:30:00)</th>\n",
       "      <th>(0, 01:00:00)</th>\n",
       "      <th>(0, 01:30:00)</th>\n",
       "      <th>(0, 02:00:00)</th>\n",
       "      <th>(0, 02:30:00)</th>\n",
       "      <th>(0, 03:00:00)</th>\n",
       "      <th>(0, 03:30:00)</th>\n",
       "      <th>...</th>\n",
       "      <th>(6, 20:00:00)</th>\n",
       "      <th>(6, 20:30:00)</th>\n",
       "      <th>(6, 21:00:00)</th>\n",
       "      <th>(6, 21:30:00)</th>\n",
       "      <th>(6, 22:00:00)</th>\n",
       "      <th>(6, 22:30:00)</th>\n",
       "      <th>(6, 23:00:00)</th>\n",
       "      <th>(6, 23:30:00)</th>\n",
       "      <th>Acorn_grouped_x</th>\n",
       "      <th>Acorn_grouped_y</th>\n",
       "    </tr>\n",
       "  </thead>\n",
       "  <tbody>\n",
       "    <tr>\n",
       "      <th>0</th>\n",
       "      <td>MAC000002</td>\n",
       "      <td>MAC000002</td>\n",
       "      <td>0.507086</td>\n",
       "      <td>0.381628</td>\n",
       "      <td>0.082275</td>\n",
       "      <td>-0.239311</td>\n",
       "      <td>-0.440997</td>\n",
       "      <td>-0.518018</td>\n",
       "      <td>-0.614891</td>\n",
       "      <td>-0.546604</td>\n",
       "      <td>...</td>\n",
       "      <td>3.400564</td>\n",
       "      <td>1.251101</td>\n",
       "      <td>0.927133</td>\n",
       "      <td>1.101027</td>\n",
       "      <td>1.139141</td>\n",
       "      <td>1.263011</td>\n",
       "      <td>0.577756</td>\n",
       "      <td>0.520585</td>\n",
       "      <td>Affluent</td>\n",
       "      <td>Affluent</td>\n",
       "    </tr>\n",
       "    <tr>\n",
       "      <th>1</th>\n",
       "      <td>MAC000003</td>\n",
       "      <td>MAC000003</td>\n",
       "      <td>3.828483</td>\n",
       "      <td>3.698348</td>\n",
       "      <td>2.775091</td>\n",
       "      <td>0.374040</td>\n",
       "      <td>0.861167</td>\n",
       "      <td>0.487761</td>\n",
       "      <td>0.410970</td>\n",
       "      <td>0.679447</td>\n",
       "      <td>...</td>\n",
       "      <td>-0.447805</td>\n",
       "      <td>-0.547458</td>\n",
       "      <td>-0.527527</td>\n",
       "      <td>-0.701041</td>\n",
       "      <td>-0.778419</td>\n",
       "      <td>-0.700455</td>\n",
       "      <td>-0.768453</td>\n",
       "      <td>-0.768453</td>\n",
       "      <td>Adversity</td>\n",
       "      <td>Adversity</td>\n",
       "    </tr>\n",
       "    <tr>\n",
       "      <th>2</th>\n",
       "      <td>MAC000004</td>\n",
       "      <td>MAC000004</td>\n",
       "      <td>1.571671</td>\n",
       "      <td>-0.070284</td>\n",
       "      <td>-0.092031</td>\n",
       "      <td>-1.000000</td>\n",
       "      <td>0.658266</td>\n",
       "      <td>0.625644</td>\n",
       "      <td>0.940987</td>\n",
       "      <td>-1.000000</td>\n",
       "      <td>...</td>\n",
       "      <td>-1.000000</td>\n",
       "      <td>-0.124653</td>\n",
       "      <td>-0.989126</td>\n",
       "      <td>-0.064847</td>\n",
       "      <td>1.838081</td>\n",
       "      <td>-0.037662</td>\n",
       "      <td>-1.000000</td>\n",
       "      <td>-1.000000</td>\n",
       "      <td>Affluent</td>\n",
       "      <td>Affluent</td>\n",
       "    </tr>\n",
       "    <tr>\n",
       "      <th>3</th>\n",
       "      <td>MAC000006</td>\n",
       "      <td>MAC000006</td>\n",
       "      <td>-0.476556</td>\n",
       "      <td>-0.453119</td>\n",
       "      <td>-0.502598</td>\n",
       "      <td>-0.578120</td>\n",
       "      <td>-0.700517</td>\n",
       "      <td>-0.497390</td>\n",
       "      <td>-0.690101</td>\n",
       "      <td>-0.671871</td>\n",
       "      <td>...</td>\n",
       "      <td>0.406266</td>\n",
       "      <td>0.513038</td>\n",
       "      <td>0.684915</td>\n",
       "      <td>0.531268</td>\n",
       "      <td>0.427100</td>\n",
       "      <td>0.218764</td>\n",
       "      <td>-0.252595</td>\n",
       "      <td>-0.270825</td>\n",
       "      <td>Adversity</td>\n",
       "      <td>Adversity</td>\n",
       "    </tr>\n",
       "    <tr>\n",
       "      <th>4</th>\n",
       "      <td>MAC000007</td>\n",
       "      <td>MAC000007</td>\n",
       "      <td>-0.636321</td>\n",
       "      <td>-0.768154</td>\n",
       "      <td>-0.740121</td>\n",
       "      <td>-0.760578</td>\n",
       "      <td>-0.761335</td>\n",
       "      <td>-0.747697</td>\n",
       "      <td>-0.760578</td>\n",
       "      <td>-0.705268</td>\n",
       "      <td>...</td>\n",
       "      <td>0.108464</td>\n",
       "      <td>0.675198</td>\n",
       "      <td>0.044820</td>\n",
       "      <td>0.431230</td>\n",
       "      <td>0.664591</td>\n",
       "      <td>0.595643</td>\n",
       "      <td>0.098615</td>\n",
       "      <td>-0.367349</td>\n",
       "      <td>Comfortable</td>\n",
       "      <td>Comfortable</td>\n",
       "    </tr>\n",
       "  </tbody>\n",
       "</table>\n",
       "<p>5 rows × 340 columns</p>\n",
       "</div>"
      ],
      "text/plain": [
       "       LCLid  (LCLid, )  (0, 00:00:00)  (0, 00:30:00)  (0, 01:00:00)  \\\n",
       "0  MAC000002  MAC000002       0.507086       0.381628       0.082275   \n",
       "1  MAC000003  MAC000003       3.828483       3.698348       2.775091   \n",
       "2  MAC000004  MAC000004       1.571671      -0.070284      -0.092031   \n",
       "3  MAC000006  MAC000006      -0.476556      -0.453119      -0.502598   \n",
       "4  MAC000007  MAC000007      -0.636321      -0.768154      -0.740121   \n",
       "\n",
       "   (0, 01:30:00)  (0, 02:00:00)  (0, 02:30:00)  (0, 03:00:00)  (0, 03:30:00)  \\\n",
       "0      -0.239311      -0.440997      -0.518018      -0.614891      -0.546604   \n",
       "1       0.374040       0.861167       0.487761       0.410970       0.679447   \n",
       "2      -1.000000       0.658266       0.625644       0.940987      -1.000000   \n",
       "3      -0.578120      -0.700517      -0.497390      -0.690101      -0.671871   \n",
       "4      -0.760578      -0.761335      -0.747697      -0.760578      -0.705268   \n",
       "\n",
       "        ...         (6, 20:00:00)  (6, 20:30:00)  (6, 21:00:00)  \\\n",
       "0       ...              3.400564       1.251101       0.927133   \n",
       "1       ...             -0.447805      -0.547458      -0.527527   \n",
       "2       ...             -1.000000      -0.124653      -0.989126   \n",
       "3       ...              0.406266       0.513038       0.684915   \n",
       "4       ...              0.108464       0.675198       0.044820   \n",
       "\n",
       "   (6, 21:30:00)  (6, 22:00:00)  (6, 22:30:00)  (6, 23:00:00)  (6, 23:30:00)  \\\n",
       "0       1.101027       1.139141       1.263011       0.577756       0.520585   \n",
       "1      -0.701041      -0.778419      -0.700455      -0.768453      -0.768453   \n",
       "2      -0.064847       1.838081      -0.037662      -1.000000      -1.000000   \n",
       "3       0.531268       0.427100       0.218764      -0.252595      -0.270825   \n",
       "4       0.431230       0.664591       0.595643       0.098615      -0.367349   \n",
       "\n",
       "   Acorn_grouped_x  Acorn_grouped_y  \n",
       "0         Affluent         Affluent  \n",
       "1        Adversity        Adversity  \n",
       "2         Affluent         Affluent  \n",
       "3        Adversity        Adversity  \n",
       "4      Comfortable      Comfortable  \n",
       "\n",
       "[5 rows x 340 columns]"
      ]
     },
     "execution_count": 744,
     "metadata": {},
     "output_type": "execute_result"
    }
   ],
   "source": [
    "df_gr_nor.head()"
   ]
  },
  {
   "cell_type": "code",
   "execution_count": 746,
   "metadata": {
    "collapsed": true
   },
   "outputs": [],
   "source": [
    "from sklearn.cluster import KMeans"
   ]
  },
  {
   "cell_type": "code",
   "execution_count": 747,
   "metadata": {
    "collapsed": false
   },
   "outputs": [],
   "source": [
    "model = KMeans(n_clusters=3).fit(df_gr_nor.iloc[:,2:-2])"
   ]
  },
  {
   "cell_type": "code",
   "execution_count": 749,
   "metadata": {
    "collapsed": false
   },
   "outputs": [
    {
     "name": "stderr",
     "output_type": "stream",
     "text": [
      "/opt/rh/anaconda/root/envs/PUI2016_Python2/lib/python2.7/site-packages/ipykernel/__main__.py:1: SettingWithCopyWarning: \n",
      "A value is trying to be set on a copy of a slice from a DataFrame.\n",
      "Try using .loc[row_indexer,col_indexer] = value instead\n",
      "\n",
      "See the caveats in the documentation: http://pandas.pydata.org/pandas-docs/stable/indexing.html#indexing-view-versus-copy\n",
      "  if __name__ == '__main__':\n"
     ]
    }
   ],
   "source": [
    "df_gr_nor[\"clusterlabel\"] = model.labels_"
   ]
  },
  {
   "cell_type": "code",
   "execution_count": 755,
   "metadata": {
    "collapsed": false
   },
   "outputs": [
    {
     "data": {
      "text/html": [
       "<div>\n",
       "<table border=\"1\" class=\"dataframe\">\n",
       "  <thead>\n",
       "    <tr style=\"text-align: right;\">\n",
       "      <th></th>\n",
       "      <th>Acorn_grouped_y</th>\n",
       "      <th>clusterlabel</th>\n",
       "    </tr>\n",
       "  </thead>\n",
       "  <tbody>\n",
       "    <tr>\n",
       "      <th>0</th>\n",
       "      <td>Affluent</td>\n",
       "      <td>0</td>\n",
       "    </tr>\n",
       "    <tr>\n",
       "      <th>1</th>\n",
       "      <td>Adversity</td>\n",
       "      <td>0</td>\n",
       "    </tr>\n",
       "    <tr>\n",
       "      <th>2</th>\n",
       "      <td>Affluent</td>\n",
       "      <td>0</td>\n",
       "    </tr>\n",
       "    <tr>\n",
       "      <th>3</th>\n",
       "      <td>Adversity</td>\n",
       "      <td>0</td>\n",
       "    </tr>\n",
       "    <tr>\n",
       "      <th>4</th>\n",
       "      <td>Comfortable</td>\n",
       "      <td>0</td>\n",
       "    </tr>\n",
       "    <tr>\n",
       "      <th>5</th>\n",
       "      <td>Adversity</td>\n",
       "      <td>0</td>\n",
       "    </tr>\n",
       "    <tr>\n",
       "      <th>6</th>\n",
       "      <td>Comfortable</td>\n",
       "      <td>0</td>\n",
       "    </tr>\n",
       "    <tr>\n",
       "      <th>7</th>\n",
       "      <td>Adversity</td>\n",
       "      <td>0</td>\n",
       "    </tr>\n",
       "    <tr>\n",
       "      <th>8</th>\n",
       "      <td>Affluent</td>\n",
       "      <td>0</td>\n",
       "    </tr>\n",
       "    <tr>\n",
       "      <th>9</th>\n",
       "      <td>Adversity</td>\n",
       "      <td>0</td>\n",
       "    </tr>\n",
       "  </tbody>\n",
       "</table>\n",
       "</div>"
      ],
      "text/plain": [
       "  Acorn_grouped_y  clusterlabel\n",
       "0        Affluent             0\n",
       "1       Adversity             0\n",
       "2        Affluent             0\n",
       "3       Adversity             0\n",
       "4     Comfortable             0\n",
       "5       Adversity             0\n",
       "6     Comfortable             0\n",
       "7       Adversity             0\n",
       "8        Affluent             0\n",
       "9       Adversity             0"
      ]
     },
     "execution_count": 755,
     "metadata": {},
     "output_type": "execute_result"
    }
   ],
   "source": [
    "df_gr_nor.iloc[:, -2:].head(10)"
   ]
  },
  {
   "cell_type": "markdown",
   "metadata": {},
   "source": [
    "## The clustering results do not seem right at all! "
   ]
  },
  {
   "cell_type": "markdown",
   "metadata": {
    "collapsed": true
   },
   "source": [
    "---"
   ]
  },
  {
   "cell_type": "markdown",
   "metadata": {},
   "source": [
    "## Cross Validation, with different regularized force of logistic regression"
   ]
  },
  {
   "cell_type": "code",
   "execution_count": 742,
   "metadata": {
    "collapsed": false
   },
   "outputs": [
    {
     "name": "stdout",
     "output_type": "stream",
     "text": [
      "The accuracy of logistic regression OS is 0.4104%, with C= 0.0100\n",
      "The accuracy of logistic regression IS is 0.4394%, with C= 0.0100\n",
      "The accuracy of logistic regression OS is 0.4096%, with C= 0.0010\n",
      "The accuracy of logistic regression IS is 0.4330%, with C= 0.0010\n",
      "The accuracy of logistic regression OS is 0.4075%, with C= 0.0001\n",
      "The accuracy of logistic regression IS is 0.4294%, with C= 0.0001\n"
     ]
    }
   ],
   "source": [
    "n=50\n",
    "acc_OS_1 = []\n",
    "acc_IS_1 = []\n",
    "l = [0.01, 0.001, 0.0001]\n",
    "\n",
    "\n",
    "from sklearn.cross_validation import train_test_split\n",
    "\n",
    "for j in l:\n",
    "    logit = LogisticRegression(C=j)\n",
    "    \n",
    "    for i in range(n):\n",
    "        X_train, X_test, y_train, y_test = train_test_split(np.asarray(train.iloc[:, :-2]), df_gr.Acorn_grouped_x, test_size=0.33)\n",
    "        logit.fit(np.c_[X_train], y_train)\n",
    "        predlabels_IS = logit.predict(X_train)\n",
    "        predlabels_IS = predlabels_IS.astype(str)\n",
    "\n",
    "        predlabels_OS = logit.predict(X_test)\n",
    "        predlabels_OS = predlabels_OS.astype(str)\n",
    "\n",
    "        truelabels_IS = y_train\n",
    "        truelabels_OS = y_test\n",
    "\n",
    "        mat_IS = confusion_matrix(truelabels_IS, predlabels_IS)\n",
    "        mat_OS = confusion_matrix(truelabels_OS, predlabels_OS)\n",
    "\n",
    "        acc_IS = float(mat_IS[0][0]+mat_IS[1][1]+mat_IS[2][2])/np.sum(mat_IS)\n",
    "        acc_OS = float(mat_OS[0][0]+mat_OS[1][1]+mat_OS[2][2])/np.sum(mat_OS)\n",
    "\n",
    "        acc_IS_1.append(acc_IS)                                                                     \n",
    "        acc_OS_1.append(acc_OS)\n",
    "   \n",
    "    print (\"The accuracy of logistic regression OS is %0.4f%%, with C= %0.4f\"%(np.array(acc_OS_1).mean(),j))\n",
    "    print (\"The accuracy of logistic regression IS is %0.4f%%, with C= %0.4f\"%(np.array(acc_IS_1).mean(),j))\n"
   ]
  },
  {
   "cell_type": "code",
   "execution_count": 410,
   "metadata": {
    "collapsed": false
   },
   "outputs": [
    {
     "name": "stderr",
     "output_type": "stream",
     "text": [
      "/opt/rh/anaconda/root/envs/PUI2016_Python2/lib/python2.7/site-packages/pandas/core/generic.py:2701: SettingWithCopyWarning: \n",
      "A value is trying to be set on a copy of a slice from a DataFrame.\n",
      "Try using .loc[row_indexer,col_indexer] = value instead\n",
      "\n",
      "See the caveats in the documentation: http://pandas.pydata.org/pandas-docs/stable/indexing.html#indexing-view-versus-copy\n",
      "  self[name] = value\n"
     ]
    }
   ],
   "source": [
    "dic = {'Affluent': '1' , 'Adversity': \"2\", 'Comfortable': \"3\", 'ACORN-U': \"4\"}\n",
    "\n",
    "df_gr.Acorn_grouped_x = df_gr.Acorn_grouped_x.map(dic)"
   ]
  },
  {
   "cell_type": "code",
   "execution_count": 434,
   "metadata": {
    "collapsed": false
   },
   "outputs": [
    {
     "data": {
      "text/plain": [
       "(1737, 340)"
      ]
     },
     "execution_count": 434,
     "metadata": {},
     "output_type": "execute_result"
    }
   ],
   "source": [
    "df_gr.shape"
   ]
  },
  {
   "cell_type": "markdown",
   "metadata": {},
   "source": [
    "## Lasso "
   ]
  },
  {
   "cell_type": "code",
   "execution_count": 419,
   "metadata": {
    "collapsed": false
   },
   "outputs": [
    {
     "name": "stdout",
     "output_type": "stream",
     "text": [
      "0.00502701307697 [-0.         -0.         -0.         -0.         -0.         -0.         -0.\n",
      " -0.         -0.         -0.         -0.         -0.          0.          0.\n",
      "  0.          0.          0.         -0.         -0.         -0.06575405\n",
      " -0.         -0.         -0.         -0.         -0.         -0.0704331\n",
      " -0.24826    -0.02954469 -0.         -0.          0.          0.         -0.\n",
      "  0.          0.          0.         -0.          0.         -0.         -0.\n",
      " -0.         -0.         -0.          0.         -0.         -0.         -0.\n",
      " -0.         -0.         -0.         -0.         -0.         -0.         -0.\n",
      " -0.         -0.         -0.         -0.         -0.         -0.          0.\n",
      "  0.         -0.         -0.          0.          0.          0.          0.\n",
      " -0.         -0.         -0.         -0.         -0.         -0.         -0.\n",
      " -0.         -0.         -0.         -0.         -0.         -0.         -0.\n",
      " -0.         -0.          0.          0.          0.          0.         -0.\n",
      "  0.          0.03151226 -0.         -0.         -0.          0.          0.\n",
      " -0.         -0.         -0.         -0.         -0.         -0.         -0.\n",
      " -0.         -0.         -0.         -0.         -0.          0.          0.\n",
      " -0.         -0.00695083 -0.04047796 -0.         -0.         -0.         -0.\n",
      " -0.         -0.         -0.         -0.         -0.04955359 -0.          0.\n",
      "  0.          0.         -0.         -0.         -0.         -0.         -0.\n",
      " -0.         -0.         -0.         -0.05687633 -0.020523   -0.         -0.\n",
      "  0.          0.         -0.         -0.         -0.         -0.         -0.\n",
      " -0.         -0.04282037 -0.         -0.         -0.         -0.         -0.\n",
      " -0.         -0.         -0.         -0.         -0.         -0.         -0.\n",
      " -0.         -0.         -0.         -0.09352304 -0.         -0.         -0.\n",
      " -0.          0.          0.         -0.         -0.         -0.         -0.\n",
      " -0.         -0.0125255  -0.          0.          0.04063322  0.08412241\n",
      "  0.         -0.          0.         -0.         -0.16683257 -0.         -0.\n",
      "  0.         -0.         -0.          0.         -0.         -0.         -0.\n",
      " -0.         -0.         -0.         -0.         -0.         -0.\n",
      " -0.07717966 -0.         -0.         -0.         -0.         -0.         -0.\n",
      " -0.          0.          0.         -0.         -0.13191183 -0.05530937\n",
      " -0.         -0.         -0.         -0.          0.         -0.         -0.\n",
      " -0.         -0.         -0.         -0.         -0.          0.         -0.\n",
      "  0.          0.15452489  0.          0.04120958  0.          0.         -0.\n",
      "  0.          0.          0.          0.         -0.         -0.          0.\n",
      " -0.         -0.         -0.         -0.         -0.         -0.         -0.\n",
      " -0.         -0.         -0.         -0.         -0.         -0.         -0.\n",
      "  0.          0.          0.          0.          0.         -0.         -0.\n",
      "  0.          0.          0.          0.          0.18911378  0.          0.\n",
      "  0.08008174  0.         -0.          0.         -0.          0.\n",
      "  0.01845115  0.          0.03701793 -0.          0.          0.         -0.\n",
      "  0.          0.          0.          0.          0.          0.          0.\n",
      " -0.         -0.         -0.         -0.         -0.         -0.         -0.\n",
      " -0.         -0.         -0.         -0.         -0.         -0.         -0.\n",
      " -0.         -0.         -0.          0.          0.         -0.          0.\n",
      "  0.24218574  0.          0.          0.          0.          0.          0.\n",
      "  0.          0.          0.          0.13755168  0.          0.02442025\n",
      "  0.01060958  0.          0.         -0.         -0.         -0.\n",
      " -0.29697492 -0.         -0.         -0.         -0.         -0.         -0.\n",
      "  0.        ]\n"
     ]
    }
   ],
   "source": [
    "from sklearn import linear_model\n",
    "\n",
    "lambdas = np.linspace(-6,1,100)\n",
    "lambdas=[np.exp(i) for i in lambdas]\n",
    "for i in lambdas:\n",
    "\n",
    "    Lasso=linear_model.Lasso(fit_intercept=True,alpha= i)\n",
    "    #try Ridge with a selected regularization parameter lambda\n",
    "\n",
    "    Lasso.fit(X_train,y_train)\n",
    "    # In the sample:\n",
    "    p_IS=Lasso.predict(X_train)\n",
    "\n",
    "\n",
    "    Lasso_coef= Lasso.coef_\n",
    "    #Out of sample\n",
    "    p_OS=Lasso.predict(X_test)\n",
    "\n",
    "    #print(\"The R-squared we found for OS Lasso is: {0}\".format(R_2_OS_Lasso))\n",
    "\n",
    "    n = Lasso.coef_.nonzero()\n",
    "    if len(n[0]) == 30:\n",
    "        print i, Lasso.coef_\n",
    "        break"
   ]
  },
  {
   "cell_type": "code",
   "execution_count": 713,
   "metadata": {
    "collapsed": false
   },
   "outputs": [],
   "source": [
    "train = df_gr.iloc[:, 2:-2].T\n",
    "train[\"lasso\"] = Lasso.coef_\n",
    "train = train[train[\"lasso\"] != 0].T"
   ]
  },
  {
   "cell_type": "code",
   "execution_count": 717,
   "metadata": {
    "collapsed": false
   },
   "outputs": [
    {
     "data": {
      "text/html": [
       "<div>\n",
       "<table border=\"1\" class=\"dataframe\">\n",
       "  <thead>\n",
       "    <tr style=\"text-align: right;\">\n",
       "      <th></th>\n",
       "      <th>(0, 09:30:00)</th>\n",
       "      <th>(0, 12:30:00)</th>\n",
       "      <th>(0, 13:00:00)</th>\n",
       "      <th>(0, 13:30:00)</th>\n",
       "      <th>(1, 21:00:00)</th>\n",
       "      <th>(2, 07:30:00)</th>\n",
       "      <th>(2, 08:00:00)</th>\n",
       "      <th>(2, 12:30:00)</th>\n",
       "      <th>(2, 19:00:00)</th>\n",
       "      <th>(2, 19:30:00)</th>\n",
       "      <th>...</th>\n",
       "      <th>(4, 18:30:00)</th>\n",
       "      <th>(5, 12:30:00)</th>\n",
       "      <th>(5, 14:00:00)</th>\n",
       "      <th>(5, 17:00:00)</th>\n",
       "      <th>(5, 18:00:00)</th>\n",
       "      <th>(6, 10:30:00)</th>\n",
       "      <th>(6, 15:30:00)</th>\n",
       "      <th>(6, 16:30:00)</th>\n",
       "      <th>(6, 17:00:00)</th>\n",
       "      <th>(6, 20:00:00)</th>\n",
       "    </tr>\n",
       "  </thead>\n",
       "  <tbody>\n",
       "    <tr>\n",
       "      <th>1741</th>\n",
       "      <td>-0.248405</td>\n",
       "      <td>-0.256101</td>\n",
       "      <td>-0.311679</td>\n",
       "      <td>-0.462169</td>\n",
       "      <td>0.278310</td>\n",
       "      <td>-0.342675</td>\n",
       "      <td>-0.000118</td>\n",
       "      <td>-0.271064</td>\n",
       "      <td>0.649190</td>\n",
       "      <td>0.521466</td>\n",
       "      <td>...</td>\n",
       "      <td>0.057598</td>\n",
       "      <td>-0.452229</td>\n",
       "      <td>0.017517</td>\n",
       "      <td>0.960217</td>\n",
       "      <td>0.333354</td>\n",
       "      <td>-0.317665</td>\n",
       "      <td>-0.228739</td>\n",
       "      <td>0.533116</td>\n",
       "      <td>0.568174</td>\n",
       "      <td>0.655390</td>\n",
       "    </tr>\n",
       "    <tr>\n",
       "      <th>1742</th>\n",
       "      <td>0.056166</td>\n",
       "      <td>0.171479</td>\n",
       "      <td>0.268447</td>\n",
       "      <td>0.326978</td>\n",
       "      <td>0.662435</td>\n",
       "      <td>-0.648382</td>\n",
       "      <td>-0.698613</td>\n",
       "      <td>-0.060895</td>\n",
       "      <td>0.074511</td>\n",
       "      <td>0.452337</td>\n",
       "      <td>...</td>\n",
       "      <td>0.517856</td>\n",
       "      <td>0.439233</td>\n",
       "      <td>0.366071</td>\n",
       "      <td>0.492741</td>\n",
       "      <td>0.643434</td>\n",
       "      <td>0.375898</td>\n",
       "      <td>0.114696</td>\n",
       "      <td>0.425693</td>\n",
       "      <td>0.471993</td>\n",
       "      <td>0.816186</td>\n",
       "    </tr>\n",
       "    <tr>\n",
       "      <th>1743</th>\n",
       "      <td>-0.311382</td>\n",
       "      <td>0.439921</td>\n",
       "      <td>-0.032064</td>\n",
       "      <td>-0.143607</td>\n",
       "      <td>0.670074</td>\n",
       "      <td>0.301337</td>\n",
       "      <td>-0.241015</td>\n",
       "      <td>1.813161</td>\n",
       "      <td>-0.125784</td>\n",
       "      <td>-0.065865</td>\n",
       "      <td>...</td>\n",
       "      <td>-0.090447</td>\n",
       "      <td>0.140782</td>\n",
       "      <td>0.050902</td>\n",
       "      <td>1.165182</td>\n",
       "      <td>0.168438</td>\n",
       "      <td>-0.396192</td>\n",
       "      <td>1.452106</td>\n",
       "      <td>2.496094</td>\n",
       "      <td>-0.071242</td>\n",
       "      <td>-0.112725</td>\n",
       "    </tr>\n",
       "    <tr>\n",
       "      <th>1744</th>\n",
       "      <td>-0.698044</td>\n",
       "      <td>-0.156257</td>\n",
       "      <td>-0.415592</td>\n",
       "      <td>-0.360691</td>\n",
       "      <td>0.290175</td>\n",
       "      <td>0.656062</td>\n",
       "      <td>1.365803</td>\n",
       "      <td>-0.408549</td>\n",
       "      <td>0.343632</td>\n",
       "      <td>0.747263</td>\n",
       "      <td>...</td>\n",
       "      <td>0.715659</td>\n",
       "      <td>-0.682152</td>\n",
       "      <td>-0.603593</td>\n",
       "      <td>0.056485</td>\n",
       "      <td>0.367109</td>\n",
       "      <td>0.290175</td>\n",
       "      <td>-0.351300</td>\n",
       "      <td>1.350633</td>\n",
       "      <td>1.085518</td>\n",
       "      <td>0.923705</td>\n",
       "    </tr>\n",
       "    <tr>\n",
       "      <th>1745</th>\n",
       "      <td>-0.618916</td>\n",
       "      <td>-0.651833</td>\n",
       "      <td>-0.601191</td>\n",
       "      <td>-0.398621</td>\n",
       "      <td>0.756025</td>\n",
       "      <td>-0.548966</td>\n",
       "      <td>-0.626512</td>\n",
       "      <td>-0.446099</td>\n",
       "      <td>1.394436</td>\n",
       "      <td>0.755076</td>\n",
       "      <td>...</td>\n",
       "      <td>0.560419</td>\n",
       "      <td>1.149137</td>\n",
       "      <td>-0.047290</td>\n",
       "      <td>0.169523</td>\n",
       "      <td>-0.091602</td>\n",
       "      <td>0.826925</td>\n",
       "      <td>1.586561</td>\n",
       "      <td>0.763622</td>\n",
       "      <td>0.875035</td>\n",
       "      <td>1.324486</td>\n",
       "    </tr>\n",
       "  </tbody>\n",
       "</table>\n",
       "<p>5 rows × 30 columns</p>\n",
       "</div>"
      ],
      "text/plain": [
       "      (0, 09:30:00)  (0, 12:30:00)  (0, 13:00:00)  (0, 13:30:00)  \\\n",
       "1741      -0.248405      -0.256101      -0.311679      -0.462169   \n",
       "1742       0.056166       0.171479       0.268447       0.326978   \n",
       "1743      -0.311382       0.439921      -0.032064      -0.143607   \n",
       "1744      -0.698044      -0.156257      -0.415592      -0.360691   \n",
       "1745      -0.618916      -0.651833      -0.601191      -0.398621   \n",
       "\n",
       "      (1, 21:00:00)  (2, 07:30:00)  (2, 08:00:00)  (2, 12:30:00)  \\\n",
       "1741       0.278310      -0.342675      -0.000118      -0.271064   \n",
       "1742       0.662435      -0.648382      -0.698613      -0.060895   \n",
       "1743       0.670074       0.301337      -0.241015       1.813161   \n",
       "1744       0.290175       0.656062       1.365803      -0.408549   \n",
       "1745       0.756025      -0.548966      -0.626512      -0.446099   \n",
       "\n",
       "      (2, 19:00:00)  (2, 19:30:00)      ...        (4, 18:30:00)  \\\n",
       "1741       0.649190       0.521466      ...             0.057598   \n",
       "1742       0.074511       0.452337      ...             0.517856   \n",
       "1743      -0.125784      -0.065865      ...            -0.090447   \n",
       "1744       0.343632       0.747263      ...             0.715659   \n",
       "1745       1.394436       0.755076      ...             0.560419   \n",
       "\n",
       "      (5, 12:30:00)  (5, 14:00:00)  (5, 17:00:00)  (5, 18:00:00)  \\\n",
       "1741      -0.452229       0.017517       0.960217       0.333354   \n",
       "1742       0.439233       0.366071       0.492741       0.643434   \n",
       "1743       0.140782       0.050902       1.165182       0.168438   \n",
       "1744      -0.682152      -0.603593       0.056485       0.367109   \n",
       "1745       1.149137      -0.047290       0.169523      -0.091602   \n",
       "\n",
       "      (6, 10:30:00)  (6, 15:30:00)  (6, 16:30:00)  (6, 17:00:00)  \\\n",
       "1741      -0.317665      -0.228739       0.533116       0.568174   \n",
       "1742       0.375898       0.114696       0.425693       0.471993   \n",
       "1743      -0.396192       1.452106       2.496094      -0.071242   \n",
       "1744       0.290175      -0.351300       1.350633       1.085518   \n",
       "1745       0.826925       1.586561       0.763622       0.875035   \n",
       "\n",
       "      (6, 20:00:00)  \n",
       "1741       0.655390  \n",
       "1742       0.816186  \n",
       "1743      -0.112725  \n",
       "1744       0.923705  \n",
       "1745       1.324486  \n",
       "\n",
       "[5 rows x 30 columns]"
      ]
     },
     "execution_count": 717,
     "metadata": {},
     "output_type": "execute_result"
    }
   ],
   "source": [
    "train.iloc[:-1,:].tail()"
   ]
  },
  {
   "cell_type": "code",
   "execution_count": 721,
   "metadata": {
    "collapsed": false
   },
   "outputs": [
    {
     "data": {
      "text/plain": [
       "(1737, 30)"
      ]
     },
     "execution_count": 721,
     "metadata": {},
     "output_type": "execute_result"
    }
   ],
   "source": [
    "train = train.dropna()\n",
    "train.shape"
   ]
  },
  {
   "cell_type": "markdown",
   "metadata": {},
   "source": [
    "### Logistic regression on Normalized data of regularized 30 Lasso coef"
   ]
  },
  {
   "cell_type": "code",
   "execution_count": 730,
   "metadata": {
    "collapsed": false
   },
   "outputs": [
    {
     "data": {
      "text/plain": [
       "array([[43, 35,  9],\n",
       "       [37, 42, 12],\n",
       "       [28, 25,  5]])"
      ]
     },
     "execution_count": 730,
     "metadata": {},
     "output_type": "execute_result"
    }
   ],
   "source": [
    "logit.fit(np.c_[train.iloc[:1500,:]], df_gr.Acorn_grouped_x[:1500])\n",
    "\n",
    "predlabels = logit.predict(train.iloc[1500:-1,:])\n",
    "predlabels = predlabels.astype(str)\n",
    "\n",
    "truelabels = df_gr.Acorn_grouped_x[1500:-1]\n",
    "\n",
    "mat = confusion_matrix(truelabels, predlabels)\n",
    "mat\n"
   ]
  },
  {
   "cell_type": "code",
   "execution_count": 736,
   "metadata": {
    "collapsed": true
   },
   "outputs": [],
   "source": [
    "acc = 100*float(mat[0][0]+mat[1][1]+mat[2][2])/np.sum(mat)"
   ]
  },
  {
   "cell_type": "code",
   "execution_count": 738,
   "metadata": {
    "collapsed": false
   },
   "outputs": [
    {
     "name": "stdout",
     "output_type": "stream",
     "text": [
      "The accuracy of logistic regression is 38.1356%\n"
     ]
    }
   ],
   "source": [
    "print (\"The accuracy of logistic regression is %0.4f%%\"%acc)"
   ]
  },
  {
   "cell_type": "code",
   "execution_count": null,
   "metadata": {
    "collapsed": true
   },
   "outputs": [],
   "source": []
  }
 ],
 "metadata": {
  "anaconda-cloud": {},
  "kernelspec": {
   "display_name": "PUI2016_Python2",
   "language": "python",
   "name": "pui2016_python2"
  },
  "language_info": {
   "codemirror_mode": {
    "name": "ipython",
    "version": 2
   },
   "file_extension": ".py",
   "mimetype": "text/x-python",
   "name": "python",
   "nbconvert_exporter": "python",
   "pygments_lexer": "ipython2",
   "version": "2.7.12"
  }
 },
 "nbformat": 4,
 "nbformat_minor": 0
}
