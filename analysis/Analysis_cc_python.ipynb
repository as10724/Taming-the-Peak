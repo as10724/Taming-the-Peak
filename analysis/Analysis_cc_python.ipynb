{
 "cells": [
  {
   "cell_type": "code",
   "execution_count": 1,
   "metadata": {
    "collapsed": false
   },
   "outputs": [
    {
     "name": "stdout",
     "output_type": "stream",
     "text": [
      "Populating the interactive namespace from numpy and matplotlib\n"
     ]
    }
   ],
   "source": [
    "from __future__ import print_function, division\n",
    "import pandas as pd\n",
    "import pylab as pl\n",
    "import os\n",
    "import csv\n",
    "import seaborn\n",
    "import statsmodels.formula.api as smf\n",
    "import scipy.stats\n",
    "import numpy as np\n",
    "%pylab inline"
   ]
  },
  {
   "cell_type": "code",
   "execution_count": 2,
   "metadata": {
    "collapsed": false
   },
   "outputs": [],
   "source": [
    "data = pd.read_csv('../Final_Data/final1213.csv', parse_dates=[\"Datetime\"])"
   ]
  },
  {
   "cell_type": "code",
   "execution_count": 5,
   "metadata": {
    "collapsed": false
   },
   "outputs": [
    {
     "data": {
      "text/html": [
       "<div>\n",
       "<table border=\"1\" class=\"dataframe\">\n",
       "  <thead>\n",
       "    <tr style=\"text-align: right;\">\n",
       "      <th></th>\n",
       "      <th>Datetime</th>\n",
       "      <th>Dew_Point_F</th>\n",
       "      <th>Humidity</th>\n",
       "      <th>Temperature_F</th>\n",
       "      <th>Wind_Speed_MPH</th>\n",
       "      <th>Low_Income</th>\n",
       "      <th>High_Income</th>\n",
       "      <th>Middle_Income</th>\n",
       "      <th>Overall</th>\n",
       "    </tr>\n",
       "  </thead>\n",
       "  <tbody>\n",
       "    <tr>\n",
       "      <th>0</th>\n",
       "      <td>2012-01-01 00:00:00</td>\n",
       "      <td>50.0</td>\n",
       "      <td>88</td>\n",
       "      <td>53.6</td>\n",
       "      <td>13.8</td>\n",
       "      <td>0.221192</td>\n",
       "      <td>0.268072</td>\n",
       "      <td>0.190114</td>\n",
       "      <td>0.231749</td>\n",
       "    </tr>\n",
       "    <tr>\n",
       "      <th>1</th>\n",
       "      <td>2012-01-01 01:00:00</td>\n",
       "      <td>50.0</td>\n",
       "      <td>88</td>\n",
       "      <td>53.6</td>\n",
       "      <td>15.0</td>\n",
       "      <td>0.616456</td>\n",
       "      <td>0.633311</td>\n",
       "      <td>0.355447</td>\n",
       "      <td>0.550101</td>\n",
       "    </tr>\n",
       "    <tr>\n",
       "      <th>2</th>\n",
       "      <td>2012-01-01 02:00:00</td>\n",
       "      <td>51.8</td>\n",
       "      <td>94</td>\n",
       "      <td>53.6</td>\n",
       "      <td>13.8</td>\n",
       "      <td>0.483976</td>\n",
       "      <td>0.570036</td>\n",
       "      <td>0.296605</td>\n",
       "      <td>0.466764</td>\n",
       "    </tr>\n",
       "    <tr>\n",
       "      <th>3</th>\n",
       "      <td>2012-01-01 03:00:00</td>\n",
       "      <td>51.0</td>\n",
       "      <td>92</td>\n",
       "      <td>53.0</td>\n",
       "      <td>13.8</td>\n",
       "      <td>0.375616</td>\n",
       "      <td>0.489018</td>\n",
       "      <td>0.236228</td>\n",
       "      <td>0.383123</td>\n",
       "    </tr>\n",
       "    <tr>\n",
       "      <th>4</th>\n",
       "      <td>2012-01-01 04:00:00</td>\n",
       "      <td>50.0</td>\n",
       "      <td>88</td>\n",
       "      <td>53.6</td>\n",
       "      <td>10.4</td>\n",
       "      <td>0.324936</td>\n",
       "      <td>0.376808</td>\n",
       "      <td>0.206053</td>\n",
       "      <td>0.312892</td>\n",
       "    </tr>\n",
       "  </tbody>\n",
       "</table>\n",
       "</div>"
      ],
      "text/plain": [
       "             Datetime  Dew_Point_F  Humidity  Temperature_F  Wind_Speed_MPH  \\\n",
       "0 2012-01-01 00:00:00         50.0        88           53.6            13.8   \n",
       "1 2012-01-01 01:00:00         50.0        88           53.6            15.0   \n",
       "2 2012-01-01 02:00:00         51.8        94           53.6            13.8   \n",
       "3 2012-01-01 03:00:00         51.0        92           53.0            13.8   \n",
       "4 2012-01-01 04:00:00         50.0        88           53.6            10.4   \n",
       "\n",
       "   Low_Income  High_Income  Middle_Income   Overall  \n",
       "0    0.221192     0.268072       0.190114  0.231749  \n",
       "1    0.616456     0.633311       0.355447  0.550101  \n",
       "2    0.483976     0.570036       0.296605  0.466764  \n",
       "3    0.375616     0.489018       0.236228  0.383123  \n",
       "4    0.324936     0.376808       0.206053  0.312892  "
      ]
     },
     "execution_count": 5,
     "metadata": {},
     "output_type": "execute_result"
    }
   ],
   "source": [
    "data.head()"
   ]
  },
  {
   "cell_type": "code",
   "execution_count": 3,
   "metadata": {
    "collapsed": false
   },
   "outputs": [],
   "source": [
    "low_list = [0,1,2,3,4,5,8]\n",
    "medium_list = [0,1,2,3,4,7,8]\n",
    "high_list = [0,1,2,3,4,6,8]\n",
    "Low = data.iloc[:,low_list]\n",
    "Medium = data.iloc[:,medium_list]\n",
    "High = data.iloc[:,high_list]"
   ]
  },
  {
   "cell_type": "code",
   "execution_count": 4,
   "metadata": {
    "collapsed": false
   },
   "outputs": [],
   "source": [
    "Low = Low.rename(columns = {'Low_Income':'Consumption'})\n",
    "Medium = Medium.rename(columns = {'Middle_Income':'Consumption'})\n",
    "High = High.rename(columns = {'High_Income':'Consumption'})"
   ]
  },
  {
   "cell_type": "code",
   "execution_count": 6,
   "metadata": {
    "collapsed": false
   },
   "outputs": [],
   "source": [
    "Low.insert(6, \"Income\", 1)\n",
    "Medium.insert(6, \"Income\", 2)\n",
    "High.insert(6, \"Income\", 3)"
   ]
  },
  {
   "cell_type": "code",
   "execution_count": 16,
   "metadata": {
    "collapsed": false
   },
   "outputs": [
    {
     "name": "stdout",
     "output_type": "stream",
     "text": [
      "<class 'pandas.core.frame.DataFrame'>\n",
      "RangeIndex: 17504 entries, 0 to 17503\n",
      "Data columns (total 9 columns):\n",
      "Datetime          17504 non-null datetime64[ns]\n",
      "Dew_Point_F       17504 non-null float64\n",
      "Humidity          17504 non-null int64\n",
      "Temperature_F     17504 non-null float64\n",
      "Wind_Speed_MPH    17293 non-null float64\n",
      "Low_Income        17504 non-null float64\n",
      "High_Income       17504 non-null float64\n",
      "Middle_Income     17504 non-null float64\n",
      "Overall           17504 non-null float64\n",
      "dtypes: datetime64[ns](1), float64(7), int64(1)\n",
      "memory usage: 1.2 MB\n"
     ]
    }
   ],
   "source": [
    "data.info()"
   ]
  },
  {
   "cell_type": "code",
   "execution_count": null,
   "metadata": {
    "collapsed": true
   },
   "outputs": [],
   "source": [
    "#import pandasql as ps # pip install pandasql"
   ]
  },
  {
   "cell_type": "code",
   "execution_count": 25,
   "metadata": {
    "collapsed": false
   },
   "outputs": [],
   "source": [
    "# q = 'select * from High union select * from Medium union select * from Low'\n",
    "# data = ps.sqldf(q, globals())"
   ]
  },
  {
   "cell_type": "code",
   "execution_count": 17,
   "metadata": {
    "collapsed": false
   },
   "outputs": [],
   "source": [
    "# data.Consumption = data.Consumption.astype(float)\n",
    "# data.Overall = data.Overall.astype(float)\n",
    "# Diff = Consumption - Overall"
   ]
  },
  {
   "cell_type": "code",
   "execution_count": 18,
   "metadata": {
    "collapsed": true
   },
   "outputs": [],
   "source": [
    "# data['Diff'] = Diff\n",
    "# data['Diff_perc'] = data.Diff/data.Overall"
   ]
  },
  {
   "cell_type": "code",
   "execution_count": 22,
   "metadata": {
    "collapsed": false
   },
   "outputs": [
    {
     "data": {
      "text/html": [
       "<div>\n",
       "<table border=\"1\" class=\"dataframe\">\n",
       "  <thead>\n",
       "    <tr style=\"text-align: right;\">\n",
       "      <th></th>\n",
       "      <th>Datetime</th>\n",
       "      <th>Dew_Point_F</th>\n",
       "      <th>Humidity</th>\n",
       "      <th>Temperature_F</th>\n",
       "      <th>Wind_Speed_MPH</th>\n",
       "      <th>Consumption</th>\n",
       "      <th>Income</th>\n",
       "      <th>Overall</th>\n",
       "    </tr>\n",
       "  </thead>\n",
       "  <tbody>\n",
       "    <tr>\n",
       "      <th>0</th>\n",
       "      <td>2012-01-01 00:00:00</td>\n",
       "      <td>50.0</td>\n",
       "      <td>88</td>\n",
       "      <td>53.6</td>\n",
       "      <td>13.8</td>\n",
       "      <td>0.221192</td>\n",
       "      <td>1</td>\n",
       "      <td>0.231749</td>\n",
       "    </tr>\n",
       "    <tr>\n",
       "      <th>0</th>\n",
       "      <td>2012-01-01 00:00:00</td>\n",
       "      <td>50.0</td>\n",
       "      <td>88</td>\n",
       "      <td>53.6</td>\n",
       "      <td>13.8</td>\n",
       "      <td>0.190114</td>\n",
       "      <td>2</td>\n",
       "      <td>0.231749</td>\n",
       "    </tr>\n",
       "    <tr>\n",
       "      <th>0</th>\n",
       "      <td>2012-01-01 00:00:00</td>\n",
       "      <td>50.0</td>\n",
       "      <td>88</td>\n",
       "      <td>53.6</td>\n",
       "      <td>13.8</td>\n",
       "      <td>0.268072</td>\n",
       "      <td>3</td>\n",
       "      <td>0.231749</td>\n",
       "    </tr>\n",
       "    <tr>\n",
       "      <th>1</th>\n",
       "      <td>2012-01-01 01:00:00</td>\n",
       "      <td>50.0</td>\n",
       "      <td>88</td>\n",
       "      <td>53.6</td>\n",
       "      <td>15.0</td>\n",
       "      <td>0.616456</td>\n",
       "      <td>1</td>\n",
       "      <td>0.550101</td>\n",
       "    </tr>\n",
       "    <tr>\n",
       "      <th>1</th>\n",
       "      <td>2012-01-01 01:00:00</td>\n",
       "      <td>50.0</td>\n",
       "      <td>88</td>\n",
       "      <td>53.6</td>\n",
       "      <td>15.0</td>\n",
       "      <td>0.355447</td>\n",
       "      <td>2</td>\n",
       "      <td>0.550101</td>\n",
       "    </tr>\n",
       "  </tbody>\n",
       "</table>\n",
       "</div>"
      ],
      "text/plain": [
       "             Datetime  Dew_Point_F  Humidity  Temperature_F  Wind_Speed_MPH  \\\n",
       "0 2012-01-01 00:00:00         50.0        88           53.6            13.8   \n",
       "0 2012-01-01 00:00:00         50.0        88           53.6            13.8   \n",
       "0 2012-01-01 00:00:00         50.0        88           53.6            13.8   \n",
       "1 2012-01-01 01:00:00         50.0        88           53.6            15.0   \n",
       "1 2012-01-01 01:00:00         50.0        88           53.6            15.0   \n",
       "\n",
       "   Consumption  Income   Overall  \n",
       "0     0.221192       1  0.231749  \n",
       "0     0.190114       2  0.231749  \n",
       "0     0.268072       3  0.231749  \n",
       "1     0.616456       1  0.550101  \n",
       "1     0.355447       2  0.550101  "
      ]
     },
     "execution_count": 22,
     "metadata": {},
     "output_type": "execute_result"
    }
   ],
   "source": [
    "reshaped = pd.concat([Low, Medium, High], axis=0)\n",
    "reshaped.sort_values(by=['Datetime', 'Income'], inplace=True)\n",
    "reshaped.head()"
   ]
  },
  {
   "cell_type": "code",
   "execution_count": 23,
   "metadata": {
    "collapsed": true
   },
   "outputs": [],
   "source": [
    "import datetime"
   ]
  },
  {
   "cell_type": "code",
   "execution_count": 25,
   "metadata": {
    "collapsed": false
   },
   "outputs": [],
   "source": [
    "#data[\"Datetime\"] = data[\"Datetime\"].apply(lambda x:datetime.datetime.strptime(x, '%Y-%m-%d %H:%M:%S.%f'))"
   ]
  },
  {
   "cell_type": "code",
   "execution_count": 31,
   "metadata": {
    "collapsed": false
   },
   "outputs": [],
   "source": [
    "reshaped[\"Month\"] = reshaped[\"Datetime\"].dt.month\n",
    "reshaped[\"DayofWeek\"] = reshaped[\"Datetime\"].dt.dayofweek\n",
    "reshaped[\"Hour\"] = reshaped[\"Datetime\"].dt.hour\n",
    "reshaped[\"WeekofYear\"] = reshaped[\"Datetime\"].dt.weekofyear\n",
    "reshaped[\"Year\"] = reshaped[\"Datetime\"].dt.year"
   ]
  },
  {
   "cell_type": "code",
   "execution_count": 32,
   "metadata": {
    "collapsed": false
   },
   "outputs": [],
   "source": [
    "\n",
    "reshaped.to_csv('../Final_Data/final1213_reshaped_v2.csv')"
   ]
  },
  {
   "cell_type": "code",
   "execution_count": 33,
   "metadata": {
    "collapsed": false
   },
   "outputs": [
    {
     "data": {
      "text/html": [
       "<div>\n",
       "<table border=\"1\" class=\"dataframe\">\n",
       "  <thead>\n",
       "    <tr style=\"text-align: right;\">\n",
       "      <th></th>\n",
       "      <th>Datetime</th>\n",
       "      <th>Dew_Point_F</th>\n",
       "      <th>Humidity</th>\n",
       "      <th>Temperature_F</th>\n",
       "      <th>Wind_Speed_MPH</th>\n",
       "      <th>Consumption</th>\n",
       "      <th>Income</th>\n",
       "      <th>Overall</th>\n",
       "      <th>Month</th>\n",
       "      <th>DayofWeek</th>\n",
       "      <th>Hour</th>\n",
       "      <th>WeekofYear</th>\n",
       "      <th>Year</th>\n",
       "    </tr>\n",
       "  </thead>\n",
       "  <tbody>\n",
       "    <tr>\n",
       "      <th>0</th>\n",
       "      <td>2012-01-01 00:00:00</td>\n",
       "      <td>50.0</td>\n",
       "      <td>88</td>\n",
       "      <td>53.6</td>\n",
       "      <td>13.8</td>\n",
       "      <td>0.221192</td>\n",
       "      <td>1</td>\n",
       "      <td>0.231749</td>\n",
       "      <td>1</td>\n",
       "      <td>6</td>\n",
       "      <td>0</td>\n",
       "      <td>52</td>\n",
       "      <td>2012</td>\n",
       "    </tr>\n",
       "    <tr>\n",
       "      <th>0</th>\n",
       "      <td>2012-01-01 00:00:00</td>\n",
       "      <td>50.0</td>\n",
       "      <td>88</td>\n",
       "      <td>53.6</td>\n",
       "      <td>13.8</td>\n",
       "      <td>0.190114</td>\n",
       "      <td>2</td>\n",
       "      <td>0.231749</td>\n",
       "      <td>1</td>\n",
       "      <td>6</td>\n",
       "      <td>0</td>\n",
       "      <td>52</td>\n",
       "      <td>2012</td>\n",
       "    </tr>\n",
       "    <tr>\n",
       "      <th>0</th>\n",
       "      <td>2012-01-01 00:00:00</td>\n",
       "      <td>50.0</td>\n",
       "      <td>88</td>\n",
       "      <td>53.6</td>\n",
       "      <td>13.8</td>\n",
       "      <td>0.268072</td>\n",
       "      <td>3</td>\n",
       "      <td>0.231749</td>\n",
       "      <td>1</td>\n",
       "      <td>6</td>\n",
       "      <td>0</td>\n",
       "      <td>52</td>\n",
       "      <td>2012</td>\n",
       "    </tr>\n",
       "    <tr>\n",
       "      <th>1</th>\n",
       "      <td>2012-01-01 01:00:00</td>\n",
       "      <td>50.0</td>\n",
       "      <td>88</td>\n",
       "      <td>53.6</td>\n",
       "      <td>15.0</td>\n",
       "      <td>0.616456</td>\n",
       "      <td>1</td>\n",
       "      <td>0.550101</td>\n",
       "      <td>1</td>\n",
       "      <td>6</td>\n",
       "      <td>1</td>\n",
       "      <td>52</td>\n",
       "      <td>2012</td>\n",
       "    </tr>\n",
       "    <tr>\n",
       "      <th>1</th>\n",
       "      <td>2012-01-01 01:00:00</td>\n",
       "      <td>50.0</td>\n",
       "      <td>88</td>\n",
       "      <td>53.6</td>\n",
       "      <td>15.0</td>\n",
       "      <td>0.355447</td>\n",
       "      <td>2</td>\n",
       "      <td>0.550101</td>\n",
       "      <td>1</td>\n",
       "      <td>6</td>\n",
       "      <td>1</td>\n",
       "      <td>52</td>\n",
       "      <td>2012</td>\n",
       "    </tr>\n",
       "  </tbody>\n",
       "</table>\n",
       "</div>"
      ],
      "text/plain": [
       "             Datetime  Dew_Point_F  Humidity  Temperature_F  Wind_Speed_MPH  \\\n",
       "0 2012-01-01 00:00:00         50.0        88           53.6            13.8   \n",
       "0 2012-01-01 00:00:00         50.0        88           53.6            13.8   \n",
       "0 2012-01-01 00:00:00         50.0        88           53.6            13.8   \n",
       "1 2012-01-01 01:00:00         50.0        88           53.6            15.0   \n",
       "1 2012-01-01 01:00:00         50.0        88           53.6            15.0   \n",
       "\n",
       "   Consumption  Income   Overall  Month  DayofWeek  Hour  WeekofYear  Year  \n",
       "0     0.221192       1  0.231749      1          6     0          52  2012  \n",
       "0     0.190114       2  0.231749      1          6     0          52  2012  \n",
       "0     0.268072       3  0.231749      1          6     0          52  2012  \n",
       "1     0.616456       1  0.550101      1          6     1          52  2012  \n",
       "1     0.355447       2  0.550101      1          6     1          52  2012  "
      ]
     },
     "execution_count": 33,
     "metadata": {},
     "output_type": "execute_result"
    }
   ],
   "source": [
    "reshaped.head()"
   ]
  }
 ],
 "metadata": {
  "kernelspec": {
   "display_name": "Python 2",
   "language": "python",
   "name": "python2"
  },
  "language_info": {
   "codemirror_mode": {
    "name": "ipython",
    "version": 2
   },
   "file_extension": ".py",
   "mimetype": "text/x-python",
   "name": "python",
   "nbconvert_exporter": "python",
   "pygments_lexer": "ipython2",
   "version": "2.7.11"
  }
 },
 "nbformat": 4,
 "nbformat_minor": 0
}
