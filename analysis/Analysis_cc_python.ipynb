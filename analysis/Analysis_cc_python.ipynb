{
 "cells": [
  {
   "cell_type": "code",
   "execution_count": 1,
   "metadata": {
    "collapsed": false
   },
   "outputs": [
    {
     "name": "stdout",
     "output_type": "stream",
     "text": [
      "Populating the interactive namespace from numpy and matplotlib\n"
     ]
    }
   ],
   "source": [
    "from __future__ import print_function, division\n",
    "import pandas as pd\n",
    "import pylab as pl\n",
    "import os\n",
    "import csv\n",
    "import seaborn\n",
    "import statsmodels.formula.api as smf\n",
    "import scipy.stats\n",
    "import numpy as np\n",
    "%pylab inline"
   ]
  },
  {
   "cell_type": "markdown",
   "metadata": {},
   "source": [
    "## Getting the data"
   ]
  },
  {
   "cell_type": "code",
   "execution_count": 41,
   "metadata": {
    "collapsed": false
   },
   "outputs": [
    {
     "data": {
      "text/html": [
       "<div>\n",
       "<table border=\"1\" class=\"dataframe\">\n",
       "  <thead>\n",
       "    <tr style=\"text-align: right;\">\n",
       "      <th></th>\n",
       "      <th>DateTime</th>\n",
       "      <th>Dew_Point_F</th>\n",
       "      <th>Humidity</th>\n",
       "      <th>Temperature_F</th>\n",
       "      <th>Wind_Speed_MPH</th>\n",
       "    </tr>\n",
       "  </thead>\n",
       "  <tbody>\n",
       "    <tr>\n",
       "      <th>0</th>\n",
       "      <td>2011-11-01 01:00:00</td>\n",
       "      <td>51.8</td>\n",
       "      <td>88.0</td>\n",
       "      <td>55.4</td>\n",
       "      <td>6.9</td>\n",
       "    </tr>\n",
       "    <tr>\n",
       "      <th>1</th>\n",
       "      <td>2011-11-01 02:00:00</td>\n",
       "      <td>53.6</td>\n",
       "      <td>94.0</td>\n",
       "      <td>55.4</td>\n",
       "      <td>8.1</td>\n",
       "    </tr>\n",
       "    <tr>\n",
       "      <th>2</th>\n",
       "      <td>2011-11-01 03:00:00</td>\n",
       "      <td>53.6</td>\n",
       "      <td>88.0</td>\n",
       "      <td>57.2</td>\n",
       "      <td>9.2</td>\n",
       "    </tr>\n",
       "    <tr>\n",
       "      <th>3</th>\n",
       "      <td>2011-11-01 04:00:00</td>\n",
       "      <td>53.6</td>\n",
       "      <td>88.0</td>\n",
       "      <td>57.2</td>\n",
       "      <td>9.2</td>\n",
       "    </tr>\n",
       "    <tr>\n",
       "      <th>4</th>\n",
       "      <td>2011-11-01 05:00:00</td>\n",
       "      <td>53.6</td>\n",
       "      <td>88.0</td>\n",
       "      <td>57.2</td>\n",
       "      <td>8.1</td>\n",
       "    </tr>\n",
       "  </tbody>\n",
       "</table>\n",
       "</div>"
      ],
      "text/plain": [
       "             DateTime  Dew_Point_F  Humidity  Temperature_F  Wind_Speed_MPH\n",
       "0 2011-11-01 01:00:00         51.8      88.0           55.4             6.9\n",
       "1 2011-11-01 02:00:00         53.6      94.0           55.4             8.1\n",
       "2 2011-11-01 03:00:00         53.6      88.0           57.2             9.2\n",
       "3 2011-11-01 04:00:00         53.6      88.0           57.2             9.2\n",
       "4 2011-11-01 05:00:00         53.6      88.0           57.2             8.1"
      ]
     },
     "execution_count": 41,
     "metadata": {},
     "output_type": "execute_result"
    }
   ],
   "source": [
    "weather = pd.read_csv('../Final_Data/London_weather_data_2011_2014.csv', parse_dates=[1], infer_datetime_format=True)\n",
    "\n",
    "weather['Wind_Speed_MPH'] = pd.to_numeric(weather.Wind_Speed_MPH, errors='coerce')\n",
    "weather.drop('Unnamed: 0', axis=1, inplace=True)\n",
    "\n",
    "weather.rename(columns = {'Datetime':'DateTime'}, inplace=True)\n",
    "\n",
    "weather.head()"
   ]
  },
  {
   "cell_type": "code",
   "execution_count": 42,
   "metadata": {
    "collapsed": false
   },
   "outputs": [
    {
     "name": "stdout",
     "output_type": "stream",
     "text": [
      "<class 'pandas.core.frame.DataFrame'>\n",
      "RangeIndex: 20378 entries, 0 to 20377\n",
      "Data columns (total 5 columns):\n",
      "DateTime          20378 non-null datetime64[ns]\n",
      "Dew_Point_F       20378 non-null float64\n",
      "Humidity          20378 non-null float64\n",
      "Temperature_F     20378 non-null float64\n",
      "Wind_Speed_MPH    20144 non-null float64\n",
      "dtypes: datetime64[ns](1), float64(4)\n",
      "memory usage: 796.1 KB\n"
     ]
    }
   ],
   "source": [
    "weather.info()"
   ]
  },
  {
   "cell_type": "markdown",
   "metadata": {},
   "source": [
    "## Getting Energy Data"
   ]
  },
  {
   "cell_type": "code",
   "execution_count": 37,
   "metadata": {
    "collapsed": false
   },
   "outputs": [
    {
     "data": {
      "text/html": [
       "<div>\n",
       "<table border=\"1\" class=\"dataframe\">\n",
       "  <thead>\n",
       "    <tr style=\"text-align: right;\">\n",
       "      <th></th>\n",
       "      <th>DateTime</th>\n",
       "      <th>Income</th>\n",
       "      <th>stdorToU</th>\n",
       "      <th>Consumption</th>\n",
       "    </tr>\n",
       "  </thead>\n",
       "  <tbody>\n",
       "    <tr>\n",
       "      <th>0</th>\n",
       "      <td>2012-01-01 01:00:00</td>\n",
       "      <td>Adversity</td>\n",
       "      <td>Std</td>\n",
       "      <td>0.613391</td>\n",
       "    </tr>\n",
       "    <tr>\n",
       "      <th>1</th>\n",
       "      <td>2012-01-01 01:00:00</td>\n",
       "      <td>Adversity</td>\n",
       "      <td>ToU</td>\n",
       "      <td>0.638933</td>\n",
       "    </tr>\n",
       "    <tr>\n",
       "      <th>2</th>\n",
       "      <td>2012-01-01 01:00:00</td>\n",
       "      <td>Affluent</td>\n",
       "      <td>Std</td>\n",
       "      <td>0.664042</td>\n",
       "    </tr>\n",
       "    <tr>\n",
       "      <th>3</th>\n",
       "      <td>2012-01-01 01:00:00</td>\n",
       "      <td>Affluent</td>\n",
       "      <td>ToU</td>\n",
       "      <td>0.450208</td>\n",
       "    </tr>\n",
       "    <tr>\n",
       "      <th>4</th>\n",
       "      <td>2012-01-01 01:00:00</td>\n",
       "      <td>Comfortable</td>\n",
       "      <td>Std</td>\n",
       "      <td>0.355763</td>\n",
       "    </tr>\n",
       "  </tbody>\n",
       "</table>\n",
       "</div>"
      ],
      "text/plain": [
       "             DateTime       Income stdorToU  Consumption\n",
       "0 2012-01-01 01:00:00    Adversity      Std     0.613391\n",
       "1 2012-01-01 01:00:00    Adversity      ToU     0.638933\n",
       "2 2012-01-01 01:00:00     Affluent      Std     0.664042\n",
       "3 2012-01-01 01:00:00     Affluent      ToU     0.450208\n",
       "4 2012-01-01 01:00:00  Comfortable      Std     0.355763"
      ]
     },
     "execution_count": 37,
     "metadata": {},
     "output_type": "execute_result"
    }
   ],
   "source": [
    "energy = pd.read_csv('../Final_Data/stdToU.csv', parse_dates=[1], infer_datetime_format=True)\n",
    "\n",
    "energy.drop('Unnamed: 0', axis=1, inplace=True)\n",
    "\n",
    "energy.rename(columns={'Acorn_grouped' : 'Income' , 'energy' : 'Consumption' }, inplace=True)\n",
    "\n",
    "energy.head()"
   ]
  },
  {
   "cell_type": "code",
   "execution_count": 39,
   "metadata": {
    "collapsed": false
   },
   "outputs": [
    {
     "name": "stdout",
     "output_type": "stream",
     "text": [
      "<class 'pandas.core.frame.DataFrame'>\n",
      "RangeIndex: 105258 entries, 0 to 105257\n",
      "Data columns (total 4 columns):\n",
      "DateTime       105258 non-null datetime64[ns]\n",
      "Income         105258 non-null object\n",
      "stdorToU       105258 non-null object\n",
      "Consumption    105258 non-null float64\n",
      "dtypes: datetime64[ns](1), float64(1), object(2)\n",
      "memory usage: 3.2+ MB\n"
     ]
    }
   ],
   "source": [
    "energy.info()"
   ]
  },
  {
   "cell_type": "markdown",
   "metadata": {},
   "source": [
    "## Merging the data"
   ]
  },
  {
   "cell_type": "code",
   "execution_count": 43,
   "metadata": {
    "collapsed": false
   },
   "outputs": [
    {
     "data": {
      "text/html": [
       "<div>\n",
       "<table border=\"1\" class=\"dataframe\">\n",
       "  <thead>\n",
       "    <tr style=\"text-align: right;\">\n",
       "      <th></th>\n",
       "      <th>DateTime</th>\n",
       "      <th>Dew_Point_F</th>\n",
       "      <th>Humidity</th>\n",
       "      <th>Temperature_F</th>\n",
       "      <th>Wind_Speed_MPH</th>\n",
       "      <th>Income</th>\n",
       "      <th>stdorToU</th>\n",
       "      <th>Consumption</th>\n",
       "    </tr>\n",
       "  </thead>\n",
       "  <tbody>\n",
       "    <tr>\n",
       "      <th>0</th>\n",
       "      <td>2012-01-01 01:00:00</td>\n",
       "      <td>50.0</td>\n",
       "      <td>88.0</td>\n",
       "      <td>53.6</td>\n",
       "      <td>15.0</td>\n",
       "      <td>Adversity</td>\n",
       "      <td>Std</td>\n",
       "      <td>0.613391</td>\n",
       "    </tr>\n",
       "    <tr>\n",
       "      <th>1</th>\n",
       "      <td>2012-01-01 01:00:00</td>\n",
       "      <td>50.0</td>\n",
       "      <td>88.0</td>\n",
       "      <td>53.6</td>\n",
       "      <td>15.0</td>\n",
       "      <td>Adversity</td>\n",
       "      <td>ToU</td>\n",
       "      <td>0.638933</td>\n",
       "    </tr>\n",
       "    <tr>\n",
       "      <th>2</th>\n",
       "      <td>2012-01-01 01:00:00</td>\n",
       "      <td>50.0</td>\n",
       "      <td>88.0</td>\n",
       "      <td>53.6</td>\n",
       "      <td>15.0</td>\n",
       "      <td>Affluent</td>\n",
       "      <td>Std</td>\n",
       "      <td>0.664042</td>\n",
       "    </tr>\n",
       "    <tr>\n",
       "      <th>3</th>\n",
       "      <td>2012-01-01 01:00:00</td>\n",
       "      <td>50.0</td>\n",
       "      <td>88.0</td>\n",
       "      <td>53.6</td>\n",
       "      <td>15.0</td>\n",
       "      <td>Affluent</td>\n",
       "      <td>ToU</td>\n",
       "      <td>0.450208</td>\n",
       "    </tr>\n",
       "    <tr>\n",
       "      <th>4</th>\n",
       "      <td>2012-01-01 01:00:00</td>\n",
       "      <td>50.0</td>\n",
       "      <td>88.0</td>\n",
       "      <td>53.6</td>\n",
       "      <td>15.0</td>\n",
       "      <td>Comfortable</td>\n",
       "      <td>Std</td>\n",
       "      <td>0.355763</td>\n",
       "    </tr>\n",
       "  </tbody>\n",
       "</table>\n",
       "</div>"
      ],
      "text/plain": [
       "             DateTime  Dew_Point_F  Humidity  Temperature_F  Wind_Speed_MPH  \\\n",
       "0 2012-01-01 01:00:00         50.0      88.0           53.6            15.0   \n",
       "1 2012-01-01 01:00:00         50.0      88.0           53.6            15.0   \n",
       "2 2012-01-01 01:00:00         50.0      88.0           53.6            15.0   \n",
       "3 2012-01-01 01:00:00         50.0      88.0           53.6            15.0   \n",
       "4 2012-01-01 01:00:00         50.0      88.0           53.6            15.0   \n",
       "\n",
       "        Income stdorToU  Consumption  \n",
       "0    Adversity      Std     0.613391  \n",
       "1    Adversity      ToU     0.638933  \n",
       "2     Affluent      Std     0.664042  \n",
       "3     Affluent      ToU     0.450208  \n",
       "4  Comfortable      Std     0.355763  "
      ]
     },
     "execution_count": 43,
     "metadata": {},
     "output_type": "execute_result"
    }
   ],
   "source": [
    "data = pd.merge(weather, energy, on='DateTime')\n",
    "data.head()"
   ]
  },
  {
   "cell_type": "code",
   "execution_count": 21,
   "metadata": {
    "collapsed": false
   },
   "outputs": [],
   "source": [
    "# low_list = [0,1,2,3,4,5,8]\n",
    "# medium_list = [0,1,2,3,4,7,8]\n",
    "# high_list = [0,1,2,3,4,6,8]\n",
    "# Low = data.iloc[:,low_list]\n",
    "# Medium = data.iloc[:,medium_list]\n",
    "# High = data.iloc[:,high_list]"
   ]
  },
  {
   "cell_type": "code",
   "execution_count": 9,
   "metadata": {
    "collapsed": false
   },
   "outputs": [],
   "source": [
    "# Low = Low.rename(columns = {'Low_Income':'Consumption'})\n",
    "# Medium = Medium.rename(columns = {'Middle_Income':'Consumption'})\n",
    "# High = High.rename(columns = {'High_Income':'Consumption'})"
   ]
  },
  {
   "cell_type": "code",
   "execution_count": 10,
   "metadata": {
    "collapsed": false
   },
   "outputs": [],
   "source": [
    "# Low.insert(6, \"Income\", 1)\n",
    "# Medium.insert(6, \"Income\", 2)\n",
    "# High.insert(6, \"Income\", 3)"
   ]
  },
  {
   "cell_type": "code",
   "execution_count": 44,
   "metadata": {
    "collapsed": false
   },
   "outputs": [
    {
     "name": "stdout",
     "output_type": "stream",
     "text": [
      "<class 'pandas.core.frame.DataFrame'>\n",
      "Int64Index: 105018 entries, 0 to 105017\n",
      "Data columns (total 8 columns):\n",
      "DateTime          105018 non-null datetime64[ns]\n",
      "Dew_Point_F       105018 non-null float64\n",
      "Humidity          105018 non-null float64\n",
      "Temperature_F     105018 non-null float64\n",
      "Wind_Speed_MPH    103752 non-null float64\n",
      "Income            105018 non-null object\n",
      "stdorToU          105018 non-null object\n",
      "Consumption       105018 non-null float64\n",
      "dtypes: datetime64[ns](1), float64(5), object(2)\n",
      "memory usage: 7.2+ MB\n"
     ]
    }
   ],
   "source": [
    "data.info()"
   ]
  },
  {
   "cell_type": "code",
   "execution_count": null,
   "metadata": {
    "collapsed": true
   },
   "outputs": [],
   "source": [
    "#import pandasql as ps # pip install pandasql"
   ]
  },
  {
   "cell_type": "code",
   "execution_count": 25,
   "metadata": {
    "collapsed": false
   },
   "outputs": [],
   "source": [
    "# q = 'select * from High union select * from Medium union select * from Low'\n",
    "# data = ps.sqldf(q, globals())"
   ]
  },
  {
   "cell_type": "code",
   "execution_count": 17,
   "metadata": {
    "collapsed": false
   },
   "outputs": [],
   "source": [
    "# data.Consumption = data.Consumption.astype(float)\n",
    "# data.Overall = data.Overall.astype(float)\n",
    "# Diff = Consumption - Overall"
   ]
  },
  {
   "cell_type": "code",
   "execution_count": 18,
   "metadata": {
    "collapsed": true
   },
   "outputs": [],
   "source": [
    "# data['Diff'] = Diff\n",
    "# data['Diff_perc'] = data.Diff/data.Overall"
   ]
  },
  {
   "cell_type": "code",
   "execution_count": 45,
   "metadata": {
    "collapsed": false
   },
   "outputs": [
    {
     "data": {
      "text/html": [
       "<div>\n",
       "<table border=\"1\" class=\"dataframe\">\n",
       "  <thead>\n",
       "    <tr style=\"text-align: right;\">\n",
       "      <th></th>\n",
       "      <th>DateTime</th>\n",
       "      <th>Dew_Point_F</th>\n",
       "      <th>Humidity</th>\n",
       "      <th>Temperature_F</th>\n",
       "      <th>Wind_Speed_MPH</th>\n",
       "      <th>Income</th>\n",
       "      <th>stdorToU</th>\n",
       "      <th>Consumption</th>\n",
       "    </tr>\n",
       "  </thead>\n",
       "  <tbody>\n",
       "    <tr>\n",
       "      <th>0</th>\n",
       "      <td>2012-01-01 01:00:00</td>\n",
       "      <td>50.0</td>\n",
       "      <td>88.0</td>\n",
       "      <td>53.6</td>\n",
       "      <td>15.0</td>\n",
       "      <td>Adversity</td>\n",
       "      <td>Std</td>\n",
       "      <td>0.613391</td>\n",
       "    </tr>\n",
       "    <tr>\n",
       "      <th>1</th>\n",
       "      <td>2012-01-01 01:00:00</td>\n",
       "      <td>50.0</td>\n",
       "      <td>88.0</td>\n",
       "      <td>53.6</td>\n",
       "      <td>15.0</td>\n",
       "      <td>Adversity</td>\n",
       "      <td>ToU</td>\n",
       "      <td>0.638933</td>\n",
       "    </tr>\n",
       "    <tr>\n",
       "      <th>2</th>\n",
       "      <td>2012-01-01 01:00:00</td>\n",
       "      <td>50.0</td>\n",
       "      <td>88.0</td>\n",
       "      <td>53.6</td>\n",
       "      <td>15.0</td>\n",
       "      <td>Affluent</td>\n",
       "      <td>Std</td>\n",
       "      <td>0.664042</td>\n",
       "    </tr>\n",
       "    <tr>\n",
       "      <th>3</th>\n",
       "      <td>2012-01-01 01:00:00</td>\n",
       "      <td>50.0</td>\n",
       "      <td>88.0</td>\n",
       "      <td>53.6</td>\n",
       "      <td>15.0</td>\n",
       "      <td>Affluent</td>\n",
       "      <td>ToU</td>\n",
       "      <td>0.450208</td>\n",
       "    </tr>\n",
       "    <tr>\n",
       "      <th>4</th>\n",
       "      <td>2012-01-01 01:00:00</td>\n",
       "      <td>50.0</td>\n",
       "      <td>88.0</td>\n",
       "      <td>53.6</td>\n",
       "      <td>15.0</td>\n",
       "      <td>Comfortable</td>\n",
       "      <td>Std</td>\n",
       "      <td>0.355763</td>\n",
       "    </tr>\n",
       "  </tbody>\n",
       "</table>\n",
       "</div>"
      ],
      "text/plain": [
       "             DateTime  Dew_Point_F  Humidity  Temperature_F  Wind_Speed_MPH  \\\n",
       "0 2012-01-01 01:00:00         50.0      88.0           53.6            15.0   \n",
       "1 2012-01-01 01:00:00         50.0      88.0           53.6            15.0   \n",
       "2 2012-01-01 01:00:00         50.0      88.0           53.6            15.0   \n",
       "3 2012-01-01 01:00:00         50.0      88.0           53.6            15.0   \n",
       "4 2012-01-01 01:00:00         50.0      88.0           53.6            15.0   \n",
       "\n",
       "        Income stdorToU  Consumption  \n",
       "0    Adversity      Std     0.613391  \n",
       "1    Adversity      ToU     0.638933  \n",
       "2     Affluent      Std     0.664042  \n",
       "3     Affluent      ToU     0.450208  \n",
       "4  Comfortable      Std     0.355763  "
      ]
     },
     "execution_count": 45,
     "metadata": {},
     "output_type": "execute_result"
    }
   ],
   "source": [
    "# reshaped = pd.concat([Low, Medium, High], axis=0)\n",
    "# reshaped.sort_values(by=['Datetime', 'Income'], inplace=True)\n",
    "reshaped = data\n",
    "reshaped.head()"
   ]
  },
  {
   "cell_type": "code",
   "execution_count": 29,
   "metadata": {
    "collapsed": true
   },
   "outputs": [],
   "source": [
    "import datetime"
   ]
  },
  {
   "cell_type": "code",
   "execution_count": 46,
   "metadata": {
    "collapsed": false
   },
   "outputs": [],
   "source": [
    "#reshaped[\"DateTime\"] = reshaped[\"DateTime\"].apply(lambda x:datetime.datetime.strptime(x, '%Y-%m-%d %H:%M:%S.%f'))"
   ]
  },
  {
   "cell_type": "code",
   "execution_count": 47,
   "metadata": {
    "collapsed": false
   },
   "outputs": [],
   "source": [
    "reshaped[\"Month\"] = reshaped[\"DateTime\"].dt.month\n",
    "reshaped[\"DayofWeek\"] = reshaped[\"DateTime\"].dt.dayofweek\n",
    "reshaped[\"Hour\"] = reshaped[\"DateTime\"].dt.hour\n",
    "reshaped[\"WeekofYear\"] = reshaped[\"DateTime\"].dt.weekofyear\n",
    "reshaped[\"Year\"] = reshaped[\"DateTime\"].dt.year"
   ]
  },
  {
   "cell_type": "code",
   "execution_count": 48,
   "metadata": {
    "collapsed": false
   },
   "outputs": [],
   "source": [
    "\n",
    "reshaped.to_csv('../Final_Data/final1213_reshaped_v3.csv')"
   ]
  },
  {
   "cell_type": "code",
   "execution_count": 49,
   "metadata": {
    "collapsed": false
   },
   "outputs": [
    {
     "data": {
      "text/html": [
       "<div>\n",
       "<table border=\"1\" class=\"dataframe\">\n",
       "  <thead>\n",
       "    <tr style=\"text-align: right;\">\n",
       "      <th></th>\n",
       "      <th>DateTime</th>\n",
       "      <th>Dew_Point_F</th>\n",
       "      <th>Humidity</th>\n",
       "      <th>Temperature_F</th>\n",
       "      <th>Wind_Speed_MPH</th>\n",
       "      <th>Income</th>\n",
       "      <th>stdorToU</th>\n",
       "      <th>Consumption</th>\n",
       "      <th>Month</th>\n",
       "      <th>DayofWeek</th>\n",
       "      <th>Hour</th>\n",
       "      <th>WeekofYear</th>\n",
       "      <th>Year</th>\n",
       "    </tr>\n",
       "  </thead>\n",
       "  <tbody>\n",
       "    <tr>\n",
       "      <th>0</th>\n",
       "      <td>2012-01-01 01:00:00</td>\n",
       "      <td>50.0</td>\n",
       "      <td>88.0</td>\n",
       "      <td>53.6</td>\n",
       "      <td>15.0</td>\n",
       "      <td>Adversity</td>\n",
       "      <td>Std</td>\n",
       "      <td>0.613391</td>\n",
       "      <td>1</td>\n",
       "      <td>6</td>\n",
       "      <td>1</td>\n",
       "      <td>52</td>\n",
       "      <td>2012</td>\n",
       "    </tr>\n",
       "    <tr>\n",
       "      <th>1</th>\n",
       "      <td>2012-01-01 01:00:00</td>\n",
       "      <td>50.0</td>\n",
       "      <td>88.0</td>\n",
       "      <td>53.6</td>\n",
       "      <td>15.0</td>\n",
       "      <td>Adversity</td>\n",
       "      <td>ToU</td>\n",
       "      <td>0.638933</td>\n",
       "      <td>1</td>\n",
       "      <td>6</td>\n",
       "      <td>1</td>\n",
       "      <td>52</td>\n",
       "      <td>2012</td>\n",
       "    </tr>\n",
       "    <tr>\n",
       "      <th>2</th>\n",
       "      <td>2012-01-01 01:00:00</td>\n",
       "      <td>50.0</td>\n",
       "      <td>88.0</td>\n",
       "      <td>53.6</td>\n",
       "      <td>15.0</td>\n",
       "      <td>Affluent</td>\n",
       "      <td>Std</td>\n",
       "      <td>0.664042</td>\n",
       "      <td>1</td>\n",
       "      <td>6</td>\n",
       "      <td>1</td>\n",
       "      <td>52</td>\n",
       "      <td>2012</td>\n",
       "    </tr>\n",
       "    <tr>\n",
       "      <th>3</th>\n",
       "      <td>2012-01-01 01:00:00</td>\n",
       "      <td>50.0</td>\n",
       "      <td>88.0</td>\n",
       "      <td>53.6</td>\n",
       "      <td>15.0</td>\n",
       "      <td>Affluent</td>\n",
       "      <td>ToU</td>\n",
       "      <td>0.450208</td>\n",
       "      <td>1</td>\n",
       "      <td>6</td>\n",
       "      <td>1</td>\n",
       "      <td>52</td>\n",
       "      <td>2012</td>\n",
       "    </tr>\n",
       "    <tr>\n",
       "      <th>4</th>\n",
       "      <td>2012-01-01 01:00:00</td>\n",
       "      <td>50.0</td>\n",
       "      <td>88.0</td>\n",
       "      <td>53.6</td>\n",
       "      <td>15.0</td>\n",
       "      <td>Comfortable</td>\n",
       "      <td>Std</td>\n",
       "      <td>0.355763</td>\n",
       "      <td>1</td>\n",
       "      <td>6</td>\n",
       "      <td>1</td>\n",
       "      <td>52</td>\n",
       "      <td>2012</td>\n",
       "    </tr>\n",
       "  </tbody>\n",
       "</table>\n",
       "</div>"
      ],
      "text/plain": [
       "             DateTime  Dew_Point_F  Humidity  Temperature_F  Wind_Speed_MPH  \\\n",
       "0 2012-01-01 01:00:00         50.0      88.0           53.6            15.0   \n",
       "1 2012-01-01 01:00:00         50.0      88.0           53.6            15.0   \n",
       "2 2012-01-01 01:00:00         50.0      88.0           53.6            15.0   \n",
       "3 2012-01-01 01:00:00         50.0      88.0           53.6            15.0   \n",
       "4 2012-01-01 01:00:00         50.0      88.0           53.6            15.0   \n",
       "\n",
       "        Income stdorToU  Consumption  Month  DayofWeek  Hour  WeekofYear  Year  \n",
       "0    Adversity      Std     0.613391      1          6     1          52  2012  \n",
       "1    Adversity      ToU     0.638933      1          6     1          52  2012  \n",
       "2     Affluent      Std     0.664042      1          6     1          52  2012  \n",
       "3     Affluent      ToU     0.450208      1          6     1          52  2012  \n",
       "4  Comfortable      Std     0.355763      1          6     1          52  2012  "
      ]
     },
     "execution_count": 49,
     "metadata": {},
     "output_type": "execute_result"
    }
   ],
   "source": [
    "reshaped.head()"
   ]
  }
 ],
 "metadata": {
  "kernelspec": {
   "display_name": "Python 2",
   "language": "python",
   "name": "python2"
  },
  "language_info": {
   "codemirror_mode": {
    "name": "ipython",
    "version": 2
   },
   "file_extension": ".py",
   "mimetype": "text/x-python",
   "name": "python",
   "nbconvert_exporter": "python",
   "pygments_lexer": "ipython2",
   "version": "2.7.11"
  }
 },
 "nbformat": 4,
 "nbformat_minor": 0
}
