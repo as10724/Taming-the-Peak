{
 "cells": [
  {
   "cell_type": "code",
   "execution_count": 1,
   "metadata": {
    "collapsed": false
   },
   "outputs": [
    {
     "name": "stdout",
     "output_type": "stream",
     "text": [
      "Populating the interactive namespace from numpy and matplotlib\n"
     ]
    }
   ],
   "source": [
    "from __future__ import print_function, division\n",
    "import pandas as pd\n",
    "import pylab as pl\n",
    "import os\n",
    "import csv\n",
    "import seaborn\n",
    "import statsmodels.formula.api as smf\n",
    "import scipy.stats\n",
    "%pylab inline"
   ]
  },
  {
   "cell_type": "code",
   "execution_count": 3,
   "metadata": {
    "collapsed": false
   },
   "outputs": [
    {
     "name": "stderr",
     "output_type": "stream",
     "text": [
      "/Users/CCY/anaconda2/lib/python2.7/site-packages/ipykernel/__main__.py:2: FutureWarning: convert_objects is deprecated.  Use the data-type specific converters pd.to_datetime, pd.to_timedelta and pd.to_numeric.\n",
      "  from ipykernel import kernelapp as app\n"
     ]
    },
    {
     "data": {
      "text/plain": [
       "Index([u'Unnamed: 0', u'Datetime', u'Dew_Point_F', u'Temperature_F',\n",
       "       u'Wind_Speed_MPH'],\n",
       "      dtype='object')"
      ]
     },
     "execution_count": 3,
     "metadata": {},
     "output_type": "execute_result"
    }
   ],
   "source": [
    "weather = pd.read_csv('../Final_Data/London_weather_hourly_winter_2013-14_(00).csv', parse_dates=[0], infer_datetime_format=True)\n",
    "weather.iloc[:,1:].convert_objects(convert_numeric=True)\n",
    "weather.columns"
   ]
  },
  {
   "cell_type": "code",
   "execution_count": 7,
   "metadata": {
    "collapsed": false
   },
   "outputs": [
    {
     "name": "stderr",
     "output_type": "stream",
     "text": [
      "/Users/CCY/anaconda2/lib/python2.7/site-packages/ipykernel/__main__.py:2: FutureWarning: convert_objects is deprecated.  Use the data-type specific converters pd.to_datetime, pd.to_timedelta and pd.to_numeric.\n",
      "  from ipykernel import kernelapp as app\n"
     ]
    },
    {
     "data": {
      "text/plain": [
       "Index([u'DateTime', u'Unnamed: 1', u'Unnamed: 2', u'Unnamed: 3'], dtype='object')"
      ]
     },
     "execution_count": 7,
     "metadata": {},
     "output_type": "execute_result"
    }
   ],
   "source": [
    "energy = pd.read_csv('../Final_Data/energy_final_2013_14.csv', skiprows=2, parse_dates=[0], infer_datetime_format=True)\n",
    "energy.iloc[:,1:].convert_objects(convert_numeric=True)\n",
    "energy.columns"
   ]
  },
  {
   "cell_type": "code",
   "execution_count": 8,
   "metadata": {
    "collapsed": true
   },
   "outputs": [],
   "source": [
    "energy.index = pd.DatetimeIndex(energy.DateTime)"
   ]
  },
  {
   "cell_type": "code",
   "execution_count": 10,
   "metadata": {
    "collapsed": false
   },
   "outputs": [
    {
     "data": {
      "text/html": [
       "<div>\n",
       "<table border=\"1\" class=\"dataframe\">\n",
       "  <thead>\n",
       "    <tr style=\"text-align: right;\">\n",
       "      <th></th>\n",
       "      <th>DateTime</th>\n",
       "      <th>Unnamed: 1</th>\n",
       "      <th>Unnamed: 2</th>\n",
       "      <th>Unnamed: 3</th>\n",
       "    </tr>\n",
       "    <tr>\n",
       "      <th>DateTime</th>\n",
       "      <th></th>\n",
       "      <th></th>\n",
       "      <th></th>\n",
       "      <th></th>\n",
       "    </tr>\n",
       "  </thead>\n",
       "  <tbody>\n",
       "    <tr>\n",
       "      <th>2013-12-01 01:00:00</th>\n",
       "      <td>2013-12-01 01:00:00</td>\n",
       "      <td>0.386444</td>\n",
       "      <td>0.479599</td>\n",
       "      <td>0.424813</td>\n",
       "    </tr>\n",
       "    <tr>\n",
       "      <th>2013-12-01 02:00:00</th>\n",
       "      <td>2013-12-01 02:00:00</td>\n",
       "      <td>0.301773</td>\n",
       "      <td>0.381671</td>\n",
       "      <td>0.314566</td>\n",
       "    </tr>\n",
       "    <tr>\n",
       "      <th>2013-12-01 03:00:00</th>\n",
       "      <td>2013-12-01 03:00:00</td>\n",
       "      <td>0.253057</td>\n",
       "      <td>0.335496</td>\n",
       "      <td>0.263379</td>\n",
       "    </tr>\n",
       "    <tr>\n",
       "      <th>2013-12-01 04:00:00</th>\n",
       "      <td>2013-12-01 04:00:00</td>\n",
       "      <td>0.229611</td>\n",
       "      <td>0.312186</td>\n",
       "      <td>0.252521</td>\n",
       "    </tr>\n",
       "    <tr>\n",
       "      <th>2013-12-01 05:00:00</th>\n",
       "      <td>2013-12-01 05:00:00</td>\n",
       "      <td>0.217060</td>\n",
       "      <td>0.305041</td>\n",
       "      <td>0.253142</td>\n",
       "    </tr>\n",
       "  </tbody>\n",
       "</table>\n",
       "</div>"
      ],
      "text/plain": [
       "                               DateTime  Unnamed: 1  Unnamed: 2  Unnamed: 3\n",
       "DateTime                                                                   \n",
       "2013-12-01 01:00:00 2013-12-01 01:00:00    0.386444    0.479599    0.424813\n",
       "2013-12-01 02:00:00 2013-12-01 02:00:00    0.301773    0.381671    0.314566\n",
       "2013-12-01 03:00:00 2013-12-01 03:00:00    0.253057    0.335496    0.263379\n",
       "2013-12-01 04:00:00 2013-12-01 04:00:00    0.229611    0.312186    0.252521\n",
       "2013-12-01 05:00:00 2013-12-01 05:00:00    0.217060    0.305041    0.253142"
      ]
     },
     "execution_count": 10,
     "metadata": {},
     "output_type": "execute_result"
    }
   ],
   "source": [
    "energy.head()"
   ]
  },
  {
   "cell_type": "code",
   "execution_count": null,
   "metadata": {
    "collapsed": true
   },
   "outputs": [],
   "source": []
  }
 ],
 "metadata": {
  "kernelspec": {
   "display_name": "Python 2",
   "language": "python",
   "name": "python2"
  },
  "language_info": {
   "codemirror_mode": {
    "name": "ipython",
    "version": 2
   },
   "file_extension": ".py",
   "mimetype": "text/x-python",
   "name": "python",
   "nbconvert_exporter": "python",
   "pygments_lexer": "ipython2",
   "version": "2.7.11"
  }
 },
 "nbformat": 4,
 "nbformat_minor": 0
}
