{
 "cells": [
  {
   "cell_type": "code",
   "execution_count": 1,
   "metadata": {
    "collapsed": true
   },
   "outputs": [],
   "source": [
    "import numpy as np\n",
    "import pandas as pd\n",
    "import datetime as DT"
   ]
  },
  {
   "cell_type": "code",
   "execution_count": 2,
   "metadata": {
    "collapsed": false
   },
   "outputs": [
    {
     "data": {
      "text/html": [
       "<div>\n",
       "<table border=\"1\" class=\"dataframe\">\n",
       "  <thead>\n",
       "    <tr style=\"text-align: right;\">\n",
       "      <th></th>\n",
       "      <th>DateTime</th>\n",
       "      <th>Acorn_grouped</th>\n",
       "      <th>stdorToU</th>\n",
       "      <th>LCLid</th>\n",
       "      <th>energy_sum</th>\n",
       "      <th>KWH/h (per hour)</th>\n",
       "    </tr>\n",
       "  </thead>\n",
       "  <tbody>\n",
       "    <tr>\n",
       "      <th>0</th>\n",
       "      <td>2013-12-01 01:00:00</td>\n",
       "      <td>Adversity</td>\n",
       "      <td>Std</td>\n",
       "      <td>1404</td>\n",
       "      <td>572.822504</td>\n",
       "      <td>0.407993</td>\n",
       "    </tr>\n",
       "    <tr>\n",
       "      <th>1</th>\n",
       "      <td>2013-12-01 01:00:00</td>\n",
       "      <td>Adversity</td>\n",
       "      <td>ToU</td>\n",
       "      <td>280</td>\n",
       "      <td>77.949276</td>\n",
       "      <td>0.278390</td>\n",
       "    </tr>\n",
       "    <tr>\n",
       "      <th>2</th>\n",
       "      <td>2013-12-01 01:00:00</td>\n",
       "      <td>Affluent</td>\n",
       "      <td>Std</td>\n",
       "      <td>1527</td>\n",
       "      <td>783.538336</td>\n",
       "      <td>0.513123</td>\n",
       "    </tr>\n",
       "    <tr>\n",
       "      <th>3</th>\n",
       "      <td>2013-12-01 01:00:00</td>\n",
       "      <td>Affluent</td>\n",
       "      <td>ToU</td>\n",
       "      <td>458</td>\n",
       "      <td>168.465478</td>\n",
       "      <td>0.367829</td>\n",
       "    </tr>\n",
       "    <tr>\n",
       "      <th>4</th>\n",
       "      <td>2013-12-01 01:00:00</td>\n",
       "      <td>Comfortable</td>\n",
       "      <td>Std</td>\n",
       "      <td>1113</td>\n",
       "      <td>507.370649</td>\n",
       "      <td>0.455859</td>\n",
       "    </tr>\n",
       "  </tbody>\n",
       "</table>\n",
       "</div>"
      ],
      "text/plain": [
       "             DateTime Acorn_grouped stdorToU  LCLid  energy_sum  \\\n",
       "0 2013-12-01 01:00:00     Adversity      Std   1404  572.822504   \n",
       "1 2013-12-01 01:00:00     Adversity      ToU    280   77.949276   \n",
       "2 2013-12-01 01:00:00      Affluent      Std   1527  783.538336   \n",
       "3 2013-12-01 01:00:00      Affluent      ToU    458  168.465478   \n",
       "4 2013-12-01 01:00:00   Comfortable      Std   1113  507.370649   \n",
       "\n",
       "   KWH/h (per hour)  \n",
       "0          0.407993  \n",
       "1          0.278390  \n",
       "2          0.513123  \n",
       "3          0.367829  \n",
       "4          0.455859  "
      ]
     },
     "execution_count": 2,
     "metadata": {},
     "output_type": "execute_result"
    }
   ],
   "source": [
    "# get the rouped energy data\n",
    "\n",
    "df = pd.read_csv(\"Final_Data/nrg_winter1314_hourly_grouped.csv\",\n",
    "                               parse_dates=[0], infer_datetime_format=True)\n",
    "\n",
    "df.head()"
   ]
  },
  {
   "cell_type": "code",
   "execution_count": 3,
   "metadata": {
    "collapsed": false
   },
   "outputs": [
    {
     "data": {
      "text/plain": [
       "2136"
      ]
     },
     "execution_count": 3,
     "metadata": {},
     "output_type": "execute_result"
    }
   ],
   "source": [
    "len(df.DateTime.unique())"
   ]
  },
  {
   "cell_type": "code",
   "execution_count": 8,
   "metadata": {
    "collapsed": false
   },
   "outputs": [
    {
     "data": {
      "text/html": [
       "<div>\n",
       "<table border=\"1\" class=\"dataframe\">\n",
       "  <thead>\n",
       "    <tr style=\"text-align: right;\">\n",
       "      <th></th>\n",
       "      <th>DateTime</th>\n",
       "      <th>Acorn_grouped</th>\n",
       "      <th>stdorToU</th>\n",
       "      <th>N</th>\n",
       "      <th>energy_sum</th>\n",
       "      <th>nrg_cons</th>\n",
       "    </tr>\n",
       "  </thead>\n",
       "  <tbody>\n",
       "    <tr>\n",
       "      <th>0</th>\n",
       "      <td>2013-12-01 01:00:00</td>\n",
       "      <td>Adversity</td>\n",
       "      <td>Std</td>\n",
       "      <td>1404</td>\n",
       "      <td>572.822504</td>\n",
       "      <td>0.407993</td>\n",
       "    </tr>\n",
       "    <tr>\n",
       "      <th>1</th>\n",
       "      <td>2013-12-01 01:00:00</td>\n",
       "      <td>Adversity</td>\n",
       "      <td>ToU</td>\n",
       "      <td>280</td>\n",
       "      <td>77.949276</td>\n",
       "      <td>0.278390</td>\n",
       "    </tr>\n",
       "    <tr>\n",
       "      <th>2</th>\n",
       "      <td>2013-12-01 01:00:00</td>\n",
       "      <td>Affluent</td>\n",
       "      <td>Std</td>\n",
       "      <td>1527</td>\n",
       "      <td>783.538336</td>\n",
       "      <td>0.513123</td>\n",
       "    </tr>\n",
       "    <tr>\n",
       "      <th>3</th>\n",
       "      <td>2013-12-01 01:00:00</td>\n",
       "      <td>Affluent</td>\n",
       "      <td>ToU</td>\n",
       "      <td>458</td>\n",
       "      <td>168.465478</td>\n",
       "      <td>0.367829</td>\n",
       "    </tr>\n",
       "    <tr>\n",
       "      <th>4</th>\n",
       "      <td>2013-12-01 01:00:00</td>\n",
       "      <td>Comfortable</td>\n",
       "      <td>Std</td>\n",
       "      <td>1113</td>\n",
       "      <td>507.370649</td>\n",
       "      <td>0.455859</td>\n",
       "    </tr>\n",
       "    <tr>\n",
       "      <th>5</th>\n",
       "      <td>2013-12-01 01:00:00</td>\n",
       "      <td>Comfortable</td>\n",
       "      <td>ToU</td>\n",
       "      <td>299</td>\n",
       "      <td>92.464835</td>\n",
       "      <td>0.309247</td>\n",
       "    </tr>\n",
       "    <tr>\n",
       "      <th>6</th>\n",
       "      <td>2013-12-01 02:00:00</td>\n",
       "      <td>Adversity</td>\n",
       "      <td>Std</td>\n",
       "      <td>1404</td>\n",
       "      <td>451.117209</td>\n",
       "      <td>0.321309</td>\n",
       "    </tr>\n",
       "    <tr>\n",
       "      <th>7</th>\n",
       "      <td>2013-12-01 02:00:00</td>\n",
       "      <td>Adversity</td>\n",
       "      <td>ToU</td>\n",
       "      <td>280</td>\n",
       "      <td>57.067990</td>\n",
       "      <td>0.203814</td>\n",
       "    </tr>\n",
       "    <tr>\n",
       "      <th>8</th>\n",
       "      <td>2013-12-01 02:00:00</td>\n",
       "      <td>Affluent</td>\n",
       "      <td>Std</td>\n",
       "      <td>1527</td>\n",
       "      <td>622.320589</td>\n",
       "      <td>0.407545</td>\n",
       "    </tr>\n",
       "    <tr>\n",
       "      <th>9</th>\n",
       "      <td>2013-12-01 02:00:00</td>\n",
       "      <td>Affluent</td>\n",
       "      <td>ToU</td>\n",
       "      <td>458</td>\n",
       "      <td>135.295797</td>\n",
       "      <td>0.295406</td>\n",
       "    </tr>\n",
       "    <tr>\n",
       "      <th>10</th>\n",
       "      <td>2013-12-01 02:00:00</td>\n",
       "      <td>Comfortable</td>\n",
       "      <td>Std</td>\n",
       "      <td>1113</td>\n",
       "      <td>372.147515</td>\n",
       "      <td>0.334364</td>\n",
       "    </tr>\n",
       "    <tr>\n",
       "      <th>11</th>\n",
       "      <td>2013-12-01 02:00:00</td>\n",
       "      <td>Comfortable</td>\n",
       "      <td>ToU</td>\n",
       "      <td>299</td>\n",
       "      <td>72.020377</td>\n",
       "      <td>0.240871</td>\n",
       "    </tr>\n",
       "    <tr>\n",
       "      <th>12</th>\n",
       "      <td>2013-12-01 03:00:00</td>\n",
       "      <td>Adversity</td>\n",
       "      <td>Std</td>\n",
       "      <td>1404</td>\n",
       "      <td>368.848372</td>\n",
       "      <td>0.262713</td>\n",
       "    </tr>\n",
       "    <tr>\n",
       "      <th>13</th>\n",
       "      <td>2013-12-01 03:00:00</td>\n",
       "      <td>Adversity</td>\n",
       "      <td>ToU</td>\n",
       "      <td>280</td>\n",
       "      <td>57.300218</td>\n",
       "      <td>0.204644</td>\n",
       "    </tr>\n",
       "    <tr>\n",
       "      <th>14</th>\n",
       "      <td>2013-12-01 03:00:00</td>\n",
       "      <td>Affluent</td>\n",
       "      <td>Std</td>\n",
       "      <td>1527</td>\n",
       "      <td>532.470446</td>\n",
       "      <td>0.348704</td>\n",
       "    </tr>\n",
       "    <tr>\n",
       "      <th>15</th>\n",
       "      <td>2013-12-01 03:00:00</td>\n",
       "      <td>Affluent</td>\n",
       "      <td>ToU</td>\n",
       "      <td>458</td>\n",
       "      <td>133.489256</td>\n",
       "      <td>0.291461</td>\n",
       "    </tr>\n",
       "    <tr>\n",
       "      <th>16</th>\n",
       "      <td>2013-12-01 03:00:00</td>\n",
       "      <td>Comfortable</td>\n",
       "      <td>Std</td>\n",
       "      <td>1113</td>\n",
       "      <td>309.250230</td>\n",
       "      <td>0.277853</td>\n",
       "    </tr>\n",
       "    <tr>\n",
       "      <th>17</th>\n",
       "      <td>2013-12-01 03:00:00</td>\n",
       "      <td>Comfortable</td>\n",
       "      <td>ToU</td>\n",
       "      <td>299</td>\n",
       "      <td>62.640597</td>\n",
       "      <td>0.209500</td>\n",
       "    </tr>\n",
       "    <tr>\n",
       "      <th>18</th>\n",
       "      <td>2013-12-01 04:00:00</td>\n",
       "      <td>Adversity</td>\n",
       "      <td>Std</td>\n",
       "      <td>1404</td>\n",
       "      <td>331.706165</td>\n",
       "      <td>0.236258</td>\n",
       "    </tr>\n",
       "    <tr>\n",
       "      <th>19</th>\n",
       "      <td>2013-12-01 04:00:00</td>\n",
       "      <td>Adversity</td>\n",
       "      <td>ToU</td>\n",
       "      <td>280</td>\n",
       "      <td>54.958376</td>\n",
       "      <td>0.196280</td>\n",
       "    </tr>\n",
       "  </tbody>\n",
       "</table>\n",
       "</div>"
      ],
      "text/plain": [
       "              DateTime Acorn_grouped stdorToU     N  energy_sum  nrg_cons\n",
       "0  2013-12-01 01:00:00     Adversity      Std  1404  572.822504  0.407993\n",
       "1  2013-12-01 01:00:00     Adversity      ToU   280   77.949276  0.278390\n",
       "2  2013-12-01 01:00:00      Affluent      Std  1527  783.538336  0.513123\n",
       "3  2013-12-01 01:00:00      Affluent      ToU   458  168.465478  0.367829\n",
       "4  2013-12-01 01:00:00   Comfortable      Std  1113  507.370649  0.455859\n",
       "5  2013-12-01 01:00:00   Comfortable      ToU   299   92.464835  0.309247\n",
       "6  2013-12-01 02:00:00     Adversity      Std  1404  451.117209  0.321309\n",
       "7  2013-12-01 02:00:00     Adversity      ToU   280   57.067990  0.203814\n",
       "8  2013-12-01 02:00:00      Affluent      Std  1527  622.320589  0.407545\n",
       "9  2013-12-01 02:00:00      Affluent      ToU   458  135.295797  0.295406\n",
       "10 2013-12-01 02:00:00   Comfortable      Std  1113  372.147515  0.334364\n",
       "11 2013-12-01 02:00:00   Comfortable      ToU   299   72.020377  0.240871\n",
       "12 2013-12-01 03:00:00     Adversity      Std  1404  368.848372  0.262713\n",
       "13 2013-12-01 03:00:00     Adversity      ToU   280   57.300218  0.204644\n",
       "14 2013-12-01 03:00:00      Affluent      Std  1527  532.470446  0.348704\n",
       "15 2013-12-01 03:00:00      Affluent      ToU   458  133.489256  0.291461\n",
       "16 2013-12-01 03:00:00   Comfortable      Std  1113  309.250230  0.277853\n",
       "17 2013-12-01 03:00:00   Comfortable      ToU   299   62.640597  0.209500\n",
       "18 2013-12-01 04:00:00     Adversity      Std  1404  331.706165  0.236258\n",
       "19 2013-12-01 04:00:00     Adversity      ToU   280   54.958376  0.196280"
      ]
     },
     "execution_count": 8,
     "metadata": {},
     "output_type": "execute_result"
    }
   ],
   "source": [
    "df.rename(columns={\"KWH/h (per hour)\": \"nrg_cons\", \"LCLid\": \"N\"}, inplace=True)\n",
    "df.head(20)"
   ]
  },
  {
   "cell_type": "code",
   "execution_count": 9,
   "metadata": {
    "collapsed": false
   },
   "outputs": [
    {
     "data": {
      "text/plain": [
       "308.43433867107558"
      ]
     },
     "execution_count": 9,
     "metadata": {},
     "output_type": "execute_result"
    }
   ],
   "source": [
    "(df.iloc[3:17,4]*df.iloc[3:17,5]).sum()/df.iloc[3:17,5].sum()"
   ]
  },
  {
   "cell_type": "code",
   "execution_count": 10,
   "metadata": {
    "collapsed": true
   },
   "outputs": [],
   "source": [
    "# Spliting Date and time\n",
    "\n",
    "# temp = pd.DatetimeIndex(grouped_nrg_1314['DateTime'])\n",
    "# grouped_nrg_1314['Date'] = temp.date\n",
    "# grouped_nrg_1314['Time'] = temp.time\n",
    "# del grouped_nrg_1314['DateTime']"
   ]
  },
  {
   "cell_type": "code",
   "execution_count": 11,
   "metadata": {
    "collapsed": false
   },
   "outputs": [
    {
     "data": {
      "text/html": [
       "<div>\n",
       "<table border=\"1\" class=\"dataframe\">\n",
       "  <thead>\n",
       "    <tr style=\"text-align: right;\">\n",
       "      <th></th>\n",
       "      <th></th>\n",
       "      <th>nrg_cons</th>\n",
       "    </tr>\n",
       "    <tr>\n",
       "      <th>DateTime</th>\n",
       "      <th>Acorn_grouped</th>\n",
       "      <th></th>\n",
       "    </tr>\n",
       "  </thead>\n",
       "  <tbody>\n",
       "    <tr>\n",
       "      <th rowspan=\"3\" valign=\"top\">2013-12-01 01:00:00</th>\n",
       "      <th>Adversity</th>\n",
       "      <td>0.386444</td>\n",
       "    </tr>\n",
       "    <tr>\n",
       "      <th>Affluent</th>\n",
       "      <td>0.479599</td>\n",
       "    </tr>\n",
       "    <tr>\n",
       "      <th>Comfortable</th>\n",
       "      <td>0.424813</td>\n",
       "    </tr>\n",
       "    <tr>\n",
       "      <th rowspan=\"2\" valign=\"top\">2013-12-01 02:00:00</th>\n",
       "      <th>Adversity</th>\n",
       "      <td>0.301773</td>\n",
       "    </tr>\n",
       "    <tr>\n",
       "      <th>Affluent</th>\n",
       "      <td>0.381671</td>\n",
       "    </tr>\n",
       "  </tbody>\n",
       "</table>\n",
       "</div>"
      ],
      "text/plain": [
       "                                   nrg_cons\n",
       "DateTime            Acorn_grouped          \n",
       "2013-12-01 01:00:00 Adversity      0.386444\n",
       "                    Affluent       0.479599\n",
       "                    Comfortable    0.424813\n",
       "2013-12-01 02:00:00 Adversity      0.301773\n",
       "                    Affluent       0.381671"
      ]
     },
     "execution_count": 11,
     "metadata": {},
     "output_type": "execute_result"
    }
   ],
   "source": [
    "# Define a lambda function to compute the weighted mean:\n",
    "wm = lambda x: np.average(x, weights=df.loc[x.index, \"N\"])\n",
    "\n",
    "# Define a dictionary with the functions to apply for a given column:\n",
    "f = {'nrg_cons': wm}\n",
    "\n",
    "# Groupby and aggregate with your dictionary:\n",
    "df_grouped = df.groupby([\"DateTime\", \"Acorn_grouped\"]).agg(f)\n",
    "\n",
    "df_grouped.head()\n",
    "\n",
    "#grouped_nrg_1314.groupby('Acorn_grouped').aggregate?\n"
   ]
  },
  {
   "cell_type": "code",
   "execution_count": 12,
   "metadata": {
    "collapsed": false
   },
   "outputs": [
    {
     "data": {
      "text/plain": [
       "('nrg_cons', 'Affluent')"
      ]
     },
     "execution_count": 12,
     "metadata": {},
     "output_type": "execute_result"
    }
   ],
   "source": [
    "df_grouped.unstack(1).columns[1]"
   ]
  },
  {
   "cell_type": "code",
   "execution_count": 16,
   "metadata": {
    "collapsed": false
   },
   "outputs": [
    {
     "data": {
      "text/html": [
       "<div>\n",
       "<table border=\"1\" class=\"dataframe\">\n",
       "  <thead>\n",
       "    <tr>\n",
       "      <th></th>\n",
       "      <th colspan=\"3\" halign=\"left\">nrg_cons</th>\n",
       "    </tr>\n",
       "    <tr>\n",
       "      <th>Acorn_grouped</th>\n",
       "      <th>Adversity</th>\n",
       "      <th>Affluent</th>\n",
       "      <th>Comfortable</th>\n",
       "    </tr>\n",
       "    <tr>\n",
       "      <th>DateTime</th>\n",
       "      <th></th>\n",
       "      <th></th>\n",
       "      <th></th>\n",
       "    </tr>\n",
       "  </thead>\n",
       "  <tbody>\n",
       "    <tr>\n",
       "      <th>2013-12-01 01:00:00</th>\n",
       "      <td>0.386444</td>\n",
       "      <td>0.479599</td>\n",
       "      <td>0.424813</td>\n",
       "    </tr>\n",
       "    <tr>\n",
       "      <th>2013-12-01 02:00:00</th>\n",
       "      <td>0.301773</td>\n",
       "      <td>0.381671</td>\n",
       "      <td>0.314566</td>\n",
       "    </tr>\n",
       "    <tr>\n",
       "      <th>2013-12-01 03:00:00</th>\n",
       "      <td>0.253057</td>\n",
       "      <td>0.335496</td>\n",
       "      <td>0.263379</td>\n",
       "    </tr>\n",
       "    <tr>\n",
       "      <th>2013-12-01 04:00:00</th>\n",
       "      <td>0.229611</td>\n",
       "      <td>0.312186</td>\n",
       "      <td>0.252521</td>\n",
       "    </tr>\n",
       "    <tr>\n",
       "      <th>2013-12-01 05:00:00</th>\n",
       "      <td>0.217060</td>\n",
       "      <td>0.305041</td>\n",
       "      <td>0.253142</td>\n",
       "    </tr>\n",
       "  </tbody>\n",
       "</table>\n",
       "</div>"
      ],
      "text/plain": [
       "                     nrg_cons                      \n",
       "Acorn_grouped       Adversity  Affluent Comfortable\n",
       "DateTime                                           \n",
       "2013-12-01 01:00:00  0.386444  0.479599    0.424813\n",
       "2013-12-01 02:00:00  0.301773  0.381671    0.314566\n",
       "2013-12-01 03:00:00  0.253057  0.335496    0.263379\n",
       "2013-12-01 04:00:00  0.229611  0.312186    0.252521\n",
       "2013-12-01 05:00:00  0.217060  0.305041    0.253142"
      ]
     },
     "execution_count": 16,
     "metadata": {},
     "output_type": "execute_result"
    }
   ],
   "source": [
    "nrg_1314_regress = df_grouped.unstack(1)\n",
    "nrg_1314_regress.head()"
   ]
  },
  {
   "cell_type": "code",
   "execution_count": 17,
   "metadata": {
    "collapsed": false
   },
   "outputs": [
    {
     "data": {
      "text/html": [
       "<div>\n",
       "<table border=\"1\" class=\"dataframe\">\n",
       "  <thead>\n",
       "    <tr>\n",
       "      <th></th>\n",
       "      <th colspan=\"3\" halign=\"left\">nrg_cons</th>\n",
       "    </tr>\n",
       "    <tr>\n",
       "      <th>Acorn_grouped</th>\n",
       "      <th>Adversity</th>\n",
       "      <th>Affluent</th>\n",
       "      <th>Comfortable</th>\n",
       "    </tr>\n",
       "  </thead>\n",
       "  <tbody>\n",
       "    <tr>\n",
       "      <th>count</th>\n",
       "      <td>2136.000000</td>\n",
       "      <td>2136.000000</td>\n",
       "      <td>2136.000000</td>\n",
       "    </tr>\n",
       "    <tr>\n",
       "      <th>mean</th>\n",
       "      <td>0.411049</td>\n",
       "      <td>0.645182</td>\n",
       "      <td>0.479236</td>\n",
       "    </tr>\n",
       "    <tr>\n",
       "      <th>std</th>\n",
       "      <td>0.127788</td>\n",
       "      <td>0.235429</td>\n",
       "      <td>0.162388</td>\n",
       "    </tr>\n",
       "    <tr>\n",
       "      <th>min</th>\n",
       "      <td>0.195915</td>\n",
       "      <td>0.277244</td>\n",
       "      <td>0.210453</td>\n",
       "    </tr>\n",
       "    <tr>\n",
       "      <th>25%</th>\n",
       "      <td>0.324687</td>\n",
       "      <td>0.437052</td>\n",
       "      <td>0.370082</td>\n",
       "    </tr>\n",
       "    <tr>\n",
       "      <th>50%</th>\n",
       "      <td>0.394685</td>\n",
       "      <td>0.637846</td>\n",
       "      <td>0.467080</td>\n",
       "    </tr>\n",
       "    <tr>\n",
       "      <th>75%</th>\n",
       "      <td>0.510501</td>\n",
       "      <td>0.808110</td>\n",
       "      <td>0.593167</td>\n",
       "    </tr>\n",
       "    <tr>\n",
       "      <th>max</th>\n",
       "      <td>0.688483</td>\n",
       "      <td>1.191770</td>\n",
       "      <td>0.844111</td>\n",
       "    </tr>\n",
       "  </tbody>\n",
       "</table>\n",
       "</div>"
      ],
      "text/plain": [
       "                  nrg_cons                          \n",
       "Acorn_grouped    Adversity     Affluent  Comfortable\n",
       "count          2136.000000  2136.000000  2136.000000\n",
       "mean              0.411049     0.645182     0.479236\n",
       "std               0.127788     0.235429     0.162388\n",
       "min               0.195915     0.277244     0.210453\n",
       "25%               0.324687     0.437052     0.370082\n",
       "50%               0.394685     0.637846     0.467080\n",
       "75%               0.510501     0.808110     0.593167\n",
       "max               0.688483     1.191770     0.844111"
      ]
     },
     "execution_count": 17,
     "metadata": {},
     "output_type": "execute_result"
    }
   ],
   "source": [
    "nrg_1314_regress.describe()"
   ]
  },
  {
   "cell_type": "code",
   "execution_count": 18,
   "metadata": {
    "collapsed": false
   },
   "outputs": [],
   "source": [
    "nrg_1314_regress.to_csv('energy_final_2013_14.csv')"
   ]
  },
  {
   "cell_type": "code",
   "execution_count": null,
   "metadata": {
    "collapsed": true
   },
   "outputs": [],
   "source": []
  }
 ],
 "metadata": {
  "kernelspec": {
   "display_name": "PUI2016_Python3",
   "language": "python",
   "name": "pui2016_python3"
  },
  "language_info": {
   "codemirror_mode": {
    "name": "ipython",
    "version": 3
   },
   "file_extension": ".py",
   "mimetype": "text/x-python",
   "name": "python",
   "nbconvert_exporter": "python",
   "pygments_lexer": "ipython3",
   "version": "3.5.2"
  }
 },
 "nbformat": 4,
 "nbformat_minor": 0
}
